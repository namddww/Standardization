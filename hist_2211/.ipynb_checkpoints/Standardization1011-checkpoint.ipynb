{
 "cells": [
  {
   "cell_type": "code",
   "execution_count": 1,
   "id": "4c3665e5",
   "metadata": {},
   "outputs": [],
   "source": [
    "import pandas as pd\n",
    "import numpy as np\n",
    "import os\n",
    "import string\n",
    "import sys\n",
    "import re\n",
    "import datetime as dt\n",
    "# now = dt.datetime.now().strftime('%y%m%d_%H%M%S')\n",
    "pd.set_option('display.max_rows', 500)\n",
    "pd.set_option('display.max_columns', 500)\n",
    "\n",
    "# 진행 여부 함수\n",
    "def yes_or_no(question):\n",
    "    while \"the answer is invalid\":\n",
    "        reply = str(input(question+' (y/n): ')).lower().strip()\n",
    "        if reply[0] == 'y':\n",
    "            return True\n",
    "        if reply[0] == 'n':\n",
    "            return False\n",
    "        else:\n",
    "            print(\"실패: 'y' 혹은 'n' 를 입력해 주세요\")"
   ]
  },
  {
   "cell_type": "markdown",
   "id": "99abf27b",
   "metadata": {},
   "source": [
    "### 추가 1) 메타데이터 띄움처리 전 중복 제거..\n",
    "### 추가 2) 한글명 notnull vs null 분리하여 notnull만 관리(null: 파일 생성 및 기입 요청)\n",
    "### 추가 3.1) 한글 용어 점검 기능: 한글명+영문명+숫자조합 가능), 그외 모두 제거\n",
    "### 추가 3.2) 한글 단어 점검 기능: 한글명(숫자조합 가능), 영문명만(숫자조합 가능) 그외 모두 제거\n",
    "### 추가 4) 테이블기준 상세항목 정의하기.. "
   ]
  },
  {
   "cell_type": "code",
   "execution_count": 2,
   "id": "3169a36f",
   "metadata": {},
   "outputs": [
    {
     "name": "stdout",
     "output_type": "stream",
     "text": [
      "3\n"
     ]
    },
    {
     "data": {
      "text/plain": [
       "['가', '나', '다']"
      ]
     },
     "execution_count": 2,
     "metadata": {},
     "output_type": "execute_result"
    }
   ],
   "source": [
    "# 표준용어 구분자 변환 점검\n",
    "print(len('가 나 다'.split(\" \")))\n",
    "'가 나 다'.split(\" \")"
   ]
  },
  {
   "cell_type": "code",
   "execution_count": 3,
   "id": "b1985d74",
   "metadata": {},
   "outputs": [
    {
     "data": {
      "text/plain": [
       "2"
      ]
     },
     "execution_count": 3,
     "metadata": {},
     "output_type": "execute_result"
    }
   ],
   "source": [
    "'가 나 다'.count(\" \")"
   ]
  },
  {
   "cell_type": "markdown",
   "id": "91af4817",
   "metadata": {},
   "source": [
    "# 한글명은 notNull이어야 함\n",
    "\n",
    "작업내용:\n",
    "1. 중복제거(unique): 작업 효율성 제고\n",
    "2. 개수 매칭 -> (모든 값 채우기)\n",
    "3. 순서 매칭: ID 부여, 한글/영문\n",
    "4. 재조립( 한글명 기준)"
   ]
  },
  {
   "cell_type": "markdown",
   "id": "81f6df24",
   "metadata": {},
   "source": [
    "# 1. 파일 불러오기"
   ]
  },
  {
   "cell_type": "code",
   "execution_count": 4,
   "id": "e06b9d94",
   "metadata": {},
   "outputs": [
    {
     "name": "stdout",
     "output_type": "stream",
     "text": [
      "(70, 14)\n"
     ]
    },
    {
     "data": {
      "text/html": [
       "<div>\n",
       "<style scoped>\n",
       "    .dataframe tbody tr th:only-of-type {\n",
       "        vertical-align: middle;\n",
       "    }\n",
       "\n",
       "    .dataframe tbody tr th {\n",
       "        vertical-align: top;\n",
       "    }\n",
       "\n",
       "    .dataframe thead th {\n",
       "        text-align: right;\n",
       "    }\n",
       "</style>\n",
       "<table border=\"1\" class=\"dataframe\">\n",
       "  <thead>\n",
       "    <tr style=\"text-align: right;\">\n",
       "      <th></th>\n",
       "      <th>No</th>\n",
       "      <th>용어명</th>\n",
       "      <th>용어명 분리</th>\n",
       "      <th>용어설명</th>\n",
       "      <th>영문명</th>\n",
       "      <th>영문약어명</th>\n",
       "      <th>도메인명</th>\n",
       "      <th>데이터타입</th>\n",
       "      <th>데이터길이</th>\n",
       "      <th>소수점이하</th>\n",
       "      <th>생성일(제정일)</th>\n",
       "      <th>범정부표준여부</th>\n",
       "      <th>정보시스템(DB)</th>\n",
       "      <th>관련필드/용어</th>\n",
       "    </tr>\n",
       "  </thead>\n",
       "  <tbody>\n",
       "    <tr>\n",
       "      <th>0</th>\n",
       "      <td>1</td>\n",
       "      <td>가입일자</td>\n",
       "      <td>가입tds_일자</td>\n",
       "      <td>조직이나 단체 따위에 들어가거나, 서비스를 제공하는 상품 따위를 신청한 날짜를 연월...</td>\n",
       "      <td></td>\n",
       "      <td>TEST!!!</td>\n",
       "      <td>연월일C8</td>\n",
       "      <td>CHAR</td>\n",
       "      <td>8</td>\n",
       "      <td></td>\n",
       "      <td>2020-08-13</td>\n",
       "      <td>범정부표준</td>\n",
       "      <td></td>\n",
       "      <td></td>\n",
       "    </tr>\n",
       "    <tr>\n",
       "      <th>1</th>\n",
       "      <td>2</td>\n",
       "      <td>개설일자</td>\n",
       "      <td>개설_일자</td>\n",
       "      <td>설비나 제도 따위를 새로 마련하고 그에 관한 일을 처음 시작한 날짜를 연월일로 표현</td>\n",
       "      <td></td>\n",
       "      <td>$^$^dasd</td>\n",
       "      <td>연월일C8</td>\n",
       "      <td>CHAR</td>\n",
       "      <td>8</td>\n",
       "      <td></td>\n",
       "      <td>2020-08-13</td>\n",
       "      <td>범정부표준</td>\n",
       "      <td></td>\n",
       "      <td></td>\n",
       "    </tr>\n",
       "    <tr>\n",
       "      <th>2</th>\n",
       "      <td>3</td>\n",
       "      <td>개시일자</td>\n",
       "      <td>개시_일자</td>\n",
       "      <td>시장을 처음 열어 물건의 매매를 시작한 날짜를 연월일로 표현</td>\n",
       "      <td></td>\n",
       "      <td>asdf</td>\n",
       "      <td>연월일C8</td>\n",
       "      <td>CHAR</td>\n",
       "      <td>8</td>\n",
       "      <td></td>\n",
       "      <td>2020-08-13</td>\n",
       "      <td>범정부표준</td>\n",
       "      <td></td>\n",
       "      <td></td>\n",
       "    </tr>\n",
       "    <tr>\n",
       "      <th>3</th>\n",
       "      <td>4</td>\n",
       "      <td>개업일자</td>\n",
       "      <td>개업_일자</td>\n",
       "      <td>영업을 처음 시작한 날짜를 연월일로 표현</td>\n",
       "      <td></td>\n",
       "      <td>$^$^dasd</td>\n",
       "      <td>연월일C8</td>\n",
       "      <td>CHAR</td>\n",
       "      <td>8</td>\n",
       "      <td></td>\n",
       "      <td>2020-08-13</td>\n",
       "      <td>범정부표준</td>\n",
       "      <td></td>\n",
       "      <td></td>\n",
       "    </tr>\n",
       "    <tr>\n",
       "      <th>4</th>\n",
       "      <td>5</td>\n",
       "      <td>개인정보 동의여부</td>\n",
       "      <td>개인_정보_동의_여부</td>\n",
       "      <td>특정 개인을 식별하거나 유추해 낼 수 있는 모든 정보를 공동 이용하도록 허락할지 참...</td>\n",
       "      <td></td>\n",
       "      <td>sdf_dsfd_df</td>\n",
       "      <td>여부C1</td>\n",
       "      <td>CHAR</td>\n",
       "      <td>1</td>\n",
       "      <td></td>\n",
       "      <td>2020-08-13</td>\n",
       "      <td>범정부표준</td>\n",
       "      <td></td>\n",
       "      <td></td>\n",
       "    </tr>\n",
       "  </tbody>\n",
       "</table>\n",
       "</div>"
      ],
      "text/plain": [
       "   No        용어명       용어명 분리  \\\n",
       "0   1       가입일자     가입tds_일자   \n",
       "1   2       개설일자        개설_일자   \n",
       "2   3       개시일자        개시_일자   \n",
       "3   4       개업일자        개업_일자   \n",
       "4   5  개인정보 동의여부  개인_정보_동의_여부   \n",
       "\n",
       "                                                용어설명 영문명        영문약어명   도메인명  \\\n",
       "0  조직이나 단체 따위에 들어가거나, 서비스를 제공하는 상품 따위를 신청한 날짜를 연월...          TEST!!!  연월일C8   \n",
       "1     설비나 제도 따위를 새로 마련하고 그에 관한 일을 처음 시작한 날짜를 연월일로 표현         $^$^dasd  연월일C8   \n",
       "2                  시장을 처음 열어 물건의 매매를 시작한 날짜를 연월일로 표현             asdf  연월일C8   \n",
       "3                             영업을 처음 시작한 날짜를 연월일로 표현         $^$^dasd  연월일C8   \n",
       "4  특정 개인을 식별하거나 유추해 낼 수 있는 모든 정보를 공동 이용하도록 허락할지 참...      sdf_dsfd_df   여부C1   \n",
       "\n",
       "  데이터타입 데이터길이 소수점이하   생성일(제정일) 범정부표준여부 정보시스템(DB) 관련필드/용어  \n",
       "0  CHAR     8       2020-08-13   범정부표준                    \n",
       "1  CHAR     8       2020-08-13   범정부표준                    \n",
       "2  CHAR     8       2020-08-13   범정부표준                    \n",
       "3  CHAR     8       2020-08-13   범정부표준                    \n",
       "4  CHAR     1       2020-08-13   범정부표준                    "
      ]
     },
     "execution_count": 4,
     "metadata": {},
     "output_type": "execute_result"
    }
   ],
   "source": [
    "# 파일 불러오기\n",
    "# test_emoti_dup_korDup\n",
    "sheet_name = \"input_test\"\n",
    "input_path = os.path.join(os.getcwd(), \"input\\\\\")\n",
    "output_path = os.path.join(os.getcwd(), \"output\\\\\")\n",
    "# input_test = pd.read_excel(input_path+\"test_emoti_dup_korDup.xlsx\", sheet_name=sheet_name, header=0)\n",
    "input_test = pd.read_excel(input_path+\"test_final.xlsx\", sheet_name=sheet_name, header=0)\n",
    "# test_final.xlsx\n",
    "# null 제거\n",
    "for i in range(len(input_test.columns)):\n",
    "    input_test[input_test.columns[i]] = input_test[input_test.columns[i]].fillna(\"\")\n",
    "print(input_test.shape)\n",
    "input_test.head(5)"
   ]
  },
  {
   "cell_type": "markdown",
   "id": "72962e36",
   "metadata": {},
   "source": [
    "# 2. 용어 분리"
   ]
  },
  {
   "cell_type": "code",
   "execution_count": 5,
   "id": "5332d4f0",
   "metadata": {},
   "outputs": [],
   "source": [
    "# 인덱스 DF 초기화\n",
    "df_index = pd.DataFrame(input_test['No'])\n",
    "df_index.columns = ['index']"
   ]
  },
  {
   "cell_type": "code",
   "execution_count": 6,
   "id": "07149992",
   "metadata": {},
   "outputs": [
    {
     "name": "stdout",
     "output_type": "stream",
     "text": [
      "['stwd_kor0', 'stwd_kor1', 'stwd_kor2', 'stwd_kor3', 'stwd_kor4', 'stwd_kor5', 'stwd_kor6', 'stwd_kor7', 'stwd_kor8', 'stwd_kor9']\n",
      "10\n"
     ]
    }
   ],
   "source": [
    "# 용어명 분리\n",
    "\n",
    "# 용어명 분리\n",
    "input_split_kor = pd.DataFrame(input_test['용어명 분리'].str.split('_').tolist()).fillna(\"\")\n",
    "\n",
    "# 영문명 없을 경우 대비하여 cnt 집계\n",
    "kor_firts_cnt = len(input_split_kor.columns)\n",
    "\n",
    "# 컬럼명 입력\n",
    "col_list_kor = []\n",
    "for i in range(len(input_split_kor.columns)):\n",
    "    col_list_kor.append(\"stwd_kor{}\".format(i))\n",
    "input_split_kor.columns = col_list_kor\n",
    "\n",
    "# 한글 개수 세기\n",
    "dupl_list_kor = []\n",
    "dupl_cnt_kor = []\n",
    "for i in range(kor_firts_cnt):\n",
    "    globals()[\"dupl_list_kor{}\".format(i)] = []\n",
    "    for j in range(len(input_split_kor[\"stwd_kor{}\".format(i)])):\n",
    "        dupl_list_kor = input_split_kor[\"stwd_kor{}\".format(i)].to_list().count(input_split_kor[\"stwd_kor{}\".format(i)][j])\n",
    "        globals()[\"dupl_list_kor{}\".format(i)].append(dupl_list_kor)\n",
    "for i in range(kor_firts_cnt):\n",
    "    globals()[\"dupl_list_kor{}\".format(i)] = pd.concat([pd.DataFrame(globals()[\"dupl_list_kor{}\".format(i)])], axis = 0)\n",
    "    globals()[\"dupl_list_kor{}\".format(i)].columns = [\"dupl_list_kor{}\".format(i)]\n",
    "    \n",
    "# 컬럼명,index, 단어위치 추가\n",
    "for i in range(len(input_split_kor.columns)):\n",
    "    input_split_kor[\"num_kor{}\".format(i)] = \"num_kor{}\".format(i)\n",
    "    globals()[\"stwd_kor{}\".format(i)] = pd.concat(\n",
    "            [\n",
    "            df_index.fillna(\"\"), \n",
    "            pd.DataFrame(input_split_kor[\"stwd_kor{}\".format(i)]).fillna(\"\"),\n",
    "            pd.DataFrame(input_split_kor[\"num_kor{}\".format(i)]).fillna(\"\"),\n",
    "            globals()[\"dupl_list_kor{}\".format(i)].fillna(\"\")\n",
    "            ], \n",
    "            axis=1)\n",
    "print(col_list_kor)\n",
    "print(kor_firts_cnt)\n",
    "# stwd_kor9\n",
    "# dupl_list_kor0"
   ]
  },
  {
   "cell_type": "code",
   "execution_count": 7,
   "id": "74a82e1d",
   "metadata": {},
   "outputs": [
    {
     "name": "stdout",
     "output_type": "stream",
     "text": [
      "영문명 컬럼 수 1개 이상:27\n",
      "한글컬럼수와 영문컬럼수 불일치\n",
      "kor:10 vs eng:6\n",
      "['stwd_eng0', 'stwd_eng1', 'stwd_eng2', 'stwd_eng3', 'stwd_eng4', 'stwd_eng5']\n"
     ]
    },
    {
     "data": {
      "text/html": [
       "<div>\n",
       "<style scoped>\n",
       "    .dataframe tbody tr th:only-of-type {\n",
       "        vertical-align: middle;\n",
       "    }\n",
       "\n",
       "    .dataframe tbody tr th {\n",
       "        vertical-align: top;\n",
       "    }\n",
       "\n",
       "    .dataframe thead th {\n",
       "        text-align: right;\n",
       "    }\n",
       "</style>\n",
       "<table border=\"1\" class=\"dataframe\">\n",
       "  <thead>\n",
       "    <tr style=\"text-align: right;\">\n",
       "      <th></th>\n",
       "      <th>index</th>\n",
       "      <th>stwd_eng0</th>\n",
       "      <th>num_eng0</th>\n",
       "      <th>dupl_list_eng0</th>\n",
       "    </tr>\n",
       "  </thead>\n",
       "  <tbody>\n",
       "    <tr>\n",
       "      <th>0</th>\n",
       "      <td>1</td>\n",
       "      <td>TEST!!!</td>\n",
       "      <td>num_eng0</td>\n",
       "      <td>3</td>\n",
       "    </tr>\n",
       "    <tr>\n",
       "      <th>1</th>\n",
       "      <td>2</td>\n",
       "      <td>$^$^dasd</td>\n",
       "      <td>num_eng0</td>\n",
       "      <td>9</td>\n",
       "    </tr>\n",
       "    <tr>\n",
       "      <th>2</th>\n",
       "      <td>3</td>\n",
       "      <td>asdf</td>\n",
       "      <td>num_eng0</td>\n",
       "      <td>3</td>\n",
       "    </tr>\n",
       "    <tr>\n",
       "      <th>3</th>\n",
       "      <td>4</td>\n",
       "      <td>$^$^dasd</td>\n",
       "      <td>num_eng0</td>\n",
       "      <td>9</td>\n",
       "    </tr>\n",
       "    <tr>\n",
       "      <th>4</th>\n",
       "      <td>5</td>\n",
       "      <td>sdf</td>\n",
       "      <td>num_eng0</td>\n",
       "      <td>3</td>\n",
       "    </tr>\n",
       "    <tr>\n",
       "      <th>5</th>\n",
       "      <td>6</td>\n",
       "      <td>한글 여기 있지롱</td>\n",
       "      <td>num_eng0</td>\n",
       "      <td>6</td>\n",
       "    </tr>\n",
       "    <tr>\n",
       "      <th>6</th>\n",
       "      <td>7</td>\n",
       "      <td>$^$^dasd</td>\n",
       "      <td>num_eng0</td>\n",
       "      <td>9</td>\n",
       "    </tr>\n",
       "    <tr>\n",
       "      <th>7</th>\n",
       "      <td>8</td>\n",
       "      <td>한글 여기 있지롱</td>\n",
       "      <td>num_eng0</td>\n",
       "      <td>6</td>\n",
       "    </tr>\n",
       "    <tr>\n",
       "      <th>8</th>\n",
       "      <td>9</td>\n",
       "      <td>DD</td>\n",
       "      <td>num_eng0</td>\n",
       "      <td>3</td>\n",
       "    </tr>\n",
       "    <tr>\n",
       "      <th>9</th>\n",
       "      <td>10</td>\n",
       "      <td>한글여기있지롱</td>\n",
       "      <td>num_eng0</td>\n",
       "      <td>4</td>\n",
       "    </tr>\n",
       "    <tr>\n",
       "      <th>10</th>\n",
       "      <td>11</td>\n",
       "      <td>한글여기있지롱</td>\n",
       "      <td>num_eng0</td>\n",
       "      <td>4</td>\n",
       "    </tr>\n",
       "    <tr>\n",
       "      <th>11</th>\n",
       "      <td>12</td>\n",
       "      <td>한글eng섞었G</td>\n",
       "      <td>num_eng0</td>\n",
       "      <td>2</td>\n",
       "    </tr>\n",
       "    <tr>\n",
       "      <th>12</th>\n",
       "      <td>13</td>\n",
       "      <td>asdgsd!!!</td>\n",
       "      <td>num_eng0</td>\n",
       "      <td>4</td>\n",
       "    </tr>\n",
       "    <tr>\n",
       "      <th>13</th>\n",
       "      <td>14</td>\n",
       "      <td>asdgsd!!!</td>\n",
       "      <td>num_eng0</td>\n",
       "      <td>4</td>\n",
       "    </tr>\n",
       "    <tr>\n",
       "      <th>14</th>\n",
       "      <td>15</td>\n",
       "      <td>asdgsd!!!</td>\n",
       "      <td>num_eng0</td>\n",
       "      <td>4</td>\n",
       "    </tr>\n",
       "    <tr>\n",
       "      <th>15</th>\n",
       "      <td>16</td>\n",
       "      <td>asdgsd!!!</td>\n",
       "      <td>num_eng0</td>\n",
       "      <td>4</td>\n",
       "    </tr>\n",
       "    <tr>\n",
       "      <th>16</th>\n",
       "      <td>17</td>\n",
       "      <td>#@#</td>\n",
       "      <td>num_eng0</td>\n",
       "      <td>1</td>\n",
       "    </tr>\n",
       "    <tr>\n",
       "      <th>17</th>\n",
       "      <td>18</td>\n",
       "      <td>asgdas</td>\n",
       "      <td>num_eng0</td>\n",
       "      <td>1</td>\n",
       "    </tr>\n",
       "    <tr>\n",
       "      <th>18</th>\n",
       "      <td>19</td>\n",
       "      <td></td>\n",
       "      <td>num_eng0</td>\n",
       "      <td>27</td>\n",
       "    </tr>\n",
       "    <tr>\n",
       "      <th>19</th>\n",
       "      <td>20</td>\n",
       "      <td>한글eng섞었G</td>\n",
       "      <td>num_eng0</td>\n",
       "      <td>2</td>\n",
       "    </tr>\n",
       "    <tr>\n",
       "      <th>20</th>\n",
       "      <td>21</td>\n",
       "      <td></td>\n",
       "      <td>num_eng0</td>\n",
       "      <td>27</td>\n",
       "    </tr>\n",
       "    <tr>\n",
       "      <th>21</th>\n",
       "      <td>22</td>\n",
       "      <td>AAA</td>\n",
       "      <td>num_eng0</td>\n",
       "      <td>1</td>\n",
       "    </tr>\n",
       "    <tr>\n",
       "      <th>22</th>\n",
       "      <td>23</td>\n",
       "      <td>한글</td>\n",
       "      <td>num_eng0</td>\n",
       "      <td>1</td>\n",
       "    </tr>\n",
       "    <tr>\n",
       "      <th>23</th>\n",
       "      <td>24</td>\n",
       "      <td>Y한O</td>\n",
       "      <td>num_eng0</td>\n",
       "      <td>1</td>\n",
       "    </tr>\n",
       "    <tr>\n",
       "      <th>24</th>\n",
       "      <td>25</td>\n",
       "      <td>fa</td>\n",
       "      <td>num_eng0</td>\n",
       "      <td>1</td>\n",
       "    </tr>\n",
       "    <tr>\n",
       "      <th>25</th>\n",
       "      <td>26</td>\n",
       "      <td></td>\n",
       "      <td>num_eng0</td>\n",
       "      <td>27</td>\n",
       "    </tr>\n",
       "    <tr>\n",
       "      <th>26</th>\n",
       "      <td>27</td>\n",
       "      <td></td>\n",
       "      <td>num_eng0</td>\n",
       "      <td>27</td>\n",
       "    </tr>\n",
       "    <tr>\n",
       "      <th>27</th>\n",
       "      <td>28</td>\n",
       "      <td></td>\n",
       "      <td>num_eng0</td>\n",
       "      <td>27</td>\n",
       "    </tr>\n",
       "    <tr>\n",
       "      <th>28</th>\n",
       "      <td>29</td>\n",
       "      <td></td>\n",
       "      <td>num_eng0</td>\n",
       "      <td>27</td>\n",
       "    </tr>\n",
       "    <tr>\n",
       "      <th>29</th>\n",
       "      <td>30</td>\n",
       "      <td></td>\n",
       "      <td>num_eng0</td>\n",
       "      <td>27</td>\n",
       "    </tr>\n",
       "    <tr>\n",
       "      <th>30</th>\n",
       "      <td>31</td>\n",
       "      <td></td>\n",
       "      <td>num_eng0</td>\n",
       "      <td>27</td>\n",
       "    </tr>\n",
       "    <tr>\n",
       "      <th>31</th>\n",
       "      <td>32</td>\n",
       "      <td></td>\n",
       "      <td>num_eng0</td>\n",
       "      <td>27</td>\n",
       "    </tr>\n",
       "    <tr>\n",
       "      <th>32</th>\n",
       "      <td>33</td>\n",
       "      <td></td>\n",
       "      <td>num_eng0</td>\n",
       "      <td>27</td>\n",
       "    </tr>\n",
       "    <tr>\n",
       "      <th>33</th>\n",
       "      <td>34</td>\n",
       "      <td></td>\n",
       "      <td>num_eng0</td>\n",
       "      <td>27</td>\n",
       "    </tr>\n",
       "    <tr>\n",
       "      <th>34</th>\n",
       "      <td>35</td>\n",
       "      <td></td>\n",
       "      <td>num_eng0</td>\n",
       "      <td>27</td>\n",
       "    </tr>\n",
       "    <tr>\n",
       "      <th>35</th>\n",
       "      <td>36</td>\n",
       "      <td></td>\n",
       "      <td>num_eng0</td>\n",
       "      <td>27</td>\n",
       "    </tr>\n",
       "    <tr>\n",
       "      <th>36</th>\n",
       "      <td>37</td>\n",
       "      <td></td>\n",
       "      <td>num_eng0</td>\n",
       "      <td>27</td>\n",
       "    </tr>\n",
       "    <tr>\n",
       "      <th>37</th>\n",
       "      <td>38</td>\n",
       "      <td></td>\n",
       "      <td>num_eng0</td>\n",
       "      <td>27</td>\n",
       "    </tr>\n",
       "    <tr>\n",
       "      <th>38</th>\n",
       "      <td>39</td>\n",
       "      <td></td>\n",
       "      <td>num_eng0</td>\n",
       "      <td>27</td>\n",
       "    </tr>\n",
       "    <tr>\n",
       "      <th>39</th>\n",
       "      <td>40</td>\n",
       "      <td></td>\n",
       "      <td>num_eng0</td>\n",
       "      <td>27</td>\n",
       "    </tr>\n",
       "    <tr>\n",
       "      <th>40</th>\n",
       "      <td>41</td>\n",
       "      <td></td>\n",
       "      <td>num_eng0</td>\n",
       "      <td>27</td>\n",
       "    </tr>\n",
       "    <tr>\n",
       "      <th>41</th>\n",
       "      <td>42</td>\n",
       "      <td></td>\n",
       "      <td>num_eng0</td>\n",
       "      <td>27</td>\n",
       "    </tr>\n",
       "    <tr>\n",
       "      <th>42</th>\n",
       "      <td>43</td>\n",
       "      <td></td>\n",
       "      <td>num_eng0</td>\n",
       "      <td>27</td>\n",
       "    </tr>\n",
       "    <tr>\n",
       "      <th>43</th>\n",
       "      <td>44</td>\n",
       "      <td></td>\n",
       "      <td>num_eng0</td>\n",
       "      <td>27</td>\n",
       "    </tr>\n",
       "    <tr>\n",
       "      <th>44</th>\n",
       "      <td>45</td>\n",
       "      <td></td>\n",
       "      <td>num_eng0</td>\n",
       "      <td>27</td>\n",
       "    </tr>\n",
       "    <tr>\n",
       "      <th>45</th>\n",
       "      <td>46</td>\n",
       "      <td></td>\n",
       "      <td>num_eng0</td>\n",
       "      <td>27</td>\n",
       "    </tr>\n",
       "    <tr>\n",
       "      <th>46</th>\n",
       "      <td>47</td>\n",
       "      <td></td>\n",
       "      <td>num_eng0</td>\n",
       "      <td>27</td>\n",
       "    </tr>\n",
       "    <tr>\n",
       "      <th>47</th>\n",
       "      <td>48</td>\n",
       "      <td></td>\n",
       "      <td>num_eng0</td>\n",
       "      <td>27</td>\n",
       "    </tr>\n",
       "    <tr>\n",
       "      <th>48</th>\n",
       "      <td>49</td>\n",
       "      <td></td>\n",
       "      <td>num_eng0</td>\n",
       "      <td>27</td>\n",
       "    </tr>\n",
       "    <tr>\n",
       "      <th>49</th>\n",
       "      <td>50</td>\n",
       "      <td></td>\n",
       "      <td>num_eng0</td>\n",
       "      <td>27</td>\n",
       "    </tr>\n",
       "    <tr>\n",
       "      <th>50</th>\n",
       "      <td>51</td>\n",
       "      <td>TEST!!!</td>\n",
       "      <td>num_eng0</td>\n",
       "      <td>3</td>\n",
       "    </tr>\n",
       "    <tr>\n",
       "      <th>51</th>\n",
       "      <td>52</td>\n",
       "      <td>$^$^dasd</td>\n",
       "      <td>num_eng0</td>\n",
       "      <td>9</td>\n",
       "    </tr>\n",
       "    <tr>\n",
       "      <th>52</th>\n",
       "      <td>53</td>\n",
       "      <td>asdf</td>\n",
       "      <td>num_eng0</td>\n",
       "      <td>3</td>\n",
       "    </tr>\n",
       "    <tr>\n",
       "      <th>53</th>\n",
       "      <td>54</td>\n",
       "      <td>$^$^dasd</td>\n",
       "      <td>num_eng0</td>\n",
       "      <td>9</td>\n",
       "    </tr>\n",
       "    <tr>\n",
       "      <th>54</th>\n",
       "      <td>55</td>\n",
       "      <td>sdf</td>\n",
       "      <td>num_eng0</td>\n",
       "      <td>3</td>\n",
       "    </tr>\n",
       "    <tr>\n",
       "      <th>55</th>\n",
       "      <td>56</td>\n",
       "      <td>한글 여기 있지롱</td>\n",
       "      <td>num_eng0</td>\n",
       "      <td>6</td>\n",
       "    </tr>\n",
       "    <tr>\n",
       "      <th>56</th>\n",
       "      <td>57</td>\n",
       "      <td>$^$^dasd</td>\n",
       "      <td>num_eng0</td>\n",
       "      <td>9</td>\n",
       "    </tr>\n",
       "    <tr>\n",
       "      <th>57</th>\n",
       "      <td>58</td>\n",
       "      <td>한글 여기 있지롱</td>\n",
       "      <td>num_eng0</td>\n",
       "      <td>6</td>\n",
       "    </tr>\n",
       "    <tr>\n",
       "      <th>58</th>\n",
       "      <td>59</td>\n",
       "      <td>DD</td>\n",
       "      <td>num_eng0</td>\n",
       "      <td>3</td>\n",
       "    </tr>\n",
       "    <tr>\n",
       "      <th>59</th>\n",
       "      <td>60</td>\n",
       "      <td>한글여기있지롱</td>\n",
       "      <td>num_eng0</td>\n",
       "      <td>4</td>\n",
       "    </tr>\n",
       "    <tr>\n",
       "      <th>60</th>\n",
       "      <td>61</td>\n",
       "      <td>TEST!!!</td>\n",
       "      <td>num_eng0</td>\n",
       "      <td>3</td>\n",
       "    </tr>\n",
       "    <tr>\n",
       "      <th>61</th>\n",
       "      <td>62</td>\n",
       "      <td>$^$^dasd</td>\n",
       "      <td>num_eng0</td>\n",
       "      <td>9</td>\n",
       "    </tr>\n",
       "    <tr>\n",
       "      <th>62</th>\n",
       "      <td>63</td>\n",
       "      <td>asdf</td>\n",
       "      <td>num_eng0</td>\n",
       "      <td>3</td>\n",
       "    </tr>\n",
       "    <tr>\n",
       "      <th>63</th>\n",
       "      <td>64</td>\n",
       "      <td>$^$^dasd</td>\n",
       "      <td>num_eng0</td>\n",
       "      <td>9</td>\n",
       "    </tr>\n",
       "    <tr>\n",
       "      <th>64</th>\n",
       "      <td>65</td>\n",
       "      <td>sdf</td>\n",
       "      <td>num_eng0</td>\n",
       "      <td>3</td>\n",
       "    </tr>\n",
       "    <tr>\n",
       "      <th>65</th>\n",
       "      <td>66</td>\n",
       "      <td>한글 여기 있지롱</td>\n",
       "      <td>num_eng0</td>\n",
       "      <td>6</td>\n",
       "    </tr>\n",
       "    <tr>\n",
       "      <th>66</th>\n",
       "      <td>67</td>\n",
       "      <td>$^$^dasd</td>\n",
       "      <td>num_eng0</td>\n",
       "      <td>9</td>\n",
       "    </tr>\n",
       "    <tr>\n",
       "      <th>67</th>\n",
       "      <td>68</td>\n",
       "      <td>한글 여기 있지롱</td>\n",
       "      <td>num_eng0</td>\n",
       "      <td>6</td>\n",
       "    </tr>\n",
       "    <tr>\n",
       "      <th>68</th>\n",
       "      <td>69</td>\n",
       "      <td>DD</td>\n",
       "      <td>num_eng0</td>\n",
       "      <td>3</td>\n",
       "    </tr>\n",
       "    <tr>\n",
       "      <th>69</th>\n",
       "      <td>70</td>\n",
       "      <td>한글여기있지롱</td>\n",
       "      <td>num_eng0</td>\n",
       "      <td>4</td>\n",
       "    </tr>\n",
       "  </tbody>\n",
       "</table>\n",
       "</div>"
      ],
      "text/plain": [
       "    index  stwd_eng0  num_eng0  dupl_list_eng0\n",
       "0       1    TEST!!!  num_eng0               3\n",
       "1       2   $^$^dasd  num_eng0               9\n",
       "2       3       asdf  num_eng0               3\n",
       "3       4   $^$^dasd  num_eng0               9\n",
       "4       5        sdf  num_eng0               3\n",
       "5       6  한글 여기 있지롱  num_eng0               6\n",
       "6       7   $^$^dasd  num_eng0               9\n",
       "7       8  한글 여기 있지롱  num_eng0               6\n",
       "8       9         DD  num_eng0               3\n",
       "9      10    한글여기있지롱  num_eng0               4\n",
       "10     11    한글여기있지롱  num_eng0               4\n",
       "11     12   한글eng섞었G  num_eng0               2\n",
       "12     13  asdgsd!!!  num_eng0               4\n",
       "13     14  asdgsd!!!  num_eng0               4\n",
       "14     15  asdgsd!!!  num_eng0               4\n",
       "15     16  asdgsd!!!  num_eng0               4\n",
       "16     17        #@#  num_eng0               1\n",
       "17     18     asgdas  num_eng0               1\n",
       "18     19             num_eng0              27\n",
       "19     20   한글eng섞었G  num_eng0               2\n",
       "20     21             num_eng0              27\n",
       "21     22        AAA  num_eng0               1\n",
       "22     23         한글  num_eng0               1\n",
       "23     24        Y한O  num_eng0               1\n",
       "24     25         fa  num_eng0               1\n",
       "25     26             num_eng0              27\n",
       "26     27             num_eng0              27\n",
       "27     28             num_eng0              27\n",
       "28     29             num_eng0              27\n",
       "29     30             num_eng0              27\n",
       "30     31             num_eng0              27\n",
       "31     32             num_eng0              27\n",
       "32     33             num_eng0              27\n",
       "33     34             num_eng0              27\n",
       "34     35             num_eng0              27\n",
       "35     36             num_eng0              27\n",
       "36     37             num_eng0              27\n",
       "37     38             num_eng0              27\n",
       "38     39             num_eng0              27\n",
       "39     40             num_eng0              27\n",
       "40     41             num_eng0              27\n",
       "41     42             num_eng0              27\n",
       "42     43             num_eng0              27\n",
       "43     44             num_eng0              27\n",
       "44     45             num_eng0              27\n",
       "45     46             num_eng0              27\n",
       "46     47             num_eng0              27\n",
       "47     48             num_eng0              27\n",
       "48     49             num_eng0              27\n",
       "49     50             num_eng0              27\n",
       "50     51    TEST!!!  num_eng0               3\n",
       "51     52   $^$^dasd  num_eng0               9\n",
       "52     53       asdf  num_eng0               3\n",
       "53     54   $^$^dasd  num_eng0               9\n",
       "54     55        sdf  num_eng0               3\n",
       "55     56  한글 여기 있지롱  num_eng0               6\n",
       "56     57   $^$^dasd  num_eng0               9\n",
       "57     58  한글 여기 있지롱  num_eng0               6\n",
       "58     59         DD  num_eng0               3\n",
       "59     60    한글여기있지롱  num_eng0               4\n",
       "60     61    TEST!!!  num_eng0               3\n",
       "61     62   $^$^dasd  num_eng0               9\n",
       "62     63       asdf  num_eng0               3\n",
       "63     64   $^$^dasd  num_eng0               9\n",
       "64     65        sdf  num_eng0               3\n",
       "65     66  한글 여기 있지롱  num_eng0               6\n",
       "66     67   $^$^dasd  num_eng0               9\n",
       "67     68  한글 여기 있지롱  num_eng0               6\n",
       "68     69         DD  num_eng0               3\n",
       "69     70    한글여기있지롱  num_eng0               4"
      ]
     },
     "execution_count": 7,
     "metadata": {},
     "output_type": "execute_result"
    }
   ],
   "source": [
    "# 영문명 분리\n",
    "\n",
    "# 영문명이 하나라도 입력돼 있을 경우\n",
    "if len(input_test['영문약어명']) > 0:\n",
    "    print(\"영문명 컬럼 수 1개 이상:\"+str((input_test['영문약어명']==\"\").sum()))\n",
    "\n",
    "    # 영문명 분리\n",
    "    input_split_eng = pd.DataFrame(input_test['영문약어명'].str.split('_').tolist()).fillna(\"\")\n",
    "    \n",
    "    # 영문명 컬럼 수\n",
    "    eng_firts_cnt = len(input_split_eng.columns)\n",
    "    \n",
    "    # 컬럼명 입력\n",
    "    col_list_eng = []\n",
    "    for i in range(len(input_split_eng.columns)):\n",
    "        col_list_eng.append(\"stwd_eng{}\".format(i))\n",
    "    input_split_eng.columns = col_list_eng\n",
    "    \n",
    "    # 영문 개수 세기\n",
    "    dupl_list_eng = []\n",
    "    dupl_cnt_eng = []\n",
    "    for i in range(eng_firts_cnt):\n",
    "        globals()[\"dupl_list_eng{}\".format(i)] = []\n",
    "        for j in range(len(input_split_eng[\"stwd_eng{}\".format(i)])):\n",
    "            dupl_list_eng = input_split_eng[\"stwd_eng{}\".format(i)].to_list().count(input_split_eng[\"stwd_eng{}\".format(i)][j])\n",
    "            globals()[\"dupl_list_eng{}\".format(i)].append(dupl_list_eng)\n",
    "    for i in range(eng_firts_cnt):\n",
    "        globals()[\"dupl_list_eng{}\".format(i)] = pd.concat([pd.DataFrame(globals()[\"dupl_list_eng{}\".format(i)])], axis = 0)\n",
    "        globals()[\"dupl_list_eng{}\".format(i)].columns = [\"dupl_list_eng{}\".format(i)]\n",
    "        \n",
    "    # 컬럼명,index, 단어위치 추가\n",
    "    for i in range(eng_firts_cnt):\n",
    "        input_split_eng[\"num_eng{}\".format(i)] = \"num_eng{}\".format(i)\n",
    "        globals()[\"stwd_eng{}\".format(i)] = pd.concat(\n",
    "                [\n",
    "                df_index.fillna(\"\"), \n",
    "                pd.DataFrame(input_split_eng[\"stwd_eng{}\".format(i)].fillna(\"\")),\n",
    "                pd.DataFrame(input_split_eng[\"num_eng{}\".format(i)].fillna(\"\")),\n",
    "                globals()[\"dupl_list_eng{}\".format(i)].fillna(\"\")\n",
    "                ], \n",
    "                axis=1)\n",
    "        \n",
    "# 영문명이 없을 경우\n",
    "elif len(input_test['영문약어명']) == 0:\n",
    "    print(\"영문명 컬럼 수 0개:\"+str((input_test['영문약어명']==\"\").sum()))\n",
    "    \n",
    "    col_list_eng = []\n",
    "    for i in range(kor_firts_cnt):\n",
    "        globals()[\"stwd_eng{}\".format(i)] = pd.DataFrame(columns = [\"stwd_eng{}\".format(i)])\n",
    "        globals()[\"num_eng{}\".format(i)] = pd.DataFrame(columns = [\"num_eng{}\".format(i)])\n",
    "        globals()[\"dupl_list_eng{}\".format(i)] = pd.DataFrame(columns = [\"dupl_list_eng{}\".format(i)])\n",
    "        globals()[\"stwd_eng{}\".format(i)] = pd.concat(\n",
    "            [\n",
    "                df_index.fillna(\"\"), \n",
    "                globals()[\"stwd_eng{}\".format(i)].fillna(\"\"),\n",
    "                globals()[\"num_eng{}\".format(i)].fillna(\"\"),\n",
    "                globals()[\"dupl_list_eng{}\".format(i)].fillna(\"\"),\n",
    "            ]\n",
    "            , axis = 1\n",
    "        )\n",
    "        globals()[\"stwd_eng{}\".format(i)][\"num_eng{}\".format(i)] = \"num_eng{}\".format(i)\n",
    "        globals()[\"stwd_eng{}\".format(i)][\"dupl_list_eng{}\".format(i)] = len(globals()[\"stwd_eng{}\".format(i)])\n",
    "        col_list_eng.append(\"stwd_eng{}\".format(i))\n",
    "        \n",
    "else:\n",
    "    print(\"한글컬럼, 영문커럼 예외 사항\")\n",
    "\n",
    "# 컬럼수 일치 점검\n",
    "col_cnt_kor = len(col_list_kor)\n",
    "col_cnt_eng = len(col_list_eng)\n",
    "if len(col_list_kor) == len(col_list_eng):\n",
    "    print(\"한글컬럼수와 영문컬럼수 일치\")\n",
    "    print(\"kor:\" + str(col_cnt_kor) + \" vs eng:\" + str(col_cnt_eng))\n",
    "else:\n",
    "    print(\"한글컬럼수와 영문컬럼수 불일치\")\n",
    "    print(\"kor:\" + str(col_cnt_kor) + \" vs eng:\" + str(col_cnt_eng))                                                       \n",
    "print(col_list_eng)\n",
    "stwd_eng0"
   ]
  },
  {
   "cell_type": "code",
   "execution_count": 8,
   "id": "854a4c73",
   "metadata": {},
   "outputs": [
    {
     "name": "stdout",
     "output_type": "stream",
     "text": [
      "한글컬럼이 더 많은 싱태\n",
      "kor:10 vs eng:6\n",
      "컬럼수 일치작업 후:10\n"
     ]
    },
    {
     "data": {
      "text/html": [
       "<div>\n",
       "<style scoped>\n",
       "    .dataframe tbody tr th:only-of-type {\n",
       "        vertical-align: middle;\n",
       "    }\n",
       "\n",
       "    .dataframe tbody tr th {\n",
       "        vertical-align: top;\n",
       "    }\n",
       "\n",
       "    .dataframe thead th {\n",
       "        text-align: right;\n",
       "    }\n",
       "</style>\n",
       "<table border=\"1\" class=\"dataframe\">\n",
       "  <thead>\n",
       "    <tr style=\"text-align: right;\">\n",
       "      <th></th>\n",
       "      <th>index</th>\n",
       "      <th>stwd_eng3</th>\n",
       "      <th>num_eng3</th>\n",
       "      <th>dupl_list_eng3</th>\n",
       "    </tr>\n",
       "  </thead>\n",
       "  <tbody>\n",
       "    <tr>\n",
       "      <th>0</th>\n",
       "      <td>1</td>\n",
       "      <td></td>\n",
       "      <td>num_eng3</td>\n",
       "      <td>68</td>\n",
       "    </tr>\n",
       "    <tr>\n",
       "      <th>1</th>\n",
       "      <td>2</td>\n",
       "      <td></td>\n",
       "      <td>num_eng3</td>\n",
       "      <td>68</td>\n",
       "    </tr>\n",
       "    <tr>\n",
       "      <th>2</th>\n",
       "      <td>3</td>\n",
       "      <td></td>\n",
       "      <td>num_eng3</td>\n",
       "      <td>68</td>\n",
       "    </tr>\n",
       "    <tr>\n",
       "      <th>3</th>\n",
       "      <td>4</td>\n",
       "      <td></td>\n",
       "      <td>num_eng3</td>\n",
       "      <td>68</td>\n",
       "    </tr>\n",
       "    <tr>\n",
       "      <th>4</th>\n",
       "      <td>5</td>\n",
       "      <td></td>\n",
       "      <td>num_eng3</td>\n",
       "      <td>68</td>\n",
       "    </tr>\n",
       "    <tr>\n",
       "      <th>5</th>\n",
       "      <td>6</td>\n",
       "      <td></td>\n",
       "      <td>num_eng3</td>\n",
       "      <td>68</td>\n",
       "    </tr>\n",
       "    <tr>\n",
       "      <th>6</th>\n",
       "      <td>7</td>\n",
       "      <td></td>\n",
       "      <td>num_eng3</td>\n",
       "      <td>68</td>\n",
       "    </tr>\n",
       "    <tr>\n",
       "      <th>7</th>\n",
       "      <td>8</td>\n",
       "      <td></td>\n",
       "      <td>num_eng3</td>\n",
       "      <td>68</td>\n",
       "    </tr>\n",
       "    <tr>\n",
       "      <th>8</th>\n",
       "      <td>9</td>\n",
       "      <td></td>\n",
       "      <td>num_eng3</td>\n",
       "      <td>68</td>\n",
       "    </tr>\n",
       "    <tr>\n",
       "      <th>9</th>\n",
       "      <td>10</td>\n",
       "      <td></td>\n",
       "      <td>num_eng3</td>\n",
       "      <td>68</td>\n",
       "    </tr>\n",
       "    <tr>\n",
       "      <th>10</th>\n",
       "      <td>11</td>\n",
       "      <td></td>\n",
       "      <td>num_eng3</td>\n",
       "      <td>68</td>\n",
       "    </tr>\n",
       "    <tr>\n",
       "      <th>11</th>\n",
       "      <td>12</td>\n",
       "      <td></td>\n",
       "      <td>num_eng3</td>\n",
       "      <td>68</td>\n",
       "    </tr>\n",
       "    <tr>\n",
       "      <th>12</th>\n",
       "      <td>13</td>\n",
       "      <td></td>\n",
       "      <td>num_eng3</td>\n",
       "      <td>68</td>\n",
       "    </tr>\n",
       "    <tr>\n",
       "      <th>13</th>\n",
       "      <td>14</td>\n",
       "      <td></td>\n",
       "      <td>num_eng3</td>\n",
       "      <td>68</td>\n",
       "    </tr>\n",
       "    <tr>\n",
       "      <th>14</th>\n",
       "      <td>15</td>\n",
       "      <td></td>\n",
       "      <td>num_eng3</td>\n",
       "      <td>68</td>\n",
       "    </tr>\n",
       "    <tr>\n",
       "      <th>15</th>\n",
       "      <td>16</td>\n",
       "      <td></td>\n",
       "      <td>num_eng3</td>\n",
       "      <td>68</td>\n",
       "    </tr>\n",
       "    <tr>\n",
       "      <th>16</th>\n",
       "      <td>17</td>\n",
       "      <td></td>\n",
       "      <td>num_eng3</td>\n",
       "      <td>68</td>\n",
       "    </tr>\n",
       "    <tr>\n",
       "      <th>17</th>\n",
       "      <td>18</td>\n",
       "      <td></td>\n",
       "      <td>num_eng3</td>\n",
       "      <td>68</td>\n",
       "    </tr>\n",
       "    <tr>\n",
       "      <th>18</th>\n",
       "      <td>19</td>\n",
       "      <td></td>\n",
       "      <td>num_eng3</td>\n",
       "      <td>68</td>\n",
       "    </tr>\n",
       "    <tr>\n",
       "      <th>19</th>\n",
       "      <td>20</td>\n",
       "      <td></td>\n",
       "      <td>num_eng3</td>\n",
       "      <td>68</td>\n",
       "    </tr>\n",
       "    <tr>\n",
       "      <th>20</th>\n",
       "      <td>21</td>\n",
       "      <td></td>\n",
       "      <td>num_eng3</td>\n",
       "      <td>68</td>\n",
       "    </tr>\n",
       "    <tr>\n",
       "      <th>21</th>\n",
       "      <td>22</td>\n",
       "      <td></td>\n",
       "      <td>num_eng3</td>\n",
       "      <td>68</td>\n",
       "    </tr>\n",
       "    <tr>\n",
       "      <th>22</th>\n",
       "      <td>23</td>\n",
       "      <td>G</td>\n",
       "      <td>num_eng3</td>\n",
       "      <td>1</td>\n",
       "    </tr>\n",
       "    <tr>\n",
       "      <th>23</th>\n",
       "      <td>24</td>\n",
       "      <td>g섞</td>\n",
       "      <td>num_eng3</td>\n",
       "      <td>1</td>\n",
       "    </tr>\n",
       "    <tr>\n",
       "      <th>24</th>\n",
       "      <td>25</td>\n",
       "      <td></td>\n",
       "      <td>num_eng3</td>\n",
       "      <td>68</td>\n",
       "    </tr>\n",
       "    <tr>\n",
       "      <th>25</th>\n",
       "      <td>26</td>\n",
       "      <td></td>\n",
       "      <td>num_eng3</td>\n",
       "      <td>68</td>\n",
       "    </tr>\n",
       "    <tr>\n",
       "      <th>26</th>\n",
       "      <td>27</td>\n",
       "      <td></td>\n",
       "      <td>num_eng3</td>\n",
       "      <td>68</td>\n",
       "    </tr>\n",
       "    <tr>\n",
       "      <th>27</th>\n",
       "      <td>28</td>\n",
       "      <td></td>\n",
       "      <td>num_eng3</td>\n",
       "      <td>68</td>\n",
       "    </tr>\n",
       "    <tr>\n",
       "      <th>28</th>\n",
       "      <td>29</td>\n",
       "      <td></td>\n",
       "      <td>num_eng3</td>\n",
       "      <td>68</td>\n",
       "    </tr>\n",
       "    <tr>\n",
       "      <th>29</th>\n",
       "      <td>30</td>\n",
       "      <td></td>\n",
       "      <td>num_eng3</td>\n",
       "      <td>68</td>\n",
       "    </tr>\n",
       "    <tr>\n",
       "      <th>30</th>\n",
       "      <td>31</td>\n",
       "      <td></td>\n",
       "      <td>num_eng3</td>\n",
       "      <td>68</td>\n",
       "    </tr>\n",
       "    <tr>\n",
       "      <th>31</th>\n",
       "      <td>32</td>\n",
       "      <td></td>\n",
       "      <td>num_eng3</td>\n",
       "      <td>68</td>\n",
       "    </tr>\n",
       "    <tr>\n",
       "      <th>32</th>\n",
       "      <td>33</td>\n",
       "      <td></td>\n",
       "      <td>num_eng3</td>\n",
       "      <td>68</td>\n",
       "    </tr>\n",
       "    <tr>\n",
       "      <th>33</th>\n",
       "      <td>34</td>\n",
       "      <td></td>\n",
       "      <td>num_eng3</td>\n",
       "      <td>68</td>\n",
       "    </tr>\n",
       "    <tr>\n",
       "      <th>34</th>\n",
       "      <td>35</td>\n",
       "      <td></td>\n",
       "      <td>num_eng3</td>\n",
       "      <td>68</td>\n",
       "    </tr>\n",
       "    <tr>\n",
       "      <th>35</th>\n",
       "      <td>36</td>\n",
       "      <td></td>\n",
       "      <td>num_eng3</td>\n",
       "      <td>68</td>\n",
       "    </tr>\n",
       "    <tr>\n",
       "      <th>36</th>\n",
       "      <td>37</td>\n",
       "      <td></td>\n",
       "      <td>num_eng3</td>\n",
       "      <td>68</td>\n",
       "    </tr>\n",
       "    <tr>\n",
       "      <th>37</th>\n",
       "      <td>38</td>\n",
       "      <td></td>\n",
       "      <td>num_eng3</td>\n",
       "      <td>68</td>\n",
       "    </tr>\n",
       "    <tr>\n",
       "      <th>38</th>\n",
       "      <td>39</td>\n",
       "      <td></td>\n",
       "      <td>num_eng3</td>\n",
       "      <td>68</td>\n",
       "    </tr>\n",
       "    <tr>\n",
       "      <th>39</th>\n",
       "      <td>40</td>\n",
       "      <td></td>\n",
       "      <td>num_eng3</td>\n",
       "      <td>68</td>\n",
       "    </tr>\n",
       "    <tr>\n",
       "      <th>40</th>\n",
       "      <td>41</td>\n",
       "      <td></td>\n",
       "      <td>num_eng3</td>\n",
       "      <td>68</td>\n",
       "    </tr>\n",
       "    <tr>\n",
       "      <th>41</th>\n",
       "      <td>42</td>\n",
       "      <td></td>\n",
       "      <td>num_eng3</td>\n",
       "      <td>68</td>\n",
       "    </tr>\n",
       "    <tr>\n",
       "      <th>42</th>\n",
       "      <td>43</td>\n",
       "      <td></td>\n",
       "      <td>num_eng3</td>\n",
       "      <td>68</td>\n",
       "    </tr>\n",
       "    <tr>\n",
       "      <th>43</th>\n",
       "      <td>44</td>\n",
       "      <td></td>\n",
       "      <td>num_eng3</td>\n",
       "      <td>68</td>\n",
       "    </tr>\n",
       "    <tr>\n",
       "      <th>44</th>\n",
       "      <td>45</td>\n",
       "      <td></td>\n",
       "      <td>num_eng3</td>\n",
       "      <td>68</td>\n",
       "    </tr>\n",
       "    <tr>\n",
       "      <th>45</th>\n",
       "      <td>46</td>\n",
       "      <td></td>\n",
       "      <td>num_eng3</td>\n",
       "      <td>68</td>\n",
       "    </tr>\n",
       "    <tr>\n",
       "      <th>46</th>\n",
       "      <td>47</td>\n",
       "      <td></td>\n",
       "      <td>num_eng3</td>\n",
       "      <td>68</td>\n",
       "    </tr>\n",
       "    <tr>\n",
       "      <th>47</th>\n",
       "      <td>48</td>\n",
       "      <td></td>\n",
       "      <td>num_eng3</td>\n",
       "      <td>68</td>\n",
       "    </tr>\n",
       "    <tr>\n",
       "      <th>48</th>\n",
       "      <td>49</td>\n",
       "      <td></td>\n",
       "      <td>num_eng3</td>\n",
       "      <td>68</td>\n",
       "    </tr>\n",
       "    <tr>\n",
       "      <th>49</th>\n",
       "      <td>50</td>\n",
       "      <td></td>\n",
       "      <td>num_eng3</td>\n",
       "      <td>68</td>\n",
       "    </tr>\n",
       "    <tr>\n",
       "      <th>50</th>\n",
       "      <td>51</td>\n",
       "      <td></td>\n",
       "      <td>num_eng3</td>\n",
       "      <td>68</td>\n",
       "    </tr>\n",
       "    <tr>\n",
       "      <th>51</th>\n",
       "      <td>52</td>\n",
       "      <td></td>\n",
       "      <td>num_eng3</td>\n",
       "      <td>68</td>\n",
       "    </tr>\n",
       "    <tr>\n",
       "      <th>52</th>\n",
       "      <td>53</td>\n",
       "      <td></td>\n",
       "      <td>num_eng3</td>\n",
       "      <td>68</td>\n",
       "    </tr>\n",
       "    <tr>\n",
       "      <th>53</th>\n",
       "      <td>54</td>\n",
       "      <td></td>\n",
       "      <td>num_eng3</td>\n",
       "      <td>68</td>\n",
       "    </tr>\n",
       "    <tr>\n",
       "      <th>54</th>\n",
       "      <td>55</td>\n",
       "      <td></td>\n",
       "      <td>num_eng3</td>\n",
       "      <td>68</td>\n",
       "    </tr>\n",
       "    <tr>\n",
       "      <th>55</th>\n",
       "      <td>56</td>\n",
       "      <td></td>\n",
       "      <td>num_eng3</td>\n",
       "      <td>68</td>\n",
       "    </tr>\n",
       "    <tr>\n",
       "      <th>56</th>\n",
       "      <td>57</td>\n",
       "      <td></td>\n",
       "      <td>num_eng3</td>\n",
       "      <td>68</td>\n",
       "    </tr>\n",
       "    <tr>\n",
       "      <th>57</th>\n",
       "      <td>58</td>\n",
       "      <td></td>\n",
       "      <td>num_eng3</td>\n",
       "      <td>68</td>\n",
       "    </tr>\n",
       "    <tr>\n",
       "      <th>58</th>\n",
       "      <td>59</td>\n",
       "      <td></td>\n",
       "      <td>num_eng3</td>\n",
       "      <td>68</td>\n",
       "    </tr>\n",
       "    <tr>\n",
       "      <th>59</th>\n",
       "      <td>60</td>\n",
       "      <td></td>\n",
       "      <td>num_eng3</td>\n",
       "      <td>68</td>\n",
       "    </tr>\n",
       "    <tr>\n",
       "      <th>60</th>\n",
       "      <td>61</td>\n",
       "      <td></td>\n",
       "      <td>num_eng3</td>\n",
       "      <td>68</td>\n",
       "    </tr>\n",
       "    <tr>\n",
       "      <th>61</th>\n",
       "      <td>62</td>\n",
       "      <td></td>\n",
       "      <td>num_eng3</td>\n",
       "      <td>68</td>\n",
       "    </tr>\n",
       "    <tr>\n",
       "      <th>62</th>\n",
       "      <td>63</td>\n",
       "      <td></td>\n",
       "      <td>num_eng3</td>\n",
       "      <td>68</td>\n",
       "    </tr>\n",
       "    <tr>\n",
       "      <th>63</th>\n",
       "      <td>64</td>\n",
       "      <td></td>\n",
       "      <td>num_eng3</td>\n",
       "      <td>68</td>\n",
       "    </tr>\n",
       "    <tr>\n",
       "      <th>64</th>\n",
       "      <td>65</td>\n",
       "      <td></td>\n",
       "      <td>num_eng3</td>\n",
       "      <td>68</td>\n",
       "    </tr>\n",
       "    <tr>\n",
       "      <th>65</th>\n",
       "      <td>66</td>\n",
       "      <td></td>\n",
       "      <td>num_eng3</td>\n",
       "      <td>68</td>\n",
       "    </tr>\n",
       "    <tr>\n",
       "      <th>66</th>\n",
       "      <td>67</td>\n",
       "      <td></td>\n",
       "      <td>num_eng3</td>\n",
       "      <td>68</td>\n",
       "    </tr>\n",
       "    <tr>\n",
       "      <th>67</th>\n",
       "      <td>68</td>\n",
       "      <td></td>\n",
       "      <td>num_eng3</td>\n",
       "      <td>68</td>\n",
       "    </tr>\n",
       "    <tr>\n",
       "      <th>68</th>\n",
       "      <td>69</td>\n",
       "      <td></td>\n",
       "      <td>num_eng3</td>\n",
       "      <td>68</td>\n",
       "    </tr>\n",
       "    <tr>\n",
       "      <th>69</th>\n",
       "      <td>70</td>\n",
       "      <td></td>\n",
       "      <td>num_eng3</td>\n",
       "      <td>68</td>\n",
       "    </tr>\n",
       "  </tbody>\n",
       "</table>\n",
       "</div>"
      ],
      "text/plain": [
       "    index stwd_eng3  num_eng3  dupl_list_eng3\n",
       "0       1            num_eng3              68\n",
       "1       2            num_eng3              68\n",
       "2       3            num_eng3              68\n",
       "3       4            num_eng3              68\n",
       "4       5            num_eng3              68\n",
       "5       6            num_eng3              68\n",
       "6       7            num_eng3              68\n",
       "7       8            num_eng3              68\n",
       "8       9            num_eng3              68\n",
       "9      10            num_eng3              68\n",
       "10     11            num_eng3              68\n",
       "11     12            num_eng3              68\n",
       "12     13            num_eng3              68\n",
       "13     14            num_eng3              68\n",
       "14     15            num_eng3              68\n",
       "15     16            num_eng3              68\n",
       "16     17            num_eng3              68\n",
       "17     18            num_eng3              68\n",
       "18     19            num_eng3              68\n",
       "19     20            num_eng3              68\n",
       "20     21            num_eng3              68\n",
       "21     22            num_eng3              68\n",
       "22     23         G  num_eng3               1\n",
       "23     24        g섞  num_eng3               1\n",
       "24     25            num_eng3              68\n",
       "25     26            num_eng3              68\n",
       "26     27            num_eng3              68\n",
       "27     28            num_eng3              68\n",
       "28     29            num_eng3              68\n",
       "29     30            num_eng3              68\n",
       "30     31            num_eng3              68\n",
       "31     32            num_eng3              68\n",
       "32     33            num_eng3              68\n",
       "33     34            num_eng3              68\n",
       "34     35            num_eng3              68\n",
       "35     36            num_eng3              68\n",
       "36     37            num_eng3              68\n",
       "37     38            num_eng3              68\n",
       "38     39            num_eng3              68\n",
       "39     40            num_eng3              68\n",
       "40     41            num_eng3              68\n",
       "41     42            num_eng3              68\n",
       "42     43            num_eng3              68\n",
       "43     44            num_eng3              68\n",
       "44     45            num_eng3              68\n",
       "45     46            num_eng3              68\n",
       "46     47            num_eng3              68\n",
       "47     48            num_eng3              68\n",
       "48     49            num_eng3              68\n",
       "49     50            num_eng3              68\n",
       "50     51            num_eng3              68\n",
       "51     52            num_eng3              68\n",
       "52     53            num_eng3              68\n",
       "53     54            num_eng3              68\n",
       "54     55            num_eng3              68\n",
       "55     56            num_eng3              68\n",
       "56     57            num_eng3              68\n",
       "57     58            num_eng3              68\n",
       "58     59            num_eng3              68\n",
       "59     60            num_eng3              68\n",
       "60     61            num_eng3              68\n",
       "61     62            num_eng3              68\n",
       "62     63            num_eng3              68\n",
       "63     64            num_eng3              68\n",
       "64     65            num_eng3              68\n",
       "65     66            num_eng3              68\n",
       "66     67            num_eng3              68\n",
       "67     68            num_eng3              68\n",
       "68     69            num_eng3              68\n",
       "69     70            num_eng3              68"
      ]
     },
     "execution_count": 8,
     "metadata": {},
     "output_type": "execute_result"
    }
   ],
   "source": [
    "# 한글/영문 컬럼 수 일치시키기\n",
    "\n",
    "# 한글컬럼과 영문컬럼 수 일치할 경우\n",
    "if col_cnt_kor == col_cnt_eng:\n",
    "    col_cnt = col_cnt_kor\n",
    "    col_cnt_diff_list = None\n",
    "    col_cnt_diff = None\n",
    "    print('한글컬럼과 영문컬럼 수 일치')\n",
    "    print(\"kor:\" + str(col_cnt_kor) + \" vs eng:\" + str(col_cnt_eng))\n",
    "    print(\"컬럼수 일치작업 후:\" + str(col_cnt))  \n",
    "    \n",
    "# 한글컬럼이 더 많을 경우\n",
    "elif col_cnt_kor > col_cnt_eng:\n",
    "    col_cnt = col_cnt_kor\n",
    "    col_cnt_diff_list = list(set(range(col_cnt_kor)) - set(range(col_cnt_eng)))\n",
    "    col_cnt_diff = len(col_cnt_diff_list)\n",
    "    for i in col_cnt_diff_list:\n",
    "        input_split_eng['stwd_eng{}'.format(i)] = None\n",
    "        input_split_eng['num_eng{}'.format(i)] = None\n",
    "        input_split_eng['dupl_list_eng{}'.format(i)] = None\n",
    "        globals()['stwd_eng{}'.format(i)] = pd.concat(\n",
    "            [\n",
    "                df_index,\n",
    "                pd.DataFrame(input_split_eng['stwd_eng{}'.format(i)].fillna(\"\")),\n",
    "                pd.DataFrame(input_split_eng[\"num_eng{}\".format(i)].fillna(\"\")),\n",
    "                pd.DataFrame(input_split_eng[\"dupl_list_eng{}\".format(i)].fillna(\"\"))\n",
    "            ],\n",
    "            axis = 1\n",
    "        )\n",
    "    print('한글컬럼이 더 많은 싱태')\n",
    "    print(\"kor:\" + str(col_cnt_kor) + \" vs eng:\" + str(col_cnt_eng))\n",
    "    print(\"컬럼수 일치작업 후:\" + str(col_cnt))  \n",
    "\n",
    "# 영문컬럼이 더 많을 경우\n",
    "elif col_cnt_kor < col_cnt_eng:\n",
    "    col_cnt = col_cnt_eng\n",
    "    col_cnt_diff_list = list(set(range(col_cnt_eng)) - set(range(col_cnt_kor)))\n",
    "    col_cnt_diff = len(col_cnt_diff_list)\n",
    "    for i in col_cnt_diff_list:\n",
    "        input_split_kor['stwd_kor{}'.format(i)] = None\n",
    "        input_split_kor['num_kor{}'.format(i)] = None\n",
    "        input_split_eng['dupl_list_kor{}'.format(i)] = None\n",
    "        globals()['stwd_kor{}'.format(i)] = pd.concat(\n",
    "            [\n",
    "                df_index,\n",
    "                pd.DataFrame(input_split_kor['stwd_kor{}'.format(i)].fillna(\"\")),\n",
    "                pd.DataFrame(input_split_kor[\"num_kor{}\".format(i)].fillna(\"\")).\n",
    "                pd.DataFrame(input_split_eng[\"dupl_list_kor{}\".format(i)].fillna(\"\"))\n",
    "            ],\n",
    "            axis = 1\n",
    "        )\n",
    "    print('영문컬럼이 더 많은 싱태')       \n",
    "    print(\"kor:\" + str(col_cnt_kor) + \" vs eng:\" + str(col_cnt_eng))\n",
    "    print(\"컬럼수 일치작업 후:\" + str(col_cnt))  \n",
    "stwd_eng3"
   ]
  },
  {
   "cell_type": "code",
   "execution_count": 9,
   "id": "28047c00",
   "metadata": {},
   "outputs": [
    {
     "name": "stdout",
     "output_type": "stream",
     "text": [
      "한글 영문 row수 일치: 평균=70.0\n",
      "한글평균:70.0, 영문평균:70.0, 최종count:70\n"
     ]
    }
   ],
   "source": [
    "# n x m 정사각형 DafaFrame 점검\n",
    "for i in range(col_cnt_kor):\n",
    "    for j in range(len(globals()[\"stwd_kor{}\".format(i)])):\n",
    "        cnt = (j + 1)\n",
    "    avg = np.mean(cnt)\n",
    "avg_avg_kor = round(np.mean(avg), 2)\n",
    "for i in range(col_cnt_eng):\n",
    "    for j in range(len(globals()[\"stwd_kor{}\".format(i)])):\n",
    "        cnt = (j + 1)\n",
    "    avg = np.mean(cnt)\n",
    "avg_avg_eng = round(np.mean(avg), 2)\n",
    "stwd_total_cnt = int(avg_avg_eng)\n",
    "if avg_avg_kor == avg_avg_eng:\n",
    "    print(\"한글 영문 row수 일치: 평균=\" + str((avg_avg_kor + avg_avg_eng)/2))\n",
    "    print(\"한글평균:\" + str(avg_avg_kor) + \", 영문평균:\" + str(avg_avg_eng) + \", 최종count:\" + str(stwd_total_cnt))\n",
    "else:\n",
    "    yes_or_no(\"한글명과 영문명의 row count가 일치하지 않습니다. 계속 진행하시겠습니까?\")\n",
    "    print(\"한글 영문 row수 불일치: 평균\" + str((avg_avg_kor + avg_avg_eng)/2))\n",
    "    print(\"한글평균:\" + str(avg_avg_kor) + \", 영문평균:\" + str(avg_avg_eng) + \", 최종count:\" + str(stwd_total_cnt))"
   ]
  },
  {
   "cell_type": "code",
   "execution_count": 10,
   "id": "fad007a8",
   "metadata": {},
   "outputs": [
    {
     "name": "stdout",
     "output_type": "stream",
     "text": [
      "10\n"
     ]
    }
   ],
   "source": [
    "# 중복검사를 위한 left join\n",
    "for i in range(col_cnt):\n",
    "    globals()['stwd_total{}'.format(i)] = pd.merge(\n",
    "        globals()['stwd_kor{}'.format(i)],\n",
    "        globals()['stwd_eng{}'.format(i)],\n",
    "        on = 'index',\n",
    "        how = 'left'\n",
    "    )\n",
    "print(col_cnt)\n",
    "# stwd_total9"
   ]
  },
  {
   "cell_type": "code",
   "execution_count": 11,
   "id": "0d99cfca",
   "metadata": {},
   "outputs": [
    {
     "name": "stdout",
     "output_type": "stream",
     "text": [
      "(700, 7)\n"
     ]
    },
    {
     "data": {
      "text/html": [
       "<div>\n",
       "<style scoped>\n",
       "    .dataframe tbody tr th:only-of-type {\n",
       "        vertical-align: middle;\n",
       "    }\n",
       "\n",
       "    .dataframe tbody tr th {\n",
       "        vertical-align: top;\n",
       "    }\n",
       "\n",
       "    .dataframe thead th {\n",
       "        text-align: right;\n",
       "    }\n",
       "</style>\n",
       "<table border=\"1\" class=\"dataframe\">\n",
       "  <thead>\n",
       "    <tr style=\"text-align: right;\">\n",
       "      <th></th>\n",
       "      <th>index</th>\n",
       "      <th>stwd_kor</th>\n",
       "      <th>num_kor</th>\n",
       "      <th>dupl_list_kor</th>\n",
       "      <th>stwd_eng</th>\n",
       "      <th>num_eng</th>\n",
       "      <th>dupl_list_eng</th>\n",
       "    </tr>\n",
       "  </thead>\n",
       "  <tbody>\n",
       "    <tr>\n",
       "      <th>0</th>\n",
       "      <td>1</td>\n",
       "      <td>가입tds</td>\n",
       "      <td>num_kor0</td>\n",
       "      <td>2</td>\n",
       "      <td>TEST!!!</td>\n",
       "      <td>num_eng0</td>\n",
       "      <td>3</td>\n",
       "    </tr>\n",
       "    <tr>\n",
       "      <th>1</th>\n",
       "      <td>2</td>\n",
       "      <td>개설</td>\n",
       "      <td>num_kor0</td>\n",
       "      <td>2</td>\n",
       "      <td>$^$^dasd</td>\n",
       "      <td>num_eng0</td>\n",
       "      <td>9</td>\n",
       "    </tr>\n",
       "    <tr>\n",
       "      <th>2</th>\n",
       "      <td>3</td>\n",
       "      <td>개시</td>\n",
       "      <td>num_kor0</td>\n",
       "      <td>2</td>\n",
       "      <td>asdf</td>\n",
       "      <td>num_eng0</td>\n",
       "      <td>3</td>\n",
       "    </tr>\n",
       "    <tr>\n",
       "      <th>3</th>\n",
       "      <td>4</td>\n",
       "      <td>개업</td>\n",
       "      <td>num_kor0</td>\n",
       "      <td>2</td>\n",
       "      <td>$^$^dasd</td>\n",
       "      <td>num_eng0</td>\n",
       "      <td>9</td>\n",
       "    </tr>\n",
       "    <tr>\n",
       "      <th>4</th>\n",
       "      <td>5</td>\n",
       "      <td>개인</td>\n",
       "      <td>num_kor0</td>\n",
       "      <td>2</td>\n",
       "      <td>sdf</td>\n",
       "      <td>num_eng0</td>\n",
       "      <td>3</td>\n",
       "    </tr>\n",
       "    <tr>\n",
       "      <th>...</th>\n",
       "      <td>...</td>\n",
       "      <td>...</td>\n",
       "      <td>...</td>\n",
       "      <td>...</td>\n",
       "      <td>...</td>\n",
       "      <td>...</td>\n",
       "      <td>...</td>\n",
       "    </tr>\n",
       "    <tr>\n",
       "      <th>695</th>\n",
       "      <td>66</td>\n",
       "      <td></td>\n",
       "      <td>num_kor9</td>\n",
       "      <td>69</td>\n",
       "      <td></td>\n",
       "      <td></td>\n",
       "      <td></td>\n",
       "    </tr>\n",
       "    <tr>\n",
       "      <th>696</th>\n",
       "      <td>67</td>\n",
       "      <td></td>\n",
       "      <td>num_kor9</td>\n",
       "      <td>69</td>\n",
       "      <td></td>\n",
       "      <td></td>\n",
       "      <td></td>\n",
       "    </tr>\n",
       "    <tr>\n",
       "      <th>697</th>\n",
       "      <td>68</td>\n",
       "      <td></td>\n",
       "      <td>num_kor9</td>\n",
       "      <td>69</td>\n",
       "      <td></td>\n",
       "      <td></td>\n",
       "      <td></td>\n",
       "    </tr>\n",
       "    <tr>\n",
       "      <th>698</th>\n",
       "      <td>69</td>\n",
       "      <td></td>\n",
       "      <td>num_kor9</td>\n",
       "      <td>69</td>\n",
       "      <td></td>\n",
       "      <td></td>\n",
       "      <td></td>\n",
       "    </tr>\n",
       "    <tr>\n",
       "      <th>699</th>\n",
       "      <td>70</td>\n",
       "      <td></td>\n",
       "      <td>num_kor9</td>\n",
       "      <td>69</td>\n",
       "      <td></td>\n",
       "      <td></td>\n",
       "      <td></td>\n",
       "    </tr>\n",
       "  </tbody>\n",
       "</table>\n",
       "<p>700 rows × 7 columns</p>\n",
       "</div>"
      ],
      "text/plain": [
       "     index stwd_kor   num_kor  dupl_list_kor  stwd_eng   num_eng dupl_list_eng\n",
       "0        1    가입tds  num_kor0              2   TEST!!!  num_eng0             3\n",
       "1        2       개설  num_kor0              2  $^$^dasd  num_eng0             9\n",
       "2        3       개시  num_kor0              2      asdf  num_eng0             3\n",
       "3        4       개업  num_kor0              2  $^$^dasd  num_eng0             9\n",
       "4        5       개인  num_kor0              2       sdf  num_eng0             3\n",
       "..     ...      ...       ...            ...       ...       ...           ...\n",
       "695     66           num_kor9             69                                  \n",
       "696     67           num_kor9             69                                  \n",
       "697     68           num_kor9             69                                  \n",
       "698     69           num_kor9             69                                  \n",
       "699     70           num_kor9             69                                  \n",
       "\n",
       "[700 rows x 7 columns]"
      ]
     },
     "execution_count": 11,
     "metadata": {},
     "output_type": "execute_result"
    }
   ],
   "source": [
    "# 일렬 세우기\n",
    "\n",
    "# unique_stwd 초기화 \n",
    "stwd_total = pd.DataFrame()\n",
    "\n",
    "## 컬럼명 바꾸고  concat\n",
    "for i in range(col_cnt):\n",
    "    globals()[\"stwd_total{}\".format(i)].columns = [\n",
    "        'index', 'stwd_kor', 'num_kor', 'dupl_list_kor', 'stwd_eng','num_eng', 'dupl_list_eng'\n",
    "    ]\n",
    "    stwd_total = pd.concat([stwd_total, globals()[\"stwd_total{}\".format(i)]], axis = 0, ignore_index = True)\n",
    "print(stwd_total.shape)\n",
    "stwd_total"
   ]
  },
  {
   "cell_type": "markdown",
   "id": "7c2efbd8",
   "metadata": {},
   "source": [
    "# 3. 이상값 수정"
   ]
  },
  {
   "cell_type": "markdown",
   "id": "01751d87",
   "metadata": {},
   "source": [
    "### 3.1. 한글명에 한글과 영문대문자, 숫자 이외 표시 및 삭제 로직"
   ]
  },
  {
   "cell_type": "code",
   "execution_count": 12,
   "id": "eb7d0f6d",
   "metadata": {},
   "outputs": [
    {
     "name": "stdout",
     "output_type": "stream",
     "text": [
      "데이터 검토를 실행 하시겠습니까? (y/n): Y\n",
      "----------------------영문 소문자 체크 및 기록--------------------|\n",
      "index: 0\n",
      "가입tds -> 가입TDS\n",
      "----------------------영문 소문자 체크 및 기록--------------------|\n",
      "index: 44\n",
      "테스트ad -> 테스트AD\n",
      "----------------------영문 소문자 체크 및 기록--------------------|\n",
      "index: 50\n",
      "가입tds -> 가입TDS\n",
      "----------------------영문 소문자 체크 및 기록--------------------|\n",
      "index: 130\n",
      "가입tds -> 가입TDS\n",
      "====================================한글명 검토====================================|\n",
      "소문자 처리: 4개\n",
      "나머지 제거: 4\n",
      "[자동 처리 완료하였습니다]\n",
      "-----------------------------특수기호제거----------------------------|\n",
      "index: 0\n",
      "TEST!!! -> TEST\n",
      "----------------------영문 소문자 체크 및 기록--------------------|\n",
      "index: 1\n",
      "$^$^dasd -> $^$^DASD\n",
      "-----------------------------특수기호제거----------------------------|\n",
      "index: 1\n",
      "$^$^DASD -> DASD\n",
      "----------------------영문 소문자 체크 및 기록--------------------|\n",
      "index: 2\n",
      "asdf -> ASDF\n",
      "----------------------영문 소문자 체크 및 기록--------------------|\n",
      "index: 3\n",
      "$^$^dasd -> $^$^DASD\n",
      "-----------------------------특수기호제거----------------------------|\n",
      "index: 3\n",
      "$^$^DASD -> DASD\n",
      "----------------------영문 소문자 체크 및 기록--------------------|\n",
      "index: 4\n",
      "sdf -> SDF\n",
      "-----------------------------특수기호제거----------------------------|\n",
      "index: 5\n",
      "한글 여기 있지롱 -> \n",
      "----------------------영문 소문자 체크 및 기록--------------------|\n",
      "index: 6\n",
      "$^$^dasd -> $^$^DASD\n",
      "-----------------------------특수기호제거----------------------------|\n",
      "index: 6\n",
      "$^$^DASD -> DASD\n",
      "-----------------------------특수기호제거----------------------------|\n",
      "index: 7\n",
      "한글 여기 있지롱 -> \n",
      "-----------------------------특수기호제거----------------------------|\n",
      "index: 9\n",
      "한글여기있지롱 -> \n",
      "-----------------------------특수기호제거----------------------------|\n",
      "index: 10\n",
      "한글여기있지롱 -> \n",
      "-----------------------------특수기호제거----------------------------|\n",
      "index: 11\n",
      "한글eng섞었G -> G\n",
      "----------------------영문 소문자 체크 및 기록--------------------|\n",
      "index: 12\n",
      "asdgsd!!! -> ASDGSD!!!\n",
      "-----------------------------특수기호제거----------------------------|\n",
      "index: 12\n",
      "ASDGSD!!! -> ASDGSD\n",
      "----------------------영문 소문자 체크 및 기록--------------------|\n",
      "index: 13\n",
      "asdgsd!!! -> ASDGSD!!!\n",
      "-----------------------------특수기호제거----------------------------|\n",
      "index: 13\n",
      "ASDGSD!!! -> ASDGSD\n",
      "----------------------영문 소문자 체크 및 기록--------------------|\n",
      "index: 14\n",
      "asdgsd!!! -> ASDGSD!!!\n",
      "-----------------------------특수기호제거----------------------------|\n",
      "index: 14\n",
      "ASDGSD!!! -> ASDGSD\n",
      "----------------------영문 소문자 체크 및 기록--------------------|\n",
      "index: 15\n",
      "asdgsd!!! -> ASDGSD!!!\n",
      "-----------------------------특수기호제거----------------------------|\n",
      "index: 15\n",
      "ASDGSD!!! -> ASDGSD\n",
      "-----------------------------특수기호제거----------------------------|\n",
      "index: 16\n",
      "#@# -> \n",
      "----------------------영문 소문자 체크 및 기록--------------------|\n",
      "index: 17\n",
      "asgdas -> ASGDAS\n",
      "-----------------------------특수기호제거----------------------------|\n",
      "index: 19\n",
      "한글eng섞었G -> G\n",
      "-----------------------------특수기호제거----------------------------|\n",
      "index: 22\n",
      "한글 -> \n",
      "-----------------------------특수기호제거----------------------------|\n",
      "index: 23\n",
      "Y한O -> YO\n",
      "----------------------영문 소문자 체크 및 기록--------------------|\n",
      "index: 24\n",
      "fa -> FA\n",
      "-----------------------------특수기호제거----------------------------|\n",
      "index: 50\n",
      "TEST!!! -> TEST\n",
      "----------------------영문 소문자 체크 및 기록--------------------|\n",
      "index: 51\n",
      "$^$^dasd -> $^$^DASD\n",
      "-----------------------------특수기호제거----------------------------|\n",
      "index: 51\n",
      "$^$^DASD -> DASD\n",
      "----------------------영문 소문자 체크 및 기록--------------------|\n",
      "index: 52\n",
      "asdf -> ASDF\n",
      "----------------------영문 소문자 체크 및 기록--------------------|\n",
      "index: 53\n",
      "$^$^dasd -> $^$^DASD\n",
      "-----------------------------특수기호제거----------------------------|\n",
      "index: 53\n",
      "$^$^DASD -> DASD\n",
      "----------------------영문 소문자 체크 및 기록--------------------|\n",
      "index: 54\n",
      "sdf -> SDF\n",
      "-----------------------------특수기호제거----------------------------|\n",
      "index: 55\n",
      "한글 여기 있지롱 -> \n",
      "----------------------영문 소문자 체크 및 기록--------------------|\n",
      "index: 56\n",
      "$^$^dasd -> $^$^DASD\n",
      "-----------------------------특수기호제거----------------------------|\n",
      "index: 56\n",
      "$^$^DASD -> DASD\n",
      "-----------------------------특수기호제거----------------------------|\n",
      "index: 57\n",
      "한글 여기 있지롱 -> \n",
      "-----------------------------특수기호제거----------------------------|\n",
      "index: 59\n",
      "한글여기있지롱 -> \n",
      "-----------------------------특수기호제거----------------------------|\n",
      "index: 60\n",
      "TEST!!! -> TEST\n",
      "----------------------영문 소문자 체크 및 기록--------------------|\n",
      "index: 61\n",
      "$^$^dasd -> $^$^DASD\n",
      "-----------------------------특수기호제거----------------------------|\n",
      "index: 61\n",
      "$^$^DASD -> DASD\n",
      "----------------------영문 소문자 체크 및 기록--------------------|\n",
      "index: 62\n",
      "asdf -> ASDF\n",
      "----------------------영문 소문자 체크 및 기록--------------------|\n",
      "index: 63\n",
      "$^$^dasd -> $^$^DASD\n",
      "-----------------------------특수기호제거----------------------------|\n",
      "index: 63\n",
      "$^$^DASD -> DASD\n",
      "----------------------영문 소문자 체크 및 기록--------------------|\n",
      "index: 64\n",
      "sdf -> SDF\n",
      "-----------------------------특수기호제거----------------------------|\n",
      "index: 65\n",
      "한글 여기 있지롱 -> \n",
      "----------------------영문 소문자 체크 및 기록--------------------|\n",
      "index: 66\n",
      "$^$^dasd -> $^$^DASD\n",
      "-----------------------------특수기호제거----------------------------|\n",
      "index: 66\n",
      "$^$^DASD -> DASD\n",
      "-----------------------------특수기호제거----------------------------|\n",
      "index: 67\n",
      "한글 여기 있지롱 -> \n",
      "-----------------------------특수기호제거----------------------------|\n",
      "index: 69\n",
      "한글여기있지롱 -> \n",
      "----------------------영문 소문자 체크 및 기록--------------------|\n",
      "index: 74\n",
      "dsfd -> DSFD\n",
      "----------------------영문 소문자 체크 및 기록--------------------|\n",
      "index: 78\n",
      "av -> AV\n",
      "-----------------------------특수기호제거----------------------------|\n",
      "index: 86\n",
      "#$$# -> \n",
      "----------------------영문 소문자 체크 및 기록--------------------|\n",
      "index: 92\n",
      "eng -> ENG\n",
      "----------------------영문 소문자 체크 및 기록--------------------|\n",
      "index: 93\n",
      "go -> GO\n",
      "----------------------영문 소문자 체크 및 기록--------------------|\n",
      "index: 124\n",
      "dsfd -> DSFD\n",
      "----------------------영문 소문자 체크 및 기록--------------------|\n",
      "index: 128\n",
      "av -> AV\n",
      "----------------------영문 소문자 체크 및 기록--------------------|\n",
      "index: 134\n",
      "dsfd -> DSFD\n",
      "----------------------영문 소문자 체크 및 기록--------------------|\n",
      "index: 138\n",
      "av -> AV\n",
      "----------------------영문 소문자 체크 및 기록--------------------|\n",
      "index: 144\n",
      "df -> DF\n",
      "-----------------------------특수기호제거----------------------------|\n",
      "index: 162\n",
      "섞었 -> \n",
      "-----------------------------특수기호제거----------------------------|\n",
      "index: 163\n",
      "글두 -> \n",
      "----------------------영문 소문자 체크 및 기록--------------------|\n",
      "index: 194\n",
      "df -> DF\n",
      "----------------------영문 소문자 체크 및 기록--------------------|\n",
      "index: 204\n",
      "df -> DF\n",
      "----------------------영문 소문자 체크 및 기록--------------------|\n",
      "index: 233\n",
      "g섞 -> G섞\n",
      "-----------------------------특수기호제거----------------------------|\n",
      "index: 233\n",
      "G섞 -> G\n",
      "-----------------------------특수기호제거----------------------------|\n",
      "index: 303\n",
      "었G -> G\n",
      "====================================영문명 검토====================================|\n",
      "소문자 처리: 33개\n",
      "나머지 제거: 69\n",
      "[자동 처리 완료하였습니다]\n"
     ]
    }
   ],
   "source": [
    "def emoti_chk(var):\n",
    "    if var == 'kor':\n",
    "        # 한글명에 영문 소문자 탐색\n",
    "        stwd_total = globals()['stwd_total']\n",
    "        df_lower_kor = pd.DataFrame(columns = stwd_total.columns)        \n",
    "        stwd_total['kor_lower'] = ''\n",
    "        stwd_total['kor_ec'] = ''\n",
    "        kor_chk_list = []\n",
    "        for i in range(len(stwd_total)):\n",
    "\n",
    "        #     특수기호 제거\n",
    "        #     stwd_total.loc[i, 'stwd_kor'] =  stwd_total.loc[i, 'stwd_kor'].translate(str.maketrans('', '', string.punctuation))\n",
    "\n",
    "            # 영문 소문자 체크 및 기록\n",
    "            if stwd_total.loc[i, 'stwd_kor'].islower():\n",
    "                tmp = pd.DataFrame(stwd_total.iloc[i,:]).transpose()\n",
    "                df_lower_kor = pd.concat([df_lower_kor, tmp], axis=0)\n",
    "                print(\"----------------------영문 소문자 체크 및 기록--------------------|\")\n",
    "                print('index: ' + str(i))\n",
    "                print(stwd_total.loc[i, 'stwd_kor'] + \" -> \" + str(stwd_total.loc[i, 'stwd_kor'].upper()))\n",
    "                kor_chk_list.append(i)\n",
    "\n",
    "                # 영문 변경 이력 저장\n",
    "                stwd_total.loc[i, 'kor_lower'] = stwd_total.loc[i, 'stwd_kor']      \n",
    "\n",
    "                # 영문 대문자 변경\n",
    "                stwd_total.loc[i, 'stwd_kor'] = stwd_total.loc[i, 'stwd_kor'].upper()\n",
    "\n",
    "            # 영문 대문자, 숫자, 한글만 체크\n",
    "            cor_kor = re.findall('[A-Z0-9가-힣+]', stwd_total.loc[i, 'stwd_kor'])\n",
    "            chk_kor = len(cor_kor) == len(list(stwd_total.loc[i, 'stwd_kor']))\n",
    "\n",
    "            if bool(chk_kor) == False:\n",
    "                print(\"-----------------------------특수기호제거----------------------------|\")\n",
    "                print('index: ' + str(i))\n",
    "                print(stwd_total.loc[i, 'stwd_kor'] + \" -> \" + str(''.join(cor_kor)))\n",
    "                kor_chk_list.append(i)\n",
    "\n",
    "            # 영문대문자, 숫자, 한글 외 변경 이력 저장\n",
    "            stwd_total.loc[i, 'kor_ec'] = re.sub('[A-Z0-9가-힣+]', '', stwd_total.loc[i, 'stwd_kor'])        \n",
    "\n",
    "            # 영문대문자, 숫자, 한글 외 자동 삭제\n",
    "            stwd_total.loc[i, 'stwd_kor'] = ''.join(cor_kor)\n",
    "\n",
    "        # 변경 이력 저장\n",
    "        stwd_total['kor_cor_hist'] = \"\"\n",
    "        stwd_total['kor_cor_hist'] = stwd_total['kor_lower'] + stwd_total['kor_ec']\n",
    "\n",
    "        # 적용 후 결과값\n",
    "        print(\"====================================한글명 검토====================================|\")\n",
    "        print('소문자 처리: ' + str(len(df_lower_kor)) + '개')\n",
    "        stwd_total_kor_chk_1 = stwd_total.iloc[kor_chk_list]\n",
    "        print(\"나머지 제거: \"+ str(len(kor_chk_list)))\n",
    "        print('[자동 처리 완료하였습니다]')\n",
    "\n",
    "    elif var == 'eng':\n",
    "        # 영문명에 영문 소문자 탐색\n",
    "        stwd_total = globals()['stwd_total']\n",
    "        df_lower_eng = pd.DataFrame(columns = stwd_total.columns)        \n",
    "        stwd_total['eng_lower'] = ''\n",
    "        stwd_total['eng_ec'] = ''\n",
    "        eng_chk_list = []\n",
    "        for i in range(len(stwd_total)):\n",
    "\n",
    "            # 영문 소문자 체크 및 기록\n",
    "            if stwd_total.loc[i, 'stwd_eng'].islower():\n",
    "                tmp = pd.DataFrame(stwd_total.iloc[i,:]).transpose()\n",
    "                df_lower_eng = pd.concat([df_lower_eng, tmp], axis=0)\n",
    "                print(\"----------------------영문 소문자 체크 및 기록--------------------|\")\n",
    "                print('index: ' + str(i))\n",
    "                print(stwd_total.loc[i, 'stwd_eng'] + \" -> \" + str(stwd_total.loc[i, 'stwd_eng'].upper()))\n",
    "                eng_chk_list.append(i)\n",
    "\n",
    "                # 영문 변경 이력 저장\n",
    "                stwd_total.loc[i, 'eng_lower'] = stwd_total.loc[i, 'stwd_eng']      \n",
    "\n",
    "                # 영문 대문자 변경\n",
    "                stwd_total.loc[i, 'stwd_eng'] = stwd_total.loc[i, 'stwd_eng'].upper()\n",
    "\n",
    "            # 영문 대문자, 숫자, 한글만 체크\n",
    "            cor_eng = re.findall('[A-Z0-9+]', stwd_total.loc[i, 'stwd_eng'])\n",
    "            chk_eng = len(cor_eng) == len(list(stwd_total.loc[i, 'stwd_eng']))\n",
    "\n",
    "            if bool(chk_eng) == False:\n",
    "                print(\"-----------------------------특수기호제거----------------------------|\")\n",
    "                print('index: ' + str(i))\n",
    "                print(stwd_total.loc[i, 'stwd_eng'] + \" -> \" + str(''.join(cor_eng)))\n",
    "                eng_chk_list.append(i)\n",
    "\n",
    "            # 영문대문자, 숫자 외 변경 이력 저장\n",
    "            stwd_total.loc[i, 'eng_ec'] = re.sub('[A-Z0-9+]', '', stwd_total.loc[i, 'stwd_eng'])        \n",
    "\n",
    "            # 영문대문자, 숫자 외 자동 삭제\n",
    "            stwd_total.loc[i, 'stwd_eng'] = ''.join(cor_eng)\n",
    "\n",
    "        # 변경 이력 저장\n",
    "        stwd_total['eng_cor_hist'] = ''\n",
    "        stwd_total['eng_cor_hist'] = stwd_total['eng_lower'] + stwd_total['eng_ec']\n",
    "\n",
    "        # 적용 후 결과값\n",
    "        print(\"====================================영문명 검토====================================|\")\n",
    "        print('소문자 처리: ' + str(len(df_lower_eng)) + '개')\n",
    "        stwd_total_eng_chk_1 = stwd_total.iloc[eng_chk_list]\n",
    "        print(\"나머지 제거: \"+ str(len(eng_chk_list)))\n",
    "        print('[자동 처리 완료하였습니다]')\n",
    "        \n",
    "    else:\n",
    "        print(\"잘못된 입력입니다( 'kor' / 'eng' )\")\n",
    "# 데이터 검토\n",
    "ans = yes_or_no(\"데이터 검토를 실행 하시겠습니까?\")\n",
    "if ans == True:\n",
    "    emoti_chk('kor')\n",
    "    emoti_chk('eng')\n",
    "elif ans == False:\n",
    "    print(\"계속 진행하겠습니다\")"
   ]
  },
  {
   "cell_type": "markdown",
   "id": "92641bf1",
   "metadata": {},
   "source": [
    "### 3.2. 특수문자 제거 참고"
   ]
  },
  {
   "cell_type": "code",
   "execution_count": 13,
   "id": "e45dbbad",
   "metadata": {},
   "outputs": [
    {
     "name": "stdout",
     "output_type": "stream",
     "text": [
      "------------------------------------------------------\n",
      "['고', '구', '마', 'A', 'B', '1', '3', '2']\n",
      "8 vs 16\n",
      "False\n",
      "------------------------------------------------------\n",
      "['깎', '니']\n",
      "2 vs 3\n",
      "False\n",
      "------------------------------------------------------\n",
      "['R', 'R', '깍', '찌', '니', '1', '2']\n",
      "7 vs 7\n",
      "True\n",
      "------------------------------------------------------\n",
      "['1', '2', '3', '깍', '찌', '니', 'S']\n",
      "7 vs 8\n",
      "False\n",
      "------------------------------------------------------\n"
     ]
    }
   ],
   "source": [
    "# 변경 체크 로직\n",
    "\n",
    "s1 = '고구마acAB1!$%@! 32'\n",
    "s2 = '깎ㅉ니'\n",
    "s3 = \"RR깍찌니12\"\n",
    "s4 = \"123깍찌니aS\"\n",
    "print(\"------------------------------------------------------\")\n",
    "print(re.findall('[A-Z0-9가-힣+]', s1))\n",
    "print(str(len(re.findall('[A-Z0-9가-힣+]', s1))) + \" vs \" + str(len(list(s1))))\n",
    "print(len(re.findall('[A-Z0-9가-힣+]', s1)) == len(list(s1)))\n",
    "print(\"------------------------------------------------------\")\n",
    "print(re.findall('[A-Z0-9가-힣+]', s2))\n",
    "print(str(len(re.findall('[A-Z0-9가-힣+]', s2))) + \" vs \" + str(len(list(s2))))\n",
    "print(len(re.findall('[A-Z0-9가-힣+]', s2)) == len(list(s2)))\n",
    "print(\"------------------------------------------------------\")\n",
    "print(re.findall('[A-Z0-9가-힣+]', s3))\n",
    "print(str(len(re.findall('[A-Z0-9가-힣+]', s3))) + \" vs \" + str(len(list(s3))))\n",
    "print(len(re.findall('[A-Z0-9가-힣+]', s3)) == len(list(s3)))\n",
    "print(\"------------------------------------------------------\")\n",
    "print(re.findall('[A-Z0-9가-힣+]', s4))\n",
    "print(str(len(re.findall('[A-Z0-9가-힣+]', s4))) + \" vs \" + str(len(list(s4))))\n",
    "print(len(re.findall('[A-Z0-9가-힣+]', s4)) == len(list(s4)))\n",
    "print(\"------------------------------------------------------\")"
   ]
  },
  {
   "cell_type": "markdown",
   "id": "3450a75f",
   "metadata": {},
   "source": [
    "# 4. 공통 표준 우선 적용"
   ]
  },
  {
   "cell_type": "code",
   "execution_count": 14,
   "id": "f2df39ed",
   "metadata": {},
   "outputs": [
    {
     "name": "stdout",
     "output_type": "stream",
     "text": [
      "영문 약어명을 공통 표준으로 통일 하시겠습니까? (y/n): y\n",
      "한글명을 기준으로 공통(행안부) 표준을 우선 적용합니다.\n",
      "(700, 5)\n"
     ]
    },
    {
     "data": {
      "text/html": [
       "<div>\n",
       "<style scoped>\n",
       "    .dataframe tbody tr th:only-of-type {\n",
       "        vertical-align: middle;\n",
       "    }\n",
       "\n",
       "    .dataframe tbody tr th {\n",
       "        vertical-align: top;\n",
       "    }\n",
       "\n",
       "    .dataframe thead th {\n",
       "        text-align: right;\n",
       "    }\n",
       "</style>\n",
       "<table border=\"1\" class=\"dataframe\">\n",
       "  <thead>\n",
       "    <tr style=\"text-align: right;\">\n",
       "      <th></th>\n",
       "      <th>index</th>\n",
       "      <th>stwd_kor</th>\n",
       "      <th>num_kor</th>\n",
       "      <th>stwd_eng</th>\n",
       "      <th>num_eng</th>\n",
       "    </tr>\n",
       "  </thead>\n",
       "  <tbody>\n",
       "    <tr>\n",
       "      <th>0</th>\n",
       "      <td>1</td>\n",
       "      <td>가입TDS</td>\n",
       "      <td>num_kor0</td>\n",
       "      <td>NaN</td>\n",
       "      <td>num_eng0</td>\n",
       "    </tr>\n",
       "    <tr>\n",
       "      <th>1</th>\n",
       "      <td>2</td>\n",
       "      <td>개설</td>\n",
       "      <td>num_kor0</td>\n",
       "      <td>ESTBL</td>\n",
       "      <td>num_eng0</td>\n",
       "    </tr>\n",
       "    <tr>\n",
       "      <th>2</th>\n",
       "      <td>3</td>\n",
       "      <td>개시</td>\n",
       "      <td>num_kor0</td>\n",
       "      <td>STRT</td>\n",
       "      <td>num_eng0</td>\n",
       "    </tr>\n",
       "    <tr>\n",
       "      <th>3</th>\n",
       "      <td>4</td>\n",
       "      <td>개업</td>\n",
       "      <td>num_kor0</td>\n",
       "      <td>OPBIZ</td>\n",
       "      <td>num_eng0</td>\n",
       "    </tr>\n",
       "    <tr>\n",
       "      <th>4</th>\n",
       "      <td>5</td>\n",
       "      <td>개인</td>\n",
       "      <td>num_kor0</td>\n",
       "      <td>NaN</td>\n",
       "      <td>num_eng0</td>\n",
       "    </tr>\n",
       "  </tbody>\n",
       "</table>\n",
       "</div>"
      ],
      "text/plain": [
       "   index stwd_kor   num_kor stwd_eng   num_eng\n",
       "0      1    가입TDS  num_kor0      NaN  num_eng0\n",
       "1      2       개설  num_kor0    ESTBL  num_eng0\n",
       "2      3       개시  num_kor0     STRT  num_eng0\n",
       "3      4       개업  num_kor0    OPBIZ  num_eng0\n",
       "4      5       개인  num_kor0      NaN  num_eng0"
      ]
     },
     "execution_count": 14,
     "metadata": {},
     "output_type": "execute_result"
    }
   ],
   "source": [
    "if yes_or_no(\"영문 약어명을 공통 표준으로 통일 하시겠습니까?\"):\n",
    "\n",
    "    # 표준 파일 불러오기\n",
    "    sheet_name = \"공통표준단어\"\n",
    "    input_path = os.path.join(os.getcwd(), \"input\\\\\")\n",
    "    public_stwd = pd.read_excel(input_path + \"공공데이터 공통표준용어(2021.12월).xlsx\", sheet_name=sheet_name, header=0)\n",
    "    public_stwd = public_stwd[['NO', '공통표준단어명', '공통표준단어영문약어명']]\n",
    "\n",
    "    # 표준 영문명 자동 기입(널 제외)\n",
    "\n",
    "    # 표준 단어명 기준 left join (영문명이 null이면 비표준, notnull이면 표준)\n",
    "    std_chk = stwd_total.merge(public_stwd, left_on = 'stwd_kor', right_on = '공통표준단어명', how = 'left')\n",
    "    for i in range(std_chk.shape[0]):\n",
    "        \n",
    "        # joined DF의 영문명이 있을 경우 표준으로 대신 기입 \n",
    "        notna_chk = std_chk['stwd_eng'].notna()[i]\n",
    "        if notna_chk:\n",
    "            std_chk.loc[i, 'stwd_eng'] = std_chk.loc[i, '공통표준단어영문약어명']\n",
    "\n",
    "    std_chk_list = ['index', 'stwd_kor', 'num_kor', 'stwd_eng', 'num_eng']\n",
    "    std_chk = std_chk[std_chk_list]\n",
    "    \n",
    "    print('한글명을 기준으로 공통(행안부) 표준을 우선 적용합니다.')\n",
    "else:\n",
    "    print('공통(행안부) 표준을 우선 적용하지 않고 표준화를 진행합니다.')\n",
    "    \n",
    "print(std_chk.shape)\n",
    "std_chk.tail()\n",
    "std_chk.head()"
   ]
  },
  {
   "cell_type": "markdown",
   "id": "7dd65a0c",
   "metadata": {},
   "source": [
    "# 5. 한/영  중복제거 및 통합"
   ]
  },
  {
   "cell_type": "code",
   "execution_count": 20,
   "id": "e451945b",
   "metadata": {},
   "outputs": [],
   "source": [
    "# 한글명 중복 검사: 수기 수정 후 최대 unique 값 카운트\n",
    "def find_unique_eng(df):\n",
    "    \n",
    "    kor_input_cnt = sum(df_step_1['stwd_kor'].notna())\n",
    "    kor_unique_cnt = len(set(df_step_1['stwd_kor']))\n",
    "    eng_input_cnt = sum(df_step_1['stwd_eng'].notna())\n",
    "    eng_unque_cnt = len(set(df_step_1['stwd_eng']))\n",
    "    \n",
    "    print(\"==중복값 비교==\")\n",
    "    # (한)미입력값 개수\n",
    "    print('(한)     not null   개수: ' + str(kor_input_cnt))\n",
    "    # (한)unique 값 개수\n",
    "    print(\"(한)''포함 unique값 개수: \" + str(kor_unique_cnt)) \n",
    "    # (영)미입력값 개수\n",
    "    print('(영)     not null   개수: ' + str(eng_input_cnt))\n",
    "    # (영)unique 값 개수\n",
    "    print(\"(영)''포함 unique값 개수: \" + str(eng_unque_cnt)) \n",
    "    \n",
    "    if (kor_input_cnt == eng_input_cnt) and (kor_unique_cnt == eng_unque_cnt):\n",
    "        print('\"한글명과 영문명의 unique 개수가 같습니다.\"')\n",
    "    else:\n",
    "        print('\"한글명과 영문명의 unique 개수가 다릅니다.\"')"
   ]
  },
  {
   "cell_type": "code",
   "execution_count": 23,
   "id": "5aca5697",
   "metadata": {},
   "outputs": [
    {
     "name": "stdout",
     "output_type": "stream",
     "text": [
      "한글명중복제거:(60, 2)\n",
      "영문명중복제거:(35, 2)\n",
      "(700, 5)\n",
      "(700, 5)\n",
      "==중복값 비교==\n",
      "(한)     not null   개수: 60\n",
      "(한)''포함 unique값 개수: 61\n",
      "(영)     not null   개수: 34\n",
      "(영)''포함 unique값 개수: 35\n",
      "\"한글명과 영문명의 unique 개수가 다릅니다.\"\n"
     ]
    },
    {
     "data": {
      "text/html": [
       "<div>\n",
       "<style scoped>\n",
       "    .dataframe tbody tr th:only-of-type {\n",
       "        vertical-align: middle;\n",
       "    }\n",
       "\n",
       "    .dataframe tbody tr th {\n",
       "        vertical-align: top;\n",
       "    }\n",
       "\n",
       "    .dataframe thead th {\n",
       "        text-align: right;\n",
       "    }\n",
       "</style>\n",
       "<table border=\"1\" class=\"dataframe\">\n",
       "  <thead>\n",
       "    <tr style=\"text-align: right;\">\n",
       "      <th></th>\n",
       "      <th>index</th>\n",
       "      <th>stwd_kor</th>\n",
       "      <th>num_kor</th>\n",
       "      <th>stwd_eng</th>\n",
       "      <th>num_eng</th>\n",
       "    </tr>\n",
       "  </thead>\n",
       "  <tbody>\n",
       "    <tr>\n",
       "      <th>0</th>\n",
       "      <td>1</td>\n",
       "      <td>가입TDS</td>\n",
       "      <td>num_kor0</td>\n",
       "      <td>NaN</td>\n",
       "      <td>num_eng0</td>\n",
       "    </tr>\n",
       "    <tr>\n",
       "      <th>1</th>\n",
       "      <td>2</td>\n",
       "      <td>개설</td>\n",
       "      <td>num_kor0</td>\n",
       "      <td>ESTBL</td>\n",
       "      <td>num_eng0</td>\n",
       "    </tr>\n",
       "    <tr>\n",
       "      <th>2</th>\n",
       "      <td>3</td>\n",
       "      <td>개시</td>\n",
       "      <td>num_kor0</td>\n",
       "      <td>STRT</td>\n",
       "      <td>num_eng0</td>\n",
       "    </tr>\n",
       "    <tr>\n",
       "      <th>3</th>\n",
       "      <td>4</td>\n",
       "      <td>개업</td>\n",
       "      <td>num_kor0</td>\n",
       "      <td>OPBIZ</td>\n",
       "      <td>num_eng0</td>\n",
       "    </tr>\n",
       "    <tr>\n",
       "      <th>4</th>\n",
       "      <td>5</td>\n",
       "      <td>개인</td>\n",
       "      <td>num_kor0</td>\n",
       "      <td>NaN</td>\n",
       "      <td>NaN</td>\n",
       "    </tr>\n",
       "    <tr>\n",
       "      <th>...</th>\n",
       "      <td>...</td>\n",
       "      <td>...</td>\n",
       "      <td>...</td>\n",
       "      <td>...</td>\n",
       "      <td>...</td>\n",
       "    </tr>\n",
       "    <tr>\n",
       "      <th>695</th>\n",
       "      <td>66</td>\n",
       "      <td>NaN</td>\n",
       "      <td>NaN</td>\n",
       "      <td>NaN</td>\n",
       "      <td>NaN</td>\n",
       "    </tr>\n",
       "    <tr>\n",
       "      <th>696</th>\n",
       "      <td>67</td>\n",
       "      <td>NaN</td>\n",
       "      <td>NaN</td>\n",
       "      <td>NaN</td>\n",
       "      <td>NaN</td>\n",
       "    </tr>\n",
       "    <tr>\n",
       "      <th>697</th>\n",
       "      <td>68</td>\n",
       "      <td>NaN</td>\n",
       "      <td>NaN</td>\n",
       "      <td>NaN</td>\n",
       "      <td>NaN</td>\n",
       "    </tr>\n",
       "    <tr>\n",
       "      <th>698</th>\n",
       "      <td>69</td>\n",
       "      <td>NaN</td>\n",
       "      <td>NaN</td>\n",
       "      <td>NaN</td>\n",
       "      <td>NaN</td>\n",
       "    </tr>\n",
       "    <tr>\n",
       "      <th>699</th>\n",
       "      <td>70</td>\n",
       "      <td>NaN</td>\n",
       "      <td>NaN</td>\n",
       "      <td>NaN</td>\n",
       "      <td>NaN</td>\n",
       "    </tr>\n",
       "  </tbody>\n",
       "</table>\n",
       "<p>700 rows × 5 columns</p>\n",
       "</div>"
      ],
      "text/plain": [
       "     index stwd_kor   num_kor stwd_eng   num_eng\n",
       "0        1    가입TDS  num_kor0      NaN  num_eng0\n",
       "1        2       개설  num_kor0    ESTBL  num_eng0\n",
       "2        3       개시  num_kor0     STRT  num_eng0\n",
       "3        4       개업  num_kor0    OPBIZ  num_eng0\n",
       "4        5       개인  num_kor0      NaN       NaN\n",
       "..     ...      ...       ...      ...       ...\n",
       "695     66      NaN       NaN      NaN       NaN\n",
       "696     67      NaN       NaN      NaN       NaN\n",
       "697     68      NaN       NaN      NaN       NaN\n",
       "698     69      NaN       NaN      NaN       NaN\n",
       "699     70      NaN       NaN      NaN       NaN\n",
       "\n",
       "[700 rows x 5 columns]"
      ]
     },
     "execution_count": 23,
     "metadata": {},
     "output_type": "execute_result"
    }
   ],
   "source": [
    "def chk_unique():\n",
    "    global df_step_1   \n",
    "    df_step_1 = std_chk\n",
    "    # 중복제거 후 다시 합쳐서 검사(1안)\n",
    "\n",
    "    # 한글 중복제거\n",
    "    col_stwd_kor = ['stwd_kor', 'num_kor']\n",
    "    unique_kor = df_step_1['stwd_kor'].drop_duplicates()\n",
    "    stwd_kor_unique = df_step_1.loc[unique_kor.index][col_stwd_kor]\n",
    "    print(\"한글명중복제거:\"+ str(stwd_kor_unique.shape))\n",
    "    # stwd_kor_unique\n",
    "\n",
    "    # 영문 중복제거\n",
    "    col_stwd_eng = ['stwd_eng', 'num_eng']\n",
    "    unique_eng = df_step_1['stwd_eng'].drop_duplicates()\n",
    "    stwd_eng_unique = df_step_1.loc[unique_eng.index][col_stwd_eng]\n",
    "    print(\"영문명중복제거:\"+ str(stwd_eng_unique.shape))\n",
    "    # stwd_eng_unique.tail(100)\n",
    "\n",
    "    # 한글+영문 일렬 세우기\n",
    "    df_step_1 = pd.DataFrame(stwd_total['index'])\n",
    "    df_step_1 = df_step_1.merge(\n",
    "        stwd_kor_unique,\n",
    "        left_index = True,\n",
    "        right_index = True,\n",
    "        how = 'left'\n",
    "    ).merge(\n",
    "        stwd_eng_unique,\n",
    "        left_index = True,\n",
    "        right_index = True,\n",
    "        how = 'left'\n",
    "    )\n",
    "    print(df_step_1.shape)\n",
    "    df_step_1\n",
    "\n",
    "    df_step_1.to_excel(input_path + \"df_step_1\" + str(dt.datetime.now().strftime('%y%m%d_%H%M%S')) + \".xlsx\")\n",
    "    print(df_step_1.shape)\n",
    "    df_step_1\n",
    "    \n",
    "chk_unique()\n",
    "find_unique_eng(df_step_1)\n",
    "df_step_1"
   ]
  },
  {
   "cell_type": "markdown",
   "id": "b74a25c5",
   "metadata": {},
   "source": [
    "# * 한글/영문 단어수 매칭"
   ]
  },
  {
   "cell_type": "markdown",
   "id": "ab910728",
   "metadata": {},
   "source": [
    "## 6. 자동수정, 파일 업로드 점검"
   ]
  },
  {
   "cell_type": "markdown",
   "id": "8f00aa35",
   "metadata": {},
   "source": [
    "### 6.1.수기 수정값 표시(! y/n)"
   ]
  },
  {
   "cell_type": "code",
   "execution_count": 24,
   "id": "c667092a",
   "metadata": {},
   "outputs": [
    {
     "name": "stdout",
     "output_type": "stream",
     "text": [
      "(60, 5)\n",
      "(26, 7)\n"
     ]
    },
    {
     "data": {
      "text/html": [
       "<div>\n",
       "<style scoped>\n",
       "    .dataframe tbody tr th:only-of-type {\n",
       "        vertical-align: middle;\n",
       "    }\n",
       "\n",
       "    .dataframe tbody tr th {\n",
       "        vertical-align: top;\n",
       "    }\n",
       "\n",
       "    .dataframe thead th {\n",
       "        text-align: right;\n",
       "    }\n",
       "</style>\n",
       "<table border=\"1\" class=\"dataframe\">\n",
       "  <thead>\n",
       "    <tr style=\"text-align: right;\">\n",
       "      <th></th>\n",
       "      <th>index</th>\n",
       "      <th>stwd_eng</th>\n",
       "      <th>stwd_kor</th>\n",
       "      <th>영문약어명</th>\n",
       "      <th>용어명 분리</th>\n",
       "      <th>eng_cnt</th>\n",
       "      <th>eng_cor_yn</th>\n",
       "    </tr>\n",
       "  </thead>\n",
       "  <tbody>\n",
       "    <tr>\n",
       "      <th>59</th>\n",
       "      <td>24</td>\n",
       "      <td>!</td>\n",
       "      <td>아</td>\n",
       "      <td>Y한O_go_글두_g섞_었G_</td>\n",
       "      <td>계획_연도_가_나_다_라_마_바_사_아</td>\n",
       "      <td>26</td>\n",
       "      <td>n</td>\n",
       "    </tr>\n",
       "    <tr>\n",
       "      <th>26</th>\n",
       "      <td>45</td>\n",
       "      <td>!</td>\n",
       "      <td>테스트AD</td>\n",
       "      <td></td>\n",
       "      <td>테스트ad</td>\n",
       "      <td>26</td>\n",
       "      <td>n</td>\n",
       "    </tr>\n",
       "    <tr>\n",
       "      <th>27</th>\n",
       "      <td>46</td>\n",
       "      <td>!</td>\n",
       "      <td>테스트</td>\n",
       "      <td></td>\n",
       "      <td>테스트</td>\n",
       "      <td>26</td>\n",
       "      <td>n</td>\n",
       "    </tr>\n",
       "    <tr>\n",
       "      <th>20</th>\n",
       "      <td>31</td>\n",
       "      <td>!</td>\n",
       "      <td>참조</td>\n",
       "      <td></td>\n",
       "      <td>참조_운임_요금_변경_번호</td>\n",
       "      <td>26</td>\n",
       "      <td>n</td>\n",
       "    </tr>\n",
       "    <tr>\n",
       "      <th>18</th>\n",
       "      <td>26</td>\n",
       "      <td>!</td>\n",
       "      <td>운임</td>\n",
       "      <td></td>\n",
       "      <td>운임_등급_순위</td>\n",
       "      <td>26</td>\n",
       "      <td>n</td>\n",
       "    </tr>\n",
       "  </tbody>\n",
       "</table>\n",
       "</div>"
      ],
      "text/plain": [
       "    index stwd_eng stwd_kor             영문약어명                 용어명 분리  eng_cnt  \\\n",
       "59     24        !        아  Y한O_go_글두_g섞_었G_  계획_연도_가_나_다_라_마_바_사_아       26   \n",
       "26     45        !    테스트AD                                    테스트ad       26   \n",
       "27     46        !      테스트                                      테스트       26   \n",
       "20     31        !       참조                           참조_운임_요금_변경_번호       26   \n",
       "18     26        !       운임                                 운임_등급_순위       26   \n",
       "\n",
       "   eng_cor_yn  \n",
       "59          n  \n",
       "26          n  \n",
       "27          n  \n",
       "20          n  \n",
       "18          n  "
      ]
     },
     "execution_count": 24,
     "metadata": {},
     "output_type": "execute_result"
    }
   ],
   "source": [
    "### 값이 한개라도 있을 경우만 카운트 ###\n",
    "\n",
    "df_step_1_cnt = len(df_step_1)\n",
    "notna_list = []\n",
    "for i in range(df_step_1_cnt):    \n",
    "    # row 기준 널 체크(값이 한개라도 있을 경우 포함)\n",
    "    if df_step_1.iloc[i].notna().sum() > 1:\n",
    "        notna_list.append(i)\n",
    "\n",
    "df_step_1 = df_step_1.loc[notna_list]\n",
    "print(df_step_1.shape)\n",
    "\n",
    "# 원래 표준과 병합(수기 수정을 위해)\n",
    "df_step_1 = df_step_1.merge(\n",
    "    input_test,\n",
    "    left_on = 'index',\n",
    "    right_on = 'No',\n",
    "    how = 'left'\n",
    ")\n",
    "\n",
    "# 영문 개수 세기\n",
    "dup_list_eng = []\n",
    "dup_cnt_eng = []\n",
    "for i in range(df_step_1.shape[0]):\n",
    "    dup_list_eng = df_step_1['stwd_eng'].to_list().count(df_step_1.loc[i, 'stwd_eng'])\n",
    "    dup_cnt_eng.append(dup_list_eng)\n",
    "df_step_1 = pd.concat([df_step_1, pd.DataFrame(dup_cnt_eng, columns = {\"eng_cnt\"})], axis = 1)\n",
    "\n",
    "# 컬럼 추리기\n",
    "df_step_1_list = ['index', 'stwd_eng', 'stwd_kor', '영문약어명', '용어명 분리', 'eng_cnt']\n",
    "df_step_1 = df_step_1[df_step_1_list]\n",
    "\n",
    "# 비교군 저장\n",
    "df_step_1_chk = df_step_1.copy()\n",
    "df_step_1.head()\n",
    "\n",
    "# 2차\n",
    "# 널 제외 한글단어를 표준화된 풀데이터(df_step_1)를 다시검색하여 영문명 자동 기입 : 없는 것은 수동기입 필요 \n",
    "\n",
    "# 영문 null 값 '' 채우기\n",
    "df_step_1['stwd_eng'] = df_step_1['stwd_eng'].fillna(\"\")\n",
    "\n",
    "df_step_1['eng_cor_yn'] = \"\"\n",
    "for i in range(df_step_1.shape[0]):\n",
    "    blnk_chk = df_step_1.loc[i, 'stwd_eng'] == ''\n",
    "    if blnk_chk :\n",
    "        df_step_1.loc[i, 'stwd_eng'] = '!' + '_'.join(set(stwd_total.loc[(stwd_total['stwd_kor'] == df_step_1.loc[i, 'stwd_kor']), 'stwd_eng'].to_list()))\n",
    "        df_step_1.loc[i, 'eng_cor_yn'] = 'n'\n",
    "\n",
    "df_step_1_chk = df_step_1.copy()\n",
    "        \n",
    "# 순서\n",
    "df_step_1_xlsx = df_step_1.sort_values(['stwd_eng'])\n",
    "df_step_1_xlsx = df_step_1_xlsx[df_step_1_xlsx['eng_cor_yn'] == 'n']\n",
    "df_step_1_xlsx.to_excel(output_path+\"chk_eng\" + \".xlsx\")\n",
    "\n",
    "# 파일 실행\n",
    "os.system(output_path + \"chk_eng.xlsx\")\n",
    "\n",
    "print(df_step_1_xlsx.shape)\n",
    "df_step_1_xlsx.head()"
   ]
  },
  {
   "cell_type": "markdown",
   "id": "58c2fce4",
   "metadata": {},
   "source": [
    "### 6.2. 수정 후 재업로드(한글): 개발 미정"
   ]
  },
  {
   "cell_type": "markdown",
   "id": "94a2dfe2",
   "metadata": {},
   "source": [
    "### 6.3. 수정 후 재업로드(영문)"
   ]
  },
  {
   "cell_type": "markdown",
   "id": "8c4b81ea",
   "metadata": {},
   "source": [
    "#### 6.3.1. 자동수정 후 재업로드(영문)"
   ]
  },
  {
   "cell_type": "code",
   "execution_count": 25,
   "id": "831294a0",
   "metadata": {
    "scrolled": true
   },
   "outputs": [
    {
     "name": "stdout",
     "output_type": "stream",
     "text": [
      "수기 수정 다시\n",
      "(60, 7)\n"
     ]
    },
    {
     "data": {
      "text/html": [
       "<div>\n",
       "<style scoped>\n",
       "    .dataframe tbody tr th:only-of-type {\n",
       "        vertical-align: middle;\n",
       "    }\n",
       "\n",
       "    .dataframe tbody tr th {\n",
       "        vertical-align: top;\n",
       "    }\n",
       "\n",
       "    .dataframe thead th {\n",
       "        text-align: right;\n",
       "    }\n",
       "</style>\n",
       "<table border=\"1\" class=\"dataframe\">\n",
       "  <thead>\n",
       "    <tr style=\"text-align: right;\">\n",
       "      <th></th>\n",
       "      <th>index</th>\n",
       "      <th>stwd_eng</th>\n",
       "      <th>stwd_kor</th>\n",
       "      <th>영문약어명</th>\n",
       "      <th>용어명 분리</th>\n",
       "      <th>eng_cnt</th>\n",
       "      <th>eng_cor_yn</th>\n",
       "    </tr>\n",
       "  </thead>\n",
       "  <tbody>\n",
       "    <tr>\n",
       "      <th>0</th>\n",
       "      <td>1</td>\n",
       "      <td>JOIN</td>\n",
       "      <td>가입TDS</td>\n",
       "      <td>TEST!!!</td>\n",
       "      <td>가입tds_일자</td>\n",
       "      <td>26</td>\n",
       "      <td>y</td>\n",
       "    </tr>\n",
       "    <tr>\n",
       "      <th>1</th>\n",
       "      <td>2</td>\n",
       "      <td>ESTBL</td>\n",
       "      <td>개설</td>\n",
       "      <td>$^$^dasd</td>\n",
       "      <td>개설_일자</td>\n",
       "      <td>1</td>\n",
       "      <td>y</td>\n",
       "    </tr>\n",
       "    <tr>\n",
       "      <th>2</th>\n",
       "      <td>3</td>\n",
       "      <td>STRT</td>\n",
       "      <td>개시</td>\n",
       "      <td>asdf</td>\n",
       "      <td>개시_일자</td>\n",
       "      <td>1</td>\n",
       "      <td>y</td>\n",
       "    </tr>\n",
       "    <tr>\n",
       "      <th>3</th>\n",
       "      <td>4</td>\n",
       "      <td>OPBIZ</td>\n",
       "      <td>개업</td>\n",
       "      <td>$^$^dasd</td>\n",
       "      <td>개업_일자</td>\n",
       "      <td>1</td>\n",
       "      <td>y</td>\n",
       "    </tr>\n",
       "    <tr>\n",
       "      <th>4</th>\n",
       "      <td>5</td>\n",
       "      <td>IND</td>\n",
       "      <td>개인</td>\n",
       "      <td>sdf_dsfd_df</td>\n",
       "      <td>개인_정보_동의_여부</td>\n",
       "      <td>26</td>\n",
       "      <td>y</td>\n",
       "    </tr>\n",
       "  </tbody>\n",
       "</table>\n",
       "</div>"
      ],
      "text/plain": [
       "   index stwd_eng stwd_kor        영문약어명       용어명 분리  eng_cnt eng_cor_yn\n",
       "0      1     JOIN    가입TDS      TEST!!!     가입tds_일자       26          y\n",
       "1      2    ESTBL       개설     $^$^dasd        개설_일자        1          y\n",
       "2      3     STRT       개시         asdf        개시_일자        1          y\n",
       "3      4    OPBIZ       개업     $^$^dasd        개업_일자        1          y\n",
       "4      5      IND       개인  sdf_dsfd_df  개인_정보_동의_여부       26          y"
      ]
     },
     "execution_count": 25,
     "metadata": {},
     "output_type": "execute_result"
    }
   ],
   "source": [
    "# 최초 1회 수정 후 재업로드\n",
    "\n",
    "# 수기 수정된 데이터\n",
    "######## 가짜, 추후(chk_eng)로 수정 ########\n",
    "re_load = pd.read_excel(output_path + 'chk_eng.xlsx', index_col='Unnamed: 0')\n",
    "\n",
    "# 주소값 덮어쓰지 않게 따로 복사하기\n",
    "df_step_1_cor = df_step_1.copy()\n",
    "\n",
    "# 모두null일 경우, 그냥 진행, 그렇지 않을 경우 수정된 값 적용 후 진행ㅇ\n",
    "# Index 병합, 수기수정 대입, 그 외 null 지정\n",
    "if re_load['stwd_eng'].isna().all():\n",
    "    pirnt(\"검수 통과\")\n",
    "else: \n",
    "    df_step_1_cor['stwd_eng'] =  re_load['stwd_eng']\n",
    "    print(\"수기 수정 다시\")\n",
    "    \n",
    "# 나머지 null 값은 본래 데이터(df_step_1) 값으로 채워넣기\n",
    "for i in range(df_step_1_cor.shape[0]):\n",
    "    if pd.isna(df_step_1_cor.loc[i, 'stwd_eng']):\n",
    "        df_step_1_cor.loc[i, 'stwd_eng'] = df_step_1.loc[i, 'stwd_eng']\n",
    "        df_step_1_cor.loc[i, 'eng_cor_yn'] = 'y'\n",
    "\n",
    "    if df_step_1_cor.loc[i, 'eng_cor_yn'] == 'n':\n",
    "        if df_step_1_cor.loc[i, 'stwd_eng'] != df_step_1_chk.loc[i, 'stwd_eng']:\n",
    "            df_step_1_cor.loc[i, 'eng_cor_yn'] = 'y'\n",
    "        elif df_step_1_cor.loc[i, 'stwd_eng'] == df_step_1_chk.loc[i, 'stwd_eng']:\n",
    "            df_step_1_cor.loc[i, 'eng_cor_yn'] = 'n'\n",
    "\n",
    "# 특수문자, 빈칸, null 점검\n",
    "tmp_list = []\n",
    "for i in range(df_step_1_cor.shape[0]):\n",
    "    if len(re.findall('[^A-Z0-9+]', df_step_1_cor.loc[i, 'stwd_eng'])):\n",
    "        tmp_list.append(i)\n",
    "    elif df_step_1_cor.loc[i, 'stwd_eng'] == '':\n",
    "        tmp_list.append(i)\n",
    "    elif pd.isna(df_step_1_cor.loc[i, 'stwd_eng']):\n",
    "        tmp_list.append(i)\n",
    "\n",
    "# 특수문자 'n'으로\n",
    "df_step_1_cor.loc[tmp_list, 'eng_cor_yn'] = 'n'\n",
    "\n",
    "# 전체 파일 저장\n",
    "df_step_1_cor.to_excel(output_path + \"df_step_1_cor.xlsx\")\n",
    "\n",
    "# 영문 점검 파일 저장    \n",
    "chk_eng = df_step_1_cor.loc[df_step_1_cor['eng_cor_yn'] == 'n']\n",
    "chk_eng.to_excel(output_path + \"chk_eng.xlsx\")\n",
    "\n",
    "\n",
    "# 파일 실행\n",
    "os.system(output_path + \"chk_eng.xlsx\")\n",
    "\n",
    "print(df_step_1_cor.shape)\n",
    "df_step_1_cor.head()"
   ]
  },
  {
   "cell_type": "markdown",
   "id": "b69b3d43",
   "metadata": {},
   "source": [
    "#### 6.3.2. 수기수정 후 재업로드(영문)"
   ]
  },
  {
   "cell_type": "code",
   "execution_count": 26,
   "id": "e42f15c8",
   "metadata": {},
   "outputs": [],
   "source": [
    "# 주소값 덮어쓰지 않게 따로 복사하기\n",
    "df_step_1_cor_tmp = df_step_1_cor.copy()\n",
    "# 2회 이상부터\n",
    "\n",
    "def repeat_eng():\n",
    "    global df_step_1_cor_tmp\n",
    "    global chk_eng\n",
    "    global tmp_list_eng\n",
    "#     global re_load\n",
    "\n",
    "    # 수기 수정 후 다시 업로드: na_filter=False\n",
    "    re_load = pd.read_excel(output_path + 'chk_eng.xlsx', index_col='Unnamed: 0', na_filter=False)\n",
    "    \n",
    "    # Index 병합, 수기수정 대입, 그 외 ''null'' 지정\n",
    "    for i in re_load['stwd_eng'].index:\n",
    "        df_step_1_cor_tmp.loc[i, 'stwd_eng'] =  re_load.loc[i, 'stwd_eng']\n",
    "    \n",
    "    # 나머지 null 값은 본래 데이터(df_step_1) 값으로 채워넣기\n",
    "    for i in range(df_step_1_cor_tmp.shape[0]):\n",
    "        if df_step_1_cor_tmp.loc[i, 'eng_cor_yn'] == 'n':\n",
    "            if df_step_1_cor_tmp.loc[i, 'stwd_eng'] != df_step_1_chk.loc[i, 'stwd_eng']:\n",
    "                df_step_1_cor_tmp.loc[i, 'eng_cor_yn'] = 'y'\n",
    "            elif df_step_1_cor_tmp.loc[i, 'stwd_eng'] == df_step_1_chk.loc[i, 'stwd_eng']:\n",
    "                df_step_1_cor_tmp.loc[i, 'eng_cor_yn'] = 'n'\n",
    "                \n",
    "        if pd.isna(df_step_1_cor_tmp.loc[i, 'stwd_eng']):\n",
    "            df_step_1_cor_tmp.loc[i, 'stwd_eng'] = df_step_1_cor.loc[i, 'stwd_eng']\n",
    "            df_step_1_cor_tmp.loc[i, 'eng_cor_yn'] = 'y'\n",
    "\n",
    "    # 특수문자, 빈칸, 소문자, 한글, null 점검\n",
    "    tmp_list_eng = []\n",
    "    for i in range(df_step_1_cor_tmp.shape[0]):\n",
    "        if len(re.findall('[^A-Z0-9+]', df_step_1_cor_tmp.loc[i, 'stwd_eng'])):\n",
    "            tmp_list_eng.append(i)\n",
    "        elif df_step_1_cor_tmp.loc[i, 'stwd_eng'] == '':\n",
    "            tmp_list_eng.append(i)\n",
    "        elif pd.isna(df_step_1_cor_tmp.loc[i, 'stwd_eng']):\n",
    "            tmp_list_eng.append(i)\n",
    "\n",
    "\n",
    "    # 특수문자 'n'으로\n",
    "    df_step_1_cor_tmp.loc[tmp_list_eng, 'eng_cor_yn'] = 'n'\n",
    "\n",
    "    # 파일 실행\n",
    "    os.system(output_path + \"chk_eng.xlsx\")\n",
    "\n",
    "    # 파일 저장\n",
    "    chk_eng = df_step_1_cor_tmp.loc[df_step_1_cor_tmp['eng_cor_yn'] == 'n']\n",
    "    df_step_1_cor_tmp.to_excel(output_path + \"df_step_1_cor.xlsx\")\n",
    "    chk_eng.to_excel(output_path + \"chk_eng.xlsx\")"
   ]
  },
  {
   "cell_type": "markdown",
   "id": "3ad6783f",
   "metadata": {},
   "source": [
    "#### 6.3.3. 재업로드 반복 실행"
   ]
  },
  {
   "cell_type": "code",
   "execution_count": 27,
   "id": "41b54a28",
   "metadata": {},
   "outputs": [
    {
     "name": "stdout",
     "output_type": "stream",
     "text": [
      "영문명 수정이 필요합니다. 반복 점검하시겠습니까? (y/n): y\n"
     ]
    }
   ],
   "source": [
    "# 한글명, 영문명이 모두 ''값일 경우, 수정 완료\n",
    "if (chk_eng[['stwd_kor', 'stwd_eng']] == '').all().all():\n",
    "    print('\"영문 수정 완료\"' + \" (빈칸 수:\" + str(sum(df_step_1_cor_tmp['stwd_eng'] == '')) + \")\")\n",
    "    repeat_eng()\n",
    "    os.system(output_path + \"df_step_1_cor.xlsx\")\n",
    "else:\n",
    "    if yes_or_no(\"영문명 수정이 필요합니다. 반복 점검하시겠습니까?\"):\n",
    "        repeat_eng()\n",
    "    else:\n",
    "        os.system(output_path + \"chk_eng.xlsx\")    "
   ]
  },
  {
   "cell_type": "code",
   "execution_count": null,
   "id": "7afe7169",
   "metadata": {},
   "outputs": [],
   "source": [
    "### 최종 중복검사 하여 중복 리스트를 수영 필요 파일에 반영"
   ]
  },
  {
   "cell_type": "code",
   "execution_count": null,
   "id": "82f70957",
   "metadata": {},
   "outputs": [],
   "source": [
    "os.system(output_path + \"df_step_1_cor.xlsx\")"
   ]
  },
  {
   "cell_type": "code",
   "execution_count": null,
   "id": "4d646bd0",
   "metadata": {},
   "outputs": [],
   "source": [
    "stwd_kor"
   ]
  },
  {
   "cell_type": "code",
   "execution_count": null,
   "id": "5e484ed3",
   "metadata": {},
   "outputs": [],
   "source": [
    "            \n",
    "        # 한국어 점검\n",
    "        if len(re.findall('[^A-Z0-9가-힣+]', df_step_1_cor_tmp.loc[i, 'stwd_kor'])):\n",
    "            tmp_list_eng.append(i)\n",
    "        elif df_step_1_cor_tmp.loc[i, 'stwd_kor'] == '':\n",
    "            tmp_list_eng.append(i)\n",
    "        elif pd.isna(df_step_1_cor_tmp.loc[i, 'stwd_kor']):\n",
    "            tmp_list_eng.append(i)"
   ]
  },
  {
   "cell_type": "code",
   "execution_count": null,
   "id": "5dc2bc6b",
   "metadata": {},
   "outputs": [],
   "source": []
  },
  {
   "cell_type": "code",
   "execution_count": null,
   "id": "96407469",
   "metadata": {},
   "outputs": [],
   "source": [
    "def eng_blnk_chk():\n",
    "    global chk_eng\n",
    "    global df_step_1_cor_tmp\n",
    "    \n",
    "    # count 점검: 빈칸은 한개만 허용함\n",
    "    cnt_chk = sum(df_step_1_cor_tmp.loc[tmp_list, 'stwd_eng'] == '')\n",
    "    if cnt_chk == 1:\n",
    "        print(\"빈칸 허용치와 일치: \" + str(cnt_chk))\n",
    "        if sum(chk_eng.loc[chk_eng['eng_cor_yn'] == 'n', 'stwd_eng'] !=  '') == 0:\n",
    "            print('\"영문 수정 완료\"')\n",
    "        else:\n",
    "            print('추가 수정 필요')\n",
    "    elif cnt_chk < 1:\n",
    "        print(\"빈칸이 허용치보다 적음: \" + str(cnt_chk))\n",
    "    elif cnt_chk >= 2:\n",
    "        print(\"빈칸이 허용치보다 많음: \" + str(cnt_chk))"
   ]
  },
  {
   "cell_type": "code",
   "execution_count": null,
   "id": "6d06f9c0",
   "metadata": {},
   "outputs": [],
   "source": [
    "여기에 의존하면 안돼.."
   ]
  },
  {
   "cell_type": "code",
   "execution_count": null,
   "id": "8d4c8be8",
   "metadata": {},
   "outputs": [],
   "source": [
    "# '' == 1개, 'n' 중에서 ''가 하나도 없을 경우 작업 종료 \n",
    "condition_1 = sum(df_step_1_cor_tmp.loc[tmp_list, 'stwd_eng'] == '') == 1\n",
    "# condition_2 = sum(chk_eng.loc[chk_eng['eng_cor_yn'] == 'n', 'stwd_eng'] !=  '') == 0\n",
    "condition_2 = sum(chk_eng.loc[chk_eng['eng_cor_yn'] == 'n', 'stwd_eng'] == '') == 1\n",
    "if condition_1 and condition_2:\n",
    "    print(\"더 이상 진행할 수 없습니다.\")\n",
    "    os.system(output_path + \"chk_eng.xlsx\")\n",
    "    os.system(output_path + \"df_step_1_cor.xlsx\")\n",
    "else:\n",
    "    if yes_or_no(\"반복 점검하시겠습니까?\"):\n",
    "        repeat_eng()\n",
    "        eng_blnk_chk()\n",
    "    else:\n",
    "        os.system(output_path + \"chk_eng.xlsx\")"
   ]
  },
  {
   "cell_type": "code",
   "execution_count": null,
   "id": "4cd2503b",
   "metadata": {},
   "outputs": [],
   "source": [
    "df_step_1 = df_step_1_cor_tmp[df_step_1_cor_tmp['stwd_eng'].notna()]\n",
    "df_step_1 = df_step_1_cor_tmp[df_step_1_cor_tmp['stwd_eng'] != '']"
   ]
  },
  {
   "cell_type": "code",
   "execution_count": null,
   "id": "74169056",
   "metadata": {},
   "outputs": [],
   "source": [
    "# count 확인\n",
    "find_unique_eng(df_step_1)"
   ]
  },
  {
   "cell_type": "code",
   "execution_count": null,
   "id": "cc22e524",
   "metadata": {},
   "outputs": [],
   "source": []
  },
  {
   "cell_type": "code",
   "execution_count": null,
   "id": "3a19dc88",
   "metadata": {},
   "outputs": [],
   "source": []
  },
  {
   "cell_type": "code",
   "execution_count": null,
   "id": "c21b41ce",
   "metadata": {},
   "outputs": [],
   "source": []
  },
  {
   "cell_type": "code",
   "execution_count": null,
   "id": "8b3372b0",
   "metadata": {},
   "outputs": [],
   "source": [
    "# count 확인\n",
    "\n",
    "if sum(df_step_1_cor_tmp['stwd_eng'].str.contains('!', '_')) == 0:\n",
    "    print('영문명을 모두 수정하였습니다 !_수: '+ str(sum(df_step_1_cor_tmp['stwd_eng'].str.contains('!', '_'))))\n",
    "    print(df_step_1_cor_tmp.shape)\n",
    "else:\n",
    "    print('아직 수정하지 않은 영문명이 남아있습니다 !_수: '+ str(sum(df_step_1_cor_tmp['stwd_eng'].str.contains('!', '_'))))    \n",
    "    print(df_step_1_cor_tmp.shape)\n",
    "    \n",
    "# 두 카운트가 같아아 최종 표준화 점검 완료 1:1 대응\n",
    "if len(set(df_step_1['stwd_kor'])) == len(set(df_step_1['stwd_eng'])):\n",
    "    print('영문명과 한글명의 고유개수가 일치합니다')\n",
    "print(\"영문명: \" + str(len(set(df_step_1['stwd_eng']))))\n",
    "print(\"한글명: \" + str(len(set(df_step_1['stwd_kor']))))"
   ]
  },
  {
   "cell_type": "code",
   "execution_count": null,
   "id": "9b0e6094",
   "metadata": {},
   "outputs": [],
   "source": [
    "print('_'.join(stwd_total.loc[stwd_total['index'] == 1055, 'stwd_kor'].to_list()))\n",
    "stwd_total.loc[stwd_total['index'] == 1055, 'stwd_kor']"
   ]
  },
  {
   "cell_type": "code",
   "execution_count": null,
   "id": "924eee09",
   "metadata": {},
   "outputs": [],
   "source": [
    "df_step_1['stwd_kor'].isna()[i]"
   ]
  },
  {
   "cell_type": "code",
   "execution_count": null,
   "id": "5966aae6",
   "metadata": {},
   "outputs": [],
   "source": [
    "df_step_1.to_excel(output_path+\"chk_eng\" + \".xlsx\")"
   ]
  },
  {
   "cell_type": "code",
   "execution_count": null,
   "id": "3c99192b",
   "metadata": {},
   "outputs": [],
   "source": [
    "len(set(df_step_1['stwd_eng']))"
   ]
  },
  {
   "cell_type": "code",
   "execution_count": null,
   "id": "8d482952",
   "metadata": {},
   "outputs": [],
   "source": []
  },
  {
   "cell_type": "code",
   "execution_count": null,
   "id": "ac6f575a",
   "metadata": {},
   "outputs": [],
   "source": []
  },
  {
   "cell_type": "code",
   "execution_count": null,
   "id": "321f7799",
   "metadata": {},
   "outputs": [],
   "source": [
    "df_step_1"
   ]
  },
  {
   "cell_type": "code",
   "execution_count": null,
   "id": "9730439a",
   "metadata": {},
   "outputs": [],
   "source": [
    "index = [1055, 1056, 1057, 445, 432, 724, 878, 959, 1011, 934, 781, 454, 239]"
   ]
  },
  {
   "cell_type": "code",
   "execution_count": null,
   "id": "dd64caa7",
   "metadata": {},
   "outputs": [],
   "source": []
  },
  {
   "cell_type": "code",
   "execution_count": null,
   "id": "3c5e8ed2",
   "metadata": {},
   "outputs": [],
   "source": [
    "stwd_total.loc[(stwd_total['stwd_eng'] == 'NUM') & (stwd_total['stwd_kor'] != ''), 'stwd_kor'].values[0]"
   ]
  },
  {
   "cell_type": "code",
   "execution_count": null,
   "id": "a5720da1",
   "metadata": {},
   "outputs": [],
   "source": [
    "df_step_1.loc[(df_step_1['stwd_eng'] == 'NUM') & (df_step_1['stwd_kor'] != ''), 'stwd_kor'].values[0]"
   ]
  },
  {
   "cell_type": "code",
   "execution_count": null,
   "id": "6d1f415d",
   "metadata": {},
   "outputs": [],
   "source": [
    "# 널 제외 한글단어를 표준화된 풀데이터(df_step_1)를 다시검색하여 영문명 자동 기입 : 없는 것은 수동기입 필요\n",
    "for i in range(tmp_df_step_1.shape[0]):\n",
    "    isna_chk = tmp_df_step_1['stwd_kor'].isna()[i]\n",
    "    if isna_chk:\n",
    "#         tmp_df_step_1.loc[i, 'stwd_kor'] = stwd_total.loc[(stwd_total['stwd_eng'] == 'NUM') & (stwd_total['stwd_kor'] != ''), 'stwd_kor'].values[0]\n",
    "        tmp_df_step_1.loc[i, 'stwd_kor'] = df_step_1.loc[(df_step_1['stwd_eng'] == 'NUM') & (df_step_1['stwd_kor'] != ''), 'stwd_kor'].values[0]\n",
    "\n",
    "    \n",
    "# df_step_1_list = ['index', 'stwd_kor', 'num_kor', 'stwd_eng', 'num_eng']\n",
    "# tmp_df_step_1 = tmp_df_step_1[df_step_1_list]\n",
    "# print(tmp_df_step_1.shape)\n",
    "# tmp_df_step_1.head()\n",
    "std_chk_eng\n",
    "\n",
    "# 순서\n",
    "tmp_df_step_1 = tmp_df_step_1.sort_values(['stwd_eng'])\n",
    "tmp_df_step_1.to_excel(output_path+\"chk_eng\" + \".xlsx\")\n",
    "\n",
    "print(tmp_df_step_1.shape)\n",
    "tmp_df_step_1"
   ]
  },
  {
   "cell_type": "code",
   "execution_count": null,
   "id": "7dbcaa7e",
   "metadata": {},
   "outputs": [],
   "source": []
  },
  {
   "cell_type": "code",
   "execution_count": null,
   "id": "a534589c",
   "metadata": {},
   "outputs": [],
   "source": [
    "null_cnt = 0\n",
    "if null_cnt > 0:\n",
    "    print(\"빈칸이 있습니다\")\n",
    "### ㅅ수정 후 재업로드 하여 null count\n",
    "# ''개수가 1 이상일 경우 일경우 되묻지 않고 안내만\n",
    "# ''개수가 0일경우 되묻지 않고 안내만\n"
   ]
  },
  {
   "cell_type": "code",
   "execution_count": null,
   "id": "70488887",
   "metadata": {},
   "outputs": [],
   "source": [
    "stwd_total.loc[stwd_total['index'] == 781, 'stwd_kor'].values"
   ]
  },
  {
   "cell_type": "code",
   "execution_count": null,
   "id": "25421cfb",
   "metadata": {},
   "outputs": [],
   "source": [
    "index = [1055, 1056, 1057, 445, 432, 724, 878, 959, 1011, 934, 781, 454, 239]\n",
    "for i in range(len(index)):\n",
    "    a = stwd_total.loc[stwd_total['index'] == index[i], 'stwd_kor']\n",
    "    print(a)\n",
    "    \n",
    "a"
   ]
  },
  {
   "cell_type": "code",
   "execution_count": null,
   "id": "7b619df4",
   "metadata": {},
   "outputs": [],
   "source": []
  },
  {
   "cell_type": "code",
   "execution_count": null,
   "id": "55e21987",
   "metadata": {},
   "outputs": [],
   "source": [
    "df_step_1.loc[(df_step_1['stwd_eng'] == 'NUM') & (df_step_1['stwd_kor'] != ''), 'stwd_kor'].values[0]"
   ]
  },
  {
   "cell_type": "code",
   "execution_count": null,
   "id": "63021993",
   "metadata": {},
   "outputs": [],
   "source": [
    "stwd_total.loc[stwd_total['stwd_eng'] == 'HAKJUM', 'stwd_kor'].values[0]"
   ]
  },
  {
   "cell_type": "code",
   "execution_count": null,
   "id": "86f4e832",
   "metadata": {},
   "outputs": [],
   "source": []
  },
  {
   "cell_type": "code",
   "execution_count": null,
   "id": "09eb7ae7",
   "metadata": {},
   "outputs": [],
   "source": [
    "# 한국어가 null값이면 자동 영문명 자동 기입\n"
   ]
  },
  {
   "cell_type": "code",
   "execution_count": null,
   "id": "bbd4e944",
   "metadata": {},
   "outputs": [],
   "source": []
  },
  {
   "cell_type": "code",
   "execution_count": null,
   "id": "e4dfd702",
   "metadata": {},
   "outputs": [],
   "source": []
  },
  {
   "cell_type": "code",
   "execution_count": null,
   "id": "009256a1",
   "metadata": {},
   "outputs": [],
   "source": [
    "tmp_df_step_1"
   ]
  },
  {
   "cell_type": "code",
   "execution_count": null,
   "id": "1d99ae8f",
   "metadata": {},
   "outputs": [],
   "source": [
    "tmp_df_step_1"
   ]
  },
  {
   "cell_type": "code",
   "execution_count": null,
   "id": "461d83cf",
   "metadata": {},
   "outputs": [],
   "source": [
    "\n",
    "\n",
    "\n",
    "\n",
    "\n",
    "\n",
    "\n",
    "print(df_step_1.shape)\n",
    "df_step_1.head()"
   ]
  },
  {
   "cell_type": "code",
   "execution_count": null,
   "id": "ece7eadb",
   "metadata": {},
   "outputs": [],
   "source": [
    "std_chk"
   ]
  },
  {
   "cell_type": "code",
   "execution_count": null,
   "id": "d6540f0a",
   "metadata": {},
   "outputs": [],
   "source": [
    "std_chk"
   ]
  },
  {
   "cell_type": "code",
   "execution_count": null,
   "id": "64cf8e23",
   "metadata": {},
   "outputs": [],
   "source": [
    "\n",
    "\n",
    "\n",
    "a.to_excel(output_path + \"dfsfd.xlsx\")\n",
    "# dup_cnt_eng\n",
    "\n",
    "#     dupl_list_eng = input_split_eng[\"stwd_eng{}\".format(i)].to_list().count(input_split_eng[\"stwd_eng{}\".format(i)][j])\n",
    "#     globals()[\"dupl_list_eng{}\".format(i)].append(dupl_list_eng)\n",
    "\n",
    "        \n",
    "# for i in range(eng_firts_cnt):\n",
    "#     globals()[\"dupl_list_eng{}\".format(i)] = pd.concat([pd.DataFrame(globals()[\"dupl_list_eng{}\".format(i)])], axis = 0)\n",
    "#     globals()[\"dupl_list_eng{}\".format(i)].columns = [\"dupl_list_eng{}\".format(i)]"
   ]
  },
  {
   "cell_type": "code",
   "execution_count": null,
   "id": "aabf3c5e",
   "metadata": {},
   "outputs": [],
   "source": [
    "df_step_1['stwd_eng'].to_list().count(df_step_1.loc[0, 'stwd_eng'])"
   ]
  },
  {
   "cell_type": "code",
   "execution_count": null,
   "id": "ab38501d",
   "metadata": {},
   "outputs": [],
   "source": []
  },
  {
   "cell_type": "code",
   "execution_count": null,
   "id": "1f07c26e",
   "metadata": {},
   "outputs": [],
   "source": [
    "dupl_list_eng0['dupl_list_eng0'].to_list().count(1)"
   ]
  },
  {
   "cell_type": "code",
   "execution_count": null,
   "id": "0a3792d5",
   "metadata": {},
   "outputs": [],
   "source": [
    "tmp_df_step_1.shape[0]"
   ]
  },
  {
   "cell_type": "code",
   "execution_count": null,
   "id": "b5640142",
   "metadata": {},
   "outputs": [],
   "source": [
    "# 중복 지우기 위해\n"
   ]
  },
  {
   "cell_type": "code",
   "execution_count": null,
   "id": "336cd199",
   "metadata": {},
   "outputs": [],
   "source": [
    "# 널 채우기 위해\n",
    "tmp_df_step_1[stwd_kor]"
   ]
  },
  {
   "cell_type": "code",
   "execution_count": null,
   "id": "32475c11",
   "metadata": {},
   "outputs": [],
   "source": []
  },
  {
   "cell_type": "code",
   "execution_count": null,
   "id": "7f92563b",
   "metadata": {},
   "outputs": [],
   "source": [
    "df_step_1.shape"
   ]
  },
  {
   "cell_type": "code",
   "execution_count": null,
   "id": "8e2d03e6",
   "metadata": {},
   "outputs": [],
   "source": [
    "df_step_1.to_excel(input_path+\"111.xlsx\")\n",
    "std_chk.to_excel(input_path+\"112.xlsx\")"
   ]
  },
  {
   "cell_type": "code",
   "execution_count": null,
   "id": "f9e2c0e9",
   "metadata": {},
   "outputs": [],
   "source": [
    "# public_stwd_cnt =public_stwd.shape[0]\n",
    "# df_step_1_cnt = df_step_1.shape[0]\n",
    "\n",
    "# for i in range(df_step_1_cnt):\n",
    "#     for j in range(public_stwd_cnt):\n",
    "#         if df_step_1.iloc[i,1] == public_stwd.iloc[j,1]: #[i, 0]\n",
    "#             # 영문명 수정\n",
    "#             df_step_1.iloc[i,3] = public_stwd.iloc[j,2]\n",
    "#         else:\n",
    "#             a = 1\n",
    "# #             df_step_1.iloc[i,1] = \"그대로\"+df_step_1.iloc[i,1]"
   ]
  },
  {
   "cell_type": "code",
   "execution_count": null,
   "id": "99e9380e",
   "metadata": {},
   "outputs": [],
   "source": [
    "# 파일 저장 묻기\n",
    "# now = dt.datetime.now().strftime('%y%m%d_%H%M%S')    \n",
    "\n",
    "if yes_or_no('파일을 저장하시겠습니까?'):\n",
    "    file_name = 'stwd_total_manu1' + \"_\" + str(dt.datetime.now().strftime('%y%m%d_%H%M%S') + \".xlsx\")\n",
    "    print('[엑셀 파일을 생성하였습니다]: ' + file_name )\n",
    "else:\n",
    "    print('[검토한 후 다시 업로드 해주세요]')\n",
    "stwd_total.head()"
   ]
  },
  {
   "cell_type": "markdown",
   "id": "f3a52494",
   "metadata": {},
   "source": [
    "# 중복제거 로직"
   ]
  },
  {
   "cell_type": "code",
   "execution_count": null,
   "id": "f9b9b99d",
   "metadata": {},
   "outputs": [],
   "source": [
    "## 중복 제거 > \n",
    "1. 한개라도 값이 있는 경우 모두 추가\n",
    "2. 영문 unique 기준 영문 중복 검정 (이미 한글 중복검정 돼 있음: 표준데이터와 병합하기 때문에..) \n",
    "/ 중복 여부 검사\n",
    "3. 한글 unique 기준 한글 중복 검정 \n",
    "/ 중복 여부 검사\n",
    "4. ID 기준\n",
    "- 수기수정 2부터~ n회 반복 / 중복 여부 검사 \n",
    "=> 모든 중복 제거 , 빈값 넣기, 잘못된값 수정\n",
    "5. 사전 최종 검사 및 업로드\n",
    "- n회 반복 -\n",
    "\n"
   ]
  },
  {
   "cell_type": "code",
   "execution_count": null,
   "id": "d3cf31bc",
   "metadata": {},
   "outputs": [],
   "source": []
  },
  {
   "cell_type": "code",
   "execution_count": null,
   "id": "6700adc5",
   "metadata": {},
   "outputs": [],
   "source": []
  },
  {
   "cell_type": "code",
   "execution_count": null,
   "id": "6ab40b6e",
   "metadata": {},
   "outputs": [],
   "source": [
    "# 중복제거 후 다시 합쳐서 검사(1안)\n",
    "\n",
    "# 한글 중복제거\n",
    "col_stwd_kor = ['stwd_kor', 'num_kor']\n",
    "unique_kor = stwd_total['stwd_kor'].drop_duplicates()\n",
    "stwd_kor_unique = stwd_total.loc[unique_kor.index][col_stwd_kor]\n",
    "print(\"한글명중복제거:\"+ str(stwd_kor_unique.shape))\n",
    "# stwd_kor_unique\n",
    "\n",
    "# 영문 중복제거\n",
    "col_stwd_eng = ['stwd_eng', 'num_eng']\n",
    "unique_eng = stwd_total['stwd_eng'].drop_duplicates()\n",
    "stwd_eng_unique = stwd_total.loc[unique_eng.index][col_stwd_eng]\n",
    "print(\"영문명중복제거:\"+ str(stwd_eng_unique.shape))\n",
    "# stwd_eng_unique.tail(100)\n",
    "\n",
    "# 한글+영문 일렬 세우기\n",
    "df_step_1 = pd.DataFrame(stwd_total['index'])\n",
    "df_step_1 = df_step_1.merge(\n",
    "    stwd_kor_unique,\n",
    "    left_index = True,\n",
    "    right_index = True,\n",
    "    how = 'left'\n",
    ").merge(\n",
    "    stwd_eng_unique,\n",
    "    left_index = True,\n",
    "    right_index = True,\n",
    "    how = 'left'\n",
    ")\n",
    "print(df_step_1.shape)\n",
    "df_step_1\n",
    "\n",
    "### 값이 한개라도 있을 경우 카운트 ###\n",
    "\n",
    "total_cnt = len(df_step_1)\n",
    "null_list = []\n",
    "for i in range(total_cnt):    \n",
    "    # row 기준 널 체크(값이 한개라도 있을 경우 포함)\n",
    "    if df_step_1.iloc[i].notna().sum() > 1:\n",
    "        null_list.append(i)\n",
    "\n",
    "df_step_1 = df_step_1.loc[null_list]\n",
    "\n",
    "df_step_1 = df_step_1.merge(\n",
    "    input_test,\n",
    "    left_on = 'index',\n",
    "    right_on = 'No',\n",
    "    how = 'left'\n",
    ")\n",
    "\n",
    "df_step_1.to_excel(input_path + \"df_step_1\" + str(dt.datetime.now().strftime('%y%m%d_%H%M%S')) + \".xlsx\")\n",
    "print(df_step_1.shape)\n",
    "df_step_1"
   ]
  },
  {
   "cell_type": "code",
   "execution_count": null,
   "id": "7d6e0dae",
   "metadata": {},
   "outputs": [],
   "source": []
  },
  {
   "cell_type": "code",
   "execution_count": null,
   "id": "6456693e",
   "metadata": {},
   "outputs": [],
   "source": []
  },
  {
   "cell_type": "code",
   "execution_count": null,
   "id": "5d61c162",
   "metadata": {},
   "outputs": [],
   "source": []
  },
  {
   "cell_type": "code",
   "execution_count": null,
   "id": "d41cd16e",
   "metadata": {},
   "outputs": [],
   "source": []
  },
  {
   "cell_type": "markdown",
   "id": "b6be6e40",
   "metadata": {},
   "source": [
    "# 여기서부터 다시"
   ]
  },
  {
   "cell_type": "code",
   "execution_count": null,
   "id": "20ae8924",
   "metadata": {},
   "outputs": [],
   "source": []
  },
  {
   "cell_type": "code",
   "execution_count": null,
   "id": "da821ce8",
   "metadata": {},
   "outputs": [],
   "source": [
    "# 중복 제거 다시 묻기\n",
    "# now = dt.datetime.now().strftime('%y%m%d_%H%M%S')    \n",
    "chk_unique()\n",
    "if yes_or_no('파일을 업로드하여 중복검사를 재실행 하시겠습니까?'):\n",
    "    \n",
    "    \n",
    "    ## 엑셀 READ한 후 중복검사 다시!\n",
    "#     sheet_name = \"수정이력_220925\"\n",
    "    df_step_1 = pd.read_excel(input_path, sheet_name=sheet_name, header=0)\n",
    "    df_step_1\n",
    "    \n",
    "    file_name = 'df_step_1_re' + \"_\" + str(dt.datetime.now().strftime('%y%m%d_%H%M%S') + \".xlsx\")\n",
    "    \n",
    "    chk_unique()\n",
    "    \n",
    "    df_step_1.to_excel(df_step_1, input_path + \"df_step_1\" + \".xlsx\")\n",
    "    print('[엑셀 파일을 생성하였습니다]: ' + file_name )\n",
    "else:\n",
    "    print('[진행하겠습니다]')\n",
    "# df_step_1_re.head()"
   ]
  },
  {
   "cell_type": "code",
   "execution_count": null,
   "id": "1e6d898a",
   "metadata": {},
   "outputs": [],
   "source": []
  },
  {
   "cell_type": "code",
   "execution_count": null,
   "id": "6ee8c8c5",
   "metadata": {},
   "outputs": [],
   "source": []
  },
  {
   "cell_type": "code",
   "execution_count": null,
   "id": "246d8129",
   "metadata": {},
   "outputs": [],
   "source": []
  },
  {
   "cell_type": "code",
   "execution_count": null,
   "id": "a146dcbe",
   "metadata": {},
   "outputs": [],
   "source": []
  },
  {
   "cell_type": "code",
   "execution_count": null,
   "id": "30cc1160",
   "metadata": {},
   "outputs": [],
   "source": [
    "df_step_1.loc[24].notna()"
   ]
  },
  {
   "cell_type": "code",
   "execution_count": null,
   "id": "26c140cc",
   "metadata": {},
   "outputs": [],
   "source": [
    "tmp_col = ['stwd_kor', 'num_kor', 'stwd_eng', 'num_eng']\n",
    "notna_list = []\n",
    "df_step_1 = df_step_1[tmp_col]\n",
    "for i in range(len(df_step_1TT)):\n",
    "    # 하나라도 값이 있다면 False, 모두 null일경우 True\n",
    "    if df_step_1.loc[i].isna().all() == False:\n",
    "        notna_list.append(i)\n",
    "notna_list\n",
    "df_step_1 = df_step_1.loc[notna_list]\n",
    "print(df_step_1.shape)\n",
    "df_step_1"
   ]
  },
  {
   "cell_type": "code",
   "execution_count": null,
   "id": "c039420e",
   "metadata": {},
   "outputs": [],
   "source": []
  },
  {
   "cell_type": "code",
   "execution_count": null,
   "id": "dee96ca1",
   "metadata": {},
   "outputs": [],
   "source": [
    "# df_step_1 = df_step_1[['index', 'stwd_kor', 'stwd_eng', 'num_kor', 'num_eng']]\n",
    "\n",
    "# # unique 뽑기 & null 값 제거\n",
    "df_step_uniq = df_step_1.dropna(axis = 0)\n",
    "df_step_uniq\n",
    "# df_step_uniq = df_step_uniq.sort_values(['stwd_kor', 'stwd_eng'])\n",
    "# print(df_step_uniq.shape)\n",
    "\n",
    "# df_step_uniq = df_step_uniq.merge(input_test, left_on='index', right_on='No', how='left')\n",
    "# print(df_step_uniq.shape)\n",
    "\n",
    "# df_step_uniq.tail(500)"
   ]
  },
  {
   "cell_type": "code",
   "execution_count": null,
   "id": "9f41374b",
   "metadata": {},
   "outputs": [],
   "source": [
    "df_step_1.dropna(axis = 0).isna()"
   ]
  },
  {
   "cell_type": "code",
   "execution_count": null,
   "id": "9a2fccc3",
   "metadata": {},
   "outputs": [],
   "source": [
    "df_step_1TT = df_step_1[]"
   ]
  },
  {
   "cell_type": "code",
   "execution_count": null,
   "id": "2425a9f6",
   "metadata": {},
   "outputs": [],
   "source": []
  },
  {
   "cell_type": "code",
   "execution_count": null,
   "id": "6aaeb05b",
   "metadata": {},
   "outputs": [],
   "source": [
    "df_step_1.shape"
   ]
  },
  {
   "cell_type": "code",
   "execution_count": null,
   "id": "fa6de55b",
   "metadata": {},
   "outputs": [],
   "source": [
    "stwd_total_cnt"
   ]
  },
  {
   "cell_type": "code",
   "execution_count": null,
   "id": "681b32c3",
   "metadata": {},
   "outputs": [],
   "source": [
    "df_step_1TT.loc[100].isna().all()"
   ]
  },
  {
   "cell_type": "code",
   "execution_count": null,
   "id": "d1e65a8c",
   "metadata": {},
   "outputs": [],
   "source": [
    "df_step_1TT"
   ]
  },
  {
   "cell_type": "code",
   "execution_count": null,
   "id": "5ce1de4e",
   "metadata": {},
   "outputs": [],
   "source": [
    "df_step_1TT"
   ]
  },
  {
   "cell_type": "code",
   "execution_count": null,
   "id": "e1d4592f",
   "metadata": {},
   "outputs": [],
   "source": []
  },
  {
   "cell_type": "code",
   "execution_count": null,
   "id": "b9148ccf",
   "metadata": {},
   "outputs": [],
   "source": []
  },
  {
   "cell_type": "code",
   "execution_count": null,
   "id": "9f82b8a8",
   "metadata": {},
   "outputs": [],
   "source": [
    "len(notna_list)"
   ]
  },
  {
   "cell_type": "code",
   "execution_count": null,
   "id": "3776be76",
   "metadata": {},
   "outputs": [],
   "source": [
    "df_step_1TT.loc[13639].isna().all()"
   ]
  },
  {
   "cell_type": "code",
   "execution_count": null,
   "id": "b6f2fddf",
   "metadata": {},
   "outputs": [],
   "source": [
    "df_step_1[df_step_1.notna()]"
   ]
  },
  {
   "cell_type": "code",
   "execution_count": null,
   "id": "6671ada8",
   "metadata": {},
   "outputs": [],
   "source": []
  },
  {
   "cell_type": "code",
   "execution_count": null,
   "id": "6dc9d65b",
   "metadata": {},
   "outputs": [],
   "source": [
    "# 중복제거 후 다시 합쳐서 검사(1안)\n",
    "\n",
    "# 한글 중복제거\n",
    "col_stwd_kor = ['stwd_kor', 'num_kor']\n",
    "unique_kor = stwd_total['stwd_kor'].drop_duplicates()\n",
    "stwd_kor_unique = stwd_total.loc[unique_kor.index][col_stwd_kor]\n",
    "print(\"한글명중복제거:\"+ str(stwd_kor_unique.shape))\n",
    "# stwd_kor_unique\n",
    "\n",
    "# 영문 중복제거\n",
    "col_stwd_eng = ['stwd_eng', 'num_eng']\n",
    "unique_eng = stwd_total['stwd_eng'].drop_duplicates()\n",
    "stwd_eng_unique = stwd_total.loc[unique_eng.index][col_stwd_eng]\n",
    "print(\"영문명중복제거:\"+ str(stwd_eng_unique.shape))\n",
    "# stwd_eng_unique.tail(100)\n",
    "\n",
    "# 한글+영문 일렬 세우기\n",
    "df_step_1 = pd.DataFrame(stwd_total['index'])\n",
    "df_step_1 = df_step_1.merge(\n",
    "    stwd_kor_unique,\n",
    "    left_index = True,\n",
    "    right_index = True,\n",
    "    how = 'left'\n",
    ").merge(\n",
    "    stwd_eng_unique,\n",
    "    left_index = True,\n",
    "    right_index = True,\n",
    "    how = 'left'\n",
    ")\n",
    "# df_step_1 = df_step_1[['index', 'stwd_kor', 'stwd_eng', 'num_kor', 'num_eng']]\n",
    "\n",
    "# # unique 뽑기 & null 값 제거\n",
    "df_step_uniq = df_step_1.dropna(axis = 0)\n",
    "df_step_uniq\n",
    "# df_step_uniq = df_step_uniq.sort_values(['stwd_kor', 'stwd_eng'])\n",
    "# print(df_step_uniq.shape)\n",
    "\n",
    "# df_step_uniq = df_step_uniq.merge(input_test, left_on='index', right_on='No', how='left')\n",
    "# print(df_step_uniq.shape)\n",
    "\n",
    "# df_step_uniq.tail(500)"
   ]
  },
  {
   "cell_type": "code",
   "execution_count": null,
   "id": "b14e6c1f",
   "metadata": {},
   "outputs": [],
   "source": [
    "df_step_1.dropna(axis = 0)"
   ]
  },
  {
   "cell_type": "code",
   "execution_count": null,
   "id": "ccb18d22",
   "metadata": {},
   "outputs": [],
   "source": [
    "print(df_step_uniq.shape)\n",
    "print(df_step_uniq.shape)\n",
    "print(df_step_1.shape)"
   ]
  },
  {
   "cell_type": "code",
   "execution_count": null,
   "id": "e6af191d",
   "metadata": {},
   "outputs": [],
   "source": []
  },
  {
   "cell_type": "code",
   "execution_count": null,
   "id": "6acd4d6e",
   "metadata": {},
   "outputs": [],
   "source": []
  },
  {
   "cell_type": "code",
   "execution_count": null,
   "id": "d2f6ac72",
   "metadata": {},
   "outputs": [],
   "source": [
    "df_step_uniq.to_excel(input_path + \"220928.xlsx\")"
   ]
  },
  {
   "cell_type": "code",
   "execution_count": null,
   "id": "8cd96e74",
   "metadata": {},
   "outputs": [],
   "source": [
    "## 파일 생성 -> 중복 없어질때까지 n회 반복"
   ]
  },
  {
   "cell_type": "markdown",
   "id": "cd4db270",
   "metadata": {},
   "source": [
    "## step1.1. 끝\n",
    "일렬 나열 및 단순 중복 제거"
   ]
  },
  {
   "cell_type": "markdown",
   "id": "66809815",
   "metadata": {},
   "source": [
    "## step1.2. 시작\n",
    "스텝 1.2. 는 중복제거 한 파일을 ID를 기준으로 다시 중복제거 한 후, 재점검하여, 아닌 것 같은 경우는 초기 input 파일(원본)처럼 만듦"
   ]
  },
  {
   "cell_type": "code",
   "execution_count": null,
   "id": "39b2954a",
   "metadata": {},
   "outputs": [],
   "source": []
  },
  {
   "cell_type": "code",
   "execution_count": null,
   "id": "3754c2c0",
   "metadata": {},
   "outputs": [],
   "source": []
  },
  {
   "cell_type": "code",
   "execution_count": null,
   "id": "bfd9f913",
   "metadata": {},
   "outputs": [],
   "source": [
    "stwd_total"
   ]
  },
  {
   "cell_type": "code",
   "execution_count": null,
   "id": "097f6187",
   "metadata": {},
   "outputs": [],
   "source": []
  },
  {
   "cell_type": "code",
   "execution_count": null,
   "id": "d864b543",
   "metadata": {},
   "outputs": [],
   "source": []
  },
  {
   "cell_type": "code",
   "execution_count": null,
   "id": "fbf839ca",
   "metadata": {},
   "outputs": [],
   "source": []
  },
  {
   "cell_type": "code",
   "execution_count": null,
   "id": "4e3d0193",
   "metadata": {},
   "outputs": [],
   "source": [
    "kor_emti_chk()"
   ]
  },
  {
   "cell_type": "code",
   "execution_count": null,
   "id": "ff01eae0",
   "metadata": {},
   "outputs": [],
   "source": []
  },
  {
   "cell_type": "code",
   "execution_count": null,
   "id": "a0aa57b1",
   "metadata": {},
   "outputs": [],
   "source": [
    "df_lower_kor "
   ]
  },
  {
   "cell_type": "code",
   "execution_count": null,
   "id": "52547d2d",
   "metadata": {},
   "outputs": [],
   "source": [
    "pd.to_numeric(df_step_raw1['id_uniq_chk{}'.format(i)])"
   ]
  },
  {
   "cell_type": "code",
   "execution_count": null,
   "id": "40663324",
   "metadata": {},
   "outputs": [],
   "source": []
  },
  {
   "cell_type": "code",
   "execution_count": null,
   "id": "9e84f504",
   "metadata": {},
   "outputs": [],
   "source": [
    "# stwd_kor_unique = stwd_total.iloc[stwd_kor_unique.index]\n",
    "# stwd_eng_unique = stwd_total.iloc[stwd_eng_unique.index]\n",
    "stwd_eng_unique"
   ]
  },
  {
   "cell_type": "code",
   "execution_count": null,
   "id": "ec6f6142",
   "metadata": {},
   "outputs": [],
   "source": [
    "stwd_total['stwd_eng'][7289]"
   ]
  },
  {
   "cell_type": "code",
   "execution_count": null,
   "id": "e7a3303e",
   "metadata": {},
   "outputs": [],
   "source": [
    "stwd_total['stwd_eng'].drop_duplicates()"
   ]
  },
  {
   "cell_type": "code",
   "execution_count": null,
   "id": "a7992617",
   "metadata": {},
   "outputs": [],
   "source": [
    "# id 유니크 체크\n",
    "# id 컬럼 만들기\n",
    "stwd_total['id'] = stwd_total['stwd_kor'] + stwd_total['stwd_eng']\n",
    "\n",
    "# uniq 항목 체크하기\n",
    "stwd_unique_list = stwd_total['id'].drop_duplicates()\n",
    "stwd_unique = stwd_total.loc[stwd_unique_list.index]\n",
    "stwd_total['uniq_chk'] = ''\n",
    "stwd_total.loc[stwd_unique_list.index, 'uniq_chk'] = 1\n",
    "stwd_total"
   ]
  },
  {
   "cell_type": "code",
   "execution_count": null,
   "id": "dbff5edd",
   "metadata": {},
   "outputs": [],
   "source": [
    "# 컬럼수만큼 테이블 만들고, 유니크 체그(한글명 id로만)\n",
    "df_step_raw1 = df_index\n",
    "for i in range(col_cnt):\n",
    "    globals()['stwd_kor_uinq{}'.format(i)] = stwd_total[stwd_total['num_kor'] == 'num_kor{}'.format(i)]\n",
    "    kor_list = ['index', 'stwd_kor', 'num_kor', 'dupl_list_kor', 'uniq_chk', 'id']\n",
    "    globals()['stwd_kor_uinq{}'.format(i)] = globals()['stwd_kor_uinq{}'.format(i)][kor_list]\n",
    "    globals()['stwd_kor_uinq{}'.format(i)].columns = [\n",
    "        'index', \n",
    "        'stwd_kor{}'.format(i), \n",
    "        'num_kor{}'.format(i), \n",
    "        'dupl_list_kor{}'.format(i),\n",
    "        'id_uniq_chk{}'.format(i),\n",
    "        'id{}'.format(i)\n",
    "    ]\n",
    "    globals()['stwd_eng_uinq{}'.format(i)] = stwd_total[stwd_total['num_eng'] == 'num_eng{}'.format(i)]\n",
    "    eng_list = ['index', 'stwd_eng', 'num_eng', 'dupl_list_eng']\n",
    "    globals()['stwd_eng_uinq{}'.format(i)] = globals()['stwd_eng_uinq{}'.format(i)][eng_list]\n",
    "    globals()['stwd_eng_uinq{}'.format(i)].columns = [\n",
    "        'index', \n",
    "        'stwd_eng{}'.format(i), \n",
    "        'num_eng{}'.format(i), \n",
    "        'dupl_list_eng{}'.format(i)\n",
    "    ]\n",
    "    # 한글,영문 통합하여 원본데이터 형태로\n",
    "    df_step_raw1 = df_step_raw1.merge(\n",
    "        globals()['stwd_kor_uinq{}'.format(i)], \n",
    "        on = 'index',\n",
    "        how = 'left'\n",
    "    ).merge(\n",
    "        globals()['stwd_eng_uinq{}'.format(i)], \n",
    "        on ='index',\n",
    "        how = 'left'\n",
    "    )\n",
    "    \n",
    "# 각 row의 unique(id) 반복 횟수 적기 \n",
    "id_uniq_chk_sum = 0\n",
    "for i in range(col_cnt):\n",
    "    globals()['id_uniq_chk{}'.format(i)] = pd.to_numeric(df_step_raw1['id_uniq_chk{}'.format(i)])\n",
    "    id_uniq_chk_sum = id_uniq_chk_sum + globals()['id_uniq_chk{}'.format(i)].fillna(0)\n",
    "id_uniq_chk_sum = pd.DataFrame(id_uniq_chk_sum, columns = ['id_uniq_chk_sum'])\n",
    "\n",
    "# 계산값 df에 추가하기\n",
    "df_step_raw1 = df_step_raw1.merge(\n",
    "    id_uniq_chk_sum,\n",
    "    left_index = True,\n",
    "    right_index = True,\n",
    "    how = 'left'\n",
    ")\n",
    "\n",
    "df_step_raw1"
   ]
  },
  {
   "cell_type": "code",
   "execution_count": null,
   "id": "0aede77d",
   "metadata": {},
   "outputs": [],
   "source": []
  },
  {
   "cell_type": "code",
   "execution_count": null,
   "id": "6d18a85e",
   "metadata": {},
   "outputs": [],
   "source": [
    "df_step_raw1[tmp_col_list]"
   ]
  },
  {
   "cell_type": "code",
   "execution_count": null,
   "id": "15ce2790",
   "metadata": {},
   "outputs": [],
   "source": [
    "# null 제거\n",
    "df_step_1 = df_step_raw1[df_step_raw1['stwd_kor0'].notna()]\n",
    "\n",
    "# 빈칸 제거\n",
    "df_step_1 = df_step_1.loc[df_step_1['stwd_kor0'] != \"\"]\n",
    "\n",
    "# 필요 컬럼 추리기\n",
    "tmp_col_list = ['index', 'id_uniq_chk_sum']\n",
    "for i in range(col_cnt):\n",
    "    tmp_col_list.append('stwd_kor{}'.format(i))\n",
    "    tmp_col_list.append('stwd_eng{}'.format(i))\n",
    "    tmp_col_list.append('id_uniq_chk{}'.format(i))\n",
    "    tmp_col_list.append('id{}'.format(i))\n",
    "df_step_1 = df_step_1[tmp_col_list]\n",
    "\n",
    "# row의 id 반복 횟수 적기(1 이상) \n",
    "df_step_1 = df_step_1.loc[df_step_1['id_uniq_chk_sum'] >= 1]\n",
    "\n",
    "# 순서 정리\n",
    "df_step_1 = df_step_1.sort_values(['stwd_kor0', 'stwd_eng0'])\n",
    "\n",
    "print('카운트_전 :'+ str(df_step_raw1.shape))\n",
    "print('카운트_후 :'+ str(df_step_1.shape))\n",
    "# df_step_1.to_excel(input_path + \"1step안_완.xlsx\")\n",
    "df_step_1.to_excel(input_path + \"1step안_완Real.xlsx\")\n",
    "df_step_1.head(500)"
   ]
  },
  {
   "cell_type": "code",
   "execution_count": null,
   "id": "a5a2922b",
   "metadata": {},
   "outputs": [],
   "source": []
  },
  {
   "cell_type": "code",
   "execution_count": null,
   "id": "56db1599",
   "metadata": {},
   "outputs": [],
   "source": [
    "\n",
    "# 계산값 df에 추가하기\n",
    "df_step_1 = df_step_1.merge(\n",
    "    id_uniq_chk_sum,\n",
    "    left_index = True,\n",
    "    right_index = True,\n",
    "    how = 'left'\n",
    ")\n",
    "df_step_1"
   ]
  },
  {
   "cell_type": "code",
   "execution_count": null,
   "id": "a2b649ea",
   "metadata": {},
   "outputs": [],
   "source": []
  },
  {
   "cell_type": "code",
   "execution_count": null,
   "id": "c3da33b8",
   "metadata": {},
   "outputs": [],
   "source": []
  },
  {
   "cell_type": "code",
   "execution_count": null,
   "id": "a9beec13",
   "metadata": {},
   "outputs": [],
   "source": [
    "# 그냥 다시 합치기(한/영)\n",
    "df_exam_raw1 = df_index\n",
    "\n",
    "for i in range(col_cnt):\n",
    "    globals()['stwd_kor_uni{}'.format(i)] = stwd_total[stwd_total['num_kor'] == 'num_kor{}'.format(i)]\n",
    "    kor_list = ['index', 'stwd_kor', 'num_kor', 'dupl_list_kor']\n",
    "    globals()['stwd_kor_uni{}'.format(i)] = globals()['stwd_kor_uni{}'.format(i)][kor_list]\n",
    "    globals()['stwd_kor_uni{}'.format(i)].columns = [\n",
    "        'index', 'stwd_kor{}'.format(i), \n",
    "        'num_kor{}'.format(i), \n",
    "        'dupl_list_kor{}'.format(i) \n",
    "    ]\n",
    "    globals()['stwd_eng_uni{}'.format(i)] = stwd_total[stwd_total['num_eng'] == 'num_eng{}'.format(i)]\n",
    "    eng_list = ['index', 'stwd_eng', 'num_eng', 'dupl_list_eng']\n",
    "    globals()['stwd_eng_uni{}'.format(i)] = globals()['stwd_eng_uni{}'.format(i)][eng_list]\n",
    "    globals()['stwd_eng_uni{}'.format(i)].columns = [\n",
    "        'index', 'stwd_eng{}'.format(i), \n",
    "        'num_eng{}'.format(i), \n",
    "        'dupl_list_eng{}'.format(i) \n",
    "    ]\n",
    "    df_exam_raw1 = df_exam_raw1.merge(\n",
    "        globals()['stwd_kor_uni{}'.format(i)], \n",
    "        on = 'index',\n",
    "        how = 'left'\n",
    "    ).merge(\n",
    "        globals()['stwd_eng_uni{}'.format(i)], \n",
    "        on ='index',\n",
    "        how = 'left'\n",
    "    )\n",
    "    \n",
    "\n",
    "df_exam_raw1"
   ]
  },
  {
   "cell_type": "code",
   "execution_count": null,
   "id": "4112a2ad",
   "metadata": {},
   "outputs": [],
   "source": []
  },
  {
   "cell_type": "code",
   "execution_count": null,
   "id": "17c01f82",
   "metadata": {},
   "outputs": [],
   "source": [
    "\n",
    "#     log = stwd_kor_unique[stwd_kor_unique['num_kor'] == 'num_kor{}'.format(i)]\n",
    "#     print('===========================================================================')\n",
    "#     print(log)\n",
    "    df_exam_raw1 = df_exam_raw1.merge(\n",
    "        globals()['stwd_kor_uni{}'.format(i)], \n",
    "        on = 'index',\n",
    "        how = 'left'\n",
    "    ).merge(\n",
    "        globals()['stwd_eng_uni{}'.format(i)], \n",
    "        on ='index',\n",
    "        how = 'left'\n",
    "    )\n",
    "\n",
    "df_exam_1 = df_exam_raw1.sort_values(['index', 'stwd_kor0'])\n",
    "print(df_exam_1.shape)\n",
    "df_exam_raw1.tail(50)\n",
    "# df_exam_raw1.head(500)"
   ]
  },
  {
   "cell_type": "code",
   "execution_count": null,
   "id": "a2a156e2",
   "metadata": {},
   "outputs": [],
   "source": [
    "stwd_unique_list.index"
   ]
  },
  {
   "cell_type": "code",
   "execution_count": null,
   "id": "36b91289",
   "metadata": {},
   "outputs": [],
   "source": [
    "# (일렬)id 유니크 만 탐색\n",
    "stwd_unique_list = stwd_total['id'].drop_duplicates()\n",
    "stwd_unique = stwd_total.loc[stwd_unique_list.index]\n",
    "a = stwd_total.iloc[stwd_unique_list.index]\n",
    "a\n"
   ]
  },
  {
   "cell_type": "code",
   "execution_count": null,
   "id": "8b868ac7",
   "metadata": {},
   "outputs": [],
   "source": [
    "stwd_unique"
   ]
  },
  {
   "cell_type": "code",
   "execution_count": null,
   "id": "2c458820",
   "metadata": {},
   "outputs": [],
   "source": [
    "# 우선 그대로 원복하고, index list 만들어서 조회만..?\n",
    "stwd_total['id'] = stwd_total['stwd_kor'] + stwd_total['stwd_eng']\n",
    "stwd_unique_list = stwd_total['id'].drop_duplicates()\n",
    "stwd_unique = stwd_total.loc[stwd_unique_list.index]\n",
    "print(stwd_unique.shape)\n",
    "stwd_unique\n",
    "stwd_kor_unique = stwd_unique[['index', 'stwd_kor', 'num_kor', 'dupl_list_kor']]\n",
    "stwd_eng_unique = stwd_unique[['index', 'stwd_eng', 'num_eng', 'dupl_list_eng']]\n",
    "stwd_kor_unique"
   ]
  },
  {
   "cell_type": "code",
   "execution_count": null,
   "id": "d7a27b41",
   "metadata": {},
   "outputs": [],
   "source": []
  },
  {
   "cell_type": "code",
   "execution_count": null,
   "id": "c6a726a5",
   "metadata": {},
   "outputs": [],
   "source": [
    "# 다시 합치기(한/영)\n",
    "df_exam_raw1 = a\n",
    "\n",
    "for i in range(col_cnt):\n",
    "    globals()['stwd_kor_uni{}'.format(i)] = stwd_kor_unique[stwd_kor_unique['num_kor'] == 'num_kor{}'.format(i)]\n",
    "    globals()['stwd_kor_uni{}'.format(i)].columns = [\n",
    "        'index', 'stwd_kor{}'.format(i), \n",
    "        'num_kor{}'.format(i), \n",
    "        'dupl_list_kor{}'.format(i) \n",
    "    ]\n",
    "    globals()['stwd_eng_uni{}'.format(i)] = stwd_eng_unique[stwd_eng_unique['num_eng'] == 'num_eng{}'.format(i)]\n",
    "    globals()['stwd_eng_uni{}'.format(i)].columns = [\n",
    "        'index', 'stwd_eng{}'.format(i), \n",
    "        'num_eng{}'.format(i), \n",
    "        'dupl_list_eng{}'.format(i) \n",
    "    ]\n",
    "#     log = stwd_kor_unique[stwd_kor_unique['num_kor'] == 'num_kor{}'.format(i)]\n",
    "#     print('===========================================================================')\n",
    "#     print(log)\n",
    "    df_exam_raw1 = df_exam_raw1.merge(\n",
    "        globals()['stwd_kor_uni{}'.format(i)], \n",
    "        on = 'index',\n",
    "        how = 'left'\n",
    "    ).merge(\n",
    "        globals()['stwd_eng_uni{}'.format(i)], \n",
    "        on ='index',\n",
    "        how = 'left'\n",
    "    )\n",
    "\n",
    "df_exam_1 = df_exam_raw1.sort_values(['index', 'stwd_kor0'])\n",
    "print(df_exam_1.shape)\n",
    "df_exam_raw1.tail(50)\n",
    "# df_exam_raw1.head(500)"
   ]
  },
  {
   "cell_type": "code",
   "execution_count": null,
   "id": "0f73058e",
   "metadata": {},
   "outputs": [],
   "source": [
    "a.to_excel(input_path + \"3안.xlsx\")"
   ]
  },
  {
   "cell_type": "code",
   "execution_count": null,
   "id": "12359923",
   "metadata": {},
   "outputs": [],
   "source": []
  },
  {
   "cell_type": "code",
   "execution_count": null,
   "id": "a231654b",
   "metadata": {},
   "outputs": [],
   "source": []
  },
  {
   "cell_type": "code",
   "execution_count": null,
   "id": "a5e7541f",
   "metadata": {},
   "outputs": [],
   "source": []
  },
  {
   "cell_type": "code",
   "execution_count": null,
   "id": "a0d54e9b",
   "metadata": {
    "scrolled": true
   },
   "outputs": [],
   "source": [
    "# [1안] 중복제거(새로운 id 셍상)\n",
    "stwd_total['id'] = stwd_total['stwd_kor'] + stwd_total['stwd_eng']\n",
    "stwd_unique_list = stwd_total['id'].drop_duplicates()\n",
    "stwd_unique = stwd_total.loc[stwd_unique_list.index]\n",
    "print(stwd_unique.shape)\n",
    "stwd_unique\n",
    "stwd_kor_unique = stwd_unique[['index', 'stwd_kor', 'num_kor', 'dupl_list_kor']]\n",
    "stwd_eng_unique = stwd_unique[['index', 'stwd_eng', 'num_eng', 'dupl_list_eng']]\n",
    "stwd_kor_unique"
   ]
  },
  {
   "cell_type": "code",
   "execution_count": null,
   "id": "d3e629a8",
   "metadata": {
    "scrolled": false
   },
   "outputs": [],
   "source": [
    "# 다시 합치기(한/영)\n",
    "df_exam_raw1 = df_index\n",
    "\n",
    "for i in range(col_cnt):\n",
    "    globals()['stwd_kor_uni{}'.format(i)] = stwd_kor_unique[stwd_kor_unique['num_kor'] == 'num_kor{}'.format(i)]\n",
    "    globals()['stwd_kor_uni{}'.format(i)].columns = [\n",
    "        'index', 'stwd_kor{}'.format(i), \n",
    "        'num_kor{}'.format(i), \n",
    "        'dupl_list_kor{}'.format(i) \n",
    "    ]\n",
    "    globals()['stwd_eng_uni{}'.format(i)] = stwd_eng_unique[stwd_eng_unique['num_eng'] == 'num_eng{}'.format(i)]\n",
    "    globals()['stwd_eng_uni{}'.format(i)].columns = [\n",
    "        'index', 'stwd_eng{}'.format(i), \n",
    "        'num_eng{}'.format(i), \n",
    "        'dupl_list_eng{}'.format(i) \n",
    "    ]\n",
    "#     log = stwd_kor_unique[stwd_kor_unique['num_kor'] == 'num_kor{}'.format(i)]\n",
    "#     print('===========================================================================')\n",
    "#     print(log)\n",
    "    df_exam_raw1 = df_exam_raw1.merge(\n",
    "        globals()['stwd_kor_uni{}'.format(i)], \n",
    "        on = 'index',\n",
    "        how = 'left'\n",
    "    ).merge(\n",
    "        globals()['stwd_eng_uni{}'.format(i)], \n",
    "        on ='index',\n",
    "        how = 'left'\n",
    "    )\n",
    "\n",
    "df_exam_1 = df_exam_raw1.sort_values(['index', 'stwd_kor0'])\n",
    "print(df_exam_1.shape)\n",
    "df_exam_raw1.tail(50)\n",
    "# df_exam_raw1.head(500)"
   ]
  },
  {
   "cell_type": "code",
   "execution_count": null,
   "id": "828fef32",
   "metadata": {},
   "outputs": [],
   "source": []
  },
  {
   "cell_type": "code",
   "execution_count": null,
   "id": "8445d69e",
   "metadata": {},
   "outputs": [],
   "source": [
    "avg_avg_kor\n"
   ]
  },
  {
   "cell_type": "code",
   "execution_count": null,
   "id": "5e35d467",
   "metadata": {},
   "outputs": [],
   "source": []
  },
  {
   "cell_type": "markdown",
   "id": "2b033ab9",
   "metadata": {},
   "source": [
    "# sdfsㄹ\n"
   ]
  },
  {
   "cell_type": "code",
   "execution_count": null,
   "id": "77321473",
   "metadata": {},
   "outputs": [],
   "source": [
    "total_cnt = avg_avg_kor\n",
    "null_list = []\n",
    "for i in range(total_cnt):    \n",
    "    # row 기준 널 체크(값이 한개라도 있을 경우 포함)\n",
    "    if df_exam_1.iloc[i].notna().sum() > 1:\n",
    "        null_list.append(i)\n",
    "        \n",
    "#         print(i)\n",
    "df_exam_1 = df_exam_1.loc[null_list]\n",
    "df_exam_1.to_excel(input_path + \"1안.xlsx\")\n",
    "df_exam_1\n"
   ]
  },
  {
   "cell_type": "code",
   "execution_count": null,
   "id": "f68d8c8b",
   "metadata": {},
   "outputs": [],
   "source": [
    "# df_id = pd.DataFrame(stwd_total['id'])\n",
    "# df_exam_1 = df_exam_1.merge(df_id, left_index=True, right_index=True, how='left').tail()"
   ]
  },
  {
   "cell_type": "code",
   "execution_count": null,
   "id": "daefc588",
   "metadata": {},
   "outputs": [],
   "source": [
    "# # null 제거\n",
    "# df_exam_1 = df_exam_raw1[df_exam_raw1['stwd_kor0'].notna()]\n",
    "\n",
    "# # 빈칸 제거\n",
    "# df_exam_1 = df_exam_1.loc[df_exam_1['stwd_kor0'] != \"\"]\n",
    "\n",
    "# 필요 컬럼 추리기\n",
    "tmp_col_list = ['index']\n",
    "for i in range(col_cnt):\n",
    "    tmp_col_list.append('stwd_kor{}'.format(i))\n",
    "    tmp_col_list.append('stwd_eng{}'.format(i))\n",
    "tmp_col_list\n",
    "\n",
    "df_exam_1 = df_exam_1[tmp_col_list]\n",
    "# df_exam_1 = pd.concat([df_exam_1, df_id] ,axis=1)\n",
    "# id_unique_list = df_id['id'].drop_duplicates()\n",
    "# df_exam_1 = df_exam_1.loc[id_unique_list.index]\n",
    "print('2안과 카운트 비교:'+ str(df_exam_1.shape))\n",
    "df_exam_1.to_excel(input_path + \"1안.xlsx\")\n",
    "df_exam_1.head()\n",
    "\n"
   ]
  },
  {
   "cell_type": "code",
   "execution_count": null,
   "id": "361d1e20",
   "metadata": {},
   "outputs": [],
   "source": []
  },
  {
   "cell_type": "code",
   "execution_count": null,
   "id": "35c40f36",
   "metadata": {},
   "outputs": [],
   "source": []
  },
  {
   "cell_type": "code",
   "execution_count": null,
   "id": "72387d57",
   "metadata": {},
   "outputs": [],
   "source": []
  },
  {
   "cell_type": "code",
   "execution_count": null,
   "id": "fb11bd03",
   "metadata": {},
   "outputs": [],
   "source": [
    "re.sub('[A-Z0-9가-힣+]', '', stwd_total['stwd_kor'][i])"
   ]
  },
  {
   "cell_type": "code",
   "execution_count": null,
   "id": "3c73ffb7",
   "metadata": {},
   "outputs": [],
   "source": [
    "# 2안: 각각 중복제거 후 다시 합쳐서 검사\n",
    "# 한글 중복제거\n",
    "col_stwd_kor = ['index', 'stwd_kor', 'num_kor', 'dupl_list_kor']\n",
    "unique_kor = stwd_total['stwd_kor'].drop_duplicates()\n",
    "stwd_kor_unique = stwd_total.loc[unique_kor.index][col_stwd_kor]\n",
    "print(stwd_kor_unique.shape)\n",
    "stwd_kor_unique"
   ]
  },
  {
   "cell_type": "markdown",
   "id": "f2d1c868",
   "metadata": {},
   "source": [
    "# 참고"
   ]
  },
  {
   "cell_type": "code",
   "execution_count": null,
   "id": "51d8d259",
   "metadata": {},
   "outputs": [],
   "source": [
    "# 2안: 각각 중복제거 후 다시 합쳐서 검사\n",
    "# 한글 중복제거\n",
    "col_stwd_kor = ['index', 'stwd_kor', 'num_kor', 'dupl_list_kor']\n",
    "unique_kor = stwd_total['stwd_kor'].drop_duplicates()\n",
    "stwd_kor_unique = stwd_total.loc[unique_kor.index][col_stwd_kor]\n",
    "print(stwd_kor_unique.shape)\n",
    "stwd_kor_unique\n",
    "\n",
    "# 영문 중복제거\n",
    "col_stwd_eng = ['index', 'stwd_eng', 'num_eng', 'dupl_list_eng']\n",
    "unique_eng = stwd_total['stwd_eng'].drop_duplicates()\n",
    "stwd_eng_unique = stwd_total.loc[unique_eng.index][col_stwd_eng]\n",
    "print(stwd_eng_unique.shape)\n",
    "stwd_eng_unique\n",
    "\n",
    "# 다시 합치기(한/영)\n",
    "df_exam_raw1 = df_index\n",
    "\n",
    "for i in range(col_cnt):\n",
    "    globals()['stwd_kor_uni{}'.format(i)] = stwd_kor_unique[stwd_kor_unique['num_kor'] == 'num_kor{}'.format(i)]\n",
    "    globals()['stwd_kor_uni{}'.format(i)].columns = [\n",
    "        'index', 'stwd_kor{}'.format(i), \n",
    "        'num_kor{}'.format(i), \n",
    "        'dupl_list_kor{}'.format(i) \n",
    "    ]\n",
    "    globals()['stwd_eng_uni{}'.format(i)] = stwd_eng_unique[stwd_eng_unique['num_eng'] == 'num_eng{}'.format(i)]\n",
    "    globals()['stwd_eng_uni{}'.format(i)].columns = [\n",
    "        'index', 'stwd_eng{}'.format(i), \n",
    "        'num_eng{}'.format(i), \n",
    "        'dupl_list_eng{}'.format(i) \n",
    "    ]\n",
    "#     log = stwd_kor_unique[stwd_kor_unique['num_kor'] == 'num_kor{}'.format(i)]\n",
    "#     print('===========================================================================')\n",
    "#     print(log)\n",
    "    df_exam_raw1 = df_exam_raw1.merge(\n",
    "        globals()['stwd_kor_uni{}'.format(i)], \n",
    "        on = 'index',\n",
    "        how = 'left'\n",
    "    ).merge(\n",
    "        globals()['stwd_eng_uni{}'.format(i)], \n",
    "        on ='index',\n",
    "        how = 'left'\n",
    "    )\n",
    "\n",
    "print(df_exam_raw1.shape)\n",
    "df_exam_raw1.head()\n",
    "\n",
    "# null 제거\n",
    "df_exam_1 = df_exam_1[df_exam_1.notna()]\n",
    "\n",
    "# 빈칸 제거\n",
    "df_exam_1 = df_exam_1.loc[df_exam_1['stwd_kor0'] != \"\"]\n",
    "\n",
    "# 필요 컬럼 추리기\n",
    "tmp_col_list = ['index']\n",
    "for i in range(col_cnt):\n",
    "    tmp_col_list.append('stwd_kor{}'.format(i))\n",
    "    tmp_col_list.append('stwd_eng{}'.format(i))\n",
    "tmp_col_list\n",
    "\n",
    "df_exam_1 = df_exam_1[tmp_col_list]\n",
    "print('1안과 카운트 비교:'+ str(df_exam_1.shape))\n",
    "df_exam_1.to_excel(input_path + \"2안.xlsx\")\n",
    "df_exam_1.head()\n",
    "\n",
    "# 널값 카운트\n",
    "e = std_chk.loc[4, 'stwd_eng']\n",
    "# type(e)\n",
    "type(e) and pd.isna(e)\n",
    "\n",
    "pd.notna(e)"
   ]
  },
  {
   "cell_type": "code",
   "execution_count": null,
   "id": "175ff40d",
   "metadata": {},
   "outputs": [],
   "source": []
  },
  {
   "cell_type": "code",
   "execution_count": null,
   "id": "b2407c04",
   "metadata": {},
   "outputs": [],
   "source": []
  },
  {
   "cell_type": "code",
   "execution_count": null,
   "id": "552810d7",
   "metadata": {},
   "outputs": [],
   "source": []
  },
  {
   "cell_type": "code",
   "execution_count": null,
   "id": "0fa1294d",
   "metadata": {},
   "outputs": [],
   "source": [
    "## df_exam_1 와 원본 붙이기!!"
   ]
  },
  {
   "cell_type": "code",
   "execution_count": null,
   "id": "b6e8bb28",
   "metadata": {},
   "outputs": [],
   "source": [
    "unique_kor"
   ]
  },
  {
   "cell_type": "code",
   "execution_count": null,
   "id": "e200a674",
   "metadata": {},
   "outputs": [],
   "source": []
  },
  {
   "cell_type": "code",
   "execution_count": null,
   "id": "ccd8a75d",
   "metadata": {},
   "outputs": [],
   "source": []
  },
  {
   "cell_type": "code",
   "execution_count": null,
   "id": "fcfbd7b1",
   "metadata": {},
   "outputs": [],
   "source": []
  },
  {
   "cell_type": "code",
   "execution_count": null,
   "id": "9ebf412f",
   "metadata": {},
   "outputs": [],
   "source": []
  },
  {
   "cell_type": "code",
   "execution_count": null,
   "id": "1c879196",
   "metadata": {},
   "outputs": [],
   "source": []
  },
  {
   "cell_type": "code",
   "execution_count": null,
   "id": "c68d68d1",
   "metadata": {},
   "outputs": [],
   "source": [
    "df_exam_1.to_excel(input_path + \"df_exam_1.xlsx\")\n",
    "df_exam_1.to_excel(input_path + \"df_exam_1.xlsx\")\n",
    "stwd_total.to_excel(input_path + \"stwd_total.xlsx\")"
   ]
  },
  {
   "cell_type": "code",
   "execution_count": null,
   "id": "4cea1088",
   "metadata": {},
   "outputs": [],
   "source": [
    "STOP!!!!!!!!!!"
   ]
  },
  {
   "cell_type": "code",
   "execution_count": null,
   "id": "b293300e",
   "metadata": {},
   "outputs": [],
   "source": []
  },
  {
   "cell_type": "code",
   "execution_count": null,
   "id": "42b323eb",
   "metadata": {},
   "outputs": [],
   "source": [
    "stwd_total"
   ]
  },
  {
   "cell_type": "code",
   "execution_count": null,
   "id": "def9230d",
   "metadata": {},
   "outputs": [],
   "source": [
    "# 1차 검토\n",
    "# 유니크(한 * 영) 데이터 뽑아 엑셀 생성\n",
    "# 수정후 total 데이터 뽑아 엑셀 생성\n"
   ]
  },
  {
   "cell_type": "code",
   "execution_count": null,
   "id": "cfa8f546",
   "metadata": {},
   "outputs": [],
   "source": [
    "stwd_total_kor_unique"
   ]
  },
  {
   "cell_type": "code",
   "execution_count": null,
   "id": "ea4601dc",
   "metadata": {},
   "outputs": [],
   "source": [
    "stwd_total_kor_unique[stwd_total_kor_unique['num_kor'] == 'num_kor{}'.format(i)]"
   ]
  },
  {
   "cell_type": "code",
   "execution_count": null,
   "id": "6c9d4377",
   "metadata": {},
   "outputs": [],
   "source": [
    "tt = stwd_total_kor_unique[stwd_total_kor_unique['num_kor'] == 'num_kor{}'.format(0)]\n",
    "tt['stwd_kor']\n",
    "tt"
   ]
  },
  {
   "cell_type": "code",
   "execution_count": null,
   "id": "429ba1a2",
   "metadata": {},
   "outputs": [],
   "source": [
    "for i in range(kor_firts_cnt):\n",
    "#     a = pd.DataFrame()\n",
    "    globals()['stwd_kor_uni{}'.format(i)] = stwd_total_kor_unique[stwd_total_kor_unique['num_kor'] == 'num_kor{}'.format(i)]\n",
    "    print(i)"
   ]
  },
  {
   "cell_type": "code",
   "execution_count": null,
   "id": "097d6d1a",
   "metadata": {},
   "outputs": [],
   "source": [
    "ba = df_index.merge(globals()['stwd_kor_uni{}'.format(0)], left_on = 'index', right_on = 'index', how = 'left')\n",
    "ba"
   ]
  },
  {
   "cell_type": "code",
   "execution_count": null,
   "id": "f213cbba",
   "metadata": {},
   "outputs": [],
   "source": [
    "# 다시 합치기\n",
    "df_index_tmp = df_index\n",
    "\n",
    "for i in range(col_cnt):\n",
    "    a = stwd_total_kor_unique[stwd_total_kor_unique['num_kor'] == 'num_kor{}'.format(i)]\n",
    "    globals()['stwd_kor_uni{}'.format(i)] = stwd_total_kor_unique[stwd_total_kor_unique['num_kor'] == 'num_kor{}'.format(i)]\n",
    "    globals()['stwd_kor_uni{}'.format(i)].columns = ['index', 'stwd_kor{}'.format(i), 'num_kor{}'.format(i), 'dupl_list_kor{}'.format(i)]\n",
    "#     tmp['num_kor{}'.format(i)] = a['stwd_kor']\n",
    "    aa = a.merge(globals()['stwd_kor_uni{}'.format(i)], left_on = 'index', right_on = 'index', how = 'left')\n",
    "    print('===========================================================================')\n",
    "    print(a)\n",
    "    df_index_tmp = df_index_tmp.merge(\n",
    "        globals()['stwd_kor_uni{}'.format(i)], \n",
    "        left_on ='index',\n",
    "        right_on = 'index',\n",
    "        how = 'left'\n",
    "    )\n",
    "\n",
    "\n",
    "df_index_tmp "
   ]
  },
  {
   "cell_type": "code",
   "execution_count": null,
   "id": "fa031699",
   "metadata": {},
   "outputs": [],
   "source": [
    "df_index_tmp"
   ]
  },
  {
   "cell_type": "code",
   "execution_count": null,
   "id": "4b5850e3",
   "metadata": {
    "scrolled": true
   },
   "outputs": [],
   "source": [
    "df_index_tmp[df_index_tmp['stwd_kor{}'.format(0)].isna()]"
   ]
  },
  {
   "cell_type": "code",
   "execution_count": null,
   "id": "47c56bbb",
   "metadata": {},
   "outputs": [],
   "source": [
    "# null제거\n",
    "for i in range(col_cnt):\n",
    "    df_index_tmp['stwd_kor{}'.format(i)] = df_index_tmp['stwd_kor{}'.format(i)].fillna(\"\")\n",
    "    df_index_tmp['num_kor{}'.format(i)] = df_index_tmp['num_kor{}'.format(i)].fillna(\"\")\n",
    "    df_index_tmp['dupl_list_kor{}'.format(i)] = df_index_tmp['dupl_list_kor{}'.format(i)].fillna(\"\")"
   ]
  },
  {
   "cell_type": "code",
   "execution_count": null,
   "id": "9fd13aae",
   "metadata": {},
   "outputs": [],
   "source": [
    "    \n",
    "# null값 수정\n",
    "for i in range(col_cnt):\n",
    "    df_index_tmp['stwd_kor{}'.format(i)] = df_index_tmp['stwd_kor{}'.format(i)].fillna(\"\")\n",
    "    df_index_tmp['num_kor{}'.format(i)] = df_index_tmp['num_kor{}'.format(i)].fillna(\"\")\n",
    "    df_index_tmp['dupl_list_kor{}'.format(i)] = df_index_tmp['dupl_list_kor{}'.format(i)].fillna(\"\")"
   ]
  },
  {
   "cell_type": "code",
   "execution_count": null,
   "id": "de641306",
   "metadata": {},
   "outputs": [],
   "source": [
    "df_index_tmp.iloc[:,30]"
   ]
  },
  {
   "cell_type": "code",
   "execution_count": null,
   "id": "aa4adb36",
   "metadata": {},
   "outputs": [],
   "source": [
    "df_index_tmp['stwd_kor{}'.format(1)].fillna(\"\")"
   ]
  },
  {
   "cell_type": "code",
   "execution_count": null,
   "id": "be1d27ee",
   "metadata": {},
   "outputs": [],
   "source": [
    "\n",
    "    \n",
    "    \n",
    "    \n",
    "    \n",
    "#     input_split_kor[\"num_kor{}\".format(i)] = \"num_kor{}\".format(i)\n",
    "#     globals()[\"stwd_kor{}\".format(i)] = pd.concat(\n",
    "#             [\n",
    "#             df_index.fillna(\"\"), \n",
    "#             pd.DataFrame(input_split_kor[\"stwd_kor{}\".format(i)]).fillna(\"\"),\n",
    "#             pd.DataFrame(input_split_kor[\"num_kor{}\".format(i)]).fillna(\"\"),\n",
    "#             globals()[\"dupl_list_kor{}\".format(i)].fillna(\"\")\n",
    "#             ], "
   ]
  },
  {
   "cell_type": "code",
   "execution_count": null,
   "id": "73adb23c",
   "metadata": {},
   "outputs": [],
   "source": [
    "df_index_tmp = df_index\n",
    "df_index_tmp "
   ]
  },
  {
   "cell_type": "code",
   "execution_count": null,
   "id": "1cf5599c",
   "metadata": {},
   "outputs": [],
   "source": [
    "for i in range(kor_firts_cnt):\n",
    "    a = stwd_total_kor_unique[stwd_total_kor_unique['num_kor'] == 'num_kor{}'.format(i)]\n",
    "    globals()['stwd_kor_uni{}'.format(i)] = stwd_total_kor_unique[stwd_total_kor_unique['num_kor'] == 'num_kor{}'.format(i)]\n",
    "    globals()['stwd_kor_uni{}'.format(i)].columns = ['index', 'stwd_kor{}'.format(i), 'num_kor{}'.format(i), 'dupl_list_kor{}'.format(i)]\n",
    "#     tmp['num_kor{}'.format(i)] = a['stwd_kor']\n",
    "    aa = a.merge(globals()['stwd_kor_uni{}'.format(i)], left_on = 'index', right_on = 'index', how = 'left')\n",
    "    print('===========================================================================')\n",
    "    print(a)\n",
    "    df_index_tmp = df_index_tmp.merge(\n",
    "        globals()['stwd_kor_uni{}'.format(i)], \n",
    "        left_on ='index',\n",
    "        right_on = 'index',\n",
    "        how = 'left'\n",
    "    )\n",
    "df_index_tmp"
   ]
  },
  {
   "cell_type": "code",
   "execution_count": null,
   "id": "22690954",
   "metadata": {},
   "outputs": [],
   "source": [
    "df_index_tmp.columns"
   ]
  },
  {
   "cell_type": "code",
   "execution_count": null,
   "id": "fea5ae8a",
   "metadata": {},
   "outputs": [],
   "source": [
    "tmp = pd.DataFrame()\n",
    "for i in range(kor_firts_cnt):\n",
    "#     a = pd.DataFrame()\n",
    "    a = stwd_total_kor_unique[stwd_total_kor_unique['num_kor'] == 'num_kor{}'.format(i)]\n",
    "    globals()['stwd_kor_uni{}'.format(i)] = stwd_total_kor_unique[stwd_total_kor_unique['num_kor'] == 'num_kor{}'.format(i)]\n",
    "#     tmp['num_kor{}'.format(i)] = a['stwd_kor']\n",
    "    tmp = df_index.merge(\n",
    "        globals()['stwd_kor_uni{}'.format(i)], \n",
    "        left_on ='index',\n",
    "        right_on = 'index',\n",
    "        how = 'left'\n",
    "    )\n",
    "    print(i)\n",
    "    print('===========================================================================')\n",
    "    print(tmp)\n",
    "tmp"
   ]
  },
  {
   "cell_type": "code",
   "execution_count": null,
   "id": "e5790588",
   "metadata": {},
   "outputs": [],
   "source": [
    "stwd_total_kor_unique[stwd_total_kor_unique['num_kor'] == 'num_kor0']"
   ]
  },
  {
   "cell_type": "code",
   "execution_count": null,
   "id": "fe50c666",
   "metadata": {},
   "outputs": [],
   "source": [
    "stwd_total_kor_unique.loc[stwd_total_kor_unique['num_kor'] == 'num_kor0', 'num_kor']"
   ]
  },
  {
   "cell_type": "code",
   "execution_count": null,
   "id": "33d19b91",
   "metadata": {},
   "outputs": [],
   "source": []
  },
  {
   "cell_type": "code",
   "execution_count": null,
   "id": "df56f545",
   "metadata": {},
   "outputs": [],
   "source": [
    "unique_stwd_kor['stwd_kor'].drop_duplicates()"
   ]
  },
  {
   "cell_type": "code",
   "execution_count": null,
   "id": "fe87e1f8",
   "metadata": {},
   "outputs": [],
   "source": [
    "pd.DataFrame(unique_stwd_kor['stwd_kor'].drop_duplicates())"
   ]
  },
  {
   "cell_type": "code",
   "execution_count": null,
   "id": "faf29220",
   "metadata": {},
   "outputs": [],
   "source": []
  },
  {
   "cell_type": "code",
   "execution_count": null,
   "id": "ce06d9f5",
   "metadata": {},
   "outputs": [],
   "source": []
  },
  {
   "cell_type": "code",
   "execution_count": null,
   "id": "3dbc50be",
   "metadata": {},
   "outputs": [],
   "source": [
    "# 특수기호 검사 : 한, 영\n",
    "# 소문자 검사 : 한, 영\n",
    "# 스페이스 제거 : 언제나\n",
    "input_test['용어명 분리'] = input_test['용어명 분리'].str.replace(\" \", \"\")"
   ]
  },
  {
   "cell_type": "code",
   "execution_count": null,
   "id": "ceebbf93",
   "metadata": {},
   "outputs": [],
   "source": []
  },
  {
   "cell_type": "code",
   "execution_count": null,
   "id": "95bc0090",
   "metadata": {},
   "outputs": [],
   "source": []
  },
  {
   "cell_type": "code",
   "execution_count": null,
   "id": "636fd968",
   "metadata": {},
   "outputs": [],
   "source": []
  },
  {
   "cell_type": "code",
   "execution_count": null,
   "id": "35f049b4",
   "metadata": {},
   "outputs": [],
   "source": []
  },
  {
   "cell_type": "code",
   "execution_count": null,
   "id": "b209151e",
   "metadata": {},
   "outputs": [],
   "source": []
  },
  {
   "cell_type": "code",
   "execution_count": null,
   "id": "373117fa",
   "metadata": {},
   "outputs": [],
   "source": []
  },
  {
   "cell_type": "markdown",
   "id": "a8ee9061",
   "metadata": {},
   "source": [
    "# 참고"
   ]
  },
  {
   "cell_type": "code",
   "execution_count": null,
   "id": "56913c4f",
   "metadata": {},
   "outputs": [],
   "source": [
    "############ num_kor(n) / num_eng(n) 기준으로 테이블 분리\n",
    "############ index 기준으로 left join하여 원상복구"
   ]
  },
  {
   "cell_type": "code",
   "execution_count": null,
   "id": "67bbdd23",
   "metadata": {},
   "outputs": [],
   "source": [
    "############## 이거 참고\n",
    "# db 조건 조회\n",
    "print(len(stwd_eng7.loc[stwd_eng7['stwd_eng7'] != \"\", 'stwd_eng7']))\n",
    "# 특수기호 제거\n",
    "# for i in range(len(input_test['영문약어명'])):\n",
    "#     tmp = input_test['영문약어명'][i].translate(str.maketrans('', '', string.punctuation))\n",
    "#     print(tmp)\n",
    "print(string.punctuation)"
   ]
  },
  {
   "cell_type": "code",
   "execution_count": null,
   "id": "21b17f8f",
   "metadata": {},
   "outputs": [],
   "source": [
    "# # 특수문자 제거\n",
    "# for i in range(len(input_test['영문약어명'])):\n",
    "#     tmp = input_test['영문약어명'][i].translate(str.maketrans('', '', string.punctuation))\n",
    "#     i += i\n",
    "#     print(tmp)\n",
    "# i"
   ]
  },
  {
   "cell_type": "code",
   "execution_count": null,
   "id": "c65db2d3",
   "metadata": {},
   "outputs": [],
   "source": [
    "# # -*- coding: utf-8 -*-\n",
    "# import sys\n",
    "# import re\n",
    "\n",
    "# def isHangul(text):\n",
    "#     #Check the Python Version\n",
    "#     pyVer3 =  sys.version_info >= (3, 0)\n",
    "\n",
    "#     if pyVer3 : # for Ver 3 or later\n",
    "#         encText = text\n",
    "#     else: # for Ver 2.x\n",
    "#         if type(text) is not unicode:\n",
    "#             encText = text.decode('utf-8')\n",
    "#         else:\n",
    "#             encText = text\n",
    "\n",
    "#     hanCount = len(re.findall(u'[\\u3130-\\u318F\\uAC00-\\uD7A3]+', encText))\n",
    "#     return hanCount > 0\n",
    "\n",
    "# 한글 영문 추리기1\n",
    "# if __name__ == '__main__':\n",
    "#     han = '한글'\n",
    "#     han2 = u'한글'\n",
    "#     input = 'English1234'  #utf-8\n",
    "#     input2 = u'English1234' #unicode\n",
    "#     #(major_ver, minor_ver) = (sys.version_info).split(',')\n",
    "#     print(han + \" is \" + str(isHangul(han)))\n",
    "#     print(han2 + \" is \" + str(isHangul(han2)))\n",
    "#     print(input + \" is \" + str(isHangul(input)))\n",
    "#     print(input2 + \" is \" + str(isHangul(input2)))\n",
    "\n",
    "# 한글 영문 추리기2\n",
    "# i = 23\n",
    "# print(stwd_total['stwd_eng'][i])\n",
    "# print(re.findall(u'[\\u3130-\\u318F\\uAC00-\\uD7A3]+', stwd_total['stwd_eng'][i]))\n",
    "# print(re.findall('[A-Za-z]', stwd_total['stwd_eng'][i]))"
   ]
  },
  {
   "cell_type": "code",
   "execution_count": null,
   "id": "4c613095",
   "metadata": {},
   "outputs": [],
   "source": [
    "# # 영문명에 한글명 포함되었는가 탐색\\\n",
    "        \n",
    "# # 한글 영어 최종 검색\n",
    "# print('[자동 처리 시작합니다]')\n",
    "# chk_list = []\n",
    "# stwd_total['stwd_cor_kor'] = ''\n",
    "# for i in range(len(stwd_total)):\n",
    "#     cor_kor = re.findall('[A-Z0-9가-힣+]', stwd_total['stwd_kor'][i])\n",
    "#     chk_kor = len(cor_kor) == len(list(stwd_total['stwd_kor'][i]))\n",
    "   \n",
    "#     if bool(chk_kor) == False:\n",
    "#         print(\"-----------------------------------------------------------------|\")\n",
    "#         print('index: ' + str(i))\n",
    "#         print(stwd_total['stwd_kor'][i] + \" -> \" + str(''.join(cor_kor)))\n",
    "#         chk_list.append(i)\n",
    "#     stwd_total['stwd_cor_kor'] = re.sub('[A-Z0-9가-힣+]', '', stwd_total['stwd_kor'][i])\n",
    "\n",
    "    \n",
    "# #     stwd_total.loc[i,'stwd_kor_chk'] = cor_kor\n",
    "# stwd_total_manu1 = stwd_total.iloc[chk_list]\n",
    "# print('[자동 처리 완료하였습니다]')\n",
    "# print(\"chk_list: \"+ str(len(chk_list)))\n",
    "# stwd_total_manu1\n",
    "\n",
    "# # 특수기호 제거\n",
    "\n",
    "# for i in range(stwd_total_cnt):\n",
    "#     stwd_total.loc[i, 'stwd_kor'] =  stwd_total['stwd_kor'][i].translate(str.maketrans('', '', string.punctuation))\n",
    "# #     stwd_total['stwd_kor'][i] = stwd_total['stwd_kor'][i].translate(str.maketrans('', '', string.punctuation)) # 안됨!!!\n",
    "#     cnt += i\n",
    "# print('[test] 적용 후: ' + str(stwd_total.loc[0, 'stwd_kor']))"
   ]
  },
  {
   "cell_type": "code",
   "execution_count": null,
   "id": "383bae0a",
   "metadata": {},
   "outputs": [],
   "source": [
    "# #####################################################################\n",
    "# # 한글 소문자 탐색 \n",
    "# test = 'test'\n",
    "# stwd_total.loc[2, 'stwd_kor'] = stwd_total.loc[2, 'stwd_kor'] + test\n",
    "# print('[test] 적용 전(가짜): ' + stwd_total.loc[2, 'stwd_kor'])\n",
    "# df_lower_kor = pd.DataFrame(columns = stwd_total.columns)\n",
    "# for i in range(stwd_total_cnt):\n",
    "#     if stwd_total['stwd_kor'][i].islower():\n",
    "#         tmp = pd.DataFrame(stwd_total.iloc[i,:]).transpose()\n",
    "#         df_lower_kor = pd.concat([df_lower_kor, tmp], axis=0)\n",
    "# stwd_total['stwd_kor_old'] = stwd_total['stwd_kor']\n",
    "# stwd_total['stwd_kor'] = stwd_total['stwd_kor'].str.upper()\n",
    "\n",
    "# # 적용 후 결과값\n",
    "# print('[test] 적용 후(대문자): ' + stwd_total.loc[2, 'stwd_kor'])\n",
    "# stwd_total.loc[2, 'stwd_kor'] = stwd_total.loc[2, 'stwd_kor'].strip(test.upper())\n",
    "# print('[test] 복구: 개시')\n",
    "# print('변경된 값: ' + str(len(df_lower_kor)) + '개')\n",
    "# stwd_total.head()\n",
    "\n",
    "# # 영문 소문자 탐색 \n",
    "# print('[test] 적용 전(소문자): ' + stwd_total.loc[2, 'stwd_eng'])\n",
    "# df_lower_eng = pd.DataFrame(columns = stwd_total.columns)\n",
    "# for i in range(stwd_total_cnt):\n",
    "#     if stwd_total['stwd_eng'][i].islower():\n",
    "#         tmp = pd.DataFrame(stwd_total.iloc[i,:]).transpose()\n",
    "#         df_lower_eng = pd.concat([df_lower_eng, tmp], axis=0)\n",
    "# stwd_total['stwd_eng_old'] = stwd_total['stwd_eng']\n",
    "# stwd_total['stwd_eng'] = stwd_total['stwd_eng'].str.upper()\n",
    "\n",
    "# # 적용 후 결과값\n",
    "# print('[test] 적용 후(대문자): ' + stwd_total.loc[2, 'stwd_eng'])\n",
    "# print('변경된 값: ' + str(len(df_lower_eng)) + '개')\n",
    "# stwd_total.head()"
   ]
  },
  {
   "cell_type": "code",
   "execution_count": null,
   "id": "48df0b69",
   "metadata": {},
   "outputs": [],
   "source": []
  },
  {
   "cell_type": "code",
   "execution_count": null,
   "id": "a5d4c2c7",
   "metadata": {},
   "outputs": [],
   "source": []
  },
  {
   "cell_type": "code",
   "execution_count": null,
   "id": "c2fbef91",
   "metadata": {},
   "outputs": [],
   "source": []
  },
  {
   "cell_type": "code",
   "execution_count": null,
   "id": "2b2092be",
   "metadata": {},
   "outputs": [],
   "source": []
  },
  {
   "cell_type": "code",
   "execution_count": null,
   "id": "0ca54755",
   "metadata": {},
   "outputs": [],
   "source": [
    "# left join\n",
    "for i in range(name_cnt):\n",
    "    globals()['stwd_total{}'.format(i)] = pd.merge(\n",
    "        globals()['stwd_kor{}'.format(i)],\n",
    "        globals()['stwd_eng{}'.format(i)],\n",
    "        on = 'index',\n",
    "        how = 'left'\n",
    "    )\n",
    "\n",
    "# 카운트 일치 여부 점검\n",
    "index_cnt = len(df_index['index'])\n",
    "if index_cnt != len(stwd_total0):\n",
    "    print(\"index 와 joined_date count불일치\")\n",
    "else:\n",
    "    print(\"count 일치\")\n",
    "stwd_total5"
   ]
  },
  {
   "cell_type": "code",
   "execution_count": null,
   "id": "b70b271d",
   "metadata": {},
   "outputs": [],
   "source": []
  },
  {
   "cell_type": "code",
   "execution_count": null,
   "id": "be7c10e9",
   "metadata": {},
   "outputs": [],
   "source": []
  },
  {
   "cell_type": "code",
   "execution_count": null,
   "id": "e76a4a32",
   "metadata": {},
   "outputs": [],
   "source": []
  },
  {
   "cell_type": "code",
   "execution_count": null,
   "id": "9665cb4c",
   "metadata": {},
   "outputs": [],
   "source": []
  },
  {
   "cell_type": "code",
   "execution_count": null,
   "id": "8c42ff45",
   "metadata": {},
   "outputs": [],
   "source": [
    "# merge\n",
    "for i in range(name_cnt):\n",
    "    globals()['stwd_total{}'.format(i)] = pd.concat(\n",
    "        [\n",
    "        globals()['stwd_kor{}'.format(i)],\n",
    "        globals()['stwd_eng{}'.format(i)]\n",
    "        ],\n",
    "        axis = 1        \n",
    "    )\n",
    "    print(i)\n",
    "# print(name_cnt)\n",
    "# print(name_cnt_diff_list)\n",
    "\n",
    "\n",
    "stwd_total1"
   ]
  },
  {
   "cell_type": "code",
   "execution_count": null,
   "id": "7cdbdaf2",
   "metadata": {},
   "outputs": [],
   "source": []
  },
  {
   "cell_type": "code",
   "execution_count": null,
   "id": "a5afb9dd",
   "metadata": {},
   "outputs": [],
   "source": []
  },
  {
   "cell_type": "code",
   "execution_count": null,
   "id": "71c988e5",
   "metadata": {},
   "outputs": [],
   "source": []
  },
  {
   "cell_type": "code",
   "execution_count": null,
   "id": "8ce65cf3",
   "metadata": {},
   "outputs": [],
   "source": []
  },
  {
   "cell_type": "code",
   "execution_count": null,
   "id": "bfce36ca",
   "metadata": {},
   "outputs": [],
   "source": [
    "for i in list(set(range(name_cnt)) - set(range(name_cnt_diff))):\n",
    "    print(i)\n"
   ]
  },
  {
   "cell_type": "code",
   "execution_count": null,
   "id": "01724074",
   "metadata": {},
   "outputs": [],
   "source": [
    "list(set(range(name_cnt_kor)) - set(range(name_cnt_eng)))"
   ]
  },
  {
   "cell_type": "code",
   "execution_count": null,
   "id": "8bd9c72e",
   "metadata": {},
   "outputs": [],
   "source": [
    "input_split_eng"
   ]
  },
  {
   "cell_type": "code",
   "execution_count": null,
   "id": "eae97030",
   "metadata": {},
   "outputs": [],
   "source": [
    "input_split_eng['stwd_eng6'] = None\n",
    "input_split_eng['stwd_eng6']"
   ]
  },
  {
   "cell_type": "code",
   "execution_count": null,
   "id": "3c9e415a",
   "metadata": {},
   "outputs": [],
   "source": [
    "input_split_eng['stwd_eng6']"
   ]
  },
  {
   "cell_type": "code",
   "execution_count": null,
   "id": "cf86aa8a",
   "metadata": {},
   "outputs": [],
   "source": [
    "# 한글/영문 컬럼 수 비교하기\n",
    "name_cnt_kor = len(name_list_kor)\n",
    "name_cnt_eng = len(name_list_eng)\n",
    "\n",
    "if name_cnt_kor == name_cnt_eng:\n",
    "    name_cnt = name_cnt_kor\n",
    "    name_cnt_diff_list = None\n",
    "elif name_cnt_kor > name_cnt_eng:\n",
    "    name_cnt = name_cnt_eng\n",
    "    name_cnt_diff_list = list(set(range(name_cnt_kor)) - set(range(name_cnt_eng)))\n",
    "    for i in name_cnt_diff_list:\n",
    "        input_split_eng['stwd_eng{}'.format(i)] = None\n",
    "        input_split_eng['num_eng{}'.format(i)] = None\n",
    "        globals()['stwd_eng{}'.format(i)] = pd.concat(\n",
    "            [\n",
    "                df_index,\n",
    "                pd.DataFrame(input_split_eng['stwd_eng{}'.format(i)]),\n",
    "                pd.DataFrame(input_split_eng[\"num_eng{}\".format(i)])\n",
    "            ],\n",
    "            axis = 1\n",
    "        )\n",
    "        \n",
    "        \n",
    "        \n",
    "elif name_cnt_kor < name_cnt_eng:\n",
    "    name_cnt = name_cnt_kor\n",
    "    name_cnt_diff_list = list(set(range(name_cnt_eng)) - set(range(name_cnt_kor)))\n",
    "    for i in name_cnt_diff_list:\n",
    "        input_split_kor['stwd_kor{}'.format(i)] = None\n",
    "        input_split_kor['num_kor{}'.format(i)] = None\n",
    "        globals()['stwd_kor{}'.format(i)] = pd.concat(\n",
    "            [\n",
    "                df_index,\n",
    "                pd.DataFrame(input_split_kor['stwd_kor{}'.format(i)]),\n",
    "                pd.DataFrame(input_split_kor[\"num_kor{}\".format(i)])\n",
    "            ],\n",
    "            axis = 1\n",
    "        )\n",
    "        \n",
    "\n",
    "stwd_eng7\n"
   ]
  },
  {
   "cell_type": "code",
   "execution_count": null,
   "id": "03271dd5",
   "metadata": {},
   "outputs": [],
   "source": [
    "stwd_eng6"
   ]
  },
  {
   "cell_type": "code",
   "execution_count": null,
   "id": "eee55fcd",
   "metadata": {},
   "outputs": [],
   "source": [
    "# 한글/영문 컬럼 수 비교하기\n",
    "name_cnt_kor = len(name_list)\n",
    "name_cnt_eng = len(name_list_eng)\n",
    "\n",
    "if name_cnt_kor == name_cnt_eng:\n",
    "    name_cnt = name_cnt_kor\n",
    "    name_cnt_diff_list = None\n",
    "elif name_cnt_kor > name_cnt_eng:\n",
    "    name_cnt = name_cnt_eng\n",
    "    name_cnt_diff_list = list(set(range(name_cnt_kor)) - set(range(name_cnt_eng)))\n",
    "    for i in name_cnt_diff_list:\n",
    "        globals()['stwd_eng{}'.format(i)] = None\n",
    "elif name_cnt_kor < name_cnt_eng:\n",
    "    name_cnt = name_cnt\n",
    "    name_cnt_diff_list = list(set(range(name_cnt_eng)) - set(range(name_cnt_kor)))\n",
    "    \n",
    "    \n",
    "\n",
    "    \n",
    "    \n",
    "for i in range(name_cnt):\n",
    "    globals()['stwd_total{}'.format(i)] = pd.concat(\n",
    "        [\n",
    "        globals()['stwd{}'.format(i)],\n",
    "        globals()['stwd_eng{}'.format(i)]\n",
    "        ],\n",
    "        axis = 1        \n",
    "    )\n",
    "    print(i)\n",
    "# print(name_cnt)\n",
    "# print(name_cnt_diff_list)"
   ]
  },
  {
   "cell_type": "code",
   "execution_count": null,
   "id": "f9979475",
   "metadata": {
    "scrolled": true
   },
   "outputs": [],
   "source": [
    "# 리스트 - 리스트\n",
    "list1 = [1,2]\n",
    "list2 = [1,2,3]\n",
    "list(set(list2) - set(list1))\n",
    "list(set(list1) - set(list2))\n",
    "list(set(list1).difference(set(list2)))\n",
    "list(set(range(10)) - set(range(2)))"
   ]
  },
  {
   "cell_type": "code",
   "execution_count": null,
   "id": "f36d01ae",
   "metadata": {},
   "outputs": [],
   "source": [
    "list(set(range(10)) - set(range(2)))"
   ]
  },
  {
   "cell_type": "code",
   "execution_count": null,
   "id": "1cb7b1be",
   "metadata": {},
   "outputs": [],
   "source": [
    "list(set(range(2)) - set(range(10)))"
   ]
  },
  {
   "cell_type": "code",
   "execution_count": null,
   "id": "19672885",
   "metadata": {},
   "outputs": [],
   "source": []
  },
  {
   "cell_type": "code",
   "execution_count": null,
   "id": "88a77a79",
   "metadata": {},
   "outputs": [],
   "source": []
  },
  {
   "cell_type": "code",
   "execution_count": null,
   "id": "a72e5ca8",
   "metadata": {},
   "outputs": [],
   "source": []
  },
  {
   "cell_type": "code",
   "execution_count": null,
   "id": "b0ef7e0a",
   "metadata": {},
   "outputs": [],
   "source": [
    "# 용어명 분리\n",
    "input_test['용어명 분리'] = input_test['용어명 분리'].str.replace(\" \", \"\")\n",
    "input_split = pd.DataFrame(input_test['용어명 분리'].str.split('_').tolist())\n",
    "name_list = []\n",
    "for i in range(len(input_split.columns)):\n",
    "    name_list.append(\"stwd{}\".format(i))\n",
    "print(name_list)\n",
    "# 컬럼명 만들기\n",
    "input_split = pd.DataFrame(input_test['용어명 분리'].str.split('_').tolist(), columns = name_list)\n",
    "# 인덱스 컬럼 추가\n",
    "df_index = pd.DataFrame(input_test['No'])\n",
    "df_index.columns = ['index']\n",
    "input_split= pd.concat([input_split, df_index], axis = 1)\n",
    "print(input_split.shape)\n",
    "input_split.head(5)"
   ]
  },
  {
   "cell_type": "code",
   "execution_count": null,
   "id": "67005077",
   "metadata": {},
   "outputs": [],
   "source": [
    "# 영문명 분리\n",
    "input_test['영문약어명'] = input_test['영문약어명'].str.replace(\" \", \"\")\n",
    "input_split_eng = pd.DataFrame(input_test['영문약어명'].str.split('_').tolist())\n",
    "name_list_eng = []\n",
    "for i in range(len(input_split_eng.columns)):\n",
    "    name_list_eng.append(\"stwd_eng{}\".format(i))\n",
    "print(name_list_eng)\n",
    "# 컬럼명 만들기\n",
    "input_split_eng = pd.DataFrame(input_test['영문약어명'].str.split('_').tolist(), columns = name_list_eng)\n",
    "# 인덱스 컬럼 추가\n",
    "# df_index = pd.DataFrame(input_test['No'])\n",
    "# df_index.columns = ['index']\n",
    "# input_split_eng= pd.concat([input_split_eng, df_index], axis = 1)\n",
    "print(input_split_eng.shape)\n",
    "input_split_eng.head(5)"
   ]
  },
  {
   "cell_type": "code",
   "execution_count": null,
   "id": "fcd75f26",
   "metadata": {},
   "outputs": [],
   "source": [
    "name_list = []\n",
    "for i in range(len(input_split_eng.columns)):\n",
    "    name_list_eng.append(\"stwd_eng{}\".format(i))"
   ]
  },
  {
   "cell_type": "code",
   "execution_count": null,
   "id": "c7aa71b5",
   "metadata": {},
   "outputs": [],
   "source": [
    "if len(name_list) == len(name_list_eng):\n",
    "    name_list_cnt = len(name_list)\n",
    "elif len(name_list) > len(name_list_eng):\n",
    "    name_list_cnt = len(name_list)\n",
    "elif len(name_list) < len(name_list_eng):\n",
    "    name_list_cnt = len(name_list_eng)\n",
    "    \n",
    "for i in range(name_list_cnt):\n",
    "    print(i)"
   ]
  },
  {
   "cell_type": "code",
   "execution_count": null,
   "id": "f925d077",
   "metadata": {},
   "outputs": [],
   "source": []
  },
  {
   "cell_type": "code",
   "execution_count": null,
   "id": "1789702b",
   "metadata": {},
   "outputs": [],
   "source": []
  },
  {
   "cell_type": "code",
   "execution_count": null,
   "id": "aad3c40c",
   "metadata": {},
   "outputs": [],
   "source": []
  },
  {
   "cell_type": "code",
   "execution_count": null,
   "id": "528a7e6f",
   "metadata": {},
   "outputs": [],
   "source": []
  },
  {
   "cell_type": "code",
   "execution_count": null,
   "id": "4b302682",
   "metadata": {},
   "outputs": [],
   "source": []
  },
  {
   "cell_type": "code",
   "execution_count": null,
   "id": "1d25f5db",
   "metadata": {},
   "outputs": [],
   "source": [
    "if len(name_list) == len(name_list_eng):\n",
    "    print(1)\n",
    "elif len(name_list) > len(name_list_eng):\n",
    "    print(2)    \n",
    "elif len(name_list) < len(name_list_eng):\n",
    "    print(3)"
   ]
  },
  {
   "cell_type": "code",
   "execution_count": null,
   "id": "1f4d71d5",
   "metadata": {},
   "outputs": [],
   "source": [
    "len(name_list_eng)"
   ]
  },
  {
   "cell_type": "code",
   "execution_count": null,
   "id": "717a24e4",
   "metadata": {},
   "outputs": [],
   "source": [
    "len(name_list)"
   ]
  },
  {
   "cell_type": "code",
   "execution_count": null,
   "id": "6f532858",
   "metadata": {},
   "outputs": [],
   "source": []
  },
  {
   "cell_type": "code",
   "execution_count": null,
   "id": "a610a2ce",
   "metadata": {},
   "outputs": [],
   "source": []
  },
  {
   "cell_type": "code",
   "execution_count": null,
   "id": "3b24e884",
   "metadata": {},
   "outputs": [],
   "source": []
  },
  {
   "cell_type": "code",
   "execution_count": null,
   "id": "a03325fa",
   "metadata": {},
   "outputs": [],
   "source": []
  },
  {
   "cell_type": "code",
   "execution_count": null,
   "id": "ada39004",
   "metadata": {},
   "outputs": [],
   "source": [
    "# 용어명 분리\n",
    "input_test['용어명 분리'] = input_test['용어명 분리'].str.replace(\" \", \"\")\n",
    "input_split = pd.DataFrame(input_test['용어명 분리'].str.split('_').tolist())\n",
    "name_list = []\n",
    "for i in range(len(input_split.columns)):\n",
    "    name_list.append(\"stwd{}\".format(i))\n",
    "print(name_list)\n",
    "# 컬럼명 만들기\n",
    "input_split = pd.DataFrame(input_test['용어명 분리'].str.split('_').tolist(), columns = name_list)\n",
    "print(input_split.shape)\n",
    "input_split.head(5)"
   ]
  },
  {
   "cell_type": "code",
   "execution_count": null,
   "id": "a097dc53",
   "metadata": {},
   "outputs": [],
   "source": [
    "# 단어별 개수 세기(네이밍 컬럼)\n",
    "dupl_list = []\n",
    "dupl_cnt = []\n",
    "for i in range(len(input_split.columns)):\n",
    "    globals()[\"dupl_list{}\".format(i)] = []\n",
    "    for j in range(len(input_split[\"stwd{}\".format(i)])):\n",
    "        dupl_cnt = input_split[\"stwd{}\".format(i)].to_list().count(input_split[\"stwd{}\".format(i)][j])\n",
    "        globals()[\"dupl_list{}\".format(i)].append(dupl_cnt)\n",
    "# df_dupl 힌즐 세우기\n",
    "df_dupl = pd.DataFrame()\n",
    "for i in range(len(input_split.columns)):\n",
    "    globals()[\"dupl_list{}\".format(i)]\n",
    "    df_dupl = pd.concat([df_dupl, pd.DataFrame(globals()[\"dupl_list{}\".format(i)])], axis = 0)\n",
    "df_dupl.columns = ['dupl']\n",
    "df_dupl"
   ]
  },
  {
   "cell_type": "code",
   "execution_count": null,
   "id": "0f87aa2a",
   "metadata": {},
   "outputs": [],
   "source": [
    "# df_index 한줄 세우기\n",
    "# df_index = pd.DataFrame(input_test['No'])\n",
    "df_index = pd.DataFrame()\n",
    "for i in range(len(input_split.columns)):\n",
    "#     globals()[\"df_index{}\".format(i)] = pd.DataFrame(input_test['No'])\n",
    "    df_index = pd.concat([df_index, pd.DataFrame(input_test['No'])])\n",
    "df_index.columns = ['index']\n",
    "df_index"
   ]
  },
  {
   "cell_type": "code",
   "execution_count": null,
   "id": "b840f19f",
   "metadata": {},
   "outputs": [],
   "source": [
    "# df_stwd 힌즐 세우기\n",
    "df_stwd = pd.DataFrame()\n",
    "for i in range(len(input_split.columns)):\n",
    "    globals()[\"df_stwd{}\".format(i)] = input_split[\"stwd{}\".format(i)]\n",
    "    df_stwd = pd.concat([df_stwd, globals()[\"df_stwd{}\".format(i)]])\n",
    "df_stwd.columns = ['stwd']\n",
    "df_stwd"
   ]
  },
  {
   "cell_type": "code",
   "execution_count": null,
   "id": "c251d8c1",
   "metadata": {},
   "outputs": [],
   "source": [
    "# df_chk\n",
    "df_chk = pd.concat([df_stwd, df_index], axis=1).reset_index() # 인덱스 초기화\n",
    "df_chk = df_chk[['stwd', 'index']]\n",
    "print(df_chk.shape)\n",
    "df_chk.tail(5)"
   ]
  },
  {
   "cell_type": "code",
   "execution_count": null,
   "id": "93a577f5",
   "metadata": {},
   "outputs": [],
   "source": [
    "### 한글 단어 분리"
   ]
  },
  {
   "cell_type": "code",
   "execution_count": null,
   "id": "543edf6f",
   "metadata": {},
   "outputs": [],
   "source": []
  },
  {
   "cell_type": "code",
   "execution_count": null,
   "id": "c414196e",
   "metadata": {},
   "outputs": [],
   "source": []
  },
  {
   "cell_type": "code",
   "execution_count": null,
   "id": "61dae374",
   "metadata": {},
   "outputs": [],
   "source": []
  },
  {
   "cell_type": "code",
   "execution_count": null,
   "id": "589597f8",
   "metadata": {},
   "outputs": [],
   "source": [
    "# 영문명 분리\n",
    "input_test['영문약어명'] = input_test['영문약어명'].str.replace(\" \", \"\")\n",
    "input_split_eng = pd.DataFrame(input_test['영문약어명'].str.split('_').tolist())\n",
    "name_list = []\n",
    "for i in range(len(input_split_eng.columns)):\n",
    "    name_list.append(\"stwd_eng{}\".format(i))\n",
    "print(name_list)\n",
    "# 컬럼명 만들기\n",
    "input_split_eng = pd.DataFrame(input_test['영문약어명'].str.split('_').tolist(), columns = name_list)\n",
    "print(input_split_eng.shape)\n",
    "input_split_eng.head(5)"
   ]
  },
  {
   "cell_type": "code",
   "execution_count": null,
   "id": "59da8e01",
   "metadata": {},
   "outputs": [],
   "source": [
    "# df_index 한줄 세우기\n",
    "df_index_eng = pd.DataFrame()\n",
    "for i in range(len(input_split_eng.columns)):\n",
    "    df_index_eng = pd.concat([df_index_eng, pd.DataFrame(input_test['No'])])\n",
    "df_index_eng.columns = ['index']\n",
    "df_index_eng"
   ]
  },
  {
   "cell_type": "code",
   "execution_count": null,
   "id": "cb612222",
   "metadata": {},
   "outputs": [],
   "source": [
    "# df_stwd_eng 힌즐 세우기\n",
    "df_stwd_eng = pd.DataFrame()\n",
    "for i in range(len(input_split_eng.columns)):\n",
    "    globals()[\"df_stwd_eng{}\".format(i)] = input_split_eng[\"stwd_eng{}\".format(i)]\n",
    "    df_stwd_eng = pd.concat([df_stwd_eng, globals()[\"df_stwd_eng{}\".format(i)]])\n",
    "df_stwd_eng.columns = ['stwd_eng']\n",
    "df_stwd_eng"
   ]
  },
  {
   "cell_type": "code",
   "execution_count": null,
   "id": "7a996ef4",
   "metadata": {},
   "outputs": [],
   "source": [
    "# df_chk_eng\n",
    "df_chk_eng = pd.concat([df_stwd_eng, df_index_eng], axis=1).reset_index() # 인덱스 초기화\n",
    "df_chk_eng = df_chk_eng[['stwd_eng', 'index']]\n",
    "print(df_chk_eng.shape)\n",
    "df_chk_eng.tail(5)"
   ]
  },
  {
   "cell_type": "code",
   "execution_count": null,
   "id": "00275015",
   "metadata": {},
   "outputs": [],
   "source": [
    "### 영문 단어 분리"
   ]
  },
  {
   "cell_type": "code",
   "execution_count": null,
   "id": "27250157",
   "metadata": {},
   "outputs": [],
   "source": []
  },
  {
   "cell_type": "code",
   "execution_count": null,
   "id": "f367521d",
   "metadata": {},
   "outputs": [],
   "source": []
  },
  {
   "cell_type": "code",
   "execution_count": null,
   "id": "bb81321d",
   "metadata": {},
   "outputs": [],
   "source": []
  },
  {
   "cell_type": "code",
   "execution_count": null,
   "id": "2dbf3a55",
   "metadata": {},
   "outputs": [],
   "source": [
    "df_chk.merge(df_chk_eng, on='index' "
   ]
  },
  {
   "cell_type": "code",
   "execution_count": null,
   "id": "fb17a24b",
   "metadata": {},
   "outputs": [],
   "source": []
  },
  {
   "cell_type": "code",
   "execution_count": null,
   "id": "35f06fbd",
   "metadata": {},
   "outputs": [],
   "source": []
  },
  {
   "cell_type": "code",
   "execution_count": null,
   "id": "0d8202f3",
   "metadata": {},
   "outputs": [],
   "source": []
  },
  {
   "cell_type": "code",
   "execution_count": null,
   "id": "442f5b96",
   "metadata": {},
   "outputs": [],
   "source": []
  },
  {
   "cell_type": "code",
   "execution_count": null,
   "id": "112b25c9",
   "metadata": {},
   "outputs": [],
   "source": []
  },
  {
   "cell_type": "code",
   "execution_count": null,
   "id": "43ad27ae",
   "metadata": {},
   "outputs": [],
   "source": []
  },
  {
   "cell_type": "code",
   "execution_count": null,
   "id": "bfe10db6",
   "metadata": {},
   "outputs": [],
   "source": []
  },
  {
   "cell_type": "code",
   "execution_count": null,
   "id": "d057f85e",
   "metadata": {},
   "outputs": [],
   "source": [
    "# df_chk_uni\n",
    "df_chk_uni = df_chk[df_chk['stwd'].duplicated()==False].reset_index()\n",
    "df_chk_uni = df_chk_uni[['stwd', 'index']]\n",
    "df_chk_uni.tail(5)"
   ]
  },
  {
   "cell_type": "code",
   "execution_count": null,
   "id": "1bfd600d",
   "metadata": {},
   "outputs": [],
   "source": [
    "# unique 단어 개수 세기\n",
    "dupl_list = []\n",
    "dupl_cnt = []\n",
    "for i in range(len(df_chk_uni[\"stwd\"])):\n",
    "    dupl_cnt = df_chk_uni[\"stwd\"].to_list().count(df_chk_uni[\"stwd\"][i])\n",
    "    dupl_list.append(dupl_cnt)\n",
    "\n",
    "len(dupl_list)"
   ]
  },
  {
   "cell_type": "code",
   "execution_count": null,
   "id": "58b3cc80",
   "metadata": {},
   "outputs": [],
   "source": [
    "# 횟수 병합\n",
    "df_chk_uni = pd.concat([df_chk_uni, pd.DataFrame(dupl_list)], axis = 1)\n",
    "df_chk_uni.columns = ['stwd', 'index', 'dupl_cnt']\n",
    "print(df_chk_uni[df_chk_uni['dupl_cnt'] != 1])\n",
    "print(df_chk_uni[df_chk_uni['dupl_cnt'] == None])\n",
    "df_chk_uni.tail(5)"
   ]
  },
  {
   "cell_type": "code",
   "execution_count": null,
   "id": "68bf6f24",
   "metadata": {
    "scrolled": true
   },
   "outputs": [],
   "source": [
    "# 점검 , 변환\n",
    "# ab['dupl_cnt'].info()\n",
    "# ab['dupl_cnt'].astype(int)"
   ]
  },
  {
   "cell_type": "code",
   "execution_count": null,
   "id": "104679e9",
   "metadata": {},
   "outputs": [],
   "source": []
  },
  {
   "cell_type": "code",
   "execution_count": null,
   "id": "e2316492",
   "metadata": {},
   "outputs": [],
   "source": [
    "# df_chk_uni\n",
    "df_chk_dupl = df_chk[df_chk['stwd'].duplicated()].reset_index()\n",
    "df_chk_dupl = df_chk_dupl[['stwd', 'index']]\n",
    "df_chk_dupl.tail(5)"
   ]
  },
  {
   "cell_type": "code",
   "execution_count": null,
   "id": "6be2730f",
   "metadata": {},
   "outputs": [],
   "source": [
    "# dupl 단어 개수 세기\n",
    "dupl_list = []\n",
    "dupl_cnt = []\n",
    "for i in range(len(df_chk_dupl[\"stwd\"])):\n",
    "    dupl_cnt = df_chk_dupl[\"stwd\"].to_list().count(df_chk_dupl[\"stwd\"][i])\n",
    "    dupl_list.append(dupl_cnt)\n",
    "\n",
    "len(dupl_list)"
   ]
  },
  {
   "cell_type": "code",
   "execution_count": null,
   "id": "12f0510a",
   "metadata": {},
   "outputs": [],
   "source": [
    "# 횟수 병합\n",
    "df_chk_dupl = pd.concat([df_chk_dupl, pd.DataFrame(dupl_list)], axis = 1)\n",
    "df_chk_dupl.columns = ['stwd', 'index', 'dupl_cnt']\n",
    "print(df_chk_dupl[df_chk_dupl['dupl_cnt'] == 1])\n",
    "print(df_chk_dupl[df_chk_dupl['dupl_cnt'] == None])\n",
    "df_chk_dupl.tail(5)"
   ]
  },
  {
   "cell_type": "code",
   "execution_count": null,
   "id": "d0e3ca3a",
   "metadata": {},
   "outputs": [],
   "source": [
    "df_chk_dupl[df_chk_dupl['stwd'] == '매수']"
   ]
  },
  {
   "cell_type": "code",
   "execution_count": null,
   "id": "2610e35d",
   "metadata": {},
   "outputs": [],
   "source": [
    "cc = df_chk_dupl.merge(input_test, left_on = 'index', right_on = 'No', how='left')\n",
    "cc = cc[cc['stwd'].duplicated()==False]\n",
    "print(cc.shape)\n",
    "cc.head(3)"
   ]
  },
  {
   "cell_type": "code",
   "execution_count": null,
   "id": "7fc9f1b7",
   "metadata": {},
   "outputs": [],
   "source": [
    "df_chk_dupl.to_excel(input_path+\"dsfadas.xlsx\")"
   ]
  },
  {
   "cell_type": "code",
   "execution_count": null,
   "id": "6b8822d2",
   "metadata": {},
   "outputs": [],
   "source": [
    "cc = df_chk_dupl['stwd'].drop_duplicates()\n",
    "(cc.shape)\n",
    "cc"
   ]
  },
  {
   "cell_type": "code",
   "execution_count": null,
   "id": "8d33dac8",
   "metadata": {},
   "outputs": [],
   "source": [
    "cc.to_excel(input_path+\"cccccccccccc.xlsx\")"
   ]
  },
  {
   "cell_type": "code",
   "execution_count": null,
   "id": "47970b0d",
   "metadata": {},
   "outputs": [],
   "source": []
  },
  {
   "cell_type": "code",
   "execution_count": null,
   "id": "9f430c0a",
   "metadata": {},
   "outputs": [],
   "source": [
    "df_chk_dupl['stwd'].drop_duplicates()"
   ]
  },
  {
   "cell_type": "code",
   "execution_count": null,
   "id": "c0950dbd",
   "metadata": {},
   "outputs": [],
   "source": [
    "ccc = df_chk_dupl.merge(input_test, left_on = 'index', right_on = 'No', how='left')\n",
    "ccc = ccc[ccc['stwd'].duplicated()]\n",
    "print(ccc.shape)\n",
    "ccc.head(3)"
   ]
  },
  {
   "cell_type": "code",
   "execution_count": null,
   "id": "4769f8c0",
   "metadata": {},
   "outputs": [],
   "source": [
    "ccc.to_excel(input_path+\"cccccccccc3cc.xlsx\")"
   ]
  },
  {
   "cell_type": "code",
   "execution_count": null,
   "id": "7cd44379",
   "metadata": {},
   "outputs": [],
   "source": []
  },
  {
   "cell_type": "code",
   "execution_count": null,
   "id": "182bdc3c",
   "metadata": {},
   "outputs": [],
   "source": []
  },
  {
   "cell_type": "code",
   "execution_count": null,
   "id": "6cbf0ed4",
   "metadata": {},
   "outputs": [],
   "source": []
  },
  {
   "cell_type": "code",
   "execution_count": null,
   "id": "463df8f6",
   "metadata": {},
   "outputs": [],
   "source": [
    "a[a['stwd'].duplicated()]"
   ]
  },
  {
   "cell_type": "code",
   "execution_count": null,
   "id": "49f20dfa",
   "metadata": {},
   "outputs": [],
   "source": [
    "a[pd.DataFrame(a['stwd']).duplicated(keep='first')]"
   ]
  },
  {
   "cell_type": "code",
   "execution_count": null,
   "id": "6781b448",
   "metadata": {},
   "outputs": [],
   "source": [
    "a['stwd'].drop_duplicates()"
   ]
  },
  {
   "cell_type": "code",
   "execution_count": null,
   "id": "b98f0aaf",
   "metadata": {},
   "outputs": [],
   "source": []
  },
  {
   "cell_type": "code",
   "execution_count": null,
   "id": "0c1a9c28",
   "metadata": {},
   "outputs": [],
   "source": []
  },
  {
   "cell_type": "code",
   "execution_count": null,
   "id": "b421f8ef",
   "metadata": {},
   "outputs": [],
   "source": [
    "a = pd.concat([df_stwd, df_dupl, df_index], axis=1)\n",
    "a"
   ]
  },
  {
   "cell_type": "code",
   "execution_count": null,
   "id": "925b5771",
   "metadata": {},
   "outputs": [],
   "source": [
    "tOK = a.loc[a['dupl'] == 1]\n",
    "# tOK['stwd'].dropna()\n",
    "tOK[tOK['stwd'] == '검토']\n",
    "tOK\n",
    "tNO = a.loc[a['dupl'] > 1]\n",
    "# tNO['stwd'].dropna()\n",
    "tNO[tNO['stwd'] == '검토']\n",
    "tNO"
   ]
  },
  {
   "cell_type": "code",
   "execution_count": null,
   "id": "efb71ae7",
   "metadata": {},
   "outputs": [],
   "source": [
    "tOK['stwd'].drop_duplicates()"
   ]
  },
  {
   "cell_type": "code",
   "execution_count": null,
   "id": "8a33762e",
   "metadata": {},
   "outputs": [],
   "source": [
    "print(368 + 412)\n",
    "tNO['stwd'].drop_duplicates()"
   ]
  },
  {
   "cell_type": "code",
   "execution_count": null,
   "id": "fd65362b",
   "metadata": {
    "scrolled": true
   },
   "outputs": [],
   "source": [
    "a['stwd'].drop_duplicates()"
   ]
  },
  {
   "cell_type": "code",
   "execution_count": null,
   "id": "fb84ff62",
   "metadata": {},
   "outputs": [],
   "source": [
    "t2['stwd'].drop_duplicates()"
   ]
  },
  {
   "cell_type": "code",
   "execution_count": null,
   "id": "88797ea0",
   "metadata": {},
   "outputs": [],
   "source": [
    "a.to_excel(input_path+\"\\\\dfdf.xlsx\")"
   ]
  },
  {
   "cell_type": "code",
   "execution_count": null,
   "id": "8ee6d1e0",
   "metadata": {},
   "outputs": [],
   "source": [
    "tOK.to_excel(input_path+\"\\\\dfdfOK.xlsx\")"
   ]
  },
  {
   "cell_type": "code",
   "execution_count": null,
   "id": "0db879e0",
   "metadata": {},
   "outputs": [],
   "source": [
    "tNO.to_excel(input_path+\"\\\\dfdfNO.xlsx\")"
   ]
  },
  {
   "cell_type": "code",
   "execution_count": null,
   "id": "af332237",
   "metadata": {},
   "outputs": [],
   "source": [
    "tNO['stwd'].drop_duplicates().to_excel(input_path+\"\\\\dfdfNO_DUP.xlsx\")"
   ]
  },
  {
   "cell_type": "code",
   "execution_count": null,
   "id": "40e35b42",
   "metadata": {},
   "outputs": [],
   "source": []
  },
  {
   "cell_type": "code",
   "execution_count": null,
   "id": "4aa30759",
   "metadata": {},
   "outputs": [],
   "source": [
    "t2['stwd'].drop_duplicates().tail(30)"
   ]
  },
  {
   "cell_type": "code",
   "execution_count": null,
   "id": "5faf30e0",
   "metadata": {},
   "outputs": [],
   "source": [
    "# t2 = a[a['stwd'].duplicated(keep='first')]\n",
    "t2 = a[a['stwd'].duplicated(False)]\n",
    "t2[t2['stwd'] == '검토']\n",
    "# t2['stwd'].dropna()\n",
    "t2"
   ]
  },
  {
   "cell_type": "code",
   "execution_count": null,
   "id": "1a630736",
   "metadata": {},
   "outputs": [],
   "source": [
    "t2.drop_"
   ]
  },
  {
   "cell_type": "code",
   "execution_count": null,
   "id": "4c52244a",
   "metadata": {},
   "outputs": [],
   "source": [
    "a[a['stwd'] == '검토']"
   ]
  },
  {
   "cell_type": "code",
   "execution_count": null,
   "id": "dcea8c74",
   "metadata": {},
   "outputs": [],
   "source": [
    "a.head(20)"
   ]
  },
  {
   "cell_type": "code",
   "execution_count": null,
   "id": "66b021a3",
   "metadata": {},
   "outputs": [],
   "source": [
    "a['stwd'].duplicated(keep='first').head(20)\n",
    "# t#['stwd'].dropna()\n",
    "# t3[t3['stwd'] == '검토']"
   ]
  },
  {
   "cell_type": "code",
   "execution_count": null,
   "id": "2577c1d3",
   "metadata": {},
   "outputs": [],
   "source": []
  },
  {
   "cell_type": "code",
   "execution_count": null,
   "id": "0c00ceba",
   "metadata": {},
   "outputs": [],
   "source": []
  },
  {
   "cell_type": "code",
   "execution_count": null,
   "id": "94aec878",
   "metadata": {},
   "outputs": [],
   "source": [
    "# # concat 을 위한 DataFame 묶기 (o 시리즈여야 한곳에 정렬됨! 데이터 프레임 안됨)\n",
    "# for i in range(len(input_split.columns)):\n",
    "#     globals()[\"df_stwd{}\".format(i)] = [\"duple_list{}\".format(i)]\n",
    "# df_stwd0"
   ]
  },
  {
   "cell_type": "code",
   "execution_count": null,
   "id": "35deaae8",
   "metadata": {},
   "outputs": [],
   "source": [
    "# concat 을 위한 DataFame 묶기 (o 시리즈여야 한곳에 정렬됨! 데이터 프레임 안됨)\n",
    "for i in range(len(input_split.columns)):\n",
    "    globals()[\"df_stwd{}\".format(i)] = input_split[\"stwd{}\".format(i)]\n",
    "df_stwd0"
   ]
  },
  {
   "cell_type": "code",
   "execution_count": null,
   "id": "d2ff198e",
   "metadata": {},
   "outputs": [],
   "source": [
    "# df_index 묶기\n",
    "for i in range(len(input_split.columns)):\n",
    "    globals()[\"df_index{}\".format(i)] = input_split[\"stwd{}\".format(i)]\n",
    "df_stwd0"
   ]
  },
  {
   "cell_type": "code",
   "execution_count": null,
   "id": "fe0068b1",
   "metadata": {},
   "outputs": [],
   "source": []
  },
  {
   "cell_type": "code",
   "execution_count": null,
   "id": "72996384",
   "metadata": {},
   "outputs": [],
   "source": [
    "df_stwd = pd.concat([df_stwd, df_index], axis=1)\n",
    "df_stwd"
   ]
  },
  {
   "cell_type": "code",
   "execution_count": null,
   "id": "608049fe",
   "metadata": {},
   "outputs": [],
   "source": []
  },
  {
   "cell_type": "code",
   "execution_count": null,
   "id": "d3b553a3",
   "metadata": {},
   "outputs": [],
   "source": [
    "pd.concat([input_split, pd.DataFrame(input_test['No'])], axis=1)\n"
   ]
  },
  {
   "cell_type": "code",
   "execution_count": null,
   "id": "0f51a99e",
   "metadata": {},
   "outputs": [],
   "source": []
  },
  {
   "cell_type": "code",
   "execution_count": null,
   "id": "3be3e509",
   "metadata": {},
   "outputs": [],
   "source": []
  },
  {
   "cell_type": "code",
   "execution_count": null,
   "id": "7770e4aa",
   "metadata": {},
   "outputs": [],
   "source": []
  },
  {
   "cell_type": "code",
   "execution_count": null,
   "id": "cc5ed91a",
   "metadata": {},
   "outputs": [],
   "source": []
  },
  {
   "cell_type": "code",
   "execution_count": null,
   "id": "496c2118",
   "metadata": {},
   "outputs": [],
   "source": []
  },
  {
   "cell_type": "code",
   "execution_count": null,
   "id": "7849bf0e",
   "metadata": {},
   "outputs": [],
   "source": []
  },
  {
   "cell_type": "code",
   "execution_count": null,
   "id": "cc5507cf",
   "metadata": {},
   "outputs": [],
   "source": [
    "# df_stwd.tail(500)"
   ]
  },
  {
   "cell_type": "code",
   "execution_count": null,
   "id": "9ae8a0c3",
   "metadata": {},
   "outputs": [],
   "source": [
    "list = []\n",
    "for i in range(len(input_split.columns)):\n",
    "    df = pd.concat([globals()[\"df_stwd{}\".format(i)]])\n",
    "df"
   ]
  },
  {
   "cell_type": "code",
   "execution_count": null,
   "id": "cc8b5781",
   "metadata": {},
   "outputs": [],
   "source": [
    "df = pd.DataFrame()\n",
    "for i in range(len(input_split.columns)):\n",
    "    df = pd.concat([df, globals()[\"df_stwd_df{}\".format(i)]])\n",
    "df "
   ]
  },
  {
   "cell_type": "code",
   "execution_count": null,
   "id": "97e0543c",
   "metadata": {
    "scrolled": true
   },
   "outputs": [],
   "source": [
    "df"
   ]
  },
  {
   "cell_type": "code",
   "execution_count": null,
   "id": "fc30f450",
   "metadata": {},
   "outputs": [],
   "source": []
  },
  {
   "cell_type": "code",
   "execution_count": null,
   "id": "2460ead1",
   "metadata": {},
   "outputs": [],
   "source": [
    "df_dupl_cnt = pd.DataFrame()\n",
    "for in in range(len(input_split.coulmns):\n",
    "    df_dupl_cnt = pd.concat([df, globals()[\"df{}\".format(i)]])"
   ]
  },
  {
   "cell_type": "code",
   "execution_count": null,
   "id": "91576c41",
   "metadata": {},
   "outputs": [],
   "source": [
    "dupl_list0"
   ]
  },
  {
   "cell_type": "code",
   "execution_count": null,
   "id": "b9f63933",
   "metadata": {},
   "outputs": [],
   "source": [
    "# 컬럼 재정렬\n",
    "list = []\n",
    "for i in range(len(input_split.columns)):\n",
    "    input_split.loc[:,\"dupl_cnt{}\".format(i)] = globals()[\"dupl_list{}\".format(i)]\n",
    "    list.append(\"stwd{}\".format(i))\n",
    "    list.append(\"dupl_cnt{}\".format(i))\n",
    "input_split = input_split[list]\n",
    "input_split"
   ]
  },
  {
   "cell_type": "code",
   "execution_count": null,
   "id": "b52efc91",
   "metadata": {},
   "outputs": [],
   "source": []
  },
  {
   "cell_type": "code",
   "execution_count": null,
   "id": "e819fc8a",
   "metadata": {},
   "outputs": [],
   "source": [
    "df_stwd = pd.DataFrame()\n",
    "for i in range(len(input_split.columns)):\n",
    "    df_stwd = pd.concat([df, globals()[\"df{}\".format(i)]])\n",
    "df_stwd "
   ]
  },
  {
   "cell_type": "code",
   "execution_count": null,
   "id": "7e6fd991",
   "metadata": {},
   "outputs": [],
   "source": [
    "pd.DataFrame"
   ]
  },
  {
   "cell_type": "code",
   "execution_count": null,
   "id": "4b98a9bb",
   "metadata": {},
   "outputs": [],
   "source": [
    "type(input_split[\"stwd{}\".format(0)])"
   ]
  },
  {
   "cell_type": "code",
   "execution_count": null,
   "id": "e4822690",
   "metadata": {},
   "outputs": [],
   "source": [
    "a = pd.Series\n",
    "a"
   ]
  },
  {
   "cell_type": "code",
   "execution_count": null,
   "id": "bfe543e3",
   "metadata": {},
   "outputs": [],
   "source": [
    "a"
   ]
  },
  {
   "cell_type": "code",
   "execution_count": null,
   "id": "dd06d499",
   "metadata": {},
   "outputs": [],
   "source": [
    "for i in range(len(input_split.columns)):\n",
    "    globals()[\"df{}\".format(i)] = input_split[\"stwd{}\".format(i)]\n",
    "    list.append('df{}'.format(i))\n",
    "list"
   ]
  },
  {
   "cell_type": "code",
   "execution_count": null,
   "id": "fab9735f",
   "metadata": {},
   "outputs": [],
   "source": [
    "df = pd.DataFrame()\n",
    "for i in range(len(input_split.columns)):\n",
    "    globals()[\"df{}\".format(i)] = pd.DataFrame(input_split[\"stwd{}\".format(i)])\n",
    "#     list.append('df{}'.format(i))\n",
    "# list"
   ]
  },
  {
   "cell_type": "code",
   "execution_count": null,
   "id": "88fa8370",
   "metadata": {},
   "outputs": [],
   "source": [
    "list = []\n",
    "for i in range(len(input_split.columns)):\n",
    "    list.append(\"df{}\".format(i))\n",
    "list"
   ]
  },
  {
   "cell_type": "code",
   "execution_count": null,
   "id": "e175bb1c",
   "metadata": {},
   "outputs": [],
   "source": [
    "df = pd.DataFrame()\n",
    "for i in range(len(input_split.columns)):\n",
    "    df = pd.concat([df, globals()[\"df{}\".format(i)]])\n",
    "df"
   ]
  },
  {
   "cell_type": "code",
   "execution_count": null,
   "id": "83500be6",
   "metadata": {},
   "outputs": [],
   "source": [
    "concat([df0, df0,df0,df0,df0,df0,df0,df0,])"
   ]
  },
  {
   "cell_type": "code",
   "execution_count": null,
   "id": "8a313874",
   "metadata": {},
   "outputs": [],
   "source": [
    "list = \",\".join(list)\n",
    "list\n",
    "list[5]"
   ]
  },
  {
   "cell_type": "code",
   "execution_count": null,
   "id": "773bf279",
   "metadata": {},
   "outputs": [],
   "source": [
    "\",\".join(list[0])"
   ]
  },
  {
   "cell_type": "code",
   "execution_count": null,
   "id": "8dc0ed4e",
   "metadata": {},
   "outputs": [],
   "source": [
    "df = pd.DataFrame()\n",
    "for i in range(len(input_split.columns)):\n",
    "    ccc = pd.concat(df, \",\".join(list[i]))\n",
    "df = pd.DataFrame()\n",
    "df = pd.concat([df, df0])"
   ]
  },
  {
   "cell_type": "code",
   "execution_count": null,
   "id": "80600070",
   "metadata": {},
   "outputs": [],
   "source": [
    "df = pd.DataFrame()\n",
    "df = pd.concat([df, df0])"
   ]
  },
  {
   "cell_type": "code",
   "execution_count": null,
   "id": "55f6a376",
   "metadata": {},
   "outputs": [],
   "source": [
    "\",\".join(list)"
   ]
  },
  {
   "cell_type": "code",
   "execution_count": null,
   "id": "b97fa6f4",
   "metadata": {},
   "outputs": [],
   "source": [
    "list = \",\".join(list)\n",
    "list"
   ]
  },
  {
   "cell_type": "code",
   "execution_count": null,
   "id": "a80b6aba",
   "metadata": {
    "scrolled": true
   },
   "outputs": [],
   "source": [
    "list"
   ]
  },
  {
   "cell_type": "code",
   "execution_count": null,
   "id": "6589265f",
   "metadata": {},
   "outputs": [],
   "source": [
    "df0"
   ]
  },
  {
   "cell_type": "code",
   "execution_count": null,
   "id": "d8e8345b",
   "metadata": {},
   "outputs": [],
   "source": [
    "list = [df0, df1, df2, df3, df4, df5]\n",
    "pd.concat(list)"
   ]
  },
  {
   "cell_type": "code",
   "execution_count": null,
   "id": "647ed26f",
   "metadata": {},
   "outputs": [],
   "source": [
    "pd.concat([df0, df1, df2, df3, df4, df5])\n"
   ]
  },
  {
   "cell_type": "code",
   "execution_count": null,
   "id": "837dc04f",
   "metadata": {},
   "outputs": [],
   "source": [
    "input_split"
   ]
  },
  {
   "cell_type": "code",
   "execution_count": null,
   "id": "03d58a40",
   "metadata": {},
   "outputs": [],
   "source": [
    "stwd_list"
   ]
  },
  {
   "cell_type": "code",
   "execution_count": null,
   "id": "3668e4bc",
   "metadata": {},
   "outputs": [],
   "source": [
    "stwd_list = input_split.columns.to_list()\n",
    "for i in range(len(input_split.columns)):\n",
    "    duplicated = pd.concat(stwd_list, ignore_index=True)"
   ]
  },
  {
   "cell_type": "code",
   "execution_count": null,
   "id": "4cb50448",
   "metadata": {},
   "outputs": [],
   "source": [
    "stwd_list = input_split.columns.to_list()\n",
    "pd.concat(pd.DataFrame(input_split[stwd_list]), ignore_index = True)"
   ]
  },
  {
   "cell_type": "code",
   "execution_count": null,
   "id": "a2e93dc0",
   "metadata": {},
   "outputs": [],
   "source": [
    "list = []\n",
    "for i in range(len(input_split.columns)):\n",
    "    globals()[\"df{}\".format(i)] = input_split[\"stwd{}\".format(i)]\n",
    "    list.append(globals()[\"df{}\".format(i)])"
   ]
  },
  {
   "cell_type": "code",
   "execution_count": null,
   "id": "ff7df825",
   "metadata": {},
   "outputs": [],
   "source": []
  },
  {
   "cell_type": "code",
   "execution_count": null,
   "id": "5d6782eb",
   "metadata": {},
   "outputs": [],
   "source": [
    "pd.DataFrame(list)"
   ]
  },
  {
   "cell_type": "code",
   "execution_count": null,
   "id": "5547a2ca",
   "metadata": {},
   "outputs": [],
   "source": [
    "pd.DataFrame(input_split[\"stwd1\"])"
   ]
  },
  {
   "cell_type": "code",
   "execution_count": null,
   "id": "3e3fff99",
   "metadata": {},
   "outputs": [],
   "source": [
    "input_split[\"stwd0\"]"
   ]
  },
  {
   "cell_type": "code",
   "execution_count": null,
   "id": "07c55841",
   "metadata": {},
   "outputs": [],
   "source": []
  },
  {
   "cell_type": "code",
   "execution_count": null,
   "id": "442fdcbd",
   "metadata": {
    "scrolled": true
   },
   "outputs": [],
   "source": [
    "pd.concat(pd.DataFrame(input_split[\"stwd0\"]), pd.DataFrame(input_split[\"stwd1\"]))"
   ]
  },
  {
   "cell_type": "code",
   "execution_count": null,
   "id": "31a45f1b",
   "metadata": {},
   "outputs": [],
   "source": [
    "df0\n",
    "list"
   ]
  },
  {
   "cell_type": "code",
   "execution_count": null,
   "id": "ea662360",
   "metadata": {
    "scrolled": true
   },
   "outputs": [],
   "source": [
    "globals(\"df0\")"
   ]
  },
  {
   "cell_type": "code",
   "execution_count": null,
   "id": "024c2607",
   "metadata": {},
   "outputs": [],
   "source": [
    "pd.concat([df0, df1])"
   ]
  },
  {
   "cell_type": "code",
   "execution_count": null,
   "id": "3920e10d",
   "metadata": {},
   "outputs": [],
   "source": [
    "pd.concat([df0, df1])"
   ]
  },
  {
   "cell_type": "code",
   "execution_count": null,
   "id": "cb948f72",
   "metadata": {},
   "outputs": [],
   "source": [
    "for i in range(len(input_split.columns)):\n",
    "#     pd.concat(globllist[i])\n",
    "    print(list[i])"
   ]
  },
  {
   "cell_type": "code",
   "execution_count": null,
   "id": "9bab55d2",
   "metadata": {},
   "outputs": [],
   "source": [
    "for i in range(len(input_split.columns)):\n",
    "#     pd.concat([\"df{}\".format(i)])\n",
    "#     pd.concat(\"df{}\".format(i))\n",
    "    pd.concat(list)  \n",
    "#     print(\"df{}\".format(i))"
   ]
  },
  {
   "cell_type": "code",
   "execution_count": null,
   "id": "45d56fb6",
   "metadata": {},
   "outputs": [],
   "source": [
    "for i in range(len(input_split.columns)):\n",
    "    print(\"df{}\".format(i))"
   ]
  },
  {
   "cell_type": "code",
   "execution_count": null,
   "id": "e2c9fe61",
   "metadata": {},
   "outputs": [],
   "source": [
    "for i in range(len(input_split.columns)):\n",
    "    globals()[\"df{}\".format(i)] = pd.DataFrame(globals()[\"df{}\".format(i)])"
   ]
  },
  {
   "cell_type": "code",
   "execution_count": null,
   "id": "26489d3d",
   "metadata": {},
   "outputs": [],
   "source": [
    "list = []\n",
    "for i in range(len(input_split.columns)):\n",
    "    list.append(\"df{}\".format(i))"
   ]
  },
  {
   "cell_type": "code",
   "execution_count": null,
   "id": "3ac64a12",
   "metadata": {},
   "outputs": [],
   "source": [
    "df1"
   ]
  },
  {
   "cell_type": "code",
   "execution_count": null,
   "id": "c9a0ada8",
   "metadata": {},
   "outputs": [],
   "source": [
    "pd.concat(list, axis=1 )\n",
    "#           ignore_index=True)"
   ]
  },
  {
   "cell_type": "code",
   "execution_count": null,
   "id": "3adfa816",
   "metadata": {},
   "outputs": [],
   "source": [
    "for i in range(len(input_split.columns)):\n",
    "    pd.concat(globals()[\"df{}\".format(i)])"
   ]
  },
  {
   "cell_type": "code",
   "execution_count": null,
   "id": "a0d0f63c",
   "metadata": {},
   "outputs": [],
   "source": [
    "pd.concat([df0, df1])"
   ]
  },
  {
   "cell_type": "code",
   "execution_count": null,
   "id": "ac16efac",
   "metadata": {},
   "outputs": [],
   "source": [
    "stwd_list = input_split.columns.to_list()\n",
    "for i in range(len(input_split.columns)):\n",
    "    pd.concat(pd.DataFrame(input_split[\"stwd{}\".format(i)]))\n",
    "list"
   ]
  },
  {
   "cell_type": "code",
   "execution_count": null,
   "id": "bea32136",
   "metadata": {},
   "outputs": [],
   "source": [
    "input_split[\"stwd0\"]"
   ]
  },
  {
   "cell_type": "code",
   "execution_count": null,
   "id": "6cc7866b",
   "metadata": {},
   "outputs": [],
   "source": [
    "pd.DataFrame(input_split[\"stwd{}\".format(0)])"
   ]
  },
  {
   "cell_type": "code",
   "execution_count": null,
   "id": "923ccb0b",
   "metadata": {},
   "outputs": [],
   "source": [
    "cc = pd.DataFrame(input_split[\"stwd{}\".format(i)])"
   ]
  },
  {
   "cell_type": "code",
   "execution_count": null,
   "id": "916b5cf0",
   "metadata": {},
   "outputs": [],
   "source": []
  },
  {
   "cell_type": "code",
   "execution_count": null,
   "id": "c8ead777",
   "metadata": {
    "scrolled": true
   },
   "outputs": [],
   "source": [
    "aa = pd.DataFrame\n",
    "for i in range(len(input_split.columns)):\n",
    "    aa = aa.append(cc)\n",
    "aa"
   ]
  },
  {
   "cell_type": "code",
   "execution_count": null,
   "id": "1ea66886",
   "metadata": {},
   "outputs": [],
   "source": [
    "for i in range(len(input_split.columns)):\n",
    "    a = pd.concat([input_split[list[i]]])\n",
    "a"
   ]
  },
  {
   "cell_type": "code",
   "execution_count": null,
   "id": "3113a0d4",
   "metadata": {},
   "outputs": [],
   "source": [
    "a"
   ]
  },
  {
   "cell_type": "code",
   "execution_count": null,
   "id": "eb271906",
   "metadata": {},
   "outputs": [],
   "source": []
  },
  {
   "cell_type": "code",
   "execution_count": null,
   "id": "e6b0d35b",
   "metadata": {},
   "outputs": [],
   "source": [
    "pd.concat(list)"
   ]
  },
  {
   "cell_type": "code",
   "execution_count": null,
   "id": "804c8fa0",
   "metadata": {},
   "outputs": [],
   "source": [
    "for i in range(len(input_split.columns)):\n",
    "    pd.concat([globals[\"input_split{}\".format(i)]])"
   ]
  },
  {
   "cell_type": "code",
   "execution_count": null,
   "id": "7957142c",
   "metadata": {},
   "outputs": [],
   "source": [
    "# 컬럼 재정렬\n",
    "list = []\n",
    "for i in range(len(input_split.columns)):\n",
    "    input_split.loc[:,\"dupl_cnt{}\".format(i)] = globals()[\"dupl_list{}\".format(i)]\n",
    "    list.append(\"stwd{}\".format(i))\n",
    "    list.append(\"dupl_cnt{}\".format(i))\n",
    "input_split = input_split[list]\n",
    "input_split"
   ]
  },
  {
   "cell_type": "code",
   "execution_count": null,
   "id": "c97736db",
   "metadata": {},
   "outputs": [],
   "source": [
    "input_split.columns"
   ]
  },
  {
   "cell_type": "code",
   "execution_count": null,
   "id": "974b5a1a",
   "metadata": {},
   "outputs": [],
   "source": [
    "for i in range(int(len(input_split.columns)/2)):\n",
    "    aaa= pd.concat([\"stwd{}\".format(i)])\n",
    "aaa"
   ]
  },
  {
   "cell_type": "code",
   "execution_count": null,
   "id": "33de7494",
   "metadata": {},
   "outputs": [],
   "source": []
  },
  {
   "cell_type": "code",
   "execution_count": null,
   "id": "2c3ed6bf",
   "metadata": {},
   "outputs": [],
   "source": []
  },
  {
   "cell_type": "code",
   "execution_count": null,
   "id": "f873f008",
   "metadata": {},
   "outputs": [],
   "source": []
  },
  {
   "cell_type": "code",
   "execution_count": null,
   "id": "c9196615",
   "metadata": {},
   "outputs": [],
   "source": []
  },
  {
   "cell_type": "code",
   "execution_count": null,
   "id": "9af0e08d",
   "metadata": {},
   "outputs": [],
   "source": [
    "input_split[0]"
   ]
  },
  {
   "cell_type": "code",
   "execution_count": null,
   "id": "3fadcb82",
   "metadata": {},
   "outputs": [],
   "source": [
    "input_split[0]"
   ]
  },
  {
   "cell_type": "code",
   "execution_count": null,
   "id": "fd5db8a9",
   "metadata": {},
   "outputs": [],
   "source": [
    "input_split[0].count(\"가입\")"
   ]
  },
  {
   "cell_type": "code",
   "execution_count": null,
   "id": "b2b10bc7",
   "metadata": {},
   "outputs": [],
   "source": [
    "dupl_list =[]\n",
    "dupl_list"
   ]
  },
  {
   "cell_type": "code",
   "execution_count": null,
   "id": "d425058f",
   "metadata": {},
   "outputs": [],
   "source": [
    "len(input_split.columns)"
   ]
  },
  {
   "cell_type": "code",
   "execution_count": null,
   "id": "af34102e",
   "metadata": {},
   "outputs": [],
   "source": [
    "input_split[0].to_list().count(input_split[0][11])"
   ]
  },
  {
   "cell_type": "code",
   "execution_count": null,
   "id": "fa5f155e",
   "metadata": {},
   "outputs": [],
   "source": [
    "globals()[\"stwd{}\".format(i)]"
   ]
  },
  {
   "cell_type": "code",
   "execution_count": null,
   "id": "acaa5c9e",
   "metadata": {},
   "outputs": [],
   "source": [
    "for i in range(len(input_split.columns)):\n",
    "    globals()[\"dupl_list{}\".format(i)] = []"
   ]
  },
  {
   "cell_type": "code",
   "execution_count": null,
   "id": "18901ac8",
   "metadata": {},
   "outputs": [],
   "source": [
    "input_split[0].to_list().count(input_split[0][3])"
   ]
  },
  {
   "cell_type": "code",
   "execution_count": null,
   "id": "14614776",
   "metadata": {},
   "outputs": [],
   "source": [
    "# 성공\n",
    "dupl_list = []\n",
    "dupl_cnt = []\n",
    "\n",
    "\n",
    "for i in range(len(input_split.columns)):\n",
    "    globals()[\"dupl_list{}\".format(i)] = []\n",
    "    for j in range(len(input_split[i])):\n",
    "        dupl_cnt = input_split[i].to_list().count(input_split[i][j])\n",
    "        globals()[\"dupl_list{}\".format(i)].append(dupl_cnt)\n",
    "#         print(dupl_cnt)\n",
    "#         print(\"dupl_list{}\".format(i))\n",
    "\n",
    "\n"
   ]
  },
  {
   "cell_type": "code",
   "execution_count": null,
   "id": "5d428c5f",
   "metadata": {},
   "outputs": [],
   "source": [
    "for i in range(len(input_split.columns)):\n",
    "    input_split.loc[:,\"dupl_cnt{}\".format(i)] = globals()[\"dupl_list{}\".format(i)]"
   ]
  },
  {
   "cell_type": "code",
   "execution_count": null,
   "id": "e235a39a",
   "metadata": {},
   "outputs": [],
   "source": [
    "input_split[\"dupl_cnt0\"]"
   ]
  },
  {
   "cell_type": "code",
   "execution_count": null,
   "id": "6f643169",
   "metadata": {
    "scrolled": true
   },
   "outputs": [],
   "source": [
    "# input_split\n",
    "input_split[input_split[\"dupl_cnt0\"] >= 2][[\"dupl_cnt0\",\"dupl_cnt1\",0]]"
   ]
  },
  {
   "cell_type": "code",
   "execution_count": null,
   "id": "47bd4882",
   "metadata": {},
   "outputs": [],
   "source": [
    "input_split.loc[:,\"dupl_cnt1\"] = dupl_list1"
   ]
  },
  {
   "cell_type": "code",
   "execution_count": null,
   "id": "238bedcc",
   "metadata": {},
   "outputs": [],
   "source": [
    "input_split"
   ]
  },
  {
   "cell_type": "code",
   "execution_count": null,
   "id": "2142b75a",
   "metadata": {},
   "outputs": [],
   "source": [
    "for i in range(len(input_split.columns)):\n",
    "    print(globals()[\"dupl_list{}\".format(i)])"
   ]
  },
  {
   "cell_type": "code",
   "execution_count": null,
   "id": "ac6381c5",
   "metadata": {},
   "outputs": [],
   "source": [
    "a= input_split.assign(dd =  dupl_list3)\n",
    "# df.insert(3,\"city\",['Lahore','Dehli','New York'],True)\n",
    "a"
   ]
  },
  {
   "cell_type": "code",
   "execution_count": null,
   "id": "215609cb",
   "metadata": {},
   "outputs": [],
   "source": [
    "input_split.insert(8,\"dd\",dupl_list3,True)\n",
    "input_split"
   ]
  },
  {
   "cell_type": "code",
   "execution_count": null,
   "id": "42490fc8",
   "metadata": {},
   "outputs": [],
   "source": [
    "input_split[2].to_list().count('역')"
   ]
  },
  {
   "cell_type": "code",
   "execution_count": null,
   "id": "4a583c15",
   "metadata": {},
   "outputs": [],
   "source": [
    "input_split[0].to_list()"
   ]
  },
  {
   "cell_type": "code",
   "execution_count": null,
   "id": "48bfa151",
   "metadata": {},
   "outputs": [],
   "source": [
    "dupl_list3"
   ]
  },
  {
   "cell_type": "code",
   "execution_count": null,
   "id": "5487fca9",
   "metadata": {},
   "outputs": [],
   "source": [
    "input_split.insert(8,\"dd\",dupl_list3,True)"
   ]
  },
  {
   "cell_type": "code",
   "execution_count": null,
   "id": "7a4f068b",
   "metadata": {},
   "outputs": [],
   "source": [
    "input_split"
   ]
  },
  {
   "cell_type": "code",
   "execution_count": null,
   "id": "5dec4778",
   "metadata": {},
   "outputs": [],
   "source": [
    "pd.DataFrame(input_split[3].to_list(), dupl_list3)"
   ]
  },
  {
   "cell_type": "code",
   "execution_count": null,
   "id": "915af976",
   "metadata": {},
   "outputs": [],
   "source": [
    "print(len(dupl_list))\n",
    "dupl_list"
   ]
  },
  {
   "cell_type": "code",
   "execution_count": null,
   "id": "7023c5a8",
   "metadata": {},
   "outputs": [],
   "source": [
    "# type(input_split[0])\n",
    "input_split[0].to_list().count('가입')"
   ]
  },
  {
   "cell_type": "code",
   "execution_count": null,
   "id": "40738712",
   "metadata": {},
   "outputs": [],
   "source": [
    "# 성공\n",
    "b = []\n",
    "for i in range(len(input_split[0])):\n",
    "    a = 0\n",
    "    for j in input_split[0]:\n",
    "        b.append(a)\n",
    "        if input_split[0][i] == j:\n",
    "            a += 1\n",
    "            print(input_split[0][i] +\"&&\"+j+\"_중복\")\n",
    "           \n",
    "            print(a)\n"
   ]
  },
  {
   "cell_type": "code",
   "execution_count": null,
   "id": "72c7d908",
   "metadata": {},
   "outputs": [],
   "source": [
    "len(b)"
   ]
  },
  {
   "cell_type": "code",
   "execution_count": null,
   "id": "5d07e83e",
   "metadata": {},
   "outputs": [],
   "source": [
    "# 성공\n",
    "a = 0\n",
    "for i in range(len(input_split[0])):\n",
    "    for j in input_split[0]:\n",
    "        if input_split[0][i] == j:\n",
    "            print(input_split[0][i] +\"&&\"+j+\"_중복\")\n",
    "            a += 1\n",
    "            print(a)\n"
   ]
  },
  {
   "cell_type": "code",
   "execution_count": null,
   "id": "cd277202",
   "metadata": {},
   "outputs": [],
   "source": [
    "# 성공\n",
    "a =0\n",
    "for i in input_split[0]:\n",
    "    for j in input_split[0].unique():#중복 \n",
    "        if i == j:\n",
    "            print(i +\"&&\"+j+\"_중복\")\n",
    "            a += 1\n",
    "            print(a)\n",
    "#         else:\n",
    "#             print(i+j)\n",
    "    \n",
    "    \n",
    "    \n",
    "#     if i == '가입':\n",
    "#         print(i+\"_성공\")\n",
    "#     else:\n",
    "#         print(i)"
   ]
  },
  {
   "cell_type": "code",
   "execution_count": null,
   "id": "144647c7",
   "metadata": {},
   "outputs": [],
   "source": [
    "for i in input_split[0]:\n",
    "    if i == '가입':\n",
    "        print(i+\"_성공\")\n",
    "    else:\n",
    "        print(i)"
   ]
  },
  {
   "cell_type": "code",
   "execution_count": null,
   "id": "1d3cdefa",
   "metadata": {},
   "outputs": [],
   "source": [
    "input_split[0].str == \"가입\""
   ]
  },
  {
   "cell_type": "code",
   "execution_count": null,
   "id": "03fa17ca",
   "metadata": {},
   "outputs": [],
   "source": [
    "for i in a\n",
    "    input_split[0] == i\n",
    "    "
   ]
  },
  {
   "cell_type": "code",
   "execution_count": null,
   "id": "491d8060",
   "metadata": {},
   "outputs": [],
   "source": [
    "input_split[0]"
   ]
  },
  {
   "cell_type": "code",
   "execution_count": null,
   "id": "d6421893",
   "metadata": {},
   "outputs": [],
   "source": [
    "a = input_split[0].unique()\n",
    "a"
   ]
  },
  {
   "cell_type": "code",
   "execution_count": null,
   "id": "5a8d02e6",
   "metadata": {},
   "outputs": [],
   "source": []
  },
  {
   "cell_type": "code",
   "execution_count": null,
   "id": "5749d0f8",
   "metadata": {},
   "outputs": [],
   "source": [
    "len(input_split.columns)"
   ]
  },
  {
   "cell_type": "code",
   "execution_count": null,
   "id": "35a6c0b7",
   "metadata": {},
   "outputs": [],
   "source": [
    "input_processing = pd.concat([input_split, input_test])\n",
    "print(input_processing.columns)\n",
    "input_processing.head(5)"
   ]
  },
  {
   "cell_type": "code",
   "execution_count": null,
   "id": "7709aae1",
   "metadata": {},
   "outputs": [],
   "source": [
    "input_process[\"No\"]"
   ]
  },
  {
   "cell_type": "code",
   "execution_count": null,
   "id": "82cc3883",
   "metadata": {},
   "outputs": [],
   "source": []
  },
  {
   "cell_type": "code",
   "execution_count": null,
   "id": "c52dcbfa",
   "metadata": {},
   "outputs": [],
   "source": []
  },
  {
   "cell_type": "code",
   "execution_count": null,
   "id": "d9e4d4fb",
   "metadata": {},
   "outputs": [],
   "source": []
  },
  {
   "cell_type": "code",
   "execution_count": null,
   "id": "a33dcfa9",
   "metadata": {},
   "outputs": [],
   "source": []
  },
  {
   "cell_type": "code",
   "execution_count": null,
   "id": "2b694275",
   "metadata": {},
   "outputs": [],
   "source": [
    "# stwd1 = input_test['용어명 분리'].str.split(\"_\").map(lambda row : row[10])\n",
    "# # stwd1"
   ]
  },
  {
   "cell_type": "code",
   "execution_count": null,
   "id": "cb8df18a",
   "metadata": {},
   "outputs": [],
   "source": [
    "aa = pd.DataFrame(input_test['용어명 분리'].str.split('_').tolist(), columns = ['a' ,'b', 'c', 'd','a' ,'b', 'c', 'd'])\n",
    "aa"
   ]
  },
  {
   "cell_type": "code",
   "execution_count": null,
   "id": "2a02b3a3",
   "metadata": {},
   "outputs": [],
   "source": [
    "aaa = pd.DataFrame(input_test['용어명 분리'].str.split('_').tolist())\n",
    "aaa"
   ]
  },
  {
   "cell_type": "code",
   "execution_count": null,
   "id": "6132fbfe",
   "metadata": {},
   "outputs": [],
   "source": [
    "aaa[1]"
   ]
  },
  {
   "cell_type": "code",
   "execution_count": null,
   "id": "250c0d08",
   "metadata": {},
   "outputs": [],
   "source": [
    "aaa.columns"
   ]
  },
  {
   "cell_type": "code",
   "execution_count": null,
   "id": "da8bd2eb",
   "metadata": {},
   "outputs": [],
   "source": [
    "aa['a']"
   ]
  },
  {
   "cell_type": "code",
   "execution_count": null,
   "id": "c69b6251",
   "metadata": {},
   "outputs": [],
   "source": [
    "aa.columns"
   ]
  },
  {
   "cell_type": "code",
   "execution_count": null,
   "id": "8524b421",
   "metadata": {},
   "outputs": [],
   "source": [
    "for i in range(len()):\n",
    "    aa = pd.DataFrame(input_test['용어명 분리'].str.split('_').tolist(), columns = globals()[\"stwd{}\".format(i)])\n",
    "    aa"
   ]
  },
  {
   "cell_type": "code",
   "execution_count": null,
   "id": "7ee11a53",
   "metadata": {},
   "outputs": [],
   "source": [
    "\n",
    "try:    \n",
    "    for i in range(10):\n",
    "         globals()[\"stwd{}\".format(i)] = pd.DataFrame({\"stwd{}\".format(i) : []})\n",
    "except:\n",
    "    pass\n",
    "# print(stwd0)\n",
    "\n",
    "    \n",
    "        \n",
    "    \n",
    "# pd.DataFrame({\"stwd0\" : []})\n",
    "        "
   ]
  },
  {
   "cell_type": "code",
   "execution_count": null,
   "id": "eccb697e",
   "metadata": {
    "scrolled": true
   },
   "outputs": [],
   "source": [
    "print(input_test['용어명 분리'].str.split('_', maxsplit=1))"
   ]
  },
  {
   "cell_type": "code",
   "execution_count": null,
   "id": "56363465",
   "metadata": {},
   "outputs": [],
   "source": [
    "# try:\n",
    "for i in range(10):\n",
    "    globals()[\"stwd{}\".format(i)] = input_test['용어명 분리'].str.split('_').map(lambda row : row[i])"
   ]
  },
  {
   "cell_type": "markdown",
   "id": "5d56996b",
   "metadata": {},
   "source": [
    "input_test['용어명 분리'].str.split('_').map(lambda row : row[0])"
   ]
  },
  {
   "cell_type": "code",
   "execution_count": null,
   "id": "6ec59b68",
   "metadata": {},
   "outputs": [],
   "source": [
    "pd.DataFrame(input_test['용어명 분리'].str.split('_'))\n"
   ]
  },
  {
   "cell_type": "code",
   "execution_count": null,
   "id": "628c5c72",
   "metadata": {},
   "outputs": [],
   "source": [
    "input_test['용어명 분리'].str.split('_').tolist() "
   ]
  },
  {
   "cell_type": "code",
   "execution_count": null,
   "id": "3c1ab14d",
   "metadata": {},
   "outputs": [],
   "source": [
    "aa = pd.DataFrame(input_test['용어명 분리'].str.split('_').tolist(), columns = ['a' ,'b', 'c', 'd','a' ,'b', 'c', 'd'])\n",
    "aa"
   ]
  },
  {
   "cell_type": "code",
   "execution_count": null,
   "id": "ea1f87c4",
   "metadata": {},
   "outputs": [],
   "source": [
    "input_test['용어명 분리'].str.split('_').map(lambda x:x[-1])\n"
   ]
  },
  {
   "cell_type": "code",
   "execution_count": null,
   "id": "d712553e",
   "metadata": {},
   "outputs": [],
   "source": [
    "a= pd.DataFrame(input_test['용어명 분리'].str.split('_'))\n",
    "a"
   ]
  },
  {
   "cell_type": "code",
   "execution_count": null,
   "id": "adfe8cf1",
   "metadata": {},
   "outputs": [],
   "source": [
    "a.str.get(0)"
   ]
  },
  {
   "cell_type": "code",
   "execution_count": null,
   "id": "a3a05b96",
   "metadata": {
    "scrolled": true
   },
   "outputs": [],
   "source": [
    "input_test['용어명 분리'].str.split('_')[0][0]\n"
   ]
  },
  {
   "cell_type": "code",
   "execution_count": null,
   "id": "c752a627",
   "metadata": {
    "scrolled": true
   },
   "outputs": [],
   "source": [
    "input_test['용어명 분리'].str.split('_').map(lambda row : row[-1])"
   ]
  },
  {
   "cell_type": "code",
   "execution_count": null,
   "id": "aa0ea214",
   "metadata": {},
   "outputs": [],
   "source": [
    "stwd"
   ]
  },
  {
   "cell_type": "code",
   "execution_count": null,
   "id": "82c145b0",
   "metadata": {},
   "outputs": [],
   "source": [
    "stwd2"
   ]
  },
  {
   "cell_type": "code",
   "execution_count": null,
   "id": "8a75a347",
   "metadata": {},
   "outputs": [],
   "source": [
    "# i = [0, 1, 2, 3, 4, 5, 6, 7, 8, 9]\n",
    "    \n",
    "#     globals()[\"stwd{}\".format(i)] = input_test['용어명 분리'].str.split('_', maxsplit = -1).map(lambda row : row[i])\n",
    "\n",
    "# stwd0\n",
    "# stwd1\n",
    "\n",
    "# stwd0 = input_test['용어명 분리'].str.split(\"_\").map(lambda row : ''.join(row[0]))\n",
    "# stwd1 = input_test['용어명 분리'].str.split(\"_\").map(lambda row : ''.join(row[1]))\n",
    "# stwd2 = input_test['용어명 분리'].str.split(\"_\").map(lambda row : ''.join(row[1]))\n",
    "# stwd3 = input_test['용어명 분리'].str.split(\"_\").map(lambda row : ''.join(row[1]))\n",
    "# stwd4 = input_test['용어명 분리'].str.split(\"_\").map(lambda row : ''.join(row[1]))\n",
    "# stwd5 = input_test['용어명 분리'].str.split(\"_\").map(lambda row : ''.join(row[1]))\n",
    "# stwd6 = input_test['용어명 분리'].str.split(\"_\").map(lambda row : ''.join(row[1]))\n",
    "# stwd7 = input_test['용어명 분리'].str.split(\"_\").map(lambda row : ''.join(row[1]))\n",
    "# stwd8 = input_test['용어명 분리'].str.split(\"_\").map(lambda row : ''.join(row[1]))\n",
    "# stwd9 = input_test['용어명 분리'].str.split(\"_\").map(lambda row : ''.join(row[1]))\n",
    "try:\n",
    "    stwd10 = input_test['용어명 분리'].str.split(\"_\").map(lambda row : ''.join(row[10]))\n",
    "except:\n",
    "    pass\n"
   ]
  },
  {
   "cell_type": "code",
   "execution_count": null,
   "id": "aec584af",
   "metadata": {},
   "outputs": [],
   "source": [
    "# i = [0, 1, 2, 3, 4, 5, 6, 7, 8, 9]\n",
    "num = 10\n",
    "for i in range(10):\n",
    "#     if input_test['용어명 분리'].str.split(\"_\").map(lambda row : row[i]) \n",
    "    \n",
    "    globals()[\"stwd{}\".format(i)] = input_test['용어명 분리'].str.split('_', maxsplit = -1).map(lambda row : row[i])\n",
    "\n",
    "stwd0\n",
    "# stwd1\n",
    "\n",
    "\n",
    "# stwd1 = input_test['용어명 분리'].str.split(\"_\").map(lambda row : ''.join(row[1]))\n",
    "# stwd1 = input_test['용어명 분리'].str.split(\"_\").map(lambda row : ''.join(row[1]))\n",
    "# stwd1 = input_test['용어명 분리'].str.split(\"_\").map(lambda row : ''.join(row[1]))\n",
    "# stwd1 = input_test['용어명 분리'].str.split(\"_\").map(lambda row : ''.join(row[1]))\n",
    "# stwd1 = input_test['용어명 분리'].str.split(\"_\").map(lambda row : ''.join(row[1]))\n",
    "# stwd1 = input_test['용어명 분리'].str.split(\"_\").map(lambda row : ''.join(row[1]))\n",
    "# stwd1 = input_test['용어명 분리'].str.split(\"_\").map(lambda row : ''.join(row[1]))\n",
    "# stwd1 = input_test['용어명 분리'].str.split(\"_\").map(lambda row : ''.join(row[1]))\n",
    "# stwd1 = input_test['용어명 분리'].str.split(\"_\").map(lambda row : ''.join(row[1]))\n",
    "# stwd1 = input_test['용어명 분리'].str.split(\"_\").map(lambda row : ''.join(row[1]))\n"
   ]
  },
  {
   "cell_type": "code",
   "execution_count": null,
   "id": "965d39f7",
   "metadata": {},
   "outputs": [],
   "source": [
    "stwd1"
   ]
  },
  {
   "cell_type": "code",
   "execution_count": null,
   "id": "e860cbc6",
   "metadata": {},
   "outputs": [],
   "source": []
  },
  {
   "cell_type": "code",
   "execution_count": null,
   "id": "8092a1ee",
   "metadata": {},
   "outputs": [],
   "source": []
  },
  {
   "cell_type": "code",
   "execution_count": null,
   "id": "1ecb7757",
   "metadata": {},
   "outputs": [],
   "source": []
  },
  {
   "cell_type": "code",
   "execution_count": null,
   "id": "33475aa8",
   "metadata": {},
   "outputs": [],
   "source": [
    "input_f = os.path.join(os.getcwd(), \"input\")\n",
    "print(input_f)\n",
    "# pd.read_excel(input_f+\"test.xlsx\", sheet_name=\"input_test\", header=0)\n",
    "sheet_name = \"input_test\"\n",
    "pd.read_excel(\"C:/test.xlsx\", sheet_name=sheet_name, header=0)\n",
    "\n",
    "# current_path = os.path.dirname(input_f)\n",
    "# input_f = os.path.join(current_path, \"input\")\n",
    "print()\n",
    "# current_path = os.path.dirname()\n",
    "# print(current_path)\n",
    "print(os.getcwd())"
   ]
  },
  {
   "cell_type": "code",
   "execution_count": null,
   "id": "1a457eec",
   "metadata": {},
   "outputs": [],
   "source": [
    "print(os.getcwd())\n",
    "# print(sys.argv[0])\n",
    "print(os.path.dirname(os.path.realpath('__file__')))"
   ]
  },
  {
   "cell_type": "code",
   "execution_count": null,
   "id": "a78dd668",
   "metadata": {},
   "outputs": [],
   "source": []
  }
 ],
 "metadata": {
  "kernelspec": {
   "display_name": "Python 3 (ipykernel)",
   "language": "python",
   "name": "python3"
  },
  "language_info": {
   "codemirror_mode": {
    "name": "ipython",
    "version": 3
   },
   "file_extension": ".py",
   "mimetype": "text/x-python",
   "name": "python",
   "nbconvert_exporter": "python",
   "pygments_lexer": "ipython3",
   "version": "3.9.12"
  }
 },
 "nbformat": 4,
 "nbformat_minor": 5
}
