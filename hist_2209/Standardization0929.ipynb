{
 "cells": [
  {
   "cell_type": "code",
   "execution_count": 14,
   "id": "4c3665e5",
   "metadata": {},
   "outputs": [],
   "source": [
    "import pandas as pd\n",
    "import numpy as np\n",
    "import os\n",
    "import string\n",
    "import sys\n",
    "import re\n",
    "import datetime as dt\n",
    "now = dt.datetime.now().strftime('%y%m%d_%H%M%S')\n",
    "pd.set_option('display.max_rows', 500)\n",
    "pd.set_option('display.max_columns', 500)\n",
    "\n",
    "# 진행 여부 함수\n",
    "def yes_or_no(question):\n",
    "    while \"the answer is invalid\":\n",
    "        reply = str(input(question+' (y/n): ')).lower().strip()\n",
    "        if reply[0] == 'y':\n",
    "            return True\n",
    "        if reply[0] == 'n':\n",
    "            return False\n",
    "        else:\n",
    "            print(\"실패: 'y' 혹은 'n' 를 입력해 주세요\")"
   ]
  },
  {
   "cell_type": "markdown",
   "id": "81f6df24",
   "metadata": {},
   "source": [
    "# 1. 파일 불러오기"
   ]
  },
  {
   "cell_type": "code",
   "execution_count": 15,
   "id": "e06b9d94",
   "metadata": {},
   "outputs": [
    {
     "name": "stdout",
     "output_type": "stream",
     "text": [
      "(1364, 14)\n"
     ]
    },
    {
     "data": {
      "text/html": [
       "<div>\n",
       "<style scoped>\n",
       "    .dataframe tbody tr th:only-of-type {\n",
       "        vertical-align: middle;\n",
       "    }\n",
       "\n",
       "    .dataframe tbody tr th {\n",
       "        vertical-align: top;\n",
       "    }\n",
       "\n",
       "    .dataframe thead th {\n",
       "        text-align: right;\n",
       "    }\n",
       "</style>\n",
       "<table border=\"1\" class=\"dataframe\">\n",
       "  <thead>\n",
       "    <tr style=\"text-align: right;\">\n",
       "      <th></th>\n",
       "      <th>No</th>\n",
       "      <th>용어명</th>\n",
       "      <th>용어명 분리</th>\n",
       "      <th>용어설명</th>\n",
       "      <th>영문명</th>\n",
       "      <th>영문약어명</th>\n",
       "      <th>도메인명</th>\n",
       "      <th>데이터타입</th>\n",
       "      <th>데이터길이</th>\n",
       "      <th>소수점이하</th>\n",
       "      <th>생성일(제정일)</th>\n",
       "      <th>범정부표준여부</th>\n",
       "      <th>정보시스템(DB)</th>\n",
       "      <th>관련필드/용어</th>\n",
       "    </tr>\n",
       "  </thead>\n",
       "  <tbody>\n",
       "    <tr>\n",
       "      <th>0</th>\n",
       "      <td>1</td>\n",
       "      <td>가입일자</td>\n",
       "      <td>가입tds_일자</td>\n",
       "      <td>조직이나 단체 따위에 들어가거나, 서비스를 제공하는 상품 따위를 신청한 날짜를 연월...</td>\n",
       "      <td></td>\n",
       "      <td>TEST!!!</td>\n",
       "      <td>연월일C8</td>\n",
       "      <td>CHAR</td>\n",
       "      <td>8</td>\n",
       "      <td></td>\n",
       "      <td>2020-08-13</td>\n",
       "      <td>범정부표준</td>\n",
       "      <td></td>\n",
       "      <td></td>\n",
       "    </tr>\n",
       "    <tr>\n",
       "      <th>1</th>\n",
       "      <td>2</td>\n",
       "      <td>개설일자</td>\n",
       "      <td>개설_일자</td>\n",
       "      <td>설비나 제도 따위를 새로 마련하고 그에 관한 일을 처음 시작한 날짜를 연월일로 표현</td>\n",
       "      <td></td>\n",
       "      <td>$^$^dasd</td>\n",
       "      <td>연월일C8</td>\n",
       "      <td>CHAR</td>\n",
       "      <td>8</td>\n",
       "      <td></td>\n",
       "      <td>2020-08-13</td>\n",
       "      <td>범정부표준</td>\n",
       "      <td></td>\n",
       "      <td></td>\n",
       "    </tr>\n",
       "    <tr>\n",
       "      <th>2</th>\n",
       "      <td>3</td>\n",
       "      <td>개시일자</td>\n",
       "      <td>개시_일자</td>\n",
       "      <td>시장을 처음 열어 물건의 매매를 시작한 날짜를 연월일로 표현</td>\n",
       "      <td></td>\n",
       "      <td>asdf</td>\n",
       "      <td>연월일C8</td>\n",
       "      <td>CHAR</td>\n",
       "      <td>8</td>\n",
       "      <td></td>\n",
       "      <td>2020-08-13</td>\n",
       "      <td>범정부표준</td>\n",
       "      <td></td>\n",
       "      <td></td>\n",
       "    </tr>\n",
       "    <tr>\n",
       "      <th>3</th>\n",
       "      <td>4</td>\n",
       "      <td>개업일자</td>\n",
       "      <td>개업_일자</td>\n",
       "      <td>영업을 처음 시작한 날짜를 연월일로 표현</td>\n",
       "      <td></td>\n",
       "      <td>$^$^dasd</td>\n",
       "      <td>연월일C8</td>\n",
       "      <td>CHAR</td>\n",
       "      <td>8</td>\n",
       "      <td></td>\n",
       "      <td>2020-08-13</td>\n",
       "      <td>범정부표준</td>\n",
       "      <td></td>\n",
       "      <td></td>\n",
       "    </tr>\n",
       "    <tr>\n",
       "      <th>4</th>\n",
       "      <td>5</td>\n",
       "      <td>개인정보 동의여부</td>\n",
       "      <td>개인_정보_동의_여부</td>\n",
       "      <td>특정 개인을 식별하거나 유추해 낼 수 있는 모든 정보를 공동 이용하도록 허락할지 참...</td>\n",
       "      <td></td>\n",
       "      <td>sdf_dsfd_df</td>\n",
       "      <td>여부C1</td>\n",
       "      <td>CHAR</td>\n",
       "      <td>1</td>\n",
       "      <td></td>\n",
       "      <td>2020-08-13</td>\n",
       "      <td>범정부표준</td>\n",
       "      <td></td>\n",
       "      <td></td>\n",
       "    </tr>\n",
       "  </tbody>\n",
       "</table>\n",
       "</div>"
      ],
      "text/plain": [
       "   No        용어명       용어명 분리  \\\n",
       "0   1       가입일자     가입tds_일자   \n",
       "1   2       개설일자        개설_일자   \n",
       "2   3       개시일자        개시_일자   \n",
       "3   4       개업일자        개업_일자   \n",
       "4   5  개인정보 동의여부  개인_정보_동의_여부   \n",
       "\n",
       "                                                용어설명 영문명        영문약어명   도메인명  \\\n",
       "0  조직이나 단체 따위에 들어가거나, 서비스를 제공하는 상품 따위를 신청한 날짜를 연월...          TEST!!!  연월일C8   \n",
       "1     설비나 제도 따위를 새로 마련하고 그에 관한 일을 처음 시작한 날짜를 연월일로 표현         $^$^dasd  연월일C8   \n",
       "2                  시장을 처음 열어 물건의 매매를 시작한 날짜를 연월일로 표현             asdf  연월일C8   \n",
       "3                             영업을 처음 시작한 날짜를 연월일로 표현         $^$^dasd  연월일C8   \n",
       "4  특정 개인을 식별하거나 유추해 낼 수 있는 모든 정보를 공동 이용하도록 허락할지 참...      sdf_dsfd_df   여부C1   \n",
       "\n",
       "  데이터타입 데이터길이 소수점이하   생성일(제정일) 범정부표준여부 정보시스템(DB) 관련필드/용어  \n",
       "0  CHAR     8       2020-08-13   범정부표준                    \n",
       "1  CHAR     8       2020-08-13   범정부표준                    \n",
       "2  CHAR     8       2020-08-13   범정부표준                    \n",
       "3  CHAR     8       2020-08-13   범정부표준                    \n",
       "4  CHAR     1       2020-08-13   범정부표준                    "
      ]
     },
     "execution_count": 15,
     "metadata": {},
     "output_type": "execute_result"
    }
   ],
   "source": [
    "# 파일 불러오기\n",
    "sheet_name = \"input_test\"\n",
    "input_path = os.path.join(os.getcwd(), \"input\\\\\")\n",
    "# input_test = pd.read_excel(input_path+\"test_emoti_dup_korDup.xlsx\", sheet_name=sheet_name, header=0)\n",
    "input_test = pd.read_excel(input_path+\"test_emoti_dup_korDup.xlsx\", sheet_name=sheet_name, header=0)\n",
    "# null 제거\n",
    "for i in range(len(input_test.columns)):\n",
    "    input_test[input_test.columns[i]] = input_test[input_test.columns[i]].fillna(\"\")\n",
    "print(input_test.shape)\n",
    "input_test.head(5)"
   ]
  },
  {
   "cell_type": "markdown",
   "id": "72962e36",
   "metadata": {},
   "source": [
    "# 2. 용어 분리"
   ]
  },
  {
   "cell_type": "code",
   "execution_count": 16,
   "id": "5332d4f0",
   "metadata": {},
   "outputs": [],
   "source": [
    "# 인덱스 컬럼 초기화\n",
    "df_index = pd.DataFrame(input_test['No'])\n",
    "df_index.columns = ['index']"
   ]
  },
  {
   "cell_type": "code",
   "execution_count": 17,
   "id": "07149992",
   "metadata": {},
   "outputs": [
    {
     "name": "stdout",
     "output_type": "stream",
     "text": [
      "['stwd_kor0', 'stwd_kor1', 'stwd_kor2', 'stwd_kor3', 'stwd_kor4', 'stwd_kor5', 'stwd_kor6', 'stwd_kor7', 'stwd_kor8', 'stwd_kor9']\n",
      "10\n"
     ]
    }
   ],
   "source": [
    "# 용어명 분리\n",
    "\n",
    "# 용어명 분리\n",
    "input_split_kor = pd.DataFrame(input_test['용어명 분리'].str.split('_').tolist()).fillna(\"\")\n",
    "\n",
    "# 영문명 없을 경우 대비하여 cnt 집계\n",
    "kor_firts_cnt = len(input_split_kor.columns)\n",
    "\n",
    "# 컬럼명 입력\n",
    "col_list_kor = []\n",
    "for i in range(len(input_split_kor.columns)):\n",
    "    col_list_kor.append(\"stwd_kor{}\".format(i))\n",
    "input_split_kor.columns = col_list_kor\n",
    "\n",
    "# 한글 개수 세기\n",
    "dupl_list_kor = []\n",
    "dupl_cnt_kor = []\n",
    "for i in range(kor_firts_cnt):\n",
    "    globals()[\"dupl_list_kor{}\".format(i)] = []\n",
    "    for j in range(len(input_split_kor[\"stwd_kor{}\".format(i)])):\n",
    "        dupl_list_kor = input_split_kor[\"stwd_kor{}\".format(i)].to_list().count(input_split_kor[\"stwd_kor{}\".format(i)][j])\n",
    "        globals()[\"dupl_list_kor{}\".format(i)].append(dupl_list_kor)\n",
    "for i in range(kor_firts_cnt):\n",
    "    globals()[\"dupl_list_kor{}\".format(i)] = pd.concat([pd.DataFrame(globals()[\"dupl_list_kor{}\".format(i)])], axis = 0)\n",
    "    globals()[\"dupl_list_kor{}\".format(i)].columns = [\"dupl_list_kor{}\".format(i)]\n",
    "    \n",
    "# 컬럼명,index, 단어위치 추가\n",
    "for i in range(len(input_split_kor.columns)):\n",
    "    input_split_kor[\"num_kor{}\".format(i)] = \"num_kor{}\".format(i)\n",
    "    globals()[\"stwd_kor{}\".format(i)] = pd.concat(\n",
    "            [\n",
    "            df_index.fillna(\"\"), \n",
    "            pd.DataFrame(input_split_kor[\"stwd_kor{}\".format(i)]).fillna(\"\"),\n",
    "            pd.DataFrame(input_split_kor[\"num_kor{}\".format(i)]).fillna(\"\"),\n",
    "            globals()[\"dupl_list_kor{}\".format(i)].fillna(\"\")\n",
    "            ], \n",
    "            axis=1)\n",
    "print(col_list_kor)\n",
    "print(kor_firts_cnt)\n",
    "# stwd_kor9\n",
    "# dupl_list_kor0"
   ]
  },
  {
   "cell_type": "code",
   "execution_count": 18,
   "id": "74a82e1d",
   "metadata": {},
   "outputs": [
    {
     "name": "stdout",
     "output_type": "stream",
     "text": [
      "영문명 컬럼 수 1개 이상:1336\n",
      "한글컬럼수와 영문컬럼수 불일치\n",
      "kor:10 vs eng:6\n",
      "['stwd_eng0', 'stwd_eng1', 'stwd_eng2', 'stwd_eng3', 'stwd_eng4', 'stwd_eng5']\n"
     ]
    },
    {
     "data": {
      "text/html": [
       "<div>\n",
       "<style scoped>\n",
       "    .dataframe tbody tr th:only-of-type {\n",
       "        vertical-align: middle;\n",
       "    }\n",
       "\n",
       "    .dataframe tbody tr th {\n",
       "        vertical-align: top;\n",
       "    }\n",
       "\n",
       "    .dataframe thead th {\n",
       "        text-align: right;\n",
       "    }\n",
       "</style>\n",
       "<table border=\"1\" class=\"dataframe\">\n",
       "  <thead>\n",
       "    <tr style=\"text-align: right;\">\n",
       "      <th></th>\n",
       "      <th>index</th>\n",
       "      <th>stwd_eng0</th>\n",
       "      <th>num_eng0</th>\n",
       "      <th>dupl_list_eng0</th>\n",
       "    </tr>\n",
       "  </thead>\n",
       "  <tbody>\n",
       "    <tr>\n",
       "      <th>0</th>\n",
       "      <td>1</td>\n",
       "      <td>TEST!!!</td>\n",
       "      <td>num_eng0</td>\n",
       "      <td>1</td>\n",
       "    </tr>\n",
       "    <tr>\n",
       "      <th>1</th>\n",
       "      <td>2</td>\n",
       "      <td>$^$^dasd</td>\n",
       "      <td>num_eng0</td>\n",
       "      <td>3</td>\n",
       "    </tr>\n",
       "    <tr>\n",
       "      <th>2</th>\n",
       "      <td>3</td>\n",
       "      <td>asdf</td>\n",
       "      <td>num_eng0</td>\n",
       "      <td>1</td>\n",
       "    </tr>\n",
       "    <tr>\n",
       "      <th>3</th>\n",
       "      <td>4</td>\n",
       "      <td>$^$^dasd</td>\n",
       "      <td>num_eng0</td>\n",
       "      <td>3</td>\n",
       "    </tr>\n",
       "    <tr>\n",
       "      <th>4</th>\n",
       "      <td>5</td>\n",
       "      <td>sdf</td>\n",
       "      <td>num_eng0</td>\n",
       "      <td>1</td>\n",
       "    </tr>\n",
       "    <tr>\n",
       "      <th>...</th>\n",
       "      <td>...</td>\n",
       "      <td>...</td>\n",
       "      <td>...</td>\n",
       "      <td>...</td>\n",
       "    </tr>\n",
       "    <tr>\n",
       "      <th>1359</th>\n",
       "      <td>1360</td>\n",
       "      <td></td>\n",
       "      <td>num_eng0</td>\n",
       "      <td>1336</td>\n",
       "    </tr>\n",
       "    <tr>\n",
       "      <th>1360</th>\n",
       "      <td>1361</td>\n",
       "      <td></td>\n",
       "      <td>num_eng0</td>\n",
       "      <td>1336</td>\n",
       "    </tr>\n",
       "    <tr>\n",
       "      <th>1361</th>\n",
       "      <td>1362</td>\n",
       "      <td></td>\n",
       "      <td>num_eng0</td>\n",
       "      <td>1336</td>\n",
       "    </tr>\n",
       "    <tr>\n",
       "      <th>1362</th>\n",
       "      <td>1363</td>\n",
       "      <td></td>\n",
       "      <td>num_eng0</td>\n",
       "      <td>1336</td>\n",
       "    </tr>\n",
       "    <tr>\n",
       "      <th>1363</th>\n",
       "      <td>1364</td>\n",
       "      <td></td>\n",
       "      <td>num_eng0</td>\n",
       "      <td>1336</td>\n",
       "    </tr>\n",
       "  </tbody>\n",
       "</table>\n",
       "<p>1364 rows × 4 columns</p>\n",
       "</div>"
      ],
      "text/plain": [
       "      index stwd_eng0  num_eng0  dupl_list_eng0\n",
       "0         1   TEST!!!  num_eng0               1\n",
       "1         2  $^$^dasd  num_eng0               3\n",
       "2         3      asdf  num_eng0               1\n",
       "3         4  $^$^dasd  num_eng0               3\n",
       "4         5       sdf  num_eng0               1\n",
       "...     ...       ...       ...             ...\n",
       "1359   1360            num_eng0            1336\n",
       "1360   1361            num_eng0            1336\n",
       "1361   1362            num_eng0            1336\n",
       "1362   1363            num_eng0            1336\n",
       "1363   1364            num_eng0            1336\n",
       "\n",
       "[1364 rows x 4 columns]"
      ]
     },
     "execution_count": 18,
     "metadata": {},
     "output_type": "execute_result"
    }
   ],
   "source": [
    "# 영문명 분리\n",
    "\n",
    "# 영문명이 하나라도 입력돼 있을 경우\n",
    "if len(input_test['영문약어명']) > 0:\n",
    "    print(\"영문명 컬럼 수 1개 이상:\"+str((input_test['영문약어명']==\"\").sum()))\n",
    "\n",
    "    # 영문명 분리\n",
    "    input_split_eng = pd.DataFrame(input_test['영문약어명'].str.split('_').tolist()).fillna(\"\")\n",
    "    \n",
    "    # 영문명 컬럼 수\n",
    "    eng_firts_cnt = len(input_split_eng.columns)\n",
    "    \n",
    "    # 컬럼명 입력\n",
    "    col_list_eng = []\n",
    "    for i in range(len(input_split_eng.columns)):\n",
    "        col_list_eng.append(\"stwd_eng{}\".format(i))\n",
    "    input_split_eng.columns = col_list_eng\n",
    "    \n",
    "    # 영문 개수 세기\n",
    "    dupl_list_eng = []\n",
    "    dupl_cnt_eng = []\n",
    "    for i in range(eng_firts_cnt):\n",
    "        globals()[\"dupl_list_eng{}\".format(i)] = []\n",
    "        for j in range(len(input_split_eng[\"stwd_eng{}\".format(i)])):\n",
    "            dupl_list_eng = input_split_eng[\"stwd_eng{}\".format(i)].to_list().count(input_split_eng[\"stwd_eng{}\".format(i)][j])\n",
    "            globals()[\"dupl_list_eng{}\".format(i)].append(dupl_list_eng)\n",
    "    for i in range(eng_firts_cnt):\n",
    "        globals()[\"dupl_list_eng{}\".format(i)] = pd.concat([pd.DataFrame(globals()[\"dupl_list_eng{}\".format(i)])], axis = 0)\n",
    "        globals()[\"dupl_list_eng{}\".format(i)].columns = [\"dupl_list_eng{}\".format(i)]\n",
    "        \n",
    "    # 컬럼명,index, 단어위치 추가\n",
    "    for i in range(eng_firts_cnt):\n",
    "        input_split_eng[\"num_eng{}\".format(i)] = \"num_eng{}\".format(i)\n",
    "        globals()[\"stwd_eng{}\".format(i)] = pd.concat(\n",
    "                [\n",
    "                df_index.fillna(\"\"), \n",
    "                pd.DataFrame(input_split_eng[\"stwd_eng{}\".format(i)].fillna(\"\")),\n",
    "                pd.DataFrame(input_split_eng[\"num_eng{}\".format(i)].fillna(\"\")),\n",
    "                globals()[\"dupl_list_eng{}\".format(i)].fillna(\"\")\n",
    "                ], \n",
    "                axis=1)\n",
    "        \n",
    "# 영문명이 없을 경우\n",
    "elif len(input_test['영문약어명']) == 0:\n",
    "    print(\"영문명 컬럼 수 0개:\"+str((input_test['영문약어명']==\"\").sum()))\n",
    "    \n",
    "    col_list_eng = []\n",
    "    for i in range(kor_firts_cnt):\n",
    "        globals()[\"stwd_eng{}\".format(i)] = pd.DataFrame(columns = [\"stwd_eng{}\".format(i)])\n",
    "        globals()[\"num_eng{}\".format(i)] = pd.DataFrame(columns = [\"num_eng{}\".format(i)])\n",
    "        globals()[\"dupl_list_eng{}\".format(i)] = pd.DataFrame(columns = [\"dupl_list_eng{}\".format(i)])\n",
    "        globals()[\"stwd_eng{}\".format(i)] = pd.concat(\n",
    "            [\n",
    "                df_index.fillna(\"\"), \n",
    "                globals()[\"stwd_eng{}\".format(i)].fillna(\"\"),\n",
    "                globals()[\"num_eng{}\".format(i)].fillna(\"\"),\n",
    "                globals()[\"dupl_list_eng{}\".format(i)].fillna(\"\"),\n",
    "            ]\n",
    "            , axis = 1\n",
    "        )\n",
    "        globals()[\"stwd_eng{}\".format(i)][\"num_eng{}\".format(i)] = \"num_eng{}\".format(i)\n",
    "        globals()[\"stwd_eng{}\".format(i)][\"dupl_list_eng{}\".format(i)] = len(globals()[\"stwd_eng{}\".format(i)])\n",
    "        col_list_eng.append(\"stwd_eng{}\".format(i))\n",
    "        \n",
    "else:\n",
    "    print(\"한글컬럼, 영문커럼 예외 사항\")\n",
    "\n",
    "# 컬럼수 일치 점검\n",
    "col_cnt_kor = len(col_list_kor)\n",
    "col_cnt_eng = len(col_list_eng)\n",
    "if len(col_list_kor) == len(col_list_eng):\n",
    "    print(\"한글컬럼수와 영문컬럼수 일치\")\n",
    "    print(\"kor:\" + str(col_cnt_kor) + \" vs eng:\" + str(col_cnt_eng))\n",
    "else:\n",
    "    print(\"한글컬럼수와 영문컬럼수 불일치\")\n",
    "    print(\"kor:\" + str(col_cnt_kor) + \" vs eng:\" + str(col_cnt_eng))                                                       \n",
    "print(col_list_eng)\n",
    "stwd_eng0"
   ]
  },
  {
   "cell_type": "code",
   "execution_count": 19,
   "id": "854a4c73",
   "metadata": {},
   "outputs": [
    {
     "name": "stdout",
     "output_type": "stream",
     "text": [
      "한글컬럼이 더 많은 싱태\n",
      "kor:10 vs eng:6\n",
      "컬럼수 일치작업 후:10\n"
     ]
    },
    {
     "data": {
      "text/html": [
       "<div>\n",
       "<style scoped>\n",
       "    .dataframe tbody tr th:only-of-type {\n",
       "        vertical-align: middle;\n",
       "    }\n",
       "\n",
       "    .dataframe tbody tr th {\n",
       "        vertical-align: top;\n",
       "    }\n",
       "\n",
       "    .dataframe thead th {\n",
       "        text-align: right;\n",
       "    }\n",
       "</style>\n",
       "<table border=\"1\" class=\"dataframe\">\n",
       "  <thead>\n",
       "    <tr style=\"text-align: right;\">\n",
       "      <th></th>\n",
       "      <th>index</th>\n",
       "      <th>stwd_eng3</th>\n",
       "      <th>num_eng3</th>\n",
       "      <th>dupl_list_eng3</th>\n",
       "    </tr>\n",
       "  </thead>\n",
       "  <tbody>\n",
       "    <tr>\n",
       "      <th>0</th>\n",
       "      <td>1</td>\n",
       "      <td></td>\n",
       "      <td>num_eng3</td>\n",
       "      <td>1362</td>\n",
       "    </tr>\n",
       "    <tr>\n",
       "      <th>1</th>\n",
       "      <td>2</td>\n",
       "      <td></td>\n",
       "      <td>num_eng3</td>\n",
       "      <td>1362</td>\n",
       "    </tr>\n",
       "    <tr>\n",
       "      <th>2</th>\n",
       "      <td>3</td>\n",
       "      <td></td>\n",
       "      <td>num_eng3</td>\n",
       "      <td>1362</td>\n",
       "    </tr>\n",
       "    <tr>\n",
       "      <th>3</th>\n",
       "      <td>4</td>\n",
       "      <td></td>\n",
       "      <td>num_eng3</td>\n",
       "      <td>1362</td>\n",
       "    </tr>\n",
       "    <tr>\n",
       "      <th>4</th>\n",
       "      <td>5</td>\n",
       "      <td></td>\n",
       "      <td>num_eng3</td>\n",
       "      <td>1362</td>\n",
       "    </tr>\n",
       "    <tr>\n",
       "      <th>...</th>\n",
       "      <td>...</td>\n",
       "      <td>...</td>\n",
       "      <td>...</td>\n",
       "      <td>...</td>\n",
       "    </tr>\n",
       "    <tr>\n",
       "      <th>1359</th>\n",
       "      <td>1360</td>\n",
       "      <td></td>\n",
       "      <td>num_eng3</td>\n",
       "      <td>1362</td>\n",
       "    </tr>\n",
       "    <tr>\n",
       "      <th>1360</th>\n",
       "      <td>1361</td>\n",
       "      <td></td>\n",
       "      <td>num_eng3</td>\n",
       "      <td>1362</td>\n",
       "    </tr>\n",
       "    <tr>\n",
       "      <th>1361</th>\n",
       "      <td>1362</td>\n",
       "      <td></td>\n",
       "      <td>num_eng3</td>\n",
       "      <td>1362</td>\n",
       "    </tr>\n",
       "    <tr>\n",
       "      <th>1362</th>\n",
       "      <td>1363</td>\n",
       "      <td></td>\n",
       "      <td>num_eng3</td>\n",
       "      <td>1362</td>\n",
       "    </tr>\n",
       "    <tr>\n",
       "      <th>1363</th>\n",
       "      <td>1364</td>\n",
       "      <td></td>\n",
       "      <td>num_eng3</td>\n",
       "      <td>1362</td>\n",
       "    </tr>\n",
       "  </tbody>\n",
       "</table>\n",
       "<p>1364 rows × 4 columns</p>\n",
       "</div>"
      ],
      "text/plain": [
       "      index stwd_eng3  num_eng3  dupl_list_eng3\n",
       "0         1            num_eng3            1362\n",
       "1         2            num_eng3            1362\n",
       "2         3            num_eng3            1362\n",
       "3         4            num_eng3            1362\n",
       "4         5            num_eng3            1362\n",
       "...     ...       ...       ...             ...\n",
       "1359   1360            num_eng3            1362\n",
       "1360   1361            num_eng3            1362\n",
       "1361   1362            num_eng3            1362\n",
       "1362   1363            num_eng3            1362\n",
       "1363   1364            num_eng3            1362\n",
       "\n",
       "[1364 rows x 4 columns]"
      ]
     },
     "execution_count": 19,
     "metadata": {},
     "output_type": "execute_result"
    }
   ],
   "source": [
    "# 한글/영문 컬럼 수 일치시키기\n",
    "\n",
    "# 한글컬럼과 영문컬럼 수 일치할 경우\n",
    "if col_cnt_kor == col_cnt_eng:\n",
    "    col_cnt = col_cnt_kor\n",
    "    col_cnt_diff_list = None\n",
    "    col_cnt_diff = None\n",
    "    print('한글컬럼과 영문컬럼 수 일치')\n",
    "    print(\"kor:\" + str(col_cnt_kor) + \" vs eng:\" + str(col_cnt_eng))\n",
    "    print(\"컬럼수 일치작업 후:\" + str(col_cnt))  \n",
    "    \n",
    "# 한글컬럼이 더 많을 경우\n",
    "elif col_cnt_kor > col_cnt_eng:\n",
    "    col_cnt = col_cnt_kor\n",
    "    col_cnt_diff_list = list(set(range(col_cnt_kor)) - set(range(col_cnt_eng)))\n",
    "    col_cnt_diff = len(col_cnt_diff_list)\n",
    "    for i in col_cnt_diff_list:\n",
    "        input_split_eng['stwd_eng{}'.format(i)] = None\n",
    "        input_split_eng['num_eng{}'.format(i)] = None\n",
    "        input_split_eng['dupl_list_eng{}'.format(i)] = None\n",
    "        globals()['stwd_eng{}'.format(i)] = pd.concat(\n",
    "            [\n",
    "                df_index,\n",
    "                pd.DataFrame(input_split_eng['stwd_eng{}'.format(i)].fillna(\"\")),\n",
    "                pd.DataFrame(input_split_eng[\"num_eng{}\".format(i)].fillna(\"\")),\n",
    "                pd.DataFrame(input_split_eng[\"dupl_list_eng{}\".format(i)].fillna(\"\"))\n",
    "            ],\n",
    "            axis = 1\n",
    "        )\n",
    "    print('한글컬럼이 더 많은 싱태')\n",
    "    print(\"kor:\" + str(col_cnt_kor) + \" vs eng:\" + str(col_cnt_eng))\n",
    "    print(\"컬럼수 일치작업 후:\" + str(col_cnt))  \n",
    "\n",
    "# 영문컬럼이 더 많을 경우\n",
    "elif col_cnt_kor < col_cnt_eng:\n",
    "    col_cnt = col_cnt_eng\n",
    "    col_cnt_diff_list = list(set(range(col_cnt_eng)) - set(range(col_cnt_kor)))\n",
    "    col_cnt_diff = len(col_cnt_diff_list)\n",
    "    for i in col_cnt_diff_list:\n",
    "        input_split_kor['stwd_kor{}'.format(i)] = None\n",
    "        input_split_kor['num_kor{}'.format(i)] = None\n",
    "        input_split_eng['dupl_list_kor{}'.format(i)] = None\n",
    "        globals()['stwd_kor{}'.format(i)] = pd.concat(\n",
    "            [\n",
    "                df_index,\n",
    "                pd.DataFrame(input_split_kor['stwd_kor{}'.format(i)].fillna(\"\")),\n",
    "                pd.DataFrame(input_split_kor[\"num_kor{}\".format(i)].fillna(\"\")).\n",
    "                pd.DataFrame(input_split_eng[\"dupl_list_kor{}\".format(i)].fillna(\"\"))\n",
    "            ],\n",
    "            axis = 1\n",
    "        )\n",
    "    print('영문컬럼이 더 많은 싱태')       \n",
    "    print(\"kor:\" + str(col_cnt_kor) + \" vs eng:\" + str(col_cnt_eng))\n",
    "    print(\"컬럼수 일치작업 후:\" + str(col_cnt))  \n",
    "stwd_eng3"
   ]
  },
  {
   "cell_type": "code",
   "execution_count": 20,
   "id": "28047c00",
   "metadata": {},
   "outputs": [
    {
     "name": "stdout",
     "output_type": "stream",
     "text": [
      "한글 영문 row수 일치: 평균=1364.0\n",
      "한글평균:1364.0, 영문평균:1364.0, 최종count:1364\n"
     ]
    }
   ],
   "source": [
    "# n x m 정사각형 DafaFrame 점검\n",
    "for i in range(col_cnt_kor):\n",
    "    for j in range(len(globals()[\"stwd_kor{}\".format(i)])):\n",
    "        cnt = (j + 1)\n",
    "    avg = np.mean(cnt)\n",
    "avg_avg_kor = round(np.mean(avg), 2)\n",
    "for i in range(col_cnt_eng):\n",
    "    for j in range(len(globals()[\"stwd_kor{}\".format(i)])):\n",
    "        cnt = (j + 1)\n",
    "    avg = np.mean(cnt)\n",
    "avg_avg_eng = round(np.mean(avg), 2)\n",
    "stwd_total_cnt = int(avg_avg_eng)\n",
    "if avg_avg_kor == avg_avg_eng:\n",
    "    print(\"한글 영문 row수 일치: 평균=\" + str((avg_avg_kor + avg_avg_eng)/2))\n",
    "    print(\"한글평균:\" + str(avg_avg_kor) + \", 영문평균:\" + str(avg_avg_eng) + \", 최종count:\" + str(stwd_total_cnt))\n",
    "else:\n",
    "    yes_or_no(\"한글명과 영문명의 row count가 일치하지 않습니다. 계속 진행하시겠습니까?\")\n",
    "    print(\"한글 영문 row수 불일치: 평균\" + str((avg_avg_kor + avg_avg_eng)/2))\n",
    "    print(\"한글평균:\" + str(avg_avg_kor) + \", 영문평균:\" + str(avg_avg_eng) + \", 최종count:\" + str(stwd_total_cnt))"
   ]
  },
  {
   "cell_type": "code",
   "execution_count": 21,
   "id": "fad007a8",
   "metadata": {},
   "outputs": [
    {
     "name": "stdout",
     "output_type": "stream",
     "text": [
      "10\n"
     ]
    }
   ],
   "source": [
    "# 중복검사를 위한 left join\n",
    "for i in range(col_cnt):\n",
    "    globals()['stwd_total{}'.format(i)] = pd.merge(\n",
    "        globals()['stwd_kor{}'.format(i)],\n",
    "        globals()['stwd_eng{}'.format(i)],\n",
    "        on = 'index',\n",
    "        how = 'left'\n",
    "    )\n",
    "print(col_cnt)\n",
    "# stwd_total9"
   ]
  },
  {
   "cell_type": "code",
   "execution_count": 22,
   "id": "0d99cfca",
   "metadata": {},
   "outputs": [
    {
     "name": "stdout",
     "output_type": "stream",
     "text": [
      "(13640, 7)\n"
     ]
    },
    {
     "data": {
      "text/html": [
       "<div>\n",
       "<style scoped>\n",
       "    .dataframe tbody tr th:only-of-type {\n",
       "        vertical-align: middle;\n",
       "    }\n",
       "\n",
       "    .dataframe tbody tr th {\n",
       "        vertical-align: top;\n",
       "    }\n",
       "\n",
       "    .dataframe thead th {\n",
       "        text-align: right;\n",
       "    }\n",
       "</style>\n",
       "<table border=\"1\" class=\"dataframe\">\n",
       "  <thead>\n",
       "    <tr style=\"text-align: right;\">\n",
       "      <th></th>\n",
       "      <th>index</th>\n",
       "      <th>stwd_kor</th>\n",
       "      <th>num_kor</th>\n",
       "      <th>dupl_list_kor</th>\n",
       "      <th>stwd_eng</th>\n",
       "      <th>num_eng</th>\n",
       "      <th>dupl_list_eng</th>\n",
       "    </tr>\n",
       "  </thead>\n",
       "  <tbody>\n",
       "    <tr>\n",
       "      <th>0</th>\n",
       "      <td>1</td>\n",
       "      <td>가입tds</td>\n",
       "      <td>num_kor0</td>\n",
       "      <td>1</td>\n",
       "      <td>TEST!!!</td>\n",
       "      <td>num_eng0</td>\n",
       "      <td>1</td>\n",
       "    </tr>\n",
       "    <tr>\n",
       "      <th>1</th>\n",
       "      <td>2</td>\n",
       "      <td>개설</td>\n",
       "      <td>num_kor0</td>\n",
       "      <td>1</td>\n",
       "      <td>$^$^dasd</td>\n",
       "      <td>num_eng0</td>\n",
       "      <td>3</td>\n",
       "    </tr>\n",
       "    <tr>\n",
       "      <th>2</th>\n",
       "      <td>3</td>\n",
       "      <td>개시</td>\n",
       "      <td>num_kor0</td>\n",
       "      <td>1</td>\n",
       "      <td>asdf</td>\n",
       "      <td>num_eng0</td>\n",
       "      <td>1</td>\n",
       "    </tr>\n",
       "    <tr>\n",
       "      <th>3</th>\n",
       "      <td>4</td>\n",
       "      <td>개업</td>\n",
       "      <td>num_kor0</td>\n",
       "      <td>1</td>\n",
       "      <td>$^$^dasd</td>\n",
       "      <td>num_eng0</td>\n",
       "      <td>3</td>\n",
       "    </tr>\n",
       "    <tr>\n",
       "      <th>4</th>\n",
       "      <td>5</td>\n",
       "      <td>개인</td>\n",
       "      <td>num_kor0</td>\n",
       "      <td>1</td>\n",
       "      <td>sdf</td>\n",
       "      <td>num_eng0</td>\n",
       "      <td>1</td>\n",
       "    </tr>\n",
       "    <tr>\n",
       "      <th>...</th>\n",
       "      <td>...</td>\n",
       "      <td>...</td>\n",
       "      <td>...</td>\n",
       "      <td>...</td>\n",
       "      <td>...</td>\n",
       "      <td>...</td>\n",
       "      <td>...</td>\n",
       "    </tr>\n",
       "    <tr>\n",
       "      <th>13635</th>\n",
       "      <td>1360</td>\n",
       "      <td></td>\n",
       "      <td>num_kor9</td>\n",
       "      <td>1363</td>\n",
       "      <td></td>\n",
       "      <td></td>\n",
       "      <td></td>\n",
       "    </tr>\n",
       "    <tr>\n",
       "      <th>13636</th>\n",
       "      <td>1361</td>\n",
       "      <td></td>\n",
       "      <td>num_kor9</td>\n",
       "      <td>1363</td>\n",
       "      <td></td>\n",
       "      <td></td>\n",
       "      <td></td>\n",
       "    </tr>\n",
       "    <tr>\n",
       "      <th>13637</th>\n",
       "      <td>1362</td>\n",
       "      <td></td>\n",
       "      <td>num_kor9</td>\n",
       "      <td>1363</td>\n",
       "      <td></td>\n",
       "      <td></td>\n",
       "      <td></td>\n",
       "    </tr>\n",
       "    <tr>\n",
       "      <th>13638</th>\n",
       "      <td>1363</td>\n",
       "      <td></td>\n",
       "      <td>num_kor9</td>\n",
       "      <td>1363</td>\n",
       "      <td></td>\n",
       "      <td></td>\n",
       "      <td></td>\n",
       "    </tr>\n",
       "    <tr>\n",
       "      <th>13639</th>\n",
       "      <td>1364</td>\n",
       "      <td></td>\n",
       "      <td>num_kor9</td>\n",
       "      <td>1363</td>\n",
       "      <td></td>\n",
       "      <td></td>\n",
       "      <td></td>\n",
       "    </tr>\n",
       "  </tbody>\n",
       "</table>\n",
       "<p>13640 rows × 7 columns</p>\n",
       "</div>"
      ],
      "text/plain": [
       "       index stwd_kor   num_kor  dupl_list_kor  stwd_eng   num_eng  \\\n",
       "0          1    가입tds  num_kor0              1   TEST!!!  num_eng0   \n",
       "1          2       개설  num_kor0              1  $^$^dasd  num_eng0   \n",
       "2          3       개시  num_kor0              1      asdf  num_eng0   \n",
       "3          4       개업  num_kor0              1  $^$^dasd  num_eng0   \n",
       "4          5       개인  num_kor0              1       sdf  num_eng0   \n",
       "...      ...      ...       ...            ...       ...       ...   \n",
       "13635   1360           num_kor9           1363                       \n",
       "13636   1361           num_kor9           1363                       \n",
       "13637   1362           num_kor9           1363                       \n",
       "13638   1363           num_kor9           1363                       \n",
       "13639   1364           num_kor9           1363                       \n",
       "\n",
       "      dupl_list_eng  \n",
       "0                 1  \n",
       "1                 3  \n",
       "2                 1  \n",
       "3                 3  \n",
       "4                 1  \n",
       "...             ...  \n",
       "13635                \n",
       "13636                \n",
       "13637                \n",
       "13638                \n",
       "13639                \n",
       "\n",
       "[13640 rows x 7 columns]"
      ]
     },
     "execution_count": 22,
     "metadata": {},
     "output_type": "execute_result"
    }
   ],
   "source": [
    "# 일렬 세우기\n",
    "\n",
    "# unique_stwd 초기화 \n",
    "stwd_total = pd.DataFrame()\n",
    "\n",
    "## 컬럼명 바꾸고  concat\n",
    "for i in range(col_cnt):\n",
    "    globals()[\"stwd_total{}\".format(i)].columns = [\n",
    "        'index', 'stwd_kor', 'num_kor', 'dupl_list_kor', 'stwd_eng','num_eng', 'dupl_list_eng'\n",
    "    ]\n",
    "    stwd_total = pd.concat([stwd_total, globals()[\"stwd_total{}\".format(i)]], axis = 0, ignore_index = True)\n",
    "print(stwd_total.shape)\n",
    "stwd_total"
   ]
  },
  {
   "cell_type": "code",
   "execution_count": 23,
   "id": "16cfe194",
   "metadata": {},
   "outputs": [
    {
     "ename": "NameError",
     "evalue": "name 'sdfdsfs' is not defined",
     "output_type": "error",
     "traceback": [
      "\u001b[1;31m---------------------------------------------------------------------------\u001b[0m",
      "\u001b[1;31mNameError\u001b[0m                                 Traceback (most recent call last)",
      "Input \u001b[1;32mIn [23]\u001b[0m, in \u001b[0;36m<cell line: 1>\u001b[1;34m()\u001b[0m\n\u001b[1;32m----> 1\u001b[0m \u001b[43msdfdsfs\u001b[49m\n",
      "\u001b[1;31mNameError\u001b[0m: name 'sdfdsfs' is not defined"
     ]
    }
   ],
   "source": [
    "sdfdsfs"
   ]
  },
  {
   "cell_type": "markdown",
   "id": "7c2efbd8",
   "metadata": {},
   "source": [
    "# 3. 이상값 수정"
   ]
  },
  {
   "cell_type": "markdown",
   "id": "01751d87",
   "metadata": {},
   "source": [
    "# 한글명에 한글과 영문대문자, 숫자 이외 표시 및 삭제 로직"
   ]
  },
  {
   "cell_type": "code",
   "execution_count": 24,
   "id": "eb7d0f6d",
   "metadata": {},
   "outputs": [],
   "source": [
    "def emoti_chk(var):\n",
    "    if var == 'kor':\n",
    "        # 한글명에 영문 소문자 탐색\n",
    "        stwd_total = globals()['stwd_total']\n",
    "        df_lower_kor = pd.DataFrame(columns = stwd_total.columns)        \n",
    "        stwd_total['kor_lower'] = ''\n",
    "        stwd_total['kor_ec'] = ''\n",
    "        kor_chk_list = []\n",
    "        for i in range(len(stwd_total)):\n",
    "\n",
    "        #     특수기호 제거\n",
    "        #     stwd_total.loc[i, 'stwd_kor'] =  stwd_total.loc[i, 'stwd_kor'].translate(str.maketrans('', '', string.punctuation))\n",
    "\n",
    "            # 영문 소문자 체크 및 기록\n",
    "            if stwd_total.loc[i, 'stwd_kor'].islower():\n",
    "                tmp = pd.DataFrame(stwd_total.iloc[i,:]).transpose()\n",
    "                df_lower_kor = pd.concat([df_lower_kor, tmp], axis=0)\n",
    "                print(\"----------------------영문 소문자 체크 및 기록--------------------|\")\n",
    "                print('index: ' + str(i))\n",
    "                print(stwd_total.loc[i, 'stwd_kor'] + \" -> \" + str(stwd_total.loc[i, 'stwd_kor'].upper()))\n",
    "                kor_chk_list.append(i)\n",
    "\n",
    "                # 영문 변경 이력 저장\n",
    "                stwd_total.loc[i, 'kor_lower'] = stwd_total.loc[i, 'stwd_kor']      \n",
    "\n",
    "                # 영문 대문자 변경\n",
    "                stwd_total.loc[i, 'stwd_kor'] = stwd_total.loc[i, 'stwd_kor'].upper()\n",
    "\n",
    "            # 영문 대문자, 숫자, 한글만 체크\n",
    "            cor_kor = re.findall('[A-Z0-9가-힣+]', stwd_total.loc[i, 'stwd_kor'])\n",
    "            chk_kor = len(cor_kor) == len(list(stwd_total.loc[i, 'stwd_kor']))\n",
    "\n",
    "            if bool(chk_kor) == False:\n",
    "                print(\"-----------------------------특수기호제거----------------------------|\")\n",
    "                print('index: ' + str(i))\n",
    "                print(stwd_total.loc[i, 'stwd_kor'] + \" -> \" + str(''.join(cor_kor)))\n",
    "                kor_chk_list.append(i)\n",
    "\n",
    "            # 영문대문자, 숫자, 한글 외 변경 이력 저장\n",
    "            stwd_total.loc[i, 'kor_ec'] = re.sub('[A-Z0-9가-힣+]', '', stwd_total.loc[i, 'stwd_kor'])        \n",
    "\n",
    "            # 영문대문자, 숫자, 한글 외 자동 삭제\n",
    "            stwd_total.loc[i, 'stwd_kor'] = ''.join(cor_kor)\n",
    "\n",
    "        # 변경 이력 저장\n",
    "        stwd_total['kor_cor_hist'] = \"\"\n",
    "        stwd_total['kor_cor_hist'] = stwd_total['kor_lower'] + stwd_total['kor_ec']\n",
    "\n",
    "        # 적용 후 결과값\n",
    "        print(\"====================================한글명 검토====================================|\")\n",
    "        print('소문자 처리: ' + str(len(df_lower_kor)) + '개')\n",
    "        stwd_total_kor_chk_1 = stwd_total.iloc[kor_chk_list]\n",
    "        print(\"나머지 제거: \"+ str(len(kor_chk_list)))\n",
    "        print('[자동 처리 완료하였습니다]')\n",
    "\n",
    "    elif var == 'eng':\n",
    "        # 영문명에 영문 소문자 탐색\n",
    "        stwd_total = globals()['stwd_total']\n",
    "        df_lower_eng = pd.DataFrame(columns = stwd_total.columns)        \n",
    "        stwd_total['eng_lower'] = ''\n",
    "        stwd_total['eng_ec'] = ''\n",
    "        eng_chk_list = []\n",
    "        for i in range(len(stwd_total)):\n",
    "\n",
    "            # 영문 소문자 체크 및 기록\n",
    "            if stwd_total.loc[i, 'stwd_eng'].islower():\n",
    "                tmp = pd.DataFrame(stwd_total.iloc[i,:]).transpose()\n",
    "                df_lower_eng = pd.concat([df_lower_eng, tmp], axis=0)\n",
    "                print(\"----------------------영문 소문자 체크 및 기록--------------------|\")\n",
    "                print('index: ' + str(i))\n",
    "                print(stwd_total.loc[i, 'stwd_eng'] + \" -> \" + str(stwd_total.loc[i, 'stwd_eng'].upper()))\n",
    "                eng_chk_list.append(i)\n",
    "\n",
    "                # 영문 변경 이력 저장\n",
    "                stwd_total.loc[i, 'eng_lower'] = stwd_total.loc[i, 'stwd_eng']      \n",
    "\n",
    "                # 영문 대문자 변경\n",
    "                stwd_total.loc[i, 'stwd_eng'] = stwd_total.loc[i, 'stwd_eng'].upper()\n",
    "\n",
    "            # 영문 대문자, 숫자, 한글만 체크\n",
    "            cor_eng = re.findall('[A-Z0-9+]', stwd_total.loc[i, 'stwd_eng'])\n",
    "            chk_eng = len(cor_eng) == len(list(stwd_total.loc[i, 'stwd_eng']))\n",
    "\n",
    "            if bool(chk_eng) == False:\n",
    "                print(\"-----------------------------특수기호제거----------------------------|\")\n",
    "                print('index: ' + str(i))\n",
    "                print(stwd_total.loc[i, 'stwd_eng'] + \" -> \" + str(''.join(cor_eng)))\n",
    "                eng_chk_list.append(i)\n",
    "\n",
    "            # 영문대문자, 숫자 외 변경 이력 저장\n",
    "            stwd_total.loc[i, 'eng_ec'] = re.sub('[A-Z0-9+]', '', stwd_total.loc[i, 'stwd_eng'])        \n",
    "\n",
    "            # 영문대문자, 숫자 외 자동 삭제\n",
    "            stwd_total.loc[i, 'stwd_eng'] = ''.join(cor_eng)\n",
    "\n",
    "        # 변경 이력 저장\n",
    "        stwd_total['eng_cor_hist'] = ''\n",
    "        stwd_total['eng_cor_hist'] = stwd_total['eng_lower'] + stwd_total['eng_ec']\n",
    "\n",
    "        # 적용 후 결과값\n",
    "        print(\"====================================영문명 검토====================================|\")\n",
    "        print('소문자 처리: ' + str(len(df_lower_eng)) + '개')\n",
    "        stwd_total_eng_chk_1 = stwd_total.iloc[eng_chk_list]\n",
    "        print(\"나머지 제거: \"+ str(len(eng_chk_list)))\n",
    "        print('[자동 처리 완료하였습니다]')\n",
    "        \n",
    "    else:\n",
    "        print(\"잘못된 입력입니다( 'kor' / 'eng' )\")"
   ]
  },
  {
   "cell_type": "code",
   "execution_count": null,
   "id": "87a61f90",
   "metadata": {},
   "outputs": [],
   "source": [
    "stwd_total['stwd_kor'][2]"
   ]
  },
  {
   "cell_type": "code",
   "execution_count": null,
   "id": "45d72a49",
   "metadata": {},
   "outputs": [],
   "source": [
    "stwd_total['stwd_kor']"
   ]
  },
  {
   "cell_type": "code",
   "execution_count": null,
   "id": "0382e02a",
   "metadata": {},
   "outputs": [],
   "source": [
    "stwd_total.head()"
   ]
  },
  {
   "cell_type": "code",
   "execution_count": null,
   "id": "e59425a5",
   "metadata": {},
   "outputs": [],
   "source": [
    "df_lower_kor"
   ]
  },
  {
   "cell_type": "code",
   "execution_count": null,
   "id": "f6cec1f3",
   "metadata": {},
   "outputs": [],
   "source": []
  },
  {
   "cell_type": "code",
   "execution_count": null,
   "id": "2c1b59da",
   "metadata": {},
   "outputs": [],
   "source": [
    "stwd_total"
   ]
  },
  {
   "cell_type": "code",
   "execution_count": null,
   "id": "2103c77f",
   "metadata": {},
   "outputs": [],
   "source": [
    "stwd_total['stwd_kor'].str.upper()[0]"
   ]
  },
  {
   "cell_type": "code",
   "execution_count": null,
   "id": "b27dce4e",
   "metadata": {},
   "outputs": [],
   "source": [
    "stwd_total"
   ]
  },
  {
   "cell_type": "code",
   "execution_count": null,
   "id": "c4afe6fe",
   "metadata": {},
   "outputs": [],
   "source": [
    "stwd_total['stwd_cor_kor']"
   ]
  },
  {
   "cell_type": "code",
   "execution_count": null,
   "id": "9ddcb67e",
   "metadata": {},
   "outputs": [],
   "source": [
    "re.sub('', '[A-Z0-9가-힣+]', stwd_total['stwd_kor'][1])"
   ]
  },
  {
   "cell_type": "code",
   "execution_count": null,
   "id": "9e60542f",
   "metadata": {},
   "outputs": [],
   "source": [
    "stwd_total.loc[i, 'stwd_cor_kor']"
   ]
  },
  {
   "cell_type": "code",
   "execution_count": null,
   "id": "ea7ecdcd",
   "metadata": {},
   "outputs": [],
   "source": [
    "re.sub('[A-Z0-9가-힣+]', '', stwd_total['stwd_kor'][1])"
   ]
  },
  {
   "cell_type": "code",
   "execution_count": null,
   "id": "961327f3",
   "metadata": {},
   "outputs": [],
   "source": [
    "stwd_total.loc[i, 'stwd_kor'].upper()"
   ]
  },
  {
   "cell_type": "code",
   "execution_count": null,
   "id": "2fa0d9c1",
   "metadata": {},
   "outputs": [],
   "source": [
    "stwd_total['kor_ec'] = re.sub('[A-Z0-9가-힣+]', '', stwd_total['stwd_kor'])"
   ]
  },
  {
   "cell_type": "code",
   "execution_count": null,
   "id": "8a5bdd0c",
   "metadata": {},
   "outputs": [],
   "source": [
    "stwd_total.loc[0, 'kor_lower'] = stwd_total.loc[0, 'stwd_kor']\n",
    "stwd_total"
   ]
  },
  {
   "cell_type": "code",
   "execution_count": null,
   "id": "ca4d0b48",
   "metadata": {},
   "outputs": [],
   "source": [
    "stwd_total.loc[0, 'kor_lower'] = stwd_total.loc[0, 'stwd_kor']\n",
    "stwd_total"
   ]
  },
  {
   "cell_type": "code",
   "execution_count": null,
   "id": "ce59b425",
   "metadata": {},
   "outputs": [],
   "source": [
    " re.sub('[A-Z0-9가-힣+]', '', stwd_total.loc[i, 'stwd_kor'])"
   ]
  },
  {
   "cell_type": "code",
   "execution_count": null,
   "id": "299b7416",
   "metadata": {},
   "outputs": [],
   "source": [
    " re.sub('[A-Z0-9가-힣+]', '', stwd_total.loc[i, 'stwd_kor'])"
   ]
  },
  {
   "cell_type": "code",
   "execution_count": null,
   "id": "6702656b",
   "metadata": {},
   "outputs": [],
   "source": [
    "''.join(re.findall('[A-Z0-9가-힣+]', stwd_total.loc[i, 'stwd_kor']))"
   ]
  },
  {
   "cell_type": "code",
   "execution_count": null,
   "id": "7c2cdfae",
   "metadata": {},
   "outputs": [],
   "source": [
    "def yes_or_no(question):\n",
    "    while \"the answer is invalid\":\n",
    "        reply = str(input(question+' (y/n): ')).lower().strip()\n",
    "        if reply[0] == 'y':\n",
    "            return True\n",
    "        if reply[0] == 'n':\n",
    "            return False\n",
    "        else:\n",
    "            print(\"실패: 'y' 혹은 'n' 를 입력해 주세요\")"
   ]
  },
  {
   "cell_type": "code",
   "execution_count": 12,
   "id": "70f2fe57",
   "metadata": {},
   "outputs": [
    {
     "name": "stdout",
     "output_type": "stream",
     "text": [
      "데이터 검토를 재실행 하시겠습니까? (y/n): y\n",
      "----------------------영문 소문자 체크 및 기록--------------------|\n",
      "index: 0\n",
      "가입tds -> 가입TDS\n",
      "----------------------영문 소문자 체크 및 기록--------------------|\n",
      "index: 1358\n",
      "테스트ad -> 테스트AD\n",
      "-----------------------------특수기호제거----------------------------|\n",
      "index: 1767\n",
      "률(계획) -> 률계획\n",
      "-----------------------------특수기호제거----------------------------|\n",
      "index: 1869\n",
      "키-레코드 -> 키레코드\n",
      "-----------------------------특수기호제거----------------------------|\n",
      "index: 2277\n",
      "(계획) -> 계획\n",
      "-----------------------------특수기호제거----------------------------|\n",
      "index: 2278\n",
      "(계획) -> 계획\n",
      "-----------------------------특수기호제거----------------------------|\n",
      "index: 3150\n",
      "(학력) -> 학력\n",
      "-----------------------------특수기호제거----------------------------|\n",
      "index: 3151\n",
      "(학력) -> 학력\n",
      "-----------------------------특수기호제거----------------------------|\n",
      "index: 3368\n",
      "(미화) -> 미화\n",
      "-----------------------------특수기호제거----------------------------|\n",
      "index: 3373\n",
      "(미화) -> 미화\n",
      "-----------------------------특수기호제거----------------------------|\n",
      "index: 3510\n",
      "(%) -> \n",
      "-----------------------------특수기호제거----------------------------|\n",
      "index: 3603\n",
      "(학력) -> 학력\n",
      "-----------------------------특수기호제거----------------------------|\n",
      "index: 3604\n",
      "(학력) -> 학력\n",
      "-----------------------------특수기호제거----------------------------|\n",
      "index: 3638\n",
      "(학력) -> 학력\n",
      "-----------------------------특수기호제거----------------------------|\n",
      "index: 3639\n",
      "(학력) -> 학력\n",
      "-----------------------------특수기호제거----------------------------|\n",
      "index: 4775\n",
      "(계획) -> 계획\n",
      "-----------------------------특수기호제거----------------------------|\n",
      "index: 4912\n",
      "(계획) -> 계획\n",
      "-----------------------------특수기호제거----------------------------|\n",
      "index: 4934\n",
      "(계획) -> 계획\n",
      "-----------------------------특수기호제거----------------------------|\n",
      "index: 5146\n",
      "(空) -> \n",
      "-----------------------------특수기호제거----------------------------|\n",
      "index: 5147\n",
      "(空) -> \n",
      "-----------------------------특수기호제거----------------------------|\n",
      "index: 5148\n",
      "(空) -> \n",
      "-----------------------------특수기호제거----------------------------|\n",
      "index: 5149\n",
      "(空) -> \n",
      "-----------------------------특수기호제거----------------------------|\n",
      "index: 5150\n",
      "(空) -> \n",
      "-----------------------------특수기호제거----------------------------|\n",
      "index: 5157\n",
      "(空) -> \n",
      "-----------------------------특수기호제거----------------------------|\n",
      "index: 5158\n",
      "(空) -> \n",
      "-----------------------------특수기호제거----------------------------|\n",
      "index: 5159\n",
      "(空) -> \n",
      "-----------------------------특수기호제거----------------------------|\n",
      "index: 5160\n",
      "(空) -> \n",
      "-----------------------------특수기호제거----------------------------|\n",
      "index: 5161\n",
      "(空) -> \n",
      "-----------------------------특수기호제거----------------------------|\n",
      "index: 6223\n",
      "(누적) -> 누적\n",
      "-----------------------------특수기호제거----------------------------|\n",
      "index: 6224\n",
      "(최종합계) -> 최종합계\n",
      "====================================한글명 검토====================================|\n",
      "소문자 처리: 2개\n",
      "나머지 제거: 30\n",
      "[자동 처리 완료하였습니다]\n",
      "-----------------------------특수기호제거----------------------------|\n",
      "index: 0\n",
      "TEST!!! -> TEST\n",
      "----------------------영문 소문자 체크 및 기록--------------------|\n",
      "index: 1\n",
      "$^$^dasd -> $^$^DASD\n",
      "-----------------------------특수기호제거----------------------------|\n",
      "index: 1\n",
      "$^$^DASD -> DASD\n",
      "----------------------영문 소문자 체크 및 기록--------------------|\n",
      "index: 2\n",
      "asdf -> ASDF\n",
      "----------------------영문 소문자 체크 및 기록--------------------|\n",
      "index: 3\n",
      "$^$^dasd -> $^$^DASD\n",
      "-----------------------------특수기호제거----------------------------|\n",
      "index: 3\n",
      "$^$^DASD -> DASD\n",
      "----------------------영문 소문자 체크 및 기록--------------------|\n",
      "index: 4\n",
      "sdf -> SDF\n",
      "-----------------------------특수기호제거----------------------------|\n",
      "index: 5\n",
      "한글 여기 있지롱 -> \n",
      "----------------------영문 소문자 체크 및 기록--------------------|\n",
      "index: 6\n",
      "$^$^dasd -> $^$^DASD\n",
      "-----------------------------특수기호제거----------------------------|\n",
      "index: 6\n",
      "$^$^DASD -> DASD\n",
      "-----------------------------특수기호제거----------------------------|\n",
      "index: 7\n",
      "한글 여기 있지롱 -> \n",
      "-----------------------------특수기호제거----------------------------|\n",
      "index: 9\n",
      "한글여기있지롱 -> \n",
      "-----------------------------특수기호제거----------------------------|\n",
      "index: 10\n",
      "한글여기있지롱 -> \n",
      "-----------------------------특수기호제거----------------------------|\n",
      "index: 11\n",
      "한글eng섞었G -> G\n",
      "----------------------영문 소문자 체크 및 기록--------------------|\n",
      "index: 12\n",
      "asdgsd!!! -> ASDGSD!!!\n",
      "-----------------------------특수기호제거----------------------------|\n",
      "index: 12\n",
      "ASDGSD!!! -> ASDGSD\n",
      "----------------------영문 소문자 체크 및 기록--------------------|\n",
      "index: 13\n",
      "asdgsd!!! -> ASDGSD!!!\n",
      "-----------------------------특수기호제거----------------------------|\n",
      "index: 13\n",
      "ASDGSD!!! -> ASDGSD\n",
      "----------------------영문 소문자 체크 및 기록--------------------|\n",
      "index: 14\n",
      "asdgsd!!! -> ASDGSD!!!\n",
      "-----------------------------특수기호제거----------------------------|\n",
      "index: 14\n",
      "ASDGSD!!! -> ASDGSD\n",
      "----------------------영문 소문자 체크 및 기록--------------------|\n",
      "index: 15\n",
      "asdgsd!!! -> ASDGSD!!!\n",
      "-----------------------------특수기호제거----------------------------|\n",
      "index: 15\n",
      "ASDGSD!!! -> ASDGSD\n",
      "-----------------------------특수기호제거----------------------------|\n",
      "index: 16\n",
      "#@# -> \n",
      "----------------------영문 소문자 체크 및 기록--------------------|\n",
      "index: 17\n",
      "asgdas -> ASGDAS\n",
      "-----------------------------특수기호제거----------------------------|\n",
      "index: 19\n",
      "한글eng섞었G -> G\n",
      "-----------------------------특수기호제거----------------------------|\n",
      "index: 22\n",
      "한글 -> \n",
      "-----------------------------특수기호제거----------------------------|\n",
      "index: 23\n",
      "Y한O -> YO\n",
      "----------------------영문 소문자 체크 및 기록--------------------|\n",
      "index: 24\n",
      "fa -> FA\n",
      "----------------------영문 소문자 체크 및 기록--------------------|\n",
      "index: 25\n",
      "fa -> FA\n",
      "----------------------영문 소문자 체크 및 기록--------------------|\n",
      "index: 26\n",
      "fa -> FA\n",
      "----------------------영문 소문자 체크 및 기록--------------------|\n",
      "index: 27\n",
      "fa -> FA\n",
      "----------------------영문 소문자 체크 및 기록--------------------|\n",
      "index: 28\n",
      "fa -> FA\n",
      "----------------------영문 소문자 체크 및 기록--------------------|\n",
      "index: 29\n",
      "sd@# -> SD@#\n",
      "-----------------------------특수기호제거----------------------------|\n",
      "index: 29\n",
      "SD@# -> SD\n",
      "----------------------영문 소문자 체크 및 기록--------------------|\n",
      "index: 1368\n",
      "dsfd -> DSFD\n",
      "----------------------영문 소문자 체크 및 기록--------------------|\n",
      "index: 1372\n",
      "av -> AV\n",
      "-----------------------------특수기호제거----------------------------|\n",
      "index: 1380\n",
      "#$$# -> \n",
      "----------------------영문 소문자 체크 및 기록--------------------|\n",
      "index: 1386\n",
      "eng -> ENG\n",
      "----------------------영문 소문자 체크 및 기록--------------------|\n",
      "index: 1387\n",
      "go -> GO\n",
      "----------------------영문 소문자 체크 및 기록--------------------|\n",
      "index: 1393\n",
      "@#sdf -> @#SDF\n",
      "-----------------------------특수기호제거----------------------------|\n",
      "index: 1393\n",
      "@#SDF -> SDF\n",
      "----------------------영문 소문자 체크 및 기록--------------------|\n",
      "index: 2732\n",
      "df -> DF\n",
      "-----------------------------특수기호제거----------------------------|\n",
      "index: 2750\n",
      "섞었 -> \n",
      "-----------------------------특수기호제거----------------------------|\n",
      "index: 2751\n",
      "글두 -> \n",
      "-----------------------------특수기호제거----------------------------|\n",
      "index: 2757\n",
      "@TTT -> TTT\n",
      "----------------------영문 소문자 체크 및 기록--------------------|\n",
      "index: 4115\n",
      "g섞 -> G섞\n",
      "-----------------------------특수기호제거----------------------------|\n",
      "index: 4115\n",
      "G섞 -> G\n",
      "-----------------------------특수기호제거----------------------------|\n",
      "index: 5479\n",
      "었G -> G\n",
      "====================================영문명 검토====================================|\n",
      "소문자 처리: 23개\n",
      "나머지 제거: 48\n",
      "[자동 처리 완료하였습니다]\n"
     ]
    }
   ],
   "source": [
    "ans = yes_or_no(\"데이터 검토를 재실행 하시겠습니까?\")\n",
    "if ans == True:\n",
    "    emoti_chk('kor')\n",
    "    emoti_chk('eng')\n",
    "elif ans == False:\n",
    "    print(\"계속 진행하겠습니다\")\n"
   ]
  },
  {
   "cell_type": "code",
   "execution_count": 13,
   "id": "fd4a9467",
   "metadata": {},
   "outputs": [
    {
     "data": {
      "text/html": [
       "<div>\n",
       "<style scoped>\n",
       "    .dataframe tbody tr th:only-of-type {\n",
       "        vertical-align: middle;\n",
       "    }\n",
       "\n",
       "    .dataframe tbody tr th {\n",
       "        vertical-align: top;\n",
       "    }\n",
       "\n",
       "    .dataframe thead th {\n",
       "        text-align: right;\n",
       "    }\n",
       "</style>\n",
       "<table border=\"1\" class=\"dataframe\">\n",
       "  <thead>\n",
       "    <tr style=\"text-align: right;\">\n",
       "      <th></th>\n",
       "      <th>index</th>\n",
       "      <th>stwd_kor</th>\n",
       "      <th>num_kor</th>\n",
       "      <th>dupl_list_kor</th>\n",
       "      <th>stwd_eng</th>\n",
       "      <th>num_eng</th>\n",
       "      <th>dupl_list_eng</th>\n",
       "      <th>cor_hist</th>\n",
       "    </tr>\n",
       "  </thead>\n",
       "  <tbody>\n",
       "    <tr>\n",
       "      <th>0</th>\n",
       "      <td>1</td>\n",
       "      <td>가입TDS</td>\n",
       "      <td>num_kor0</td>\n",
       "      <td>1</td>\n",
       "      <td>TEST</td>\n",
       "      <td>num_eng0</td>\n",
       "      <td>1</td>\n",
       "      <td>가입tds,!!!</td>\n",
       "    </tr>\n",
       "    <tr>\n",
       "      <th>1</th>\n",
       "      <td>2</td>\n",
       "      <td>개설</td>\n",
       "      <td>num_kor0</td>\n",
       "      <td>1</td>\n",
       "      <td>DASD</td>\n",
       "      <td>num_eng0</td>\n",
       "      <td>3</td>\n",
       "      <td>,$^$^dasd$^$^</td>\n",
       "    </tr>\n",
       "    <tr>\n",
       "      <th>2</th>\n",
       "      <td>3</td>\n",
       "      <td>개시</td>\n",
       "      <td>num_kor0</td>\n",
       "      <td>1</td>\n",
       "      <td>ASDF</td>\n",
       "      <td>num_eng0</td>\n",
       "      <td>1</td>\n",
       "      <td>,asdf</td>\n",
       "    </tr>\n",
       "    <tr>\n",
       "      <th>3</th>\n",
       "      <td>4</td>\n",
       "      <td>개업</td>\n",
       "      <td>num_kor0</td>\n",
       "      <td>1</td>\n",
       "      <td>DASD</td>\n",
       "      <td>num_eng0</td>\n",
       "      <td>3</td>\n",
       "      <td>,$^$^dasd$^$^</td>\n",
       "    </tr>\n",
       "    <tr>\n",
       "      <th>4</th>\n",
       "      <td>5</td>\n",
       "      <td>개인</td>\n",
       "      <td>num_kor0</td>\n",
       "      <td>1</td>\n",
       "      <td>SDF</td>\n",
       "      <td>num_eng0</td>\n",
       "      <td>1</td>\n",
       "      <td>,sdf</td>\n",
       "    </tr>\n",
       "    <tr>\n",
       "      <th>...</th>\n",
       "      <td>...</td>\n",
       "      <td>...</td>\n",
       "      <td>...</td>\n",
       "      <td>...</td>\n",
       "      <td>...</td>\n",
       "      <td>...</td>\n",
       "      <td>...</td>\n",
       "      <td>...</td>\n",
       "    </tr>\n",
       "    <tr>\n",
       "      <th>13635</th>\n",
       "      <td>1360</td>\n",
       "      <td></td>\n",
       "      <td>num_kor9</td>\n",
       "      <td>1363</td>\n",
       "      <td></td>\n",
       "      <td></td>\n",
       "      <td></td>\n",
       "      <td>,</td>\n",
       "    </tr>\n",
       "    <tr>\n",
       "      <th>13636</th>\n",
       "      <td>1361</td>\n",
       "      <td></td>\n",
       "      <td>num_kor9</td>\n",
       "      <td>1363</td>\n",
       "      <td></td>\n",
       "      <td></td>\n",
       "      <td></td>\n",
       "      <td>,</td>\n",
       "    </tr>\n",
       "    <tr>\n",
       "      <th>13637</th>\n",
       "      <td>1362</td>\n",
       "      <td></td>\n",
       "      <td>num_kor9</td>\n",
       "      <td>1363</td>\n",
       "      <td></td>\n",
       "      <td></td>\n",
       "      <td></td>\n",
       "      <td>,</td>\n",
       "    </tr>\n",
       "    <tr>\n",
       "      <th>13638</th>\n",
       "      <td>1363</td>\n",
       "      <td></td>\n",
       "      <td>num_kor9</td>\n",
       "      <td>1363</td>\n",
       "      <td></td>\n",
       "      <td></td>\n",
       "      <td></td>\n",
       "      <td>,</td>\n",
       "    </tr>\n",
       "    <tr>\n",
       "      <th>13639</th>\n",
       "      <td>1364</td>\n",
       "      <td></td>\n",
       "      <td>num_kor9</td>\n",
       "      <td>1363</td>\n",
       "      <td></td>\n",
       "      <td></td>\n",
       "      <td></td>\n",
       "      <td>,</td>\n",
       "    </tr>\n",
       "  </tbody>\n",
       "</table>\n",
       "<p>13640 rows × 8 columns</p>\n",
       "</div>"
      ],
      "text/plain": [
       "       index stwd_kor   num_kor  dupl_list_kor stwd_eng   num_eng  \\\n",
       "0          1    가입TDS  num_kor0              1     TEST  num_eng0   \n",
       "1          2       개설  num_kor0              1     DASD  num_eng0   \n",
       "2          3       개시  num_kor0              1     ASDF  num_eng0   \n",
       "3          4       개업  num_kor0              1     DASD  num_eng0   \n",
       "4          5       개인  num_kor0              1      SDF  num_eng0   \n",
       "...      ...      ...       ...            ...      ...       ...   \n",
       "13635   1360           num_kor9           1363                      \n",
       "13636   1361           num_kor9           1363                      \n",
       "13637   1362           num_kor9           1363                      \n",
       "13638   1363           num_kor9           1363                      \n",
       "13639   1364           num_kor9           1363                      \n",
       "\n",
       "      dupl_list_eng       cor_hist  \n",
       "0                 1      가입tds,!!!  \n",
       "1                 3  ,$^$^dasd$^$^  \n",
       "2                 1          ,asdf  \n",
       "3                 3  ,$^$^dasd$^$^  \n",
       "4                 1           ,sdf  \n",
       "...             ...            ...  \n",
       "13635                            ,  \n",
       "13636                            ,  \n",
       "13637                            ,  \n",
       "13638                            ,  \n",
       "13639                            ,  \n",
       "\n",
       "[13640 rows x 8 columns]"
      ]
     },
     "execution_count": 13,
     "metadata": {},
     "output_type": "execute_result"
    }
   ],
   "source": [
    "stwd_total['cor_hist'] = stwd_total['kor_cor_hist'] + \"/\" + stwd_total['eng_cor_hist'] \n",
    "tmp_list = ['index', 'stwd_kor', 'num_kor', 'dupl_list_kor', 'stwd_eng', 'num_eng', 'dupl_list_eng', 'cor_hist']\n",
    "stwd_total = stwd_total[tmp_list]\n",
    "stwd_total"
   ]
  },
  {
   "cell_type": "code",
   "execution_count": null,
   "id": "7fa8f1dc",
   "metadata": {},
   "outputs": [],
   "source": [
    "stwd_total"
   ]
  },
  {
   "cell_type": "code",
   "execution_count": null,
   "id": "810be5f6",
   "metadata": {},
   "outputs": [],
   "source": [
    "if yes_or_no(\"데이터 검토를 재실행 하시겠습니까?\") == True:\n",
    "    emoti_chk('kor')\n",
    "    emoti_chk('eng')\n",
    "else:\n",
    "    print(\"계속 진행하겠습니다\")"
   ]
  },
  {
   "cell_type": "code",
   "execution_count": null,
   "id": "bcab245b",
   "metadata": {},
   "outputs": [],
   "source": [
    "stwd_total"
   ]
  },
  {
   "cell_type": "code",
   "execution_count": null,
   "id": "249118e0",
   "metadata": {},
   "outputs": [],
   "source": [
    "yes_or_no(\"데이터 검토를 재실행 하시겠습니까?\")"
   ]
  },
  {
   "cell_type": "code",
   "execution_count": null,
   "id": "c762ed89",
   "metadata": {},
   "outputs": [],
   "source": [
    "# 컬럼 정리\n",
    "stwd_total_list = ['index', 'stwd_eng', 'num_eng', \n",
    "                   'dupl_list_eng', 'stwd_eng', 'num_eng', 'dupl_list_eng', 'eng_cor_hist']\n",
    "stwd_total = stwd_total[stwd_total_list]"
   ]
  },
  {
   "cell_type": "code",
   "execution_count": null,
   "id": "870c5a06",
   "metadata": {},
   "outputs": [],
   "source": [
    "stwd_total"
   ]
  },
  {
   "cell_type": "code",
   "execution_count": null,
   "id": "70dede17",
   "metadata": {},
   "outputs": [],
   "source": [
    "emti_chk('kor')\n",
    "stwd_total.iloc[[5161,6223]]"
   ]
  },
  {
   "cell_type": "code",
   "execution_count": null,
   "id": "bbc2c6a6",
   "metadata": {},
   "outputs": [],
   "source": [
    "emti_chk('eng')\n",
    "stwd_total.iloc[[5,6]]"
   ]
  },
  {
   "cell_type": "code",
   "execution_count": null,
   "id": "c41ff250",
   "metadata": {},
   "outputs": [],
   "source": []
  },
  {
   "cell_type": "code",
   "execution_count": null,
   "id": "b2f2b0b9",
   "metadata": {},
   "outputs": [],
   "source": []
  },
  {
   "cell_type": "code",
   "execution_count": null,
   "id": "ec3cc713",
   "metadata": {},
   "outputs": [],
   "source": [
    "stwd_total"
   ]
  },
  {
   "cell_type": "code",
   "execution_count": null,
   "id": "4287ca79",
   "metadata": {},
   "outputs": [],
   "source": [
    "반복하시겠습니까?"
   ]
  },
  {
   "cell_type": "code",
   "execution_count": null,
   "id": "0af07467",
   "metadata": {},
   "outputs": [],
   "source": []
  },
  {
   "cell_type": "code",
   "execution_count": null,
   "id": "d1649714",
   "metadata": {},
   "outputs": [],
   "source": []
  },
  {
   "cell_type": "code",
   "execution_count": null,
   "id": "3f7595d0",
   "metadata": {},
   "outputs": [],
   "source": [
    "re.findall('[A-Z0-9가-힣+]', stwd_total.loc[3638, 'stwd_kor'])"
   ]
  },
  {
   "cell_type": "code",
   "execution_count": null,
   "id": "fcb28d72",
   "metadata": {},
   "outputs": [],
   "source": [
    "re.sub('[A-Z0-9가-힣+]', '', stwd_total.loc[5161, 'stwd_kor'])"
   ]
  },
  {
   "cell_type": "code",
   "execution_count": null,
   "id": "370afdbc",
   "metadata": {},
   "outputs": [],
   "source": [
    "stwd_total.loc[stwd_total['stwd_kor']=='누적']"
   ]
  },
  {
   "cell_type": "code",
   "execution_count": null,
   "id": "8d795240",
   "metadata": {},
   "outputs": [],
   "source": []
  },
  {
   "cell_type": "code",
   "execution_count": null,
   "id": "eb030f18",
   "metadata": {},
   "outputs": [],
   "source": [
    "kor_chk_list"
   ]
  },
  {
   "cell_type": "code",
   "execution_count": null,
   "id": "29f1b92b",
   "metadata": {},
   "outputs": [],
   "source": [
    "stwd_total_kor_chk_1"
   ]
  },
  {
   "cell_type": "code",
   "execution_count": null,
   "id": "57e91249",
   "metadata": {},
   "outputs": [],
   "source": [
    "# stwd_total['cor_hist'] = stwd_total['kor_lower'] + \"/\" + stwd_total['kor_ec']\n",
    "stwd_total['cor_hist'][1767]"
   ]
  },
  {
   "cell_type": "code",
   "execution_count": null,
   "id": "a0c20045",
   "metadata": {},
   "outputs": [],
   "source": [
    "# 한글명에 영문 소문자 탐색\n",
    "df_lower_eng = pd.DataFrame(columns = stwd_total.columns)        \n",
    "stwd_total['eng_lower'] = ''\n",
    "stwd_total['eng_ec'] = ''\n",
    "stwd_total['stwd_cor_eng'] = ''\n",
    "eng_chk_list = []\n",
    "for i in range(len(stwd_total)):\n",
    "    \n",
    "#     특수기호 제거\n",
    "#     stwd_total.loc[i, 'stwd_eng'] =  stwd_total.loc[i, 'stwd_eng'].translate(str.maketrans('', '', string.punctuation))\n",
    "    \n",
    "    # 영문 소문자 체크 및 기록\n",
    "    if stwd_total.loc[i, 'stwd_eng'].islower():\n",
    "        tmp = pd.DataFrame(stwd_total.iloc[i,:]).transpose()\n",
    "        df_lower_eng = pd.concat([df_lower_eng, tmp], axis=0)\n",
    "        print(\"----------------------영문 소문자 체크 및 기록--------------------|\")\n",
    "        print('index: ' + str(i))\n",
    "        print(stwd_total.loc[i, 'stwd_eng'] + \" -> \" + str(stwd_total.loc[i, 'stwd_eng'].upper()))\n",
    "        eng_chk_list.append(i)\n",
    "        \n",
    "        # 영문 변경 이력 저장\n",
    "        stwd_total.loc[i, 'eng_lower'] = stwd_total.loc[i, 'stwd_eng']      \n",
    "        \n",
    "        # 영문 대문자 변경\n",
    "        stwd_total.loc[i, 'stwd_eng'] = stwd_total.loc[i, 'stwd_eng'].upper()\n",
    "\n",
    "\n",
    "\n",
    "    # 영문 대문자, 숫자, 한글만 체크\n",
    "    cor_eng = re.findall('[A-Z0-9가-힣+]', stwd_total.loc[i, 'stwd_eng'])\n",
    "    chk_eng = len(cor_eng) == len(list(stwd_total.loc[i, 'stwd_eng']))\n",
    "   \n",
    "    if bool(chk_eng) == False:\n",
    "        print(\"-----------------------------특수기호제거----------------------------|\")\n",
    "        print('index: ' + str(i))\n",
    "        print(stwd_total.loc[i, 'stwd_eng'] + \" -> \" + str(''.join(cor_eng)))\n",
    "        eng_chk_list.append(i)\n",
    "        \n",
    "    # 영문대문자, 숫자, 한글 외 자동 삭제\n",
    "    stwd_total['stwd_cor_eng'] = re.sub('[A-Z0-9가-힣+]', '', stwd_total.loc[i, 'stwd_eng'])\n",
    "    # 영문대문자, 숫자, 한글 외 변경 이력 저장\n",
    "    stwd_total.loc[i, 'eng_ec'] = re.sub('[A-Z0-9가-힣+]', '', stwd_total.loc[i, 'stwd_eng'])\n",
    "\n",
    "\n",
    "stwd_total['cor_hist'] = stwd_total['eng_lower'] + stwd_total['eng_ec']\n",
    "stwd_total['cor_hist'] \n",
    "# 적용 후 결과값\n",
    "print('소문자 변경된 값: ' + str(len(df_lower_eng)) + '개')\n",
    "print(df_lower_eng)\n",
    "stwd_total.head(10)\n",
    "\n",
    "#     stwd_total.loc[i,'stwd_eng_chk'] = cor_eng\n",
    "stwd_total_eng_chk_1 = stwd_total.iloc[eng_chk_list]\n",
    "print('[자동 처리 완료하였습니다]')\n",
    "print(\"eng_chk_list: \"+ str(len(eng_chk_list)))\n",
    "# stwd_total_manu1\n",
    "stwd_total.head(10)"
   ]
  },
  {
   "cell_type": "code",
   "execution_count": null,
   "id": "d78c3e15",
   "metadata": {},
   "outputs": [],
   "source": [
    "stwd_total['cor_hist'] = str(stwd_total['kor_lower']) + str(stwd_total['kor_ec'])\n",
    "stwd_total['cor_hist'] "
   ]
  },
  {
   "cell_type": "code",
   "execution_count": null,
   "id": "639a53a5",
   "metadata": {},
   "outputs": [],
   "source": [
    "stwd_total['cor_hist'] = stwd_total['kor_lower'].str() + stwd_total['kor_ec'].str()\n",
    "stwd_total['cor_hist'] "
   ]
  },
  {
   "cell_type": "code",
   "execution_count": null,
   "id": "9399a7a9",
   "metadata": {},
   "outputs": [],
   "source": []
  },
  {
   "cell_type": "code",
   "execution_count": null,
   "id": "214e520c",
   "metadata": {},
   "outputs": [],
   "source": [
    "stwd_total.loc[stwd_total['kor_ec']!=\"\"] "
   ]
  },
  {
   "cell_type": "code",
   "execution_count": null,
   "id": "6afcd2bd",
   "metadata": {},
   "outputs": [],
   "source": [
    "stwd_total['cor_hist']"
   ]
  },
  {
   "cell_type": "code",
   "execution_count": null,
   "id": "4353c7e4",
   "metadata": {},
   "outputs": [],
   "source": [
    "stwd_total['kor_ec'][5161]"
   ]
  },
  {
   "cell_type": "code",
   "execution_count": null,
   "id": "da38a786",
   "metadata": {},
   "outputs": [],
   "source": [
    "stwd_total.loc[[5161, 6223]]"
   ]
  },
  {
   "cell_type": "code",
   "execution_count": null,
   "id": "95a85f45",
   "metadata": {},
   "outputs": [],
   "source": [
    "# 영문명에 한글명 포함되었는가 탐색\\\n",
    "        \n",
    "# 한글 영어 최종 검색\n",
    "print('[자동 처리 시작합니다]')\n",
    "chk_list = []\n",
    "stwd_total['stwd_cor_kor'] = ''\n",
    "for i in range(len(stwd_total)):\n",
    "\n",
    "    cor_kor = re.findall('[A-Z0-9가-힣+]', stwd_total['stwd_kor'][i])\n",
    "    chk_kor = len(cor_kor) == len(list(stwd_total['stwd_kor'][i]))\n",
    "   \n",
    "    if bool(chk_kor) == False:\n",
    "        print(\"-----------------------------------------------------------------|\")\n",
    "        print('index: ' + str(i))\n",
    "        print(stwd_total['stwd_kor'][i] + \" -> \" + str(''.join(cor_kor)))\n",
    "        chk_list.append(i)\n",
    "    stwd_total['stwd_cor_kor'] = re.sub('[A-Z0-9가-힣+]', '', stwd_total['stwd_kor'][i])\n",
    "\n",
    "    \n",
    "#     stwd_total.loc[i,'stwd_kor_chk'] = cor_kor\n",
    "stwd_total_manu1 = stwd_total.iloc[chk_list]\n",
    "print('[자동 처리 완료하였습니다]')\n",
    "print(\"chk_list: \"+ str(len(chk_list)))\n",
    "stwd_total_manu1\n",
    "\n",
    "    ################# 파일 생성 처리 로직########################"
   ]
  },
  {
   "cell_type": "code",
   "execution_count": null,
   "id": "f1855015",
   "metadata": {},
   "outputs": [],
   "source": []
  },
  {
   "cell_type": "code",
   "execution_count": null,
   "id": "d12016ce",
   "metadata": {},
   "outputs": [],
   "source": []
  },
  {
   "cell_type": "code",
   "execution_count": null,
   "id": "3bbbf485",
   "metadata": {},
   "outputs": [],
   "source": [
    "# 영문명에 한글명 포함되었는가 탐색\\\n",
    "        \n",
    "# 한글 영어 최종 검색\n",
    "print('[자동 처리 시작합니다]')\n",
    "chk_list = []\n",
    "stwd_total['stwd_cor_kor'] = ''\n",
    "for i in range(len(stwd_total)):\n",
    "    cor_kor = re.findall('[A-Z0-9가-힣+]', stwd_total['stwd_kor'][i])\n",
    "    chk_kor = len(cor_kor) == len(list(stwd_total['stwd_kor'][i]))\n",
    "   \n",
    "    if bool(chk_kor) == False:\n",
    "        print(\"-----------------------------------------------------------------|\")\n",
    "        print('index: ' + str(i))\n",
    "        print(stwd_total['stwd_kor'][i] + \" -> \" + str(''.join(cor_kor)))\n",
    "        chk_list.append(i)\n",
    "    stwd_total['stwd_cor_kor'] = re.sub('[A-Z0-9가-힣+]', '', stwd_total['stwd_kor'][i])\n",
    "\n",
    "    \n",
    "#     stwd_total.loc[i,'stwd_kor_chk'] = cor_kor\n",
    "stwd_total_manu1 = stwd_total.iloc[chk_list]\n",
    "print('[자동 처리 완료하였습니다]')\n",
    "print(\"chk_list: \"+ str(len(chk_list)))\n",
    "stwd_total_manu1\n"
   ]
  },
  {
   "cell_type": "code",
   "execution_count": null,
   "id": "d7c1cca9",
   "metadata": {},
   "outputs": [],
   "source": [
    "#####################################################################\n",
    "# 특수기호 제거\n",
    "\n",
    "# (테스트) 특수기호 제거 \n",
    "stwd_total.loc[0, 'stwd_kor'] = stwd_total.loc[0, 'stwd_kor'] + '!!@(#$!@$!@$'\n",
    "print('[test] 적용 전: ' + stwd_total.loc[0, 'stwd_kor'])\n",
    "\n",
    "# 한글 특수기호 제거\n",
    "for i in range(stwd_total_cnt):\n",
    "    stwd_total.loc[i, 'stwd_kor'] =  stwd_total['stwd_kor'][i].translate(str.maketrans('', '', string.punctuation))\n",
    "#     stwd_total['stwd_kor'][i] = stwd_total['stwd_kor'][i].translate(str.maketrans('', '', string.punctuation)) # 안됨!!!\n",
    "    cnt += i\n",
    "print('[test] 적용 후: ' + str(stwd_total.loc[0, 'stwd_kor']))\n",
    "print(cnt)\n",
    "stwd_total\n",
    "\n",
    "# (테스트) 특수기호 제거\n",
    "stwd_total.loc[6, 'stwd_eng'] = str(stwd_total.loc[6, 'stwd_eng']) + '!@#$_'\n",
    "print('[test] 적용 전: ' + stwd_total.loc[6, 'stwd_eng'])\n",
    "\n",
    "# 영문 특수기호 제거\n",
    "for i in range(stwd_total_cnt):\n",
    "    stwd_total.loc[i, 'stwd_eng'] =  stwd_total['stwd_eng'][i].translate(str.maketrans('', '', string.punctuation))\n",
    "    cnt += i\n",
    "print('[test] 적용 후: ' + str(stwd_total.loc[6, 'stwd_eng']))\n",
    "print(cnt)\n",
    "stwd_total"
   ]
  },
  {
   "cell_type": "code",
   "execution_count": null,
   "id": "ffb32b6b",
   "metadata": {},
   "outputs": [],
   "source": [
    "df_lower_kor"
   ]
  },
  {
   "cell_type": "code",
   "execution_count": null,
   "id": "d2f0a47c",
   "metadata": {},
   "outputs": [],
   "source": [
    "tmp"
   ]
  },
  {
   "cell_type": "code",
   "execution_count": null,
   "id": "b4f60c16",
   "metadata": {},
   "outputs": [],
   "source": [
    "stwd_total['stwd_kor'].str.upper()[1358]"
   ]
  },
  {
   "cell_type": "code",
   "execution_count": null,
   "id": "916da7fa",
   "metadata": {},
   "outputs": [],
   "source": [
    "#####################################################################\n",
    "# 한글 소문자 탐색 \n",
    "test = 'test'\n",
    "stwd_total.loc[2, 'stwd_kor'] = stwd_total.loc[2, 'stwd_kor'] + test\n",
    "print('[test] 적용 전(가짜): ' + stwd_total.loc[2, 'stwd_kor'])\n",
    "df_lower_kor = pd.DataFrame(columns = stwd_total.columns)\n",
    "for i in range(stwd_total_cnt):\n",
    "    if stwd_total['stwd_kor'][i].islower():\n",
    "        tmp = pd.DataFrame(stwd_total.iloc[i,:]).transpose()\n",
    "        df_lower_kor = pd.concat([df_lower_kor, tmp], axis=0)\n",
    "stwd_total['stwd_kor_old'] = stwd_total['stwd_kor']\n",
    "stwd_total['stwd_kor'] = stwd_total['stwd_kor'].str.upper()\n",
    "\n",
    "# 적용 후 결과값\n",
    "print('[test] 적용 후(대문자): ' + stwd_total.loc[2, 'stwd_kor'])\n",
    "stwd_total.loc[2, 'stwd_kor'] = stwd_total.loc[2, 'stwd_kor'].strip(test.upper())\n",
    "print('[test] 복구: 개시')\n",
    "print('변경된 값: ' + str(len(df_lower_kor)) + '개')\n",
    "stwd_total.head()\n",
    "\n",
    "# 영문 소문자 탐색 \n",
    "print('[test] 적용 전(소문자): ' + stwd_total.loc[2, 'stwd_eng'])\n",
    "df_lower_eng = pd.DataFrame(columns = stwd_total.columns)\n",
    "for i in range(stwd_total_cnt):\n",
    "    if stwd_total['stwd_eng'][i].islower():\n",
    "        tmp = pd.DataFrame(stwd_total.iloc[i,:]).transpose()\n",
    "        df_lower_eng = pd.concat([df_lower_eng, tmp], axis=0)\n",
    "stwd_total['stwd_eng_old'] = stwd_total['stwd_eng']\n",
    "stwd_total['stwd_eng'] = stwd_total['stwd_eng'].str.upper()\n",
    "\n",
    "# 적용 후 결과값\n",
    "print('[test] 적용 후(대문자): ' + stwd_total.loc[2, 'stwd_eng'])\n",
    "print('변경된 값: ' + str(len(df_lower_eng)) + '개')\n",
    "stwd_total.head()"
   ]
  },
  {
   "cell_type": "code",
   "execution_count": null,
   "id": "c7c76356",
   "metadata": {
    "scrolled": true
   },
   "outputs": [],
   "source": []
  },
  {
   "cell_type": "code",
   "execution_count": null,
   "id": "286b0f69",
   "metadata": {},
   "outputs": [],
   "source": [
    "# 띄어쓰기 제거(다시)\n",
    "stwd_total['stwd_kor'] = stwd_total['stwd_kor'].str.replace(\" \", \"\")\n",
    "stwd_total['stwd_eng'] = stwd_total['stwd_eng'].str.replace(\" \", \"\")\n",
    "print(stwd_total.shape)\n",
    "stwd_total.head(500)"
   ]
  },
  {
   "cell_type": "markdown",
   "id": "92641bf1",
   "metadata": {},
   "source": [
    "# 참고"
   ]
  },
  {
   "cell_type": "markdown",
   "id": "03627650",
   "metadata": {},
   "source": []
  },
  {
   "cell_type": "code",
   "execution_count": null,
   "id": "7af56dab",
   "metadata": {},
   "outputs": [],
   "source": [
    "# 영문명에 한글명 포함되었는가 탐색\\\n",
    "        \n",
    "# 한글 영어 최종 검색\n",
    "print('[자동 처리 시작합니다]')\n",
    "chk_list = []\n",
    "stwd_total['stwd_cor_kor'] = ''\n",
    "for i in range(len(stwd_total)):\n",
    "    cor_kor = re.findall('[A-Z0-9가-힣+]', stwd_total['stwd_kor'][i])\n",
    "    chk_kor = len(cor_kor) == len(list(stwd_total['stwd_kor'][i]))\n",
    "   \n",
    "    if bool(chk_kor) == False:\n",
    "        print(\"-----------------------------------------------------------------|\")\n",
    "        print('index: ' + str(i))\n",
    "        print(stwd_total['stwd_kor'][i] + \" -> \" + str(''.join(cor_kor)))\n",
    "        chk_list.append(i)\n",
    "    stwd_total['stwd_cor_kor'] = re.sub('[A-Z0-9가-힣+]', '', stwd_total['stwd_kor'][i])\n",
    "\n",
    "    \n",
    "#     stwd_total.loc[i,'stwd_kor_chk'] = cor_kor\n",
    "stwd_total_manu1 = stwd_total.iloc[chk_list]\n",
    "print('[자동 처리 완료하였습니다]')\n",
    "print(\"chk_list: \"+ str(len(chk_list)))\n",
    "stwd_total_manu1\n",
    "\n",
    "    ################# 파일 생성 처리 로직########################"
   ]
  },
  {
   "cell_type": "code",
   "execution_count": null,
   "id": "49275709",
   "metadata": {},
   "outputs": [],
   "source": [
    "# 영문 최종 검색\n",
    "print('[자동 처리 시작합니다]')\n",
    "chk_list = []\n",
    "stwd_total['stwd_cor_eng'] = ''\n",
    "for i in range(len(stwd_total)):\n",
    "    cor_eng = re.findall('[A-Z0-9+]', stwd_total['stwd_eng'][i])\n",
    "    chk_eng = len(cor_eng) == len(list(stwd_total['stwd_eng'][i]))\n",
    "   \n",
    "    if bool(chk_eng) == False:\n",
    "        print(\"-----------------------------------------------------------------|\")\n",
    "        print('index: ' + str(i))\n",
    "        print(stwd_total['stwd_eng'][i] + \" -> \" + str(''.join(cor_eng)))\n",
    "        chk_list.append(i)\n",
    "    stwd_total['stwd_cor_eng'] = re.sub('[A-Z0-9+]', '', stwd_total['stwd_eng'][i])\n",
    "\n",
    "    \n",
    "#     stwd_total.loc[i,'stwd_eng_chk'] = cor_eng\n",
    "stwd_total_manu1 = stwd_total.iloc[chk_list]\n",
    "print('[자동 처리 완료하였습니다]')\n",
    "print(\"chk_list: \"+ str(len(chk_list)))\n",
    "stwd_total_manu1\n",
    "\n",
    "    ################# 파일 생성 처리 로직########################"
   ]
  },
  {
   "cell_type": "code",
   "execution_count": null,
   "id": "72ca156f",
   "metadata": {},
   "outputs": [],
   "source": [
    "dsfsdfsdf"
   ]
  },
  {
   "cell_type": "code",
   "execution_count": null,
   "id": "fa7759ad",
   "metadata": {},
   "outputs": [],
   "source": []
  },
  {
   "cell_type": "code",
   "execution_count": null,
   "id": "464ea162",
   "metadata": {},
   "outputs": [],
   "source": []
  },
  {
   "cell_type": "code",
   "execution_count": null,
   "id": "bb32c3f9",
   "metadata": {},
   "outputs": [],
   "source": [
    "# 한글, 영문, 숫자 외에 표시\n",
    "for i in range(stwd_total_cnt):\n",
    "    stwd_total.loc[i, 'stwd_kor'] =  stwd_total['stwd_kor'][i].translate(str.maketrans('', '', string.punctuation))\n",
    "#     stwd_total['stwd_kor'][i] = stwd_total['stwd_kor'][i].translate(str.maketrans('', '', string.punctuation)) # 안됨!!!\n",
    "    cnt += i\n",
    "print('[test] 적용 후: ' + str(stwd_total.loc[0, 'stwd_kor']))\n",
    "print(cnt)\n",
    "stwd_total"
   ]
  },
  {
   "cell_type": "code",
   "execution_count": null,
   "id": "797c3048",
   "metadata": {},
   "outputs": [],
   "source": []
  },
  {
   "cell_type": "code",
   "execution_count": null,
   "id": "1e56c9ca",
   "metadata": {},
   "outputs": [],
   "source": []
  },
  {
   "cell_type": "code",
   "execution_count": null,
   "id": "1f944474",
   "metadata": {},
   "outputs": [],
   "source": [
    "stwd_total['stwd_kor'][10] = '검토aA'\n",
    "stwd_total['stwd_kor'][10]"
   ]
  },
  {
   "cell_type": "code",
   "execution_count": null,
   "id": "1f296d17",
   "metadata": {},
   "outputs": [],
   "source": [
    "stwd_total['stwd_kor'][10]"
   ]
  },
  {
   "cell_type": "code",
   "execution_count": null,
   "id": "35531df9",
   "metadata": {},
   "outputs": [],
   "source": [
    "stwd_total['stwd_kor'][i].translate(str.maketrans('', '', string.punctuation))"
   ]
  },
  {
   "cell_type": "code",
   "execution_count": null,
   "id": "b0eeeb80",
   "metadata": {},
   "outputs": [],
   "source": [
    "stwd_total.loc[i, 'stwd_kor'] =  stwd_total['stwd_kor'][i].translate(str.maketrans('', '', string.punctuation))"
   ]
  },
  {
   "cell_type": "code",
   "execution_count": null,
   "id": "aac000a4",
   "metadata": {},
   "outputs": [],
   "source": [
    "# 특수기호 제거\n",
    "\n",
    "# (테스트) 특수기호 제거 \n",
    "stwd_total.loc[0, 'stwd_kor'] = stwd_total.loc[0, 'stwd_kor'] + '!!@(#$!@$!@$'\n",
    "print('[test] 적용 전: ' + stwd_total.loc[0, 'stwd_kor'])\n",
    "\n",
    "# 한글 특수기호 제거\n",
    "stwd_total_cnt = len(stwd_total['stwd_kor'])\n",
    "for i in range(stwd_total_cnt):\n",
    "    stwd_total.loc[i, 'stwd_kor'] =  stwd_total['stwd_kor'][i].translate(str.maketrans('', '', string.punctuation))\n",
    "#     stwd_total['stwd_kor'][i] = stwd_total['stwd_kor'][i].translate(str.maketrans('', '', string.punctuation)) # 안됨!!!\n",
    "    cnt += i\n",
    "print('[test] 적용 후: ' + str(stwd_total.loc[0, 'stwd_kor']))\n",
    "print(cnt)\n",
    "stwd_total\n",
    "\n",
    "# (테스트) 특수기호 제거\n",
    "stwd_total.loc[6, 'stwd_eng'] = str(stwd_total.loc[6, 'stwd_eng']) + '!@#$_'\n",
    "print('[test] 적용 전: ' + stwd_total.loc[6, 'stwd_eng'])\n",
    "\n",
    "# 영문 특수기호 제거\n",
    "stwd_total_cnt = len(stwd_total['stwd_eng'])\n",
    "for i in range(stwd_total_cnt):\n",
    "    stwd_total.loc[i, 'stwd_eng'] =  stwd_total['stwd_eng'][i].translate(str.maketrans('', '', string.punctuation))\n",
    "    cnt += i\n",
    "print('[test] 적용 후: ' + str(stwd_total.loc[6, 'stwd_eng']))\n",
    "print(cnt)\n",
    "stwd_total"
   ]
  },
  {
   "cell_type": "code",
   "execution_count": null,
   "id": "e45dbbad",
   "metadata": {},
   "outputs": [],
   "source": [
    "s1 = '고구마acAB1!$%@! 32'\n",
    "s2 = '깎ㅉ니'\n",
    "s3 = \"RR깍찌니12\"\n",
    "s4 = \"123깍찌니aS\"\n",
    "print(bool(re.findall(u'[\\u3130-\\u318F\\uAC00-\\uD7A3]+', s)))\n",
    "re.findall(u'[\\u3130-\\u318F\\uAC00-\\uD7A3]+', s)"
   ]
  },
  {
   "cell_type": "code",
   "execution_count": null,
   "id": "246917f8",
   "metadata": {},
   "outputs": [],
   "source": [
    "print(re.findall('[A-Z0-9가-힣+]', s1))\n",
    "print(len(list(s1)))\n",
    "len(re.findall('[A-Z0-9가-힣+]', s1)) == len(list(s1))"
   ]
  },
  {
   "cell_type": "code",
   "execution_count": null,
   "id": "2cef4799",
   "metadata": {},
   "outputs": [],
   "source": [
    "print(re.findall('[A-Z0-9가-힣+]', s2))\n",
    "print(len(list(s2)))\n",
    "len(re.findall('[A-Z0-9가-힣+]', s2)) == len(list(s2))"
   ]
  },
  {
   "cell_type": "code",
   "execution_count": null,
   "id": "121c9291",
   "metadata": {},
   "outputs": [],
   "source": [
    "print(re.findall('[A-Z0-9가-힣+]', s3))\n",
    "print(len(list(s3)))\n",
    "len(re.findall('[A-Z0-9가-힣+]', s3)) == len(list(s3))"
   ]
  },
  {
   "cell_type": "code",
   "execution_count": null,
   "id": "6fb9eaf5",
   "metadata": {},
   "outputs": [],
   "source": [
    "print(re.findall('[A-Z0-9가-힣+]', s4))\n",
    "print(len(list(s4)))\n",
    "len(re.findall('[A-Z0-9가-힣+]', s4)) == len(list(s4))"
   ]
  },
  {
   "cell_type": "code",
   "execution_count": null,
   "id": "fa6daac0",
   "metadata": {},
   "outputs": [],
   "source": [
    "re.findall('[A-Z0-9가-힣+]', stwd_total['stwd_eng'][i])"
   ]
  },
  {
   "cell_type": "code",
   "execution_count": null,
   "id": "1c0977c7",
   "metadata": {},
   "outputs": [],
   "source": [
    "len(list(stwd_total['stwd_eng'][i]))"
   ]
  },
  {
   "cell_type": "code",
   "execution_count": null,
   "id": "1f28258e",
   "metadata": {},
   "outputs": [],
   "source": [
    "# 영문만\n",
    "print(bool(re.findall('[a-zA-Z]', '123가')))\n",
    "re.findall('[가-흐]', '고구마')"
   ]
  },
  {
   "cell_type": "code",
   "execution_count": null,
   "id": "9da855c1",
   "metadata": {},
   "outputs": [],
   "source": []
  },
  {
   "cell_type": "code",
   "execution_count": null,
   "id": "5a98c66a",
   "metadata": {},
   "outputs": [],
   "source": [
    "n= 5161\n",
    "print(list(stwd_total['stwd_kor'][n]))\n",
    "re.findall('[A-Z0-9가-힣+]', stwd_total['stwd_kor'][n])"
   ]
  },
  {
   "cell_type": "code",
   "execution_count": null,
   "id": "f36790ab",
   "metadata": {},
   "outputs": [],
   "source": [
    "len(re.findall('[A-Z0-9가-힣+]', stwd_total['stwd_kor'][i])) == len(list(stwd_total['stwd_kor'][i]))"
   ]
  },
  {
   "cell_type": "code",
   "execution_count": null,
   "id": "b59ca4ee",
   "metadata": {},
   "outputs": [],
   "source": [
    "chk_kor"
   ]
  },
  {
   "cell_type": "code",
   "execution_count": null,
   "id": "bf0ed0df",
   "metadata": {},
   "outputs": [],
   "source": [
    "stwd_total.loc[5160]"
   ]
  },
  {
   "cell_type": "code",
   "execution_count": null,
   "id": "37a6affb",
   "metadata": {},
   "outputs": [],
   "source": []
  },
  {
   "cell_type": "code",
   "execution_count": null,
   "id": "0a1c6de4",
   "metadata": {},
   "outputs": [],
   "source": []
  },
  {
   "cell_type": "code",
   "execution_count": null,
   "id": "db85011c",
   "metadata": {
    "scrolled": true
   },
   "outputs": [],
   "source": [
    "# 영문명에 한글명 포함되었는가 탐색\\\n",
    "        \n",
    "# 한글 영어 최종 검색\n",
    "print('[자동 처리 시작합니다]')\n",
    "exKor_list = []\n",
    "stwd_total['stwd_eng_exKor'] = ''\n",
    "for i in range(len(stwd_total)):\n",
    "\n",
    "    cor_kor = re.sub('[A-Z0-9가-힣+]', '', stwd_total['stwd_kor'][i])\n",
    "    chk_kor = re.findall('[A-Z0-9가-힣+]', stwd_total['stwd_kor'][i]) == len(list(stwd_total['stwd_kor'][i]))\n",
    "\n",
    "    \n",
    "    cor_eng = re.sub('[A-Z0-9+]', '', stwd_total['stwd_eng'][i])\n",
    "    chk_eng = re.findall('[A-Z0-9+]', stwd_total['stwd_eng'][i]) == len(list(stwd_total['stwd_eng'][i]))\n",
    "    \n",
    "    if bool(chk) == False:\n",
    "        print(\"-----------------------------------------------------------------|\")\n",
    "        print('index: ' + str(i))\n",
    "        print(stwd_total['stwd_kor'][i] + \" -> \" + str(''.join(chk)))\n",
    "        print(stwd_total['stwd_eng'][i] + \" -> \" + str(''.join(chk)))\n",
    "        exKor_list.append(i)\n",
    "    stwd_total.loc[i,'stwd_eng_exKor'] = cor\n",
    "stwd_total_manu1 = stwd_total.iloc[exKor_list]\n",
    "print('[자동 처리 완료하였습니다]')\n",
    "\n",
    "\n",
    "    ################# 파일 생성 처리 로직########################"
   ]
  },
  {
   "cell_type": "code",
   "execution_count": null,
   "id": "a3ace90d",
   "metadata": {},
   "outputs": [],
   "source": [
    "# 한글처리 묻기\n",
    "\n",
    "            \n",
    "if yes_or_no('영문명의 한글 제거 처리를 적용 하시겠습니까?'):\n",
    "    stwd_total['stwd_eng'] = stwd_total['stwd_eng_exKor']\n",
    "    print('[적용되었습니다]')\n",
    "else:\n",
    "    file_name = 'stwd_total_manu1'\n",
    "    print('[엑셀 파일을 생성하였습니다]: ' + file_name +'_'+ now)\n",
    "    print('[검토한 후 다시 업로드 해주세요]')\n",
    "stwd_total.head()"
   ]
  },
  {
   "cell_type": "code",
   "execution_count": null,
   "id": "5d348b27",
   "metadata": {},
   "outputs": [],
   "source": [
    "# 각각 중복제거 대신에... 한글+영문 아이디 만들어 이걸로 중복제거! + 한글명 정렬!!!"
   ]
  },
  {
   "cell_type": "code",
   "execution_count": null,
   "id": "918fd511",
   "metadata": {},
   "outputs": [],
   "source": [
    "# # 우선 그대로 원복하고, index list 만들어서 조회만..?\n",
    "# stwd_total['id'] = stwd_total['stwd_kor'] + stwd_total['stwd_eng']\n",
    "\n",
    "# print(stwd_unique.shape)\n",
    "# stwd_unique\n",
    "# stwd_kor_unique = stwd_unique[['index', 'stwd_kor', 'num_kor', 'dupl_list_kor']]\n",
    "# stwd_eng_unique = stwd_unique[['index', 'stwd_eng', 'num_eng', 'dupl_list_eng']]\n",
    "# stwd_kor_unique"
   ]
  },
  {
   "cell_type": "code",
   "execution_count": null,
   "id": "bd409e56",
   "metadata": {},
   "outputs": [],
   "source": [
    "# stwd_kor_unique = stwd_unique[['index', 'stwd_kor', 'num_kor', 'dupl_list_kor']]\n",
    "# stwd_eng_unique = stwd_unique[['index', 'stwd_eng', 'num_eng', 'dupl_list_eng']]\n",
    "# stwd_kor_unique"
   ]
  },
  {
   "cell_type": "code",
   "execution_count": null,
   "id": "2ba97a7b",
   "metadata": {},
   "outputs": [],
   "source": [
    "# (일렬)전체 그대로\n",
    "stwd_total"
   ]
  },
  {
   "cell_type": "markdown",
   "id": "f3a52494",
   "metadata": {},
   "source": [
    "# 중복제거 로직"
   ]
  },
  {
   "cell_type": "code",
   "execution_count": null,
   "id": "6ab40b6e",
   "metadata": {},
   "outputs": [],
   "source": [
    "# 중복제거 후 다시 합쳐서 검사(2안 + 1안)\n",
    "# 한글 중복제거\n",
    "col_stwd_kor = ['stwd_kor', 'num_kor']\n",
    "unique_kor = stwd_total['stwd_kor'].drop_duplicates()\n",
    "stwd_kor_unique = stwd_total.loc[unique_kor.index][col_stwd_kor]\n",
    "print(stwd_kor_unique.shape)\n",
    "# stwd_kor_unique\n",
    "\n",
    "# 영문 중복제거\n",
    "col_stwd_eng = ['stwd_eng', 'num_eng']\n",
    "unique_eng = stwd_total['stwd_eng'].drop_duplicates()\n",
    "stwd_eng_unique = stwd_total.loc[unique_eng.index][col_stwd_eng]\n",
    "print(stwd_eng_unique.shape)\n",
    "# stwd_eng_unique.tail(100)\n",
    "\n",
    "# 한글+영문 일렬 세우기\n",
    "df_step_1 = pd.DataFrame(stwd_total['index'])\n",
    "df_step_1 = df_step_1.merge(\n",
    "    stwd_kor_unique,\n",
    "    left_index = True,\n",
    "    right_index = True,\n",
    "    how = 'left'\n",
    ").merge(\n",
    "    stwd_eng_unique,\n",
    "    left_index = True,\n",
    "    right_index = True,\n",
    "    how = 'left'\n",
    ")\n",
    "df_step_1 = df_step_1[['index', 'stwd_kor', 'stwd_eng', 'num_kor', 'num_eng']]\n",
    "\n",
    "# unique 뽑기 & null 값 제거\n",
    "df_step_uniq = df_step_1.dropna(axis = 0)\n",
    "df_step_uniq = df_step_uniq.sort_values(['stwd_kor', 'stwd_eng'])\n",
    "print(df_step_uniq.shape)\n",
    "\n",
    "df_step_uniq = df_step_uniq.merge(input_test, left_on='index', right_on='No', how='left')\n",
    "print(df_step_uniq.shape)\n",
    "\n",
    "df_step_uniq.tail(500)"
   ]
  },
  {
   "cell_type": "code",
   "execution_count": null,
   "id": "d2f6ac72",
   "metadata": {},
   "outputs": [],
   "source": [
    "df_step_uniq.to_excel(input_path + \"220928.xlsx\")"
   ]
  },
  {
   "cell_type": "markdown",
   "id": "99623a37",
   "metadata": {},
   "source": [
    "# 여기까지"
   ]
  },
  {
   "cell_type": "code",
   "execution_count": null,
   "id": "8cd96e74",
   "metadata": {},
   "outputs": [],
   "source": [
    "## 파일 생성 -> 중복 없어질때까지 n회 반복"
   ]
  },
  {
   "cell_type": "markdown",
   "id": "cd4db270",
   "metadata": {},
   "source": [
    "## step1.1. 끝\n",
    "일렬 나열 및 단순 중복 제거"
   ]
  },
  {
   "cell_type": "markdown",
   "id": "66809815",
   "metadata": {},
   "source": [
    "## step1.2. 시작\n",
    "스텝 1.2. 는 중복제거 한 파일을 ID를 기준으로 다시 중복제거 한 후, 재점검하여, 아닌 것 같은 경우는 초기 input 파일(원본)처럼 만듦"
   ]
  },
  {
   "cell_type": "code",
   "execution_count": null,
   "id": "39b2954a",
   "metadata": {},
   "outputs": [],
   "source": []
  },
  {
   "cell_type": "code",
   "execution_count": null,
   "id": "3754c2c0",
   "metadata": {},
   "outputs": [],
   "source": []
  },
  {
   "cell_type": "code",
   "execution_count": null,
   "id": "bfd9f913",
   "metadata": {},
   "outputs": [],
   "source": [
    "stwd_total"
   ]
  },
  {
   "cell_type": "code",
   "execution_count": null,
   "id": "097f6187",
   "metadata": {},
   "outputs": [],
   "source": []
  },
  {
   "cell_type": "code",
   "execution_count": null,
   "id": "d864b543",
   "metadata": {},
   "outputs": [],
   "source": []
  },
  {
   "cell_type": "code",
   "execution_count": null,
   "id": "fbf839ca",
   "metadata": {},
   "outputs": [],
   "source": []
  },
  {
   "cell_type": "code",
   "execution_count": 15,
   "id": "4e3d0193",
   "metadata": {},
   "outputs": [
    {
     "name": "stdout",
     "output_type": "stream",
     "text": [
      "---------------------------------------------------------------|\n",
      "소문자 처리: 0개\n",
      "나머지 제거: 0\n",
      "[자동 처리 완료하였습니다]\n"
     ]
    }
   ],
   "source": [
    "kor_emti_chk()"
   ]
  },
  {
   "cell_type": "code",
   "execution_count": null,
   "id": "ff01eae0",
   "metadata": {},
   "outputs": [],
   "source": []
  },
  {
   "cell_type": "code",
   "execution_count": null,
   "id": "a0aa57b1",
   "metadata": {},
   "outputs": [],
   "source": [
    "df_lower_kor "
   ]
  },
  {
   "cell_type": "code",
   "execution_count": null,
   "id": "52547d2d",
   "metadata": {},
   "outputs": [],
   "source": [
    "pd.to_numeric(df_step_raw1['id_uniq_chk{}'.format(i)])"
   ]
  },
  {
   "cell_type": "code",
   "execution_count": null,
   "id": "40663324",
   "metadata": {},
   "outputs": [],
   "source": []
  },
  {
   "cell_type": "code",
   "execution_count": null,
   "id": "9e84f504",
   "metadata": {},
   "outputs": [],
   "source": [
    "# stwd_kor_unique = stwd_total.iloc[stwd_kor_unique.index]\n",
    "# stwd_eng_unique = stwd_total.iloc[stwd_eng_unique.index]\n",
    "stwd_eng_unique"
   ]
  },
  {
   "cell_type": "code",
   "execution_count": null,
   "id": "ec6f6142",
   "metadata": {},
   "outputs": [],
   "source": [
    "stwd_total['stwd_eng'][7289]"
   ]
  },
  {
   "cell_type": "code",
   "execution_count": null,
   "id": "e7a3303e",
   "metadata": {},
   "outputs": [],
   "source": [
    "stwd_total['stwd_eng'].drop_duplicates()"
   ]
  },
  {
   "cell_type": "code",
   "execution_count": null,
   "id": "a7992617",
   "metadata": {},
   "outputs": [],
   "source": [
    "# id 유니크 체크\n",
    "# id 컬럼 만들기\n",
    "stwd_total['id'] = stwd_total['stwd_kor'] + stwd_total['stwd_eng']\n",
    "\n",
    "# uniq 항목 체크하기\n",
    "stwd_unique_list = stwd_total['id'].drop_duplicates()\n",
    "stwd_unique = stwd_total.loc[stwd_unique_list.index]\n",
    "stwd_total['uniq_chk'] = ''\n",
    "stwd_total.loc[stwd_unique_list.index, 'uniq_chk'] = 1\n",
    "stwd_total"
   ]
  },
  {
   "cell_type": "code",
   "execution_count": null,
   "id": "dbff5edd",
   "metadata": {},
   "outputs": [],
   "source": [
    "# 컬럼수만큼 테이블 만들고, 유니크 체그(한글명 id로만)\n",
    "df_step_raw1 = df_index\n",
    "for i in range(col_cnt):\n",
    "    globals()['stwd_kor_uinq{}'.format(i)] = stwd_total[stwd_total['num_kor'] == 'num_kor{}'.format(i)]\n",
    "    kor_list = ['index', 'stwd_kor', 'num_kor', 'dupl_list_kor', 'uniq_chk', 'id']\n",
    "    globals()['stwd_kor_uinq{}'.format(i)] = globals()['stwd_kor_uinq{}'.format(i)][kor_list]\n",
    "    globals()['stwd_kor_uinq{}'.format(i)].columns = [\n",
    "        'index', \n",
    "        'stwd_kor{}'.format(i), \n",
    "        'num_kor{}'.format(i), \n",
    "        'dupl_list_kor{}'.format(i),\n",
    "        'id_uniq_chk{}'.format(i),\n",
    "        'id{}'.format(i)\n",
    "    ]\n",
    "    globals()['stwd_eng_uinq{}'.format(i)] = stwd_total[stwd_total['num_eng'] == 'num_eng{}'.format(i)]\n",
    "    eng_list = ['index', 'stwd_eng', 'num_eng', 'dupl_list_eng']\n",
    "    globals()['stwd_eng_uinq{}'.format(i)] = globals()['stwd_eng_uinq{}'.format(i)][eng_list]\n",
    "    globals()['stwd_eng_uinq{}'.format(i)].columns = [\n",
    "        'index', \n",
    "        'stwd_eng{}'.format(i), \n",
    "        'num_eng{}'.format(i), \n",
    "        'dupl_list_eng{}'.format(i)\n",
    "    ]\n",
    "    # 한글,영문 통합하여 원본데이터 형태로\n",
    "    df_step_raw1 = df_step_raw1.merge(\n",
    "        globals()['stwd_kor_uinq{}'.format(i)], \n",
    "        on = 'index',\n",
    "        how = 'left'\n",
    "    ).merge(\n",
    "        globals()['stwd_eng_uinq{}'.format(i)], \n",
    "        on ='index',\n",
    "        how = 'left'\n",
    "    )\n",
    "    \n",
    "# 각 row의 unique(id) 반복 횟수 적기 \n",
    "id_uniq_chk_sum = 0\n",
    "for i in range(col_cnt):\n",
    "    globals()['id_uniq_chk{}'.format(i)] = pd.to_numeric(df_step_raw1['id_uniq_chk{}'.format(i)])\n",
    "    id_uniq_chk_sum = id_uniq_chk_sum + globals()['id_uniq_chk{}'.format(i)].fillna(0)\n",
    "id_uniq_chk_sum = pd.DataFrame(id_uniq_chk_sum, columns = ['id_uniq_chk_sum'])\n",
    "\n",
    "# 계산값 df에 추가하기\n",
    "df_step_raw1 = df_step_raw1.merge(\n",
    "    id_uniq_chk_sum,\n",
    "    left_index = True,\n",
    "    right_index = True,\n",
    "    how = 'left'\n",
    ")\n",
    "\n",
    "df_step_raw1"
   ]
  },
  {
   "cell_type": "code",
   "execution_count": null,
   "id": "0aede77d",
   "metadata": {},
   "outputs": [],
   "source": []
  },
  {
   "cell_type": "code",
   "execution_count": null,
   "id": "6d18a85e",
   "metadata": {},
   "outputs": [],
   "source": [
    "df_step_raw1[tmp_col_list]"
   ]
  },
  {
   "cell_type": "code",
   "execution_count": null,
   "id": "15ce2790",
   "metadata": {},
   "outputs": [],
   "source": [
    "# null 제거\n",
    "df_step_1 = df_step_raw1[df_step_raw1['stwd_kor0'].notna()]\n",
    "\n",
    "# 빈칸 제거\n",
    "df_step_1 = df_step_1.loc[df_step_1['stwd_kor0'] != \"\"]\n",
    "\n",
    "# 필요 컬럼 추리기\n",
    "tmp_col_list = ['index', 'id_uniq_chk_sum']\n",
    "for i in range(col_cnt):\n",
    "    tmp_col_list.append('stwd_kor{}'.format(i))\n",
    "    tmp_col_list.append('stwd_eng{}'.format(i))\n",
    "    tmp_col_list.append('id_uniq_chk{}'.format(i))\n",
    "    tmp_col_list.append('id{}'.format(i))\n",
    "df_step_1 = df_step_1[tmp_col_list]\n",
    "\n",
    "# row의 id 반복 횟수 적기(1 이상) \n",
    "df_step_1 = df_step_1.loc[df_step_1['id_uniq_chk_sum'] >= 1]\n",
    "\n",
    "# 순서 정리\n",
    "df_step_1 = df_step_1.sort_values(['stwd_kor0', 'stwd_eng0'])\n",
    "\n",
    "print('카운트_전 :'+ str(df_step_raw1.shape))\n",
    "print('카운트_후 :'+ str(df_step_1.shape))\n",
    "# df_step_1.to_excel(input_path + \"1step안_완.xlsx\")\n",
    "df_step_1.to_excel(input_path + \"1step안_완Real.xlsx\")\n",
    "df_step_1.head(500)"
   ]
  },
  {
   "cell_type": "code",
   "execution_count": null,
   "id": "a5a2922b",
   "metadata": {},
   "outputs": [],
   "source": []
  },
  {
   "cell_type": "code",
   "execution_count": null,
   "id": "56db1599",
   "metadata": {},
   "outputs": [],
   "source": [
    "\n",
    "# 계산값 df에 추가하기\n",
    "df_step_1 = df_step_1.merge(\n",
    "    id_uniq_chk_sum,\n",
    "    left_index = True,\n",
    "    right_index = True,\n",
    "    how = 'left'\n",
    ")\n",
    "df_step_1"
   ]
  },
  {
   "cell_type": "code",
   "execution_count": null,
   "id": "a2b649ea",
   "metadata": {},
   "outputs": [],
   "source": []
  },
  {
   "cell_type": "code",
   "execution_count": null,
   "id": "c3da33b8",
   "metadata": {},
   "outputs": [],
   "source": []
  },
  {
   "cell_type": "code",
   "execution_count": null,
   "id": "a9beec13",
   "metadata": {},
   "outputs": [],
   "source": [
    "# 그냥 다시 합치기(한/영)\n",
    "df_exam_raw1 = df_index\n",
    "\n",
    "for i in range(col_cnt):\n",
    "    globals()['stwd_kor_uni{}'.format(i)] = stwd_total[stwd_total['num_kor'] == 'num_kor{}'.format(i)]\n",
    "    kor_list = ['index', 'stwd_kor', 'num_kor', 'dupl_list_kor']\n",
    "    globals()['stwd_kor_uni{}'.format(i)] = globals()['stwd_kor_uni{}'.format(i)][kor_list]\n",
    "    globals()['stwd_kor_uni{}'.format(i)].columns = [\n",
    "        'index', 'stwd_kor{}'.format(i), \n",
    "        'num_kor{}'.format(i), \n",
    "        'dupl_list_kor{}'.format(i) \n",
    "    ]\n",
    "    globals()['stwd_eng_uni{}'.format(i)] = stwd_total[stwd_total['num_eng'] == 'num_eng{}'.format(i)]\n",
    "    eng_list = ['index', 'stwd_eng', 'num_eng', 'dupl_list_eng']\n",
    "    globals()['stwd_eng_uni{}'.format(i)] = globals()['stwd_eng_uni{}'.format(i)][eng_list]\n",
    "    globals()['stwd_eng_uni{}'.format(i)].columns = [\n",
    "        'index', 'stwd_eng{}'.format(i), \n",
    "        'num_eng{}'.format(i), \n",
    "        'dupl_list_eng{}'.format(i) \n",
    "    ]\n",
    "    df_exam_raw1 = df_exam_raw1.merge(\n",
    "        globals()['stwd_kor_uni{}'.format(i)], \n",
    "        on = 'index',\n",
    "        how = 'left'\n",
    "    ).merge(\n",
    "        globals()['stwd_eng_uni{}'.format(i)], \n",
    "        on ='index',\n",
    "        how = 'left'\n",
    "    )\n",
    "    \n",
    "\n",
    "df_exam_raw1"
   ]
  },
  {
   "cell_type": "code",
   "execution_count": null,
   "id": "4112a2ad",
   "metadata": {},
   "outputs": [],
   "source": []
  },
  {
   "cell_type": "code",
   "execution_count": null,
   "id": "17c01f82",
   "metadata": {},
   "outputs": [],
   "source": [
    "\n",
    "#     log = stwd_kor_unique[stwd_kor_unique['num_kor'] == 'num_kor{}'.format(i)]\n",
    "#     print('===========================================================================')\n",
    "#     print(log)\n",
    "    df_exam_raw1 = df_exam_raw1.merge(\n",
    "        globals()['stwd_kor_uni{}'.format(i)], \n",
    "        on = 'index',\n",
    "        how = 'left'\n",
    "    ).merge(\n",
    "        globals()['stwd_eng_uni{}'.format(i)], \n",
    "        on ='index',\n",
    "        how = 'left'\n",
    "    )\n",
    "\n",
    "df_exam_1 = df_exam_raw1.sort_values(['index', 'stwd_kor0'])\n",
    "print(df_exam_1.shape)\n",
    "df_exam_raw1.tail(50)\n",
    "# df_exam_raw1.head(500)"
   ]
  },
  {
   "cell_type": "code",
   "execution_count": null,
   "id": "a2a156e2",
   "metadata": {},
   "outputs": [],
   "source": [
    "stwd_unique_list.index"
   ]
  },
  {
   "cell_type": "code",
   "execution_count": null,
   "id": "36b91289",
   "metadata": {},
   "outputs": [],
   "source": [
    "# (일렬)id 유니크 만 탐색\n",
    "stwd_unique_list = stwd_total['id'].drop_duplicates()\n",
    "stwd_unique = stwd_total.loc[stwd_unique_list.index]\n",
    "a = stwd_total.iloc[stwd_unique_list.index]\n",
    "a\n"
   ]
  },
  {
   "cell_type": "code",
   "execution_count": null,
   "id": "8b868ac7",
   "metadata": {},
   "outputs": [],
   "source": [
    "stwd_unique"
   ]
  },
  {
   "cell_type": "code",
   "execution_count": null,
   "id": "2c458820",
   "metadata": {},
   "outputs": [],
   "source": [
    "# 우선 그대로 원복하고, index list 만들어서 조회만..?\n",
    "stwd_total['id'] = stwd_total['stwd_kor'] + stwd_total['stwd_eng']\n",
    "stwd_unique_list = stwd_total['id'].drop_duplicates()\n",
    "stwd_unique = stwd_total.loc[stwd_unique_list.index]\n",
    "print(stwd_unique.shape)\n",
    "stwd_unique\n",
    "stwd_kor_unique = stwd_unique[['index', 'stwd_kor', 'num_kor', 'dupl_list_kor']]\n",
    "stwd_eng_unique = stwd_unique[['index', 'stwd_eng', 'num_eng', 'dupl_list_eng']]\n",
    "stwd_kor_unique"
   ]
  },
  {
   "cell_type": "code",
   "execution_count": null,
   "id": "d7a27b41",
   "metadata": {},
   "outputs": [],
   "source": []
  },
  {
   "cell_type": "code",
   "execution_count": null,
   "id": "c6a726a5",
   "metadata": {},
   "outputs": [],
   "source": [
    "# 다시 합치기(한/영)\n",
    "df_exam_raw1 = a\n",
    "\n",
    "for i in range(col_cnt):\n",
    "    globals()['stwd_kor_uni{}'.format(i)] = stwd_kor_unique[stwd_kor_unique['num_kor'] == 'num_kor{}'.format(i)]\n",
    "    globals()['stwd_kor_uni{}'.format(i)].columns = [\n",
    "        'index', 'stwd_kor{}'.format(i), \n",
    "        'num_kor{}'.format(i), \n",
    "        'dupl_list_kor{}'.format(i) \n",
    "    ]\n",
    "    globals()['stwd_eng_uni{}'.format(i)] = stwd_eng_unique[stwd_eng_unique['num_eng'] == 'num_eng{}'.format(i)]\n",
    "    globals()['stwd_eng_uni{}'.format(i)].columns = [\n",
    "        'index', 'stwd_eng{}'.format(i), \n",
    "        'num_eng{}'.format(i), \n",
    "        'dupl_list_eng{}'.format(i) \n",
    "    ]\n",
    "#     log = stwd_kor_unique[stwd_kor_unique['num_kor'] == 'num_kor{}'.format(i)]\n",
    "#     print('===========================================================================')\n",
    "#     print(log)\n",
    "    df_exam_raw1 = df_exam_raw1.merge(\n",
    "        globals()['stwd_kor_uni{}'.format(i)], \n",
    "        on = 'index',\n",
    "        how = 'left'\n",
    "    ).merge(\n",
    "        globals()['stwd_eng_uni{}'.format(i)], \n",
    "        on ='index',\n",
    "        how = 'left'\n",
    "    )\n",
    "\n",
    "df_exam_1 = df_exam_raw1.sort_values(['index', 'stwd_kor0'])\n",
    "print(df_exam_1.shape)\n",
    "df_exam_raw1.tail(50)\n",
    "# df_exam_raw1.head(500)"
   ]
  },
  {
   "cell_type": "code",
   "execution_count": null,
   "id": "0f73058e",
   "metadata": {},
   "outputs": [],
   "source": [
    "a.to_excel(input_path + \"3안.xlsx\")"
   ]
  },
  {
   "cell_type": "code",
   "execution_count": null,
   "id": "12359923",
   "metadata": {},
   "outputs": [],
   "source": []
  },
  {
   "cell_type": "code",
   "execution_count": null,
   "id": "a231654b",
   "metadata": {},
   "outputs": [],
   "source": []
  },
  {
   "cell_type": "code",
   "execution_count": null,
   "id": "a5e7541f",
   "metadata": {},
   "outputs": [],
   "source": []
  },
  {
   "cell_type": "code",
   "execution_count": null,
   "id": "a0d54e9b",
   "metadata": {
    "scrolled": true
   },
   "outputs": [],
   "source": [
    "# [1안] 중복제거(새로운 id 셍상)\n",
    "stwd_total['id'] = stwd_total['stwd_kor'] + stwd_total['stwd_eng']\n",
    "stwd_unique_list = stwd_total['id'].drop_duplicates()\n",
    "stwd_unique = stwd_total.loc[stwd_unique_list.index]\n",
    "print(stwd_unique.shape)\n",
    "stwd_unique\n",
    "stwd_kor_unique = stwd_unique[['index', 'stwd_kor', 'num_kor', 'dupl_list_kor']]\n",
    "stwd_eng_unique = stwd_unique[['index', 'stwd_eng', 'num_eng', 'dupl_list_eng']]\n",
    "stwd_kor_unique"
   ]
  },
  {
   "cell_type": "code",
   "execution_count": null,
   "id": "d3e629a8",
   "metadata": {
    "scrolled": false
   },
   "outputs": [],
   "source": [
    "# 다시 합치기(한/영)\n",
    "df_exam_raw1 = df_index\n",
    "\n",
    "for i in range(col_cnt):\n",
    "    globals()['stwd_kor_uni{}'.format(i)] = stwd_kor_unique[stwd_kor_unique['num_kor'] == 'num_kor{}'.format(i)]\n",
    "    globals()['stwd_kor_uni{}'.format(i)].columns = [\n",
    "        'index', 'stwd_kor{}'.format(i), \n",
    "        'num_kor{}'.format(i), \n",
    "        'dupl_list_kor{}'.format(i) \n",
    "    ]\n",
    "    globals()['stwd_eng_uni{}'.format(i)] = stwd_eng_unique[stwd_eng_unique['num_eng'] == 'num_eng{}'.format(i)]\n",
    "    globals()['stwd_eng_uni{}'.format(i)].columns = [\n",
    "        'index', 'stwd_eng{}'.format(i), \n",
    "        'num_eng{}'.format(i), \n",
    "        'dupl_list_eng{}'.format(i) \n",
    "    ]\n",
    "#     log = stwd_kor_unique[stwd_kor_unique['num_kor'] == 'num_kor{}'.format(i)]\n",
    "#     print('===========================================================================')\n",
    "#     print(log)\n",
    "    df_exam_raw1 = df_exam_raw1.merge(\n",
    "        globals()['stwd_kor_uni{}'.format(i)], \n",
    "        on = 'index',\n",
    "        how = 'left'\n",
    "    ).merge(\n",
    "        globals()['stwd_eng_uni{}'.format(i)], \n",
    "        on ='index',\n",
    "        how = 'left'\n",
    "    )\n",
    "\n",
    "df_exam_1 = df_exam_raw1.sort_values(['index', 'stwd_kor0'])\n",
    "print(df_exam_1.shape)\n",
    "df_exam_raw1.tail(50)\n",
    "# df_exam_raw1.head(500)"
   ]
  },
  {
   "cell_type": "code",
   "execution_count": null,
   "id": "828fef32",
   "metadata": {},
   "outputs": [],
   "source": []
  },
  {
   "cell_type": "code",
   "execution_count": null,
   "id": "8445d69e",
   "metadata": {},
   "outputs": [],
   "source": [
    "avg_avg_kor\n"
   ]
  },
  {
   "cell_type": "code",
   "execution_count": null,
   "id": "5e35d467",
   "metadata": {},
   "outputs": [],
   "source": []
  },
  {
   "cell_type": "markdown",
   "id": "2b033ab9",
   "metadata": {},
   "source": [
    "# sdfsㄹ\n"
   ]
  },
  {
   "cell_type": "code",
   "execution_count": null,
   "id": "77321473",
   "metadata": {},
   "outputs": [],
   "source": [
    "total_cnt = avg_avg_kor\n",
    "null_list = []\n",
    "for i in range(total_cnt):    \n",
    "    # row 기준 널 체크(값이 한개라도 있을 경우 포함)\n",
    "    if df_exam_1.iloc[i].notna().sum() > 1:\n",
    "        null_list.append(i)\n",
    "        \n",
    "#         print(i)\n",
    "df_exam_1 = df_exam_1.loc[null_list]\n",
    "df_exam_1.to_excel(input_path + \"1안.xlsx\")\n",
    "df_exam_1\n"
   ]
  },
  {
   "cell_type": "code",
   "execution_count": null,
   "id": "f68d8c8b",
   "metadata": {},
   "outputs": [],
   "source": [
    "# df_id = pd.DataFrame(stwd_total['id'])\n",
    "# df_exam_1 = df_exam_1.merge(df_id, left_index=True, right_index=True, how='left').tail()"
   ]
  },
  {
   "cell_type": "code",
   "execution_count": null,
   "id": "daefc588",
   "metadata": {},
   "outputs": [],
   "source": [
    "# # null 제거\n",
    "# df_exam_1 = df_exam_raw1[df_exam_raw1['stwd_kor0'].notna()]\n",
    "\n",
    "# # 빈칸 제거\n",
    "# df_exam_1 = df_exam_1.loc[df_exam_1['stwd_kor0'] != \"\"]\n",
    "\n",
    "# 필요 컬럼 추리기\n",
    "tmp_col_list = ['index']\n",
    "for i in range(col_cnt):\n",
    "    tmp_col_list.append('stwd_kor{}'.format(i))\n",
    "    tmp_col_list.append('stwd_eng{}'.format(i))\n",
    "tmp_col_list\n",
    "\n",
    "df_exam_1 = df_exam_1[tmp_col_list]\n",
    "# df_exam_1 = pd.concat([df_exam_1, df_id] ,axis=1)\n",
    "# id_unique_list = df_id['id'].drop_duplicates()\n",
    "# df_exam_1 = df_exam_1.loc[id_unique_list.index]\n",
    "print('2안과 카운트 비교:'+ str(df_exam_1.shape))\n",
    "df_exam_1.to_excel(input_path + \"1안.xlsx\")\n",
    "df_exam_1.head()\n",
    "\n"
   ]
  },
  {
   "cell_type": "code",
   "execution_count": null,
   "id": "361d1e20",
   "metadata": {},
   "outputs": [],
   "source": []
  },
  {
   "cell_type": "code",
   "execution_count": null,
   "id": "35c40f36",
   "metadata": {},
   "outputs": [],
   "source": []
  },
  {
   "cell_type": "code",
   "execution_count": null,
   "id": "72387d57",
   "metadata": {},
   "outputs": [],
   "source": []
  },
  {
   "cell_type": "code",
   "execution_count": 18,
   "id": "fb11bd03",
   "metadata": {},
   "outputs": [
    {
     "data": {
      "text/plain": [
       "''"
      ]
     },
     "execution_count": 18,
     "metadata": {},
     "output_type": "execute_result"
    }
   ],
   "source": [
    "re.sub('[A-Z0-9가-힣+]', '', stwd_total['stwd_kor'][i])"
   ]
  },
  {
   "cell_type": "code",
   "execution_count": null,
   "id": "3c73ffb7",
   "metadata": {},
   "outputs": [],
   "source": [
    "# 2안: 각각 중복제거 후 다시 합쳐서 검사\n",
    "# 한글 중복제거\n",
    "col_stwd_kor = ['index', 'stwd_kor', 'num_kor', 'dupl_list_kor']\n",
    "unique_kor = stwd_total['stwd_kor'].drop_duplicates()\n",
    "stwd_kor_unique = stwd_total.loc[unique_kor.index][col_stwd_kor]\n",
    "print(stwd_kor_unique.shape)\n",
    "stwd_kor_unique"
   ]
  },
  {
   "cell_type": "code",
   "execution_count": 22,
   "id": "3b4f5571",
   "metadata": {},
   "outputs": [
    {
     "data": {
      "text/plain": [
       "['T', 'E', 'S', 'T']"
      ]
     },
     "execution_count": 22,
     "metadata": {},
     "output_type": "execute_result"
    }
   ],
   "source": []
  },
  {
   "cell_type": "code",
   "execution_count": null,
   "id": "51d8d259",
   "metadata": {},
   "outputs": [],
   "source": [
    "# 2안: 각각 중복제거 후 다시 합쳐서 검사\n",
    "# 한글 중복제거\n",
    "col_stwd_kor = ['index', 'stwd_kor', 'num_kor', 'dupl_list_kor']\n",
    "unique_kor = stwd_total['stwd_kor'].drop_duplicates()\n",
    "stwd_kor_unique = stwd_total.loc[unique_kor.index][col_stwd_kor]\n",
    "print(stwd_kor_unique.shape)\n",
    "stwd_kor_unique\n",
    "\n",
    "# 영문 중복제거\n",
    "col_stwd_eng = ['index', 'stwd_eng', 'num_eng', 'dupl_list_eng']\n",
    "unique_eng = stwd_total['stwd_eng'].drop_duplicates()\n",
    "stwd_eng_unique = stwd_total.loc[unique_eng.index][col_stwd_eng]\n",
    "print(stwd_eng_unique.shape)\n",
    "stwd_eng_unique\n",
    "\n",
    "# 다시 합치기(한/영)\n",
    "df_exam_raw1 = df_index\n",
    "\n",
    "for i in range(col_cnt):\n",
    "    globals()['stwd_kor_uni{}'.format(i)] = stwd_kor_unique[stwd_kor_unique['num_kor'] == 'num_kor{}'.format(i)]\n",
    "    globals()['stwd_kor_uni{}'.format(i)].columns = [\n",
    "        'index', 'stwd_kor{}'.format(i), \n",
    "        'num_kor{}'.format(i), \n",
    "        'dupl_list_kor{}'.format(i) \n",
    "    ]\n",
    "    globals()['stwd_eng_uni{}'.format(i)] = stwd_eng_unique[stwd_eng_unique['num_eng'] == 'num_eng{}'.format(i)]\n",
    "    globals()['stwd_eng_uni{}'.format(i)].columns = [\n",
    "        'index', 'stwd_eng{}'.format(i), \n",
    "        'num_eng{}'.format(i), \n",
    "        'dupl_list_eng{}'.format(i) \n",
    "    ]\n",
    "#     log = stwd_kor_unique[stwd_kor_unique['num_kor'] == 'num_kor{}'.format(i)]\n",
    "#     print('===========================================================================')\n",
    "#     print(log)\n",
    "    df_exam_raw1 = df_exam_raw1.merge(\n",
    "        globals()['stwd_kor_uni{}'.format(i)], \n",
    "        on = 'index',\n",
    "        how = 'left'\n",
    "    ).merge(\n",
    "        globals()['stwd_eng_uni{}'.format(i)], \n",
    "        on ='index',\n",
    "        how = 'left'\n",
    "    )\n",
    "\n",
    "print(df_exam_raw1.shape)\n",
    "df_exam_raw1.head()\n",
    "\n",
    "# null 제거\n",
    "df_exam_1 = df_exam_1[df_exam_1.notna()]\n",
    "\n",
    "# 빈칸 제거\n",
    "df_exam_1 = df_exam_1.loc[df_exam_1['stwd_kor0'] != \"\"]\n",
    "\n",
    "# 필요 컬럼 추리기\n",
    "tmp_col_list = ['index']\n",
    "for i in range(col_cnt):\n",
    "    tmp_col_list.append('stwd_kor{}'.format(i))\n",
    "    tmp_col_list.append('stwd_eng{}'.format(i))\n",
    "tmp_col_list\n",
    "\n",
    "df_exam_1 = df_exam_1[tmp_col_list]\n",
    "print('1안과 카운트 비교:'+ str(df_exam_1.shape))\n",
    "df_exam_1.to_excel(input_path + \"2안.xlsx\")\n",
    "df_exam_1.head()"
   ]
  },
  {
   "cell_type": "code",
   "execution_count": null,
   "id": "175ff40d",
   "metadata": {},
   "outputs": [],
   "source": []
  },
  {
   "cell_type": "code",
   "execution_count": null,
   "id": "b2407c04",
   "metadata": {},
   "outputs": [],
   "source": []
  },
  {
   "cell_type": "code",
   "execution_count": null,
   "id": "552810d7",
   "metadata": {},
   "outputs": [],
   "source": []
  },
  {
   "cell_type": "code",
   "execution_count": null,
   "id": "0fa1294d",
   "metadata": {},
   "outputs": [],
   "source": [
    "## df_exam_1 와 원본 붙이기!!"
   ]
  },
  {
   "cell_type": "code",
   "execution_count": null,
   "id": "b6e8bb28",
   "metadata": {},
   "outputs": [],
   "source": [
    "unique_kor"
   ]
  },
  {
   "cell_type": "code",
   "execution_count": null,
   "id": "e200a674",
   "metadata": {},
   "outputs": [],
   "source": []
  },
  {
   "cell_type": "code",
   "execution_count": null,
   "id": "ccd8a75d",
   "metadata": {},
   "outputs": [],
   "source": []
  },
  {
   "cell_type": "code",
   "execution_count": null,
   "id": "fcfbd7b1",
   "metadata": {},
   "outputs": [],
   "source": []
  },
  {
   "cell_type": "code",
   "execution_count": null,
   "id": "9ebf412f",
   "metadata": {},
   "outputs": [],
   "source": []
  },
  {
   "cell_type": "code",
   "execution_count": null,
   "id": "1c879196",
   "metadata": {},
   "outputs": [],
   "source": []
  },
  {
   "cell_type": "code",
   "execution_count": null,
   "id": "c68d68d1",
   "metadata": {},
   "outputs": [],
   "source": [
    "df_exam_1.to_excel(input_path + \"df_exam_1.xlsx\")\n",
    "df_exam_1.to_excel(input_path + \"df_exam_1.xlsx\")\n",
    "stwd_total.to_excel(input_path + \"stwd_total.xlsx\")"
   ]
  },
  {
   "cell_type": "code",
   "execution_count": null,
   "id": "4cea1088",
   "metadata": {},
   "outputs": [],
   "source": [
    "STOP!!!!!!!!!!"
   ]
  },
  {
   "cell_type": "code",
   "execution_count": null,
   "id": "b293300e",
   "metadata": {},
   "outputs": [],
   "source": []
  },
  {
   "cell_type": "code",
   "execution_count": null,
   "id": "42b323eb",
   "metadata": {},
   "outputs": [],
   "source": [
    "stwd_total"
   ]
  },
  {
   "cell_type": "code",
   "execution_count": null,
   "id": "def9230d",
   "metadata": {},
   "outputs": [],
   "source": [
    "# 1차 검토\n",
    "# 유니크(한 * 영) 데이터 뽑아 엑셀 생성\n",
    "# 수정후 total 데이터 뽑아 엑셀 생성\n"
   ]
  },
  {
   "cell_type": "code",
   "execution_count": null,
   "id": "cfa8f546",
   "metadata": {},
   "outputs": [],
   "source": [
    "stwd_total_kor_unique"
   ]
  },
  {
   "cell_type": "code",
   "execution_count": null,
   "id": "ea4601dc",
   "metadata": {},
   "outputs": [],
   "source": [
    "stwd_total_kor_unique[stwd_total_kor_unique['num_kor'] == 'num_kor{}'.format(i)]"
   ]
  },
  {
   "cell_type": "code",
   "execution_count": null,
   "id": "6c9d4377",
   "metadata": {},
   "outputs": [],
   "source": [
    "tt = stwd_total_kor_unique[stwd_total_kor_unique['num_kor'] == 'num_kor{}'.format(0)]\n",
    "tt['stwd_kor']\n",
    "tt"
   ]
  },
  {
   "cell_type": "code",
   "execution_count": null,
   "id": "429ba1a2",
   "metadata": {},
   "outputs": [],
   "source": [
    "for i in range(kor_firts_cnt):\n",
    "#     a = pd.DataFrame()\n",
    "    globals()['stwd_kor_uni{}'.format(i)] = stwd_total_kor_unique[stwd_total_kor_unique['num_kor'] == 'num_kor{}'.format(i)]\n",
    "    print(i)"
   ]
  },
  {
   "cell_type": "code",
   "execution_count": null,
   "id": "097d6d1a",
   "metadata": {},
   "outputs": [],
   "source": [
    "ba = df_index.merge(globals()['stwd_kor_uni{}'.format(0)], left_on = 'index', right_on = 'index', how = 'left')\n",
    "ba"
   ]
  },
  {
   "cell_type": "code",
   "execution_count": null,
   "id": "f213cbba",
   "metadata": {},
   "outputs": [],
   "source": [
    "# 다시 합치기\n",
    "df_index_tmp = df_index\n",
    "\n",
    "for i in range(col_cnt):\n",
    "    a = stwd_total_kor_unique[stwd_total_kor_unique['num_kor'] == 'num_kor{}'.format(i)]\n",
    "    globals()['stwd_kor_uni{}'.format(i)] = stwd_total_kor_unique[stwd_total_kor_unique['num_kor'] == 'num_kor{}'.format(i)]\n",
    "    globals()['stwd_kor_uni{}'.format(i)].columns = ['index', 'stwd_kor{}'.format(i), 'num_kor{}'.format(i), 'dupl_list_kor{}'.format(i)]\n",
    "#     tmp['num_kor{}'.format(i)] = a['stwd_kor']\n",
    "    aa = a.merge(globals()['stwd_kor_uni{}'.format(i)], left_on = 'index', right_on = 'index', how = 'left')\n",
    "    print('===========================================================================')\n",
    "    print(a)\n",
    "    df_index_tmp = df_index_tmp.merge(\n",
    "        globals()['stwd_kor_uni{}'.format(i)], \n",
    "        left_on ='index',\n",
    "        right_on = 'index',\n",
    "        how = 'left'\n",
    "    )\n",
    "\n",
    "\n",
    "df_index_tmp "
   ]
  },
  {
   "cell_type": "code",
   "execution_count": null,
   "id": "fa031699",
   "metadata": {},
   "outputs": [],
   "source": [
    "df_index_tmp"
   ]
  },
  {
   "cell_type": "code",
   "execution_count": null,
   "id": "4b5850e3",
   "metadata": {
    "scrolled": true
   },
   "outputs": [],
   "source": [
    "df_index_tmp[df_index_tmp['stwd_kor{}'.format(0)].isna()]"
   ]
  },
  {
   "cell_type": "code",
   "execution_count": null,
   "id": "47c56bbb",
   "metadata": {},
   "outputs": [],
   "source": [
    "# null제거\n",
    "for i in range(col_cnt):\n",
    "    df_index_tmp['stwd_kor{}'.format(i)] = df_index_tmp['stwd_kor{}'.format(i)].fillna(\"\")\n",
    "    df_index_tmp['num_kor{}'.format(i)] = df_index_tmp['num_kor{}'.format(i)].fillna(\"\")\n",
    "    df_index_tmp['dupl_list_kor{}'.format(i)] = df_index_tmp['dupl_list_kor{}'.format(i)].fillna(\"\")"
   ]
  },
  {
   "cell_type": "code",
   "execution_count": null,
   "id": "9fd13aae",
   "metadata": {},
   "outputs": [],
   "source": [
    "    \n",
    "# null값 수정\n",
    "for i in range(col_cnt):\n",
    "    df_index_tmp['stwd_kor{}'.format(i)] = df_index_tmp['stwd_kor{}'.format(i)].fillna(\"\")\n",
    "    df_index_tmp['num_kor{}'.format(i)] = df_index_tmp['num_kor{}'.format(i)].fillna(\"\")\n",
    "    df_index_tmp['dupl_list_kor{}'.format(i)] = df_index_tmp['dupl_list_kor{}'.format(i)].fillna(\"\")"
   ]
  },
  {
   "cell_type": "code",
   "execution_count": null,
   "id": "de641306",
   "metadata": {},
   "outputs": [],
   "source": [
    "df_index_tmp.iloc[:,30]"
   ]
  },
  {
   "cell_type": "code",
   "execution_count": null,
   "id": "aa4adb36",
   "metadata": {},
   "outputs": [],
   "source": [
    "df_index_tmp['stwd_kor{}'.format(1)].fillna(\"\")"
   ]
  },
  {
   "cell_type": "code",
   "execution_count": null,
   "id": "be1d27ee",
   "metadata": {},
   "outputs": [],
   "source": [
    "\n",
    "    \n",
    "    \n",
    "    \n",
    "    \n",
    "#     input_split_kor[\"num_kor{}\".format(i)] = \"num_kor{}\".format(i)\n",
    "#     globals()[\"stwd_kor{}\".format(i)] = pd.concat(\n",
    "#             [\n",
    "#             df_index.fillna(\"\"), \n",
    "#             pd.DataFrame(input_split_kor[\"stwd_kor{}\".format(i)]).fillna(\"\"),\n",
    "#             pd.DataFrame(input_split_kor[\"num_kor{}\".format(i)]).fillna(\"\"),\n",
    "#             globals()[\"dupl_list_kor{}\".format(i)].fillna(\"\")\n",
    "#             ], "
   ]
  },
  {
   "cell_type": "code",
   "execution_count": null,
   "id": "73adb23c",
   "metadata": {},
   "outputs": [],
   "source": [
    "df_index_tmp = df_index\n",
    "df_index_tmp "
   ]
  },
  {
   "cell_type": "code",
   "execution_count": null,
   "id": "1cf5599c",
   "metadata": {},
   "outputs": [],
   "source": [
    "for i in range(kor_firts_cnt):\n",
    "    a = stwd_total_kor_unique[stwd_total_kor_unique['num_kor'] == 'num_kor{}'.format(i)]\n",
    "    globals()['stwd_kor_uni{}'.format(i)] = stwd_total_kor_unique[stwd_total_kor_unique['num_kor'] == 'num_kor{}'.format(i)]\n",
    "    globals()['stwd_kor_uni{}'.format(i)].columns = ['index', 'stwd_kor{}'.format(i), 'num_kor{}'.format(i), 'dupl_list_kor{}'.format(i)]\n",
    "#     tmp['num_kor{}'.format(i)] = a['stwd_kor']\n",
    "    aa = a.merge(globals()['stwd_kor_uni{}'.format(i)], left_on = 'index', right_on = 'index', how = 'left')\n",
    "    print('===========================================================================')\n",
    "    print(a)\n",
    "    df_index_tmp = df_index_tmp.merge(\n",
    "        globals()['stwd_kor_uni{}'.format(i)], \n",
    "        left_on ='index',\n",
    "        right_on = 'index',\n",
    "        how = 'left'\n",
    "    )\n",
    "df_index_tmp"
   ]
  },
  {
   "cell_type": "code",
   "execution_count": null,
   "id": "22690954",
   "metadata": {},
   "outputs": [],
   "source": [
    "df_index_tmp.columns"
   ]
  },
  {
   "cell_type": "code",
   "execution_count": null,
   "id": "fea5ae8a",
   "metadata": {},
   "outputs": [],
   "source": [
    "tmp = pd.DataFrame()\n",
    "for i in range(kor_firts_cnt):\n",
    "#     a = pd.DataFrame()\n",
    "    a = stwd_total_kor_unique[stwd_total_kor_unique['num_kor'] == 'num_kor{}'.format(i)]\n",
    "    globals()['stwd_kor_uni{}'.format(i)] = stwd_total_kor_unique[stwd_total_kor_unique['num_kor'] == 'num_kor{}'.format(i)]\n",
    "#     tmp['num_kor{}'.format(i)] = a['stwd_kor']\n",
    "    tmp = df_index.merge(\n",
    "        globals()['stwd_kor_uni{}'.format(i)], \n",
    "        left_on ='index',\n",
    "        right_on = 'index',\n",
    "        how = 'left'\n",
    "    )\n",
    "    print(i)\n",
    "    print('===========================================================================')\n",
    "    print(tmp)\n",
    "tmp"
   ]
  },
  {
   "cell_type": "code",
   "execution_count": null,
   "id": "e5790588",
   "metadata": {},
   "outputs": [],
   "source": [
    "stwd_total_kor_unique[stwd_total_kor_unique['num_kor'] == 'num_kor0']"
   ]
  },
  {
   "cell_type": "code",
   "execution_count": null,
   "id": "fe50c666",
   "metadata": {},
   "outputs": [],
   "source": [
    "stwd_total_kor_unique.loc[stwd_total_kor_unique['num_kor'] == 'num_kor0', 'num_kor']"
   ]
  },
  {
   "cell_type": "code",
   "execution_count": null,
   "id": "33d19b91",
   "metadata": {},
   "outputs": [],
   "source": []
  },
  {
   "cell_type": "code",
   "execution_count": null,
   "id": "df56f545",
   "metadata": {},
   "outputs": [],
   "source": [
    "unique_stwd_kor['stwd_kor'].drop_duplicates()"
   ]
  },
  {
   "cell_type": "code",
   "execution_count": null,
   "id": "fe87e1f8",
   "metadata": {},
   "outputs": [],
   "source": [
    "pd.DataFrame(unique_stwd_kor['stwd_kor'].drop_duplicates())"
   ]
  },
  {
   "cell_type": "code",
   "execution_count": null,
   "id": "faf29220",
   "metadata": {},
   "outputs": [],
   "source": []
  },
  {
   "cell_type": "code",
   "execution_count": null,
   "id": "ce06d9f5",
   "metadata": {},
   "outputs": [],
   "source": []
  },
  {
   "cell_type": "code",
   "execution_count": null,
   "id": "3dbc50be",
   "metadata": {},
   "outputs": [],
   "source": [
    "# 특수기호 검사 : 한, 영\n",
    "# 소문자 검사 : 한, 영\n",
    "# 스페이스 제거 : 언제나\n",
    "input_test['용어명 분리'] = input_test['용어명 분리'].str.replace(\" \", \"\")"
   ]
  },
  {
   "cell_type": "code",
   "execution_count": null,
   "id": "ceebbf93",
   "metadata": {},
   "outputs": [],
   "source": []
  },
  {
   "cell_type": "code",
   "execution_count": null,
   "id": "95bc0090",
   "metadata": {},
   "outputs": [],
   "source": []
  },
  {
   "cell_type": "code",
   "execution_count": null,
   "id": "636fd968",
   "metadata": {},
   "outputs": [],
   "source": []
  },
  {
   "cell_type": "code",
   "execution_count": null,
   "id": "35f049b4",
   "metadata": {},
   "outputs": [],
   "source": []
  },
  {
   "cell_type": "code",
   "execution_count": null,
   "id": "b209151e",
   "metadata": {},
   "outputs": [],
   "source": []
  },
  {
   "cell_type": "code",
   "execution_count": null,
   "id": "373117fa",
   "metadata": {},
   "outputs": [],
   "source": []
  },
  {
   "cell_type": "markdown",
   "id": "a8ee9061",
   "metadata": {},
   "source": [
    "# 참고"
   ]
  },
  {
   "cell_type": "code",
   "execution_count": null,
   "id": "56913c4f",
   "metadata": {},
   "outputs": [],
   "source": [
    "############ num_kor(n) / num_eng(n) 기준으로 테이블 분리\n",
    "############ index 기준으로 left join하여 원상복구"
   ]
  },
  {
   "cell_type": "code",
   "execution_count": null,
   "id": "67bbdd23",
   "metadata": {},
   "outputs": [],
   "source": [
    "############## 이거 참고\n",
    "# db 조건 조회\n",
    "print(len(stwd_eng7.loc[stwd_eng7['stwd_eng7'] != \"\", 'stwd_eng7']))\n",
    "# 특수기호 제거\n",
    "# for i in range(len(input_test['영문약어명'])):\n",
    "#     tmp = input_test['영문약어명'][i].translate(str.maketrans('', '', string.punctuation))\n",
    "#     print(tmp)\n",
    "print(string.punctuation)"
   ]
  },
  {
   "cell_type": "code",
   "execution_count": null,
   "id": "21b17f8f",
   "metadata": {},
   "outputs": [],
   "source": [
    "# # 특수문자 제거\n",
    "# for i in range(len(input_test['영문약어명'])):\n",
    "#     tmp = input_test['영문약어명'][i].translate(str.maketrans('', '', string.punctuation))\n",
    "#     i += i\n",
    "#     print(tmp)\n",
    "# i"
   ]
  },
  {
   "cell_type": "code",
   "execution_count": null,
   "id": "c65db2d3",
   "metadata": {},
   "outputs": [],
   "source": [
    "# # -*- coding: utf-8 -*-\n",
    "# import sys\n",
    "# import re\n",
    "\n",
    "# def isHangul(text):\n",
    "#     #Check the Python Version\n",
    "#     pyVer3 =  sys.version_info >= (3, 0)\n",
    "\n",
    "#     if pyVer3 : # for Ver 3 or later\n",
    "#         encText = text\n",
    "#     else: # for Ver 2.x\n",
    "#         if type(text) is not unicode:\n",
    "#             encText = text.decode('utf-8')\n",
    "#         else:\n",
    "#             encText = text\n",
    "\n",
    "#     hanCount = len(re.findall(u'[\\u3130-\\u318F\\uAC00-\\uD7A3]+', encText))\n",
    "#     return hanCount > 0\n",
    "\n",
    "# 한글 영문 추리기1\n",
    "# if __name__ == '__main__':\n",
    "#     han = '한글'\n",
    "#     han2 = u'한글'\n",
    "#     input = 'English1234'  #utf-8\n",
    "#     input2 = u'English1234' #unicode\n",
    "#     #(major_ver, minor_ver) = (sys.version_info).split(',')\n",
    "#     print(han + \" is \" + str(isHangul(han)))\n",
    "#     print(han2 + \" is \" + str(isHangul(han2)))\n",
    "#     print(input + \" is \" + str(isHangul(input)))\n",
    "#     print(input2 + \" is \" + str(isHangul(input2)))\n",
    "\n",
    "# 한글 영문 추리기2\n",
    "# i = 23\n",
    "# print(stwd_total['stwd_eng'][i])\n",
    "# print(re.findall(u'[\\u3130-\\u318F\\uAC00-\\uD7A3]+', stwd_total['stwd_eng'][i]))\n",
    "# print(re.findall('[A-Za-z]', stwd_total['stwd_eng'][i]))"
   ]
  },
  {
   "cell_type": "code",
   "execution_count": null,
   "id": "4c613095",
   "metadata": {},
   "outputs": [],
   "source": []
  },
  {
   "cell_type": "code",
   "execution_count": null,
   "id": "383bae0a",
   "metadata": {},
   "outputs": [],
   "source": []
  },
  {
   "cell_type": "code",
   "execution_count": null,
   "id": "48df0b69",
   "metadata": {},
   "outputs": [],
   "source": []
  },
  {
   "cell_type": "code",
   "execution_count": null,
   "id": "a5d4c2c7",
   "metadata": {},
   "outputs": [],
   "source": []
  },
  {
   "cell_type": "code",
   "execution_count": null,
   "id": "c2fbef91",
   "metadata": {},
   "outputs": [],
   "source": []
  },
  {
   "cell_type": "code",
   "execution_count": null,
   "id": "2b2092be",
   "metadata": {},
   "outputs": [],
   "source": []
  },
  {
   "cell_type": "code",
   "execution_count": null,
   "id": "0ca54755",
   "metadata": {},
   "outputs": [],
   "source": [
    "# left join\n",
    "for i in range(name_cnt):\n",
    "    globals()['stwd_total{}'.format(i)] = pd.merge(\n",
    "        globals()['stwd_kor{}'.format(i)],\n",
    "        globals()['stwd_eng{}'.format(i)],\n",
    "        on = 'index',\n",
    "        how = 'left'\n",
    "    )\n",
    "\n",
    "# 카운트 일치 여부 점검\n",
    "index_cnt = len(df_index['index'])\n",
    "if index_cnt != len(stwd_total0):\n",
    "    print(\"index 와 joined_date count불일치\")\n",
    "else:\n",
    "    print(\"count 일치\")\n",
    "stwd_total5"
   ]
  },
  {
   "cell_type": "code",
   "execution_count": null,
   "id": "b70b271d",
   "metadata": {},
   "outputs": [],
   "source": []
  },
  {
   "cell_type": "code",
   "execution_count": null,
   "id": "be7c10e9",
   "metadata": {},
   "outputs": [],
   "source": []
  },
  {
   "cell_type": "code",
   "execution_count": null,
   "id": "e76a4a32",
   "metadata": {},
   "outputs": [],
   "source": []
  },
  {
   "cell_type": "code",
   "execution_count": null,
   "id": "9665cb4c",
   "metadata": {},
   "outputs": [],
   "source": []
  },
  {
   "cell_type": "code",
   "execution_count": null,
   "id": "8c42ff45",
   "metadata": {},
   "outputs": [],
   "source": [
    "# merge\n",
    "for i in range(name_cnt):\n",
    "    globals()['stwd_total{}'.format(i)] = pd.concat(\n",
    "        [\n",
    "        globals()['stwd_kor{}'.format(i)],\n",
    "        globals()['stwd_eng{}'.format(i)]\n",
    "        ],\n",
    "        axis = 1        \n",
    "    )\n",
    "    print(i)\n",
    "# print(name_cnt)\n",
    "# print(name_cnt_diff_list)\n",
    "\n",
    "\n",
    "stwd_total1"
   ]
  },
  {
   "cell_type": "code",
   "execution_count": null,
   "id": "7cdbdaf2",
   "metadata": {},
   "outputs": [],
   "source": []
  },
  {
   "cell_type": "code",
   "execution_count": null,
   "id": "a5afb9dd",
   "metadata": {},
   "outputs": [],
   "source": []
  },
  {
   "cell_type": "code",
   "execution_count": null,
   "id": "71c988e5",
   "metadata": {},
   "outputs": [],
   "source": []
  },
  {
   "cell_type": "code",
   "execution_count": null,
   "id": "8ce65cf3",
   "metadata": {},
   "outputs": [],
   "source": []
  },
  {
   "cell_type": "code",
   "execution_count": null,
   "id": "bfce36ca",
   "metadata": {},
   "outputs": [],
   "source": [
    "for i in list(set(range(name_cnt)) - set(range(name_cnt_diff))):\n",
    "    print(i)\n"
   ]
  },
  {
   "cell_type": "code",
   "execution_count": null,
   "id": "01724074",
   "metadata": {},
   "outputs": [],
   "source": [
    "list(set(range(name_cnt_kor)) - set(range(name_cnt_eng)))"
   ]
  },
  {
   "cell_type": "code",
   "execution_count": null,
   "id": "8bd9c72e",
   "metadata": {},
   "outputs": [],
   "source": [
    "input_split_eng"
   ]
  },
  {
   "cell_type": "code",
   "execution_count": null,
   "id": "eae97030",
   "metadata": {},
   "outputs": [],
   "source": [
    "input_split_eng['stwd_eng6'] = None\n",
    "input_split_eng['stwd_eng6']"
   ]
  },
  {
   "cell_type": "code",
   "execution_count": null,
   "id": "3c9e415a",
   "metadata": {},
   "outputs": [],
   "source": [
    "input_split_eng['stwd_eng6']"
   ]
  },
  {
   "cell_type": "code",
   "execution_count": null,
   "id": "cf86aa8a",
   "metadata": {},
   "outputs": [],
   "source": [
    "# 한글/영문 컬럼 수 비교하기\n",
    "name_cnt_kor = len(name_list_kor)\n",
    "name_cnt_eng = len(name_list_eng)\n",
    "\n",
    "if name_cnt_kor == name_cnt_eng:\n",
    "    name_cnt = name_cnt_kor\n",
    "    name_cnt_diff_list = None\n",
    "elif name_cnt_kor > name_cnt_eng:\n",
    "    name_cnt = name_cnt_eng\n",
    "    name_cnt_diff_list = list(set(range(name_cnt_kor)) - set(range(name_cnt_eng)))\n",
    "    for i in name_cnt_diff_list:\n",
    "        input_split_eng['stwd_eng{}'.format(i)] = None\n",
    "        input_split_eng['num_eng{}'.format(i)] = None\n",
    "        globals()['stwd_eng{}'.format(i)] = pd.concat(\n",
    "            [\n",
    "                df_index,\n",
    "                pd.DataFrame(input_split_eng['stwd_eng{}'.format(i)]),\n",
    "                pd.DataFrame(input_split_eng[\"num_eng{}\".format(i)])\n",
    "            ],\n",
    "            axis = 1\n",
    "        )\n",
    "        \n",
    "        \n",
    "        \n",
    "elif name_cnt_kor < name_cnt_eng:\n",
    "    name_cnt = name_cnt_kor\n",
    "    name_cnt_diff_list = list(set(range(name_cnt_eng)) - set(range(name_cnt_kor)))\n",
    "    for i in name_cnt_diff_list:\n",
    "        input_split_kor['stwd_kor{}'.format(i)] = None\n",
    "        input_split_kor['num_kor{}'.format(i)] = None\n",
    "        globals()['stwd_kor{}'.format(i)] = pd.concat(\n",
    "            [\n",
    "                df_index,\n",
    "                pd.DataFrame(input_split_kor['stwd_kor{}'.format(i)]),\n",
    "                pd.DataFrame(input_split_kor[\"num_kor{}\".format(i)])\n",
    "            ],\n",
    "            axis = 1\n",
    "        )\n",
    "        \n",
    "\n",
    "stwd_eng7\n"
   ]
  },
  {
   "cell_type": "code",
   "execution_count": null,
   "id": "03271dd5",
   "metadata": {},
   "outputs": [],
   "source": [
    "stwd_eng6"
   ]
  },
  {
   "cell_type": "code",
   "execution_count": null,
   "id": "eee55fcd",
   "metadata": {},
   "outputs": [],
   "source": [
    "# 한글/영문 컬럼 수 비교하기\n",
    "name_cnt_kor = len(name_list)\n",
    "name_cnt_eng = len(name_list_eng)\n",
    "\n",
    "if name_cnt_kor == name_cnt_eng:\n",
    "    name_cnt = name_cnt_kor\n",
    "    name_cnt_diff_list = None\n",
    "elif name_cnt_kor > name_cnt_eng:\n",
    "    name_cnt = name_cnt_eng\n",
    "    name_cnt_diff_list = list(set(range(name_cnt_kor)) - set(range(name_cnt_eng)))\n",
    "    for i in name_cnt_diff_list:\n",
    "        globals()['stwd_eng{}'.format(i)] = None\n",
    "elif name_cnt_kor < name_cnt_eng:\n",
    "    name_cnt = name_cnt\n",
    "    name_cnt_diff_list = list(set(range(name_cnt_eng)) - set(range(name_cnt_kor)))\n",
    "    \n",
    "    \n",
    "\n",
    "    \n",
    "    \n",
    "for i in range(name_cnt):\n",
    "    globals()['stwd_total{}'.format(i)] = pd.concat(\n",
    "        [\n",
    "        globals()['stwd{}'.format(i)],\n",
    "        globals()['stwd_eng{}'.format(i)]\n",
    "        ],\n",
    "        axis = 1        \n",
    "    )\n",
    "    print(i)\n",
    "# print(name_cnt)\n",
    "# print(name_cnt_diff_list)"
   ]
  },
  {
   "cell_type": "code",
   "execution_count": null,
   "id": "f9979475",
   "metadata": {
    "scrolled": true
   },
   "outputs": [],
   "source": [
    "# 리스트 - 리스트\n",
    "list1 = [1,2]\n",
    "list2 = [1,2,3]\n",
    "list(set(list2) - set(list1))\n",
    "list(set(list1) - set(list2))\n",
    "list(set(list1).difference(set(list2)))\n",
    "list(set(range(10)) - set(range(2)))"
   ]
  },
  {
   "cell_type": "code",
   "execution_count": null,
   "id": "f36d01ae",
   "metadata": {},
   "outputs": [],
   "source": [
    "list(set(range(10)) - set(range(2)))"
   ]
  },
  {
   "cell_type": "code",
   "execution_count": null,
   "id": "1cb7b1be",
   "metadata": {},
   "outputs": [],
   "source": [
    "list(set(range(2)) - set(range(10)))"
   ]
  },
  {
   "cell_type": "code",
   "execution_count": null,
   "id": "19672885",
   "metadata": {},
   "outputs": [],
   "source": []
  },
  {
   "cell_type": "code",
   "execution_count": null,
   "id": "88a77a79",
   "metadata": {},
   "outputs": [],
   "source": []
  },
  {
   "cell_type": "code",
   "execution_count": null,
   "id": "a72e5ca8",
   "metadata": {},
   "outputs": [],
   "source": []
  },
  {
   "cell_type": "code",
   "execution_count": null,
   "id": "b0ef7e0a",
   "metadata": {},
   "outputs": [],
   "source": [
    "# 용어명 분리\n",
    "input_test['용어명 분리'] = input_test['용어명 분리'].str.replace(\" \", \"\")\n",
    "input_split = pd.DataFrame(input_test['용어명 분리'].str.split('_').tolist())\n",
    "name_list = []\n",
    "for i in range(len(input_split.columns)):\n",
    "    name_list.append(\"stwd{}\".format(i))\n",
    "print(name_list)\n",
    "# 컬럼명 만들기\n",
    "input_split = pd.DataFrame(input_test['용어명 분리'].str.split('_').tolist(), columns = name_list)\n",
    "# 인덱스 컬럼 추가\n",
    "df_index = pd.DataFrame(input_test['No'])\n",
    "df_index.columns = ['index']\n",
    "input_split= pd.concat([input_split, df_index], axis = 1)\n",
    "print(input_split.shape)\n",
    "input_split.head(5)"
   ]
  },
  {
   "cell_type": "code",
   "execution_count": null,
   "id": "67005077",
   "metadata": {},
   "outputs": [],
   "source": [
    "# 영문명 분리\n",
    "input_test['영문약어명'] = input_test['영문약어명'].str.replace(\" \", \"\")\n",
    "input_split_eng = pd.DataFrame(input_test['영문약어명'].str.split('_').tolist())\n",
    "name_list_eng = []\n",
    "for i in range(len(input_split_eng.columns)):\n",
    "    name_list_eng.append(\"stwd_eng{}\".format(i))\n",
    "print(name_list_eng)\n",
    "# 컬럼명 만들기\n",
    "input_split_eng = pd.DataFrame(input_test['영문약어명'].str.split('_').tolist(), columns = name_list_eng)\n",
    "# 인덱스 컬럼 추가\n",
    "# df_index = pd.DataFrame(input_test['No'])\n",
    "# df_index.columns = ['index']\n",
    "# input_split_eng= pd.concat([input_split_eng, df_index], axis = 1)\n",
    "print(input_split_eng.shape)\n",
    "input_split_eng.head(5)"
   ]
  },
  {
   "cell_type": "code",
   "execution_count": null,
   "id": "fcd75f26",
   "metadata": {},
   "outputs": [],
   "source": [
    "name_list = []\n",
    "for i in range(len(input_split_eng.columns)):\n",
    "    name_list_eng.append(\"stwd_eng{}\".format(i))"
   ]
  },
  {
   "cell_type": "code",
   "execution_count": null,
   "id": "c7aa71b5",
   "metadata": {},
   "outputs": [],
   "source": [
    "if len(name_list) == len(name_list_eng):\n",
    "    name_list_cnt = len(name_list)\n",
    "elif len(name_list) > len(name_list_eng):\n",
    "    name_list_cnt = len(name_list)\n",
    "elif len(name_list) < len(name_list_eng):\n",
    "    name_list_cnt = len(name_list_eng)\n",
    "    \n",
    "for i in range(name_list_cnt):\n",
    "    print(i)"
   ]
  },
  {
   "cell_type": "code",
   "execution_count": null,
   "id": "f925d077",
   "metadata": {},
   "outputs": [],
   "source": []
  },
  {
   "cell_type": "code",
   "execution_count": null,
   "id": "1789702b",
   "metadata": {},
   "outputs": [],
   "source": []
  },
  {
   "cell_type": "code",
   "execution_count": null,
   "id": "aad3c40c",
   "metadata": {},
   "outputs": [],
   "source": []
  },
  {
   "cell_type": "code",
   "execution_count": null,
   "id": "528a7e6f",
   "metadata": {},
   "outputs": [],
   "source": []
  },
  {
   "cell_type": "code",
   "execution_count": null,
   "id": "4b302682",
   "metadata": {},
   "outputs": [],
   "source": []
  },
  {
   "cell_type": "code",
   "execution_count": null,
   "id": "1d25f5db",
   "metadata": {},
   "outputs": [],
   "source": [
    "if len(name_list) == len(name_list_eng):\n",
    "    print(1)\n",
    "elif len(name_list) > len(name_list_eng):\n",
    "    print(2)    \n",
    "elif len(name_list) < len(name_list_eng):\n",
    "    print(3)"
   ]
  },
  {
   "cell_type": "code",
   "execution_count": null,
   "id": "1f4d71d5",
   "metadata": {},
   "outputs": [],
   "source": [
    "len(name_list_eng)"
   ]
  },
  {
   "cell_type": "code",
   "execution_count": null,
   "id": "717a24e4",
   "metadata": {},
   "outputs": [],
   "source": [
    "len(name_list)"
   ]
  },
  {
   "cell_type": "code",
   "execution_count": null,
   "id": "6f532858",
   "metadata": {},
   "outputs": [],
   "source": []
  },
  {
   "cell_type": "code",
   "execution_count": null,
   "id": "a610a2ce",
   "metadata": {},
   "outputs": [],
   "source": []
  },
  {
   "cell_type": "code",
   "execution_count": null,
   "id": "3b24e884",
   "metadata": {},
   "outputs": [],
   "source": []
  },
  {
   "cell_type": "code",
   "execution_count": null,
   "id": "a03325fa",
   "metadata": {},
   "outputs": [],
   "source": []
  },
  {
   "cell_type": "code",
   "execution_count": null,
   "id": "ada39004",
   "metadata": {},
   "outputs": [],
   "source": [
    "# 용어명 분리\n",
    "input_test['용어명 분리'] = input_test['용어명 분리'].str.replace(\" \", \"\")\n",
    "input_split = pd.DataFrame(input_test['용어명 분리'].str.split('_').tolist())\n",
    "name_list = []\n",
    "for i in range(len(input_split.columns)):\n",
    "    name_list.append(\"stwd{}\".format(i))\n",
    "print(name_list)\n",
    "# 컬럼명 만들기\n",
    "input_split = pd.DataFrame(input_test['용어명 분리'].str.split('_').tolist(), columns = name_list)\n",
    "print(input_split.shape)\n",
    "input_split.head(5)"
   ]
  },
  {
   "cell_type": "code",
   "execution_count": null,
   "id": "a097dc53",
   "metadata": {},
   "outputs": [],
   "source": [
    "# 단어별 개수 세기(네이밍 컬럼)\n",
    "dupl_list = []\n",
    "dupl_cnt = []\n",
    "for i in range(len(input_split.columns)):\n",
    "    globals()[\"dupl_list{}\".format(i)] = []\n",
    "    for j in range(len(input_split[\"stwd{}\".format(i)])):\n",
    "        dupl_cnt = input_split[\"stwd{}\".format(i)].to_list().count(input_split[\"stwd{}\".format(i)][j])\n",
    "        globals()[\"dupl_list{}\".format(i)].append(dupl_cnt)\n",
    "# df_dupl 힌즐 세우기\n",
    "df_dupl = pd.DataFrame()\n",
    "for i in range(len(input_split.columns)):\n",
    "    globals()[\"dupl_list{}\".format(i)]\n",
    "    df_dupl = pd.concat([df_dupl, pd.DataFrame(globals()[\"dupl_list{}\".format(i)])], axis = 0)\n",
    "df_dupl.columns = ['dupl']\n",
    "df_dupl"
   ]
  },
  {
   "cell_type": "code",
   "execution_count": null,
   "id": "0f87aa2a",
   "metadata": {},
   "outputs": [],
   "source": [
    "# df_index 한줄 세우기\n",
    "# df_index = pd.DataFrame(input_test['No'])\n",
    "df_index = pd.DataFrame()\n",
    "for i in range(len(input_split.columns)):\n",
    "#     globals()[\"df_index{}\".format(i)] = pd.DataFrame(input_test['No'])\n",
    "    df_index = pd.concat([df_index, pd.DataFrame(input_test['No'])])\n",
    "df_index.columns = ['index']\n",
    "df_index"
   ]
  },
  {
   "cell_type": "code",
   "execution_count": null,
   "id": "b840f19f",
   "metadata": {},
   "outputs": [],
   "source": [
    "# df_stwd 힌즐 세우기\n",
    "df_stwd = pd.DataFrame()\n",
    "for i in range(len(input_split.columns)):\n",
    "    globals()[\"df_stwd{}\".format(i)] = input_split[\"stwd{}\".format(i)]\n",
    "    df_stwd = pd.concat([df_stwd, globals()[\"df_stwd{}\".format(i)]])\n",
    "df_stwd.columns = ['stwd']\n",
    "df_stwd"
   ]
  },
  {
   "cell_type": "code",
   "execution_count": null,
   "id": "c251d8c1",
   "metadata": {},
   "outputs": [],
   "source": [
    "# df_chk\n",
    "df_chk = pd.concat([df_stwd, df_index], axis=1).reset_index() # 인덱스 초기화\n",
    "df_chk = df_chk[['stwd', 'index']]\n",
    "print(df_chk.shape)\n",
    "df_chk.tail(5)"
   ]
  },
  {
   "cell_type": "code",
   "execution_count": null,
   "id": "93a577f5",
   "metadata": {},
   "outputs": [],
   "source": [
    "### 한글 단어 분리"
   ]
  },
  {
   "cell_type": "code",
   "execution_count": null,
   "id": "543edf6f",
   "metadata": {},
   "outputs": [],
   "source": []
  },
  {
   "cell_type": "code",
   "execution_count": null,
   "id": "c414196e",
   "metadata": {},
   "outputs": [],
   "source": []
  },
  {
   "cell_type": "code",
   "execution_count": null,
   "id": "61dae374",
   "metadata": {},
   "outputs": [],
   "source": []
  },
  {
   "cell_type": "code",
   "execution_count": null,
   "id": "589597f8",
   "metadata": {},
   "outputs": [],
   "source": [
    "# 영문명 분리\n",
    "input_test['영문약어명'] = input_test['영문약어명'].str.replace(\" \", \"\")\n",
    "input_split_eng = pd.DataFrame(input_test['영문약어명'].str.split('_').tolist())\n",
    "name_list = []\n",
    "for i in range(len(input_split_eng.columns)):\n",
    "    name_list.append(\"stwd_eng{}\".format(i))\n",
    "print(name_list)\n",
    "# 컬럼명 만들기\n",
    "input_split_eng = pd.DataFrame(input_test['영문약어명'].str.split('_').tolist(), columns = name_list)\n",
    "print(input_split_eng.shape)\n",
    "input_split_eng.head(5)"
   ]
  },
  {
   "cell_type": "code",
   "execution_count": null,
   "id": "59da8e01",
   "metadata": {},
   "outputs": [],
   "source": [
    "# df_index 한줄 세우기\n",
    "df_index_eng = pd.DataFrame()\n",
    "for i in range(len(input_split_eng.columns)):\n",
    "    df_index_eng = pd.concat([df_index_eng, pd.DataFrame(input_test['No'])])\n",
    "df_index_eng.columns = ['index']\n",
    "df_index_eng"
   ]
  },
  {
   "cell_type": "code",
   "execution_count": null,
   "id": "cb612222",
   "metadata": {},
   "outputs": [],
   "source": [
    "# df_stwd_eng 힌즐 세우기\n",
    "df_stwd_eng = pd.DataFrame()\n",
    "for i in range(len(input_split_eng.columns)):\n",
    "    globals()[\"df_stwd_eng{}\".format(i)] = input_split_eng[\"stwd_eng{}\".format(i)]\n",
    "    df_stwd_eng = pd.concat([df_stwd_eng, globals()[\"df_stwd_eng{}\".format(i)]])\n",
    "df_stwd_eng.columns = ['stwd_eng']\n",
    "df_stwd_eng"
   ]
  },
  {
   "cell_type": "code",
   "execution_count": null,
   "id": "7a996ef4",
   "metadata": {},
   "outputs": [],
   "source": [
    "# df_chk_eng\n",
    "df_chk_eng = pd.concat([df_stwd_eng, df_index_eng], axis=1).reset_index() # 인덱스 초기화\n",
    "df_chk_eng = df_chk_eng[['stwd_eng', 'index']]\n",
    "print(df_chk_eng.shape)\n",
    "df_chk_eng.tail(5)"
   ]
  },
  {
   "cell_type": "code",
   "execution_count": null,
   "id": "00275015",
   "metadata": {},
   "outputs": [],
   "source": [
    "### 영문 단어 분리"
   ]
  },
  {
   "cell_type": "code",
   "execution_count": null,
   "id": "27250157",
   "metadata": {},
   "outputs": [],
   "source": []
  },
  {
   "cell_type": "code",
   "execution_count": null,
   "id": "f367521d",
   "metadata": {},
   "outputs": [],
   "source": []
  },
  {
   "cell_type": "code",
   "execution_count": null,
   "id": "bb81321d",
   "metadata": {},
   "outputs": [],
   "source": []
  },
  {
   "cell_type": "code",
   "execution_count": null,
   "id": "2dbf3a55",
   "metadata": {},
   "outputs": [],
   "source": [
    "df_chk.merge(df_chk_eng, on='index' "
   ]
  },
  {
   "cell_type": "code",
   "execution_count": null,
   "id": "fb17a24b",
   "metadata": {},
   "outputs": [],
   "source": []
  },
  {
   "cell_type": "code",
   "execution_count": null,
   "id": "35f06fbd",
   "metadata": {},
   "outputs": [],
   "source": []
  },
  {
   "cell_type": "code",
   "execution_count": null,
   "id": "0d8202f3",
   "metadata": {},
   "outputs": [],
   "source": []
  },
  {
   "cell_type": "code",
   "execution_count": null,
   "id": "442f5b96",
   "metadata": {},
   "outputs": [],
   "source": []
  },
  {
   "cell_type": "code",
   "execution_count": null,
   "id": "112b25c9",
   "metadata": {},
   "outputs": [],
   "source": []
  },
  {
   "cell_type": "code",
   "execution_count": null,
   "id": "43ad27ae",
   "metadata": {},
   "outputs": [],
   "source": []
  },
  {
   "cell_type": "code",
   "execution_count": null,
   "id": "bfe10db6",
   "metadata": {},
   "outputs": [],
   "source": []
  },
  {
   "cell_type": "code",
   "execution_count": null,
   "id": "d057f85e",
   "metadata": {},
   "outputs": [],
   "source": [
    "# df_chk_uni\n",
    "df_chk_uni = df_chk[df_chk['stwd'].duplicated()==False].reset_index()\n",
    "df_chk_uni = df_chk_uni[['stwd', 'index']]\n",
    "df_chk_uni.tail(5)"
   ]
  },
  {
   "cell_type": "code",
   "execution_count": null,
   "id": "1bfd600d",
   "metadata": {},
   "outputs": [],
   "source": [
    "# unique 단어 개수 세기\n",
    "dupl_list = []\n",
    "dupl_cnt = []\n",
    "for i in range(len(df_chk_uni[\"stwd\"])):\n",
    "    dupl_cnt = df_chk_uni[\"stwd\"].to_list().count(df_chk_uni[\"stwd\"][i])\n",
    "    dupl_list.append(dupl_cnt)\n",
    "\n",
    "len(dupl_list)"
   ]
  },
  {
   "cell_type": "code",
   "execution_count": null,
   "id": "58b3cc80",
   "metadata": {},
   "outputs": [],
   "source": [
    "# 횟수 병합\n",
    "df_chk_uni = pd.concat([df_chk_uni, pd.DataFrame(dupl_list)], axis = 1)\n",
    "df_chk_uni.columns = ['stwd', 'index', 'dupl_cnt']\n",
    "print(df_chk_uni[df_chk_uni['dupl_cnt'] != 1])\n",
    "print(df_chk_uni[df_chk_uni['dupl_cnt'] == None])\n",
    "df_chk_uni.tail(5)"
   ]
  },
  {
   "cell_type": "code",
   "execution_count": null,
   "id": "68bf6f24",
   "metadata": {
    "scrolled": true
   },
   "outputs": [],
   "source": [
    "# 점검 , 변환\n",
    "# ab['dupl_cnt'].info()\n",
    "# ab['dupl_cnt'].astype(int)"
   ]
  },
  {
   "cell_type": "code",
   "execution_count": null,
   "id": "104679e9",
   "metadata": {},
   "outputs": [],
   "source": []
  },
  {
   "cell_type": "code",
   "execution_count": null,
   "id": "e2316492",
   "metadata": {},
   "outputs": [],
   "source": [
    "# df_chk_uni\n",
    "df_chk_dupl = df_chk[df_chk['stwd'].duplicated()].reset_index()\n",
    "df_chk_dupl = df_chk_dupl[['stwd', 'index']]\n",
    "df_chk_dupl.tail(5)"
   ]
  },
  {
   "cell_type": "code",
   "execution_count": null,
   "id": "6be2730f",
   "metadata": {},
   "outputs": [],
   "source": [
    "# dupl 단어 개수 세기\n",
    "dupl_list = []\n",
    "dupl_cnt = []\n",
    "for i in range(len(df_chk_dupl[\"stwd\"])):\n",
    "    dupl_cnt = df_chk_dupl[\"stwd\"].to_list().count(df_chk_dupl[\"stwd\"][i])\n",
    "    dupl_list.append(dupl_cnt)\n",
    "\n",
    "len(dupl_list)"
   ]
  },
  {
   "cell_type": "code",
   "execution_count": null,
   "id": "12f0510a",
   "metadata": {},
   "outputs": [],
   "source": [
    "# 횟수 병합\n",
    "df_chk_dupl = pd.concat([df_chk_dupl, pd.DataFrame(dupl_list)], axis = 1)\n",
    "df_chk_dupl.columns = ['stwd', 'index', 'dupl_cnt']\n",
    "print(df_chk_dupl[df_chk_dupl['dupl_cnt'] == 1])\n",
    "print(df_chk_dupl[df_chk_dupl['dupl_cnt'] == None])\n",
    "df_chk_dupl.tail(5)"
   ]
  },
  {
   "cell_type": "code",
   "execution_count": null,
   "id": "d0e3ca3a",
   "metadata": {},
   "outputs": [],
   "source": [
    "df_chk_dupl[df_chk_dupl['stwd'] == '매수']"
   ]
  },
  {
   "cell_type": "code",
   "execution_count": null,
   "id": "2610e35d",
   "metadata": {},
   "outputs": [],
   "source": [
    "cc = df_chk_dupl.merge(input_test, left_on = 'index', right_on = 'No', how='left')\n",
    "cc = cc[cc['stwd'].duplicated()==False]\n",
    "print(cc.shape)\n",
    "cc.head(3)"
   ]
  },
  {
   "cell_type": "code",
   "execution_count": null,
   "id": "7fc9f1b7",
   "metadata": {},
   "outputs": [],
   "source": [
    "df_chk_dupl.to_excel(input_path+\"dsfadas.xlsx\")"
   ]
  },
  {
   "cell_type": "code",
   "execution_count": null,
   "id": "6b8822d2",
   "metadata": {},
   "outputs": [],
   "source": [
    "cc = df_chk_dupl['stwd'].drop_duplicates()\n",
    "(cc.shape)\n",
    "cc"
   ]
  },
  {
   "cell_type": "code",
   "execution_count": null,
   "id": "8d33dac8",
   "metadata": {},
   "outputs": [],
   "source": [
    "cc.to_excel(input_path+\"cccccccccccc.xlsx\")"
   ]
  },
  {
   "cell_type": "code",
   "execution_count": null,
   "id": "47970b0d",
   "metadata": {},
   "outputs": [],
   "source": []
  },
  {
   "cell_type": "code",
   "execution_count": null,
   "id": "9f430c0a",
   "metadata": {},
   "outputs": [],
   "source": [
    "df_chk_dupl['stwd'].drop_duplicates()"
   ]
  },
  {
   "cell_type": "code",
   "execution_count": null,
   "id": "c0950dbd",
   "metadata": {},
   "outputs": [],
   "source": [
    "ccc = df_chk_dupl.merge(input_test, left_on = 'index', right_on = 'No', how='left')\n",
    "ccc = ccc[ccc['stwd'].duplicated()]\n",
    "print(ccc.shape)\n",
    "ccc.head(3)"
   ]
  },
  {
   "cell_type": "code",
   "execution_count": null,
   "id": "4769f8c0",
   "metadata": {},
   "outputs": [],
   "source": [
    "ccc.to_excel(input_path+\"cccccccccc3cc.xlsx\")"
   ]
  },
  {
   "cell_type": "code",
   "execution_count": null,
   "id": "7cd44379",
   "metadata": {},
   "outputs": [],
   "source": []
  },
  {
   "cell_type": "code",
   "execution_count": null,
   "id": "182bdc3c",
   "metadata": {},
   "outputs": [],
   "source": []
  },
  {
   "cell_type": "code",
   "execution_count": null,
   "id": "6cbf0ed4",
   "metadata": {},
   "outputs": [],
   "source": []
  },
  {
   "cell_type": "code",
   "execution_count": null,
   "id": "463df8f6",
   "metadata": {},
   "outputs": [],
   "source": [
    "a[a['stwd'].duplicated()]"
   ]
  },
  {
   "cell_type": "code",
   "execution_count": null,
   "id": "49f20dfa",
   "metadata": {},
   "outputs": [],
   "source": [
    "a[pd.DataFrame(a['stwd']).duplicated(keep='first')]"
   ]
  },
  {
   "cell_type": "code",
   "execution_count": null,
   "id": "6781b448",
   "metadata": {},
   "outputs": [],
   "source": [
    "a['stwd'].drop_duplicates()"
   ]
  },
  {
   "cell_type": "code",
   "execution_count": null,
   "id": "b98f0aaf",
   "metadata": {},
   "outputs": [],
   "source": []
  },
  {
   "cell_type": "code",
   "execution_count": null,
   "id": "0c1a9c28",
   "metadata": {},
   "outputs": [],
   "source": []
  },
  {
   "cell_type": "code",
   "execution_count": null,
   "id": "b421f8ef",
   "metadata": {},
   "outputs": [],
   "source": [
    "a = pd.concat([df_stwd, df_dupl, df_index], axis=1)\n",
    "a"
   ]
  },
  {
   "cell_type": "code",
   "execution_count": null,
   "id": "925b5771",
   "metadata": {},
   "outputs": [],
   "source": [
    "tOK = a.loc[a['dupl'] == 1]\n",
    "# tOK['stwd'].dropna()\n",
    "tOK[tOK['stwd'] == '검토']\n",
    "tOK\n",
    "tNO = a.loc[a['dupl'] > 1]\n",
    "# tNO['stwd'].dropna()\n",
    "tNO[tNO['stwd'] == '검토']\n",
    "tNO"
   ]
  },
  {
   "cell_type": "code",
   "execution_count": null,
   "id": "efb71ae7",
   "metadata": {},
   "outputs": [],
   "source": [
    "tOK['stwd'].drop_duplicates()"
   ]
  },
  {
   "cell_type": "code",
   "execution_count": null,
   "id": "8a33762e",
   "metadata": {},
   "outputs": [],
   "source": [
    "print(368 + 412)\n",
    "tNO['stwd'].drop_duplicates()"
   ]
  },
  {
   "cell_type": "code",
   "execution_count": null,
   "id": "fd65362b",
   "metadata": {
    "scrolled": true
   },
   "outputs": [],
   "source": [
    "a['stwd'].drop_duplicates()"
   ]
  },
  {
   "cell_type": "code",
   "execution_count": null,
   "id": "fb84ff62",
   "metadata": {},
   "outputs": [],
   "source": [
    "t2['stwd'].drop_duplicates()"
   ]
  },
  {
   "cell_type": "code",
   "execution_count": null,
   "id": "88797ea0",
   "metadata": {},
   "outputs": [],
   "source": [
    "a.to_excel(input_path+\"\\\\dfdf.xlsx\")"
   ]
  },
  {
   "cell_type": "code",
   "execution_count": null,
   "id": "8ee6d1e0",
   "metadata": {},
   "outputs": [],
   "source": [
    "tOK.to_excel(input_path+\"\\\\dfdfOK.xlsx\")"
   ]
  },
  {
   "cell_type": "code",
   "execution_count": null,
   "id": "0db879e0",
   "metadata": {},
   "outputs": [],
   "source": [
    "tNO.to_excel(input_path+\"\\\\dfdfNO.xlsx\")"
   ]
  },
  {
   "cell_type": "code",
   "execution_count": null,
   "id": "af332237",
   "metadata": {},
   "outputs": [],
   "source": [
    "tNO['stwd'].drop_duplicates().to_excel(input_path+\"\\\\dfdfNO_DUP.xlsx\")"
   ]
  },
  {
   "cell_type": "code",
   "execution_count": null,
   "id": "40e35b42",
   "metadata": {},
   "outputs": [],
   "source": []
  },
  {
   "cell_type": "code",
   "execution_count": null,
   "id": "4aa30759",
   "metadata": {},
   "outputs": [],
   "source": [
    "t2['stwd'].drop_duplicates().tail(30)"
   ]
  },
  {
   "cell_type": "code",
   "execution_count": null,
   "id": "5faf30e0",
   "metadata": {},
   "outputs": [],
   "source": [
    "# t2 = a[a['stwd'].duplicated(keep='first')]\n",
    "t2 = a[a['stwd'].duplicated(False)]\n",
    "t2[t2['stwd'] == '검토']\n",
    "# t2['stwd'].dropna()\n",
    "t2"
   ]
  },
  {
   "cell_type": "code",
   "execution_count": null,
   "id": "1a630736",
   "metadata": {},
   "outputs": [],
   "source": [
    "t2.drop_"
   ]
  },
  {
   "cell_type": "code",
   "execution_count": null,
   "id": "4c52244a",
   "metadata": {},
   "outputs": [],
   "source": [
    "a[a['stwd'] == '검토']"
   ]
  },
  {
   "cell_type": "code",
   "execution_count": null,
   "id": "dcea8c74",
   "metadata": {},
   "outputs": [],
   "source": [
    "a.head(20)"
   ]
  },
  {
   "cell_type": "code",
   "execution_count": null,
   "id": "66b021a3",
   "metadata": {},
   "outputs": [],
   "source": [
    "a['stwd'].duplicated(keep='first').head(20)\n",
    "# t#['stwd'].dropna()\n",
    "# t3[t3['stwd'] == '검토']"
   ]
  },
  {
   "cell_type": "code",
   "execution_count": null,
   "id": "2577c1d3",
   "metadata": {},
   "outputs": [],
   "source": []
  },
  {
   "cell_type": "code",
   "execution_count": null,
   "id": "0c00ceba",
   "metadata": {},
   "outputs": [],
   "source": []
  },
  {
   "cell_type": "code",
   "execution_count": null,
   "id": "94aec878",
   "metadata": {},
   "outputs": [],
   "source": [
    "# # concat 을 위한 DataFame 묶기 (o 시리즈여야 한곳에 정렬됨! 데이터 프레임 안됨)\n",
    "# for i in range(len(input_split.columns)):\n",
    "#     globals()[\"df_stwd{}\".format(i)] = [\"duple_list{}\".format(i)]\n",
    "# df_stwd0"
   ]
  },
  {
   "cell_type": "code",
   "execution_count": null,
   "id": "35deaae8",
   "metadata": {},
   "outputs": [],
   "source": [
    "# concat 을 위한 DataFame 묶기 (o 시리즈여야 한곳에 정렬됨! 데이터 프레임 안됨)\n",
    "for i in range(len(input_split.columns)):\n",
    "    globals()[\"df_stwd{}\".format(i)] = input_split[\"stwd{}\".format(i)]\n",
    "df_stwd0"
   ]
  },
  {
   "cell_type": "code",
   "execution_count": null,
   "id": "d2ff198e",
   "metadata": {},
   "outputs": [],
   "source": [
    "# df_index 묶기\n",
    "for i in range(len(input_split.columns)):\n",
    "    globals()[\"df_index{}\".format(i)] = input_split[\"stwd{}\".format(i)]\n",
    "df_stwd0"
   ]
  },
  {
   "cell_type": "code",
   "execution_count": null,
   "id": "fe0068b1",
   "metadata": {},
   "outputs": [],
   "source": []
  },
  {
   "cell_type": "code",
   "execution_count": null,
   "id": "72996384",
   "metadata": {},
   "outputs": [],
   "source": [
    "df_stwd = pd.concat([df_stwd, df_index], axis=1)\n",
    "df_stwd"
   ]
  },
  {
   "cell_type": "code",
   "execution_count": null,
   "id": "608049fe",
   "metadata": {},
   "outputs": [],
   "source": []
  },
  {
   "cell_type": "code",
   "execution_count": null,
   "id": "d3b553a3",
   "metadata": {},
   "outputs": [],
   "source": [
    "pd.concat([input_split, pd.DataFrame(input_test['No'])], axis=1)\n"
   ]
  },
  {
   "cell_type": "code",
   "execution_count": null,
   "id": "0f51a99e",
   "metadata": {},
   "outputs": [],
   "source": []
  },
  {
   "cell_type": "code",
   "execution_count": null,
   "id": "3be3e509",
   "metadata": {},
   "outputs": [],
   "source": []
  },
  {
   "cell_type": "code",
   "execution_count": null,
   "id": "7770e4aa",
   "metadata": {},
   "outputs": [],
   "source": []
  },
  {
   "cell_type": "code",
   "execution_count": null,
   "id": "cc5ed91a",
   "metadata": {},
   "outputs": [],
   "source": []
  },
  {
   "cell_type": "code",
   "execution_count": null,
   "id": "496c2118",
   "metadata": {},
   "outputs": [],
   "source": []
  },
  {
   "cell_type": "code",
   "execution_count": null,
   "id": "7849bf0e",
   "metadata": {},
   "outputs": [],
   "source": []
  },
  {
   "cell_type": "code",
   "execution_count": null,
   "id": "cc5507cf",
   "metadata": {},
   "outputs": [],
   "source": [
    "# df_stwd.tail(500)"
   ]
  },
  {
   "cell_type": "code",
   "execution_count": null,
   "id": "9ae8a0c3",
   "metadata": {},
   "outputs": [],
   "source": [
    "list = []\n",
    "for i in range(len(input_split.columns)):\n",
    "    df = pd.concat([globals()[\"df_stwd{}\".format(i)]])\n",
    "df"
   ]
  },
  {
   "cell_type": "code",
   "execution_count": null,
   "id": "cc8b5781",
   "metadata": {},
   "outputs": [],
   "source": [
    "df = pd.DataFrame()\n",
    "for i in range(len(input_split.columns)):\n",
    "    df = pd.concat([df, globals()[\"df_stwd_df{}\".format(i)]])\n",
    "df "
   ]
  },
  {
   "cell_type": "code",
   "execution_count": null,
   "id": "97e0543c",
   "metadata": {
    "scrolled": true
   },
   "outputs": [],
   "source": [
    "df"
   ]
  },
  {
   "cell_type": "code",
   "execution_count": null,
   "id": "fc30f450",
   "metadata": {},
   "outputs": [],
   "source": []
  },
  {
   "cell_type": "code",
   "execution_count": null,
   "id": "2460ead1",
   "metadata": {},
   "outputs": [],
   "source": [
    "df_dupl_cnt = pd.DataFrame()\n",
    "for in in range(len(input_split.coulmns):\n",
    "    df_dupl_cnt = pd.concat([df, globals()[\"df{}\".format(i)]])"
   ]
  },
  {
   "cell_type": "code",
   "execution_count": null,
   "id": "91576c41",
   "metadata": {},
   "outputs": [],
   "source": [
    "dupl_list0"
   ]
  },
  {
   "cell_type": "code",
   "execution_count": null,
   "id": "b9f63933",
   "metadata": {},
   "outputs": [],
   "source": [
    "# 컬럼 재정렬\n",
    "list = []\n",
    "for i in range(len(input_split.columns)):\n",
    "    input_split.loc[:,\"dupl_cnt{}\".format(i)] = globals()[\"dupl_list{}\".format(i)]\n",
    "    list.append(\"stwd{}\".format(i))\n",
    "    list.append(\"dupl_cnt{}\".format(i))\n",
    "input_split = input_split[list]\n",
    "input_split"
   ]
  },
  {
   "cell_type": "code",
   "execution_count": null,
   "id": "b52efc91",
   "metadata": {},
   "outputs": [],
   "source": []
  },
  {
   "cell_type": "code",
   "execution_count": null,
   "id": "e819fc8a",
   "metadata": {},
   "outputs": [],
   "source": [
    "df_stwd = pd.DataFrame()\n",
    "for i in range(len(input_split.columns)):\n",
    "    df_stwd = pd.concat([df, globals()[\"df{}\".format(i)]])\n",
    "df_stwd "
   ]
  },
  {
   "cell_type": "code",
   "execution_count": null,
   "id": "7e6fd991",
   "metadata": {},
   "outputs": [],
   "source": [
    "pd.DataFrame"
   ]
  },
  {
   "cell_type": "code",
   "execution_count": null,
   "id": "4b98a9bb",
   "metadata": {},
   "outputs": [],
   "source": [
    "type(input_split[\"stwd{}\".format(0)])"
   ]
  },
  {
   "cell_type": "code",
   "execution_count": null,
   "id": "e4822690",
   "metadata": {},
   "outputs": [],
   "source": [
    "a = pd.Series\n",
    "a"
   ]
  },
  {
   "cell_type": "code",
   "execution_count": null,
   "id": "bfe543e3",
   "metadata": {},
   "outputs": [],
   "source": [
    "a"
   ]
  },
  {
   "cell_type": "code",
   "execution_count": null,
   "id": "dd06d499",
   "metadata": {},
   "outputs": [],
   "source": [
    "for i in range(len(input_split.columns)):\n",
    "    globals()[\"df{}\".format(i)] = input_split[\"stwd{}\".format(i)]\n",
    "    list.append('df{}'.format(i))\n",
    "list"
   ]
  },
  {
   "cell_type": "code",
   "execution_count": null,
   "id": "fab9735f",
   "metadata": {},
   "outputs": [],
   "source": [
    "df = pd.DataFrame()\n",
    "for i in range(len(input_split.columns)):\n",
    "    globals()[\"df{}\".format(i)] = pd.DataFrame(input_split[\"stwd{}\".format(i)])\n",
    "#     list.append('df{}'.format(i))\n",
    "# list"
   ]
  },
  {
   "cell_type": "code",
   "execution_count": null,
   "id": "88fa8370",
   "metadata": {},
   "outputs": [],
   "source": [
    "list = []\n",
    "for i in range(len(input_split.columns)):\n",
    "    list.append(\"df{}\".format(i))\n",
    "list"
   ]
  },
  {
   "cell_type": "code",
   "execution_count": null,
   "id": "e175bb1c",
   "metadata": {},
   "outputs": [],
   "source": [
    "df = pd.DataFrame()\n",
    "for i in range(len(input_split.columns)):\n",
    "    df = pd.concat([df, globals()[\"df{}\".format(i)]])\n",
    "df"
   ]
  },
  {
   "cell_type": "code",
   "execution_count": null,
   "id": "83500be6",
   "metadata": {},
   "outputs": [],
   "source": [
    "concat([df0, df0,df0,df0,df0,df0,df0,df0,])"
   ]
  },
  {
   "cell_type": "code",
   "execution_count": null,
   "id": "8a313874",
   "metadata": {},
   "outputs": [],
   "source": [
    "list = \",\".join(list)\n",
    "list\n",
    "list[5]"
   ]
  },
  {
   "cell_type": "code",
   "execution_count": null,
   "id": "773bf279",
   "metadata": {},
   "outputs": [],
   "source": [
    "\",\".join(list[0])"
   ]
  },
  {
   "cell_type": "code",
   "execution_count": null,
   "id": "8dc0ed4e",
   "metadata": {},
   "outputs": [],
   "source": [
    "df = pd.DataFrame()\n",
    "for i in range(len(input_split.columns)):\n",
    "    ccc = pd.concat(df, \",\".join(list[i]))\n",
    "df = pd.DataFrame()\n",
    "df = pd.concat([df, df0])"
   ]
  },
  {
   "cell_type": "code",
   "execution_count": null,
   "id": "80600070",
   "metadata": {},
   "outputs": [],
   "source": [
    "df = pd.DataFrame()\n",
    "df = pd.concat([df, df0])"
   ]
  },
  {
   "cell_type": "code",
   "execution_count": null,
   "id": "55f6a376",
   "metadata": {},
   "outputs": [],
   "source": [
    "\",\".join(list)"
   ]
  },
  {
   "cell_type": "code",
   "execution_count": null,
   "id": "b97fa6f4",
   "metadata": {},
   "outputs": [],
   "source": [
    "list = \",\".join(list)\n",
    "list"
   ]
  },
  {
   "cell_type": "code",
   "execution_count": null,
   "id": "a80b6aba",
   "metadata": {
    "scrolled": true
   },
   "outputs": [],
   "source": [
    "list"
   ]
  },
  {
   "cell_type": "code",
   "execution_count": null,
   "id": "6589265f",
   "metadata": {},
   "outputs": [],
   "source": [
    "df0"
   ]
  },
  {
   "cell_type": "code",
   "execution_count": null,
   "id": "d8e8345b",
   "metadata": {},
   "outputs": [],
   "source": [
    "list = [df0, df1, df2, df3, df4, df5]\n",
    "pd.concat(list)"
   ]
  },
  {
   "cell_type": "code",
   "execution_count": null,
   "id": "647ed26f",
   "metadata": {},
   "outputs": [],
   "source": [
    "pd.concat([df0, df1, df2, df3, df4, df5])\n"
   ]
  },
  {
   "cell_type": "code",
   "execution_count": null,
   "id": "837dc04f",
   "metadata": {},
   "outputs": [],
   "source": [
    "input_split"
   ]
  },
  {
   "cell_type": "code",
   "execution_count": null,
   "id": "03d58a40",
   "metadata": {},
   "outputs": [],
   "source": [
    "stwd_list"
   ]
  },
  {
   "cell_type": "code",
   "execution_count": null,
   "id": "3668e4bc",
   "metadata": {},
   "outputs": [],
   "source": [
    "stwd_list = input_split.columns.to_list()\n",
    "for i in range(len(input_split.columns)):\n",
    "    duplicated = pd.concat(stwd_list, ignore_index=True)"
   ]
  },
  {
   "cell_type": "code",
   "execution_count": null,
   "id": "4cb50448",
   "metadata": {},
   "outputs": [],
   "source": [
    "stwd_list = input_split.columns.to_list()\n",
    "pd.concat(pd.DataFrame(input_split[stwd_list]), ignore_index = True)"
   ]
  },
  {
   "cell_type": "code",
   "execution_count": null,
   "id": "a2e93dc0",
   "metadata": {},
   "outputs": [],
   "source": [
    "list = []\n",
    "for i in range(len(input_split.columns)):\n",
    "    globals()[\"df{}\".format(i)] = input_split[\"stwd{}\".format(i)]\n",
    "    list.append(globals()[\"df{}\".format(i)])"
   ]
  },
  {
   "cell_type": "code",
   "execution_count": null,
   "id": "ff7df825",
   "metadata": {},
   "outputs": [],
   "source": []
  },
  {
   "cell_type": "code",
   "execution_count": null,
   "id": "5d6782eb",
   "metadata": {},
   "outputs": [],
   "source": [
    "pd.DataFrame(list)"
   ]
  },
  {
   "cell_type": "code",
   "execution_count": null,
   "id": "5547a2ca",
   "metadata": {},
   "outputs": [],
   "source": [
    "pd.DataFrame(input_split[\"stwd1\"])"
   ]
  },
  {
   "cell_type": "code",
   "execution_count": null,
   "id": "3e3fff99",
   "metadata": {},
   "outputs": [],
   "source": [
    "input_split[\"stwd0\"]"
   ]
  },
  {
   "cell_type": "code",
   "execution_count": null,
   "id": "07c55841",
   "metadata": {},
   "outputs": [],
   "source": []
  },
  {
   "cell_type": "code",
   "execution_count": null,
   "id": "442fdcbd",
   "metadata": {
    "scrolled": true
   },
   "outputs": [],
   "source": [
    "pd.concat(pd.DataFrame(input_split[\"stwd0\"]), pd.DataFrame(input_split[\"stwd1\"]))"
   ]
  },
  {
   "cell_type": "code",
   "execution_count": null,
   "id": "31a45f1b",
   "metadata": {},
   "outputs": [],
   "source": [
    "df0\n",
    "list"
   ]
  },
  {
   "cell_type": "code",
   "execution_count": null,
   "id": "ea662360",
   "metadata": {
    "scrolled": true
   },
   "outputs": [],
   "source": [
    "globals(\"df0\")"
   ]
  },
  {
   "cell_type": "code",
   "execution_count": null,
   "id": "024c2607",
   "metadata": {},
   "outputs": [],
   "source": [
    "pd.concat([df0, df1])"
   ]
  },
  {
   "cell_type": "code",
   "execution_count": null,
   "id": "3920e10d",
   "metadata": {},
   "outputs": [],
   "source": [
    "pd.concat([df0, df1])"
   ]
  },
  {
   "cell_type": "code",
   "execution_count": null,
   "id": "cb948f72",
   "metadata": {},
   "outputs": [],
   "source": [
    "for i in range(len(input_split.columns)):\n",
    "#     pd.concat(globllist[i])\n",
    "    print(list[i])"
   ]
  },
  {
   "cell_type": "code",
   "execution_count": null,
   "id": "9bab55d2",
   "metadata": {},
   "outputs": [],
   "source": [
    "for i in range(len(input_split.columns)):\n",
    "#     pd.concat([\"df{}\".format(i)])\n",
    "#     pd.concat(\"df{}\".format(i))\n",
    "    pd.concat(list)  \n",
    "#     print(\"df{}\".format(i))"
   ]
  },
  {
   "cell_type": "code",
   "execution_count": null,
   "id": "45d56fb6",
   "metadata": {},
   "outputs": [],
   "source": [
    "for i in range(len(input_split.columns)):\n",
    "    print(\"df{}\".format(i))"
   ]
  },
  {
   "cell_type": "code",
   "execution_count": null,
   "id": "e2c9fe61",
   "metadata": {},
   "outputs": [],
   "source": [
    "for i in range(len(input_split.columns)):\n",
    "    globals()[\"df{}\".format(i)] = pd.DataFrame(globals()[\"df{}\".format(i)])"
   ]
  },
  {
   "cell_type": "code",
   "execution_count": null,
   "id": "26489d3d",
   "metadata": {},
   "outputs": [],
   "source": [
    "list = []\n",
    "for i in range(len(input_split.columns)):\n",
    "    list.append(\"df{}\".format(i))"
   ]
  },
  {
   "cell_type": "code",
   "execution_count": null,
   "id": "3ac64a12",
   "metadata": {},
   "outputs": [],
   "source": [
    "df1"
   ]
  },
  {
   "cell_type": "code",
   "execution_count": null,
   "id": "c9a0ada8",
   "metadata": {},
   "outputs": [],
   "source": [
    "pd.concat(list, axis=1 )\n",
    "#           ignore_index=True)"
   ]
  },
  {
   "cell_type": "code",
   "execution_count": null,
   "id": "3adfa816",
   "metadata": {},
   "outputs": [],
   "source": [
    "for i in range(len(input_split.columns)):\n",
    "    pd.concat(globals()[\"df{}\".format(i)])"
   ]
  },
  {
   "cell_type": "code",
   "execution_count": null,
   "id": "a0d0f63c",
   "metadata": {},
   "outputs": [],
   "source": [
    "pd.concat([df0, df1])"
   ]
  },
  {
   "cell_type": "code",
   "execution_count": null,
   "id": "ac16efac",
   "metadata": {},
   "outputs": [],
   "source": [
    "stwd_list = input_split.columns.to_list()\n",
    "for i in range(len(input_split.columns)):\n",
    "    pd.concat(pd.DataFrame(input_split[\"stwd{}\".format(i)]))\n",
    "list"
   ]
  },
  {
   "cell_type": "code",
   "execution_count": null,
   "id": "bea32136",
   "metadata": {},
   "outputs": [],
   "source": [
    "input_split[\"stwd0\"]"
   ]
  },
  {
   "cell_type": "code",
   "execution_count": null,
   "id": "6cc7866b",
   "metadata": {},
   "outputs": [],
   "source": [
    "pd.DataFrame(input_split[\"stwd{}\".format(0)])"
   ]
  },
  {
   "cell_type": "code",
   "execution_count": null,
   "id": "923ccb0b",
   "metadata": {},
   "outputs": [],
   "source": [
    "cc = pd.DataFrame(input_split[\"stwd{}\".format(i)])"
   ]
  },
  {
   "cell_type": "code",
   "execution_count": null,
   "id": "916b5cf0",
   "metadata": {},
   "outputs": [],
   "source": []
  },
  {
   "cell_type": "code",
   "execution_count": null,
   "id": "c8ead777",
   "metadata": {
    "scrolled": true
   },
   "outputs": [],
   "source": [
    "aa = pd.DataFrame\n",
    "for i in range(len(input_split.columns)):\n",
    "    aa = aa.append(cc)\n",
    "aa"
   ]
  },
  {
   "cell_type": "code",
   "execution_count": null,
   "id": "1ea66886",
   "metadata": {},
   "outputs": [],
   "source": [
    "for i in range(len(input_split.columns)):\n",
    "    a = pd.concat([input_split[list[i]]])\n",
    "a"
   ]
  },
  {
   "cell_type": "code",
   "execution_count": null,
   "id": "3113a0d4",
   "metadata": {},
   "outputs": [],
   "source": [
    "a"
   ]
  },
  {
   "cell_type": "code",
   "execution_count": null,
   "id": "eb271906",
   "metadata": {},
   "outputs": [],
   "source": []
  },
  {
   "cell_type": "code",
   "execution_count": null,
   "id": "e6b0d35b",
   "metadata": {},
   "outputs": [],
   "source": [
    "pd.concat(list)"
   ]
  },
  {
   "cell_type": "code",
   "execution_count": null,
   "id": "804c8fa0",
   "metadata": {},
   "outputs": [],
   "source": [
    "for i in range(len(input_split.columns)):\n",
    "    pd.concat([globals[\"input_split{}\".format(i)]])"
   ]
  },
  {
   "cell_type": "code",
   "execution_count": null,
   "id": "7957142c",
   "metadata": {},
   "outputs": [],
   "source": [
    "# 컬럼 재정렬\n",
    "list = []\n",
    "for i in range(len(input_split.columns)):\n",
    "    input_split.loc[:,\"dupl_cnt{}\".format(i)] = globals()[\"dupl_list{}\".format(i)]\n",
    "    list.append(\"stwd{}\".format(i))\n",
    "    list.append(\"dupl_cnt{}\".format(i))\n",
    "input_split = input_split[list]\n",
    "input_split"
   ]
  },
  {
   "cell_type": "code",
   "execution_count": null,
   "id": "c97736db",
   "metadata": {},
   "outputs": [],
   "source": [
    "input_split.columns"
   ]
  },
  {
   "cell_type": "code",
   "execution_count": null,
   "id": "974b5a1a",
   "metadata": {},
   "outputs": [],
   "source": [
    "for i in range(int(len(input_split.columns)/2)):\n",
    "    aaa= pd.concat([\"stwd{}\".format(i)])\n",
    "aaa"
   ]
  },
  {
   "cell_type": "code",
   "execution_count": null,
   "id": "33de7494",
   "metadata": {},
   "outputs": [],
   "source": []
  },
  {
   "cell_type": "code",
   "execution_count": null,
   "id": "2c3ed6bf",
   "metadata": {},
   "outputs": [],
   "source": []
  },
  {
   "cell_type": "code",
   "execution_count": null,
   "id": "f873f008",
   "metadata": {},
   "outputs": [],
   "source": []
  },
  {
   "cell_type": "code",
   "execution_count": null,
   "id": "c9196615",
   "metadata": {},
   "outputs": [],
   "source": []
  },
  {
   "cell_type": "code",
   "execution_count": null,
   "id": "9af0e08d",
   "metadata": {},
   "outputs": [],
   "source": [
    "input_split[0]"
   ]
  },
  {
   "cell_type": "code",
   "execution_count": null,
   "id": "3fadcb82",
   "metadata": {},
   "outputs": [],
   "source": [
    "input_split[0]"
   ]
  },
  {
   "cell_type": "code",
   "execution_count": null,
   "id": "fd5db8a9",
   "metadata": {},
   "outputs": [],
   "source": [
    "input_split[0].count(\"가입\")"
   ]
  },
  {
   "cell_type": "code",
   "execution_count": null,
   "id": "b2b10bc7",
   "metadata": {},
   "outputs": [],
   "source": [
    "dupl_list =[]\n",
    "dupl_list"
   ]
  },
  {
   "cell_type": "code",
   "execution_count": null,
   "id": "d425058f",
   "metadata": {},
   "outputs": [],
   "source": [
    "len(input_split.columns)"
   ]
  },
  {
   "cell_type": "code",
   "execution_count": null,
   "id": "af34102e",
   "metadata": {},
   "outputs": [],
   "source": [
    "input_split[0].to_list().count(input_split[0][11])"
   ]
  },
  {
   "cell_type": "code",
   "execution_count": null,
   "id": "fa5f155e",
   "metadata": {},
   "outputs": [],
   "source": [
    "globals()[\"stwd{}\".format(i)]"
   ]
  },
  {
   "cell_type": "code",
   "execution_count": null,
   "id": "acaa5c9e",
   "metadata": {},
   "outputs": [],
   "source": [
    "for i in range(len(input_split.columns)):\n",
    "    globals()[\"dupl_list{}\".format(i)] = []"
   ]
  },
  {
   "cell_type": "code",
   "execution_count": null,
   "id": "18901ac8",
   "metadata": {},
   "outputs": [],
   "source": [
    "input_split[0].to_list().count(input_split[0][3])"
   ]
  },
  {
   "cell_type": "code",
   "execution_count": null,
   "id": "14614776",
   "metadata": {},
   "outputs": [],
   "source": [
    "# 성공\n",
    "dupl_list = []\n",
    "dupl_cnt = []\n",
    "\n",
    "\n",
    "for i in range(len(input_split.columns)):\n",
    "    globals()[\"dupl_list{}\".format(i)] = []\n",
    "    for j in range(len(input_split[i])):\n",
    "        dupl_cnt = input_split[i].to_list().count(input_split[i][j])\n",
    "        globals()[\"dupl_list{}\".format(i)].append(dupl_cnt)\n",
    "#         print(dupl_cnt)\n",
    "#         print(\"dupl_list{}\".format(i))\n",
    "\n",
    "\n"
   ]
  },
  {
   "cell_type": "code",
   "execution_count": null,
   "id": "5d428c5f",
   "metadata": {},
   "outputs": [],
   "source": [
    "for i in range(len(input_split.columns)):\n",
    "    input_split.loc[:,\"dupl_cnt{}\".format(i)] = globals()[\"dupl_list{}\".format(i)]"
   ]
  },
  {
   "cell_type": "code",
   "execution_count": null,
   "id": "e235a39a",
   "metadata": {},
   "outputs": [],
   "source": [
    "input_split[\"dupl_cnt0\"]"
   ]
  },
  {
   "cell_type": "code",
   "execution_count": null,
   "id": "6f643169",
   "metadata": {
    "scrolled": true
   },
   "outputs": [],
   "source": [
    "# input_split\n",
    "input_split[input_split[\"dupl_cnt0\"] >= 2][[\"dupl_cnt0\",\"dupl_cnt1\",0]]"
   ]
  },
  {
   "cell_type": "code",
   "execution_count": null,
   "id": "47bd4882",
   "metadata": {},
   "outputs": [],
   "source": [
    "input_split.loc[:,\"dupl_cnt1\"] = dupl_list1"
   ]
  },
  {
   "cell_type": "code",
   "execution_count": null,
   "id": "238bedcc",
   "metadata": {},
   "outputs": [],
   "source": [
    "input_split"
   ]
  },
  {
   "cell_type": "code",
   "execution_count": null,
   "id": "2142b75a",
   "metadata": {},
   "outputs": [],
   "source": [
    "for i in range(len(input_split.columns)):\n",
    "    print(globals()[\"dupl_list{}\".format(i)])"
   ]
  },
  {
   "cell_type": "code",
   "execution_count": null,
   "id": "ac6381c5",
   "metadata": {},
   "outputs": [],
   "source": [
    "a= input_split.assign(dd =  dupl_list3)\n",
    "# df.insert(3,\"city\",['Lahore','Dehli','New York'],True)\n",
    "a"
   ]
  },
  {
   "cell_type": "code",
   "execution_count": null,
   "id": "215609cb",
   "metadata": {},
   "outputs": [],
   "source": [
    "input_split.insert(8,\"dd\",dupl_list3,True)\n",
    "input_split"
   ]
  },
  {
   "cell_type": "code",
   "execution_count": null,
   "id": "42490fc8",
   "metadata": {},
   "outputs": [],
   "source": [
    "input_split[2].to_list().count('역')"
   ]
  },
  {
   "cell_type": "code",
   "execution_count": null,
   "id": "4a583c15",
   "metadata": {},
   "outputs": [],
   "source": [
    "input_split[0].to_list()"
   ]
  },
  {
   "cell_type": "code",
   "execution_count": null,
   "id": "48bfa151",
   "metadata": {},
   "outputs": [],
   "source": [
    "dupl_list3"
   ]
  },
  {
   "cell_type": "code",
   "execution_count": null,
   "id": "5487fca9",
   "metadata": {},
   "outputs": [],
   "source": [
    "input_split.insert(8,\"dd\",dupl_list3,True)"
   ]
  },
  {
   "cell_type": "code",
   "execution_count": null,
   "id": "7a4f068b",
   "metadata": {},
   "outputs": [],
   "source": [
    "input_split"
   ]
  },
  {
   "cell_type": "code",
   "execution_count": null,
   "id": "5dec4778",
   "metadata": {},
   "outputs": [],
   "source": [
    "pd.DataFrame(input_split[3].to_list(), dupl_list3)"
   ]
  },
  {
   "cell_type": "code",
   "execution_count": null,
   "id": "915af976",
   "metadata": {},
   "outputs": [],
   "source": [
    "print(len(dupl_list))\n",
    "dupl_list"
   ]
  },
  {
   "cell_type": "code",
   "execution_count": null,
   "id": "7023c5a8",
   "metadata": {},
   "outputs": [],
   "source": [
    "# type(input_split[0])\n",
    "input_split[0].to_list().count('가입')"
   ]
  },
  {
   "cell_type": "code",
   "execution_count": null,
   "id": "40738712",
   "metadata": {},
   "outputs": [],
   "source": [
    "# 성공\n",
    "b = []\n",
    "for i in range(len(input_split[0])):\n",
    "    a = 0\n",
    "    for j in input_split[0]:\n",
    "        b.append(a)\n",
    "        if input_split[0][i] == j:\n",
    "            a += 1\n",
    "            print(input_split[0][i] +\"&&\"+j+\"_중복\")\n",
    "           \n",
    "            print(a)\n"
   ]
  },
  {
   "cell_type": "code",
   "execution_count": null,
   "id": "72c7d908",
   "metadata": {},
   "outputs": [],
   "source": [
    "len(b)"
   ]
  },
  {
   "cell_type": "code",
   "execution_count": null,
   "id": "5d07e83e",
   "metadata": {},
   "outputs": [],
   "source": [
    "# 성공\n",
    "a = 0\n",
    "for i in range(len(input_split[0])):\n",
    "    for j in input_split[0]:\n",
    "        if input_split[0][i] == j:\n",
    "            print(input_split[0][i] +\"&&\"+j+\"_중복\")\n",
    "            a += 1\n",
    "            print(a)\n"
   ]
  },
  {
   "cell_type": "code",
   "execution_count": null,
   "id": "cd277202",
   "metadata": {},
   "outputs": [],
   "source": [
    "# 성공\n",
    "a =0\n",
    "for i in input_split[0]:\n",
    "    for j in input_split[0].unique():#중복 \n",
    "        if i == j:\n",
    "            print(i +\"&&\"+j+\"_중복\")\n",
    "            a += 1\n",
    "            print(a)\n",
    "#         else:\n",
    "#             print(i+j)\n",
    "    \n",
    "    \n",
    "    \n",
    "#     if i == '가입':\n",
    "#         print(i+\"_성공\")\n",
    "#     else:\n",
    "#         print(i)"
   ]
  },
  {
   "cell_type": "code",
   "execution_count": null,
   "id": "144647c7",
   "metadata": {},
   "outputs": [],
   "source": [
    "for i in input_split[0]:\n",
    "    if i == '가입':\n",
    "        print(i+\"_성공\")\n",
    "    else:\n",
    "        print(i)"
   ]
  },
  {
   "cell_type": "code",
   "execution_count": null,
   "id": "1d3cdefa",
   "metadata": {},
   "outputs": [],
   "source": [
    "input_split[0].str == \"가입\""
   ]
  },
  {
   "cell_type": "code",
   "execution_count": null,
   "id": "03fa17ca",
   "metadata": {},
   "outputs": [],
   "source": [
    "for i in a\n",
    "    input_split[0] == i\n",
    "    "
   ]
  },
  {
   "cell_type": "code",
   "execution_count": null,
   "id": "491d8060",
   "metadata": {},
   "outputs": [],
   "source": [
    "input_split[0]"
   ]
  },
  {
   "cell_type": "code",
   "execution_count": null,
   "id": "d6421893",
   "metadata": {},
   "outputs": [],
   "source": [
    "a = input_split[0].unique()\n",
    "a"
   ]
  },
  {
   "cell_type": "code",
   "execution_count": null,
   "id": "5a8d02e6",
   "metadata": {},
   "outputs": [],
   "source": []
  },
  {
   "cell_type": "code",
   "execution_count": null,
   "id": "5749d0f8",
   "metadata": {},
   "outputs": [],
   "source": [
    "len(input_split.columns)"
   ]
  },
  {
   "cell_type": "code",
   "execution_count": null,
   "id": "35a6c0b7",
   "metadata": {},
   "outputs": [],
   "source": [
    "input_processing = pd.concat([input_split, input_test])\n",
    "print(input_processing.columns)\n",
    "input_processing.head(5)"
   ]
  },
  {
   "cell_type": "code",
   "execution_count": null,
   "id": "7709aae1",
   "metadata": {},
   "outputs": [],
   "source": [
    "input_process[\"No\"]"
   ]
  },
  {
   "cell_type": "code",
   "execution_count": null,
   "id": "82cc3883",
   "metadata": {},
   "outputs": [],
   "source": []
  },
  {
   "cell_type": "code",
   "execution_count": null,
   "id": "c52dcbfa",
   "metadata": {},
   "outputs": [],
   "source": []
  },
  {
   "cell_type": "code",
   "execution_count": null,
   "id": "d9e4d4fb",
   "metadata": {},
   "outputs": [],
   "source": []
  },
  {
   "cell_type": "code",
   "execution_count": null,
   "id": "a33dcfa9",
   "metadata": {},
   "outputs": [],
   "source": []
  },
  {
   "cell_type": "code",
   "execution_count": null,
   "id": "2b694275",
   "metadata": {},
   "outputs": [],
   "source": [
    "# stwd1 = input_test['용어명 분리'].str.split(\"_\").map(lambda row : row[10])\n",
    "# # stwd1"
   ]
  },
  {
   "cell_type": "code",
   "execution_count": null,
   "id": "cb8df18a",
   "metadata": {},
   "outputs": [],
   "source": [
    "aa = pd.DataFrame(input_test['용어명 분리'].str.split('_').tolist(), columns = ['a' ,'b', 'c', 'd','a' ,'b', 'c', 'd'])\n",
    "aa"
   ]
  },
  {
   "cell_type": "code",
   "execution_count": null,
   "id": "2a02b3a3",
   "metadata": {},
   "outputs": [],
   "source": [
    "aaa = pd.DataFrame(input_test['용어명 분리'].str.split('_').tolist())\n",
    "aaa"
   ]
  },
  {
   "cell_type": "code",
   "execution_count": null,
   "id": "6132fbfe",
   "metadata": {},
   "outputs": [],
   "source": [
    "aaa[1]"
   ]
  },
  {
   "cell_type": "code",
   "execution_count": null,
   "id": "250c0d08",
   "metadata": {},
   "outputs": [],
   "source": [
    "aaa.columns"
   ]
  },
  {
   "cell_type": "code",
   "execution_count": null,
   "id": "da8bd2eb",
   "metadata": {},
   "outputs": [],
   "source": [
    "aa['a']"
   ]
  },
  {
   "cell_type": "code",
   "execution_count": null,
   "id": "c69b6251",
   "metadata": {},
   "outputs": [],
   "source": [
    "aa.columns"
   ]
  },
  {
   "cell_type": "code",
   "execution_count": null,
   "id": "8524b421",
   "metadata": {},
   "outputs": [],
   "source": [
    "for i in range(len()):\n",
    "    aa = pd.DataFrame(input_test['용어명 분리'].str.split('_').tolist(), columns = globals()[\"stwd{}\".format(i)])\n",
    "    aa"
   ]
  },
  {
   "cell_type": "code",
   "execution_count": null,
   "id": "7ee11a53",
   "metadata": {},
   "outputs": [],
   "source": [
    "\n",
    "try:    \n",
    "    for i in range(10):\n",
    "         globals()[\"stwd{}\".format(i)] = pd.DataFrame({\"stwd{}\".format(i) : []})\n",
    "except:\n",
    "    pass\n",
    "# print(stwd0)\n",
    "\n",
    "    \n",
    "        \n",
    "    \n",
    "# pd.DataFrame({\"stwd0\" : []})\n",
    "        "
   ]
  },
  {
   "cell_type": "code",
   "execution_count": null,
   "id": "eccb697e",
   "metadata": {
    "scrolled": true
   },
   "outputs": [],
   "source": [
    "print(input_test['용어명 분리'].str.split('_', maxsplit=1))"
   ]
  },
  {
   "cell_type": "code",
   "execution_count": null,
   "id": "56363465",
   "metadata": {},
   "outputs": [],
   "source": [
    "# try:\n",
    "for i in range(10):\n",
    "    globals()[\"stwd{}\".format(i)] = input_test['용어명 분리'].str.split('_').map(lambda row : row[i])"
   ]
  },
  {
   "cell_type": "markdown",
   "id": "5d56996b",
   "metadata": {},
   "source": [
    "input_test['용어명 분리'].str.split('_').map(lambda row : row[0])"
   ]
  },
  {
   "cell_type": "code",
   "execution_count": null,
   "id": "6ec59b68",
   "metadata": {},
   "outputs": [],
   "source": [
    "pd.DataFrame(input_test['용어명 분리'].str.split('_'))\n"
   ]
  },
  {
   "cell_type": "code",
   "execution_count": null,
   "id": "628c5c72",
   "metadata": {},
   "outputs": [],
   "source": [
    "input_test['용어명 분리'].str.split('_').tolist() "
   ]
  },
  {
   "cell_type": "code",
   "execution_count": null,
   "id": "3c1ab14d",
   "metadata": {},
   "outputs": [],
   "source": [
    "aa = pd.DataFrame(input_test['용어명 분리'].str.split('_').tolist(), columns = ['a' ,'b', 'c', 'd','a' ,'b', 'c', 'd'])\n",
    "aa"
   ]
  },
  {
   "cell_type": "code",
   "execution_count": null,
   "id": "ea1f87c4",
   "metadata": {},
   "outputs": [],
   "source": [
    "input_test['용어명 분리'].str.split('_').map(lambda x:x[-1])\n"
   ]
  },
  {
   "cell_type": "code",
   "execution_count": null,
   "id": "d712553e",
   "metadata": {},
   "outputs": [],
   "source": [
    "a= pd.DataFrame(input_test['용어명 분리'].str.split('_'))\n",
    "a"
   ]
  },
  {
   "cell_type": "code",
   "execution_count": null,
   "id": "adfe8cf1",
   "metadata": {},
   "outputs": [],
   "source": [
    "a.str.get(0)"
   ]
  },
  {
   "cell_type": "code",
   "execution_count": null,
   "id": "a3a05b96",
   "metadata": {
    "scrolled": true
   },
   "outputs": [],
   "source": [
    "input_test['용어명 분리'].str.split('_')[0][0]\n"
   ]
  },
  {
   "cell_type": "code",
   "execution_count": null,
   "id": "c752a627",
   "metadata": {
    "scrolled": true
   },
   "outputs": [],
   "source": [
    "input_test['용어명 분리'].str.split('_').map(lambda row : row[-1])"
   ]
  },
  {
   "cell_type": "code",
   "execution_count": null,
   "id": "aa0ea214",
   "metadata": {},
   "outputs": [],
   "source": [
    "stwd"
   ]
  },
  {
   "cell_type": "code",
   "execution_count": null,
   "id": "82c145b0",
   "metadata": {},
   "outputs": [],
   "source": [
    "stwd2"
   ]
  },
  {
   "cell_type": "code",
   "execution_count": null,
   "id": "8a75a347",
   "metadata": {},
   "outputs": [],
   "source": [
    "# i = [0, 1, 2, 3, 4, 5, 6, 7, 8, 9]\n",
    "    \n",
    "#     globals()[\"stwd{}\".format(i)] = input_test['용어명 분리'].str.split('_', maxsplit = -1).map(lambda row : row[i])\n",
    "\n",
    "# stwd0\n",
    "# stwd1\n",
    "\n",
    "# stwd0 = input_test['용어명 분리'].str.split(\"_\").map(lambda row : ''.join(row[0]))\n",
    "# stwd1 = input_test['용어명 분리'].str.split(\"_\").map(lambda row : ''.join(row[1]))\n",
    "# stwd2 = input_test['용어명 분리'].str.split(\"_\").map(lambda row : ''.join(row[1]))\n",
    "# stwd3 = input_test['용어명 분리'].str.split(\"_\").map(lambda row : ''.join(row[1]))\n",
    "# stwd4 = input_test['용어명 분리'].str.split(\"_\").map(lambda row : ''.join(row[1]))\n",
    "# stwd5 = input_test['용어명 분리'].str.split(\"_\").map(lambda row : ''.join(row[1]))\n",
    "# stwd6 = input_test['용어명 분리'].str.split(\"_\").map(lambda row : ''.join(row[1]))\n",
    "# stwd7 = input_test['용어명 분리'].str.split(\"_\").map(lambda row : ''.join(row[1]))\n",
    "# stwd8 = input_test['용어명 분리'].str.split(\"_\").map(lambda row : ''.join(row[1]))\n",
    "# stwd9 = input_test['용어명 분리'].str.split(\"_\").map(lambda row : ''.join(row[1]))\n",
    "try:\n",
    "    stwd10 = input_test['용어명 분리'].str.split(\"_\").map(lambda row : ''.join(row[10]))\n",
    "except:\n",
    "    pass\n"
   ]
  },
  {
   "cell_type": "code",
   "execution_count": null,
   "id": "aec584af",
   "metadata": {},
   "outputs": [],
   "source": [
    "# i = [0, 1, 2, 3, 4, 5, 6, 7, 8, 9]\n",
    "num = 10\n",
    "for i in range(10):\n",
    "#     if input_test['용어명 분리'].str.split(\"_\").map(lambda row : row[i]) \n",
    "    \n",
    "    globals()[\"stwd{}\".format(i)] = input_test['용어명 분리'].str.split('_', maxsplit = -1).map(lambda row : row[i])\n",
    "\n",
    "stwd0\n",
    "# stwd1\n",
    "\n",
    "\n",
    "# stwd1 = input_test['용어명 분리'].str.split(\"_\").map(lambda row : ''.join(row[1]))\n",
    "# stwd1 = input_test['용어명 분리'].str.split(\"_\").map(lambda row : ''.join(row[1]))\n",
    "# stwd1 = input_test['용어명 분리'].str.split(\"_\").map(lambda row : ''.join(row[1]))\n",
    "# stwd1 = input_test['용어명 분리'].str.split(\"_\").map(lambda row : ''.join(row[1]))\n",
    "# stwd1 = input_test['용어명 분리'].str.split(\"_\").map(lambda row : ''.join(row[1]))\n",
    "# stwd1 = input_test['용어명 분리'].str.split(\"_\").map(lambda row : ''.join(row[1]))\n",
    "# stwd1 = input_test['용어명 분리'].str.split(\"_\").map(lambda row : ''.join(row[1]))\n",
    "# stwd1 = input_test['용어명 분리'].str.split(\"_\").map(lambda row : ''.join(row[1]))\n",
    "# stwd1 = input_test['용어명 분리'].str.split(\"_\").map(lambda row : ''.join(row[1]))\n",
    "# stwd1 = input_test['용어명 분리'].str.split(\"_\").map(lambda row : ''.join(row[1]))\n"
   ]
  },
  {
   "cell_type": "code",
   "execution_count": null,
   "id": "965d39f7",
   "metadata": {},
   "outputs": [],
   "source": [
    "stwd1"
   ]
  },
  {
   "cell_type": "code",
   "execution_count": null,
   "id": "e860cbc6",
   "metadata": {},
   "outputs": [],
   "source": []
  },
  {
   "cell_type": "code",
   "execution_count": null,
   "id": "8092a1ee",
   "metadata": {},
   "outputs": [],
   "source": []
  },
  {
   "cell_type": "code",
   "execution_count": null,
   "id": "1ecb7757",
   "metadata": {},
   "outputs": [],
   "source": []
  },
  {
   "cell_type": "code",
   "execution_count": null,
   "id": "33475aa8",
   "metadata": {},
   "outputs": [],
   "source": [
    "input_f = os.path.join(os.getcwd(), \"input\")\n",
    "print(input_f)\n",
    "# pd.read_excel(input_f+\"test.xlsx\", sheet_name=\"input_test\", header=0)\n",
    "sheet_name = \"input_test\"\n",
    "pd.read_excel(\"C:/test.xlsx\", sheet_name=sheet_name, header=0)\n",
    "\n",
    "# current_path = os.path.dirname(input_f)\n",
    "# input_f = os.path.join(current_path, \"input\")\n",
    "print()\n",
    "# current_path = os.path.dirname()\n",
    "# print(current_path)\n",
    "print(os.getcwd())"
   ]
  },
  {
   "cell_type": "code",
   "execution_count": null,
   "id": "1a457eec",
   "metadata": {},
   "outputs": [],
   "source": [
    "print(os.getcwd())\n",
    "# print(sys.argv[0])\n",
    "print(os.path.dirname(os.path.realpath('__file__')))"
   ]
  },
  {
   "cell_type": "code",
   "execution_count": null,
   "id": "a78dd668",
   "metadata": {},
   "outputs": [],
   "source": []
  }
 ],
 "metadata": {
  "kernelspec": {
   "display_name": "Python 3 (ipykernel)",
   "language": "python",
   "name": "python3"
  },
  "language_info": {
   "codemirror_mode": {
    "name": "ipython",
    "version": 3
   },
   "file_extension": ".py",
   "mimetype": "text/x-python",
   "name": "python",
   "nbconvert_exporter": "python",
   "pygments_lexer": "ipython3",
   "version": "3.9.12"
  }
 },
 "nbformat": 4,
 "nbformat_minor": 5
}
