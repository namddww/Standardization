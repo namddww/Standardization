{
 "cells": [
  {
   "cell_type": "code",
   "execution_count": 1,
   "id": "4c3665e5",
   "metadata": {},
   "outputs": [],
   "source": [
    "import pandas as pd\n",
    "import numpy as np\n",
    "import os"
   ]
  },
  {
   "cell_type": "code",
   "execution_count": 2,
   "id": "e06b9d94",
   "metadata": {},
   "outputs": [
    {
     "name": "stdout",
     "output_type": "stream",
     "text": [
      "(1364, 14)\n"
     ]
    },
    {
     "data": {
      "text/html": [
       "<div>\n",
       "<style scoped>\n",
       "    .dataframe tbody tr th:only-of-type {\n",
       "        vertical-align: middle;\n",
       "    }\n",
       "\n",
       "    .dataframe tbody tr th {\n",
       "        vertical-align: top;\n",
       "    }\n",
       "\n",
       "    .dataframe thead th {\n",
       "        text-align: right;\n",
       "    }\n",
       "</style>\n",
       "<table border=\"1\" class=\"dataframe\">\n",
       "  <thead>\n",
       "    <tr style=\"text-align: right;\">\n",
       "      <th></th>\n",
       "      <th>No</th>\n",
       "      <th>용어명</th>\n",
       "      <th>용어명 분리</th>\n",
       "      <th>용어설명</th>\n",
       "      <th>영문명</th>\n",
       "      <th>영문약어명</th>\n",
       "      <th>도메인명</th>\n",
       "      <th>데이터타입</th>\n",
       "      <th>데이터길이</th>\n",
       "      <th>소수점이하</th>\n",
       "      <th>생성일(제정일)</th>\n",
       "      <th>범정부표준여부</th>\n",
       "      <th>정보시스템(DB)</th>\n",
       "      <th>관련필드/용어</th>\n",
       "    </tr>\n",
       "  </thead>\n",
       "  <tbody>\n",
       "    <tr>\n",
       "      <th>0</th>\n",
       "      <td>1</td>\n",
       "      <td>가입일자</td>\n",
       "      <td>가입_일자</td>\n",
       "      <td>조직이나 단체 따위에 들어가거나, 서비스를 제공하는 상품 따위를 신청한 날짜를 연월...</td>\n",
       "      <td>NaN</td>\n",
       "      <td>NaN</td>\n",
       "      <td>연월일C8</td>\n",
       "      <td>CHAR</td>\n",
       "      <td>8</td>\n",
       "      <td>NaN</td>\n",
       "      <td>2020-08-13</td>\n",
       "      <td>범정부표준</td>\n",
       "      <td>NaN</td>\n",
       "      <td>NaN</td>\n",
       "    </tr>\n",
       "    <tr>\n",
       "      <th>1</th>\n",
       "      <td>2</td>\n",
       "      <td>개설일자</td>\n",
       "      <td>개설_일자</td>\n",
       "      <td>설비나 제도 따위를 새로 마련하고 그에 관한 일을 처음 시작한 날짜를 연월일로 표현</td>\n",
       "      <td>NaN</td>\n",
       "      <td>NaN</td>\n",
       "      <td>연월일C8</td>\n",
       "      <td>CHAR</td>\n",
       "      <td>8</td>\n",
       "      <td>NaN</td>\n",
       "      <td>2020-08-13</td>\n",
       "      <td>범정부표준</td>\n",
       "      <td>NaN</td>\n",
       "      <td>NaN</td>\n",
       "    </tr>\n",
       "    <tr>\n",
       "      <th>2</th>\n",
       "      <td>3</td>\n",
       "      <td>개시일자</td>\n",
       "      <td>개시_일자</td>\n",
       "      <td>시장을 처음 열어 물건의 매매를 시작한 날짜를 연월일로 표현</td>\n",
       "      <td>NaN</td>\n",
       "      <td>NaN</td>\n",
       "      <td>연월일C8</td>\n",
       "      <td>CHAR</td>\n",
       "      <td>8</td>\n",
       "      <td>NaN</td>\n",
       "      <td>2020-08-13</td>\n",
       "      <td>범정부표준</td>\n",
       "      <td>NaN</td>\n",
       "      <td>NaN</td>\n",
       "    </tr>\n",
       "    <tr>\n",
       "      <th>3</th>\n",
       "      <td>4</td>\n",
       "      <td>개업일자</td>\n",
       "      <td>개업_일자</td>\n",
       "      <td>영업을 처음 시작한 날짜를 연월일로 표현</td>\n",
       "      <td>NaN</td>\n",
       "      <td>NaN</td>\n",
       "      <td>연월일C8</td>\n",
       "      <td>CHAR</td>\n",
       "      <td>8</td>\n",
       "      <td>NaN</td>\n",
       "      <td>2020-08-13</td>\n",
       "      <td>범정부표준</td>\n",
       "      <td>NaN</td>\n",
       "      <td>NaN</td>\n",
       "    </tr>\n",
       "    <tr>\n",
       "      <th>4</th>\n",
       "      <td>5</td>\n",
       "      <td>개인정보 동의여부</td>\n",
       "      <td>개인_정보_동의_여부</td>\n",
       "      <td>특정 개인을 식별하거나 유추해 낼 수 있는 모든 정보를 공동 이용하도록 허락할지 참...</td>\n",
       "      <td>NaN</td>\n",
       "      <td>NaN</td>\n",
       "      <td>여부C1</td>\n",
       "      <td>CHAR</td>\n",
       "      <td>1</td>\n",
       "      <td>NaN</td>\n",
       "      <td>2020-08-13</td>\n",
       "      <td>범정부표준</td>\n",
       "      <td>NaN</td>\n",
       "      <td>NaN</td>\n",
       "    </tr>\n",
       "  </tbody>\n",
       "</table>\n",
       "</div>"
      ],
      "text/plain": [
       "   No        용어명       용어명 분리  \\\n",
       "0   1       가입일자        가입_일자   \n",
       "1   2       개설일자        개설_일자   \n",
       "2   3       개시일자        개시_일자   \n",
       "3   4       개업일자        개업_일자   \n",
       "4   5  개인정보 동의여부  개인_정보_동의_여부   \n",
       "\n",
       "                                                용어설명  영문명  영문약어명   도메인명 데이터타입  \\\n",
       "0  조직이나 단체 따위에 들어가거나, 서비스를 제공하는 상품 따위를 신청한 날짜를 연월...  NaN    NaN  연월일C8  CHAR   \n",
       "1     설비나 제도 따위를 새로 마련하고 그에 관한 일을 처음 시작한 날짜를 연월일로 표현  NaN    NaN  연월일C8  CHAR   \n",
       "2                  시장을 처음 열어 물건의 매매를 시작한 날짜를 연월일로 표현  NaN    NaN  연월일C8  CHAR   \n",
       "3                             영업을 처음 시작한 날짜를 연월일로 표현  NaN    NaN  연월일C8  CHAR   \n",
       "4  특정 개인을 식별하거나 유추해 낼 수 있는 모든 정보를 공동 이용하도록 허락할지 참...  NaN    NaN   여부C1  CHAR   \n",
       "\n",
       "  데이터길이  소수점이하   생성일(제정일) 범정부표준여부 정보시스템(DB) 관련필드/용어  \n",
       "0     8    NaN 2020-08-13   범정부표준       NaN     NaN  \n",
       "1     8    NaN 2020-08-13   범정부표준       NaN     NaN  \n",
       "2     8    NaN 2020-08-13   범정부표준       NaN     NaN  \n",
       "3     8    NaN 2020-08-13   범정부표준       NaN     NaN  \n",
       "4     1    NaN 2020-08-13   범정부표준       NaN     NaN  "
      ]
     },
     "execution_count": 2,
     "metadata": {},
     "output_type": "execute_result"
    }
   ],
   "source": [
    "# 파일 불러오기\n",
    "sheet_name = \"input_test\"\n",
    "input_path = os.path.join(os.getcwd(), \"input\\\\\")\n",
    "input_test = pd.read_excel(input_path+\"test_test.xlsx\", sheet_name=sheet_name, header=0)\n",
    "print(input_test.shape)\n",
    "input_test.head(5)"
   ]
  },
  {
   "cell_type": "code",
   "execution_count": 3,
   "id": "81aaa5b6",
   "metadata": {},
   "outputs": [
    {
     "name": "stdout",
     "output_type": "stream",
     "text": [
      "['stwd_kor0', 'stwd_kor1', 'stwd_kor2', 'stwd_kor3', 'stwd_kor4', 'stwd_kor5', 'stwd_kor6', 'stwd_kor7', 'stwd_kor8', 'stwd_kor9']\n",
      "10\n"
     ]
    },
    {
     "data": {
      "text/html": [
       "<div>\n",
       "<style scoped>\n",
       "    .dataframe tbody tr th:only-of-type {\n",
       "        vertical-align: middle;\n",
       "    }\n",
       "\n",
       "    .dataframe tbody tr th {\n",
       "        vertical-align: top;\n",
       "    }\n",
       "\n",
       "    .dataframe thead th {\n",
       "        text-align: right;\n",
       "    }\n",
       "</style>\n",
       "<table border=\"1\" class=\"dataframe\">\n",
       "  <thead>\n",
       "    <tr style=\"text-align: right;\">\n",
       "      <th></th>\n",
       "      <th>index</th>\n",
       "      <th>stwd_kor0</th>\n",
       "      <th>num_kor0</th>\n",
       "      <th>dupl_list_kor0</th>\n",
       "    </tr>\n",
       "  </thead>\n",
       "  <tbody>\n",
       "    <tr>\n",
       "      <th>0</th>\n",
       "      <td>1</td>\n",
       "      <td>가입</td>\n",
       "      <td>num_kor0</td>\n",
       "      <td>1</td>\n",
       "    </tr>\n",
       "    <tr>\n",
       "      <th>1</th>\n",
       "      <td>2</td>\n",
       "      <td>개설</td>\n",
       "      <td>num_kor0</td>\n",
       "      <td>1</td>\n",
       "    </tr>\n",
       "    <tr>\n",
       "      <th>2</th>\n",
       "      <td>3</td>\n",
       "      <td>개시</td>\n",
       "      <td>num_kor0</td>\n",
       "      <td>1</td>\n",
       "    </tr>\n",
       "    <tr>\n",
       "      <th>3</th>\n",
       "      <td>4</td>\n",
       "      <td>개업</td>\n",
       "      <td>num_kor0</td>\n",
       "      <td>1</td>\n",
       "    </tr>\n",
       "    <tr>\n",
       "      <th>4</th>\n",
       "      <td>5</td>\n",
       "      <td>개인</td>\n",
       "      <td>num_kor0</td>\n",
       "      <td>1</td>\n",
       "    </tr>\n",
       "    <tr>\n",
       "      <th>...</th>\n",
       "      <td>...</td>\n",
       "      <td>...</td>\n",
       "      <td>...</td>\n",
       "      <td>...</td>\n",
       "    </tr>\n",
       "    <tr>\n",
       "      <th>1359</th>\n",
       "      <td>1360</td>\n",
       "      <td>정액</td>\n",
       "      <td>num_kor0</td>\n",
       "      <td>3</td>\n",
       "    </tr>\n",
       "    <tr>\n",
       "      <th>1360</th>\n",
       "      <td>1361</td>\n",
       "      <td>할인</td>\n",
       "      <td>num_kor0</td>\n",
       "      <td>13</td>\n",
       "    </tr>\n",
       "    <tr>\n",
       "      <th>1361</th>\n",
       "      <td>1362</td>\n",
       "      <td>운임</td>\n",
       "      <td>num_kor0</td>\n",
       "      <td>20</td>\n",
       "    </tr>\n",
       "    <tr>\n",
       "      <th>1362</th>\n",
       "      <td>1363</td>\n",
       "      <td>운임</td>\n",
       "      <td>num_kor0</td>\n",
       "      <td>20</td>\n",
       "    </tr>\n",
       "    <tr>\n",
       "      <th>1363</th>\n",
       "      <td>1364</td>\n",
       "      <td>운임</td>\n",
       "      <td>num_kor0</td>\n",
       "      <td>20</td>\n",
       "    </tr>\n",
       "  </tbody>\n",
       "</table>\n",
       "<p>1364 rows × 4 columns</p>\n",
       "</div>"
      ],
      "text/plain": [
       "      index stwd_kor0  num_kor0  dupl_list_kor0\n",
       "0         1        가입  num_kor0               1\n",
       "1         2        개설  num_kor0               1\n",
       "2         3        개시  num_kor0               1\n",
       "3         4        개업  num_kor0               1\n",
       "4         5        개인  num_kor0               1\n",
       "...     ...       ...       ...             ...\n",
       "1359   1360        정액  num_kor0               3\n",
       "1360   1361        할인  num_kor0              13\n",
       "1361   1362        운임  num_kor0              20\n",
       "1362   1363        운임  num_kor0              20\n",
       "1363   1364        운임  num_kor0              20\n",
       "\n",
       "[1364 rows x 4 columns]"
      ]
     },
     "execution_count": 3,
     "metadata": {},
     "output_type": "execute_result"
    }
   ],
   "source": [
    "# 용어명 분리\n",
    "# 스페이스 제거\n",
    "input_test['용어명 분리'] = input_test['용어명 분리'].str.replace(\" \", \"\")\n",
    "\n",
    "# 인덱스 컬럼 추가\n",
    "df_index = pd.DataFrame(input_test['No'])\n",
    "df_index.columns = ['index']\n",
    "\n",
    "# 용어명 분리\n",
    "input_split_kor = pd.DataFrame(input_test['용어명 분리'].str.split('_').tolist())\n",
    "\n",
    "# 영문명 없을 경우 대비하여 cnt 집계\n",
    "kor_firts_cnt = len(input_split_kor.columns)\n",
    "\n",
    "# 컬럼명 입력\n",
    "name_list_kor = []\n",
    "for i in range(len(input_split_kor.columns)):\n",
    "    name_list_kor.append(\"stwd_kor{}\".format(i))\n",
    "input_split_kor.columns = name_list_kor\n",
    "\n",
    "# 한글 개수 세기\n",
    "dupl_list_kor = []\n",
    "dupl_cnt_kor = []\n",
    "for i in range(kor_firts_cnt):\n",
    "    globals()[\"dupl_list_kor{}\".format(i)] = []\n",
    "    for j in range(len(input_split_kor[\"stwd_kor{}\".format(i)])):\n",
    "        dupl_list_kor = input_split_kor[\"stwd_kor{}\".format(i)].to_list().count(input_split_kor[\"stwd_kor{}\".format(i)][j])\n",
    "        globals()[\"dupl_list_kor{}\".format(i)].append(dupl_list_kor)\n",
    "for i in range(kor_firts_cnt):\n",
    "    globals()[\"dupl_list_kor{}\".format(i)] = pd.concat([pd.DataFrame(globals()[\"dupl_list_kor{}\".format(i)])], axis = 0)\n",
    "    globals()[\"dupl_list_kor{}\".format(i)].columns = [\"dupl_list_kor{}\".format(i)]\n",
    "    \n",
    "# 컬럼명,index, 단어위치 추가\n",
    "for i in range(len(input_split_kor.columns)):\n",
    "    input_split_kor[\"num_kor{}\".format(i)] = \"num_kor{}\".format(i)\n",
    "    globals()[\"stwd_kor{}\".format(i)] = pd.concat(\n",
    "            [\n",
    "            df_index, \n",
    "            pd.DataFrame(input_split_kor[\"stwd_kor{}\".format(i)]),\n",
    "            pd.DataFrame(input_split_kor[\"num_kor{}\".format(i)]),\n",
    "            globals()[\"dupl_list_kor{}\".format(i)]\n",
    "            ], \n",
    "            axis=1)\n",
    "print(name_list_kor)\n",
    "print(kor_firts_cnt)\n",
    "stwd_kor0\n",
    "# dupl_list_kor0"
   ]
  },
  {
   "cell_type": "code",
   "execution_count": null,
   "id": "45aa072d",
   "metadata": {},
   "outputs": [],
   "source": []
  },
  {
   "cell_type": "code",
   "execution_count": null,
   "id": "f45318fc",
   "metadata": {},
   "outputs": [],
   "source": []
  },
  {
   "cell_type": "code",
   "execution_count": null,
   "id": "8e661c91",
   "metadata": {},
   "outputs": [],
   "source": []
  },
  {
   "cell_type": "code",
   "execution_count": null,
   "id": "74a82e1d",
   "metadata": {},
   "outputs": [],
   "source": []
  },
  {
   "cell_type": "code",
   "execution_count": 4,
   "id": "48b88dfb",
   "metadata": {},
   "outputs": [
    {
     "name": "stdout",
     "output_type": "stream",
     "text": [
      "한글컬럼수와 영문컬럼수 일치\n",
      "['stwd_eng0', 'stwd_eng1', 'stwd_eng2', 'stwd_eng3', 'stwd_eng4', 'stwd_eng5', 'stwd_eng6', 'stwd_eng7', 'stwd_eng8', 'stwd_eng9']\n"
     ]
    },
    {
     "data": {
      "text/html": [
       "<div>\n",
       "<style scoped>\n",
       "    .dataframe tbody tr th:only-of-type {\n",
       "        vertical-align: middle;\n",
       "    }\n",
       "\n",
       "    .dataframe tbody tr th {\n",
       "        vertical-align: top;\n",
       "    }\n",
       "\n",
       "    .dataframe thead th {\n",
       "        text-align: right;\n",
       "    }\n",
       "</style>\n",
       "<table border=\"1\" class=\"dataframe\">\n",
       "  <thead>\n",
       "    <tr style=\"text-align: right;\">\n",
       "      <th></th>\n",
       "      <th>index</th>\n",
       "      <th>stwd_eng5</th>\n",
       "      <th>num_eng5</th>\n",
       "      <th>dupl_list_eng5</th>\n",
       "    </tr>\n",
       "  </thead>\n",
       "  <tbody>\n",
       "    <tr>\n",
       "      <th>0</th>\n",
       "      <td>1</td>\n",
       "      <td>NaN</td>\n",
       "      <td>num_eng5</td>\n",
       "      <td>1364</td>\n",
       "    </tr>\n",
       "    <tr>\n",
       "      <th>1</th>\n",
       "      <td>2</td>\n",
       "      <td>NaN</td>\n",
       "      <td>num_eng5</td>\n",
       "      <td>1364</td>\n",
       "    </tr>\n",
       "    <tr>\n",
       "      <th>2</th>\n",
       "      <td>3</td>\n",
       "      <td>NaN</td>\n",
       "      <td>num_eng5</td>\n",
       "      <td>1364</td>\n",
       "    </tr>\n",
       "    <tr>\n",
       "      <th>3</th>\n",
       "      <td>4</td>\n",
       "      <td>NaN</td>\n",
       "      <td>num_eng5</td>\n",
       "      <td>1364</td>\n",
       "    </tr>\n",
       "    <tr>\n",
       "      <th>4</th>\n",
       "      <td>5</td>\n",
       "      <td>NaN</td>\n",
       "      <td>num_eng5</td>\n",
       "      <td>1364</td>\n",
       "    </tr>\n",
       "    <tr>\n",
       "      <th>...</th>\n",
       "      <td>...</td>\n",
       "      <td>...</td>\n",
       "      <td>...</td>\n",
       "      <td>...</td>\n",
       "    </tr>\n",
       "    <tr>\n",
       "      <th>1359</th>\n",
       "      <td>1360</td>\n",
       "      <td>NaN</td>\n",
       "      <td>num_eng5</td>\n",
       "      <td>1364</td>\n",
       "    </tr>\n",
       "    <tr>\n",
       "      <th>1360</th>\n",
       "      <td>1361</td>\n",
       "      <td>NaN</td>\n",
       "      <td>num_eng5</td>\n",
       "      <td>1364</td>\n",
       "    </tr>\n",
       "    <tr>\n",
       "      <th>1361</th>\n",
       "      <td>1362</td>\n",
       "      <td>NaN</td>\n",
       "      <td>num_eng5</td>\n",
       "      <td>1364</td>\n",
       "    </tr>\n",
       "    <tr>\n",
       "      <th>1362</th>\n",
       "      <td>1363</td>\n",
       "      <td>NaN</td>\n",
       "      <td>num_eng5</td>\n",
       "      <td>1364</td>\n",
       "    </tr>\n",
       "    <tr>\n",
       "      <th>1363</th>\n",
       "      <td>1364</td>\n",
       "      <td>NaN</td>\n",
       "      <td>num_eng5</td>\n",
       "      <td>1364</td>\n",
       "    </tr>\n",
       "  </tbody>\n",
       "</table>\n",
       "<p>1364 rows × 4 columns</p>\n",
       "</div>"
      ],
      "text/plain": [
       "      index stwd_eng5  num_eng5  dupl_list_eng5\n",
       "0         1       NaN  num_eng5            1364\n",
       "1         2       NaN  num_eng5            1364\n",
       "2         3       NaN  num_eng5            1364\n",
       "3         4       NaN  num_eng5            1364\n",
       "4         5       NaN  num_eng5            1364\n",
       "...     ...       ...       ...             ...\n",
       "1359   1360       NaN  num_eng5            1364\n",
       "1360   1361       NaN  num_eng5            1364\n",
       "1361   1362       NaN  num_eng5            1364\n",
       "1362   1363       NaN  num_eng5            1364\n",
       "1363   1364       NaN  num_eng5            1364\n",
       "\n",
       "[1364 rows x 4 columns]"
      ]
     },
     "execution_count": 4,
     "metadata": {},
     "output_type": "execute_result"
    }
   ],
   "source": [
    "# 영문명 분리\n",
    "# 스페이스 제거\n",
    "if (input_test['영문약어명'].isnull()).sum() == 0:\n",
    "    input_test['영문약어명'] = input_test['영문약어명'].str.replace(\" \", \"\")\n",
    "\n",
    "    # 인덱스 컬럼 추가\n",
    "    df_index = pd.DataFrame(input_test['No'])\n",
    "    df_index.columns = ['index']\n",
    "\n",
    "    # 영문명 분리\n",
    "    input_split_eng = pd.DataFrame(input_test['영문약어명'].str.split('_').tolist())\n",
    "    \n",
    "    # 한글명 없을 경우 대비하여 cnt 집계\n",
    "    eng_firts_cnt = len(input_split_eng.columns)\n",
    "    \n",
    "    # 컬럼명 입력\n",
    "    name_list_eng = []\n",
    "    for i in range(len(input_split_eng.columns)):\n",
    "        name_list_eng.append(\"stwd_eng{}\".format(i))\n",
    "    input_split_eng.columns = name_list_eng\n",
    "    \n",
    "    # 영문 개수 세기\n",
    "    dupl_list_eng = []\n",
    "    dupl_cnt_eng = []\n",
    "    for i in range(eng_firts_cnt):\n",
    "        globals()[\"dupl_list_eng{}\".format(i)] = []\n",
    "        for j in range(len(input_split_eng[\"stwd_eng{}\".format(i)])):\n",
    "            dupl_list_eng = input_split_eng[\"stwd_eng{}\".format(i)].to_list().count(input_split_eng[\"stwd_eng{}\".format(i)][j])\n",
    "            globals()[\"dupl_list_eng{}\".format(i)].append(dupl_list_eng)\n",
    "    for i in range(eng_firts_cnt):\n",
    "        globals()[\"dupl_list_eng{}\".format(i)] = pd.concat([pd.DataFrame(globals()[\"dupl_list_eng{}\".format(i)])], axis = 0)\n",
    "        globals()[\"dupl_list_eng{}\".format(i)].columns = [\"dupl_list_eng{}\".format(i)]\n",
    "        \n",
    "    # 컬럼명,index, 단어위치 추가\n",
    "    for i in range(len(input_split_eng.columns)):\n",
    "        input_split_eng[\"num_eng{}\".format(i)] = \"num_eng{}\".format(i)\n",
    "        globals()[\"stwd_eng{}\".format(i)] = pd.concat(\n",
    "                [\n",
    "                df_index, \n",
    "                pd.DataFrame(input_split_eng[\"stwd_eng{}\".format(i)]),\n",
    "                pd.DataFrame(input_split_eng[\"num_eng{}\".format(i)]),\n",
    "                globals()[\"dupl_list_eng{}\".format(i)]\n",
    "                ], \n",
    "                axis=1)\n",
    "else:\n",
    "    name_list_eng = []\n",
    "    for i in range(kor_firts_cnt):\n",
    "        globals()[\"stwd_eng{}\".format(i)] = pd.DataFrame(columns = [\"stwd_eng{}\".format(i)])\n",
    "        globals()[\"num_eng{}\".format(i)] = pd.DataFrame(columns = [\"num_eng{}\".format(i)])\n",
    "        globals()[\"dupl_list_eng{}\".format(i)] = pd.DataFrame(columns = [\"dupl_list_eng{}\".format(i)])\n",
    "        globals()[\"stwd_eng{}\".format(i)] = pd.concat(\n",
    "            [\n",
    "                df_index , \n",
    "                globals()[\"stwd_eng{}\".format(i)] ,\n",
    "                globals()[\"num_eng{}\".format(i)],\n",
    "                globals()[\"dupl_list_eng{}\".format(i)],\n",
    "            ]\n",
    "            , axis = 1\n",
    "        )\n",
    "        globals()[\"stwd_eng{}\".format(i)][\"num_eng{}\".format(i)] = \"num_eng{}\".format(i)\n",
    "        globals()[\"stwd_eng{}\".format(i)][\"dupl_list_eng{}\".format(i)] = len(globals()[\"stwd_eng{}\".format(i)])\n",
    "        name_list_eng.append(\"stwd_eng{}\".format(i))\n",
    "\n",
    "# 컬럼수 일치 점검\n",
    "if len(name_list_kor) == len(name_list_eng):\n",
    "    print(\"한글컬럼수와 영문컬럼수 일치\")\n",
    "else:\n",
    "    print(\"한글컬럼수와 영문컬럼수 불일치\")\n",
    "                                                       \n",
    "print(name_list_eng)\n",
    "stwd_eng5"
   ]
  },
  {
   "cell_type": "code",
   "execution_count": null,
   "id": "f402f394",
   "metadata": {},
   "outputs": [],
   "source": []
  },
  {
   "cell_type": "code",
   "execution_count": 5,
   "id": "d5169da4",
   "metadata": {},
   "outputs": [
    {
     "name": "stdout",
     "output_type": "stream",
     "text": [
      "한글컬럼과 영문컬럼수 일치\n"
     ]
    },
    {
     "data": {
      "text/html": [
       "<div>\n",
       "<style scoped>\n",
       "    .dataframe tbody tr th:only-of-type {\n",
       "        vertical-align: middle;\n",
       "    }\n",
       "\n",
       "    .dataframe tbody tr th {\n",
       "        vertical-align: top;\n",
       "    }\n",
       "\n",
       "    .dataframe thead th {\n",
       "        text-align: right;\n",
       "    }\n",
       "</style>\n",
       "<table border=\"1\" class=\"dataframe\">\n",
       "  <thead>\n",
       "    <tr style=\"text-align: right;\">\n",
       "      <th></th>\n",
       "      <th>index</th>\n",
       "      <th>stwd_eng7</th>\n",
       "      <th>num_eng7</th>\n",
       "      <th>dupl_list_eng7</th>\n",
       "    </tr>\n",
       "  </thead>\n",
       "  <tbody>\n",
       "    <tr>\n",
       "      <th>0</th>\n",
       "      <td>1</td>\n",
       "      <td>NaN</td>\n",
       "      <td>num_eng7</td>\n",
       "      <td>1364</td>\n",
       "    </tr>\n",
       "    <tr>\n",
       "      <th>1</th>\n",
       "      <td>2</td>\n",
       "      <td>NaN</td>\n",
       "      <td>num_eng7</td>\n",
       "      <td>1364</td>\n",
       "    </tr>\n",
       "    <tr>\n",
       "      <th>2</th>\n",
       "      <td>3</td>\n",
       "      <td>NaN</td>\n",
       "      <td>num_eng7</td>\n",
       "      <td>1364</td>\n",
       "    </tr>\n",
       "    <tr>\n",
       "      <th>3</th>\n",
       "      <td>4</td>\n",
       "      <td>NaN</td>\n",
       "      <td>num_eng7</td>\n",
       "      <td>1364</td>\n",
       "    </tr>\n",
       "    <tr>\n",
       "      <th>4</th>\n",
       "      <td>5</td>\n",
       "      <td>NaN</td>\n",
       "      <td>num_eng7</td>\n",
       "      <td>1364</td>\n",
       "    </tr>\n",
       "    <tr>\n",
       "      <th>...</th>\n",
       "      <td>...</td>\n",
       "      <td>...</td>\n",
       "      <td>...</td>\n",
       "      <td>...</td>\n",
       "    </tr>\n",
       "    <tr>\n",
       "      <th>1359</th>\n",
       "      <td>1360</td>\n",
       "      <td>NaN</td>\n",
       "      <td>num_eng7</td>\n",
       "      <td>1364</td>\n",
       "    </tr>\n",
       "    <tr>\n",
       "      <th>1360</th>\n",
       "      <td>1361</td>\n",
       "      <td>NaN</td>\n",
       "      <td>num_eng7</td>\n",
       "      <td>1364</td>\n",
       "    </tr>\n",
       "    <tr>\n",
       "      <th>1361</th>\n",
       "      <td>1362</td>\n",
       "      <td>NaN</td>\n",
       "      <td>num_eng7</td>\n",
       "      <td>1364</td>\n",
       "    </tr>\n",
       "    <tr>\n",
       "      <th>1362</th>\n",
       "      <td>1363</td>\n",
       "      <td>NaN</td>\n",
       "      <td>num_eng7</td>\n",
       "      <td>1364</td>\n",
       "    </tr>\n",
       "    <tr>\n",
       "      <th>1363</th>\n",
       "      <td>1364</td>\n",
       "      <td>NaN</td>\n",
       "      <td>num_eng7</td>\n",
       "      <td>1364</td>\n",
       "    </tr>\n",
       "  </tbody>\n",
       "</table>\n",
       "<p>1364 rows × 4 columns</p>\n",
       "</div>"
      ],
      "text/plain": [
       "      index stwd_eng7  num_eng7  dupl_list_eng7\n",
       "0         1       NaN  num_eng7            1364\n",
       "1         2       NaN  num_eng7            1364\n",
       "2         3       NaN  num_eng7            1364\n",
       "3         4       NaN  num_eng7            1364\n",
       "4         5       NaN  num_eng7            1364\n",
       "...     ...       ...       ...             ...\n",
       "1359   1360       NaN  num_eng7            1364\n",
       "1360   1361       NaN  num_eng7            1364\n",
       "1361   1362       NaN  num_eng7            1364\n",
       "1362   1363       NaN  num_eng7            1364\n",
       "1363   1364       NaN  num_eng7            1364\n",
       "\n",
       "[1364 rows x 4 columns]"
      ]
     },
     "execution_count": 5,
     "metadata": {},
     "output_type": "execute_result"
    }
   ],
   "source": [
    "# 한글/영문 컬럼 수 일치시키기\n",
    "name_cnt_kor = len(name_list_kor)\n",
    "name_cnt_eng = len(name_list_eng)\n",
    "if name_cnt_kor == name_cnt_eng:\n",
    "    name_cnt = name_cnt_kor\n",
    "    name_cnt_diff_list = None\n",
    "    print('한글컬럼과 영문컬럼수 일치')\n",
    "elif name_cnt_kor > name_cnt_eng:\n",
    "    name_cnt = name_cnt_kor\n",
    "    name_cnt_diff_list = list(set(range(name_cnt_kor)) - set(range(name_cnt_eng)))\n",
    "    for i in name_cnt_diff_list:\n",
    "        input_split_eng['stwd_eng{}'.format(i)] = None\n",
    "        input_split_eng['num_eng{}'.format(i)] = None\n",
    "        globals()['stwd_eng{}'.format(i)] = pd.concat(\n",
    "            [\n",
    "                df_index,\n",
    "                pd.DataFrame(input_split_eng['stwd_eng{}'.format(i)]),\n",
    "                pd.DataFrame(input_split_eng[\"num_eng{}\".format(i)])\n",
    "            ],\n",
    "            axis = 1\n",
    "        )\n",
    "    print('한글컬럼이 더 많은 싱태')\n",
    "elif name_cnt_kor < name_cnt_eng:\n",
    "    name_cnt = name_cnt_eng\n",
    "    name_cnt_diff_list = list(set(range(name_cnt_eng)) - set(range(name_cnt_kor)))\n",
    "    for i in name_cnt_diff_list:\n",
    "        input_split_kor['stwd_kor{}'.format(i)] = None\n",
    "        input_split_kor['num_kor{}'.format(i)] = None\n",
    "        globals()['stwd_kor{}'.format(i)] = pd.concat(\n",
    "            [\n",
    "                df_index,\n",
    "                pd.DataFrame(input_split_kor['stwd_kor{}'.format(i)]),\n",
    "                pd.DataFrame(input_split_kor[\"num_kor{}\".format(i)])\n",
    "            ],\n",
    "            axis = 1\n",
    "        )\n",
    "    print('영문컬럼이 더 많은 싱태')       \n",
    "\n",
    "stwd_eng7"
   ]
  },
  {
   "cell_type": "code",
   "execution_count": null,
   "id": "189bd18d",
   "metadata": {},
   "outputs": [],
   "source": []
  },
  {
   "cell_type": "code",
   "execution_count": 6,
   "id": "e5f625f8",
   "metadata": {},
   "outputs": [
    {
     "name": "stdout",
     "output_type": "stream",
     "text": [
      "row count 일치\n"
     ]
    },
    {
     "data": {
      "text/html": [
       "<div>\n",
       "<style scoped>\n",
       "    .dataframe tbody tr th:only-of-type {\n",
       "        vertical-align: middle;\n",
       "    }\n",
       "\n",
       "    .dataframe tbody tr th {\n",
       "        vertical-align: top;\n",
       "    }\n",
       "\n",
       "    .dataframe thead th {\n",
       "        text-align: right;\n",
       "    }\n",
       "</style>\n",
       "<table border=\"1\" class=\"dataframe\">\n",
       "  <thead>\n",
       "    <tr style=\"text-align: right;\">\n",
       "      <th></th>\n",
       "      <th>index</th>\n",
       "      <th>stwd_kor7</th>\n",
       "      <th>num_kor7</th>\n",
       "      <th>dupl_list_kor7</th>\n",
       "      <th>stwd_eng7</th>\n",
       "      <th>num_eng7</th>\n",
       "      <th>dupl_list_eng7</th>\n",
       "    </tr>\n",
       "  </thead>\n",
       "  <tbody>\n",
       "    <tr>\n",
       "      <th>0</th>\n",
       "      <td>1</td>\n",
       "      <td>None</td>\n",
       "      <td>num_kor7</td>\n",
       "      <td>1355</td>\n",
       "      <td>NaN</td>\n",
       "      <td>num_eng7</td>\n",
       "      <td>1364</td>\n",
       "    </tr>\n",
       "    <tr>\n",
       "      <th>1</th>\n",
       "      <td>2</td>\n",
       "      <td>None</td>\n",
       "      <td>num_kor7</td>\n",
       "      <td>1355</td>\n",
       "      <td>NaN</td>\n",
       "      <td>num_eng7</td>\n",
       "      <td>1364</td>\n",
       "    </tr>\n",
       "    <tr>\n",
       "      <th>2</th>\n",
       "      <td>3</td>\n",
       "      <td>None</td>\n",
       "      <td>num_kor7</td>\n",
       "      <td>1355</td>\n",
       "      <td>NaN</td>\n",
       "      <td>num_eng7</td>\n",
       "      <td>1364</td>\n",
       "    </tr>\n",
       "    <tr>\n",
       "      <th>3</th>\n",
       "      <td>4</td>\n",
       "      <td>None</td>\n",
       "      <td>num_kor7</td>\n",
       "      <td>1355</td>\n",
       "      <td>NaN</td>\n",
       "      <td>num_eng7</td>\n",
       "      <td>1364</td>\n",
       "    </tr>\n",
       "    <tr>\n",
       "      <th>4</th>\n",
       "      <td>5</td>\n",
       "      <td>None</td>\n",
       "      <td>num_kor7</td>\n",
       "      <td>1355</td>\n",
       "      <td>NaN</td>\n",
       "      <td>num_eng7</td>\n",
       "      <td>1364</td>\n",
       "    </tr>\n",
       "    <tr>\n",
       "      <th>...</th>\n",
       "      <td>...</td>\n",
       "      <td>...</td>\n",
       "      <td>...</td>\n",
       "      <td>...</td>\n",
       "      <td>...</td>\n",
       "      <td>...</td>\n",
       "      <td>...</td>\n",
       "    </tr>\n",
       "    <tr>\n",
       "      <th>1359</th>\n",
       "      <td>1360</td>\n",
       "      <td>None</td>\n",
       "      <td>num_kor7</td>\n",
       "      <td>1355</td>\n",
       "      <td>NaN</td>\n",
       "      <td>num_eng7</td>\n",
       "      <td>1364</td>\n",
       "    </tr>\n",
       "    <tr>\n",
       "      <th>1360</th>\n",
       "      <td>1361</td>\n",
       "      <td>None</td>\n",
       "      <td>num_kor7</td>\n",
       "      <td>1355</td>\n",
       "      <td>NaN</td>\n",
       "      <td>num_eng7</td>\n",
       "      <td>1364</td>\n",
       "    </tr>\n",
       "    <tr>\n",
       "      <th>1361</th>\n",
       "      <td>1362</td>\n",
       "      <td>None</td>\n",
       "      <td>num_kor7</td>\n",
       "      <td>1355</td>\n",
       "      <td>NaN</td>\n",
       "      <td>num_eng7</td>\n",
       "      <td>1364</td>\n",
       "    </tr>\n",
       "    <tr>\n",
       "      <th>1362</th>\n",
       "      <td>1363</td>\n",
       "      <td>None</td>\n",
       "      <td>num_kor7</td>\n",
       "      <td>1355</td>\n",
       "      <td>NaN</td>\n",
       "      <td>num_eng7</td>\n",
       "      <td>1364</td>\n",
       "    </tr>\n",
       "    <tr>\n",
       "      <th>1363</th>\n",
       "      <td>1364</td>\n",
       "      <td>None</td>\n",
       "      <td>num_kor7</td>\n",
       "      <td>1355</td>\n",
       "      <td>NaN</td>\n",
       "      <td>num_eng7</td>\n",
       "      <td>1364</td>\n",
       "    </tr>\n",
       "  </tbody>\n",
       "</table>\n",
       "<p>1364 rows × 7 columns</p>\n",
       "</div>"
      ],
      "text/plain": [
       "      index stwd_kor7  num_kor7  dupl_list_kor7 stwd_eng7  num_eng7  \\\n",
       "0         1      None  num_kor7            1355       NaN  num_eng7   \n",
       "1         2      None  num_kor7            1355       NaN  num_eng7   \n",
       "2         3      None  num_kor7            1355       NaN  num_eng7   \n",
       "3         4      None  num_kor7            1355       NaN  num_eng7   \n",
       "4         5      None  num_kor7            1355       NaN  num_eng7   \n",
       "...     ...       ...       ...             ...       ...       ...   \n",
       "1359   1360      None  num_kor7            1355       NaN  num_eng7   \n",
       "1360   1361      None  num_kor7            1355       NaN  num_eng7   \n",
       "1361   1362      None  num_kor7            1355       NaN  num_eng7   \n",
       "1362   1363      None  num_kor7            1355       NaN  num_eng7   \n",
       "1363   1364      None  num_kor7            1355       NaN  num_eng7   \n",
       "\n",
       "      dupl_list_eng7  \n",
       "0               1364  \n",
       "1               1364  \n",
       "2               1364  \n",
       "3               1364  \n",
       "4               1364  \n",
       "...              ...  \n",
       "1359            1364  \n",
       "1360            1364  \n",
       "1361            1364  \n",
       "1362            1364  \n",
       "1363            1364  \n",
       "\n",
       "[1364 rows x 7 columns]"
      ]
     },
     "execution_count": 6,
     "metadata": {},
     "output_type": "execute_result"
    }
   ],
   "source": [
    "# left join\n",
    "for i in range(name_cnt):\n",
    "    globals()['stwd_total{}'.format(i)] = pd.merge(\n",
    "        globals()['stwd_kor{}'.format(i)],\n",
    "        globals()['stwd_eng{}'.format(i)],\n",
    "        on = 'index',\n",
    "        how = 'left'\n",
    "    )\n",
    "\n",
    "# 카운트 일치 여부 점검\n",
    "index_cnt = len(df_index['index'])\n",
    "if index_cnt != len(stwd_total0):\n",
    "    print(\"index개수 와 joined_date개수 불일치\")\n",
    "else:\n",
    "    print(\"row count 일치\")\n",
    "stwd_total7"
   ]
  },
  {
   "cell_type": "code",
   "execution_count": 7,
   "id": "786bf564",
   "metadata": {},
   "outputs": [
    {
     "ename": "NameError",
     "evalue": "name 'input_split_eng' is not defined",
     "output_type": "error",
     "traceback": [
      "\u001b[1;31m---------------------------------------------------------------------------\u001b[0m",
      "\u001b[1;31mNameError\u001b[0m                                 Traceback (most recent call last)",
      "Input \u001b[1;32mIn [7]\u001b[0m, in \u001b[0;36m<cell line: 3>\u001b[1;34m()\u001b[0m\n\u001b[0;32m      1\u001b[0m \u001b[38;5;66;03m# stwd_total 힌즐 세우기\u001b[39;00m\n\u001b[0;32m      2\u001b[0m df_stwd_total \u001b[38;5;241m=\u001b[39m pd\u001b[38;5;241m.\u001b[39mDataFrame()\n\u001b[1;32m----> 3\u001b[0m \u001b[38;5;28;01mfor\u001b[39;00m i \u001b[38;5;129;01min\u001b[39;00m \u001b[38;5;28mrange\u001b[39m(\u001b[38;5;28mlen\u001b[39m(\u001b[43minput_split_eng\u001b[49m\u001b[38;5;241m.\u001b[39mcolumns)):\n\u001b[0;32m      4\u001b[0m     \u001b[38;5;28mglobals\u001b[39m()[\u001b[38;5;124m\"\u001b[39m\u001b[38;5;124mdf_stwd_eng\u001b[39m\u001b[38;5;132;01m{}\u001b[39;00m\u001b[38;5;124m\"\u001b[39m\u001b[38;5;241m.\u001b[39mformat(i)] \u001b[38;5;241m=\u001b[39m input_split_eng[\u001b[38;5;124m\"\u001b[39m\u001b[38;5;124mstwd_eng\u001b[39m\u001b[38;5;132;01m{}\u001b[39;00m\u001b[38;5;124m\"\u001b[39m\u001b[38;5;241m.\u001b[39mformat(i)]\n\u001b[0;32m      5\u001b[0m     df_stwd_eng \u001b[38;5;241m=\u001b[39m pd\u001b[38;5;241m.\u001b[39mconcat([df_stwd_eng, \u001b[38;5;28mglobals\u001b[39m()[\u001b[38;5;124m\"\u001b[39m\u001b[38;5;124mdf_stwd_eng\u001b[39m\u001b[38;5;132;01m{}\u001b[39;00m\u001b[38;5;124m\"\u001b[39m\u001b[38;5;241m.\u001b[39mformat(i)]])\n",
      "\u001b[1;31mNameError\u001b[0m: name 'input_split_eng' is not defined"
     ]
    }
   ],
   "source": [
    "# stwd_total 힌즐 세우기\n",
    "df_stwd_total = pd.DataFrame()\n",
    "for i in range(len(input_split_eng.columns)):\n",
    "    globals()[\"df_stwd_eng{}\".format(i)] = input_split_eng[\"stwd_eng{}\".format(i)]\n",
    "    df_stwd_eng = pd.concat([df_stwd_eng, globals()[\"df_stwd_eng{}\".format(i)]])\n",
    "df_stwd_eng.columns = ['stwd_eng']\n",
    "df_stwd_eng"
   ]
  },
  {
   "cell_type": "code",
   "execution_count": null,
   "id": "56913c4f",
   "metadata": {},
   "outputs": [],
   "source": [
    "############ num_kor(n) / num_eng(n) 기준으로 테이블 분리\n",
    "############ index 기준으로 left join하여 원상복구"
   ]
  },
  {
   "cell_type": "code",
   "execution_count": null,
   "id": "67bbdd23",
   "metadata": {},
   "outputs": [],
   "source": []
  },
  {
   "cell_type": "code",
   "execution_count": null,
   "id": "c65db2d3",
   "metadata": {},
   "outputs": [],
   "source": []
  },
  {
   "cell_type": "code",
   "execution_count": null,
   "id": "4c613095",
   "metadata": {},
   "outputs": [],
   "source": []
  },
  {
   "cell_type": "code",
   "execution_count": null,
   "id": "383bae0a",
   "metadata": {},
   "outputs": [],
   "source": []
  },
  {
   "cell_type": "code",
   "execution_count": null,
   "id": "48df0b69",
   "metadata": {},
   "outputs": [],
   "source": []
  },
  {
   "cell_type": "code",
   "execution_count": null,
   "id": "a5d4c2c7",
   "metadata": {},
   "outputs": [],
   "source": []
  },
  {
   "cell_type": "code",
   "execution_count": null,
   "id": "c2fbef91",
   "metadata": {},
   "outputs": [],
   "source": []
  },
  {
   "cell_type": "code",
   "execution_count": null,
   "id": "2b2092be",
   "metadata": {},
   "outputs": [],
   "source": []
  },
  {
   "cell_type": "code",
   "execution_count": null,
   "id": "0ca54755",
   "metadata": {},
   "outputs": [],
   "source": [
    "# left join\n",
    "for i in range(name_cnt):\n",
    "    globals()['stwd_total{}'.format(i)] = pd.merge(\n",
    "        globals()['stwd_kor{}'.format(i)],\n",
    "        globals()['stwd_eng{}'.format(i)],\n",
    "        on = 'index',\n",
    "        how = 'left'\n",
    "    )\n",
    "\n",
    "# 카운트 일치 여부 점검\n",
    "index_cnt = len(df_index['index'])\n",
    "if index_cnt != len(stwd_total0):\n",
    "    print(\"index 와 joined_date count불일치\")\n",
    "else:\n",
    "    print(\"count 일치\")\n",
    "stwd_total5"
   ]
  },
  {
   "cell_type": "code",
   "execution_count": null,
   "id": "b70b271d",
   "metadata": {},
   "outputs": [],
   "source": []
  },
  {
   "cell_type": "code",
   "execution_count": null,
   "id": "be7c10e9",
   "metadata": {},
   "outputs": [],
   "source": []
  },
  {
   "cell_type": "code",
   "execution_count": null,
   "id": "e76a4a32",
   "metadata": {},
   "outputs": [],
   "source": []
  },
  {
   "cell_type": "code",
   "execution_count": null,
   "id": "9665cb4c",
   "metadata": {},
   "outputs": [],
   "source": []
  },
  {
   "cell_type": "code",
   "execution_count": null,
   "id": "8c42ff45",
   "metadata": {},
   "outputs": [],
   "source": [
    "# merge\n",
    "for i in range(name_cnt):\n",
    "    globals()['stwd_total{}'.format(i)] = pd.concat(\n",
    "        [\n",
    "        globals()['stwd_kor{}'.format(i)],\n",
    "        globals()['stwd_eng{}'.format(i)]\n",
    "        ],\n",
    "        axis = 1        \n",
    "    )\n",
    "    print(i)\n",
    "# print(name_cnt)\n",
    "# print(name_cnt_diff_list)\n",
    "\n",
    "\n",
    "stwd_total1"
   ]
  },
  {
   "cell_type": "code",
   "execution_count": null,
   "id": "7cdbdaf2",
   "metadata": {},
   "outputs": [],
   "source": []
  },
  {
   "cell_type": "code",
   "execution_count": null,
   "id": "a5afb9dd",
   "metadata": {},
   "outputs": [],
   "source": []
  },
  {
   "cell_type": "code",
   "execution_count": null,
   "id": "71c988e5",
   "metadata": {},
   "outputs": [],
   "source": []
  },
  {
   "cell_type": "code",
   "execution_count": null,
   "id": "8ce65cf3",
   "metadata": {},
   "outputs": [],
   "source": []
  },
  {
   "cell_type": "code",
   "execution_count": null,
   "id": "bfce36ca",
   "metadata": {},
   "outputs": [],
   "source": [
    "for i in list(set(range(name_cnt)) - set(range(name_cnt_diff))):\n",
    "    print(i)\n"
   ]
  },
  {
   "cell_type": "code",
   "execution_count": null,
   "id": "01724074",
   "metadata": {},
   "outputs": [],
   "source": [
    "list(set(range(name_cnt_kor)) - set(range(name_cnt_eng)))"
   ]
  },
  {
   "cell_type": "code",
   "execution_count": null,
   "id": "8bd9c72e",
   "metadata": {},
   "outputs": [],
   "source": [
    "input_split_eng"
   ]
  },
  {
   "cell_type": "code",
   "execution_count": null,
   "id": "eae97030",
   "metadata": {},
   "outputs": [],
   "source": [
    "input_split_eng['stwd_eng6'] = None\n",
    "input_split_eng['stwd_eng6']"
   ]
  },
  {
   "cell_type": "code",
   "execution_count": null,
   "id": "3c9e415a",
   "metadata": {},
   "outputs": [],
   "source": [
    "input_split_eng['stwd_eng6']"
   ]
  },
  {
   "cell_type": "code",
   "execution_count": null,
   "id": "cf86aa8a",
   "metadata": {},
   "outputs": [],
   "source": [
    "# 한글/영문 컬럼 수 비교하기\n",
    "name_cnt_kor = len(name_list_kor)\n",
    "name_cnt_eng = len(name_list_eng)\n",
    "\n",
    "if name_cnt_kor == name_cnt_eng:\n",
    "    name_cnt = name_cnt_kor\n",
    "    name_cnt_diff_list = None\n",
    "elif name_cnt_kor > name_cnt_eng:\n",
    "    name_cnt = name_cnt_eng\n",
    "    name_cnt_diff_list = list(set(range(name_cnt_kor)) - set(range(name_cnt_eng)))\n",
    "    for i in name_cnt_diff_list:\n",
    "        input_split_eng['stwd_eng{}'.format(i)] = None\n",
    "        input_split_eng['num_eng{}'.format(i)] = None\n",
    "        globals()['stwd_eng{}'.format(i)] = pd.concat(\n",
    "            [\n",
    "                df_index,\n",
    "                pd.DataFrame(input_split_eng['stwd_eng{}'.format(i)]),\n",
    "                pd.DataFrame(input_split_eng[\"num_eng{}\".format(i)])\n",
    "            ],\n",
    "            axis = 1\n",
    "        )\n",
    "        \n",
    "        \n",
    "        \n",
    "elif name_cnt_kor < name_cnt_eng:\n",
    "    name_cnt = name_cnt_kor\n",
    "    name_cnt_diff_list = list(set(range(name_cnt_eng)) - set(range(name_cnt_kor)))\n",
    "    for i in name_cnt_diff_list:\n",
    "        input_split_kor['stwd_kor{}'.format(i)] = None\n",
    "        input_split_kor['num_kor{}'.format(i)] = None\n",
    "        globals()['stwd_kor{}'.format(i)] = pd.concat(\n",
    "            [\n",
    "                df_index,\n",
    "                pd.DataFrame(input_split_kor['stwd_kor{}'.format(i)]),\n",
    "                pd.DataFrame(input_split_kor[\"num_kor{}\".format(i)])\n",
    "            ],\n",
    "            axis = 1\n",
    "        )\n",
    "        \n",
    "\n",
    "stwd_eng7\n"
   ]
  },
  {
   "cell_type": "code",
   "execution_count": null,
   "id": "03271dd5",
   "metadata": {},
   "outputs": [],
   "source": [
    "stwd_eng6"
   ]
  },
  {
   "cell_type": "code",
   "execution_count": null,
   "id": "eee55fcd",
   "metadata": {},
   "outputs": [],
   "source": [
    "# 한글/영문 컬럼 수 비교하기\n",
    "name_cnt_kor = len(name_list)\n",
    "name_cnt_eng = len(name_list_eng)\n",
    "\n",
    "if name_cnt_kor == name_cnt_eng:\n",
    "    name_cnt = name_cnt_kor\n",
    "    name_cnt_diff_list = None\n",
    "elif name_cnt_kor > name_cnt_eng:\n",
    "    name_cnt = name_cnt_eng\n",
    "    name_cnt_diff_list = list(set(range(name_cnt_kor)) - set(range(name_cnt_eng)))\n",
    "    for i in name_cnt_diff_list:\n",
    "        globals()['stwd_eng{}'.format(i)] = None\n",
    "elif name_cnt_kor < name_cnt_eng:\n",
    "    name_cnt = name_cnt\n",
    "    name_cnt_diff_list = list(set(range(name_cnt_eng)) - set(range(name_cnt_kor)))\n",
    "    \n",
    "    \n",
    "\n",
    "    \n",
    "    \n",
    "for i in range(name_cnt):\n",
    "    globals()['stwd_total{}'.format(i)] = pd.concat(\n",
    "        [\n",
    "        globals()['stwd{}'.format(i)],\n",
    "        globals()['stwd_eng{}'.format(i)]\n",
    "        ],\n",
    "        axis = 1        \n",
    "    )\n",
    "    print(i)\n",
    "# print(name_cnt)\n",
    "# print(name_cnt_diff_list)"
   ]
  },
  {
   "cell_type": "code",
   "execution_count": null,
   "id": "f9979475",
   "metadata": {
    "scrolled": true
   },
   "outputs": [],
   "source": [
    "# 리스트 - 리스트\n",
    "list1 = [1,2]\n",
    "list2 = [1,2,3]\n",
    "list(set(list2) - set(list1))\n",
    "list(set(list1) - set(list2))\n",
    "list(set(list1).difference(set(list2)))\n",
    "list(set(range(10)) - set(range(2)))"
   ]
  },
  {
   "cell_type": "code",
   "execution_count": null,
   "id": "f36d01ae",
   "metadata": {},
   "outputs": [],
   "source": [
    "list(set(range(10)) - set(range(2)))"
   ]
  },
  {
   "cell_type": "code",
   "execution_count": null,
   "id": "1cb7b1be",
   "metadata": {},
   "outputs": [],
   "source": [
    "list(set(range(2)) - set(range(10)))"
   ]
  },
  {
   "cell_type": "code",
   "execution_count": null,
   "id": "19672885",
   "metadata": {},
   "outputs": [],
   "source": []
  },
  {
   "cell_type": "code",
   "execution_count": null,
   "id": "88a77a79",
   "metadata": {},
   "outputs": [],
   "source": []
  },
  {
   "cell_type": "code",
   "execution_count": null,
   "id": "a72e5ca8",
   "metadata": {},
   "outputs": [],
   "source": []
  },
  {
   "cell_type": "code",
   "execution_count": null,
   "id": "b0ef7e0a",
   "metadata": {},
   "outputs": [],
   "source": [
    "# 용어명 분리\n",
    "input_test['용어명 분리'] = input_test['용어명 분리'].str.replace(\" \", \"\")\n",
    "input_split = pd.DataFrame(input_test['용어명 분리'].str.split('_').tolist())\n",
    "name_list = []\n",
    "for i in range(len(input_split.columns)):\n",
    "    name_list.append(\"stwd{}\".format(i))\n",
    "print(name_list)\n",
    "# 컬럼명 만들기\n",
    "input_split = pd.DataFrame(input_test['용어명 분리'].str.split('_').tolist(), columns = name_list)\n",
    "# 인덱스 컬럼 추가\n",
    "df_index = pd.DataFrame(input_test['No'])\n",
    "df_index.columns = ['index']\n",
    "input_split= pd.concat([input_split, df_index], axis = 1)\n",
    "print(input_split.shape)\n",
    "input_split.head(5)"
   ]
  },
  {
   "cell_type": "code",
   "execution_count": null,
   "id": "67005077",
   "metadata": {},
   "outputs": [],
   "source": [
    "# 영문명 분리\n",
    "input_test['영문약어명'] = input_test['영문약어명'].str.replace(\" \", \"\")\n",
    "input_split_eng = pd.DataFrame(input_test['영문약어명'].str.split('_').tolist())\n",
    "name_list_eng = []\n",
    "for i in range(len(input_split_eng.columns)):\n",
    "    name_list_eng.append(\"stwd_eng{}\".format(i))\n",
    "print(name_list_eng)\n",
    "# 컬럼명 만들기\n",
    "input_split_eng = pd.DataFrame(input_test['영문약어명'].str.split('_').tolist(), columns = name_list_eng)\n",
    "# 인덱스 컬럼 추가\n",
    "# df_index = pd.DataFrame(input_test['No'])\n",
    "# df_index.columns = ['index']\n",
    "# input_split_eng= pd.concat([input_split_eng, df_index], axis = 1)\n",
    "print(input_split_eng.shape)\n",
    "input_split_eng.head(5)"
   ]
  },
  {
   "cell_type": "code",
   "execution_count": null,
   "id": "fcd75f26",
   "metadata": {},
   "outputs": [],
   "source": [
    "name_list = []\n",
    "for i in range(len(input_split_eng.columns)):\n",
    "    name_list_eng.append(\"stwd_eng{}\".format(i))"
   ]
  },
  {
   "cell_type": "code",
   "execution_count": null,
   "id": "c7aa71b5",
   "metadata": {},
   "outputs": [],
   "source": [
    "if len(name_list) == len(name_list_eng):\n",
    "    name_list_cnt = len(name_list)\n",
    "elif len(name_list) > len(name_list_eng):\n",
    "    name_list_cnt = len(name_list)\n",
    "elif len(name_list) < len(name_list_eng):\n",
    "    name_list_cnt = len(name_list_eng)\n",
    "    \n",
    "for i in range(name_list_cnt):\n",
    "    print(i)"
   ]
  },
  {
   "cell_type": "code",
   "execution_count": null,
   "id": "f925d077",
   "metadata": {},
   "outputs": [],
   "source": []
  },
  {
   "cell_type": "code",
   "execution_count": null,
   "id": "1789702b",
   "metadata": {},
   "outputs": [],
   "source": []
  },
  {
   "cell_type": "code",
   "execution_count": null,
   "id": "aad3c40c",
   "metadata": {},
   "outputs": [],
   "source": []
  },
  {
   "cell_type": "code",
   "execution_count": null,
   "id": "528a7e6f",
   "metadata": {},
   "outputs": [],
   "source": []
  },
  {
   "cell_type": "code",
   "execution_count": null,
   "id": "4b302682",
   "metadata": {},
   "outputs": [],
   "source": []
  },
  {
   "cell_type": "code",
   "execution_count": null,
   "id": "1d25f5db",
   "metadata": {},
   "outputs": [],
   "source": [
    "if len(name_list) == len(name_list_eng):\n",
    "    print(1)\n",
    "elif len(name_list) > len(name_list_eng):\n",
    "    print(2)    \n",
    "elif len(name_list) < len(name_list_eng):\n",
    "    print(3)"
   ]
  },
  {
   "cell_type": "code",
   "execution_count": null,
   "id": "1f4d71d5",
   "metadata": {},
   "outputs": [],
   "source": [
    "len(name_list_eng)"
   ]
  },
  {
   "cell_type": "code",
   "execution_count": null,
   "id": "717a24e4",
   "metadata": {},
   "outputs": [],
   "source": [
    "len(name_list)"
   ]
  },
  {
   "cell_type": "code",
   "execution_count": null,
   "id": "6f532858",
   "metadata": {},
   "outputs": [],
   "source": []
  },
  {
   "cell_type": "code",
   "execution_count": null,
   "id": "a610a2ce",
   "metadata": {},
   "outputs": [],
   "source": []
  },
  {
   "cell_type": "code",
   "execution_count": null,
   "id": "3b24e884",
   "metadata": {},
   "outputs": [],
   "source": []
  },
  {
   "cell_type": "code",
   "execution_count": null,
   "id": "a03325fa",
   "metadata": {},
   "outputs": [],
   "source": []
  },
  {
   "cell_type": "code",
   "execution_count": null,
   "id": "ada39004",
   "metadata": {},
   "outputs": [],
   "source": [
    "# 용어명 분리\n",
    "input_test['용어명 분리'] = input_test['용어명 분리'].str.replace(\" \", \"\")\n",
    "input_split = pd.DataFrame(input_test['용어명 분리'].str.split('_').tolist())\n",
    "name_list = []\n",
    "for i in range(len(input_split.columns)):\n",
    "    name_list.append(\"stwd{}\".format(i))\n",
    "print(name_list)\n",
    "# 컬럼명 만들기\n",
    "input_split = pd.DataFrame(input_test['용어명 분리'].str.split('_').tolist(), columns = name_list)\n",
    "print(input_split.shape)\n",
    "input_split.head(5)"
   ]
  },
  {
   "cell_type": "code",
   "execution_count": null,
   "id": "a097dc53",
   "metadata": {},
   "outputs": [],
   "source": [
    "# 단어별 개수 세기(네이밍 컬럼)\n",
    "dupl_list = []\n",
    "dupl_cnt = []\n",
    "for i in range(len(input_split.columns)):\n",
    "    globals()[\"dupl_list{}\".format(i)] = []\n",
    "    for j in range(len(input_split[\"stwd{}\".format(i)])):\n",
    "        dupl_cnt = input_split[\"stwd{}\".format(i)].to_list().count(input_split[\"stwd{}\".format(i)][j])\n",
    "        globals()[\"dupl_list{}\".format(i)].append(dupl_cnt)\n",
    "# df_dupl 힌즐 세우기\n",
    "df_dupl = pd.DataFrame()\n",
    "for i in range(len(input_split.columns)):\n",
    "    globals()[\"dupl_list{}\".format(i)]\n",
    "    df_dupl = pd.concat([df_dupl, pd.DataFrame(globals()[\"dupl_list{}\".format(i)])], axis = 0)\n",
    "df_dupl.columns = ['dupl']\n",
    "df_dupl"
   ]
  },
  {
   "cell_type": "code",
   "execution_count": null,
   "id": "0f87aa2a",
   "metadata": {},
   "outputs": [],
   "source": [
    "# df_index 한줄 세우기\n",
    "# df_index = pd.DataFrame(input_test['No'])\n",
    "df_index = pd.DataFrame()\n",
    "for i in range(len(input_split.columns)):\n",
    "#     globals()[\"df_index{}\".format(i)] = pd.DataFrame(input_test['No'])\n",
    "    df_index = pd.concat([df_index, pd.DataFrame(input_test['No'])])\n",
    "df_index.columns = ['index']\n",
    "df_index"
   ]
  },
  {
   "cell_type": "code",
   "execution_count": null,
   "id": "b840f19f",
   "metadata": {},
   "outputs": [],
   "source": [
    "# df_stwd 힌즐 세우기\n",
    "df_stwd = pd.DataFrame()\n",
    "for i in range(len(input_split.columns)):\n",
    "    globals()[\"df_stwd{}\".format(i)] = input_split[\"stwd{}\".format(i)]\n",
    "    df_stwd = pd.concat([df_stwd, globals()[\"df_stwd{}\".format(i)]])\n",
    "df_stwd.columns = ['stwd']\n",
    "df_stwd"
   ]
  },
  {
   "cell_type": "code",
   "execution_count": null,
   "id": "c251d8c1",
   "metadata": {},
   "outputs": [],
   "source": [
    "# df_chk\n",
    "df_chk = pd.concat([df_stwd, df_index], axis=1).reset_index() # 인덱스 초기화\n",
    "df_chk = df_chk[['stwd', 'index']]\n",
    "print(df_chk.shape)\n",
    "df_chk.tail(5)"
   ]
  },
  {
   "cell_type": "code",
   "execution_count": null,
   "id": "93a577f5",
   "metadata": {},
   "outputs": [],
   "source": [
    "### 한글 단어 분리"
   ]
  },
  {
   "cell_type": "code",
   "execution_count": null,
   "id": "543edf6f",
   "metadata": {},
   "outputs": [],
   "source": []
  },
  {
   "cell_type": "code",
   "execution_count": null,
   "id": "c414196e",
   "metadata": {},
   "outputs": [],
   "source": []
  },
  {
   "cell_type": "code",
   "execution_count": null,
   "id": "61dae374",
   "metadata": {},
   "outputs": [],
   "source": []
  },
  {
   "cell_type": "code",
   "execution_count": null,
   "id": "589597f8",
   "metadata": {},
   "outputs": [],
   "source": [
    "# 영문명 분리\n",
    "input_test['영문약어명'] = input_test['영문약어명'].str.replace(\" \", \"\")\n",
    "input_split_eng = pd.DataFrame(input_test['영문약어명'].str.split('_').tolist())\n",
    "name_list = []\n",
    "for i in range(len(input_split_eng.columns)):\n",
    "    name_list.append(\"stwd_eng{}\".format(i))\n",
    "print(name_list)\n",
    "# 컬럼명 만들기\n",
    "input_split_eng = pd.DataFrame(input_test['영문약어명'].str.split('_').tolist(), columns = name_list)\n",
    "print(input_split_eng.shape)\n",
    "input_split_eng.head(5)"
   ]
  },
  {
   "cell_type": "code",
   "execution_count": null,
   "id": "59da8e01",
   "metadata": {},
   "outputs": [],
   "source": [
    "# df_index 한줄 세우기\n",
    "df_index_eng = pd.DataFrame()\n",
    "for i in range(len(input_split_eng.columns)):\n",
    "    df_index_eng = pd.concat([df_index_eng, pd.DataFrame(input_test['No'])])\n",
    "df_index_eng.columns = ['index']\n",
    "df_index_eng"
   ]
  },
  {
   "cell_type": "code",
   "execution_count": null,
   "id": "cb612222",
   "metadata": {},
   "outputs": [],
   "source": [
    "# df_stwd_eng 힌즐 세우기\n",
    "df_stwd_eng = pd.DataFrame()\n",
    "for i in range(len(input_split_eng.columns)):\n",
    "    globals()[\"df_stwd_eng{}\".format(i)] = input_split_eng[\"stwd_eng{}\".format(i)]\n",
    "    df_stwd_eng = pd.concat([df_stwd_eng, globals()[\"df_stwd_eng{}\".format(i)]])\n",
    "df_stwd_eng.columns = ['stwd_eng']\n",
    "df_stwd_eng"
   ]
  },
  {
   "cell_type": "code",
   "execution_count": null,
   "id": "7a996ef4",
   "metadata": {},
   "outputs": [],
   "source": [
    "# df_chk_eng\n",
    "df_chk_eng = pd.concat([df_stwd_eng, df_index_eng], axis=1).reset_index() # 인덱스 초기화\n",
    "df_chk_eng = df_chk_eng[['stwd_eng', 'index']]\n",
    "print(df_chk_eng.shape)\n",
    "df_chk_eng.tail(5)"
   ]
  },
  {
   "cell_type": "code",
   "execution_count": null,
   "id": "00275015",
   "metadata": {},
   "outputs": [],
   "source": [
    "### 영문 단어 분리"
   ]
  },
  {
   "cell_type": "code",
   "execution_count": null,
   "id": "27250157",
   "metadata": {},
   "outputs": [],
   "source": []
  },
  {
   "cell_type": "code",
   "execution_count": null,
   "id": "f367521d",
   "metadata": {},
   "outputs": [],
   "source": []
  },
  {
   "cell_type": "code",
   "execution_count": null,
   "id": "bb81321d",
   "metadata": {},
   "outputs": [],
   "source": []
  },
  {
   "cell_type": "code",
   "execution_count": null,
   "id": "2dbf3a55",
   "metadata": {},
   "outputs": [],
   "source": [
    "df_chk.merge(df_chk_eng, on='index' "
   ]
  },
  {
   "cell_type": "code",
   "execution_count": null,
   "id": "fb17a24b",
   "metadata": {},
   "outputs": [],
   "source": []
  },
  {
   "cell_type": "code",
   "execution_count": null,
   "id": "35f06fbd",
   "metadata": {},
   "outputs": [],
   "source": []
  },
  {
   "cell_type": "code",
   "execution_count": null,
   "id": "0d8202f3",
   "metadata": {},
   "outputs": [],
   "source": []
  },
  {
   "cell_type": "code",
   "execution_count": null,
   "id": "442f5b96",
   "metadata": {},
   "outputs": [],
   "source": []
  },
  {
   "cell_type": "code",
   "execution_count": null,
   "id": "112b25c9",
   "metadata": {},
   "outputs": [],
   "source": []
  },
  {
   "cell_type": "code",
   "execution_count": null,
   "id": "43ad27ae",
   "metadata": {},
   "outputs": [],
   "source": []
  },
  {
   "cell_type": "code",
   "execution_count": null,
   "id": "bfe10db6",
   "metadata": {},
   "outputs": [],
   "source": []
  },
  {
   "cell_type": "code",
   "execution_count": null,
   "id": "d057f85e",
   "metadata": {},
   "outputs": [],
   "source": [
    "# df_chk_uni\n",
    "df_chk_uni = df_chk[df_chk['stwd'].duplicated()==False].reset_index()\n",
    "df_chk_uni = df_chk_uni[['stwd', 'index']]\n",
    "df_chk_uni.tail(5)"
   ]
  },
  {
   "cell_type": "code",
   "execution_count": null,
   "id": "1bfd600d",
   "metadata": {},
   "outputs": [],
   "source": [
    "# unique 단어 개수 세기\n",
    "dupl_list = []\n",
    "dupl_cnt = []\n",
    "for i in range(len(df_chk_uni[\"stwd\"])):\n",
    "    dupl_cnt = df_chk_uni[\"stwd\"].to_list().count(df_chk_uni[\"stwd\"][i])\n",
    "    dupl_list.append(dupl_cnt)\n",
    "\n",
    "len(dupl_list)"
   ]
  },
  {
   "cell_type": "code",
   "execution_count": null,
   "id": "58b3cc80",
   "metadata": {},
   "outputs": [],
   "source": [
    "# 횟수 병합\n",
    "df_chk_uni = pd.concat([df_chk_uni, pd.DataFrame(dupl_list)], axis = 1)\n",
    "df_chk_uni.columns = ['stwd', 'index', 'dupl_cnt']\n",
    "print(df_chk_uni[df_chk_uni['dupl_cnt'] != 1])\n",
    "print(df_chk_uni[df_chk_uni['dupl_cnt'] == None])\n",
    "df_chk_uni.tail(5)"
   ]
  },
  {
   "cell_type": "code",
   "execution_count": null,
   "id": "68bf6f24",
   "metadata": {
    "scrolled": true
   },
   "outputs": [],
   "source": [
    "# 점검 , 변환\n",
    "# ab['dupl_cnt'].info()\n",
    "# ab['dupl_cnt'].astype(int)"
   ]
  },
  {
   "cell_type": "code",
   "execution_count": null,
   "id": "104679e9",
   "metadata": {},
   "outputs": [],
   "source": []
  },
  {
   "cell_type": "code",
   "execution_count": null,
   "id": "e2316492",
   "metadata": {},
   "outputs": [],
   "source": [
    "# df_chk_uni\n",
    "df_chk_dupl = df_chk[df_chk['stwd'].duplicated()].reset_index()\n",
    "df_chk_dupl = df_chk_dupl[['stwd', 'index']]\n",
    "df_chk_dupl.tail(5)"
   ]
  },
  {
   "cell_type": "code",
   "execution_count": null,
   "id": "6be2730f",
   "metadata": {},
   "outputs": [],
   "source": [
    "# dupl 단어 개수 세기\n",
    "dupl_list = []\n",
    "dupl_cnt = []\n",
    "for i in range(len(df_chk_dupl[\"stwd\"])):\n",
    "    dupl_cnt = df_chk_dupl[\"stwd\"].to_list().count(df_chk_dupl[\"stwd\"][i])\n",
    "    dupl_list.append(dupl_cnt)\n",
    "\n",
    "len(dupl_list)"
   ]
  },
  {
   "cell_type": "code",
   "execution_count": null,
   "id": "12f0510a",
   "metadata": {},
   "outputs": [],
   "source": [
    "# 횟수 병합\n",
    "df_chk_dupl = pd.concat([df_chk_dupl, pd.DataFrame(dupl_list)], axis = 1)\n",
    "df_chk_dupl.columns = ['stwd', 'index', 'dupl_cnt']\n",
    "print(df_chk_dupl[df_chk_dupl['dupl_cnt'] == 1])\n",
    "print(df_chk_dupl[df_chk_dupl['dupl_cnt'] == None])\n",
    "df_chk_dupl.tail(5)"
   ]
  },
  {
   "cell_type": "code",
   "execution_count": null,
   "id": "d0e3ca3a",
   "metadata": {},
   "outputs": [],
   "source": [
    "df_chk_dupl[df_chk_dupl['stwd'] == '매수']"
   ]
  },
  {
   "cell_type": "code",
   "execution_count": null,
   "id": "2610e35d",
   "metadata": {},
   "outputs": [],
   "source": [
    "cc = df_chk_dupl.merge(input_test, left_on = 'index', right_on = 'No', how='left')\n",
    "cc = cc[cc['stwd'].duplicated()==False]\n",
    "print(cc.shape)\n",
    "cc.head(3)"
   ]
  },
  {
   "cell_type": "code",
   "execution_count": null,
   "id": "7fc9f1b7",
   "metadata": {},
   "outputs": [],
   "source": [
    "df_chk_dupl.to_excel(input_path+\"dsfadas.xlsx\")"
   ]
  },
  {
   "cell_type": "code",
   "execution_count": null,
   "id": "6b8822d2",
   "metadata": {},
   "outputs": [],
   "source": [
    "cc = df_chk_dupl['stwd'].drop_duplicates()\n",
    "(cc.shape)\n",
    "cc"
   ]
  },
  {
   "cell_type": "code",
   "execution_count": null,
   "id": "8d33dac8",
   "metadata": {},
   "outputs": [],
   "source": [
    "cc.to_excel(input_path+\"cccccccccccc.xlsx\")"
   ]
  },
  {
   "cell_type": "code",
   "execution_count": null,
   "id": "47970b0d",
   "metadata": {},
   "outputs": [],
   "source": []
  },
  {
   "cell_type": "code",
   "execution_count": null,
   "id": "9f430c0a",
   "metadata": {},
   "outputs": [],
   "source": [
    "df_chk_dupl['stwd'].drop_duplicates()"
   ]
  },
  {
   "cell_type": "code",
   "execution_count": null,
   "id": "c0950dbd",
   "metadata": {},
   "outputs": [],
   "source": [
    "ccc = df_chk_dupl.merge(input_test, left_on = 'index', right_on = 'No', how='left')\n",
    "ccc = ccc[ccc['stwd'].duplicated()]\n",
    "print(ccc.shape)\n",
    "ccc.head(3)"
   ]
  },
  {
   "cell_type": "code",
   "execution_count": null,
   "id": "4769f8c0",
   "metadata": {},
   "outputs": [],
   "source": [
    "ccc.to_excel(input_path+\"cccccccccc3cc.xlsx\")"
   ]
  },
  {
   "cell_type": "code",
   "execution_count": null,
   "id": "7cd44379",
   "metadata": {},
   "outputs": [],
   "source": []
  },
  {
   "cell_type": "code",
   "execution_count": null,
   "id": "182bdc3c",
   "metadata": {},
   "outputs": [],
   "source": []
  },
  {
   "cell_type": "code",
   "execution_count": null,
   "id": "6cbf0ed4",
   "metadata": {},
   "outputs": [],
   "source": []
  },
  {
   "cell_type": "code",
   "execution_count": null,
   "id": "463df8f6",
   "metadata": {},
   "outputs": [],
   "source": [
    "a[a['stwd'].duplicated()]"
   ]
  },
  {
   "cell_type": "code",
   "execution_count": null,
   "id": "49f20dfa",
   "metadata": {},
   "outputs": [],
   "source": [
    "a[pd.DataFrame(a['stwd']).duplicated(keep='first')]"
   ]
  },
  {
   "cell_type": "code",
   "execution_count": null,
   "id": "6781b448",
   "metadata": {},
   "outputs": [],
   "source": [
    "a['stwd'].drop_duplicates()"
   ]
  },
  {
   "cell_type": "code",
   "execution_count": null,
   "id": "b98f0aaf",
   "metadata": {},
   "outputs": [],
   "source": []
  },
  {
   "cell_type": "code",
   "execution_count": null,
   "id": "0c1a9c28",
   "metadata": {},
   "outputs": [],
   "source": []
  },
  {
   "cell_type": "code",
   "execution_count": null,
   "id": "b421f8ef",
   "metadata": {},
   "outputs": [],
   "source": [
    "a = pd.concat([df_stwd, df_dupl, df_index], axis=1)\n",
    "a"
   ]
  },
  {
   "cell_type": "code",
   "execution_count": null,
   "id": "925b5771",
   "metadata": {},
   "outputs": [],
   "source": [
    "tOK = a.loc[a['dupl'] == 1]\n",
    "# tOK['stwd'].dropna()\n",
    "tOK[tOK['stwd'] == '검토']\n",
    "tOK\n",
    "tNO = a.loc[a['dupl'] > 1]\n",
    "# tNO['stwd'].dropna()\n",
    "tNO[tNO['stwd'] == '검토']\n",
    "tNO"
   ]
  },
  {
   "cell_type": "code",
   "execution_count": null,
   "id": "efb71ae7",
   "metadata": {},
   "outputs": [],
   "source": [
    "tOK['stwd'].drop_duplicates()"
   ]
  },
  {
   "cell_type": "code",
   "execution_count": null,
   "id": "8a33762e",
   "metadata": {},
   "outputs": [],
   "source": [
    "print(368 + 412)\n",
    "tNO['stwd'].drop_duplicates()"
   ]
  },
  {
   "cell_type": "code",
   "execution_count": null,
   "id": "fd65362b",
   "metadata": {
    "scrolled": true
   },
   "outputs": [],
   "source": [
    "a['stwd'].drop_duplicates()"
   ]
  },
  {
   "cell_type": "code",
   "execution_count": null,
   "id": "fb84ff62",
   "metadata": {},
   "outputs": [],
   "source": [
    "t2['stwd'].drop_duplicates()"
   ]
  },
  {
   "cell_type": "code",
   "execution_count": null,
   "id": "88797ea0",
   "metadata": {},
   "outputs": [],
   "source": [
    "a.to_excel(input_path+\"\\\\dfdf.xlsx\")"
   ]
  },
  {
   "cell_type": "code",
   "execution_count": null,
   "id": "8ee6d1e0",
   "metadata": {},
   "outputs": [],
   "source": [
    "tOK.to_excel(input_path+\"\\\\dfdfOK.xlsx\")"
   ]
  },
  {
   "cell_type": "code",
   "execution_count": null,
   "id": "0db879e0",
   "metadata": {},
   "outputs": [],
   "source": [
    "tNO.to_excel(input_path+\"\\\\dfdfNO.xlsx\")"
   ]
  },
  {
   "cell_type": "code",
   "execution_count": null,
   "id": "af332237",
   "metadata": {},
   "outputs": [],
   "source": [
    "tNO['stwd'].drop_duplicates().to_excel(input_path+\"\\\\dfdfNO_DUP.xlsx\")"
   ]
  },
  {
   "cell_type": "code",
   "execution_count": null,
   "id": "40e35b42",
   "metadata": {},
   "outputs": [],
   "source": []
  },
  {
   "cell_type": "code",
   "execution_count": null,
   "id": "4aa30759",
   "metadata": {},
   "outputs": [],
   "source": [
    "t2['stwd'].drop_duplicates().tail(30)"
   ]
  },
  {
   "cell_type": "code",
   "execution_count": null,
   "id": "5faf30e0",
   "metadata": {},
   "outputs": [],
   "source": [
    "# t2 = a[a['stwd'].duplicated(keep='first')]\n",
    "t2 = a[a['stwd'].duplicated(False)]\n",
    "t2[t2['stwd'] == '검토']\n",
    "# t2['stwd'].dropna()\n",
    "t2"
   ]
  },
  {
   "cell_type": "code",
   "execution_count": null,
   "id": "1a630736",
   "metadata": {},
   "outputs": [],
   "source": [
    "t2.drop_"
   ]
  },
  {
   "cell_type": "code",
   "execution_count": null,
   "id": "4c52244a",
   "metadata": {},
   "outputs": [],
   "source": [
    "a[a['stwd'] == '검토']"
   ]
  },
  {
   "cell_type": "code",
   "execution_count": null,
   "id": "dcea8c74",
   "metadata": {},
   "outputs": [],
   "source": [
    "a.head(20)"
   ]
  },
  {
   "cell_type": "code",
   "execution_count": null,
   "id": "66b021a3",
   "metadata": {},
   "outputs": [],
   "source": [
    "a['stwd'].duplicated(keep='first').head(20)\n",
    "# t#['stwd'].dropna()\n",
    "# t3[t3['stwd'] == '검토']"
   ]
  },
  {
   "cell_type": "code",
   "execution_count": null,
   "id": "2577c1d3",
   "metadata": {},
   "outputs": [],
   "source": []
  },
  {
   "cell_type": "code",
   "execution_count": null,
   "id": "0c00ceba",
   "metadata": {},
   "outputs": [],
   "source": []
  },
  {
   "cell_type": "code",
   "execution_count": null,
   "id": "94aec878",
   "metadata": {},
   "outputs": [],
   "source": [
    "# # concat 을 위한 DataFame 묶기 (o 시리즈여야 한곳에 정렬됨! 데이터 프레임 안됨)\n",
    "# for i in range(len(input_split.columns)):\n",
    "#     globals()[\"df_stwd{}\".format(i)] = [\"duple_list{}\".format(i)]\n",
    "# df_stwd0"
   ]
  },
  {
   "cell_type": "code",
   "execution_count": null,
   "id": "35deaae8",
   "metadata": {},
   "outputs": [],
   "source": [
    "# concat 을 위한 DataFame 묶기 (o 시리즈여야 한곳에 정렬됨! 데이터 프레임 안됨)\n",
    "for i in range(len(input_split.columns)):\n",
    "    globals()[\"df_stwd{}\".format(i)] = input_split[\"stwd{}\".format(i)]\n",
    "df_stwd0"
   ]
  },
  {
   "cell_type": "code",
   "execution_count": null,
   "id": "d2ff198e",
   "metadata": {},
   "outputs": [],
   "source": [
    "# df_index 묶기\n",
    "for i in range(len(input_split.columns)):\n",
    "    globals()[\"df_index{}\".format(i)] = input_split[\"stwd{}\".format(i)]\n",
    "df_stwd0"
   ]
  },
  {
   "cell_type": "code",
   "execution_count": null,
   "id": "fe0068b1",
   "metadata": {},
   "outputs": [],
   "source": []
  },
  {
   "cell_type": "code",
   "execution_count": null,
   "id": "72996384",
   "metadata": {},
   "outputs": [],
   "source": [
    "df_stwd = pd.concat([df_stwd, df_index], axis=1)\n",
    "df_stwd"
   ]
  },
  {
   "cell_type": "code",
   "execution_count": null,
   "id": "608049fe",
   "metadata": {},
   "outputs": [],
   "source": []
  },
  {
   "cell_type": "code",
   "execution_count": null,
   "id": "d3b553a3",
   "metadata": {},
   "outputs": [],
   "source": [
    "pd.concat([input_split, pd.DataFrame(input_test['No'])], axis=1)\n"
   ]
  },
  {
   "cell_type": "code",
   "execution_count": null,
   "id": "0f51a99e",
   "metadata": {},
   "outputs": [],
   "source": []
  },
  {
   "cell_type": "code",
   "execution_count": null,
   "id": "3be3e509",
   "metadata": {},
   "outputs": [],
   "source": []
  },
  {
   "cell_type": "code",
   "execution_count": null,
   "id": "7770e4aa",
   "metadata": {},
   "outputs": [],
   "source": []
  },
  {
   "cell_type": "code",
   "execution_count": null,
   "id": "cc5ed91a",
   "metadata": {},
   "outputs": [],
   "source": []
  },
  {
   "cell_type": "code",
   "execution_count": null,
   "id": "496c2118",
   "metadata": {},
   "outputs": [],
   "source": []
  },
  {
   "cell_type": "code",
   "execution_count": null,
   "id": "7849bf0e",
   "metadata": {},
   "outputs": [],
   "source": []
  },
  {
   "cell_type": "code",
   "execution_count": null,
   "id": "cc5507cf",
   "metadata": {},
   "outputs": [],
   "source": [
    "# df_stwd.tail(500)"
   ]
  },
  {
   "cell_type": "code",
   "execution_count": null,
   "id": "9ae8a0c3",
   "metadata": {},
   "outputs": [],
   "source": [
    "list = []\n",
    "for i in range(len(input_split.columns)):\n",
    "    df = pd.concat([globals()[\"df_stwd{}\".format(i)]])\n",
    "df"
   ]
  },
  {
   "cell_type": "code",
   "execution_count": null,
   "id": "cc8b5781",
   "metadata": {},
   "outputs": [],
   "source": [
    "df = pd.DataFrame()\n",
    "for i in range(len(input_split.columns)):\n",
    "    df = pd.concat([df, globals()[\"df_stwd_df{}\".format(i)]])\n",
    "df "
   ]
  },
  {
   "cell_type": "code",
   "execution_count": null,
   "id": "97e0543c",
   "metadata": {
    "scrolled": true
   },
   "outputs": [],
   "source": [
    "df"
   ]
  },
  {
   "cell_type": "code",
   "execution_count": null,
   "id": "fc30f450",
   "metadata": {},
   "outputs": [],
   "source": []
  },
  {
   "cell_type": "code",
   "execution_count": null,
   "id": "2460ead1",
   "metadata": {},
   "outputs": [],
   "source": [
    "df_dupl_cnt = pd.DataFrame()\n",
    "for in in range(len(input_split.coulmns):\n",
    "    df_dupl_cnt = pd.concat([df, globals()[\"df{}\".format(i)]])"
   ]
  },
  {
   "cell_type": "code",
   "execution_count": null,
   "id": "91576c41",
   "metadata": {},
   "outputs": [],
   "source": [
    "dupl_list0"
   ]
  },
  {
   "cell_type": "code",
   "execution_count": null,
   "id": "b9f63933",
   "metadata": {},
   "outputs": [],
   "source": [
    "# 컬럼 재정렬\n",
    "list = []\n",
    "for i in range(len(input_split.columns)):\n",
    "    input_split.loc[:,\"dupl_cnt{}\".format(i)] = globals()[\"dupl_list{}\".format(i)]\n",
    "    list.append(\"stwd{}\".format(i))\n",
    "    list.append(\"dupl_cnt{}\".format(i))\n",
    "input_split = input_split[list]\n",
    "input_split"
   ]
  },
  {
   "cell_type": "code",
   "execution_count": null,
   "id": "b52efc91",
   "metadata": {},
   "outputs": [],
   "source": []
  },
  {
   "cell_type": "code",
   "execution_count": null,
   "id": "e819fc8a",
   "metadata": {},
   "outputs": [],
   "source": [
    "df_stwd = pd.DataFrame()\n",
    "for i in range(len(input_split.columns)):\n",
    "    df_stwd = pd.concat([df, globals()[\"df{}\".format(i)]])\n",
    "df_stwd "
   ]
  },
  {
   "cell_type": "code",
   "execution_count": null,
   "id": "7e6fd991",
   "metadata": {},
   "outputs": [],
   "source": [
    "pd.DataFrame"
   ]
  },
  {
   "cell_type": "code",
   "execution_count": null,
   "id": "4b98a9bb",
   "metadata": {},
   "outputs": [],
   "source": [
    "type(input_split[\"stwd{}\".format(0)])"
   ]
  },
  {
   "cell_type": "code",
   "execution_count": null,
   "id": "e4822690",
   "metadata": {},
   "outputs": [],
   "source": [
    "a = pd.Series\n",
    "a"
   ]
  },
  {
   "cell_type": "code",
   "execution_count": null,
   "id": "bfe543e3",
   "metadata": {},
   "outputs": [],
   "source": [
    "a"
   ]
  },
  {
   "cell_type": "code",
   "execution_count": null,
   "id": "dd06d499",
   "metadata": {},
   "outputs": [],
   "source": [
    "for i in range(len(input_split.columns)):\n",
    "    globals()[\"df{}\".format(i)] = input_split[\"stwd{}\".format(i)]\n",
    "    list.append('df{}'.format(i))\n",
    "list"
   ]
  },
  {
   "cell_type": "code",
   "execution_count": null,
   "id": "fab9735f",
   "metadata": {},
   "outputs": [],
   "source": [
    "df = pd.DataFrame()\n",
    "for i in range(len(input_split.columns)):\n",
    "    globals()[\"df{}\".format(i)] = pd.DataFrame(input_split[\"stwd{}\".format(i)])\n",
    "#     list.append('df{}'.format(i))\n",
    "# list"
   ]
  },
  {
   "cell_type": "code",
   "execution_count": null,
   "id": "88fa8370",
   "metadata": {},
   "outputs": [],
   "source": [
    "list = []\n",
    "for i in range(len(input_split.columns)):\n",
    "    list.append(\"df{}\".format(i))\n",
    "list"
   ]
  },
  {
   "cell_type": "code",
   "execution_count": null,
   "id": "e175bb1c",
   "metadata": {},
   "outputs": [],
   "source": [
    "df = pd.DataFrame()\n",
    "for i in range(len(input_split.columns)):\n",
    "    df = pd.concat([df, globals()[\"df{}\".format(i)]])\n",
    "df"
   ]
  },
  {
   "cell_type": "code",
   "execution_count": null,
   "id": "83500be6",
   "metadata": {},
   "outputs": [],
   "source": [
    "concat([df0, df0,df0,df0,df0,df0,df0,df0,])"
   ]
  },
  {
   "cell_type": "code",
   "execution_count": null,
   "id": "8a313874",
   "metadata": {},
   "outputs": [],
   "source": [
    "list = \",\".join(list)\n",
    "list\n",
    "list[5]"
   ]
  },
  {
   "cell_type": "code",
   "execution_count": null,
   "id": "773bf279",
   "metadata": {},
   "outputs": [],
   "source": [
    "\",\".join(list[0])"
   ]
  },
  {
   "cell_type": "code",
   "execution_count": null,
   "id": "8dc0ed4e",
   "metadata": {},
   "outputs": [],
   "source": [
    "df = pd.DataFrame()\n",
    "for i in range(len(input_split.columns)):\n",
    "    ccc = pd.concat(df, \",\".join(list[i]))\n",
    "df = pd.DataFrame()\n",
    "df = pd.concat([df, df0])"
   ]
  },
  {
   "cell_type": "code",
   "execution_count": null,
   "id": "80600070",
   "metadata": {},
   "outputs": [],
   "source": [
    "df = pd.DataFrame()\n",
    "df = pd.concat([df, df0])"
   ]
  },
  {
   "cell_type": "code",
   "execution_count": null,
   "id": "55f6a376",
   "metadata": {},
   "outputs": [],
   "source": [
    "\",\".join(list)"
   ]
  },
  {
   "cell_type": "code",
   "execution_count": null,
   "id": "b97fa6f4",
   "metadata": {},
   "outputs": [],
   "source": [
    "list = \",\".join(list)\n",
    "list"
   ]
  },
  {
   "cell_type": "code",
   "execution_count": null,
   "id": "a80b6aba",
   "metadata": {
    "scrolled": true
   },
   "outputs": [],
   "source": [
    "list"
   ]
  },
  {
   "cell_type": "code",
   "execution_count": null,
   "id": "6589265f",
   "metadata": {},
   "outputs": [],
   "source": [
    "df0"
   ]
  },
  {
   "cell_type": "code",
   "execution_count": null,
   "id": "d8e8345b",
   "metadata": {},
   "outputs": [],
   "source": [
    "list = [df0, df1, df2, df3, df4, df5]\n",
    "pd.concat(list)"
   ]
  },
  {
   "cell_type": "code",
   "execution_count": null,
   "id": "647ed26f",
   "metadata": {},
   "outputs": [],
   "source": [
    "pd.concat([df0, df1, df2, df3, df4, df5])\n"
   ]
  },
  {
   "cell_type": "code",
   "execution_count": null,
   "id": "837dc04f",
   "metadata": {},
   "outputs": [],
   "source": [
    "input_split"
   ]
  },
  {
   "cell_type": "code",
   "execution_count": null,
   "id": "03d58a40",
   "metadata": {},
   "outputs": [],
   "source": [
    "stwd_list"
   ]
  },
  {
   "cell_type": "code",
   "execution_count": null,
   "id": "3668e4bc",
   "metadata": {},
   "outputs": [],
   "source": [
    "stwd_list = input_split.columns.to_list()\n",
    "for i in range(len(input_split.columns)):\n",
    "    duplicated = pd.concat(stwd_list, ignore_index=True)"
   ]
  },
  {
   "cell_type": "code",
   "execution_count": null,
   "id": "4cb50448",
   "metadata": {},
   "outputs": [],
   "source": [
    "stwd_list = input_split.columns.to_list()\n",
    "pd.concat(pd.DataFrame(input_split[stwd_list]), ignore_index = True)"
   ]
  },
  {
   "cell_type": "code",
   "execution_count": null,
   "id": "a2e93dc0",
   "metadata": {},
   "outputs": [],
   "source": [
    "list = []\n",
    "for i in range(len(input_split.columns)):\n",
    "    globals()[\"df{}\".format(i)] = input_split[\"stwd{}\".format(i)]\n",
    "    list.append(globals()[\"df{}\".format(i)])"
   ]
  },
  {
   "cell_type": "code",
   "execution_count": null,
   "id": "ff7df825",
   "metadata": {},
   "outputs": [],
   "source": []
  },
  {
   "cell_type": "code",
   "execution_count": null,
   "id": "5d6782eb",
   "metadata": {},
   "outputs": [],
   "source": [
    "pd.DataFrame(list)"
   ]
  },
  {
   "cell_type": "code",
   "execution_count": null,
   "id": "5547a2ca",
   "metadata": {},
   "outputs": [],
   "source": [
    "pd.DataFrame(input_split[\"stwd1\"])"
   ]
  },
  {
   "cell_type": "code",
   "execution_count": null,
   "id": "3e3fff99",
   "metadata": {},
   "outputs": [],
   "source": [
    "input_split[\"stwd0\"]"
   ]
  },
  {
   "cell_type": "code",
   "execution_count": null,
   "id": "07c55841",
   "metadata": {},
   "outputs": [],
   "source": []
  },
  {
   "cell_type": "code",
   "execution_count": null,
   "id": "442fdcbd",
   "metadata": {
    "scrolled": true
   },
   "outputs": [],
   "source": [
    "pd.concat(pd.DataFrame(input_split[\"stwd0\"]), pd.DataFrame(input_split[\"stwd1\"]))"
   ]
  },
  {
   "cell_type": "code",
   "execution_count": null,
   "id": "31a45f1b",
   "metadata": {},
   "outputs": [],
   "source": [
    "df0\n",
    "list"
   ]
  },
  {
   "cell_type": "code",
   "execution_count": null,
   "id": "ea662360",
   "metadata": {
    "scrolled": true
   },
   "outputs": [],
   "source": [
    "globals(\"df0\")"
   ]
  },
  {
   "cell_type": "code",
   "execution_count": null,
   "id": "024c2607",
   "metadata": {},
   "outputs": [],
   "source": [
    "pd.concat([df0, df1])"
   ]
  },
  {
   "cell_type": "code",
   "execution_count": null,
   "id": "3920e10d",
   "metadata": {},
   "outputs": [],
   "source": [
    "pd.concat([df0, df1])"
   ]
  },
  {
   "cell_type": "code",
   "execution_count": null,
   "id": "cb948f72",
   "metadata": {},
   "outputs": [],
   "source": [
    "for i in range(len(input_split.columns)):\n",
    "#     pd.concat(globllist[i])\n",
    "    print(list[i])"
   ]
  },
  {
   "cell_type": "code",
   "execution_count": null,
   "id": "9bab55d2",
   "metadata": {},
   "outputs": [],
   "source": [
    "for i in range(len(input_split.columns)):\n",
    "#     pd.concat([\"df{}\".format(i)])\n",
    "#     pd.concat(\"df{}\".format(i))\n",
    "    pd.concat(list)  \n",
    "#     print(\"df{}\".format(i))"
   ]
  },
  {
   "cell_type": "code",
   "execution_count": null,
   "id": "45d56fb6",
   "metadata": {},
   "outputs": [],
   "source": [
    "for i in range(len(input_split.columns)):\n",
    "    print(\"df{}\".format(i))"
   ]
  },
  {
   "cell_type": "code",
   "execution_count": null,
   "id": "e2c9fe61",
   "metadata": {},
   "outputs": [],
   "source": [
    "for i in range(len(input_split.columns)):\n",
    "    globals()[\"df{}\".format(i)] = pd.DataFrame(globals()[\"df{}\".format(i)])"
   ]
  },
  {
   "cell_type": "code",
   "execution_count": null,
   "id": "26489d3d",
   "metadata": {},
   "outputs": [],
   "source": [
    "list = []\n",
    "for i in range(len(input_split.columns)):\n",
    "    list.append(\"df{}\".format(i))"
   ]
  },
  {
   "cell_type": "code",
   "execution_count": null,
   "id": "3ac64a12",
   "metadata": {},
   "outputs": [],
   "source": [
    "df1"
   ]
  },
  {
   "cell_type": "code",
   "execution_count": null,
   "id": "c9a0ada8",
   "metadata": {},
   "outputs": [],
   "source": [
    "pd.concat(list, axis=1 )\n",
    "#           ignore_index=True)"
   ]
  },
  {
   "cell_type": "code",
   "execution_count": null,
   "id": "3adfa816",
   "metadata": {},
   "outputs": [],
   "source": [
    "for i in range(len(input_split.columns)):\n",
    "    pd.concat(globals()[\"df{}\".format(i)])"
   ]
  },
  {
   "cell_type": "code",
   "execution_count": null,
   "id": "a0d0f63c",
   "metadata": {},
   "outputs": [],
   "source": [
    "pd.concat([df0, df1])"
   ]
  },
  {
   "cell_type": "code",
   "execution_count": null,
   "id": "ac16efac",
   "metadata": {},
   "outputs": [],
   "source": [
    "stwd_list = input_split.columns.to_list()\n",
    "for i in range(len(input_split.columns)):\n",
    "    pd.concat(pd.DataFrame(input_split[\"stwd{}\".format(i)]))\n",
    "list"
   ]
  },
  {
   "cell_type": "code",
   "execution_count": null,
   "id": "bea32136",
   "metadata": {},
   "outputs": [],
   "source": [
    "input_split[\"stwd0\"]"
   ]
  },
  {
   "cell_type": "code",
   "execution_count": null,
   "id": "6cc7866b",
   "metadata": {},
   "outputs": [],
   "source": [
    "pd.DataFrame(input_split[\"stwd{}\".format(0)])"
   ]
  },
  {
   "cell_type": "code",
   "execution_count": null,
   "id": "923ccb0b",
   "metadata": {},
   "outputs": [],
   "source": [
    "cc = pd.DataFrame(input_split[\"stwd{}\".format(i)])"
   ]
  },
  {
   "cell_type": "code",
   "execution_count": null,
   "id": "916b5cf0",
   "metadata": {},
   "outputs": [],
   "source": []
  },
  {
   "cell_type": "code",
   "execution_count": null,
   "id": "c8ead777",
   "metadata": {
    "scrolled": true
   },
   "outputs": [],
   "source": [
    "aa = pd.DataFrame\n",
    "for i in range(len(input_split.columns)):\n",
    "    aa = aa.append(cc)\n",
    "aa"
   ]
  },
  {
   "cell_type": "code",
   "execution_count": null,
   "id": "1ea66886",
   "metadata": {},
   "outputs": [],
   "source": [
    "for i in range(len(input_split.columns)):\n",
    "    a = pd.concat([input_split[list[i]]])\n",
    "a"
   ]
  },
  {
   "cell_type": "code",
   "execution_count": null,
   "id": "3113a0d4",
   "metadata": {},
   "outputs": [],
   "source": [
    "a"
   ]
  },
  {
   "cell_type": "code",
   "execution_count": null,
   "id": "eb271906",
   "metadata": {},
   "outputs": [],
   "source": []
  },
  {
   "cell_type": "code",
   "execution_count": null,
   "id": "e6b0d35b",
   "metadata": {},
   "outputs": [],
   "source": [
    "pd.concat(list)"
   ]
  },
  {
   "cell_type": "code",
   "execution_count": null,
   "id": "804c8fa0",
   "metadata": {},
   "outputs": [],
   "source": [
    "for i in range(len(input_split.columns)):\n",
    "    pd.concat([globals[\"input_split{}\".format(i)]])"
   ]
  },
  {
   "cell_type": "code",
   "execution_count": null,
   "id": "7957142c",
   "metadata": {},
   "outputs": [],
   "source": [
    "# 컬럼 재정렬\n",
    "list = []\n",
    "for i in range(len(input_split.columns)):\n",
    "    input_split.loc[:,\"dupl_cnt{}\".format(i)] = globals()[\"dupl_list{}\".format(i)]\n",
    "    list.append(\"stwd{}\".format(i))\n",
    "    list.append(\"dupl_cnt{}\".format(i))\n",
    "input_split = input_split[list]\n",
    "input_split"
   ]
  },
  {
   "cell_type": "code",
   "execution_count": null,
   "id": "c97736db",
   "metadata": {},
   "outputs": [],
   "source": [
    "input_split.columns"
   ]
  },
  {
   "cell_type": "code",
   "execution_count": null,
   "id": "974b5a1a",
   "metadata": {},
   "outputs": [],
   "source": [
    "for i in range(int(len(input_split.columns)/2)):\n",
    "    aaa= pd.concat([\"stwd{}\".format(i)])\n",
    "aaa"
   ]
  },
  {
   "cell_type": "code",
   "execution_count": null,
   "id": "33de7494",
   "metadata": {},
   "outputs": [],
   "source": []
  },
  {
   "cell_type": "code",
   "execution_count": null,
   "id": "2c3ed6bf",
   "metadata": {},
   "outputs": [],
   "source": []
  },
  {
   "cell_type": "code",
   "execution_count": null,
   "id": "f873f008",
   "metadata": {},
   "outputs": [],
   "source": []
  },
  {
   "cell_type": "code",
   "execution_count": null,
   "id": "c9196615",
   "metadata": {},
   "outputs": [],
   "source": []
  },
  {
   "cell_type": "code",
   "execution_count": null,
   "id": "9af0e08d",
   "metadata": {},
   "outputs": [],
   "source": [
    "input_split[0]"
   ]
  },
  {
   "cell_type": "code",
   "execution_count": null,
   "id": "3fadcb82",
   "metadata": {},
   "outputs": [],
   "source": [
    "input_split[0]"
   ]
  },
  {
   "cell_type": "code",
   "execution_count": null,
   "id": "fd5db8a9",
   "metadata": {},
   "outputs": [],
   "source": [
    "input_split[0].count(\"가입\")"
   ]
  },
  {
   "cell_type": "code",
   "execution_count": null,
   "id": "b2b10bc7",
   "metadata": {},
   "outputs": [],
   "source": [
    "dupl_list =[]\n",
    "dupl_list"
   ]
  },
  {
   "cell_type": "code",
   "execution_count": null,
   "id": "d425058f",
   "metadata": {},
   "outputs": [],
   "source": [
    "len(input_split.columns)"
   ]
  },
  {
   "cell_type": "code",
   "execution_count": null,
   "id": "af34102e",
   "metadata": {},
   "outputs": [],
   "source": [
    "input_split[0].to_list().count(input_split[0][11])"
   ]
  },
  {
   "cell_type": "code",
   "execution_count": null,
   "id": "fa5f155e",
   "metadata": {},
   "outputs": [],
   "source": [
    "globals()[\"stwd{}\".format(i)]"
   ]
  },
  {
   "cell_type": "code",
   "execution_count": null,
   "id": "acaa5c9e",
   "metadata": {},
   "outputs": [],
   "source": [
    "for i in range(len(input_split.columns)):\n",
    "    globals()[\"dupl_list{}\".format(i)] = []"
   ]
  },
  {
   "cell_type": "code",
   "execution_count": null,
   "id": "18901ac8",
   "metadata": {},
   "outputs": [],
   "source": [
    "input_split[0].to_list().count(input_split[0][3])"
   ]
  },
  {
   "cell_type": "code",
   "execution_count": null,
   "id": "14614776",
   "metadata": {},
   "outputs": [],
   "source": [
    "# 성공\n",
    "dupl_list = []\n",
    "dupl_cnt = []\n",
    "\n",
    "\n",
    "for i in range(len(input_split.columns)):\n",
    "    globals()[\"dupl_list{}\".format(i)] = []\n",
    "    for j in range(len(input_split[i])):\n",
    "        dupl_cnt = input_split[i].to_list().count(input_split[i][j])\n",
    "        globals()[\"dupl_list{}\".format(i)].append(dupl_cnt)\n",
    "#         print(dupl_cnt)\n",
    "#         print(\"dupl_list{}\".format(i))\n",
    "\n",
    "\n"
   ]
  },
  {
   "cell_type": "code",
   "execution_count": null,
   "id": "5d428c5f",
   "metadata": {},
   "outputs": [],
   "source": [
    "for i in range(len(input_split.columns)):\n",
    "    input_split.loc[:,\"dupl_cnt{}\".format(i)] = globals()[\"dupl_list{}\".format(i)]"
   ]
  },
  {
   "cell_type": "code",
   "execution_count": null,
   "id": "e235a39a",
   "metadata": {},
   "outputs": [],
   "source": [
    "input_split[\"dupl_cnt0\"]"
   ]
  },
  {
   "cell_type": "code",
   "execution_count": null,
   "id": "6f643169",
   "metadata": {
    "scrolled": true
   },
   "outputs": [],
   "source": [
    "# input_split\n",
    "input_split[input_split[\"dupl_cnt0\"] >= 2][[\"dupl_cnt0\",\"dupl_cnt1\",0]]"
   ]
  },
  {
   "cell_type": "code",
   "execution_count": null,
   "id": "47bd4882",
   "metadata": {},
   "outputs": [],
   "source": [
    "input_split.loc[:,\"dupl_cnt1\"] = dupl_list1"
   ]
  },
  {
   "cell_type": "code",
   "execution_count": null,
   "id": "238bedcc",
   "metadata": {},
   "outputs": [],
   "source": [
    "input_split"
   ]
  },
  {
   "cell_type": "code",
   "execution_count": null,
   "id": "2142b75a",
   "metadata": {},
   "outputs": [],
   "source": [
    "for i in range(len(input_split.columns)):\n",
    "    print(globals()[\"dupl_list{}\".format(i)])"
   ]
  },
  {
   "cell_type": "code",
   "execution_count": null,
   "id": "ac6381c5",
   "metadata": {},
   "outputs": [],
   "source": [
    "a= input_split.assign(dd =  dupl_list3)\n",
    "# df.insert(3,\"city\",['Lahore','Dehli','New York'],True)\n",
    "a"
   ]
  },
  {
   "cell_type": "code",
   "execution_count": null,
   "id": "215609cb",
   "metadata": {},
   "outputs": [],
   "source": [
    "input_split.insert(8,\"dd\",dupl_list3,True)\n",
    "input_split"
   ]
  },
  {
   "cell_type": "code",
   "execution_count": null,
   "id": "42490fc8",
   "metadata": {},
   "outputs": [],
   "source": [
    "input_split[2].to_list().count('역')"
   ]
  },
  {
   "cell_type": "code",
   "execution_count": null,
   "id": "4a583c15",
   "metadata": {},
   "outputs": [],
   "source": [
    "input_split[0].to_list()"
   ]
  },
  {
   "cell_type": "code",
   "execution_count": null,
   "id": "48bfa151",
   "metadata": {},
   "outputs": [],
   "source": [
    "dupl_list3"
   ]
  },
  {
   "cell_type": "code",
   "execution_count": null,
   "id": "5487fca9",
   "metadata": {},
   "outputs": [],
   "source": [
    "input_split.insert(8,\"dd\",dupl_list3,True)"
   ]
  },
  {
   "cell_type": "code",
   "execution_count": null,
   "id": "7a4f068b",
   "metadata": {},
   "outputs": [],
   "source": [
    "input_split"
   ]
  },
  {
   "cell_type": "code",
   "execution_count": null,
   "id": "5dec4778",
   "metadata": {},
   "outputs": [],
   "source": [
    "pd.DataFrame(input_split[3].to_list(), dupl_list3)"
   ]
  },
  {
   "cell_type": "code",
   "execution_count": null,
   "id": "915af976",
   "metadata": {},
   "outputs": [],
   "source": [
    "print(len(dupl_list))\n",
    "dupl_list"
   ]
  },
  {
   "cell_type": "code",
   "execution_count": null,
   "id": "7023c5a8",
   "metadata": {},
   "outputs": [],
   "source": [
    "# type(input_split[0])\n",
    "input_split[0].to_list().count('가입')"
   ]
  },
  {
   "cell_type": "code",
   "execution_count": null,
   "id": "40738712",
   "metadata": {},
   "outputs": [],
   "source": [
    "# 성공\n",
    "b = []\n",
    "for i in range(len(input_split[0])):\n",
    "    a = 0\n",
    "    for j in input_split[0]:\n",
    "        b.append(a)\n",
    "        if input_split[0][i] == j:\n",
    "            a += 1\n",
    "            print(input_split[0][i] +\"&&\"+j+\"_중복\")\n",
    "           \n",
    "            print(a)\n"
   ]
  },
  {
   "cell_type": "code",
   "execution_count": null,
   "id": "72c7d908",
   "metadata": {},
   "outputs": [],
   "source": [
    "len(b)"
   ]
  },
  {
   "cell_type": "code",
   "execution_count": null,
   "id": "5d07e83e",
   "metadata": {},
   "outputs": [],
   "source": [
    "# 성공\n",
    "a = 0\n",
    "for i in range(len(input_split[0])):\n",
    "    for j in input_split[0]:\n",
    "        if input_split[0][i] == j:\n",
    "            print(input_split[0][i] +\"&&\"+j+\"_중복\")\n",
    "            a += 1\n",
    "            print(a)\n"
   ]
  },
  {
   "cell_type": "code",
   "execution_count": null,
   "id": "cd277202",
   "metadata": {},
   "outputs": [],
   "source": [
    "# 성공\n",
    "a =0\n",
    "for i in input_split[0]:\n",
    "    for j in input_split[0].unique():#중복 \n",
    "        if i == j:\n",
    "            print(i +\"&&\"+j+\"_중복\")\n",
    "            a += 1\n",
    "            print(a)\n",
    "#         else:\n",
    "#             print(i+j)\n",
    "    \n",
    "    \n",
    "    \n",
    "#     if i == '가입':\n",
    "#         print(i+\"_성공\")\n",
    "#     else:\n",
    "#         print(i)"
   ]
  },
  {
   "cell_type": "code",
   "execution_count": null,
   "id": "144647c7",
   "metadata": {},
   "outputs": [],
   "source": [
    "for i in input_split[0]:\n",
    "    if i == '가입':\n",
    "        print(i+\"_성공\")\n",
    "    else:\n",
    "        print(i)"
   ]
  },
  {
   "cell_type": "code",
   "execution_count": null,
   "id": "1d3cdefa",
   "metadata": {},
   "outputs": [],
   "source": [
    "input_split[0].str == \"가입\""
   ]
  },
  {
   "cell_type": "code",
   "execution_count": null,
   "id": "03fa17ca",
   "metadata": {},
   "outputs": [],
   "source": [
    "for i in a\n",
    "    input_split[0] == i\n",
    "    "
   ]
  },
  {
   "cell_type": "code",
   "execution_count": null,
   "id": "491d8060",
   "metadata": {},
   "outputs": [],
   "source": [
    "input_split[0]"
   ]
  },
  {
   "cell_type": "code",
   "execution_count": null,
   "id": "d6421893",
   "metadata": {},
   "outputs": [],
   "source": [
    "a = input_split[0].unique()\n",
    "a"
   ]
  },
  {
   "cell_type": "code",
   "execution_count": null,
   "id": "5a8d02e6",
   "metadata": {},
   "outputs": [],
   "source": []
  },
  {
   "cell_type": "code",
   "execution_count": null,
   "id": "5749d0f8",
   "metadata": {},
   "outputs": [],
   "source": [
    "len(input_split.columns)"
   ]
  },
  {
   "cell_type": "code",
   "execution_count": null,
   "id": "35a6c0b7",
   "metadata": {},
   "outputs": [],
   "source": [
    "input_processing = pd.concat([input_split, input_test])\n",
    "print(input_processing.columns)\n",
    "input_processing.head(5)"
   ]
  },
  {
   "cell_type": "code",
   "execution_count": null,
   "id": "7709aae1",
   "metadata": {},
   "outputs": [],
   "source": [
    "input_process[\"No\"]"
   ]
  },
  {
   "cell_type": "code",
   "execution_count": null,
   "id": "82cc3883",
   "metadata": {},
   "outputs": [],
   "source": []
  },
  {
   "cell_type": "code",
   "execution_count": null,
   "id": "c52dcbfa",
   "metadata": {},
   "outputs": [],
   "source": []
  },
  {
   "cell_type": "code",
   "execution_count": null,
   "id": "d9e4d4fb",
   "metadata": {},
   "outputs": [],
   "source": []
  },
  {
   "cell_type": "code",
   "execution_count": null,
   "id": "a33dcfa9",
   "metadata": {},
   "outputs": [],
   "source": []
  },
  {
   "cell_type": "code",
   "execution_count": null,
   "id": "2b694275",
   "metadata": {},
   "outputs": [],
   "source": [
    "# stwd1 = input_test['용어명 분리'].str.split(\"_\").map(lambda row : row[10])\n",
    "# # stwd1"
   ]
  },
  {
   "cell_type": "code",
   "execution_count": null,
   "id": "cb8df18a",
   "metadata": {},
   "outputs": [],
   "source": [
    "aa = pd.DataFrame(input_test['용어명 분리'].str.split('_').tolist(), columns = ['a' ,'b', 'c', 'd','a' ,'b', 'c', 'd'])\n",
    "aa"
   ]
  },
  {
   "cell_type": "code",
   "execution_count": null,
   "id": "2a02b3a3",
   "metadata": {},
   "outputs": [],
   "source": [
    "aaa = pd.DataFrame(input_test['용어명 분리'].str.split('_').tolist())\n",
    "aaa"
   ]
  },
  {
   "cell_type": "code",
   "execution_count": null,
   "id": "6132fbfe",
   "metadata": {},
   "outputs": [],
   "source": [
    "aaa[1]"
   ]
  },
  {
   "cell_type": "code",
   "execution_count": null,
   "id": "250c0d08",
   "metadata": {},
   "outputs": [],
   "source": [
    "aaa.columns"
   ]
  },
  {
   "cell_type": "code",
   "execution_count": null,
   "id": "da8bd2eb",
   "metadata": {},
   "outputs": [],
   "source": [
    "aa['a']"
   ]
  },
  {
   "cell_type": "code",
   "execution_count": null,
   "id": "c69b6251",
   "metadata": {},
   "outputs": [],
   "source": [
    "aa.columns"
   ]
  },
  {
   "cell_type": "code",
   "execution_count": null,
   "id": "8524b421",
   "metadata": {},
   "outputs": [],
   "source": [
    "for i in range(len()):\n",
    "    aa = pd.DataFrame(input_test['용어명 분리'].str.split('_').tolist(), columns = globals()[\"stwd{}\".format(i)])\n",
    "    aa"
   ]
  },
  {
   "cell_type": "code",
   "execution_count": null,
   "id": "7ee11a53",
   "metadata": {},
   "outputs": [],
   "source": [
    "\n",
    "try:    \n",
    "    for i in range(10):\n",
    "         globals()[\"stwd{}\".format(i)] = pd.DataFrame({\"stwd{}\".format(i) : []})\n",
    "except:\n",
    "    pass\n",
    "# print(stwd0)\n",
    "\n",
    "    \n",
    "        \n",
    "    \n",
    "# pd.DataFrame({\"stwd0\" : []})\n",
    "        "
   ]
  },
  {
   "cell_type": "code",
   "execution_count": null,
   "id": "eccb697e",
   "metadata": {
    "scrolled": true
   },
   "outputs": [],
   "source": [
    "print(input_test['용어명 분리'].str.split('_', maxsplit=1))"
   ]
  },
  {
   "cell_type": "code",
   "execution_count": null,
   "id": "56363465",
   "metadata": {},
   "outputs": [],
   "source": [
    "# try:\n",
    "for i in range(10):\n",
    "    globals()[\"stwd{}\".format(i)] = input_test['용어명 분리'].str.split('_').map(lambda row : row[i])"
   ]
  },
  {
   "cell_type": "markdown",
   "id": "5d56996b",
   "metadata": {},
   "source": [
    "input_test['용어명 분리'].str.split('_').map(lambda row : row[0])"
   ]
  },
  {
   "cell_type": "code",
   "execution_count": null,
   "id": "6ec59b68",
   "metadata": {},
   "outputs": [],
   "source": [
    "pd.DataFrame(input_test['용어명 분리'].str.split('_'))\n"
   ]
  },
  {
   "cell_type": "code",
   "execution_count": null,
   "id": "628c5c72",
   "metadata": {},
   "outputs": [],
   "source": [
    "input_test['용어명 분리'].str.split('_').tolist() "
   ]
  },
  {
   "cell_type": "code",
   "execution_count": null,
   "id": "3c1ab14d",
   "metadata": {},
   "outputs": [],
   "source": [
    "aa = pd.DataFrame(input_test['용어명 분리'].str.split('_').tolist(), columns = ['a' ,'b', 'c', 'd','a' ,'b', 'c', 'd'])\n",
    "aa"
   ]
  },
  {
   "cell_type": "code",
   "execution_count": null,
   "id": "ea1f87c4",
   "metadata": {},
   "outputs": [],
   "source": [
    "input_test['용어명 분리'].str.split('_').map(lambda x:x[-1])\n"
   ]
  },
  {
   "cell_type": "code",
   "execution_count": null,
   "id": "d712553e",
   "metadata": {},
   "outputs": [],
   "source": [
    "a= pd.DataFrame(input_test['용어명 분리'].str.split('_'))\n",
    "a"
   ]
  },
  {
   "cell_type": "code",
   "execution_count": null,
   "id": "adfe8cf1",
   "metadata": {},
   "outputs": [],
   "source": [
    "a.str.get(0)"
   ]
  },
  {
   "cell_type": "code",
   "execution_count": null,
   "id": "a3a05b96",
   "metadata": {
    "scrolled": true
   },
   "outputs": [],
   "source": [
    "input_test['용어명 분리'].str.split('_')[0][0]\n"
   ]
  },
  {
   "cell_type": "code",
   "execution_count": null,
   "id": "c752a627",
   "metadata": {
    "scrolled": true
   },
   "outputs": [],
   "source": [
    "input_test['용어명 분리'].str.split('_').map(lambda row : row[-1])"
   ]
  },
  {
   "cell_type": "code",
   "execution_count": null,
   "id": "aa0ea214",
   "metadata": {},
   "outputs": [],
   "source": [
    "stwd"
   ]
  },
  {
   "cell_type": "code",
   "execution_count": null,
   "id": "82c145b0",
   "metadata": {},
   "outputs": [],
   "source": [
    "stwd2"
   ]
  },
  {
   "cell_type": "code",
   "execution_count": null,
   "id": "8a75a347",
   "metadata": {},
   "outputs": [],
   "source": [
    "# i = [0, 1, 2, 3, 4, 5, 6, 7, 8, 9]\n",
    "    \n",
    "#     globals()[\"stwd{}\".format(i)] = input_test['용어명 분리'].str.split('_', maxsplit = -1).map(lambda row : row[i])\n",
    "\n",
    "# stwd0\n",
    "# stwd1\n",
    "\n",
    "# stwd0 = input_test['용어명 분리'].str.split(\"_\").map(lambda row : ''.join(row[0]))\n",
    "# stwd1 = input_test['용어명 분리'].str.split(\"_\").map(lambda row : ''.join(row[1]))\n",
    "# stwd2 = input_test['용어명 분리'].str.split(\"_\").map(lambda row : ''.join(row[1]))\n",
    "# stwd3 = input_test['용어명 분리'].str.split(\"_\").map(lambda row : ''.join(row[1]))\n",
    "# stwd4 = input_test['용어명 분리'].str.split(\"_\").map(lambda row : ''.join(row[1]))\n",
    "# stwd5 = input_test['용어명 분리'].str.split(\"_\").map(lambda row : ''.join(row[1]))\n",
    "# stwd6 = input_test['용어명 분리'].str.split(\"_\").map(lambda row : ''.join(row[1]))\n",
    "# stwd7 = input_test['용어명 분리'].str.split(\"_\").map(lambda row : ''.join(row[1]))\n",
    "# stwd8 = input_test['용어명 분리'].str.split(\"_\").map(lambda row : ''.join(row[1]))\n",
    "# stwd9 = input_test['용어명 분리'].str.split(\"_\").map(lambda row : ''.join(row[1]))\n",
    "try:\n",
    "    stwd10 = input_test['용어명 분리'].str.split(\"_\").map(lambda row : ''.join(row[10]))\n",
    "except:\n",
    "    pass\n"
   ]
  },
  {
   "cell_type": "code",
   "execution_count": null,
   "id": "aec584af",
   "metadata": {},
   "outputs": [],
   "source": [
    "# i = [0, 1, 2, 3, 4, 5, 6, 7, 8, 9]\n",
    "num = 10\n",
    "for i in range(10):\n",
    "#     if input_test['용어명 분리'].str.split(\"_\").map(lambda row : row[i]) \n",
    "    \n",
    "    globals()[\"stwd{}\".format(i)] = input_test['용어명 분리'].str.split('_', maxsplit = -1).map(lambda row : row[i])\n",
    "\n",
    "stwd0\n",
    "# stwd1\n",
    "\n",
    "\n",
    "# stwd1 = input_test['용어명 분리'].str.split(\"_\").map(lambda row : ''.join(row[1]))\n",
    "# stwd1 = input_test['용어명 분리'].str.split(\"_\").map(lambda row : ''.join(row[1]))\n",
    "# stwd1 = input_test['용어명 분리'].str.split(\"_\").map(lambda row : ''.join(row[1]))\n",
    "# stwd1 = input_test['용어명 분리'].str.split(\"_\").map(lambda row : ''.join(row[1]))\n",
    "# stwd1 = input_test['용어명 분리'].str.split(\"_\").map(lambda row : ''.join(row[1]))\n",
    "# stwd1 = input_test['용어명 분리'].str.split(\"_\").map(lambda row : ''.join(row[1]))\n",
    "# stwd1 = input_test['용어명 분리'].str.split(\"_\").map(lambda row : ''.join(row[1]))\n",
    "# stwd1 = input_test['용어명 분리'].str.split(\"_\").map(lambda row : ''.join(row[1]))\n",
    "# stwd1 = input_test['용어명 분리'].str.split(\"_\").map(lambda row : ''.join(row[1]))\n",
    "# stwd1 = input_test['용어명 분리'].str.split(\"_\").map(lambda row : ''.join(row[1]))\n"
   ]
  },
  {
   "cell_type": "code",
   "execution_count": null,
   "id": "965d39f7",
   "metadata": {},
   "outputs": [],
   "source": [
    "stwd1"
   ]
  },
  {
   "cell_type": "code",
   "execution_count": null,
   "id": "e860cbc6",
   "metadata": {},
   "outputs": [],
   "source": []
  },
  {
   "cell_type": "code",
   "execution_count": null,
   "id": "8092a1ee",
   "metadata": {},
   "outputs": [],
   "source": []
  },
  {
   "cell_type": "code",
   "execution_count": null,
   "id": "1ecb7757",
   "metadata": {},
   "outputs": [],
   "source": []
  },
  {
   "cell_type": "code",
   "execution_count": null,
   "id": "33475aa8",
   "metadata": {},
   "outputs": [],
   "source": [
    "input_f = os.path.join(os.getcwd(), \"input\")\n",
    "print(input_f)\n",
    "# pd.read_excel(input_f+\"test.xlsx\", sheet_name=\"input_test\", header=0)\n",
    "sheet_name = \"input_test\"\n",
    "pd.read_excel(\"C:/test.xlsx\", sheet_name=sheet_name, header=0)\n",
    "\n",
    "# current_path = os.path.dirname(input_f)\n",
    "# input_f = os.path.join(current_path, \"input\")\n",
    "print()\n",
    "# current_path = os.path.dirname()\n",
    "# print(current_path)\n",
    "print(os.getcwd())"
   ]
  },
  {
   "cell_type": "code",
   "execution_count": null,
   "id": "1a457eec",
   "metadata": {},
   "outputs": [],
   "source": [
    "print(os.getcwd())\n",
    "# print(sys.argv[0])\n",
    "print(os.path.dirname(os.path.realpath('__file__')))"
   ]
  },
  {
   "cell_type": "code",
   "execution_count": null,
   "id": "a78dd668",
   "metadata": {},
   "outputs": [],
   "source": []
  }
 ],
 "metadata": {
  "kernelspec": {
   "display_name": "Python 3 (ipykernel)",
   "language": "python",
   "name": "python3"
  },
  "language_info": {
   "codemirror_mode": {
    "name": "ipython",
    "version": 3
   },
   "file_extension": ".py",
   "mimetype": "text/x-python",
   "name": "python",
   "nbconvert_exporter": "python",
   "pygments_lexer": "ipython3",
   "version": "3.9.12"
  }
 },
 "nbformat": 4,
 "nbformat_minor": 5
}
