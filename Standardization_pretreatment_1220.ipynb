{
 "cells": [
  {
   "cell_type": "code",
   "execution_count": 42,
   "id": "8c4a26d3",
   "metadata": {},
   "outputs": [],
   "source": [
    "import pandas as pd\n",
    "import numpy as np\n",
    "import os\n",
    "import string\n",
    "import sys\n",
    "import re\n",
    "import datetime as dt\n",
    "import import_ipynb\n",
    "#변수명 추출\n",
    "from varname import nameof\n",
    "#os정렬\n",
    "import natsort\n",
    "from tqdm import tqdm\n",
    "# from standard_func import *\n",
    "# import standard_func_py as sf\n",
    "# now = dt.datetime.now().strftime('%y%m%d_%H%M%S')\n",
    "pd.set_option('display.max_rows', 500)\n",
    "pd.set_option('display.max_columns', 500)\n",
    "\n",
    "# 진행 여부 함수\n",
    "def yes_or_no(question):\n",
    "    while \"the answer is invalid\":\n",
    "        reply = str(input(question+' (y/n): ')).lower().strip()\n",
    "        if reply[0] == 'y':\n",
    "            return True\n",
    "        if reply[0] == 'n':\n",
    "            return False\n",
    "        else:\n",
    "            print(\"실패: 'y' 혹은 'n' 를 입력해 주세요\")"
   ]
  },
  {
   "cell_type": "markdown",
   "id": "6723f5c4",
   "metadata": {},
   "source": [
    "### 함수"
   ]
  },
  {
   "cell_type": "code",
   "execution_count": 43,
   "id": "7ef7ebd3",
   "metadata": {},
   "outputs": [],
   "source": [
    "# blnk/검색 로직\n",
    "\n",
    "def blnk_chk(data):\n",
    "    cnt_chk = len(data)\n",
    "\n",
    "    chk_nll_list = []\n",
    "    chk_nll_cnt_list = []\n",
    "    # null값 체크(개수 파악)\n",
    "    for i,j in zip(range(len(data.columns)), data.columns):\n",
    "        indv_cnt = data.loc[data[j] != '', j]\n",
    "        if len(data[j]) != len(indv_cnt):\n",
    "            print(j + \": \" + str(len(indv_cnt)))\n",
    "            chk_nll_list.append(j)\n",
    "            chk_nll_cnt_list.append(len(indv_cnt) - cnt_chk)\n",
    "    print(\"================================\")\n",
    "    if len(chk_nll_list) == 0:\n",
    "        print(\"모든 값이 입력되었습니다.\")\n",
    "    elif len(chk_nll_list) > 1 :\n",
    "        print(\"blnk(null)이 포함된 컬럼이 탐지되었습니다.\")\n",
    "        print(chk_nll_list)\n",
    "        print(\"================================\")\n",
    "\n",
    "    globals()[\"cnt_chk_out\"] = pd.DataFrame(zip(chk_nll_list, chk_nll_cnt_list), columns = [\"NULL포함컬럼명\", \"NULL개수\"])\n",
    "    print(cnt_chk_out)\n",
    "    \n",
    "    print(\"================================\")\n",
    "    print(\"null 인덱스를 임시 보관합니다.\")\n",
    "    print(\"================================\")\n",
    "    nll_chk_row = cnt_chk_out.iloc[:,0].to_list()\n",
    "    for i, j in zip(range(len(nll_chk_row)), nll_chk_row):\n",
    "        globals()[\"null_{}\".format(i)] = data.loc[data[j] == '', j].index\n",
    "        print(\"널인덱스보관_\" + str(j) + \"(변수명) -> null_{}\".format(i))\n",
    "        \n",
    "# 스페이스 제거 함수\n",
    "def rmv_spce(data, opt, *col):\n",
    "    if opt == 'all': \n",
    "        for i in data.columns:\n",
    "            data[i] = data[i].str.replace(\" \", \"\")\n",
    "            print(str(i) + \":\\t 스페이스 제거 성공\")\n",
    "    elif opt == 'col':\n",
    "        # 함수 가변인자는 스트링(가나다라)이 아니라 튜플(가.나.다.라)이므로 스트링으로 join 시켜줘야 한다!!!@\n",
    "        col = ''.join(col)\n",
    "        data[col] = data[col].str.replace(\" \", \"\")\n",
    "        print(col + \":\\t 스페이스 제거 성공\")\n",
    "#         print(type(col))\n",
    "\n",
    "# 불필요 컬럼 빼기 - 이름으로 빼기\n",
    "def brief_col(data, excpt_col_list, name):\n",
    "    col_list = data.columns\n",
    "    selected_col_list = [x for x in col_list if x not in excpt_col_list]\n",
    "    print(selected_col_list)\n",
    "    globals()[\"{}\".format(name)] = data[selected_col_list]\n",
    "    \n",
    "# 불필요 컬럼 빼기 - 순서로 빼기 \n",
    "# tmp_col_list = [5,6,7,8]\n",
    "# tmp_tbl_list = [2,3,4,5]\n",
    "def brief_col_num(data, excpt_col_list, name):\n",
    "    col_list = data.columns\n",
    "    col_list_num = [*range(len(col_list))]\n",
    "    selected_col_list_num = [x for x in col_list_num if x not in excpt_col_list]\n",
    "    selected_col = col_list[selected_col_list_num]\n",
    "    print(selected_col)\n",
    "    globals()[\"{}\".format(name)] = data[selected_col]\n",
    "\n",
    "# 컬럼명(순서) 선택 및 변경\n",
    "def cor_col(data, select_col, modify_col, name):\n",
    "    # 컬럼명(순서) 선택\n",
    "    globals()[\"{}\".format(name)] = data[select_col]\n",
    "    # 컬렴명 변경\n",
    "    globals()[\"{}\".format(name)].columns = modify_col\n",
    "    \n",
    "# null 공백처리 함수\n",
    "def nll_to_blnk(data, opt, *col):\n",
    "    if opt == 'all':\n",
    "        print(\"[모든 컬럼 Null 공백 처리]\")\n",
    "        for i in data.columns:\n",
    "            data[i] = data[i].fillna(\"\")\n",
    "            print(str(i) + \":\\t Null 공백 처리 성공\")\n",
    "    elif opt == 'col':\n",
    "        # 함수 가변인자는 스트링(가나다라)이 아니라 튜플(가.나.다.라)이므로 스트링으로 join 시켜줘야 한다!!!@\n",
    "        col = ''.join(col)\n",
    "        data[col] = data[col].fillna(\"\")\n",
    "        print(col + \":\\t  공백 처리 성공\")\n",
    "\n",
    "# 컬럼 고유값 수 비교\n",
    "def cmpar(data, col1, col2):\n",
    "    crtr_1 = len(data[col1].unique()) - 1\n",
    "    crtr_2 = len(data[col2].unique()) - 1\n",
    "    if crtr_1 == crtr_2:\n",
    "        print('[정상] 용어명과 분리된용어명의 고유값 수가 같습니다.= ' + str(crtr_1) + \" vs \" + str(crtr_2))\n",
    "    else:\n",
    "        print('[오류] 용어명과 분리된용어명의 고유값 수가 다릅니다.= ' + str(crtr_1) + \" vs \" + str(crtr_2))\n",
    "        \n",
    "# 공백 null처리 함수\n",
    "def blank_to_nll(data, opt, *col):\n",
    "    if opt == 'all':\n",
    "        print(\"[모든 컬럼 공백 Null 처리]\")\n",
    "        for i in data.columns:\n",
    "            data.loc[data[i] == '', i] = None\n",
    "            print(str(i) + \":\\t Null 처리 성공\")\n",
    "    elif opt == 'col':\n",
    "        # 함수 가변인자는 스트링(가나다라)이 아니라 튜플(가.나.다.라)이므로 스트링으로 join 시켜줘야 한다!!!@\n",
    "        col = ''.join(col)\n",
    "        data.loc[data[col] == '', col] = None\n",
    "        print(col + \":\\t  Null 처리 성공\")\n",
    "        \n",
    "def row_nll_rmv(data, name):\n",
    "    ### 값이 한개라도 있을 경우만 카운트 ###\n",
    "\n",
    "    data_cnt = len(data)\n",
    "    notna_list = []\n",
    "    for i in range(data_cnt):    \n",
    "        # row 기준 널 체크(값이 한개라도 있을 경우 포함)\n",
    "        if data.iloc[i].notna().sum() > 1:\n",
    "            notna_list.append(i)\n",
    "    globals()[\"{}\".format(name)] = globals()[\"{}\".format(data)].loc[notna_list]\n",
    "    print(notna_list)\n",
    "    print(data.shape)\n",
    "    \n",
    "# blank row 삭제\n",
    "def blnk_row_rmv(data, opt, *col):\n",
    "    if opt == 'all':\n",
    "        data_cnt = len(data)\n",
    "        notna_list = []\n",
    "        for i in range(data_cnt):\n",
    "            if (data.iloc[i,:] != '').sum() > 1:\n",
    "                notna_list.append(i)\n",
    "        globals()[\"blnk_rmv_all\".format(col)] = data.iloc[notna_list]\n",
    "        print(globals()[\"blnk_rmv_all\".format(col)].shape)\n",
    "        print(\"OUT: blnk_rmv_all, blnk_rmv_{}\")\n",
    "    elif opt == 'col':\n",
    "        data_cnt = len(data)\n",
    "        notna_list = []\n",
    "        col = ''.join(col)\n",
    "        for i in range(data_cnt):\n",
    "            if (data.loc[i,col] != ''):\n",
    "                notna_list.append(i)\n",
    "        globals()[\"blnk_rmv_{}\".format(col)] = data.iloc[notna_list].copy()\n",
    "        print(globals()[\"blnk_rmv_{}\".format(col)].shape)\n",
    "        print(\"OUT: blnk_rmv_all, blnk_rmv_{}\")"
   ]
  },
  {
   "cell_type": "code",
   "execution_count": 44,
   "id": "acaddac9",
   "metadata": {},
   "outputs": [],
   "source": [
    "# 파이썬 로드후 파일 실행\n",
    "def read_grip_file(data, path, file_name):\n",
    "    os.system(path + file_name + \".xlsx\")\n",
    "    globals()[file_name] = pd.read_excel(path + file_name + \".xlsx\", index_col = 0, na_filter=False)\n",
    "\n",
    "\n",
    "# 파이썬 로드 및 파일 저장 및 파일 실행\n",
    "def save_grip_file(data, path, file_name):\n",
    "    print('예) path + \"\\\\metadata\\\\\" + folder + \"\\\\01 abnormal_words_correct\", \"abnormal_words_correct\"')\n",
    "    globals()[file_name] = data\n",
    "    data.to_excel(path + file_name + \".xlsx\")\n",
    "    os.system(path + file_name + \".xlsx\")"
   ]
  },
  {
   "cell_type": "markdown",
   "id": "99abf27b",
   "metadata": {},
   "source": [
    "### 추가 1) 메타데이터 띄움처리 전 중복 제거..\n",
    "### 추가 2) 한글명 notnull vs null 분리하여 notnull만 관리(null: 파일 생성 및 기입 요청)\n",
    "### 추가 3.1) 한글 용어 점검 기능: 한글명+영문명+숫자조합 가능), 그외 모두 제거\n",
    "### 추가 3.2) 한글 단어 점검 기능: 한글명(숫자조합 가능), 영문명만(숫자조합 가능) 그외 모두 제거\n",
    "### 추가 4) 테이블기준 상세항목 정의하기.. "
   ]
  },
  {
   "cell_type": "code",
   "execution_count": 45,
   "id": "e296f769",
   "metadata": {},
   "outputs": [],
   "source": [
    "# 1.전체 데이터 로드"
   ]
  },
  {
   "cell_type": "code",
   "execution_count": 46,
   "id": "49c9f4f5",
   "metadata": {},
   "outputs": [
    {
     "data": {
      "text/plain": [
       "'C:\\\\Users\\\\namdd\\\\OneDrive\\\\Data\\\\Standardization'"
      ]
     },
     "execution_count": 46,
     "metadata": {},
     "output_type": "execute_result"
    }
   ],
   "source": [
    "# 경로 및 파일명 설정\n",
    "path = os.path.join(os.getcwd())\n",
    "path"
   ]
  },
  {
   "cell_type": "code",
   "execution_count": 76,
   "id": "98f6de9a",
   "metadata": {},
   "outputs": [
    {
     "data": {
      "text/plain": [
       "'30_광역철도수입관리시스템'"
      ]
     },
     "execution_count": 76,
     "metadata": {},
     "output_type": "execute_result"
    }
   ],
   "source": [
    "folder_list = pd.read_excel(path + \"\\\\metadata\\\\철도공사-업무별-시스템 담당자 _표준화용.xlsx\")['폴더관리1']\n",
    "folder_list = folder_list.map(lambda x : x.split('md ')[-1])\n",
    "# folder_list = folder_list[folder_list != \"00_\"].reset_index(drop=True)\n",
    "folder_list = list(folder_list.unique())\n",
    "folder = folder_list[29]\n",
    "folder"
   ]
  },
  {
   "cell_type": "code",
   "execution_count": 77,
   "id": "7436e076",
   "metadata": {},
   "outputs": [
    {
     "data": {
      "text/plain": [
       "['01_XROIS',\n",
       " '02_홍보실적관리',\n",
       " '03_한국철도TV',\n",
       " '04_한국철도사보',\n",
       " '05_투자사업관리',\n",
       " '06_사옥관리',\n",
       " '07_당직관리',\n",
       " '08_정보공개시스템',\n",
       " '09_인사커뮤니케이션',\n",
       " '10_고충처리',\n",
       " '11_복지공감방',\n",
       " '12_코레일텔',\n",
       " '13_철도상생플랫폼',\n",
       " '14_물류정보시스템',\n",
       " '15_업무용차량예약',\n",
       " '16_법무관리시스템',\n",
       " '17_역운영시스템',\n",
       " '18_표준방송시스템',\n",
       " '19_승무원홈페이지',\n",
       " '20_예약발매시스템',\n",
       " '21_영업관리시스템',\n",
       " '22_수익관리시스템',\n",
       " '23_고객센터안내시스템',\n",
       " '24_IRIS',\n",
       " '25_TOPS',\n",
       " '26_열차운전안내장치',\n",
       " '27_운행정보자동분석시스템',\n",
       " '28_부산진CY운영시스템',\n",
       " '29_철도물류정보시스템',\n",
       " '30_광역철도수입관리시스템',\n",
       " '31_광역정보센터시스템',\n",
       " '32_RCM시스템',\n",
       " '33_기지운용시스템',\n",
       " '34_TIDS',\n",
       " '35_CCTV 영상정보관리',\n",
       " '36_건설관리',\n",
       " '37_KTX고장코드무선전송',\n",
       " '38_사회공헌포털',\n",
       " '39_노트북예약',\n",
       " '40_국제철도정보시스템',\n",
       " '41_(신)학사관리시스템',\n",
       " '42_적성검사',\n",
       " '43_연구개발시스템']"
      ]
     },
     "execution_count": 77,
     "metadata": {},
     "output_type": "execute_result"
    }
   ],
   "source": [
    "folder_list"
   ]
  },
  {
   "cell_type": "code",
   "execution_count": 25,
   "id": "cc4e4d7a",
   "metadata": {},
   "outputs": [
    {
     "data": {
      "text/plain": [
       "'11_복지공감방'"
      ]
     },
     "execution_count": 25,
     "metadata": {},
     "output_type": "execute_result"
    }
   ],
   "source": [
    "folder = folder_list[10]\n",
    "folder"
   ]
  },
  {
   "cell_type": "code",
   "execution_count": null,
   "id": "a43c18de",
   "metadata": {},
   "outputs": [],
   "source": [
    "# 모든테이블 union"
   ]
  },
  {
   "cell_type": "code",
   "execution_count": 39,
   "id": "9f75d350",
   "metadata": {},
   "outputs": [
    {
     "data": {
      "text/plain": [
       "'C:\\\\Users\\\\namdd\\\\OneDrive\\\\Data\\\\Standardization'"
      ]
     },
     "execution_count": 39,
     "metadata": {},
     "output_type": "execute_result"
    }
   ],
   "source": [
    "path"
   ]
  },
  {
   "cell_type": "code",
   "execution_count": 85,
   "id": "39d70ca6",
   "metadata": {
    "scrolled": true
   },
   "outputs": [
    {
     "name": "stdout",
     "output_type": "stream",
     "text": [
      "01_XROIS\n",
      "02_홍보실적관리\n",
      "03_한국철도TV\n",
      "04_한국철도사보\n",
      "05_투자사업관리\n",
      "06_사옥관리\n",
      "07_당직관리\n",
      "08_정보공개시스템\n",
      "09_인사커뮤니케이션\n",
      "10_고충처리\n",
      "11_복지공감방\n",
      "12_코레일텔\n",
      "13_철도상생플랫폼\n",
      "14_물류정보시스템\n",
      "15_업무용차량예약\n",
      "16_법무관리시스템\n",
      "17_역운영시스템\n",
      "18_표준방송시스템\n",
      "19_승무원홈페이지\n",
      "20_예약발매시스템\n",
      "21_영업관리시스템\n",
      "22_수익관리시스템\n",
      "23_고객센터안내시스템\n",
      "24_IRIS\n",
      "25_TOPS\n",
      "26_열차운전안내장치\n",
      "27_운행정보자동분석시스템\n",
      "28_부산진CY운영시스템\n",
      "29_철도물류정보시스템\n",
      "30_광역철도수입관리시스템\n",
      "31_광역정보센터시스템\n",
      "32_RCM시스템\n",
      "33_기지운용시스템\n",
      "34_TIDS\n",
      "35_CCTV 영상정보관리\n"
     ]
    },
    {
     "ename": "FileNotFoundError",
     "evalue": "[Errno 2] No such file or directory: 'C:\\\\Users\\\\namdd\\\\OneDrive\\\\Data\\\\Standardization\\\\metadata\\\\35_CCTV 영상정보관리\\\\METADATA_UTF8.csv'",
     "output_type": "error",
     "traceback": [
      "\u001b[1;31m---------------------------------------------------------------------------\u001b[0m",
      "\u001b[1;31mFileNotFoundError\u001b[0m                         Traceback (most recent call last)",
      "Input \u001b[1;32mIn [85]\u001b[0m, in \u001b[0;36m<cell line: 1>\u001b[1;34m()\u001b[0m\n\u001b[0;32m      1\u001b[0m \u001b[38;5;28;01mfor\u001b[39;00m i \u001b[38;5;129;01min\u001b[39;00m folder_list:\n\u001b[0;32m      2\u001b[0m     \u001b[38;5;28mprint\u001b[39m(i)\n\u001b[1;32m----> 3\u001b[0m     \u001b[38;5;28mglobals\u001b[39m()[\u001b[38;5;124m\"\u001b[39m\u001b[38;5;124mdata_\u001b[39m\u001b[38;5;132;01m{}\u001b[39;00m\u001b[38;5;124m\"\u001b[39m\u001b[38;5;241m.\u001b[39mformat(i)] \u001b[38;5;241m=\u001b[39m \u001b[43mpd\u001b[49m\u001b[38;5;241;43m.\u001b[39;49m\u001b[43mread_csv\u001b[49m\u001b[43m(\u001b[49m\u001b[43mpath\u001b[49m\u001b[43m \u001b[49m\u001b[38;5;241;43m+\u001b[39;49m\u001b[43m \u001b[49m\u001b[38;5;124;43m\"\u001b[39;49m\u001b[38;5;130;43;01m\\\\\u001b[39;49;00m\u001b[38;5;124;43mmetadata\u001b[39;49m\u001b[38;5;130;43;01m\\\\\u001b[39;49;00m\u001b[38;5;124;43m\"\u001b[39;49m\u001b[43m \u001b[49m\u001b[38;5;241;43m+\u001b[39;49m\u001b[43m \u001b[49m\u001b[43mi\u001b[49m\u001b[43m \u001b[49m\u001b[38;5;241;43m+\u001b[39;49m\u001b[43m \u001b[49m\u001b[38;5;124;43m\"\u001b[39;49m\u001b[38;5;130;43;01m\\\\\u001b[39;49;00m\u001b[38;5;124;43mMETADATA_UTF8.csv\u001b[39;49m\u001b[38;5;124;43m\"\u001b[39;49m\u001b[43m,\u001b[49m\u001b[43m \u001b[49m\u001b[43mna_filter\u001b[49m\u001b[43m \u001b[49m\u001b[38;5;241;43m=\u001b[39;49m\u001b[43m \u001b[49m\u001b[38;5;28;43;01mFalse\u001b[39;49;00m\u001b[43m)\u001b[49m\n",
      "File \u001b[1;32m~\\anaconda3\\lib\\site-packages\\pandas\\util\\_decorators.py:311\u001b[0m, in \u001b[0;36mdeprecate_nonkeyword_arguments.<locals>.decorate.<locals>.wrapper\u001b[1;34m(*args, **kwargs)\u001b[0m\n\u001b[0;32m    305\u001b[0m \u001b[38;5;28;01mif\u001b[39;00m \u001b[38;5;28mlen\u001b[39m(args) \u001b[38;5;241m>\u001b[39m num_allow_args:\n\u001b[0;32m    306\u001b[0m     warnings\u001b[38;5;241m.\u001b[39mwarn(\n\u001b[0;32m    307\u001b[0m         msg\u001b[38;5;241m.\u001b[39mformat(arguments\u001b[38;5;241m=\u001b[39marguments),\n\u001b[0;32m    308\u001b[0m         \u001b[38;5;167;01mFutureWarning\u001b[39;00m,\n\u001b[0;32m    309\u001b[0m         stacklevel\u001b[38;5;241m=\u001b[39mstacklevel,\n\u001b[0;32m    310\u001b[0m     )\n\u001b[1;32m--> 311\u001b[0m \u001b[38;5;28;01mreturn\u001b[39;00m func(\u001b[38;5;241m*\u001b[39margs, \u001b[38;5;241m*\u001b[39m\u001b[38;5;241m*\u001b[39mkwargs)\n",
      "File \u001b[1;32m~\\anaconda3\\lib\\site-packages\\pandas\\io\\parsers\\readers.py:680\u001b[0m, in \u001b[0;36mread_csv\u001b[1;34m(filepath_or_buffer, sep, delimiter, header, names, index_col, usecols, squeeze, prefix, mangle_dupe_cols, dtype, engine, converters, true_values, false_values, skipinitialspace, skiprows, skipfooter, nrows, na_values, keep_default_na, na_filter, verbose, skip_blank_lines, parse_dates, infer_datetime_format, keep_date_col, date_parser, dayfirst, cache_dates, iterator, chunksize, compression, thousands, decimal, lineterminator, quotechar, quoting, doublequote, escapechar, comment, encoding, encoding_errors, dialect, error_bad_lines, warn_bad_lines, on_bad_lines, delim_whitespace, low_memory, memory_map, float_precision, storage_options)\u001b[0m\n\u001b[0;32m    665\u001b[0m kwds_defaults \u001b[38;5;241m=\u001b[39m _refine_defaults_read(\n\u001b[0;32m    666\u001b[0m     dialect,\n\u001b[0;32m    667\u001b[0m     delimiter,\n\u001b[1;32m   (...)\u001b[0m\n\u001b[0;32m    676\u001b[0m     defaults\u001b[38;5;241m=\u001b[39m{\u001b[38;5;124m\"\u001b[39m\u001b[38;5;124mdelimiter\u001b[39m\u001b[38;5;124m\"\u001b[39m: \u001b[38;5;124m\"\u001b[39m\u001b[38;5;124m,\u001b[39m\u001b[38;5;124m\"\u001b[39m},\n\u001b[0;32m    677\u001b[0m )\n\u001b[0;32m    678\u001b[0m kwds\u001b[38;5;241m.\u001b[39mupdate(kwds_defaults)\n\u001b[1;32m--> 680\u001b[0m \u001b[38;5;28;01mreturn\u001b[39;00m \u001b[43m_read\u001b[49m\u001b[43m(\u001b[49m\u001b[43mfilepath_or_buffer\u001b[49m\u001b[43m,\u001b[49m\u001b[43m \u001b[49m\u001b[43mkwds\u001b[49m\u001b[43m)\u001b[49m\n",
      "File \u001b[1;32m~\\anaconda3\\lib\\site-packages\\pandas\\io\\parsers\\readers.py:575\u001b[0m, in \u001b[0;36m_read\u001b[1;34m(filepath_or_buffer, kwds)\u001b[0m\n\u001b[0;32m    572\u001b[0m _validate_names(kwds\u001b[38;5;241m.\u001b[39mget(\u001b[38;5;124m\"\u001b[39m\u001b[38;5;124mnames\u001b[39m\u001b[38;5;124m\"\u001b[39m, \u001b[38;5;28;01mNone\u001b[39;00m))\n\u001b[0;32m    574\u001b[0m \u001b[38;5;66;03m# Create the parser.\u001b[39;00m\n\u001b[1;32m--> 575\u001b[0m parser \u001b[38;5;241m=\u001b[39m TextFileReader(filepath_or_buffer, \u001b[38;5;241m*\u001b[39m\u001b[38;5;241m*\u001b[39mkwds)\n\u001b[0;32m    577\u001b[0m \u001b[38;5;28;01mif\u001b[39;00m chunksize \u001b[38;5;129;01mor\u001b[39;00m iterator:\n\u001b[0;32m    578\u001b[0m     \u001b[38;5;28;01mreturn\u001b[39;00m parser\n",
      "File \u001b[1;32m~\\anaconda3\\lib\\site-packages\\pandas\\io\\parsers\\readers.py:933\u001b[0m, in \u001b[0;36mTextFileReader.__init__\u001b[1;34m(self, f, engine, **kwds)\u001b[0m\n\u001b[0;32m    930\u001b[0m     \u001b[38;5;28mself\u001b[39m\u001b[38;5;241m.\u001b[39moptions[\u001b[38;5;124m\"\u001b[39m\u001b[38;5;124mhas_index_names\u001b[39m\u001b[38;5;124m\"\u001b[39m] \u001b[38;5;241m=\u001b[39m kwds[\u001b[38;5;124m\"\u001b[39m\u001b[38;5;124mhas_index_names\u001b[39m\u001b[38;5;124m\"\u001b[39m]\n\u001b[0;32m    932\u001b[0m \u001b[38;5;28mself\u001b[39m\u001b[38;5;241m.\u001b[39mhandles: IOHandles \u001b[38;5;241m|\u001b[39m \u001b[38;5;28;01mNone\u001b[39;00m \u001b[38;5;241m=\u001b[39m \u001b[38;5;28;01mNone\u001b[39;00m\n\u001b[1;32m--> 933\u001b[0m \u001b[38;5;28mself\u001b[39m\u001b[38;5;241m.\u001b[39m_engine \u001b[38;5;241m=\u001b[39m \u001b[38;5;28;43mself\u001b[39;49m\u001b[38;5;241;43m.\u001b[39;49m\u001b[43m_make_engine\u001b[49m\u001b[43m(\u001b[49m\u001b[43mf\u001b[49m\u001b[43m,\u001b[49m\u001b[43m \u001b[49m\u001b[38;5;28;43mself\u001b[39;49m\u001b[38;5;241;43m.\u001b[39;49m\u001b[43mengine\u001b[49m\u001b[43m)\u001b[49m\n",
      "File \u001b[1;32m~\\anaconda3\\lib\\site-packages\\pandas\\io\\parsers\\readers.py:1217\u001b[0m, in \u001b[0;36mTextFileReader._make_engine\u001b[1;34m(self, f, engine)\u001b[0m\n\u001b[0;32m   1213\u001b[0m     mode \u001b[38;5;241m=\u001b[39m \u001b[38;5;124m\"\u001b[39m\u001b[38;5;124mrb\u001b[39m\u001b[38;5;124m\"\u001b[39m\n\u001b[0;32m   1214\u001b[0m \u001b[38;5;66;03m# error: No overload variant of \"get_handle\" matches argument types\u001b[39;00m\n\u001b[0;32m   1215\u001b[0m \u001b[38;5;66;03m# \"Union[str, PathLike[str], ReadCsvBuffer[bytes], ReadCsvBuffer[str]]\"\u001b[39;00m\n\u001b[0;32m   1216\u001b[0m \u001b[38;5;66;03m# , \"str\", \"bool\", \"Any\", \"Any\", \"Any\", \"Any\", \"Any\"\u001b[39;00m\n\u001b[1;32m-> 1217\u001b[0m \u001b[38;5;28mself\u001b[39m\u001b[38;5;241m.\u001b[39mhandles \u001b[38;5;241m=\u001b[39m \u001b[43mget_handle\u001b[49m\u001b[43m(\u001b[49m\u001b[43m  \u001b[49m\u001b[38;5;66;43;03m# type: ignore[call-overload]\u001b[39;49;00m\n\u001b[0;32m   1218\u001b[0m \u001b[43m    \u001b[49m\u001b[43mf\u001b[49m\u001b[43m,\u001b[49m\n\u001b[0;32m   1219\u001b[0m \u001b[43m    \u001b[49m\u001b[43mmode\u001b[49m\u001b[43m,\u001b[49m\n\u001b[0;32m   1220\u001b[0m \u001b[43m    \u001b[49m\u001b[43mencoding\u001b[49m\u001b[38;5;241;43m=\u001b[39;49m\u001b[38;5;28;43mself\u001b[39;49m\u001b[38;5;241;43m.\u001b[39;49m\u001b[43moptions\u001b[49m\u001b[38;5;241;43m.\u001b[39;49m\u001b[43mget\u001b[49m\u001b[43m(\u001b[49m\u001b[38;5;124;43m\"\u001b[39;49m\u001b[38;5;124;43mencoding\u001b[39;49m\u001b[38;5;124;43m\"\u001b[39;49m\u001b[43m,\u001b[49m\u001b[43m \u001b[49m\u001b[38;5;28;43;01mNone\u001b[39;49;00m\u001b[43m)\u001b[49m\u001b[43m,\u001b[49m\n\u001b[0;32m   1221\u001b[0m \u001b[43m    \u001b[49m\u001b[43mcompression\u001b[49m\u001b[38;5;241;43m=\u001b[39;49m\u001b[38;5;28;43mself\u001b[39;49m\u001b[38;5;241;43m.\u001b[39;49m\u001b[43moptions\u001b[49m\u001b[38;5;241;43m.\u001b[39;49m\u001b[43mget\u001b[49m\u001b[43m(\u001b[49m\u001b[38;5;124;43m\"\u001b[39;49m\u001b[38;5;124;43mcompression\u001b[39;49m\u001b[38;5;124;43m\"\u001b[39;49m\u001b[43m,\u001b[49m\u001b[43m \u001b[49m\u001b[38;5;28;43;01mNone\u001b[39;49;00m\u001b[43m)\u001b[49m\u001b[43m,\u001b[49m\n\u001b[0;32m   1222\u001b[0m \u001b[43m    \u001b[49m\u001b[43mmemory_map\u001b[49m\u001b[38;5;241;43m=\u001b[39;49m\u001b[38;5;28;43mself\u001b[39;49m\u001b[38;5;241;43m.\u001b[39;49m\u001b[43moptions\u001b[49m\u001b[38;5;241;43m.\u001b[39;49m\u001b[43mget\u001b[49m\u001b[43m(\u001b[49m\u001b[38;5;124;43m\"\u001b[39;49m\u001b[38;5;124;43mmemory_map\u001b[39;49m\u001b[38;5;124;43m\"\u001b[39;49m\u001b[43m,\u001b[49m\u001b[43m \u001b[49m\u001b[38;5;28;43;01mFalse\u001b[39;49;00m\u001b[43m)\u001b[49m\u001b[43m,\u001b[49m\n\u001b[0;32m   1223\u001b[0m \u001b[43m    \u001b[49m\u001b[43mis_text\u001b[49m\u001b[38;5;241;43m=\u001b[39;49m\u001b[43mis_text\u001b[49m\u001b[43m,\u001b[49m\n\u001b[0;32m   1224\u001b[0m \u001b[43m    \u001b[49m\u001b[43merrors\u001b[49m\u001b[38;5;241;43m=\u001b[39;49m\u001b[38;5;28;43mself\u001b[39;49m\u001b[38;5;241;43m.\u001b[39;49m\u001b[43moptions\u001b[49m\u001b[38;5;241;43m.\u001b[39;49m\u001b[43mget\u001b[49m\u001b[43m(\u001b[49m\u001b[38;5;124;43m\"\u001b[39;49m\u001b[38;5;124;43mencoding_errors\u001b[39;49m\u001b[38;5;124;43m\"\u001b[39;49m\u001b[43m,\u001b[49m\u001b[43m \u001b[49m\u001b[38;5;124;43m\"\u001b[39;49m\u001b[38;5;124;43mstrict\u001b[39;49m\u001b[38;5;124;43m\"\u001b[39;49m\u001b[43m)\u001b[49m\u001b[43m,\u001b[49m\n\u001b[0;32m   1225\u001b[0m \u001b[43m    \u001b[49m\u001b[43mstorage_options\u001b[49m\u001b[38;5;241;43m=\u001b[39;49m\u001b[38;5;28;43mself\u001b[39;49m\u001b[38;5;241;43m.\u001b[39;49m\u001b[43moptions\u001b[49m\u001b[38;5;241;43m.\u001b[39;49m\u001b[43mget\u001b[49m\u001b[43m(\u001b[49m\u001b[38;5;124;43m\"\u001b[39;49m\u001b[38;5;124;43mstorage_options\u001b[39;49m\u001b[38;5;124;43m\"\u001b[39;49m\u001b[43m,\u001b[49m\u001b[43m \u001b[49m\u001b[38;5;28;43;01mNone\u001b[39;49;00m\u001b[43m)\u001b[49m\u001b[43m,\u001b[49m\n\u001b[0;32m   1226\u001b[0m \u001b[43m\u001b[49m\u001b[43m)\u001b[49m\n\u001b[0;32m   1227\u001b[0m \u001b[38;5;28;01massert\u001b[39;00m \u001b[38;5;28mself\u001b[39m\u001b[38;5;241m.\u001b[39mhandles \u001b[38;5;129;01mis\u001b[39;00m \u001b[38;5;129;01mnot\u001b[39;00m \u001b[38;5;28;01mNone\u001b[39;00m\n\u001b[0;32m   1228\u001b[0m f \u001b[38;5;241m=\u001b[39m \u001b[38;5;28mself\u001b[39m\u001b[38;5;241m.\u001b[39mhandles\u001b[38;5;241m.\u001b[39mhandle\n",
      "File \u001b[1;32m~\\anaconda3\\lib\\site-packages\\pandas\\io\\common.py:789\u001b[0m, in \u001b[0;36mget_handle\u001b[1;34m(path_or_buf, mode, encoding, compression, memory_map, is_text, errors, storage_options)\u001b[0m\n\u001b[0;32m    784\u001b[0m \u001b[38;5;28;01melif\u001b[39;00m \u001b[38;5;28misinstance\u001b[39m(handle, \u001b[38;5;28mstr\u001b[39m):\n\u001b[0;32m    785\u001b[0m     \u001b[38;5;66;03m# Check whether the filename is to be opened in binary mode.\u001b[39;00m\n\u001b[0;32m    786\u001b[0m     \u001b[38;5;66;03m# Binary mode does not support 'encoding' and 'newline'.\u001b[39;00m\n\u001b[0;32m    787\u001b[0m     \u001b[38;5;28;01mif\u001b[39;00m ioargs\u001b[38;5;241m.\u001b[39mencoding \u001b[38;5;129;01mand\u001b[39;00m \u001b[38;5;124m\"\u001b[39m\u001b[38;5;124mb\u001b[39m\u001b[38;5;124m\"\u001b[39m \u001b[38;5;129;01mnot\u001b[39;00m \u001b[38;5;129;01min\u001b[39;00m ioargs\u001b[38;5;241m.\u001b[39mmode:\n\u001b[0;32m    788\u001b[0m         \u001b[38;5;66;03m# Encoding\u001b[39;00m\n\u001b[1;32m--> 789\u001b[0m         handle \u001b[38;5;241m=\u001b[39m \u001b[38;5;28;43mopen\u001b[39;49m\u001b[43m(\u001b[49m\n\u001b[0;32m    790\u001b[0m \u001b[43m            \u001b[49m\u001b[43mhandle\u001b[49m\u001b[43m,\u001b[49m\n\u001b[0;32m    791\u001b[0m \u001b[43m            \u001b[49m\u001b[43mioargs\u001b[49m\u001b[38;5;241;43m.\u001b[39;49m\u001b[43mmode\u001b[49m\u001b[43m,\u001b[49m\n\u001b[0;32m    792\u001b[0m \u001b[43m            \u001b[49m\u001b[43mencoding\u001b[49m\u001b[38;5;241;43m=\u001b[39;49m\u001b[43mioargs\u001b[49m\u001b[38;5;241;43m.\u001b[39;49m\u001b[43mencoding\u001b[49m\u001b[43m,\u001b[49m\n\u001b[0;32m    793\u001b[0m \u001b[43m            \u001b[49m\u001b[43merrors\u001b[49m\u001b[38;5;241;43m=\u001b[39;49m\u001b[43merrors\u001b[49m\u001b[43m,\u001b[49m\n\u001b[0;32m    794\u001b[0m \u001b[43m            \u001b[49m\u001b[43mnewline\u001b[49m\u001b[38;5;241;43m=\u001b[39;49m\u001b[38;5;124;43m\"\u001b[39;49m\u001b[38;5;124;43m\"\u001b[39;49m\u001b[43m,\u001b[49m\n\u001b[0;32m    795\u001b[0m \u001b[43m        \u001b[49m\u001b[43m)\u001b[49m\n\u001b[0;32m    796\u001b[0m     \u001b[38;5;28;01melse\u001b[39;00m:\n\u001b[0;32m    797\u001b[0m         \u001b[38;5;66;03m# Binary mode\u001b[39;00m\n\u001b[0;32m    798\u001b[0m         handle \u001b[38;5;241m=\u001b[39m \u001b[38;5;28mopen\u001b[39m(handle, ioargs\u001b[38;5;241m.\u001b[39mmode)\n",
      "\u001b[1;31mFileNotFoundError\u001b[0m: [Errno 2] No such file or directory: 'C:\\\\Users\\\\namdd\\\\OneDrive\\\\Data\\\\Standardization\\\\metadata\\\\35_CCTV 영상정보관리\\\\METADATA_UTF8.csv'"
     ]
    }
   ],
   "source": [
    "for i in folder_list:\n",
    "    print(i)\n",
    "    globals()[\"data_{}\".format(i)] = pd.read_csv(path + \"\\\\metadata\\\\\" + i + \"\\\\METADATA_UTF8.csv\", na_filter = False)\n",
    "#     globals()[\"data_{}\".format(i)] = pd.DataFrame()"
   ]
  },
  {
   "cell_type": "code",
   "execution_count": 88,
   "id": "ae6bcf4f",
   "metadata": {},
   "outputs": [
    {
     "data": {
      "text/html": [
       "<div>\n",
       "<style scoped>\n",
       "    .dataframe tbody tr th:only-of-type {\n",
       "        vertical-align: middle;\n",
       "    }\n",
       "\n",
       "    .dataframe tbody tr th {\n",
       "        vertical-align: top;\n",
       "    }\n",
       "\n",
       "    .dataframe thead th {\n",
       "        text-align: right;\n",
       "    }\n",
       "</style>\n",
       "<table border=\"1\" class=\"dataframe\">\n",
       "  <thead>\n",
       "    <tr style=\"text-align: right;\">\n",
       "      <th></th>\n",
       "      <th>관리부서코드</th>\n",
       "      <th>관리부서명</th>\n",
       "      <th>시스템명</th>\n",
       "      <th>물리DB명</th>\n",
       "      <th>TABLE_NAME</th>\n",
       "      <th>COMMENTS</th>\n",
       "      <th>COLUMN_NAME</th>\n",
       "      <th>컬럼물리명FullName</th>\n",
       "      <th>COMMENTS.1</th>\n",
       "      <th>컬럼설명</th>\n",
       "      <th>표준도메인그룹명</th>\n",
       "      <th>도메인분류명</th>\n",
       "      <th>DATA_TYPE</th>\n",
       "      <th>DATA_LENGTH</th>\n",
       "      <th>DATA_PRECISION</th>\n",
       "      <th>DATA_SCALE</th>\n",
       "    </tr>\n",
       "  </thead>\n",
       "  <tbody>\n",
       "    <tr>\n",
       "      <th>0</th>\n",
       "      <td></td>\n",
       "      <td>광역철도본부</td>\n",
       "      <td>KOTRIS</td>\n",
       "      <td>US_K</td>\n",
       "      <td>AAM_ADJUST_PMT</td>\n",
       "      <td>역무_이동정산기 정산지불내역</td>\n",
       "      <td>SC_DUTY_DT</td>\n",
       "      <td></td>\n",
       "      <td>업무일자</td>\n",
       "      <td>업무일자</td>\n",
       "      <td></td>\n",
       "      <td></td>\n",
       "      <td>VARCHAR2</td>\n",
       "      <td>8</td>\n",
       "      <td></td>\n",
       "      <td></td>\n",
       "    </tr>\n",
       "    <tr>\n",
       "      <th>1</th>\n",
       "      <td></td>\n",
       "      <td>광역철도본부</td>\n",
       "      <td>KOTRIS</td>\n",
       "      <td>US_K</td>\n",
       "      <td>AAM_ADJUST_PMT</td>\n",
       "      <td>역무_이동정산기 정산지불내역</td>\n",
       "      <td>SC_SETTM_DTIME</td>\n",
       "      <td></td>\n",
       "      <td>정산일시</td>\n",
       "      <td>정산일시</td>\n",
       "      <td></td>\n",
       "      <td></td>\n",
       "      <td>VARCHAR2</td>\n",
       "      <td>14</td>\n",
       "      <td></td>\n",
       "      <td></td>\n",
       "    </tr>\n",
       "    <tr>\n",
       "      <th>2</th>\n",
       "      <td></td>\n",
       "      <td>광역철도본부</td>\n",
       "      <td>KOTRIS</td>\n",
       "      <td>US_K</td>\n",
       "      <td>AAM_ADJUST_PMT</td>\n",
       "      <td>역무_이동정산기 정산지불내역</td>\n",
       "      <td>SC_EXTN_STA_NO</td>\n",
       "      <td></td>\n",
       "      <td>외부역번호</td>\n",
       "      <td>외부역번호</td>\n",
       "      <td></td>\n",
       "      <td></td>\n",
       "      <td>NUMBER</td>\n",
       "      <td>22</td>\n",
       "      <td>4</td>\n",
       "      <td>0</td>\n",
       "    </tr>\n",
       "    <tr>\n",
       "      <th>3</th>\n",
       "      <td></td>\n",
       "      <td>광역철도본부</td>\n",
       "      <td>KOTRIS</td>\n",
       "      <td>US_K</td>\n",
       "      <td>AAM_ADJUST_PMT</td>\n",
       "      <td>역무_이동정산기 정산지불내역</td>\n",
       "      <td>SC_DEV_NO</td>\n",
       "      <td></td>\n",
       "      <td>장비번호</td>\n",
       "      <td>장비번호</td>\n",
       "      <td></td>\n",
       "      <td></td>\n",
       "      <td>NUMBER</td>\n",
       "      <td>22</td>\n",
       "      <td>3</td>\n",
       "      <td>0</td>\n",
       "    </tr>\n",
       "    <tr>\n",
       "      <th>4</th>\n",
       "      <td></td>\n",
       "      <td>광역철도본부</td>\n",
       "      <td>KOTRIS</td>\n",
       "      <td>US_K</td>\n",
       "      <td>AAM_ADJUST_PMT</td>\n",
       "      <td>역무_이동정산기 정산지불내역</td>\n",
       "      <td>SC_DEV_CLASS_CD</td>\n",
       "      <td></td>\n",
       "      <td>장비구분코드</td>\n",
       "      <td>장비구분코드</td>\n",
       "      <td></td>\n",
       "      <td></td>\n",
       "      <td>VARCHAR2</td>\n",
       "      <td>3</td>\n",
       "      <td></td>\n",
       "      <td></td>\n",
       "    </tr>\n",
       "    <tr>\n",
       "      <th>...</th>\n",
       "      <td>...</td>\n",
       "      <td>...</td>\n",
       "      <td>...</td>\n",
       "      <td>...</td>\n",
       "      <td>...</td>\n",
       "      <td>...</td>\n",
       "      <td>...</td>\n",
       "      <td>...</td>\n",
       "      <td>...</td>\n",
       "      <td>...</td>\n",
       "      <td>...</td>\n",
       "      <td>...</td>\n",
       "      <td>...</td>\n",
       "      <td>...</td>\n",
       "      <td>...</td>\n",
       "      <td>...</td>\n",
       "    </tr>\n",
       "    <tr>\n",
       "      <th>5568</th>\n",
       "      <td></td>\n",
       "      <td>광역철도본부</td>\n",
       "      <td>KOTRIS</td>\n",
       "      <td>US_K</td>\n",
       "      <td>VW_TT_KSR021</td>\n",
       "      <td></td>\n",
       "      <td>STN_CD3</td>\n",
       "      <td></td>\n",
       "      <td></td>\n",
       "      <td></td>\n",
       "      <td></td>\n",
       "      <td></td>\n",
       "      <td>VARCHAR2</td>\n",
       "      <td>4</td>\n",
       "      <td></td>\n",
       "      <td></td>\n",
       "    </tr>\n",
       "    <tr>\n",
       "      <th>5569</th>\n",
       "      <td></td>\n",
       "      <td>광역철도본부</td>\n",
       "      <td>KOTRIS</td>\n",
       "      <td>US_K</td>\n",
       "      <td>VW_TT_KSR021</td>\n",
       "      <td></td>\n",
       "      <td>TM_MIN</td>\n",
       "      <td></td>\n",
       "      <td></td>\n",
       "      <td></td>\n",
       "      <td></td>\n",
       "      <td></td>\n",
       "      <td>NUMBER</td>\n",
       "      <td>22</td>\n",
       "      <td></td>\n",
       "      <td></td>\n",
       "    </tr>\n",
       "    <tr>\n",
       "      <th>5570</th>\n",
       "      <td></td>\n",
       "      <td>광역철도본부</td>\n",
       "      <td>KOTRIS</td>\n",
       "      <td>US_K</td>\n",
       "      <td>VW_TT_KSR021</td>\n",
       "      <td></td>\n",
       "      <td>DATA_TYPE</td>\n",
       "      <td></td>\n",
       "      <td></td>\n",
       "      <td></td>\n",
       "      <td></td>\n",
       "      <td></td>\n",
       "      <td>CHAR</td>\n",
       "      <td>1</td>\n",
       "      <td></td>\n",
       "      <td></td>\n",
       "    </tr>\n",
       "    <tr>\n",
       "      <th>5571</th>\n",
       "      <td></td>\n",
       "      <td>광역철도본부</td>\n",
       "      <td>KOTRIS</td>\n",
       "      <td>US_K</td>\n",
       "      <td>VW_TT_KSR021</td>\n",
       "      <td></td>\n",
       "      <td>UPWN_DV_CD</td>\n",
       "      <td></td>\n",
       "      <td></td>\n",
       "      <td></td>\n",
       "      <td></td>\n",
       "      <td></td>\n",
       "      <td>CHAR</td>\n",
       "      <td>1</td>\n",
       "      <td></td>\n",
       "      <td></td>\n",
       "    </tr>\n",
       "    <tr>\n",
       "      <th>5572</th>\n",
       "      <td></td>\n",
       "      <td>광역철도본부</td>\n",
       "      <td>KOTRIS</td>\n",
       "      <td>US_K</td>\n",
       "      <td>VW_TT_KSR021</td>\n",
       "      <td></td>\n",
       "      <td>IN_CNT</td>\n",
       "      <td></td>\n",
       "      <td></td>\n",
       "      <td></td>\n",
       "      <td></td>\n",
       "      <td></td>\n",
       "      <td>NUMBER</td>\n",
       "      <td>22</td>\n",
       "      <td></td>\n",
       "      <td></td>\n",
       "    </tr>\n",
       "  </tbody>\n",
       "</table>\n",
       "<p>5573 rows × 16 columns</p>\n",
       "</div>"
      ],
      "text/plain": [
       "     관리부서코드   관리부서명    시스템명 물리DB명      TABLE_NAME         COMMENTS  \\\n",
       "0            광역철도본부  KOTRIS  US_K  AAM_ADJUST_PMT  역무_이동정산기 정산지불내역   \n",
       "1            광역철도본부  KOTRIS  US_K  AAM_ADJUST_PMT  역무_이동정산기 정산지불내역   \n",
       "2            광역철도본부  KOTRIS  US_K  AAM_ADJUST_PMT  역무_이동정산기 정산지불내역   \n",
       "3            광역철도본부  KOTRIS  US_K  AAM_ADJUST_PMT  역무_이동정산기 정산지불내역   \n",
       "4            광역철도본부  KOTRIS  US_K  AAM_ADJUST_PMT  역무_이동정산기 정산지불내역   \n",
       "...     ...     ...     ...   ...             ...              ...   \n",
       "5568         광역철도본부  KOTRIS  US_K    VW_TT_KSR021                    \n",
       "5569         광역철도본부  KOTRIS  US_K    VW_TT_KSR021                    \n",
       "5570         광역철도본부  KOTRIS  US_K    VW_TT_KSR021                    \n",
       "5571         광역철도본부  KOTRIS  US_K    VW_TT_KSR021                    \n",
       "5572         광역철도본부  KOTRIS  US_K    VW_TT_KSR021                    \n",
       "\n",
       "          COLUMN_NAME 컬럼물리명FullName COMMENTS.1    컬럼설명 표준도메인그룹명 도메인분류명  \\\n",
       "0          SC_DUTY_DT                     업무일자    업무일자                   \n",
       "1      SC_SETTM_DTIME                     정산일시    정산일시                   \n",
       "2      SC_EXTN_STA_NO                    외부역번호   외부역번호                   \n",
       "3           SC_DEV_NO                     장비번호    장비번호                   \n",
       "4     SC_DEV_CLASS_CD                   장비구분코드  장비구분코드                   \n",
       "...               ...           ...        ...     ...      ...    ...   \n",
       "5568          STN_CD3                                                    \n",
       "5569           TM_MIN                                                    \n",
       "5570        DATA_TYPE                                                    \n",
       "5571       UPWN_DV_CD                                                    \n",
       "5572           IN_CNT                                                    \n",
       "\n",
       "     DATA_TYPE  DATA_LENGTH DATA_PRECISION DATA_SCALE  \n",
       "0     VARCHAR2            8                            \n",
       "1     VARCHAR2           14                            \n",
       "2       NUMBER           22              4          0  \n",
       "3       NUMBER           22              3          0  \n",
       "4     VARCHAR2            3                            \n",
       "...        ...          ...            ...        ...  \n",
       "5568  VARCHAR2            4                            \n",
       "5569    NUMBER           22                            \n",
       "5570      CHAR            1                            \n",
       "5571      CHAR            1                            \n",
       "5572    NUMBER           22                            \n",
       "\n",
       "[5573 rows x 16 columns]"
      ]
     },
     "execution_count": 88,
     "metadata": {},
     "output_type": "execute_result"
    }
   ],
   "source": [
    "data_30_광역철도수입관리시스템"
   ]
  },
  {
   "cell_type": "code",
   "execution_count": 86,
   "id": "2d899e3b",
   "metadata": {},
   "outputs": [
    {
     "data": {
      "text/html": [
       "<div>\n",
       "<style scoped>\n",
       "    .dataframe tbody tr th:only-of-type {\n",
       "        vertical-align: middle;\n",
       "    }\n",
       "\n",
       "    .dataframe tbody tr th {\n",
       "        vertical-align: top;\n",
       "    }\n",
       "\n",
       "    .dataframe thead th {\n",
       "        text-align: right;\n",
       "    }\n",
       "</style>\n",
       "<table border=\"1\" class=\"dataframe\">\n",
       "  <thead>\n",
       "    <tr style=\"text-align: right;\">\n",
       "      <th></th>\n",
       "      <th>관리부서코드*</th>\n",
       "      <th>관리부서명*</th>\n",
       "      <th>시스템명*</th>\n",
       "      <th>물리DB명*</th>\n",
       "      <th>테이블물리명*</th>\n",
       "      <th>테이블한글명*</th>\n",
       "      <th>컬럼물리명*</th>\n",
       "      <th>컬럼물리명FullName</th>\n",
       "      <th>컬럼한글명*</th>\n",
       "      <th>컬럼설명</th>\n",
       "      <th>표준도메인그룹명*</th>\n",
       "      <th>도메인분류명*</th>\n",
       "      <th>데이터타입*</th>\n",
       "      <th>데이터길이*</th>\n",
       "      <th>소수점자리</th>\n",
       "    </tr>\n",
       "  </thead>\n",
       "  <tbody>\n",
       "  </tbody>\n",
       "</table>\n",
       "</div>"
      ],
      "text/plain": [
       "Empty DataFrame\n",
       "Columns: [관리부서코드*, 관리부서명*, 시스템명*, 물리DB명*, 테이블물리명*, 테이블한글명*, 컬럼물리명*, 컬럼물리명FullName, 컬럼한글명*, 컬럼설명, 표준도메인그룹명*, 도메인분류명*, 데이터타입*, 데이터길이*, 소수점자리]\n",
       "Index: []"
      ]
     },
     "execution_count": 86,
     "metadata": {},
     "output_type": "execute_result"
    }
   ],
   "source": [
    "data_31_광역정보센터시스템"
   ]
  },
  {
   "cell_type": "code",
   "execution_count": 30,
   "id": "2019f4e0",
   "metadata": {},
   "outputs": [
    {
     "name": "stdout",
     "output_type": "stream",
     "text": [
      "(0, '01_XROIS')\n",
      "(1, '02_홍보실적관리')\n",
      "(2, '03_한국철도TV')\n",
      "(3, '04_한국철도사보')\n",
      "(4, '05_투자사업관리')\n",
      "(5, '06_사옥관리')\n",
      "(6, '07_당직관리')\n",
      "(7, '08_정보공개시스템')\n",
      "(8, '09_인사커뮤니케이션')\n",
      "(9, '10_고충처리')\n",
      "(10, '11_복지공감방')\n",
      "(11, '12_코레일텔')\n",
      "(12, '13_철도상생플랫폼')\n",
      "(13, '14_물류정보시스템')\n",
      "(14, '15_업무용차량예약')\n",
      "(15, '16_법무관리시스템')\n",
      "(16, '17_역운영시스템')\n",
      "(17, '18_표준방송시스템')\n",
      "(18, '19_승무원홈페이지')\n",
      "(19, '20_예약발매시스템')\n",
      "(20, '21_영업관리시스템')\n",
      "(21, '22_수익관리시스템')\n",
      "(22, '23_고객센터안내시스템')\n",
      "(23, '24_IRIS')\n",
      "(24, '25_TOPS')\n",
      "(25, '26_열차운전안내장치')\n",
      "(26, '27_운행정보자동분석시스템')\n",
      "(27, '28_부산진CY운영시스템')\n",
      "(28, '29_철도물류정보시스템')\n",
      "(29, '30_광역철도수입관리시스템')\n",
      "(30, '31_광역정보센터시스템')\n",
      "(31, '32_RCM시스템')\n",
      "(32, '33_기지운용시스템')\n",
      "(33, '34_TIDS')\n",
      "(34, '35_CCTV 영상정보관리')\n",
      "(35, '36_건설관리')\n",
      "(36, '37_KTX고장코드무선전송')\n",
      "(37, '38_사회공헌포털')\n",
      "(38, '39_노트북예약')\n",
      "(39, '40_국제철도정보시스템')\n",
      "(40, '41_(신)학사관리시스템')\n",
      "(41, '42_적성검사')\n",
      "(42, '43_연구개발시스템')\n"
     ]
    }
   ],
   "source": [
    "for i in zip(range(len(folder_list)), folder_list):\n",
    "    print(i)\n",
    "#     print(j)"
   ]
  },
  {
   "cell_type": "code",
   "execution_count": 27,
   "id": "15302fee",
   "metadata": {},
   "outputs": [
    {
     "name": "stdout",
     "output_type": "stream",
     "text": [
      "01_XROIS\n",
      "02_홍보실적관리\n",
      "03_한국철도TV\n",
      "04_한국철도사보\n",
      "05_투자사업관리\n",
      "06_사옥관리\n",
      "07_당직관리\n",
      "08_정보공개시스템\n",
      "09_인사커뮤니케이션\n",
      "10_고충처리\n",
      "11_복지공감방\n",
      "12_코레일텔\n",
      "13_철도상생플랫폼\n",
      "14_물류정보시스템\n",
      "15_업무용차량예약\n",
      "16_법무관리시스템\n",
      "17_역운영시스템\n",
      "18_표준방송시스템\n",
      "19_승무원홈페이지\n",
      "20_예약발매시스템\n",
      "21_영업관리시스템\n",
      "22_수익관리시스템\n",
      "23_고객센터안내시스템\n",
      "24_IRIS\n",
      "25_TOPS\n",
      "26_열차운전안내장치\n",
      "27_운행정보자동분석시스템\n",
      "28_부산진CY운영시스템\n",
      "29_철도물류정보시스템\n",
      "30_광역철도수입관리시스템\n",
      "31_광역정보센터시스템\n",
      "32_RCM시스템\n",
      "33_기지운용시스템\n",
      "34_TIDS\n",
      "35_CCTV 영상정보관리\n",
      "36_건설관리\n",
      "37_KTX고장코드무선전송\n",
      "38_사회공헌포털\n",
      "39_노트북예약\n",
      "40_국제철도정보시스템\n",
      "41_(신)학사관리시스템\n",
      "42_적성검사\n",
      "43_연구개발시스템\n"
     ]
    }
   ],
   "source": [
    "for i in folder_list:\n",
    "    lead\n",
    "    print(i)"
   ]
  },
  {
   "cell_type": "code",
   "execution_count": null,
   "id": "e92a3738",
   "metadata": {},
   "outputs": [],
   "source": []
  },
  {
   "cell_type": "code",
   "execution_count": null,
   "id": "8c70f57a",
   "metadata": {},
   "outputs": [],
   "source": [
    "# 2.중복제거 후 형태이상단어 검색"
   ]
  },
  {
   "cell_type": "code",
   "execution_count": null,
   "id": "f33cf6a4",
   "metadata": {},
   "outputs": [],
   "source": []
  },
  {
   "cell_type": "markdown",
   "id": "fb7c76f3",
   "metadata": {},
   "source": [
    "# 형태이상 단어 탐색"
   ]
  },
  {
   "cell_type": "code",
   "execution_count": null,
   "id": "02be7b60",
   "metadata": {},
   "outputs": [],
   "source": [
    "# 경로 및 파일명 설정\n",
    "path = os.path.join(os.getcwd())\n",
    "folder_list = pd.read_excel(path + \"\\\\metadata\\\\폴더명.xlsx\")['폴더명']\n",
    "folder = folder_list[10]\n",
    "folder"
   ]
  },
  {
   "cell_type": "code",
   "execution_count": null,
   "id": "2c30d199",
   "metadata": {
    "scrolled": true
   },
   "outputs": [],
   "source": [
    "# 파일 불러오기\n",
    "data_name = \"METADATA_UTF8.csv\"\n",
    "sheet_name = \"\"\n",
    "input_meta = pd.read_csv(path + \"\\\\metadata\\\\\" + folder + \"\\\\\" + data_name, na_filter=False)\n",
    "print(input_meta.shape)\n",
    "input_meta.head(5)"
   ]
  },
  {
   "cell_type": "markdown",
   "id": "52fd9198",
   "metadata": {},
   "source": [
    "### 시스템마다 전처리 로직"
   ]
  },
  {
   "cell_type": "code",
   "execution_count": null,
   "id": "25fbac9b",
   "metadata": {},
   "outputs": [],
   "source": [
    "# 데이터 소수점 전처리\n",
    "input_meta.loc[input_meta['DATA_PRECISION'] != ''] \n",
    "input_meta.loc[input_meta['DATA_PRECISION'] != '', 'DATA_LENGTH'] =  input_meta['DATA_PRECISION']\n",
    "# 컬럼명 정리\n",
    "col_list = ['관리부서코드', '관리부서명', '시스템명', '물리DB명', 'TABLE_NAME', 'COMMENTS',\n",
    "       'COLUMN_NAME', '컬럼물리명FullName', 'COMMENTS.1', '컬럼설명', '표준도메인그룹명',\n",
    "       '도메인분류명', 'DATA_TYPE', 'DATA_LENGTH', 'DATA_SCALE']\n",
    "input_meta = input_meta[col_list]\n",
    "input_meta.columns = smpl_col\n",
    "input_meta.head()"
   ]
  },
  {
   "cell_type": "code",
   "execution_count": null,
   "id": "e7d92b09",
   "metadata": {},
   "outputs": [],
   "source": [
    "input_meta"
   ]
  },
  {
   "cell_type": "code",
   "execution_count": null,
   "id": "c297e44f",
   "metadata": {},
   "outputs": [],
   "source": [
    "'aaa'.islower()"
   ]
  },
  {
   "cell_type": "code",
   "execution_count": null,
   "id": "93a169cd",
   "metadata": {},
   "outputs": [],
   "source": [
    "'Aaa'.islower() == False"
   ]
  },
  {
   "cell_type": "code",
   "execution_count": null,
   "id": "79e54e59",
   "metadata": {},
   "outputs": [],
   "source": [
    "'Aaa'.islower()"
   ]
  },
  {
   "cell_type": "code",
   "execution_count": null,
   "id": "2ad6179c",
   "metadata": {},
   "outputs": [],
   "source": [
    "'aa-_a'.islower()"
   ]
  },
  {
   "cell_type": "code",
   "execution_count": null,
   "id": "424a87a7",
   "metadata": {},
   "outputs": [],
   "source": [
    "'Aaa'.isupper()"
   ]
  },
  {
   "cell_type": "code",
   "execution_count": null,
   "id": "6945b1f2",
   "metadata": {},
   "outputs": [],
   "source": [
    "'가나다'.isupper()"
   ]
  },
  {
   "cell_type": "code",
   "execution_count": null,
   "id": "e9d47176",
   "metadata": {},
   "outputs": [],
   "source": [
    "'가a나'.isalpha()"
   ]
  },
  {
   "cell_type": "code",
   "execution_count": null,
   "id": "53b2b4de",
   "metadata": {},
   "outputs": [],
   "source": [
    "'Aaa'.isalpha()"
   ]
  },
  {
   "cell_type": "code",
   "execution_count": null,
   "id": "5e52e1eb",
   "metadata": {},
   "outputs": [],
   "source": [
    "'가나다aAa'.isalpha()"
   ]
  },
  {
   "cell_type": "code",
   "execution_count": null,
   "id": "a77e9926",
   "metadata": {},
   "outputs": [],
   "source": [
    "'가나다aAa'.islower()"
   ]
  },
  {
   "cell_type": "code",
   "execution_count": null,
   "id": "b1c898ee",
   "metadata": {},
   "outputs": [],
   "source": [
    "'가나다aAa'.isupper()"
   ]
  },
  {
   "cell_type": "code",
   "execution_count": null,
   "id": "9446cf18",
   "metadata": {},
   "outputs": [],
   "source": [
    "input_meta.loc[0, 'stwd_kor'].islower()"
   ]
  },
  {
   "cell_type": "code",
   "execution_count": null,
   "id": "982b6c71",
   "metadata": {},
   "outputs": [],
   "source": [
    "''.join(re.findall('[A-Z0-9가-힣_+]', input_meta.loc[0, '컬럼한글명*']))"
   ]
  },
  {
   "cell_type": "code",
   "execution_count": null,
   "id": "c5a89f38",
   "metadata": {},
   "outputs": [],
   "source": [
    "input_meta.loc[0, '컬럼한글명*']"
   ]
  },
  {
   "cell_type": "code",
   "execution_count": null,
   "id": "24972834",
   "metadata": {},
   "outputs": [],
   "source": []
  },
  {
   "cell_type": "code",
   "execution_count": null,
   "id": "43caea6c",
   "metadata": {},
   "outputs": [],
   "source": [
    "### 변경 now- 이거야!<단순화>\n",
    "def wd_emoti_rmv(data, col, var, kor_chk_list):\n",
    "    if var == 'kor':\n",
    "        # 한글명에 영문 소문자 탐색\n",
    "        data['stwd_kor'] = data[col]\n",
    "        globals()[\"{}\".format(kor_chk_list)] = []\n",
    "        for i in tqdm(range(len(data))):\n",
    "            \n",
    "            # 대문자 변경\n",
    "            data.loc[i, 'stwd_kor'] = data.loc[i, 'stwd_kor'].upper()\n",
    "            # 영문 대문자, 숫자, 한글만 체크\n",
    "            cor_kor = re.findall('[A-Z0-9가-힣_+]', data.loc[i, 'stwd_kor'])\n",
    "#             print(\"-----------------------------영문대문자, 숫자, 한글만 허용----------------------------|\")\n",
    "            print('index: ' + str(i))\n",
    "            print(data.loc[i, 'stwd_kor'] + \" -> \" + str(''.join(cor_kor)))\n",
    "\n",
    "            # 영문대문자, 숫자, 한글 외 자동 삭제\n",
    "            data.loc[i, 'stwd_kor'] = ''.join(cor_kor)\n",
    "            \n",
    "        # 변경 리스트 저장\n",
    "        globals()[\"{}\".format(kor_chk_list)] = data[data['컬럼한글명*'] != data['stwd_kor']].index\n",
    "        cnt = len(data[data['컬럼한글명*'] != data['stwd_kor']].index)\n",
    "        \n",
    "        # 적용 후 결과값\n",
    "        print(\"====================================한글명 검토====================================|\")\n",
    "        print(kor_chk_list)\n",
    "        print(\"자동 처리: \"+ str(cnt))\n",
    "        print('[자동 처리 완료하였습니다]')"
   ]
  },
  {
   "cell_type": "code",
   "execution_count": null,
   "id": "2f9bd17d",
   "metadata": {},
   "outputs": [],
   "source": [
    "wd_emoti_rmv(input_meta, \"컬럼한글명*\", 'kor', 'chk_kor_list')"
   ]
  },
  {
   "cell_type": "markdown",
   "id": "db8a6679",
   "metadata": {},
   "source": [
    "### 한글명 미입력 처리 제외 안하고 그냥 가기"
   ]
  },
  {
   "cell_type": "code",
   "execution_count": null,
   "id": "7f2bae35",
   "metadata": {},
   "outputs": [],
   "source": [
    "# input_meta = input_meta[input_meta['테이블한글명*'] != '']\n",
    "print(input_meta.shape)\n",
    "input_meta.head()"
   ]
  },
  {
   "cell_type": "markdown",
   "id": "37a196a4",
   "metadata": {},
   "source": [
    "### 중복제거후 수정"
   ]
  },
  {
   "cell_type": "code",
   "execution_count": null,
   "id": "f8a461d2",
   "metadata": {},
   "outputs": [],
   "source": [
    "len(input_meta.groupby(['stwd_kor']).head(1)['stwd_kor'])"
   ]
  },
  {
   "cell_type": "code",
   "execution_count": null,
   "id": "61cf8d63",
   "metadata": {},
   "outputs": [],
   "source": [
    "input_meta['stwd_spce'] = input_meta['stwd_kor']\n",
    "input_meta.head()"
   ]
  },
  {
   "cell_type": "code",
   "execution_count": null,
   "id": "65ce2833",
   "metadata": {},
   "outputs": [],
   "source": [
    "input_meta.groupby(['stwd_kor']).head(1)[['stwd_kor', 'stwd_spce']]"
   ]
  },
  {
   "cell_type": "code",
   "execution_count": null,
   "id": "b9e5eab0",
   "metadata": {},
   "outputs": [],
   "source": []
  },
  {
   "cell_type": "code",
   "execution_count": null,
   "id": "edb510c5",
   "metadata": {},
   "outputs": [],
   "source": [
    "# read & load\n",
    "\n",
    "# 파이썬 로드후 파일 실행\n",
    "def read_grip_file(data, path, file_name):\n",
    "    os.system(path + file_name + \".xlsx\")\n",
    "    globals()[file_name] = pd.read_excel(path + file_name + \".xlsx\", index_col = 0, na_filter=False)\n",
    "\n",
    "\n",
    "# 파이썬 로드 및 파일 저장 및 파일 실행\n",
    "def save_grip_file(data, path, file_name):\n",
    "    print('예) path + \"\\\\metadata\\\\\" + folder + \"\\\\01 abnormal_words_correct\", \"abnormal_words_correct\"')\n",
    "    globals()[file_name] = data\n",
    "    data.to_excel(path + file_name + \".xlsx\")\n",
    "    os.system(path + file_name + \".xlsx\")"
   ]
  },
  {
   "cell_type": "code",
   "execution_count": null,
   "id": "268163a5",
   "metadata": {},
   "outputs": [],
   "source": [
    "input_meta['테이블한글명*'].unique()"
   ]
  },
  {
   "cell_type": "code",
   "execution_count": null,
   "id": "e6c5b212",
   "metadata": {},
   "outputs": [],
   "source": [
    "input_meta['stwd_kor'].unique()"
   ]
  },
  {
   "cell_type": "code",
   "execution_count": null,
   "id": "e1c0a324",
   "metadata": {},
   "outputs": [],
   "source": [
    "save_grip_file(input_meta.loc[chk_kor_list], )"
   ]
  },
  {
   "cell_type": "code",
   "execution_count": null,
   "id": "f7415780",
   "metadata": {},
   "outputs": [],
   "source": [
    "print(len(input_meta.loc[chk_kor_list]))\n",
    "input_meta.loc[chk_kor_list]"
   ]
  },
  {
   "cell_type": "code",
   "execution_count": null,
   "id": "63f6ec89",
   "metadata": {},
   "outputs": [],
   "source": []
  },
  {
   "cell_type": "markdown",
   "id": "195bb507",
   "metadata": {},
   "source": [
    "### 한글명 null 없애기(수기로)"
   ]
  },
  {
   "cell_type": "code",
   "execution_count": null,
   "id": "7adb9cb3",
   "metadata": {},
   "outputs": [],
   "source": [
    "def emoti_rmv(data, col, var):\n",
    "    if var == 'kor':\n",
    "        # 한글명에 영문 소문자 탐색\n",
    "        data['stwd_kor'] = data[col]\n",
    "        df_lower_kor = pd.DataFrame(columns = data.columns)   \n",
    "        data['kor_lower'] = ''\n",
    "        data['kor_ec'] = ''\n",
    "        kor_chk_list = []\n",
    "        for i in range(len(data)):\n",
    "            # 영문 소문자 체크 및 기록\n",
    "            if data.loc[i, 'stwd_kor'].islower():\n",
    "                tmp = pd.DataFrame(data.iloc[i,:]).transpose()\n",
    "                df_lower_kor = pd.concat([df_lower_kor, tmp], axis=0)\n",
    "                print(\"----------------------영문 소문자 체크 및 기록--------------------|\")\n",
    "                print('index: ' + str(i))\n",
    "                print(data.loc[i, 'stwd_kor'] + \" -> \" + str(data.loc[i, 'stwd_kor'].upper()))\n",
    "                kor_chk_list.append(i)\n",
    "\n",
    "                # 영문 변경 이력 저장\n",
    "                data.loc[i, 'kor_lower'] = data.loc[i, 'stwd_kor']      \n",
    "\n",
    "                # 영문 대문자 변경\n",
    "                data.loc[i, 'stwd_kor'] = data.loc[i, 'stwd_kor'].upper()\n",
    "\n",
    "            # 영문 대문자, 숫자, 한글만 체크\n",
    "            cor_kor = re.findall('[A-Z0-9가-힣_+]', data.loc[i, 'stwd_kor'])\n",
    "            chk_kor = len(cor_kor) == len(list(data.loc[i, 'stwd_kor']))\n",
    "\n",
    "            if bool(chk_kor) == False:\n",
    "                print(\"-----------------------------특수기호제거----------------------------|\")\n",
    "                print('index: ' + str(i))\n",
    "                print(data.loc[i, 'stwd_kor'] + \" -> \" + str(''.join(cor_kor)))\n",
    "                kor_chk_list.append(i)\n",
    "\n",
    "            # 영문대문자, 숫자, 한글 외 변경 이력 저장\n",
    "            data.loc[i, 'kor_ec'] = re.sub('[A-Z0-9가-힣+]', '', data.loc[i, 'stwd_kor'])        \n",
    "\n",
    "            # 영문대문자, 숫자, 한글 외 자동 삭제\n",
    "            data.loc[i, 'stwd_kor'] = ''.join(cor_kor)\n",
    "\n",
    "        # 변경 이력 저장\n",
    "        data['kor_cor_hist'] = \"\"\n",
    "        data['kor_cor_hist'] = data['kor_lower'] + data['kor_ec']\n",
    "\n",
    "        # 적용 후 결과값\n",
    "        print(\"====================================한글명 검토====================================|\")\n",
    "        print('소문자 처리: ' + str(len(df_lower_kor)) + '개')\n",
    "        data_kor_chk_1 = data.iloc[kor_chk_list]\n",
    "        print(\"나머지 제거: \"+ str(len(kor_chk_list)))\n",
    "        print('[자동 처리 완료하였습니다]')"
   ]
  },
  {
   "cell_type": "code",
   "execution_count": null,
   "id": "b634c1ee",
   "metadata": {},
   "outputs": [],
   "source": []
  },
  {
   "cell_type": "code",
   "execution_count": null,
   "id": "8bfc8b59",
   "metadata": {},
   "outputs": [],
   "source": []
  },
  {
   "cell_type": "code",
   "execution_count": null,
   "id": "2694f994",
   "metadata": {},
   "outputs": [],
   "source": []
  },
  {
   "cell_type": "code",
   "execution_count": null,
   "id": "63c88be5",
   "metadata": {},
   "outputs": [],
   "source": []
  },
  {
   "cell_type": "code",
   "execution_count": null,
   "id": "3169a36f",
   "metadata": {},
   "outputs": [],
   "source": [
    "# 표준용어 구분자 변환 점검\n",
    "print(len('가 나 다'.split(\" \")))\n",
    "'가 나 다'.split(\" \")"
   ]
  },
  {
   "cell_type": "code",
   "execution_count": null,
   "id": "b1985d74",
   "metadata": {},
   "outputs": [],
   "source": [
    "'가 나 다'.count(\" \")"
   ]
  },
  {
   "cell_type": "markdown",
   "id": "91af4817",
   "metadata": {},
   "source": [
    "# 한글명은 notNull이어야 함\n",
    "\n",
    "작업내용:\n",
    "1. 중복제거(unique): 작업 효율성 제고\n",
    "2. 개수 매칭 -> (모든 값 채우기)\n",
    "3. 순서 매칭: ID 부여, 한글/영문\n",
    "4. 재조립( 한글명 기준)"
   ]
  },
  {
   "cell_type": "code",
   "execution_count": null,
   "id": "913adbb6",
   "metadata": {},
   "outputs": [],
   "source": [
    "\n",
    "테이블 한글명 + 컬럼 한글명 한줄 생성\n",
    "도메인 한글명 - > 도메인명 생성"
   ]
  },
  {
   "cell_type": "markdown",
   "id": "de8aded9",
   "metadata": {},
   "source": [
    "# 용어분리"
   ]
  },
  {
   "cell_type": "code",
   "execution_count": null,
   "id": "e60efc33",
   "metadata": {},
   "outputs": [],
   "source": [
    "# 파일 불러오기\n",
    "data_name = \"input_test_KORAIL\"\n",
    "sheet_name = \"테이블컬럼 입력항목 통계조사\"\n",
    "input_path = os.path.join(os.getcwd(), \"input\\\\\")\n",
    "output_path = os.path.join(os.getcwd(), \"output\\\\\")\n",
    "input_meta = pd.read_excel(input_path + data_name +\".xlsx\", sheet_name=sheet_name, header=0, na_filter=False)"
   ]
  },
  {
   "cell_type": "code",
   "execution_count": null,
   "id": "1bae4d6c",
   "metadata": {},
   "outputs": [],
   "source": [
    "# 테이블 따로(명명규칙)\n",
    "input_meta['분리된테이블한글명'] = input_meta['테이블한글명*']\n",
    "\n",
    "# 컬럼 따로(명명규칙)\n",
    "input_meta['분리된컬럼한글명'] = input_meta['컬럼한글명*']"
   ]
  },
  {
   "cell_type": "markdown",
   "id": "e69af6d2",
   "metadata": {},
   "source": [
    "# 컬럼명부터"
   ]
  },
  {
   "cell_type": "code",
   "execution_count": null,
   "id": "6d357bc2",
   "metadata": {},
   "outputs": [],
   "source": [
    "input_meta_sepa_col = pd.DataFrame(input_meta['분리된컬럼한글명'])\n",
    "input_meta_sepa_col"
   ]
  },
  {
   "cell_type": "code",
   "execution_count": null,
   "id": "b67ea4e2",
   "metadata": {},
   "outputs": [],
   "source": [
    "input_meta_sepa_col_unq = input_meta_sepa_col['분리된컬럼한글명'].unique()\n",
    "input_meta_sepa_col_unq"
   ]
  },
  {
   "cell_type": "code",
   "execution_count": null,
   "id": "599fec08",
   "metadata": {},
   "outputs": [],
   "source": [
    "zip(input_meta_sepa_col_unq, input_meta_sepa_col_unq)"
   ]
  },
  {
   "cell_type": "code",
   "execution_count": null,
   "id": "02b5d686",
   "metadata": {},
   "outputs": [],
   "source": [
    "a = pd.DataFrame(zip(input_meta_sepa_col_unq,input_meta_sepa_col_unq), columns = ['원본', '구분자입력'])\n",
    "a\n"
   ]
  },
  {
   "cell_type": "code",
   "execution_count": null,
   "id": "0bd4fcdf",
   "metadata": {},
   "outputs": [],
   "source": [
    "input_meta_sepa_col"
   ]
  },
  {
   "cell_type": "code",
   "execution_count": null,
   "id": "feb1f6a0",
   "metadata": {},
   "outputs": [],
   "source": [
    "input_meta_sepa_col.merge(on=a, how='left', left_on='분리된컬럼한글명', right_on='원본')"
   ]
  },
  {
   "cell_type": "code",
   "execution_count": null,
   "id": "578c7392",
   "metadata": {},
   "outputs": [],
   "source": [
    "pd.DataFrame([input_meta_sepa_col_unq, input_meta_sepa_col_unq])"
   ]
  },
  {
   "cell_type": "code",
   "execution_count": null,
   "id": "3ae7d19c",
   "metadata": {},
   "outputs": [],
   "source": [
    "pd.DataFrame(zip(input_meta_sepa_tbl_uniq, input_meta_sepa_tbl_uniq), columns = ['원본', '구분자입력'])"
   ]
  },
  {
   "cell_type": "code",
   "execution_count": null,
   "id": "330e9cb1",
   "metadata": {},
   "outputs": [],
   "source": [
    "pd.DataFrame([input_meta_sepa_tbl_uniq, input_meta_sepa_tbl_uniq])"
   ]
  },
  {
   "cell_type": "code",
   "execution_count": null,
   "id": "d4e3007a",
   "metadata": {},
   "outputs": [],
   "source": [
    "input_meta_sepa_tbl"
   ]
  },
  {
   "cell_type": "code",
   "execution_count": null,
   "id": "c89bc23a",
   "metadata": {},
   "outputs": [],
   "source": [
    "input_meta_sepa_tbl.iloc[:,0]"
   ]
  },
  {
   "cell_type": "code",
   "execution_count": null,
   "id": "62de5607",
   "metadata": {},
   "outputs": [],
   "source": [
    "pd.DataFrame(columns = input_meta_sepa_tbl.columns)"
   ]
  },
  {
   "cell_type": "code",
   "execution_count": null,
   "id": "8c635024",
   "metadata": {},
   "outputs": [],
   "source": [
    "input_meta_sepa_tbl = input_meta_sepa_tbl.fillna('')"
   ]
  },
  {
   "cell_type": "code",
   "execution_count": null,
   "id": "d3990f7d",
   "metadata": {},
   "outputs": [],
   "source": [
    "emoti_rmv(input_meta_sepa_tbl, '분리된테이블한글명', 'kor')"
   ]
  },
  {
   "cell_type": "code",
   "execution_count": null,
   "id": "7105606a",
   "metadata": {},
   "outputs": [],
   "source": [
    "input_meta_sepa_tbl['stwd_kor'] = input_meta_sepa_tbl['분리된테이블한글명']\n",
    "input_meta_sepa_tbl['stwd_kor']"
   ]
  },
  {
   "cell_type": "code",
   "execution_count": null,
   "id": "26e93074",
   "metadata": {},
   "outputs": [],
   "source": [
    "def emoti_rmv(data, col, var):\n",
    "    if var == 'kor':\n",
    "        # 한글명에 영문 소문자 탐색\n",
    "        data['stwd_kor'] = data[col]\n",
    "        df_lower_kor = pd.DataFrame(columns = data.columns)   \n",
    "        data['kor_lower'] = ''\n",
    "        data['kor_ec'] = ''\n",
    "        kor_chk_list = []\n",
    "        for i in range(len(data)):\n",
    "            # 영문 소문자 체크 및 기록\n",
    "            if data.loc[i, 'stwd_kor'].islower():\n",
    "                tmp = pd.DataFrame(data.iloc[i,:]).transpose()\n",
    "                df_lower_kor = pd.concat([df_lower_kor, tmp], axis=0)\n",
    "                print(\"----------------------영문 소문자 체크 및 기록--------------------|\")\n",
    "                print('index: ' + str(i))\n",
    "                print(data.loc[i, 'stwd_kor'] + \" -> \" + str(data.loc[i, 'stwd_kor'].upper()))\n",
    "                kor_chk_list.append(i)\n",
    "\n",
    "                # 영문 변경 이력 저장\n",
    "                data.loc[i, 'kor_lower'] = data.loc[i, 'stwd_kor']      \n",
    "\n",
    "                # 영문 대문자 변경\n",
    "                data.loc[i, 'stwd_kor'] = data.loc[i, 'stwd_kor'].upper()\n",
    "\n",
    "            # 영문 대문자, 숫자, 한글만 체크\n",
    "            cor_kor = re.findall('[A-Z0-9가-힣_+]', data.loc[i, 'stwd_kor'])\n",
    "            chk_kor = len(cor_kor) == len(list(data.loc[i, 'stwd_kor']))\n",
    "\n",
    "            if bool(chk_kor) == False:\n",
    "                print(\"-----------------------------특수기호제거----------------------------|\")\n",
    "                print('index: ' + str(i))\n",
    "                print(data.loc[i, 'stwd_kor'] + \" -> \" + str(''.join(cor_kor)))\n",
    "                kor_chk_list.append(i)\n",
    "\n",
    "            # 영문대문자, 숫자, 한글 외 변경 이력 저장\n",
    "            data.loc[i, 'kor_ec'] = re.sub('[A-Z0-9가-힣+]', '', data.loc[i, 'stwd_kor'])        \n",
    "\n",
    "            # 영문대문자, 숫자, 한글 외 자동 삭제\n",
    "            data.loc[i, 'stwd_kor'] = ''.join(cor_kor)\n",
    "\n",
    "        # 변경 이력 저장\n",
    "        data['kor_cor_hist'] = \"\"\n",
    "        data['kor_cor_hist'] = data['kor_lower'] + data['kor_ec']\n",
    "\n",
    "        # 적용 후 결과값\n",
    "        print(\"====================================한글명 검토====================================|\")\n",
    "        print('소문자 처리: ' + str(len(df_lower_kor)) + '개')\n",
    "        data_kor_chk_1 = data.iloc[kor_chk_list]\n",
    "        print(\"나머지 제거: \"+ str(len(kor_chk_list)))\n",
    "        print('[자동 처리 완료하였습니다]')"
   ]
  },
  {
   "cell_type": "code",
   "execution_count": null,
   "id": "9bbf3225",
   "metadata": {},
   "outputs": [],
   "source": []
  },
  {
   "cell_type": "code",
   "execution_count": null,
   "id": "4acb4650",
   "metadata": {},
   "outputs": [],
   "source": [
    "globals()[\"{}\".format(nameof(stwd_total))] = rw_data\n",
    "def emoti_chk(var):\n",
    "    if var == 'kor':\n",
    "        # 한글명에 영문 소문자 탐색\n",
    "        stwd_total = globals()['stwd_total']\n",
    "        df_lower_kor = pd.DataFrame(columns = stwd_total.columns)        \n",
    "        stwd_total['kor_lower'] = ''\n",
    "        stwd_total['kor_ec'] = ''\n",
    "        kor_chk_list = []\n",
    "        for i in range(len(stwd_total)):\n",
    "        #     특수기호 제거\n",
    "        #     stwd_total.loc[i, 'stwd_kor'] =  stwd_total.loc[i, 'stwd_kor'].translate(str.maketrans('', '', string.punctuation))\n",
    "\n",
    "            # 영문 소문자 체크 및 기록\n",
    "            if stwd_total.loc[i, 'stwd_kor'].islower():\n",
    "                tmp = pd.DataFrame(stwd_total.iloc[i,:]).transpose()\n",
    "                df_lower_kor = pd.concat([df_lower_kor, tmp], axis=0)\n",
    "                print(\"----------------------영문 소문자 체크 및 기록--------------------|\")\n",
    "                print('index: ' + str(i))\n",
    "                print(stwd_total.loc[i, 'stwd_kor'] + \" -> \" + str(stwd_total.loc[i, 'stwd_kor'].upper()))\n",
    "                kor_chk_list.append(i)\n",
    "\n",
    "                # 영문 변경 이력 저장\n",
    "                stwd_total.loc[i, 'kor_lower'] = stwd_total.loc[i, 'stwd_kor']      \n",
    "\n",
    "                # 영문 대문자 변경\n",
    "                stwd_total.loc[i, 'stwd_kor'] = stwd_total.loc[i, 'stwd_kor'].upper()\n",
    "\n",
    "            # 영문 대문자, 숫자, 한글만 체크\n",
    "            cor_kor = re.findall('[A-Z0-9가-힣+]', stwd_total.loc[i, 'stwd_kor'])\n",
    "            chk_kor = len(cor_kor) == len(list(stwd_total.loc[i, 'stwd_kor']))\n",
    "\n",
    "            if bool(chk_kor) == False:\n",
    "                print(\"-----------------------------특수기호제거----------------------------|\")\n",
    "                print('index: ' + str(i))\n",
    "                print(stwd_total.loc[i, 'stwd_kor'] + \" -> \" + str(''.join(cor_kor)))\n",
    "                kor_chk_list.append(i)\n",
    "\n",
    "            # 영문대문자, 숫자, 한글 외 변경 이력 저장\n",
    "            stwd_total.loc[i, 'kor_ec'] = re.sub('[A-Z0-9가-힣+]', '', stwd_total.loc[i, 'stwd_kor'])        \n",
    "\n",
    "            # 영문대문자, 숫자, 한글 외 자동 삭제\n",
    "            stwd_total.loc[i, 'stwd_kor'] = ''.join(cor_kor)\n",
    "\n",
    "        # 변경 이력 저장\n",
    "        stwd_total['kor_cor_hist'] = \"\"\n",
    "        stwd_total['kor_cor_hist'] = stwd_total['kor_lower'] + stwd_total['kor_ec']\n",
    "\n",
    "        # 적용 후 결과값\n",
    "        print(\"====================================한글명 검토====================================|\")\n",
    "        print('소문자 처리: ' + str(len(df_lower_kor)) + '개')\n",
    "        stwd_total_kor_chk_1 = stwd_total.iloc[kor_chk_list]\n",
    "        print(\"나머지 제거: \"+ str(len(kor_chk_list)))\n",
    "        print('[자동 처리 완료하였습니다]')\n",
    "\n",
    "    elif var == 'eng':\n",
    "        # 영문명에 영문 소문자 탐색\n",
    "        stwd_total = globals()['stwd_total']\n",
    "        df_lower_eng = pd.DataFrame(columns = stwd_total.columns)        \n",
    "        stwd_total['eng_lower'] = ''\n",
    "        stwd_total['eng_ec'] = ''\n",
    "        eng_chk_list = []\n",
    "        for i in range(len(stwd_total)):\n",
    "\n",
    "            # 영문 소문자 체크 및 기록\n",
    "            if stwd_total.loc[i, 'stwd_eng'].islower():\n",
    "                tmp = pd.DataFrame(stwd_total.iloc[i,:]).transpose()\n",
    "                df_lower_eng = pd.concat([df_lower_eng, tmp], axis=0)\n",
    "                print(\"----------------------영문 소문자 체크 및 기록--------------------|\")\n",
    "                print('index: ' + str(i))\n",
    "                print(stwd_total.loc[i, 'stwd_eng'] + \" -> \" + str(stwd_total.loc[i, 'stwd_eng'].upper()))\n",
    "                eng_chk_list.append(i)\n",
    "\n",
    "                # 영문 변경 이력 저장\n",
    "                stwd_total.loc[i, 'eng_lower'] = stwd_total.loc[i, 'stwd_eng']      \n",
    "\n",
    "                # 영문 대문자 변경\n",
    "                stwd_total.loc[i, 'stwd_eng'] = stwd_total.loc[i, 'stwd_eng'].upper()\n",
    "\n",
    "            # 영문 대문자, 숫자, 한글만 체크\n",
    "            cor_eng = re.findall('[A-Z0-9+]', stwd_total.loc[i, 'stwd_eng'])\n",
    "            chk_eng = len(cor_eng) == len(list(stwd_total.loc[i, 'stwd_eng']))\n",
    "\n",
    "            if bool(chk_eng) == False:\n",
    "                print(\"-----------------------------특수기호제거----------------------------|\")\n",
    "                print('index: ' + str(i))\n",
    "                print(stwd_total.loc[i, 'stwd_eng'] + \" -> \" + str(''.join(cor_eng)))\n",
    "                eng_chk_list.append(i)\n",
    "\n",
    "            # 영문대문자, 숫자 외 변경 이력 저장\n",
    "            stwd_total.loc[i, 'eng_ec'] = re.sub('[A-Z0-9+]', '', stwd_total.loc[i, 'stwd_eng'])        \n",
    "\n",
    "            # 영문대문자, 숫자 외 자동 삭제\n",
    "            stwd_total.loc[i, 'stwd_eng'] = ''.join(cor_eng)\n",
    "\n",
    "        # 변경 이력 저장\n",
    "        stwd_total['eng_cor_hist'] = ''\n",
    "        stwd_total['eng_cor_hist'] = stwd_total['eng_lower'] + stwd_total['eng_ec']\n",
    "\n",
    "        # 적용 후 결과값\n",
    "        print(\"====================================영문명 검토====================================|\")\n",
    "        print('소문자 처리: ' + str(len(df_lower_eng)) + '개')\n",
    "        stwd_total_eng_chk_1 = stwd_total.iloc[eng_chk_list]\n",
    "        print(\"나머지 제거: \"+ str(len(eng_chk_list)))\n",
    "        print('[자동 처리 완료하였습니다]')\n",
    "        \n",
    "    else:\n",
    "        print(\"잘못된 입력입니다( 'kor' / 'eng' )\")"
   ]
  },
  {
   "cell_type": "code",
   "execution_count": null,
   "id": "02559198",
   "metadata": {},
   "outputs": [],
   "source": [
    "def emoti_rmv(data, col, var):\n",
    "    if var == 'kor':\n",
    "        # 한글명에 영문 소문자 탐색\n",
    "        data['stwd_kor'] = data[col]\n",
    "        df_lower_kor = pd.DataFrame(columns = data.columns)   \n",
    "        data['kor_lower'] = ''\n",
    "        data['kor_ec'] = ''\n",
    "        kor_chk_list = []\n",
    "        \n",
    "        for i in range(len(data)):\n",
    "            # 영문 소문자 체크 및 기록\n",
    "            if data.loc[i, 'stwd_kor'].islower():\n",
    "                tmp = pd.DataFrame(data.iloc[i,:]).transpose()\n",
    "                df_lower_kor = pd.concat([df_lower_kor, tmp], axis=0)\n",
    "                print(\"----------------------영문 소문자 체크 및 기록--------------------|\")\n",
    "                print('index: ' + str(i))\n",
    "                print(data.loc[i, 'stwd_kor'] + \" -> \" + str(data.loc[i, 'stwd_kor'].upper()))\n",
    "                kor_chk_list.append(i)\n",
    "\n",
    "                # 영문 변경 이력 저장\n",
    "                data.loc[i, 'kor_lower'] = data.loc[i, 'stwd_kor']      \n",
    "\n",
    "                # 영문 대문자 변경\n",
    "                data.loc[i, 'stwd_kor'] = data.loc[i, 'stwd_kor'].upper()\n",
    "\n",
    "            # 영문 대문자, 숫자, 한글만 체크\n",
    "            cor_kor = re.findall('[A-Z0-9가-힣+]', data.loc[i, 'stwd_kor'])\n",
    "            chk_kor = len(cor_kor) == len(list(data.loc[i, 'stwd_kor']))\n",
    "\n",
    "            if bool(chk_kor) == False:\n",
    "                print(\"-----------------------------특수기호제거----------------------------|\")\n",
    "                print('index: ' + str(i))\n",
    "                print(data.loc[i, 'stwd_kor'] + \" -> \" + str(''.join(cor_kor)))\n",
    "                kor_chk_list.append(i)\n",
    "\n",
    "            # 영문대문자, 숫자, 한글 외 변경 이력 저장\n",
    "            data.loc[i, 'kor_ec'] = re.sub('[A-Z0-9가-힣+]', '', data.loc[i, 'stwd_kor'])        \n",
    "\n",
    "            # 영문대문자, 숫자, 한글 외 자동 삭제\n",
    "            data.loc[i, 'stwd_kor'] = ''.join(cor_kor)\n",
    "\n",
    "        # 변경 이력 저장\n",
    "        data['kor_cor_hist'] = \"\"\n",
    "        data['kor_cor_hist'] = data['kor_lower'] + data['kor_ec']\n",
    "\n",
    "        # 적용 후 결과값\n",
    "        print(\"====================================한글명 검토====================================|\")\n",
    "        print('소문자 처리: ' + str(len(df_lower_kor)) + '개')\n",
    "        data_kor_chk_1 = data.iloc[kor_chk_list]\n",
    "        print(\"나머지 제거: \"+ str(len(kor_chk_list)))\n",
    "        print('[자동 처리 완료하였습니다]')\n",
    "        \n",
    "\n",
    "        print(data)\n",
    "        print(1)"
   ]
  },
  {
   "cell_type": "code",
   "execution_count": null,
   "id": "181936b5",
   "metadata": {},
   "outputs": [],
   "source": []
  },
  {
   "cell_type": "code",
   "execution_count": null,
   "id": "631ce329",
   "metadata": {},
   "outputs": [],
   "source": [
    "globals()[\"{}\".format(nameof(stwd_total))] = rw_data\n",
    "def emoti_chk(var):\n",
    "    if var == 'kor':\n",
    "        # 한글명에 영문 소문자 탐색\n",
    "        stwd_total = globals()['stwd_total']\n",
    "        df_lower_kor = pd.DataFrame(columns = stwd_total.columns)        \n",
    "        stwd_total['kor_lower'] = ''\n",
    "        stwd_total['kor_ec'] = ''\n",
    "        kor_chk_list = []\n",
    "        for i in range(len(stwd_total)):\n",
    "        #     특수기호 제거\n",
    "        #     stwd_total.loc[i, 'stwd_kor'] =  stwd_total.loc[i, 'stwd_kor'].translate(str.maketrans('', '', string.punctuation))\n",
    "\n",
    "            # 영문 소문자 체크 및 기록\n",
    "            if stwd_total.loc[i, 'stwd_kor'].islower():\n",
    "                tmp = pd.DataFrame(stwd_total.iloc[i,:]).transpose()\n",
    "                df_lower_kor = pd.concat([df_lower_kor, tmp], axis=0)\n",
    "                print(\"----------------------영문 소문자 체크 및 기록--------------------|\")\n",
    "                print('index: ' + str(i))\n",
    "                print(stwd_total.loc[i, 'stwd_kor'] + \" -> \" + str(stwd_total.loc[i, 'stwd_kor'].upper()))\n",
    "                kor_chk_list.append(i)\n",
    "\n",
    "                # 영문 변경 이력 저장\n",
    "                stwd_total.loc[i, 'kor_lower'] = stwd_total.loc[i, 'stwd_kor']      \n",
    "\n",
    "                # 영문 대문자 변경\n",
    "                stwd_total.loc[i, 'stwd_kor'] = stwd_total.loc[i, 'stwd_kor'].upper()\n",
    "\n",
    "            # 영문 대문자, 숫자, 한글만 체크\n",
    "            cor_kor = re.findall('[A-Z0-9가-힣+]', stwd_total.loc[i, 'stwd_kor'])\n",
    "            chk_kor = len(cor_kor) == len(list(stwd_total.loc[i, 'stwd_kor']))\n",
    "\n",
    "            if bool(chk_kor) == False:\n",
    "                print(\"-----------------------------특수기호제거----------------------------|\")\n",
    "                print('index: ' + str(i))\n",
    "                print(stwd_total.loc[i, 'stwd_kor'] + \" -> \" + str(''.join(cor_kor)))\n",
    "                kor_chk_list.append(i)\n",
    "\n",
    "            # 영문대문자, 숫자, 한글 외 변경 이력 저장\n",
    "            stwd_total.loc[i, 'kor_ec'] = re.sub('[A-Z0-9가-힣+]', '', stwd_total.loc[i, 'stwd_kor'])        \n",
    "\n",
    "            # 영문대문자, 숫자, 한글 외 자동 삭제\n",
    "            stwd_total.loc[i, 'stwd_kor'] = ''.join(cor_kor)\n",
    "\n",
    "        # 변경 이력 저장\n",
    "        stwd_total['kor_cor_hist'] = \"\"\n",
    "        stwd_total['kor_cor_hist'] = stwd_total['kor_lower'] + stwd_total['kor_ec']\n",
    "\n",
    "        # 적용 후 결과값\n",
    "        print(\"====================================한글명 검토====================================|\")\n",
    "        print('소문자 처리: ' + str(len(df_lower_kor)) + '개')\n",
    "        stwd_total_kor_chk_1 = stwd_total.iloc[kor_chk_list]\n",
    "        print(\"나머지 제거: \"+ str(len(kor_chk_list)))\n",
    "        print('[자동 처리 완료하였습니다]')\n",
    "\n",
    "    elif var == 'eng':\n",
    "        # 영문명에 영문 소문자 탐색\n",
    "        stwd_total = globals()['stwd_total']\n",
    "        df_lower_eng = pd.DataFrame(columns = stwd_total.columns)        \n",
    "        stwd_total['eng_lower'] = ''\n",
    "        stwd_total['eng_ec'] = ''\n",
    "        eng_chk_list = []\n",
    "        for i in range(len(stwd_total)):\n",
    "\n",
    "            # 영문 소문자 체크 및 기록\n",
    "            if stwd_total.loc[i, 'stwd_eng'].islower():\n",
    "                tmp = pd.DataFrame(stwd_total.iloc[i,:]).transpose()\n",
    "                df_lower_eng = pd.concat([df_lower_eng, tmp], axis=0)\n",
    "                print(\"----------------------영문 소문자 체크 및 기록--------------------|\")\n",
    "                print('index: ' + str(i))\n",
    "                print(stwd_total.loc[i, 'stwd_eng'] + \" -> \" + str(stwd_total.loc[i, 'stwd_eng'].upper()))\n",
    "                eng_chk_list.append(i)\n",
    "\n",
    "                # 영문 변경 이력 저장\n",
    "                stwd_total.loc[i, 'eng_lower'] = stwd_total.loc[i, 'stwd_eng']      \n",
    "\n",
    "                # 영문 대문자 변경\n",
    "                stwd_total.loc[i, 'stwd_eng'] = stwd_total.loc[i, 'stwd_eng'].upper()\n",
    "\n",
    "            # 영문 대문자, 숫자, 한글만 체크\n",
    "            cor_eng = re.findall('[A-Z0-9+]', stwd_total.loc[i, 'stwd_eng'])\n",
    "            chk_eng = len(cor_eng) == len(list(stwd_total.loc[i, 'stwd_eng']))\n",
    "\n",
    "            if bool(chk_eng) == False:\n",
    "                print(\"-----------------------------특수기호제거----------------------------|\")\n",
    "                print('index: ' + str(i))\n",
    "                print(stwd_total.loc[i, 'stwd_eng'] + \" -> \" + str(''.join(cor_eng)))\n",
    "                eng_chk_list.append(i)\n",
    "\n",
    "            # 영문대문자, 숫자 외 변경 이력 저장\n",
    "            stwd_total.loc[i, 'eng_ec'] = re.sub('[A-Z0-9+]', '', stwd_total.loc[i, 'stwd_eng'])        \n",
    "\n",
    "            # 영문대문자, 숫자 외 자동 삭제\n",
    "            stwd_total.loc[i, 'stwd_eng'] = ''.join(cor_eng)\n",
    "\n",
    "        # 변경 이력 저장\n",
    "        stwd_total['eng_cor_hist'] = ''\n",
    "        stwd_total['eng_cor_hist'] = stwd_total['eng_lower'] + stwd_total['eng_ec']\n",
    "\n",
    "        # 적용 후 결과값\n",
    "        print(\"====================================영문명 검토====================================|\")\n",
    "        print('소문자 처리: ' + str(len(df_lower_eng)) + '개')\n",
    "        stwd_total_eng_chk_1 = stwd_total.iloc[eng_chk_list]\n",
    "        print(\"나머지 제거: \"+ str(len(eng_chk_list)))\n",
    "        print('[자동 처리 완료하였습니다]')\n",
    "        \n",
    "    else:\n",
    "        print(\"잘못된 입력입니다( 'kor' / 'eng' )\")"
   ]
  },
  {
   "cell_type": "code",
   "execution_count": null,
   "id": "5eca18c6",
   "metadata": {},
   "outputs": [],
   "source": []
  },
  {
   "cell_type": "code",
   "execution_count": null,
   "id": "d4e3b0c0",
   "metadata": {},
   "outputs": [],
   "source": []
  },
  {
   "cell_type": "code",
   "execution_count": null,
   "id": "68291220",
   "metadata": {},
   "outputs": [],
   "source": [
    "# # 파일 불러오기\n",
    "# sheet_name = \"테이블컬럼정의서\"\n",
    "# input_path = os.path.join(os.getcwd(), \"input\\\\\")\n",
    "# output_path = os.path.join(os.getcwd(), \"output\\\\\")\n",
    "# input_meta = pd.read_excel(input_path+\"표준화 INPUT 정의서.xlsx\", sheet_name=sheet_name, header=0, na_filter=False)\n",
    "\n",
    "# # null string \"\"로 변환\n",
    "# for i in range(len(input_meta.columns)):\n",
    "#     input_meta[input_meta.columns[i]] = input_meta[input_meta.columns[i]].fillna(\"\")\n",
    "# input_meta['기관ID'] = input_meta['물리DB명*'] + \"_\" + input_meta['관리부서명*']\n",
    "# print(input_meta.shape)\n",
    "# input_meta.head(5)"
   ]
  },
  {
   "cell_type": "code",
   "execution_count": null,
   "id": "8b4486de",
   "metadata": {},
   "outputs": [],
   "source": [
    "input_meta"
   ]
  },
  {
   "cell_type": "markdown",
   "id": "61d591ec",
   "metadata": {},
   "source": [
    "### 값 검색 로직"
   ]
  },
  {
   "cell_type": "code",
   "execution_count": null,
   "id": "42bf6164",
   "metadata": {},
   "outputs": [],
   "source": [
    "# 널 체크\n",
    "blnk_chk(input_meta)"
   ]
  },
  {
   "cell_type": "code",
   "execution_count": null,
   "id": "e4e04472",
   "metadata": {},
   "outputs": [],
   "source": [
    "input_meta_tbl"
   ]
  },
  {
   "cell_type": "code",
   "execution_count": null,
   "id": "041cb233",
   "metadata": {},
   "outputs": [],
   "source": [
    "len(input_meta_tbl.columns)"
   ]
  },
  {
   "cell_type": "code",
   "execution_count": null,
   "id": "8149f534",
   "metadata": {
    "scrolled": true
   },
   "outputs": [],
   "source": [
    "# 테이블 유니크 선벌(그룹바이)\n",
    "input_meta_tbl = input_meta.groupby(['테이블물리명*', '테이블한글명*']).head(1)\n",
    "# 불필요 값 없애기\n",
    "\n",
    "for i in range(6,14):\n",
    "    input_meta_tbl.iloc[:,i] = ''\n",
    "input_meta_tbl"
   ]
  },
  {
   "cell_type": "code",
   "execution_count": null,
   "id": "d3bb32bc",
   "metadata": {},
   "outputs": [],
   "source": [
    "# 불필요 컬럼 빼기\n",
    "excpt_col = ['컬럼물리명*', '컬럼영문약어명*', '컬럼한글명*', '분리된컬럼한글명*']\n",
    "excpt_tbl = ['테이블물리명*', '테이블영문약어명*', '테이블한글명*', '분리된테이블한글명*']\n",
    "\n",
    "# 컬럼명 추림\n",
    "brief_col(input_meta_tbl, excpt_col, 'pick_tbl')\n",
    "brief_col(input_meta, excpt_tbl, 'pick_col')\n",
    "\n",
    "# 용어명 컬럼 추가\n",
    "pick_tbl['용어명'] = pick_tbl['테이블한글명*']\n",
    "pick_col['용어명'] = pick_col['컬럼한글명*']\n",
    "pick_tbl"
   ]
  },
  {
   "cell_type": "code",
   "execution_count": null,
   "id": "c0353e34",
   "metadata": {},
   "outputs": [],
   "source": [
    "# 컬럼명 변경\n",
    "modify_col = ['물리DB명*', '관리부서명*', '테이블물리명*', '영문약어명', '테이블한글명*', '용어명 분리', \n",
    "              '표준도메인 그룹명*', '도메인분류명', '데이터타입*', '데이터길이*', '기관ID', '용어명']\n",
    "cor_col(pick_tbl, pick_tbl.columns, modify_col, 'pick_tbl')\n",
    "modify_col = ['물리DB명*', '관리부서명*', '컬럼물리명*', '영문약어명', '컬럼한글명*', '용어명 분리', \n",
    "              '표준도메인 그룹명*', '도메인분류명', '데이터타입*', '데이터길이*', '기관ID', '용어명']\n",
    "cor_col(pick_col, pick_col.columns, modify_col, 'pick_col')\n",
    "\n",
    "# TBL/COL 기록\n",
    "pick_col[\"TBL/COL\"] = \"COL\"\n",
    "pick_tbl[\"TBL/COL\"] = \"TBL\""
   ]
  },
  {
   "cell_type": "code",
   "execution_count": null,
   "id": "51be6cef",
   "metadata": {},
   "outputs": [],
   "source": [
    "# null 제거 및 컬럼(순서) 선택\n",
    "pick_total = pd.concat([pick_col, pick_tbl]).fillna(\"\")\n",
    "pick_total_col = ['물리DB명*', '관리부서명*',  '테이블물리명*', '테이블한글명*', '컬럼물리명*', '컬럼한글명*', \n",
    "                  '용어명', '용어명 분리', '영문약어명', \n",
    "                  '표준도메인 그룹명*', '도메인분류명', '데이터타입*', '데이터길이*', '기관ID', 'TBL/COL']\n",
    "cor_col(pick_total, pick_total_col, pick_total_col, 'pick_total')\n",
    "# 인덱스 초기화\n",
    "pick_total = pick_total.reset_index(drop=True)\n",
    "print(pick_total.shape)\n",
    "pick_total.head()"
   ]
  },
  {
   "cell_type": "markdown",
   "id": "81f6df24",
   "metadata": {},
   "source": [
    "#### . 파일 불러오기"
   ]
  },
  {
   "cell_type": "code",
   "execution_count": null,
   "id": "e06b9d94",
   "metadata": {},
   "outputs": [],
   "source": [
    "# # 파일 불러오기\n",
    "# # test_emoti_dup_korDup\n",
    "# sheet_name = \"input_test\"\n",
    "# input_path = os.path.join(os.getcwd(), \"input\\\\\")\n",
    "# output_path = os.path.join(os.getcwd(), \"output\\\\\")\n",
    "# # input_test = pd.read_excel(input_path+\"test_emoti_dup_korDup.xlsx\", sheet_name=sheet_name, header=0)\n",
    "# input_test = pd.read_excel(input_path+\"test_final.xlsx\", sheet_name=sheet_name, header=0)\n",
    "# # test_final.xlsx\n",
    "# # null 제거\n",
    "# for i in range(len(input_test.columns)):\n",
    "#     input_test[input_test.columns[i]] = input_test[input_test.columns[i]].fillna(\"\")\n",
    "# print(input_test.shape)\n",
    "# input_test.head(5)"
   ]
  },
  {
   "cell_type": "markdown",
   "id": "0f2ede36",
   "metadata": {},
   "source": [
    "### 추가 1) 메타데이터 띄움처리 전 중복 제거..\n",
    "### 추가 2) 한글명 notnull vs null 분리하여 notnull만 관리(null: 파일 생성 및 기입 요청)\n",
    "### 추가 3.1) 한글 용어 점검 기능: 한글명+영문명+숫자조합 가능), 그외 모두 제거\n",
    "### 추가 3.2) 한글 단어 점검 기능: 한글명(숫자조합 가능), 영문명만(숫자조합 가능) 그외 모두 제거\n",
    "### 추가 4) 테이블기준 상세항목 정의하기.. "
   ]
  },
  {
   "cell_type": "markdown",
   "id": "72962e36",
   "metadata": {},
   "source": [
    "# 2. 용어 분리"
   ]
  },
  {
   "cell_type": "markdown",
   "id": "6eaf6e0d",
   "metadata": {},
   "source": [
    "### 용어명 변경"
   ]
  },
  {
   "cell_type": "code",
   "execution_count": null,
   "id": "bd866a38",
   "metadata": {},
   "outputs": [],
   "source": [
    "input_meta_spce = pick_total.copy()\n",
    "input_meta_spce['영문약어명'] = ''\n",
    "input_meta_spce['용어명 분리'] = ''\n",
    "input_meta_spce.head()"
   ]
  },
  {
   "cell_type": "code",
   "execution_count": null,
   "id": "0f66b915",
   "metadata": {},
   "outputs": [],
   "source": [
    "rmv_spce(input_meta_spce, 'col', '용어명')\n",
    "rmv_spce(input_meta_spce, 'col', '영문약어명')\n",
    "rmv_spce(input_meta_spce, 'col', '용어명 분리')"
   ]
  },
  {
   "cell_type": "code",
   "execution_count": null,
   "id": "0a753dca",
   "metadata": {},
   "outputs": [],
   "source": [
    "컬럼한글명 유니크!! - 용어명이 KEY값임\n",
    "out 후 적용\n",
    "수정 후 적용 - 한글명기준(인덱스 무시)\n",
    "중복 검사\n",
    "1. 컬럼한글명 유니크 수 == 컬럼한글명&&분리된컬럼한글명 유니크 수\n",
    "# ->단어 변환 후 검사 노!!!!!!!!! 여기서는 1차 분리임!!!!!!!!!\n",
    "\n",
    "검사?"
   ]
  },
  {
   "cell_type": "markdown",
   "id": "d4bfef48",
   "metadata": {},
   "source": [
    "### 컬럼한글명 유니크 생성"
   ]
  },
  {
   "cell_type": "code",
   "execution_count": null,
   "id": "cdbd529d",
   "metadata": {},
   "outputs": [],
   "source": [
    "input_meta_dict = input_meta_spce.groupby('용어명').head(1)[['용어명','용어명 분리', '영문약어명', 'TBL/COL']].reset_index(drop=True)\n",
    "print(input_meta_dict.shape)\n",
    "input_meta_dict.head()"
   ]
  },
  {
   "cell_type": "code",
   "execution_count": null,
   "id": "9a3abe45",
   "metadata": {},
   "outputs": [],
   "source": [
    "# 저장\n",
    "input_meta_dict.to_excel(output_path + 'input_meta_space.xlsx')"
   ]
  },
  {
   "cell_type": "code",
   "execution_count": null,
   "id": "32a47703",
   "metadata": {},
   "outputs": [],
   "source": [
    "input_meta_dict = pd.read_excel(output_path + 'input_meta_space.xlsx', header=0, index_col=0, na_filter=False)\n",
    "print(input_meta_dict.shape)\n",
    "input_meta_dict.head()"
   ]
  },
  {
   "cell_type": "code",
   "execution_count": null,
   "id": "7666c435",
   "metadata": {},
   "outputs": [],
   "source": [
    "cmpar(input_meta_dict, '용어명', '용어명 분리')\n",
    "cmpar(input_meta_dict, '용어명', '영문약어명')"
   ]
  },
  {
   "cell_type": "markdown",
   "id": "10060a52",
   "metadata": {},
   "source": [
    "# 분리 시작"
   ]
  },
  {
   "cell_type": "code",
   "execution_count": null,
   "id": "a4bc9771",
   "metadata": {},
   "outputs": [],
   "source": [
    "# 인터페이스 No\n",
    "input_test = pick_total.copy()\n",
    "input_test['No'] = [*range(len(input_test))]\n",
    "input_test.columns"
   ]
  },
  {
   "cell_type": "code",
   "execution_count": null,
   "id": "5332d4f0",
   "metadata": {},
   "outputs": [],
   "source": [
    "# 인덱스 DF 초기화\n",
    "df_index = pd.DataFrame(input_test['No'])\n",
    "df_index.columns = ['index']"
   ]
  },
  {
   "cell_type": "code",
   "execution_count": null,
   "id": "07149992",
   "metadata": {},
   "outputs": [],
   "source": [
    "# 용어명 분리\n",
    "\n",
    "# 용어명 분리\n",
    "input_split_kor = pd.DataFrame(input_test['용어명 분리'].str.split('_').tolist()).fillna(\"\")\n",
    "\n",
    "# 영문명 없을 경우 대비하여 cnt 집계\n",
    "kor_firts_cnt = len(input_split_kor.columns)\n",
    "\n",
    "# 컬럼명 입력\n",
    "col_list_kor = []\n",
    "for i in range(len(input_split_kor.columns)):\n",
    "    col_list_kor.append(\"stwd_kor{}\".format(i))\n",
    "input_split_kor.columns = col_list_kor\n",
    "\n",
    "# 한글 개수 세기\n",
    "dupl_list_kor = []\n",
    "dupl_cnt_kor = []\n",
    "for i in range(kor_firts_cnt):\n",
    "    globals()[\"dupl_list_kor{}\".format(i)] = []\n",
    "    for j in range(len(input_split_kor[\"stwd_kor{}\".format(i)])):\n",
    "        dupl_list_kor = input_split_kor[\"stwd_kor{}\".format(i)].to_list().count(input_split_kor[\"stwd_kor{}\".format(i)][j])\n",
    "        globals()[\"dupl_list_kor{}\".format(i)].append(dupl_list_kor)\n",
    "for i in range(kor_firts_cnt):\n",
    "    globals()[\"dupl_list_kor{}\".format(i)] = pd.concat([pd.DataFrame(globals()[\"dupl_list_kor{}\".format(i)])], axis = 0)\n",
    "    globals()[\"dupl_list_kor{}\".format(i)].columns = [\"dupl_list_kor{}\".format(i)]\n",
    "    \n",
    "# 컬럼명,index, 단어위치 추가\n",
    "for i in range(len(input_split_kor.columns)):\n",
    "    input_split_kor[\"num_kor{}\".format(i)] = \"num_kor{}\".format(i)\n",
    "    globals()[\"stwd_kor{}\".format(i)] = pd.concat(\n",
    "            [\n",
    "            df_index.fillna(\"\"), \n",
    "            pd.DataFrame(input_split_kor[\"stwd_kor{}\".format(i)]).fillna(\"\"),\n",
    "            pd.DataFrame(input_split_kor[\"num_kor{}\".format(i)]).fillna(\"\"),\n",
    "            globals()[\"dupl_list_kor{}\".format(i)].fillna(\"\")\n",
    "            ], \n",
    "            axis=1)\n",
    "print(col_list_kor)\n",
    "print(kor_firts_cnt)\n",
    "# stwd_kor9\n",
    "# dupl_list_kor0"
   ]
  },
  {
   "cell_type": "code",
   "execution_count": null,
   "id": "74a82e1d",
   "metadata": {},
   "outputs": [],
   "source": [
    "# 영문명 분리\n",
    "\n",
    "# 영문명이 하나라도 입력돼 있을 경우\n",
    "if len(input_test['영문약어명']) > 0:\n",
    "    print(\"영문명 컬럼 수 1개 이상:\"+str((input_test['영문약어명']==\"\").sum()))\n",
    "\n",
    "    # 영문명 분리\n",
    "    input_split_eng = pd.DataFrame(input_test['영문약어명'].str.split('_').tolist()).fillna(\"\")\n",
    "    \n",
    "    # 영문명 컬럼 수\n",
    "    eng_firts_cnt = len(input_split_eng.columns)\n",
    "    \n",
    "    # 컬럼명 입력\n",
    "    col_list_eng = []\n",
    "    for i in range(len(input_split_eng.columns)):\n",
    "        col_list_eng.append(\"stwd_eng{}\".format(i))\n",
    "    input_split_eng.columns = col_list_eng\n",
    "    \n",
    "    # 영문 개수 세기\n",
    "    dupl_list_eng = []\n",
    "    dupl_cnt_eng = []\n",
    "    for i in range(eng_firts_cnt):\n",
    "        globals()[\"dupl_list_eng{}\".format(i)] = []\n",
    "        for j in range(len(input_split_eng[\"stwd_eng{}\".format(i)])):\n",
    "            dupl_list_eng = input_split_eng[\"stwd_eng{}\".format(i)].to_list().count(input_split_eng[\"stwd_eng{}\".format(i)][j])\n",
    "            globals()[\"dupl_list_eng{}\".format(i)].append(dupl_list_eng)\n",
    "    for i in range(eng_firts_cnt):\n",
    "        globals()[\"dupl_list_eng{}\".format(i)] = pd.concat([pd.DataFrame(globals()[\"dupl_list_eng{}\".format(i)])], axis = 0)\n",
    "        globals()[\"dupl_list_eng{}\".format(i)].columns = [\"dupl_list_eng{}\".format(i)]\n",
    "        \n",
    "    # 컬럼명,index, 단어위치 추가\n",
    "    for i in range(eng_firts_cnt):\n",
    "        input_split_eng[\"num_eng{}\".format(i)] = \"num_eng{}\".format(i)\n",
    "        globals()[\"stwd_eng{}\".format(i)] = pd.concat(\n",
    "                [\n",
    "                df_index.fillna(\"\"), \n",
    "                pd.DataFrame(input_split_eng[\"stwd_eng{}\".format(i)].fillna(\"\")),\n",
    "                pd.DataFrame(input_split_eng[\"num_eng{}\".format(i)].fillna(\"\")),\n",
    "                globals()[\"dupl_list_eng{}\".format(i)].fillna(\"\")\n",
    "                ], \n",
    "                axis=1)\n",
    "        \n",
    "# 영문명이 없을 경우\n",
    "elif len(input_test['영문약어명']) == 0:\n",
    "    print(\"영문명 컬럼 수 0개:\"+str((input_test['영문약어명']==\"\").sum()))\n",
    "    \n",
    "    col_list_eng = []\n",
    "    for i in range(kor_firts_cnt):\n",
    "        globals()[\"stwd_eng{}\".format(i)] = pd.DataFrame(columns = [\"stwd_eng{}\".format(i)])\n",
    "        globals()[\"num_eng{}\".format(i)] = pd.DataFrame(columns = [\"num_eng{}\".format(i)])\n",
    "        globals()[\"dupl_list_eng{}\".format(i)] = pd.DataFrame(columns = [\"dupl_list_eng{}\".format(i)])\n",
    "        globals()[\"stwd_eng{}\".format(i)] = pd.concat(\n",
    "            [\n",
    "                df_index.fillna(\"\"), \n",
    "                globals()[\"stwd_eng{}\".format(i)].fillna(\"\"),\n",
    "                globals()[\"num_eng{}\".format(i)].fillna(\"\"),\n",
    "                globals()[\"dupl_list_eng{}\".format(i)].fillna(\"\"),\n",
    "            ]\n",
    "            , axis = 1\n",
    "        )\n",
    "        globals()[\"stwd_eng{}\".format(i)][\"num_eng{}\".format(i)] = \"num_eng{}\".format(i)\n",
    "        globals()[\"stwd_eng{}\".format(i)][\"dupl_list_eng{}\".format(i)] = len(globals()[\"stwd_eng{}\".format(i)])\n",
    "        col_list_eng.append(\"stwd_eng{}\".format(i))\n",
    "        \n",
    "else:\n",
    "    print(\"한글컬럼, 영문커럼 예외 사항\")\n",
    "\n",
    "# 컬럼수 일치 점검\n",
    "col_cnt_kor = len(col_list_kor)\n",
    "col_cnt_eng = len(col_list_eng)\n",
    "if len(col_list_kor) == len(col_list_eng):\n",
    "    print(\"한글컬럼수와 영문컬럼수 일치\")\n",
    "    print(\"kor:\" + str(col_cnt_kor) + \" vs eng:\" + str(col_cnt_eng))\n",
    "else:\n",
    "    print(\"한글컬럼수와 영문컬럼수 불일치\")\n",
    "    print(\"kor:\" + str(col_cnt_kor) + \" vs eng:\" + str(col_cnt_eng))                                                       \n",
    "print(col_list_eng)\n",
    "stwd_eng0"
   ]
  },
  {
   "cell_type": "code",
   "execution_count": null,
   "id": "854a4c73",
   "metadata": {},
   "outputs": [],
   "source": [
    "# 한글/영문 컬럼 수 일치시키기\n",
    "\n",
    "# 한글컬럼과 영문컬럼 수 일치할 경우\n",
    "if col_cnt_kor == col_cnt_eng:\n",
    "    col_cnt = col_cnt_kor\n",
    "    col_cnt_diff_list = None\n",
    "    col_cnt_diff = None\n",
    "    print('한글컬럼과 영문컬럼 수 일치')\n",
    "    print(\"kor:\" + str(col_cnt_kor) + \" vs eng:\" + str(col_cnt_eng))\n",
    "    print(\"컬럼수 일치작업 후:\" + str(col_cnt))  \n",
    "    \n",
    "# 한글컬럼이 더 많을 경우\n",
    "elif col_cnt_kor > col_cnt_eng:\n",
    "    col_cnt = col_cnt_kor\n",
    "    col_cnt_diff_list = list(set(range(col_cnt_kor)) - set(range(col_cnt_eng)))\n",
    "    col_cnt_diff = len(col_cnt_diff_list)\n",
    "    for i in col_cnt_diff_list:\n",
    "        input_split_eng['stwd_eng{}'.format(i)] = None\n",
    "        input_split_eng['num_eng{}'.format(i)] = None\n",
    "        input_split_eng['dupl_list_eng{}'.format(i)] = None\n",
    "        globals()['stwd_eng{}'.format(i)] = pd.concat(\n",
    "            [\n",
    "                df_index,\n",
    "                pd.DataFrame(input_split_eng['stwd_eng{}'.format(i)].fillna(\"\")),\n",
    "                pd.DataFrame(input_split_eng[\"num_eng{}\".format(i)].fillna(\"\")),\n",
    "                pd.DataFrame(input_split_eng[\"dupl_list_eng{}\".format(i)].fillna(\"\"))\n",
    "            ],\n",
    "            axis = 1\n",
    "        )\n",
    "    print('한글컬럼이 더 많은 싱태')\n",
    "    print(\"kor:\" + str(col_cnt_kor) + \" vs eng:\" + str(col_cnt_eng))\n",
    "    print(\"컬럼수 일치작업 후:\" + str(col_cnt))  \n",
    "\n",
    "# 영문컬럼이 더 많을 경우\n",
    "elif col_cnt_kor < col_cnt_eng:\n",
    "    col_cnt = col_cnt_eng\n",
    "    col_cnt_diff_list = list(set(range(col_cnt_eng)) - set(range(col_cnt_kor)))\n",
    "    col_cnt_diff = len(col_cnt_diff_list)\n",
    "    for i in col_cnt_diff_list:\n",
    "        input_split_kor['stwd_kor{}'.format(i)] = None\n",
    "        input_split_kor['num_kor{}'.format(i)] = None\n",
    "        input_split_eng['dupl_list_kor{}'.format(i)] = None\n",
    "        globals()['stwd_kor{}'.format(i)] = pd.concat(\n",
    "            [\n",
    "                df_index,\n",
    "                pd.DataFrame(input_split_kor['stwd_kor{}'.format(i)].fillna(\"\")),\n",
    "                pd.DataFrame(input_split_kor[\"num_kor{}\".format(i)].fillna(\"\")).\n",
    "                pd.DataFrame(input_split_eng[\"dupl_list_kor{}\".format(i)].fillna(\"\"))\n",
    "            ],\n",
    "            axis = 1\n",
    "        )\n",
    "    print('영문컬럼이 더 많은 싱태')       \n",
    "    print(\"kor:\" + str(col_cnt_kor) + \" vs eng:\" + str(col_cnt_eng))\n",
    "    print(\"컬럼수 일치작업 후:\" + str(col_cnt))  \n",
    "stwd_eng3"
   ]
  },
  {
   "cell_type": "code",
   "execution_count": null,
   "id": "28047c00",
   "metadata": {},
   "outputs": [],
   "source": [
    "# n x m 정사각형 DafaFrame 점검\n",
    "for i in range(col_cnt_kor):\n",
    "    for j in range(len(globals()[\"stwd_kor{}\".format(i)])):\n",
    "        cnt = (j + 1)\n",
    "    avg = np.mean(cnt)\n",
    "avg_avg_kor = round(np.mean(avg), 2)\n",
    "for i in range(col_cnt_eng):\n",
    "    for j in range(len(globals()[\"stwd_kor{}\".format(i)])):\n",
    "        cnt = (j + 1)\n",
    "    avg = np.mean(cnt)\n",
    "avg_avg_eng = round(np.mean(avg), 2)\n",
    "stwd_total_cnt = int(avg_avg_eng)\n",
    "if avg_avg_kor == avg_avg_eng:\n",
    "    print(\"한글 영문 row수 일치: 평균=\" + str((avg_avg_kor + avg_avg_eng)/2))\n",
    "    print(\"한글평균:\" + str(avg_avg_kor) + \", 영문평균:\" + str(avg_avg_eng) + \", 최종count:\" + str(stwd_total_cnt))\n",
    "else:\n",
    "    yes_or_no(\"한글명과 영문명의 row count가 일치하지 않습니다. 계속 진행하시겠습니까?\")\n",
    "    print(\"한글 영문 row수 불일치: 평균\" + str((avg_avg_kor + avg_avg_eng)/2))\n",
    "    print(\"한글평균:\" + str(avg_avg_kor) + \", 영문평균:\" + str(avg_avg_eng) + \", 최종count:\" + str(stwd_total_cnt))"
   ]
  },
  {
   "cell_type": "code",
   "execution_count": null,
   "id": "fad007a8",
   "metadata": {},
   "outputs": [],
   "source": [
    "# 중복검사를 위한 left join\n",
    "for i in range(col_cnt):\n",
    "    globals()['stwd_total{}'.format(i)] = pd.merge(\n",
    "        globals()['stwd_kor{}'.format(i)],\n",
    "        globals()['stwd_eng{}'.format(i)],\n",
    "        on = 'index',\n",
    "        how = 'left'\n",
    "    )\n",
    "print(col_cnt)\n",
    "# stwd_total9"
   ]
  },
  {
   "cell_type": "code",
   "execution_count": null,
   "id": "0d99cfca",
   "metadata": {},
   "outputs": [],
   "source": [
    "# 일렬 세우기\n",
    "\n",
    "# unique_stwd 초기화 \n",
    "stwd_total = pd.DataFrame()\n",
    "\n",
    "## 컬럼명 바꾸고  concat\n",
    "for i in range(col_cnt):\n",
    "    globals()[\"stwd_total{}\".format(i)].columns = [\n",
    "        'index', 'stwd_kor', 'num_kor', 'dupl_list_kor', 'stwd_eng','num_eng', 'dupl_list_eng'\n",
    "    ]\n",
    "    stwd_total = pd.concat([stwd_total, globals()[\"stwd_total{}\".format(i)]], axis = 0, ignore_index = True)\n",
    "print(stwd_total.shape)\n",
    "stwd_total"
   ]
  },
  {
   "cell_type": "code",
   "execution_count": null,
   "id": "07efba6f",
   "metadata": {},
   "outputs": [],
   "source": [
    "nll_chk(stwd_total)"
   ]
  },
  {
   "cell_type": "markdown",
   "id": "7c2efbd8",
   "metadata": {},
   "source": [
    "# 3. 이상값 수정"
   ]
  },
  {
   "cell_type": "markdown",
   "id": "01751d87",
   "metadata": {},
   "source": [
    "### 3.1. 한글명에 한글과 영문대문자, 숫자 이외 표시 및 삭제 로직"
   ]
  },
  {
   "cell_type": "code",
   "execution_count": null,
   "id": "eb7d0f6d",
   "metadata": {},
   "outputs": [],
   "source": [
    "def emoti_chk(var):\n",
    "    if var == 'kor':\n",
    "        # 한글명에 영문 소문자 탐색\n",
    "        stwd_total = globals()['stwd_total']\n",
    "        df_lower_kor = pd.DataFrame(columns = stwd_total.columns)        \n",
    "        stwd_total['kor_lower'] = ''\n",
    "        stwd_total['kor_ec'] = ''\n",
    "        kor_chk_list = []\n",
    "        for i in range(len(stwd_total)):\n",
    "\n",
    "        #     특수기호 제거\n",
    "        #     stwd_total.loc[i, 'stwd_kor'] =  stwd_total.loc[i, 'stwd_kor'].translate(str.maketrans('', '', string.punctuation))\n",
    "\n",
    "            # 영문 소문자 체크 및 기록\n",
    "            if stwd_total.loc[i, 'stwd_kor'].islower():\n",
    "                tmp = pd.DataFrame(stwd_total.iloc[i,:]).transpose()\n",
    "                df_lower_kor = pd.concat([df_lower_kor, tmp], axis=0)\n",
    "                print(\"----------------------영문 소문자 체크 및 기록--------------------|\")\n",
    "                print('index: ' + str(i))\n",
    "                print(stwd_total.loc[i, 'stwd_kor'] + \" -> \" + str(stwd_total.loc[i, 'stwd_kor'].upper()))\n",
    "                kor_chk_list.append(i)\n",
    "\n",
    "                # 영문 변경 이력 저장\n",
    "                stwd_total.loc[i, 'kor_lower'] = stwd_total.loc[i, 'stwd_kor']      \n",
    "\n",
    "                # 영문 대문자 변경\n",
    "                stwd_total.loc[i, 'stwd_kor'] = stwd_total.loc[i, 'stwd_kor'].upper()\n",
    "\n",
    "            # 영문 대문자, 숫자, 한글만 체크\n",
    "            cor_kor = re.findall('[A-Z0-9가-힣+]', stwd_total.loc[i, 'stwd_kor'])\n",
    "            chk_kor = len(cor_kor) == len(list(stwd_total.loc[i, 'stwd_kor']))\n",
    "\n",
    "            if bool(chk_kor) == False:\n",
    "                print(\"-----------------------------특수기호제거----------------------------|\")\n",
    "                print('index: ' + str(i))\n",
    "                print(stwd_total.loc[i, 'stwd_kor'] + \" -> \" + str(''.join(cor_kor)))\n",
    "                kor_chk_list.append(i)\n",
    "\n",
    "            # 영문대문자, 숫자, 한글 외 변경 이력 저장\n",
    "            stwd_total.loc[i, 'kor_ec'] = re.sub('[A-Z0-9가-힣+]', '', stwd_total.loc[i, 'stwd_kor'])        \n",
    "\n",
    "            # 영문대문자, 숫자, 한글 외 자동 삭제\n",
    "            stwd_total.loc[i, 'stwd_kor'] = ''.join(cor_kor)\n",
    "\n",
    "        # 변경 이력 저장\n",
    "        stwd_total['kor_cor_hist'] = \"\"\n",
    "        stwd_total['kor_cor_hist'] = stwd_total['kor_lower'] + stwd_total['kor_ec']\n",
    "\n",
    "        # 적용 후 결과값\n",
    "        print(\"====================================한글명 검토====================================|\")\n",
    "        print('소문자 처리: ' + str(len(df_lower_kor)) + '개')\n",
    "        stwd_total_kor_chk_1 = stwd_total.iloc[kor_chk_list]\n",
    "        print(\"나머지 제거: \"+ str(len(kor_chk_list)))\n",
    "        print('[자동 처리 완료하였습니다]')\n",
    "\n",
    "    elif var == 'eng':\n",
    "        # 영문명에 영문 소문자 탐색\n",
    "        stwd_total = globals()['stwd_total']\n",
    "        df_lower_eng = pd.DataFrame(columns = stwd_total.columns)        \n",
    "        stwd_total['eng_lower'] = ''\n",
    "        stwd_total['eng_ec'] = ''\n",
    "        eng_chk_list = []\n",
    "        for i in range(len(stwd_total)):\n",
    "\n",
    "            # 영문 소문자 체크 및 기록\n",
    "            if stwd_total.loc[i, 'stwd_eng'].islower():\n",
    "                tmp = pd.DataFrame(stwd_total.iloc[i,:]).transpose()\n",
    "                df_lower_eng = pd.concat([df_lower_eng, tmp], axis=0)\n",
    "                print(\"----------------------영문 소문자 체크 및 기록--------------------|\")\n",
    "                print('index: ' + str(i))\n",
    "                print(stwd_total.loc[i, 'stwd_eng'] + \" -> \" + str(stwd_total.loc[i, 'stwd_eng'].upper()))\n",
    "                eng_chk_list.append(i)\n",
    "\n",
    "                # 영문 변경 이력 저장\n",
    "                stwd_total.loc[i, 'eng_lower'] = stwd_total.loc[i, 'stwd_eng']      \n",
    "\n",
    "                # 영문 대문자 변경\n",
    "                stwd_total.loc[i, 'stwd_eng'] = stwd_total.loc[i, 'stwd_eng'].upper()\n",
    "\n",
    "            # 영문 대문자, 숫자, 한글만 체크\n",
    "            cor_eng = re.findall('[A-Z0-9+]', stwd_total.loc[i, 'stwd_eng'])\n",
    "            chk_eng = len(cor_eng) == len(list(stwd_total.loc[i, 'stwd_eng']))\n",
    "\n",
    "            if bool(chk_eng) == False:\n",
    "                print(\"-----------------------------특수기호제거----------------------------|\")\n",
    "                print('index: ' + str(i))\n",
    "                print(stwd_total.loc[i, 'stwd_eng'] + \" -> \" + str(''.join(cor_eng)))\n",
    "                eng_chk_list.append(i)\n",
    "\n",
    "            # 영문대문자, 숫자 외 변경 이력 저장\n",
    "            stwd_total.loc[i, 'eng_ec'] = re.sub('[A-Z0-9+]', '', stwd_total.loc[i, 'stwd_eng'])        \n",
    "\n",
    "            # 영문대문자, 숫자 외 자동 삭제\n",
    "            stwd_total.loc[i, 'stwd_eng'] = ''.join(cor_eng)\n",
    "\n",
    "        # 변경 이력 저장\n",
    "        stwd_total['eng_cor_hist'] = ''\n",
    "        stwd_total['eng_cor_hist'] = stwd_total['eng_lower'] + stwd_total['eng_ec']\n",
    "\n",
    "        # 적용 후 결과값\n",
    "        print(\"====================================영문명 검토====================================|\")\n",
    "        print('소문자 처리: ' + str(len(df_lower_eng)) + '개')\n",
    "        stwd_total_eng_chk_1 = stwd_total.iloc[eng_chk_list]\n",
    "        print(\"나머지 제거: \"+ str(len(eng_chk_list)))\n",
    "        print('[자동 처리 완료하였습니다]')\n",
    "        \n",
    "    else:\n",
    "        print(\"잘못된 입력입니다( 'kor' / 'eng' )\")"
   ]
  },
  {
   "cell_type": "code",
   "execution_count": null,
   "id": "74b66756",
   "metadata": {},
   "outputs": [],
   "source": [
    "# 데이터 검토\n",
    "ans = yes_or_no(\"데이터 검토를 실행 하시겠습니까?\")\n",
    "if ans == True:\n",
    "    emoti_chk('kor')\n",
    "    emoti_chk('eng')\n",
    "elif ans == False:\n",
    "    print(\"계속 진행하겠습니다\")"
   ]
  },
  {
   "cell_type": "markdown",
   "id": "92641bf1",
   "metadata": {},
   "source": [
    "### 3.2. 특수문자 제거 참고"
   ]
  },
  {
   "cell_type": "code",
   "execution_count": null,
   "id": "e45dbbad",
   "metadata": {},
   "outputs": [],
   "source": [
    "# 변경 체크 로직\n",
    "\n",
    "s1 = '고구마acAB1!$%@! 32'\n",
    "s2 = '깎ㅉ니'\n",
    "s3 = \"RR깍찌니12\"\n",
    "s4 = \"123깍찌니aS\"\n",
    "print(\"------------------------------------------------------\")\n",
    "print(re.findall('[A-Z0-9가-힣+]', s1))\n",
    "print(str(len(re.findall('[A-Z0-9가-힣+]', s1))) + \" vs \" + str(len(list(s1))))\n",
    "print(len(re.findall('[A-Z0-9가-힣+]', s1)) == len(list(s1)))\n",
    "print(\"------------------------------------------------------\")\n",
    "print(re.findall('[A-Z0-9가-힣+]', s2))\n",
    "print(str(len(re.findall('[A-Z0-9가-힣+]', s2))) + \" vs \" + str(len(list(s2))))\n",
    "print(len(re.findall('[A-Z0-9가-힣+]', s2)) == len(list(s2)))\n",
    "print(\"------------------------------------------------------\")\n",
    "print(re.findall('[A-Z0-9가-힣+]', s3))\n",
    "print(str(len(re.findall('[A-Z0-9가-힣+]', s3))) + \" vs \" + str(len(list(s3))))\n",
    "print(len(re.findall('[A-Z0-9가-힣+]', s3)) == len(list(s3)))\n",
    "print(\"------------------------------------------------------\")\n",
    "print(re.findall('[A-Z0-9가-힣+]', s4))\n",
    "print(str(len(re.findall('[A-Z0-9가-힣+]', s4))) + \" vs \" + str(len(list(s4))))\n",
    "print(len(re.findall('[A-Z0-9가-힣+]', s4)) == len(list(s4)))\n",
    "print(\"------------------------------------------------------\")"
   ]
  },
  {
   "cell_type": "code",
   "execution_count": null,
   "id": "49e5fe39",
   "metadata": {},
   "outputs": [],
   "source": [
    "path_dict = 'C:/Users/namdd/OneDrive/Data/Standardization/dict'\n",
    "dict_insp = pd.read_csv(path_dict + '/dict_total/' + 'dict_insp.csv', index_col=0, na_filter = False)\n",
    "print(dict_insp.shape)\n",
    "dict_insp"
   ]
  },
  {
   "cell_type": "code",
   "execution_count": null,
   "id": "303bcc52",
   "metadata": {},
   "outputs": [],
   "source": [
    "dict_list = dict_insp.iloc[:,0]\n",
    "dict_list"
   ]
  },
  {
   "cell_type": "code",
   "execution_count": null,
   "id": "f072a992",
   "metadata": {},
   "outputs": [],
   "source": [
    "dict_insp[dict_insp['어휘'] == '등급']"
   ]
  },
  {
   "cell_type": "code",
   "execution_count": null,
   "id": "f344e99a",
   "metadata": {},
   "outputs": [],
   "source": [
    "path_dict = 'C:/Users/namdd/OneDrive/Data/Standardization/dict'\n",
    "dict_insp_oneMore = pd.read_csv(path_dict + '/dict_total/' + 'dict_expn_oneMore.csv', index_col=0, na_filter=False)\n",
    "print(dict_insp_oneMore.shape)\n",
    "dict_insp_oneMore"
   ]
  },
  {
   "cell_type": "code",
   "execution_count": null,
   "id": "23137f90",
   "metadata": {},
   "outputs": [],
   "source": [
    "dict_insp[dict_insp['어휘'] =='라']"
   ]
  },
  {
   "cell_type": "markdown",
   "id": "7d37bd35",
   "metadata": {},
   "source": [
    "# 국어사전과 ISIN 비교"
   ]
  },
  {
   "cell_type": "markdown",
   "id": "a406d0e4",
   "metadata": {},
   "source": [
    "# 사전에 없는 단어 목록 분리"
   ]
  },
  {
   "cell_type": "code",
   "execution_count": null,
   "id": "17515049",
   "metadata": {},
   "outputs": [],
   "source": [
    "# 사전에 있는 단어 목록\n",
    "dict_is = stwd_total[stwd_total['stwd_kor'].isin(dict_insp['어휘'])]\n",
    "dict_is"
   ]
  },
  {
   "cell_type": "code",
   "execution_count": null,
   "id": "ae95a6e5",
   "metadata": {},
   "outputs": [],
   "source": [
    "# 사전에 없는 단어 목록\n",
    "dict_nan = stwd_total[stwd_total['stwd_kor'].isin(dict_insp['어휘']) == False]\n",
    "dict_nan"
   ]
  },
  {
   "cell_type": "code",
   "execution_count": null,
   "id": "07f58783",
   "metadata": {},
   "outputs": [],
   "source": [
    "dict_nan_unq = pd.DataFrame(dict_nan['stwd_kor'].unique(), columns = ['bf_stwd_kor'])\n",
    "dict_nan_unq['af_stwd_kor'] = ''\n",
    "dict_nan_unq"
   ]
  },
  {
   "cell_type": "code",
   "execution_count": null,
   "id": "7817f526",
   "metadata": {},
   "outputs": [],
   "source": [
    "# dict_isin 초기화\n",
    "def dict_isin_init(data):\n",
    "    data['dict_chk'] = 'N'\n",
    "    data['notin_wrn'] = ''\n",
    "    print('dict_chk 컬럼이 초기화 되었습니다.')\n",
    "\n",
    "dict_isin_init(dict_nan_unq)\n",
    "dict_nan_unq"
   ]
  },
  {
   "cell_type": "markdown",
   "id": "a73befcd",
   "metadata": {},
   "source": [
    "# 저장"
   ]
  },
  {
   "cell_type": "code",
   "execution_count": null,
   "id": "cb675ace",
   "metadata": {},
   "outputs": [],
   "source": [
    "# 저장\n",
    "dict_nan_unq.to_excel(output_path + \"dict_nan_unq.xlsx\")"
   ]
  },
  {
   "cell_type": "markdown",
   "id": "d3dcd46c",
   "metadata": {},
   "source": [
    "# 파이썬 로드, 파일열기 및 수기수정"
   ]
  },
  {
   "cell_type": "code",
   "execution_count": null,
   "id": "13c9c9b4",
   "metadata": {},
   "outputs": [],
   "source": [
    "# 파이썬 로드후 파일로드\n",
    "def read_grip_file(data, path, file_name):\n",
    "    os.system(path + file_name + \".xlsx\")\n",
    "    globals()[file_name] = pd.read_excel(path + file_name + \".xlsx\", index_col = 0, na_filter=False)"
   ]
  },
  {
   "cell_type": "code",
   "execution_count": null,
   "id": "07f930ee",
   "metadata": {},
   "outputs": [],
   "source": [
    "# 파이썬 로드 및 파일 저장 및 파일 실행\n",
    "def save_grip_file(data, path, file_name):\n",
    "    globals()[file_name] = data\n",
    "    data.to_excel(path + file_name + \".xlsx\")\n",
    "    os.system(path + file_name + \".xlsx\")"
   ]
  },
  {
   "cell_type": "code",
   "execution_count": null,
   "id": "47e88e49",
   "metadata": {},
   "outputs": [],
   "source": [
    "# 로드 및 파일실행\n",
    "read_grip_file(dict_nan_unq, output_path, \"dict_nan_unq\")\n",
    "dict_nan_unq"
   ]
  },
  {
   "cell_type": "markdown",
   "id": "df26eb8e",
   "metadata": {},
   "source": [
    "1. dict_chk = 'Y'\n",
    "2. af_stwd_kor = isin(사전List)\n",
    "3. ''"
   ]
  },
  {
   "cell_type": "code",
   "execution_count": null,
   "id": "d58886d5",
   "metadata": {},
   "outputs": [],
   "source": [
    "# 가입뿅 테스트\n",
    "dict_nan_unq.loc[dict_nan_unq['af_stwd_kor'] == '가입', 'af_stwd_kor'] = '가입뿅'\n",
    "dict_nan_unq"
   ]
  },
  {
   "cell_type": "markdown",
   "id": "c1b1b802",
   "metadata": {},
   "source": [
    "# (수기수정 완료했다면) 로드 후=점검~~~~~~~~"
   ]
  },
  {
   "cell_type": "code",
   "execution_count": null,
   "id": "4024a507",
   "metadata": {},
   "outputs": [],
   "source": [
    "def chk_dict_isin(data, c_list):\n",
    "    chk_Y = data.loc[data['dict_chk']=='Y', 'dict_chk']\n",
    "    chk_N = data.loc[data['dict_chk']=='N', 'dict_chk']\n",
    "    # 모두 dict_chk(Y) 일 경우통과\n",
    "    if chk_Y.count() == data['dict_chk'].count():\n",
    "        print(\"모두 수정되었습니다 \"+'dict_chk'+\" count(Y): \" + str(chk_Y.count()))\n",
    "         # 모두 notin_wrn(Y) 일 경우통과\n",
    "        chk_notin_wrn = data.loc[~data['af_stwd_kor'].isin(c_list), 'notin_wrn'] \n",
    "        data['notin_wrn'] = ''\n",
    "        if len(chk_notin_wrn) > 0:\n",
    "            data.loc[~data['af_stwd_kor'].isin(c_list), 'notin_wrn'] = 'Y'\n",
    "            print(\"[경고] 사전에 등록되어 있지 않은 단어가 존재합니다\")\n",
    "            print(data.loc[data['notin_wrn'] == 'Y', 'af_stwd_kor'])\n",
    "        else:\n",
    "            print(\"모든 단어가 사전에 등록되어 있습니다.\")\n",
    "    # dict_chk(N) 이 한개라도 있을 경우 반려\n",
    "    elif chk_N.count() > 0:\n",
    "        print(\"[경고] 아직 수정하지 않은 데이터가 있습니다 \"+'dict_chk'+\" count(N): \" + str(chk_N.count()))"
   ]
  },
  {
   "cell_type": "code",
   "execution_count": null,
   "id": "71c11231",
   "metadata": {},
   "outputs": [],
   "source": [
    "# 가입뿅 테스트\n",
    "dict_nan_unq.loc[dict_nan_unq['af_stwd_kor'] == '가입뿅', 'af_stwd_kor'] = '가입'\n",
    "dict_nan_unq"
   ]
  },
  {
   "cell_type": "code",
   "execution_count": null,
   "id": "c8098b9b",
   "metadata": {
    "scrolled": true
   },
   "outputs": [],
   "source": [
    "chk_dict_isin(dict_nan_unq, dict_list)\n",
    "dict_nan_unq"
   ]
  },
  {
   "cell_type": "code",
   "execution_count": null,
   "id": "c96f4adf",
   "metadata": {},
   "outputs": [],
   "source": [
    "# 로드, 저장 및 파일 실행\n",
    "save_grip_file(dict_nan_unq, output_path, \"dict_nan_unq\")"
   ]
  },
  {
   "cell_type": "markdown",
   "id": "5e7c629a",
   "metadata": {},
   "source": [
    "# 사전에 대입~ bf_stwd 를 af_stwd로"
   ]
  },
  {
   "cell_type": "code",
   "execution_count": null,
   "id": "d8fa7bb7",
   "metadata": {},
   "outputs": [],
   "source": [
    "# dict_nan에서 사전단어 수정 후 stwd 적용\n",
    "before = dict_nan_unq['bf_stwd_kor']\n",
    "after = dict_nan_unq['af_stwd_kor']\n",
    "\n",
    "for i, j in zip(before, after):\n",
    "    dict_nan.loc[dict_nan['stwd_kor'] == i, 'stwd_kor'] = j\n",
    "dict_nan"
   ]
  },
  {
   "cell_type": "markdown",
   "id": "9f86135f",
   "metadata": {},
   "source": [
    "# ISIN 점검"
   ]
  },
  {
   "cell_type": "code",
   "execution_count": null,
   "id": "50e96a61",
   "metadata": {},
   "outputs": [],
   "source": [
    "# 사전 등록 점검(리스트 필요)\n",
    "def dict_word_isin(data, c_list, col_name):\n",
    "    # ''(공란) 제거\n",
    "    data = data[data[col_name] != '']\n",
    "    if (data[col_name].isin(c_list)==False).sum() == 0:\n",
    "        print(\"모든 단어가 사전에 등록되어 있습니다.\")"
   ]
  },
  {
   "cell_type": "code",
   "execution_count": null,
   "id": "b2b33ed8",
   "metadata": {},
   "outputs": [],
   "source": [
    "dict_word_isin(dict_nan, dict_list, 'stwd_kor')"
   ]
  },
  {
   "cell_type": "code",
   "execution_count": null,
   "id": "31a8ef8d",
   "metadata": {},
   "outputs": [],
   "source": [
    "dict_nan[(dict_nan['stwd_kor'].isin(dict_list)==False)]"
   ]
  },
  {
   "cell_type": "code",
   "execution_count": null,
   "id": "0b78515b",
   "metadata": {},
   "outputs": [],
   "source": [
    "dict_nan['stwd_kor'].unique()"
   ]
  },
  {
   "cell_type": "code",
   "execution_count": null,
   "id": "a503cd21",
   "metadata": {},
   "outputs": [],
   "source": [
    "dict_nan[dict_nan['stwd_kor'].isin(dict_list)]"
   ]
  },
  {
   "cell_type": "code",
   "execution_count": null,
   "id": "1a6f1809",
   "metadata": {},
   "outputs": [],
   "source": [
    "dict_list[dict_list == '가입']"
   ]
  },
  {
   "cell_type": "code",
   "execution_count": null,
   "id": "db4d6979",
   "metadata": {},
   "outputs": [],
   "source": [
    "from varname import nameof"
   ]
  },
  {
   "cell_type": "code",
   "execution_count": null,
   "id": "a9634fb5",
   "metadata": {},
   "outputs": [],
   "source": [
    "nameof(stwd_total)"
   ]
  },
  {
   "cell_type": "code",
   "execution_count": null,
   "id": "195ad4f7",
   "metadata": {},
   "outputs": [],
   "source": [
    "def chk_mrg_idx(data1, data2, cp_data):\n",
    "    rw_data = pd.concat([data1, data2]).sort_index()\n",
    "    cnt = (cp_data.index == rw_data.index).sum()\n",
    "    cnt_incs = (cp_data.index != rw_data.index).sum()\n",
    "    # merge 전 index 목록과 다른것 비교\n",
    "    if cnt_incs == 0:\n",
    "        print(\"merge 전/후의 index가 같습니다. count:\"+str(cnt))\n",
    "        globals()[\"{}\".format(nameof(stwd_total))] = rw_data\n",
    "        print(\"수정 내용을 적용하였습니다 (변수명:\"+ nameof(stwd_total) + \")\")\n",
    "    elif cnt_incs > 0:\n",
    "        print(\"merge 전/후의 index가 다릅니다.count:\"+str(cnt))\n"
   ]
  },
  {
   "cell_type": "code",
   "execution_count": null,
   "id": "f54bd34c",
   "metadata": {},
   "outputs": [],
   "source": [
    "chk_mrg_idx(dict_is, dict_nan, stwd_total)"
   ]
  },
  {
   "cell_type": "code",
   "execution_count": null,
   "id": "10c570ca",
   "metadata": {},
   "outputs": [],
   "source": [
    "stwd_total"
   ]
  },
  {
   "cell_type": "code",
   "execution_count": null,
   "id": "3e7657c8",
   "metadata": {},
   "outputs": [],
   "source": []
  },
  {
   "cell_type": "code",
   "execution_count": null,
   "id": "26526ff4",
   "metadata": {},
   "outputs": [],
   "source": []
  },
  {
   "cell_type": "markdown",
   "id": "e6aa0569",
   "metadata": {},
   "source": [
    "# 재로드~"
   ]
  },
  {
   "cell_type": "code",
   "execution_count": null,
   "id": "e3f37600",
   "metadata": {},
   "outputs": [],
   "source": [
    "dict_nan_unq.to_excel(output_path + \"dict_nan_unq.xlsx\")"
   ]
  },
  {
   "cell_type": "code",
   "execution_count": null,
   "id": "01645cd5",
   "metadata": {},
   "outputs": [],
   "source": []
  },
  {
   "cell_type": "code",
   "execution_count": null,
   "id": "dfe60e3f",
   "metadata": {},
   "outputs": [],
   "source": []
  },
  {
   "cell_type": "code",
   "execution_count": null,
   "id": "2dc36463",
   "metadata": {},
   "outputs": [],
   "source": [
    "dict_nan_unq = dict_nan['stwd_kor'].unique()\n",
    "dict_nan_unq"
   ]
  },
  {
   "cell_type": "code",
   "execution_count": null,
   "id": "54f54458",
   "metadata": {},
   "outputs": [],
   "source": []
  },
  {
   "cell_type": "code",
   "execution_count": null,
   "id": "acb81ec1",
   "metadata": {},
   "outputs": [],
   "source": []
  },
  {
   "cell_type": "code",
   "execution_count": null,
   "id": "a45a30f4",
   "metadata": {},
   "outputs": [],
   "source": []
  },
  {
   "cell_type": "code",
   "execution_count": null,
   "id": "0432d31b",
   "metadata": {},
   "outputs": [],
   "source": []
  },
  {
   "cell_type": "code",
   "execution_count": null,
   "id": "0bdf1a03",
   "metadata": {},
   "outputs": [],
   "source": [
    "# 사전에 있는 단어 검색\n",
    "\n",
    "stwd_total[stwd_total['stwd_kor'].isin(dict_insp['어휘'])]"
   ]
  },
  {
   "cell_type": "code",
   "execution_count": null,
   "id": "7b71d988",
   "metadata": {},
   "outputs": [],
   "source": []
  },
  {
   "cell_type": "code",
   "execution_count": null,
   "id": "c1242764",
   "metadata": {},
   "outputs": [],
   "source": [
    "a = pd.concat([\n",
    "stwd_total[stwd_total['stwd_kor'].isin(dict_insp['어휘']) == False],stwd_total[stwd_total['stwd_kor'].isin(dict_insp['어휘'])]\n",
    "]).sort_index()\n",
    "a"
   ]
  },
  {
   "cell_type": "code",
   "execution_count": null,
   "id": "39e37c7b",
   "metadata": {},
   "outputs": [],
   "source": [
    "(stwd_total['stwd_kor'] == a['stwd_kor']).sum()"
   ]
  },
  {
   "cell_type": "code",
   "execution_count": null,
   "id": "d91184cb",
   "metadata": {},
   "outputs": [],
   "source": [
    "# 사전에 없는 단어 검색\n",
    "def isin_dict(data, cpr_data, data_col, cpr_data)\n",
    "    data[data[data_col].isin(cpr_data[cpr_data]) == False]"
   ]
  },
  {
   "cell_type": "code",
   "execution_count": null,
   "id": "f1f3b8bc",
   "metadata": {},
   "outputs": [],
   "source": []
  },
  {
   "cell_type": "code",
   "execution_count": null,
   "id": "924c1e5d",
   "metadata": {},
   "outputs": [],
   "source": []
  },
  {
   "cell_type": "code",
   "execution_count": null,
   "id": "9a59b8a4",
   "metadata": {},
   "outputs": [],
   "source": [
    "path_dict = 'C:/Users/namdd/OneDrive/Data/Standardization/dict'\n",
    "test = pd.read_csv(path_dict + '/dict_total/' + 'dict_expn_dup.csv', index_col=0)\n",
    "test = test[test['어휘'].notna()]\n",
    "print(test.shape)\n",
    "test"
   ]
  },
  {
   "cell_type": "code",
   "execution_count": null,
   "id": "ffc5d428",
   "metadata": {},
   "outputs": [],
   "source": [
    "dict_insp_oneMore.loc[dict_insp_oneMore['어휘'] == '개설']"
   ]
  },
  {
   "cell_type": "code",
   "execution_count": null,
   "id": "5ee5b8de",
   "metadata": {},
   "outputs": [],
   "source": [
    "test.loc[test['어휘'] == '개설']"
   ]
  },
  {
   "cell_type": "code",
   "execution_count": null,
   "id": "6a3d8182",
   "metadata": {},
   "outputs": [],
   "source": [
    "stwd_total[stwd_total['stwd_kor'].isin(test['어휘'])]"
   ]
  },
  {
   "cell_type": "code",
   "execution_count": null,
   "id": "96a35150",
   "metadata": {},
   "outputs": [],
   "source": [
    "stwd_total[stwd_total['stwd_kor'].isin(dict_insp_list)==False]"
   ]
  },
  {
   "cell_type": "code",
   "execution_count": null,
   "id": "742175e2",
   "metadata": {},
   "outputs": [],
   "source": []
  },
  {
   "cell_type": "code",
   "execution_count": null,
   "id": "321329a8",
   "metadata": {},
   "outputs": [],
   "source": []
  },
  {
   "cell_type": "code",
   "execution_count": null,
   "id": "03006ac9",
   "metadata": {},
   "outputs": [],
   "source": [
    "for i in tqdm(dict_insp_list):\n",
    "    print(i)"
   ]
  },
  {
   "cell_type": "code",
   "execution_count": null,
   "id": "5cd22a9e",
   "metadata": {},
   "outputs": [],
   "source": [
    "stwd_total"
   ]
  },
  {
   "cell_type": "code",
   "execution_count": null,
   "id": "e6a79e51",
   "metadata": {},
   "outputs": [],
   "source": []
  },
  {
   "cell_type": "code",
   "execution_count": null,
   "id": "8b615af4",
   "metadata": {},
   "outputs": [],
   "source": []
  },
  {
   "cell_type": "code",
   "execution_count": null,
   "id": "d81d6f80",
   "metadata": {},
   "outputs": [],
   "source": [
    "nll_to_blnk(stwd_total, 'all')"
   ]
  },
  {
   "cell_type": "code",
   "execution_count": null,
   "id": "4cf233e4",
   "metadata": {},
   "outputs": [],
   "source": []
  },
  {
   "cell_type": "code",
   "execution_count": null,
   "id": "5399fccf",
   "metadata": {},
   "outputs": [],
   "source": []
  },
  {
   "cell_type": "code",
   "execution_count": null,
   "id": "96d095f6",
   "metadata": {},
   "outputs": [],
   "source": []
  },
  {
   "cell_type": "code",
   "execution_count": null,
   "id": "fd698d9c",
   "metadata": {},
   "outputs": [],
   "source": []
  },
  {
   "cell_type": "markdown",
   "id": "3450a75f",
   "metadata": {},
   "source": [
    "# 4. 공통 표준 우선 적용"
   ]
  },
  {
   "cell_type": "code",
   "execution_count": null,
   "id": "be37f6cd",
   "metadata": {},
   "outputs": [],
   "source": [
    "nll_to_blnk(stwd_total, 'all')"
   ]
  },
  {
   "cell_type": "code",
   "execution_count": null,
   "id": "8dd4bf9b",
   "metadata": {},
   "outputs": [],
   "source": [
    "def pub_stnd(data):\n",
    "    if yes_or_no(\"영문 약어명을 공통 표준으로 통일 하시겠습니까?\"):\n",
    "\n",
    "        # 표준 파일 불러오기\n",
    "        sheet_name = \"공통표준단어\"\n",
    "        input_path = os.path.join(os.getcwd(), \"input\\\\\")\n",
    "        public_stwd = pd.read_excel(input_path + \"공공데이터 공통표준용어(2021.12월).xlsx\"\n",
    "                                    , sheet_name=sheet_name\n",
    "                                    , header=0\n",
    "                                    , index_col=\"NO\")\n",
    "        public_stwd = public_stwd[['공통표준단어명', '공통표준단어영문약어명']]\n",
    "\n",
    "        # 표준 영문명 자동 기입(널 제외)\n",
    "\n",
    "        # 표준 단어명 기준 left join (영문명이 null이면 비표준, notnull이면 표준)\n",
    "        std_chk = data.merge(public_stwd, left_on = 'stwd_kor', right_on = '공통표준단어명', how = 'left')\n",
    "        for i in range(std_chk.shape[0]):\n",
    "\n",
    "            # joined DF의 영문명이 있을 경우 표준으로 대신 기입 \n",
    "            notna_chk = std_chk['stwd_eng'].notna()[i]\n",
    "            if notna_chk:\n",
    "                std_chk.loc[i, 'stwd_eng'] = std_chk.loc[i, '공통표준단어영문약어명']\n",
    "\n",
    "        std_chk_list = ['index', 'stwd_kor', 'num_kor', 'stwd_eng', 'num_eng']\n",
    "        globals()[\"std_chk\"] = std_chk[std_chk_list]\n",
    "\n",
    "        print('한글명을 기준으로 공통(행안부) 표준을 우선 적용합니다.')\n",
    "        print(std_chk.shape)\n",
    "        print('OUT: std_chk')\n",
    "#         print(std_chk.head())\n",
    "    else:\n",
    "        print('공통(행안부) 표준을 우선 적용하지 않고 표준화를 진행합니다.')    "
   ]
  },
  {
   "cell_type": "code",
   "execution_count": null,
   "id": "1d2e0766",
   "metadata": {},
   "outputs": [],
   "source": [
    "pub_stnd(stwd_total)\n",
    "std_chk.tail()"
   ]
  },
  {
   "cell_type": "code",
   "execution_count": null,
   "id": "84a6ba08",
   "metadata": {},
   "outputs": [],
   "source": []
  },
  {
   "cell_type": "code",
   "execution_count": null,
   "id": "bdca6f48",
   "metadata": {},
   "outputs": [],
   "source": []
  },
  {
   "cell_type": "code",
   "execution_count": null,
   "id": "18ef82a8",
   "metadata": {},
   "outputs": [],
   "source": [
    "pub_stnd(row_blnk_stwd_kor)"
   ]
  },
  {
   "cell_type": "code",
   "execution_count": null,
   "id": "4d4da7d1",
   "metadata": {},
   "outputs": [],
   "source": []
  },
  {
   "cell_type": "code",
   "execution_count": null,
   "id": "1a763c63",
   "metadata": {},
   "outputs": [],
   "source": [
    "pub_stnd(stwd_total)\n",
    "std_chk.tail()"
   ]
  },
  {
   "cell_type": "code",
   "execution_count": null,
   "id": "08a5ab14",
   "metadata": {},
   "outputs": [],
   "source": [
    "std_chk.to_excel(input_path + 'aa.xlsx')"
   ]
  },
  {
   "cell_type": "code",
   "execution_count": null,
   "id": "f2df39ed",
   "metadata": {},
   "outputs": [],
   "source": [
    "# if yes_or_no(\"영문 약어명을 공통 표준으로 통일 하시겠습니까?\"):\n",
    "\n",
    "#     # 표준 파일 불러오기\n",
    "#     sheet_name = \"공통표준단어\"\n",
    "#     input_path = os.path.join(os.getcwd(), \"input\\\\\")\n",
    "#     public_stwd = pd.read_excel(input_path + \"공공데이터 공통표준용어(2021.12월).xlsx\", sheet_name=sheet_name, header=0)\n",
    "#     public_stwd = public_stwd[['NO', '공통표준단어명', '공통표준단어영문약어명']]\n",
    "\n",
    "#     # 표준 영문명 자동 기입(널 제외)\n",
    "\n",
    "#     # 표준 단어명 기준 left join (영문명이 null이면 비표준, notnull이면 표준)\n",
    "#     std_chk = stwd_total.merge(public_stwd, left_on = 'stwd_kor', right_on = '공통표준단어명', how = 'left')\n",
    "#     for i in range(std_chk.shape[0]):\n",
    "        \n",
    "#         # joined DF의 영문명이 있을 경우 표준으로 대신 기입 \n",
    "#         notna_chk = std_chk['stwd_eng'].notna()[i]\n",
    "#         if notna_chk:\n",
    "#             std_chk.loc[i, 'stwd_eng'] = std_chk.loc[i, '공통표준단어영문약어명']\n",
    "\n",
    "#     std_chk_list = ['index', 'stwd_kor', 'num_kor', 'stwd_eng', 'num_eng']\n",
    "#     std_chk = std_chk[std_chk_list]\n",
    "    \n",
    "#     print('한글명을 기준으로 공통(행안부) 표준을 우선 적용합니다.')\n",
    "# else:\n",
    "#     print('공통(행안부) 표준을 우선 적용하지 않고 표준화를 진행합니다.')\n",
    "    \n",
    "# print(std_chk.shape)\n",
    "# std_chk.tail()\n",
    "# std_chk.head()"
   ]
  },
  {
   "cell_type": "markdown",
   "id": "7dd65a0c",
   "metadata": {},
   "source": [
    "# 5. 한/영  중복제거 및 통합"
   ]
  },
  {
   "cell_type": "code",
   "execution_count": null,
   "id": "e451945b",
   "metadata": {},
   "outputs": [],
   "source": [
    "# 한글명 중복 검사: 수기 수정 후 최대 unique 값 카운트\n",
    "def find_unique_eng(df):\n",
    "    \n",
    "    kor_input_cnt = sum(df_step_1['stwd_kor'].notna())\n",
    "    kor_unique_cnt = len(set(df_step_1['stwd_kor']))\n",
    "    eng_input_cnt = sum(df_step_1['stwd_eng'].notna())\n",
    "    eng_unque_cnt = len(set(df_step_1['stwd_eng']))\n",
    "    \n",
    "    print(\"==중복값 비교==\")\n",
    "    # (한)미입력값 개수\n",
    "    print('(한)     not null   개수: ' + str(kor_input_cnt))\n",
    "    # (한)unique 값 개수\n",
    "    print(\"(한)''포함 unique값 개수: \" + str(kor_unique_cnt)) \n",
    "    # (영)미입력값 개수\n",
    "    print('(영)     not null   개수: ' + str(eng_input_cnt))\n",
    "    # (영)unique 값 개수\n",
    "    print(\"(영)''포함 unique값 개수: \" + str(eng_unque_cnt)) \n",
    "    \n",
    "    if (kor_input_cnt == eng_input_cnt) and (kor_unique_cnt == eng_unque_cnt):\n",
    "        print('\"한글명과 영문명의 unique 개수가 같습니다.\"')\n",
    "    else:\n",
    "        print('\"한글명과 영문명의 unique 개수가 다릅니다.\"')"
   ]
  },
  {
   "cell_type": "code",
   "execution_count": null,
   "id": "5aca5697",
   "metadata": {},
   "outputs": [],
   "source": [
    "def chk_unique(data):\n",
    "    global df_step_1   \n",
    "    df_step_1 = data\n",
    "    # 중복제거 후 다시 합쳐서 검사(1안)\n",
    "\n",
    "    # 한글 중복제거\n",
    "    col_stwd_kor = ['stwd_kor', 'num_kor']\n",
    "    unique_kor = df_step_1['stwd_kor'].drop_duplicates()\n",
    "    stwd_kor_unique = df_step_1.loc[unique_kor.index][col_stwd_kor]\n",
    "    print(\"한글명중복제거:\"+ str(stwd_kor_unique.shape))\n",
    "    # stwd_kor_unique\n",
    "\n",
    "    # 영문 중복제거\n",
    "    col_stwd_eng = ['stwd_eng', 'num_eng']\n",
    "    unique_eng = df_step_1['stwd_eng'].drop_duplicates()\n",
    "    stwd_eng_unique = df_step_1.loc[unique_eng.index][col_stwd_eng]\n",
    "    print(\"영문명중복제거:\"+ str(stwd_eng_unique.shape))\n",
    "    # stwd_eng_unique.tail(100)\n",
    "\n",
    "    # 한글+영문 일렬 세우기\n",
    "    df_step_1 = pd.DataFrame(stwd_total['index'])\n",
    "    df_step_1 = df_step_1.merge(\n",
    "        stwd_kor_unique,\n",
    "        left_index = True,\n",
    "        right_index = True,\n",
    "        how = 'left'\n",
    "    ).merge(\n",
    "        stwd_eng_unique,\n",
    "        left_index = True,\n",
    "        right_index = True,\n",
    "        how = 'left'\n",
    "    )\n",
    "    print(df_step_1.shape)\n",
    "    df_step_1\n",
    "\n",
    "    df_step_1.to_excel(input_path + \"df_step_1\" + str(dt.datetime.now().strftime('%y%m%d_%H%M%S')) + \".xlsx\")\n",
    "    print(df_step_1.shape)\n",
    "    df_step_1\n",
    "    print(\"OUT: df_step_1\")\n",
    "    \n",
    "chk_unique(std_chk)\n",
    "find_unique_eng(df_step_1)\n",
    "df_step_1"
   ]
  },
  {
   "cell_type": "code",
   "execution_count": null,
   "id": "6c155082",
   "metadata": {},
   "outputs": [],
   "source": [
    "nll_to_blnk(df_step_1, 'all')\n",
    "df_step_1"
   ]
  },
  {
   "cell_type": "code",
   "execution_count": null,
   "id": "4e8f420b",
   "metadata": {},
   "outputs": [],
   "source": [
    "blnk_row_rmv(df_step_1, 'col', 'stwd_kor')\n",
    "blnk_rmv_stwd_kor.tail()"
   ]
  },
  {
   "cell_type": "code",
   "execution_count": null,
   "id": "a18ab013",
   "metadata": {},
   "outputs": [],
   "source": [
    "blnk_rmv_stwd_kor.to_excel(output_path + \"blnk_rmv_stwd_kor.xlsx\")"
   ]
  },
  {
   "cell_type": "code",
   "execution_count": null,
   "id": "6a6bb933",
   "metadata": {},
   "outputs": [],
   "source": []
  },
  {
   "cell_type": "code",
   "execution_count": null,
   "id": "b8cf7373",
   "metadata": {},
   "outputs": [],
   "source": []
  },
  {
   "cell_type": "code",
   "execution_count": null,
   "id": "dd8ccfb8",
   "metadata": {},
   "outputs": [],
   "source": [
    "df_step_1"
   ]
  },
  {
   "cell_type": "code",
   "execution_count": null,
   "id": "a20535b6",
   "metadata": {},
   "outputs": [],
   "source": [
    "data"
   ]
  },
  {
   "cell_type": "code",
   "execution_count": null,
   "id": "506b5287",
   "metadata": {},
   "outputs": [],
   "source": [
    "data.iloc[i]"
   ]
  },
  {
   "cell_type": "code",
   "execution_count": null,
   "id": "5ca0ea77",
   "metadata": {},
   "outputs": [],
   "source": [
    "data = df_step_1\n",
    "data_cnt = len(data)\n",
    "notna_list = []\n",
    "for i in range(data_cnt):    \n",
    "    # row 기준 널 체크(값이 한개라도 있을 경우 포함)\n",
    "    if data.iloc[i].notna().sum() > 1:\n",
    "        notna_list.append(i)\n",
    "        notna_list"
   ]
  },
  {
   "cell_type": "code",
   "execution_count": null,
   "id": "c87ff1d4",
   "metadata": {},
   "outputs": [],
   "source": [
    "row_nll_rmv(df_step_1, 'df_step_1')"
   ]
  },
  {
   "cell_type": "code",
   "execution_count": null,
   "id": "056e9d92",
   "metadata": {},
   "outputs": [],
   "source": [
    "df_step_1"
   ]
  },
  {
   "cell_type": "markdown",
   "id": "b74a25c5",
   "metadata": {},
   "source": [
    "# * 한글/영문 단어수 매칭"
   ]
  },
  {
   "cell_type": "markdown",
   "id": "ab910728",
   "metadata": {},
   "source": [
    "## 6. 자동수정, 파일 업로드 점검"
   ]
  },
  {
   "cell_type": "markdown",
   "id": "8f00aa35",
   "metadata": {},
   "source": [
    "### 6.1.수기 수정값 표시(! y/n)"
   ]
  },
  {
   "cell_type": "code",
   "execution_count": null,
   "id": "c667092a",
   "metadata": {},
   "outputs": [],
   "source": [
    "### 값이 한개라도 있을 경우만 카운트 ###\n",
    "\n",
    "df_step_1_cnt = len(df_step_1)\n",
    "notna_list = []\n",
    "for i in range(df_step_1_cnt):    \n",
    "    # row 기준 널 체크(값이 한개라도 있을 경우 포함)\n",
    "    if df_step_1.iloc[i].notna().sum() > 1:\n",
    "        notna_list.append(i)\n",
    "\n",
    "df_step_1 = df_step_1.loc[notna_list]\n",
    "print(df_step_1.shape)\n",
    "\n",
    "# 원래 표준과 병합(수기 수정을 위해)\n",
    "df_step_1 = df_step_1.merge(\n",
    "    input_test,\n",
    "    left_on = 'index',\n",
    "    right_on = 'No',\n",
    "    how = 'left'\n",
    ")\n",
    "\n",
    "# 영문 개수 세기\n",
    "dup_list_eng = []\n",
    "dup_cnt_eng = []\n",
    "for i in range(df_step_1.shape[0]):\n",
    "    dup_list_eng = df_step_1['stwd_eng'].to_list().count(df_step_1.loc[i, 'stwd_eng'])\n",
    "    dup_cnt_eng.append(dup_list_eng)\n",
    "df_step_1 = pd.concat([df_step_1, pd.DataFrame(dup_cnt_eng, columns = {\"eng_cnt\"})], axis = 1)\n",
    "\n",
    "# 컬럼 추리기\n",
    "df_step_1_list = ['index', 'stwd_eng', 'stwd_kor', '영문약어명', '용어명 분리', 'eng_cnt']\n",
    "df_step_1 = df_step_1[df_step_1_list]\n",
    "\n",
    "# 비교군 저장\n",
    "df_step_1_chk = df_step_1.copy()\n",
    "df_step_1.head()\n",
    "\n",
    "# 2차\n",
    "# 널 제외 한글단어를 표준화된 풀데이터(df_step_1)를 다시검색하여 영문명 자동 기입 : 없는 것은 수동기입 필요 \n",
    "\n",
    "# 영문 null 값 '' 채우기\n",
    "df_step_1['stwd_eng'] = df_step_1['stwd_eng'].fillna(\"\")\n",
    "\n",
    "df_step_1['eng_cor_yn'] = \"\"\n",
    "for i in range(df_step_1.shape[0]):\n",
    "    blnk_chk = df_step_1.loc[i, 'stwd_eng'] == ''\n",
    "    if blnk_chk :\n",
    "        df_step_1.loc[i, 'stwd_eng'] = '!' + '_'.join(set(stwd_total.loc[(stwd_total['stwd_kor'] == df_step_1.loc[i, 'stwd_kor']), 'stwd_eng'].to_list()))\n",
    "        df_step_1.loc[i, 'eng_cor_yn'] = 'n'\n",
    "\n",
    "df_step_1_chk = df_step_1.copy()\n",
    "        \n",
    "# 순서\n",
    "df_step_1_xlsx = df_step_1.sort_values(['stwd_eng'])\n",
    "df_step_1_xlsx = df_step_1_xlsx[df_step_1_xlsx['eng_cor_yn'] == 'n']\n",
    "df_step_1_xlsx.to_excel(output_path+\"chk_eng\" + \".xlsx\")\n",
    "\n",
    "# # 파일 실행 하지 않음\n",
    "# os.system(output_path + \"chk_eng.xlsx\")\n",
    "\n",
    "print(df_step_1_xlsx.shape)\n",
    "df_step_1_xlsx.head()"
   ]
  },
  {
   "cell_type": "markdown",
   "id": "58c2fce4",
   "metadata": {},
   "source": [
    "### 6.2. 수정 후 재업로드(한글): 개발 미정"
   ]
  },
  {
   "cell_type": "markdown",
   "id": "94a2dfe2",
   "metadata": {},
   "source": [
    "### 6.3. 수정 후 재업로드(영문)"
   ]
  },
  {
   "cell_type": "markdown",
   "id": "1adeddf3",
   "metadata": {},
   "source": [
    "#### 6.3. 영문수정 > re_load 만 탐색할 수 있도록 코드 간략화 필요(지금은 시간상 그냥 개발)"
   ]
  },
  {
   "cell_type": "markdown",
   "id": "8c4b81ea",
   "metadata": {},
   "source": [
    "#### 6.3.1. 자동수정 후 재업로드(영문)"
   ]
  },
  {
   "cell_type": "code",
   "execution_count": null,
   "id": "831294a0",
   "metadata": {
    "scrolled": true
   },
   "outputs": [],
   "source": [
    "# 최초 1회 수정 후 재업로드\n",
    "\n",
    "# 수기 수정된 데이터\n",
    "######## 가짜, 추후(chk_eng)로 수정 ########\n",
    "re_load = pd.read_excel(output_path + 'chk_eng.xlsx', index_col='Unnamed: 0')\n",
    "\n",
    "# 주소값 덮어쓰지 않게 따로 복사하기\n",
    "df_step_1_cor = df_step_1.copy()\n",
    "\n",
    "# 모두null일 경우(=전부기입된경우), 그냥 진행, 그렇지 않을 경우 수정된 값 적용 후 진행ㅇ\n",
    "# Index 병합, 수기수정 대입, 그 외 null 지정\n",
    "if re_load['stwd_eng'].isna().all():\n",
    "    print(\"검수 통과\")\n",
    "else: \n",
    "    df_step_1_cor['stwd_eng'] =  re_load['stwd_eng']\n",
    "    print(\"수기 수정 다시\")\n",
    "    \n",
    "# 나머지 null 값은 본래 데이터(df_step_1) 값으로 채워넣기\n",
    "for i in range(df_step_1_cor.shape[0]):\n",
    "    if pd.isna(df_step_1_cor.loc[i, 'stwd_eng']):\n",
    "        df_step_1_cor.loc[i, 'stwd_eng'] = df_step_1.loc[i, 'stwd_eng']\n",
    "        df_step_1_cor.loc[i, 'eng_cor_yn'] = 'y'\n",
    "\n",
    "    if df_step_1_cor.loc[i, 'eng_cor_yn'] == 'n':\n",
    "        if df_step_1_cor.loc[i, 'stwd_eng'] != df_step_1_chk.loc[i, 'stwd_eng']:\n",
    "            df_step_1_cor.loc[i, 'eng_cor_yn'] = 'y'\n",
    "        elif df_step_1_cor.loc[i, 'stwd_eng'] == df_step_1_chk.loc[i, 'stwd_eng']:\n",
    "            df_step_1_cor.loc[i, 'eng_cor_yn'] = 'n'\n",
    "\n",
    "# 특수문자, 빈칸, null 점검\n",
    "tmp_list = []\n",
    "for i in range(df_step_1_cor.shape[0]):\n",
    "    if len(re.findall('[^A-Z0-9+]', df_step_1_cor.loc[i, 'stwd_eng'])):\n",
    "        tmp_list.append(i)\n",
    "    elif df_step_1_cor.loc[i, 'stwd_eng'] == '':\n",
    "        tmp_list.append(i)\n",
    "    elif pd.isna(df_step_1_cor.loc[i, 'stwd_eng']):\n",
    "        tmp_list.append(i)\n",
    "\n",
    "# 특수문자 'n'으로\n",
    "df_step_1_cor.loc[tmp_list, 'eng_cor_yn'] = 'n'\n",
    "\n",
    "# 전체 파일 저장\n",
    "df_step_1_cor.to_excel(output_path + \"df_step_1_cor.xlsx\")\n",
    "\n",
    "# 영문 점검 파일 저장    \n",
    "chk_eng = df_step_1_cor.loc[df_step_1_cor['eng_cor_yn'] == 'n']\n",
    "chk_eng.to_excel(output_path + \"chk_eng.xlsx\")\n",
    "\n",
    "# 파일 실행\n",
    "os.system(output_path + \"chk_eng.xlsx\")\n",
    "\n",
    "print(df_step_1_cor.shape)\n",
    "df_step_1_cor.head()"
   ]
  },
  {
   "cell_type": "markdown",
   "id": "b69b3d43",
   "metadata": {},
   "source": [
    "#### 6.3.2. 수기수정 후 재업로드(영문)"
   ]
  },
  {
   "cell_type": "code",
   "execution_count": null,
   "id": "e42f15c8",
   "metadata": {},
   "outputs": [],
   "source": [
    "# 주소값 덮어쓰지 않게 따로 복사하기\n",
    "df_step_1_cor_tmp = df_step_1_cor.copy()\n",
    "# 2회 이상부터\n",
    "\n",
    "def repeat_eng():\n",
    "    global df_step_1_cor_tmp\n",
    "    global chk_eng\n",
    "    global tmp_list_eng\n",
    "#     global re_load\n",
    "\n",
    "    # 수기 수정 후 다시 업로드: na_filter=False\n",
    "    re_load = pd.read_excel(output_path + 'chk_eng.xlsx', index_col='Unnamed: 0', na_filter=False)\n",
    "    \n",
    "    # Index 병합, 수기수정 대입, 그 외 ''null'' 지정\n",
    "    for i in re_load.index:\n",
    "        df_step_1_cor_tmp.loc[i, 'stwd_eng'] =  re_load.loc[i, 'stwd_eng']\n",
    "    \n",
    "    # 나머지 null 값은 본래 데이터(df_step_1) 값으로 채워넣기\n",
    "    for i in range(df_step_1_cor_tmp.shape[0]):\n",
    "        if df_step_1_cor_tmp.loc[i, 'eng_cor_yn'] == 'n':\n",
    "            if df_step_1_cor_tmp.loc[i, 'stwd_eng'] != df_step_1_chk.loc[i, 'stwd_eng']:\n",
    "                df_step_1_cor_tmp.loc[i, 'eng_cor_yn'] = 'y'\n",
    "            elif df_step_1_cor_tmp.loc[i, 'stwd_eng'] == df_step_1_chk.loc[i, 'stwd_eng']:\n",
    "                df_step_1_cor_tmp.loc[i, 'eng_cor_yn'] = 'n'\n",
    "                \n",
    "        if pd.isna(df_step_1_cor_tmp.loc[i, 'stwd_eng']):\n",
    "            df_step_1_cor_tmp.loc[i, 'stwd_eng'] = df_step_1_cor.loc[i, 'stwd_eng']\n",
    "            df_step_1_cor_tmp.loc[i, 'eng_cor_yn'] = 'y'\n",
    "\n",
    "    # 특수문자, 빈칸, 소문자, 한글, null 점검\n",
    "    tmp_list_eng = []\n",
    "    for i in range(df_step_1_cor_tmp.shape[0]):\n",
    "        if len(re.findall('[^A-Z0-9+]', df_step_1_cor_tmp.loc[i, 'stwd_eng'])):\n",
    "            tmp_list_eng.append(i)\n",
    "        elif df_step_1_cor_tmp.loc[i, 'stwd_eng'] == '':\n",
    "            tmp_list_eng.append(i)\n",
    "        elif pd.isna(df_step_1_cor_tmp.loc[i, 'stwd_eng']):\n",
    "            tmp_list_eng.append(i)\n",
    "\n",
    "    # 특수문자 'n'으로\n",
    "    df_step_1_cor_tmp.loc[tmp_list_eng, 'eng_cor_yn'] = 'n'\n",
    "\n",
    "    # 파일 실행\n",
    "    os.system(output_path + \"chk_eng.xlsx\")\n",
    "\n",
    "    # 파일 저장\n",
    "    chk_eng = df_step_1_cor_tmp.loc[df_step_1_cor_tmp['eng_cor_yn'] == 'n']\n",
    "    df_step_1_cor_tmp.to_excel(output_path + \"df_step_1_cor.xlsx\")\n",
    "    chk_eng.to_excel(output_path + \"chk_eng.xlsx\")"
   ]
  },
  {
   "cell_type": "markdown",
   "id": "3ad6783f",
   "metadata": {},
   "source": [
    "#### 6.3.3. 재업로드 반복 실행"
   ]
  },
  {
   "cell_type": "code",
   "execution_count": null,
   "id": "41b54a28",
   "metadata": {},
   "outputs": [],
   "source": [
    "# 한글명, 영문명이 모두 ''값일 경우, 수정 완료\n",
    "if (chk_eng[['stwd_kor', 'stwd_eng']] == '').all().all():\n",
    "    print('\"영문 수정 완료\"' + \" (빈칸 수:\" + str(sum(df_step_1_cor_tmp['stwd_eng'] == '')) + \")\")\n",
    "    repeat_eng()\n",
    "    os.system(output_path + \"df_step_1_cor.xlsx\")\n",
    "else:\n",
    "    if yes_or_no(\"영문명 수정이 필요합니다. 반복 점검하시겠습니까?\"):\n",
    "        repeat_eng()\n",
    "    else:\n",
    "        os.system(output_path + \"chk_eng.xlsx\")    "
   ]
  },
  {
   "cell_type": "code",
   "execution_count": null,
   "id": "5e0be04c",
   "metadata": {},
   "outputs": [],
   "source": [
    "# 함수화 (추후에)\n",
    "\n",
    "# def repeat_eng():\n",
    "#     global df_step_1_cor_tmp\n",
    "#     global chk_eng\n",
    "#     global tmp_list_eng"
   ]
  },
  {
   "cell_type": "code",
   "execution_count": null,
   "id": "2e53c72f",
   "metadata": {},
   "outputs": [],
   "source": [
    "# #다시 검사(한글 1회차)\n",
    "\n",
    "# df_step_1_cor = df_step_1_cor_tmp.copy()\n",
    "\n",
    "# df_step_1_cor['kor_cor_yn'] = 'n'\n",
    "\n",
    "# # 한글 검사\n",
    "# tmp_list=[]\n",
    "# for i in range(df_step_1_cor.shape[0]):\n",
    "#     # 영어가 들어갔따\n",
    "#     if (len(re.findall('[a-zA-Z+]', df_step_1_cor.loc[i, 'stwd_kor'])) >= 1):\n",
    "#         tmp_list.append(i)\n",
    "#         print(i)\n",
    "# che_kor = df_step_1_cor.loc[tmp_list]\n",
    "# che_kor.to_excel(output_path + \"chk_kor.xlsx\")\n",
    "\n",
    "# # 수기 수정 후 다시 업로드: na_filter=False\n",
    "# re_load = pd.read_excel(output_path + 'chk_kor.xlsx', index_col='Unnamed: 0', na_filter=False)\n",
    "\n",
    "# os.system(output_path + \"chk_kor.xlsx\")\n",
    "\n",
    "# re_load"
   ]
  },
  {
   "cell_type": "code",
   "execution_count": null,
   "id": "ee8acb7a",
   "metadata": {},
   "outputs": [],
   "source": [
    "#다시 검사(한글 1회차)\n",
    "\n",
    "df_step_1_cor = df_step_1_cor_tmp.copy()\n",
    "\n",
    "# kor_cor_yn 초기값 'n' 설정\n",
    "df_step_1_cor['kor_cor_yn'] = ''\n",
    "\n",
    "# 한글 검사\n",
    "tmp_list=[]\n",
    "\n",
    "for i in range(df_step_1_cor.shape[0]):\n",
    "    cdtn_eng = len(re.findall('[a-zA-Z+]', df_step_1_cor.loc[i, 'stwd_kor'])) >= 1 # 영문이 한자라도 있을 시\n",
    "    cdtn_kor = len(re.findall('[가-힣+]', df_step_1_cor.loc[i, 'stwd_kor'])) >= 1 # 한글이 한자라도 있을 시\n",
    "    cdtn_eng_lower = len(re.findall('[a-z+]', df_step_1_cor.loc[i, 'stwd_kor'])) >= 1\n",
    "    # 한글과 영문이 섞인 경우만: 대문자만 들어갈 경우 허용\n",
    "    if cdtn_eng & cdtn_kor:\n",
    "        tmp_list.append(i)\n",
    "        print(i)\n",
    "    # 소문자가 들어간 경우만\n",
    "    elif cdtn_eng_lower:\n",
    "        tmp_list.append(i)\n",
    "        print(i)\n",
    "\n",
    "df_step_1_cor.loc[tmp_list, 'kor_cor_yn'] = 'n'\n",
    "chk_kor = df_step_1_cor.loc[tmp_list]\n",
    "chk_kor.to_excel(output_path + \"chk_kor.xlsx\")\n",
    "\n",
    "# 수기 수정 후 다시 업로드: na_filter=False\n",
    "re_load = pd.read_excel(output_path + 'chk_kor.xlsx', index_col='Unnamed: 0', na_filter=False)\n",
    "\n",
    "os.system(output_path + \"chk_kor.xlsx\")\n",
    "\n",
    "re_load"
   ]
  },
  {
   "cell_type": "code",
   "execution_count": null,
   "id": "028013a9",
   "metadata": {},
   "outputs": [],
   "source": [
    "#     # 한글 검사\n",
    "#     tmp_list=[]\n",
    "#     for i in range(df_step_1_cor.shape[0]):\n",
    "#         cdtn_eng = len(re.findall('[a-zA-Z+]', df_step_1_cor.loc[i, 'stwd_kor'])) >= 1\n",
    "#         cdtn_kor = len(re.findall('[가-힣+]', df_step_1_cor.loc[i, 'stwd_kor'])) >= 1\n",
    "#         cdtn_eng_lower = len(re.findall('[a-z+]', df_step_1_cor.loc[i, 'stwd_kor'])) >= 1\n",
    "#         # 영문 대문자만 들어간 경우 허용\n",
    "#         if cdtn_eng:\n",
    "#             tmp_list.append(i)\n",
    "#             print(i)\n",
    "#         # 한글 단어만 들어간 경우 허용\n",
    "#         elif cdtn_kor:\n",
    "#             tmp_list.append(i)\n",
    "#             print(i)\n",
    "#     # 올바르게 적용된 내용 'y'로\n",
    "#     df_step_1_cor_tmp.loc[tmp_list_kor, 'kor_cor_yn'] = 'y'"
   ]
  },
  {
   "cell_type": "markdown",
   "id": "e3a16937",
   "metadata": {},
   "source": [
    "# 다시다시... y n 바꾸는거 안됨.."
   ]
  },
  {
   "cell_type": "code",
   "execution_count": null,
   "id": "06622b5f",
   "metadata": {},
   "outputs": [],
   "source": [
    "#다시 검사(한글 n회차)\n",
    "\n",
    "def repeat_kor():\n",
    "    global df_step_1_cor\n",
    "    global chk_kor\n",
    "    global tmp_list_kor\n",
    "\n",
    "    # 수기 수정 후 다시 업로드: na_filter=False\n",
    "    re_load = pd.read_excel(output_path + 'chk_kor.xlsx', index_col='Unnamed: 0', na_filter=False)\n",
    "    re_load\n",
    "\n",
    "    # 엑셀 수정내용 적용\n",
    "    for i in range(df_step_1_cor.shape[0]):\n",
    "        for j in re_load.index:\n",
    "            if df_step_1_cor.index.to_list()[i] == j:\n",
    "                df_step_1_cor.loc[i, 'stwd_kor'] = re_load.loc[j, 'stwd_kor']\n",
    "\n",
    "    # 비교하기위한 복사\n",
    "    df_step_1_cor_tmp = df_step_1_cor.copy()\n",
    "\n",
    "    # 그외 null 값은 이전 데이터(df_step_1_cor) 값으로 채워넣기\n",
    "    for i in range(df_step_1_cor_tmp.shape[0]):\n",
    "        if df_step_1_cor_tmp.loc[i, 'kor_cor_yn'] == 'n':\n",
    "            # 이전 데이터와 비교하여 바뀐값 'y' 입력\n",
    "            if df_step_1_cor_tmp.loc[i, 'stwd_kor'] != df_step_1_cor.loc[i, 'stwd_kor']:\n",
    "                df_step_1_cor_tmp.loc[i, 'kor_cor_yn'] = 'y'\n",
    "            # 이전 데이터와 비교하여 바뀌지 않은 값 'n' 입력\n",
    "            elif df_step_1_cor_tmp.loc[i, 'stwd_kor'] == df_step_1_cor.loc[i, 'stwd_kor']:\n",
    "                df_step_1_cor_tmp.loc[i, 'kor_cor_yn'] = 'n'\n",
    "        \n",
    "        # null일경우 '' 입력\n",
    "        if pd.isna(df_step_1_cor_tmp.loc[i, 'stwd_kor']):\n",
    "            df_step_1_cor_tmp.loc[i, 'kor_cor_yn'] = ''\n",
    "\n",
    "    # 특수문자, 빈칸, 소문자, 한글, null 점검\n",
    "    tmp_list_kor = []\n",
    "    for i in range(df_step_1_cor_tmp.shape[0]):\n",
    "        \n",
    "        # 수정필요(n)사항 중에서..\n",
    "        if df_step_1_cor_tmp.loc[i, 'kor_cor_yn'] == 'n':\n",
    "            cdtn_eng_len = re.findall('[a-zA-Z+]', df_step_1_cor.loc[i, 'stwd_kor'])\n",
    "            cdtn_kor_len = re.findall('[가-힣+]', df_step_1_cor.loc[i, 'stwd_kor'])\n",
    "            # 한글만 한자 이상\n",
    "            if cdtn_eng == 0 & cdtn_kor >= 1:\n",
    "                df_step_1_cor_tmp.loc[i, 'kor_cor_yn'] = 'y'\n",
    "                print(i)\n",
    "            # 영문만 한자 이상\n",
    "            elif cdtn_eng >= 1 & cdtn_kor == 0:\n",
    "                df_step_1_cor_tmp.loc[i, 'kor_cor_yn'] = 'y'\n",
    "                print(i)\n",
    "            \n",
    "        # 소문자가 들어간 경우만\n",
    "        elif cdtn_eng_lower:\n",
    "            tmp_list_kor.append(i)\n",
    "            print(i)\n",
    "            \n",
    "        # 허용값이 아닌 개수 1개 이상\n",
    "        elif len(re.findall('[^가-힣A-z0-9+]', df_step_1_cor_tmp.loc[i, 'stwd_kor'])): \n",
    "            tmp_list_kor.append(i)\n",
    "        elif df_step_1_cor_tmp.loc[i, 'stwd_kor'] == '':\n",
    "            tmp_list_kor.append(i)\n",
    "        elif pd.isna(df_step_1_cor_tmp.loc[i, 'stwd_kor']):\n",
    "            tmp_list_kor.append(i)\n",
    "\n",
    "    # 특수문자 'n'으로\n",
    "    df_step_1_cor_tmp.loc[tmp_list_kor, 'kor_cor_yn'] = 'n'\n",
    "        \n",
    "    chk_kor = df_step_1_cor_tmp.loc[df_step_1_cor_tmp['kor_cor_yn'] == 'n']\n",
    "    chk_kor.to_excel(output_path + \"chk_kor.xlsx\")\n",
    "    \n",
    "    df_step_1_cor = df_step_1_cor_tmp\n",
    "    df_step_1_cor.to_excel(output_path + \"df_step_1_cor.xlsx\")\n",
    "    \n",
    "    os.system(output_path + \"chk_kor.xlsx\")"
   ]
  },
  {
   "cell_type": "code",
   "execution_count": null,
   "id": "abc09453",
   "metadata": {},
   "outputs": [],
   "source": [
    "repeat_kor()"
   ]
  },
  {
   "cell_type": "code",
   "execution_count": null,
   "id": "dea8eaa6",
   "metadata": {},
   "outputs": [],
   "source": [
    "df_step_1_cor"
   ]
  },
  {
   "cell_type": "code",
   "execution_count": null,
   "id": "8d880f2d",
   "metadata": {},
   "outputs": [],
   "source": [
    "df_step_1_cor_tmp"
   ]
  },
  {
   "cell_type": "code",
   "execution_count": null,
   "id": "28c4ea03",
   "metadata": {},
   "outputs": [],
   "source": [
    "# 동작 안됨\n",
    "# 한글명, 영문명이 모두 ''값일 경우, 수정 완료\n",
    "if (chk_kor[['stwd_kor', 'stwd_eng']] == '').all().all():\n",
    "    print('\"한글 수정 완료\"' + \" (빈칸 수:\" + str(sum(df_step_1_cor['stwd_kor'] == '')) + \")\")\n",
    "    repeat_kor()\n",
    "    os.system(output_path + \"df_step_1_cor.xlsx\")\n",
    "else:\n",
    "    if yes_or_no(\"한글명 수정이 필요합니다. 반복 점검하시겠습니까?\"):\n",
    "        repeat_kor()\n",
    "    else:\n",
    "        os.system(output_path + \"chk_kor.xlsx\")    "
   ]
  },
  {
   "cell_type": "code",
   "execution_count": null,
   "id": "91c98553",
   "metadata": {},
   "outputs": [],
   "source": [
    "df_step_1_cor_tmp"
   ]
  },
  {
   "cell_type": "code",
   "execution_count": null,
   "id": "dfc0a654",
   "metadata": {},
   "outputs": [],
   "source": [
    "# 영문 중복 검사\n",
    "if sum(df_step_1_cor['stwd_eng'].duplicated(keep=False)) > 1: # keep=False: 중복중 하나만 유지하지 않고 중복인 경우 모두 체크한다\n",
    "    print(\"영문명 중복을 탐지하였습니다.\")\n",
    "    \n",
    "    \n",
    "    #코드 작성\n",
    "    \n",
    "# 한글 중복 검사\n",
    "elif sum(df_step_1_cor['stwd_kor'].duplicated(keep=False)) > 1:\n",
    "    print(\"한글명 중복을 탐지하였습니다.\")\n",
    "    \n",
    "    \n",
    "    #코드 작성\n",
    "    \n",
    "else:\n",
    "    print(\"단어 중복을 모두 확인하였습니다.\")\n",
    "    \n",
    "#     #코드 작성(적용)\n",
    "#     df_step_1_cor = df_step_1_cor_tmp\n",
    "#     df_step_1_cor.to_excel(output_path +\"df_step_1_cor.xlsx\")\n",
    "    \n",
    "#     print(\"무의미한 값('')을 삭제하였습니다.\")\n",
    "#     df_space = df_step_1_cor_dup.loc[(df_step_1_cor_dup['stwd_eng'] == '') | (df_step_1_cor_dup['stwd_kor'] == '')]\n",
    "#     n_space_list = list(set(df_step_1_cor_dup.index) - set(df_space.index))\n",
    "#     df_step_1_cor = df_step_1_cor.loc[n_space_list]\n",
    "#     df_step_1_cor.to_excel(output_path + \"df_step_1_cor.xlsx\")\n",
    "    \n",
    "#     print(\"단어 사전을 완성하였습니다.\")\n",
    "    os.system(output_path + \"df_step_1_cor.xlsx\")"
   ]
  },
  {
   "cell_type": "code",
   "execution_count": null,
   "id": "9404f958",
   "metadata": {},
   "outputs": [],
   "source": [
    "df_step_1_cor_kor_dup = df_step_1_cor[df_step_1_cor['stwd_kor'].duplicated(keep=False)]\n",
    "df_step_1_cor_kor_dup.to_excel(output_path + \"df_step_1_cor_kor_dup.xlsx\")\n",
    "df_step_1_cor_kor_dup"
   ]
  },
  {
   "cell_type": "code",
   "execution_count": null,
   "id": "71b183f0",
   "metadata": {},
   "outputs": [],
   "source": []
  },
  {
   "cell_type": "code",
   "execution_count": null,
   "id": "964b6f43",
   "metadata": {},
   "outputs": [],
   "source": []
  },
  {
   "cell_type": "code",
   "execution_count": null,
   "id": "6a181e74",
   "metadata": {},
   "outputs": [],
   "source": [
    "\n",
    "# 영문 중복 검사\n",
    "if sum(df_step_1_cor['stwd_eng'].duplicated(keep=False)) > 1: # keep=False: 중복중 하나만 유지하지 않고 중복인 경우 모두 체크한다\n",
    "    print(\"영문명 중복을 탐지하였습니다.\")\n",
    "    \n",
    "    \n",
    "    #코드 작성\n",
    "    \n",
    "# 한글 중복 검사\n",
    "elif sum(df_step_1_cor['stwd_kor'].duplicated(keep=False)) > 1:\n",
    "    print(\"한글명 중복을 탐지하였습니다.\")\n",
    "    \n",
    "    \n",
    "    \n",
    "    #코드 작성\n",
    "    \n",
    "else:\n",
    "    \n",
    "    \n",
    "    print(\"단어 중복을 모두 확인하였습니다.\")\n",
    "    print(\"무의미한 값('')을 삭제하였습니다.\")\n",
    "    df_space = df_step_1_cor.loc[(df_step_1_cor['stwd_eng'] == '') | (df_step_1_cor['stwd_kor'] == '')]\n",
    "    n_space_list = list(set(df_step_1_cor.index) - set(df_space.index))\n",
    "    df_step_1_cor = df_step_1_cor.loc[n_space_list]\n",
    "    df_step_1_cor.to_excel(output_path + \"df_step_1_cor.xlsx\")\n",
    "    print(\"단어 사전을 완성하였습니다.\")\n",
    "    os.system(output_path + \"df_step_1_cor.xlsx\")"
   ]
  },
  {
   "cell_type": "code",
   "execution_count": null,
   "id": "53a36bcf",
   "metadata": {},
   "outputs": [],
   "source": [
    "df_step_1_cor_dup = df_step_1_cor[df_step_1_cor['stwd_kor'].duplicated(keep=False)]\n",
    "df_step_1_cor_dup.to_excel(output_path + \"df_step_1_cor_dup.xlsx\")\n",
    "df_step_1_cor_dup"
   ]
  },
  {
   "cell_type": "code",
   "execution_count": null,
   "id": "2f29a83b",
   "metadata": {},
   "outputs": [],
   "source": [
    "df_step_1_cor_dup = pd.read_excel(output_path + \"df_step_1_cor_dup.xlsx\")\n",
    "# df_step_1_cor_dup.to_excel(output_path + \"df_step_1_cor_dup.xlsx\")\n",
    "df_step_1_cor_dup"
   ]
  },
  {
   "cell_type": "code",
   "execution_count": null,
   "id": "31684460",
   "metadata": {},
   "outputs": [],
   "source": [
    "df_step_1_cor_dup['stwd_kor'].duplicated(keep=False)"
   ]
  },
  {
   "cell_type": "code",
   "execution_count": null,
   "id": "ec2a37e1",
   "metadata": {},
   "outputs": [],
   "source": []
  },
  {
   "cell_type": "code",
   "execution_count": null,
   "id": "70db709a",
   "metadata": {},
   "outputs": [],
   "source": [
    "# 엑셀 수정내용 적용\n",
    "for i in range(df_step_1_cor.shape[0]):\n",
    "    for j in df_step_1_cor_dup.index:\n",
    "        if df_step_1_cor.index.to_list()[i] == j:\n",
    "            df_step_1_cor.loc[i, 'stwd_kor'] = df_step_1_cor_dup.loc[j, 'stwd_kor']"
   ]
  },
  {
   "cell_type": "code",
   "execution_count": null,
   "id": "0bcdac27",
   "metadata": {},
   "outputs": [],
   "source": [
    "df_step_1_cor"
   ]
  },
  {
   "cell_type": "code",
   "execution_count": null,
   "id": "af42086a",
   "metadata": {},
   "outputs": [],
   "source": [
    "df_step_1_cor_dup.index"
   ]
  },
  {
   "cell_type": "code",
   "execution_count": null,
   "id": "987b99e6",
   "metadata": {},
   "outputs": [],
   "source": [
    "sum(df_step_1_cor['stwd_eng'].duplicated(keep=False)) > 1"
   ]
  },
  {
   "cell_type": "code",
   "execution_count": null,
   "id": "0a60984f",
   "metadata": {},
   "outputs": [],
   "source": [
    "sum(df_step_1_cor['stwd_kor'].duplicated(keep=False)) > 1"
   ]
  },
  {
   "cell_type": "code",
   "execution_count": null,
   "id": "823629c5",
   "metadata": {},
   "outputs": [],
   "source": [
    "df_step_1_cor.loc[df_step_1_cor['stwd_kor'].duplicated(keep=False)]"
   ]
  },
  {
   "cell_type": "code",
   "execution_count": null,
   "id": "56dab1b6",
   "metadata": {},
   "outputs": [],
   "source": [
    "[단어]\n",
    "[v]한글명이상 검사 (예: 영문 대문자)\n",
    "[v]한글 하나,영문 하나\n",
    "\n",
    "\n",
    "[]다시, 한글 영어 중복검사\n",
    "[]단어 순서 검사\n",
    "\n",
    "[]스페이스 제거하여 완전 사전?\n",
    "\n",
    "<용어>\n",
    "[]단어 개수 검사 (가A ID 생성 후 일치화)\n",
    "\n"
   ]
  },
  {
   "cell_type": "code",
   "execution_count": null,
   "id": "95dda939",
   "metadata": {},
   "outputs": [],
   "source": []
  },
  {
   "cell_type": "code",
   "execution_count": null,
   "id": "82f70957",
   "metadata": {},
   "outputs": [],
   "source": [
    "os.system(output_path + \"df_step_1_cor.xlsx\")"
   ]
  },
  {
   "cell_type": "code",
   "execution_count": null,
   "id": "4d646bd0",
   "metadata": {},
   "outputs": [],
   "source": [
    "stwd_kor"
   ]
  },
  {
   "cell_type": "code",
   "execution_count": null,
   "id": "5e484ed3",
   "metadata": {},
   "outputs": [],
   "source": [
    "            \n",
    "        # 한국어 점검\n",
    "        if len(re.findall('[^A-Z0-9가-힣+]', df_step_1_cor_tmp.loc[i, 'stwd_kor'])):\n",
    "            tmp_list_eng.append(i)\n",
    "        elif df_step_1_cor_tmp.loc[i, 'stwd_kor'] == '':\n",
    "            tmp_list_eng.append(i)\n",
    "        elif pd.isna(df_step_1_cor_tmp.loc[i, 'stwd_kor']):\n",
    "            tmp_list_eng.append(i)"
   ]
  },
  {
   "cell_type": "code",
   "execution_count": null,
   "id": "5dc2bc6b",
   "metadata": {},
   "outputs": [],
   "source": []
  },
  {
   "cell_type": "code",
   "execution_count": null,
   "id": "96407469",
   "metadata": {},
   "outputs": [],
   "source": [
    "def eng_blnk_chk():\n",
    "    global chk_eng\n",
    "    global df_step_1_cor_tmp\n",
    "    \n",
    "    # count 점검: 빈칸은 한개만 허용함\n",
    "    cnt_chk = sum(df_step_1_cor_tmp.loc[tmp_list, 'stwd_eng'] == '')\n",
    "    if cnt_chk == 1:\n",
    "        print(\"빈칸 허용치와 일치: \" + str(cnt_chk))\n",
    "        if sum(chk_eng.loc[chk_eng['eng_cor_yn'] == 'n', 'stwd_eng'] !=  '') == 0:\n",
    "            print('\"영문 수정 완료\"')\n",
    "        else:\n",
    "            print('추가 수정 필요')\n",
    "    elif cnt_chk < 1:\n",
    "        print(\"빈칸이 허용치보다 적음: \" + str(cnt_chk))\n",
    "    elif cnt_chk >= 2:\n",
    "        print(\"빈칸이 허용치보다 많음: \" + str(cnt_chk))"
   ]
  },
  {
   "cell_type": "code",
   "execution_count": null,
   "id": "6d06f9c0",
   "metadata": {},
   "outputs": [],
   "source": [
    "여기에 의존하면 안돼.."
   ]
  },
  {
   "cell_type": "code",
   "execution_count": null,
   "id": "8d4c8be8",
   "metadata": {},
   "outputs": [],
   "source": [
    "# '' == 1개, 'n' 중에서 ''가 하나도 없을 경우 작업 종료 \n",
    "condition_1 = sum(df_step_1_cor_tmp.loc[tmp_list, 'stwd_eng'] == '') == 1\n",
    "# condition_2 = sum(chk_eng.loc[chk_eng['eng_cor_yn'] == 'n', 'stwd_eng'] !=  '') == 0\n",
    "condition_2 = sum(chk_eng.loc[chk_eng['eng_cor_yn'] == 'n', 'stwd_eng'] == '') == 1\n",
    "if condition_1 and condition_2:\n",
    "    print(\"더 이상 진행할 수 없습니다.\")\n",
    "    os.system(output_path + \"chk_eng.xlsx\")\n",
    "    os.system(output_path + \"df_step_1_cor.xlsx\")\n",
    "else:\n",
    "    if yes_or_no(\"반복 점검하시겠습니까?\"):\n",
    "        repeat_eng()\n",
    "        eng_blnk_chk()\n",
    "    else:\n",
    "        os.system(output_path + \"chk_eng.xlsx\")"
   ]
  },
  {
   "cell_type": "code",
   "execution_count": null,
   "id": "4cd2503b",
   "metadata": {},
   "outputs": [],
   "source": [
    "df_step_1 = df_step_1_cor_tmp[df_step_1_cor_tmp['stwd_eng'].notna()]\n",
    "df_step_1 = df_step_1_cor_tmp[df_step_1_cor_tmp['stwd_eng'] != '']"
   ]
  },
  {
   "cell_type": "code",
   "execution_count": null,
   "id": "74169056",
   "metadata": {},
   "outputs": [],
   "source": [
    "# count 확인\n",
    "find_unique_eng(df_step_1)"
   ]
  },
  {
   "cell_type": "code",
   "execution_count": null,
   "id": "cc22e524",
   "metadata": {},
   "outputs": [],
   "source": []
  },
  {
   "cell_type": "code",
   "execution_count": null,
   "id": "3a19dc88",
   "metadata": {},
   "outputs": [],
   "source": []
  },
  {
   "cell_type": "code",
   "execution_count": null,
   "id": "c21b41ce",
   "metadata": {},
   "outputs": [],
   "source": []
  },
  {
   "cell_type": "code",
   "execution_count": null,
   "id": "8b3372b0",
   "metadata": {},
   "outputs": [],
   "source": [
    "# count 확인\n",
    "\n",
    "if sum(df_step_1_cor_tmp['stwd_eng'].str.contains('!', '_')) == 0:\n",
    "    print('영문명을 모두 수정하였습니다 !_수: '+ str(sum(df_step_1_cor_tmp['stwd_eng'].str.contains('!', '_'))))\n",
    "    print(df_step_1_cor_tmp.shape)\n",
    "else:\n",
    "    print('아직 수정하지 않은 영문명이 남아있습니다 !_수: '+ str(sum(df_step_1_cor_tmp['stwd_eng'].str.contains('!', '_'))))    \n",
    "    print(df_step_1_cor_tmp.shape)\n",
    "    \n",
    "# 두 카운트가 같아아 최종 표준화 점검 완료 1:1 대응\n",
    "if len(set(df_step_1['stwd_kor'])) == len(set(df_step_1['stwd_eng'])):\n",
    "    print('영문명과 한글명의 고유개수가 일치합니다')\n",
    "print(\"영문명: \" + str(len(set(df_step_1['stwd_eng']))))\n",
    "print(\"한글명: \" + str(len(set(df_step_1['stwd_kor']))))"
   ]
  },
  {
   "cell_type": "code",
   "execution_count": null,
   "id": "9b0e6094",
   "metadata": {},
   "outputs": [],
   "source": [
    "print('_'.join(stwd_total.loc[stwd_total['index'] == 1055, 'stwd_kor'].to_list()))\n",
    "stwd_total.loc[stwd_total['index'] == 1055, 'stwd_kor']"
   ]
  },
  {
   "cell_type": "code",
   "execution_count": null,
   "id": "924eee09",
   "metadata": {},
   "outputs": [],
   "source": [
    "df_step_1['stwd_kor'].isna()[i]"
   ]
  },
  {
   "cell_type": "code",
   "execution_count": null,
   "id": "5966aae6",
   "metadata": {},
   "outputs": [],
   "source": [
    "df_step_1.to_excel(output_path+\"chk_eng\" + \".xlsx\")"
   ]
  },
  {
   "cell_type": "code",
   "execution_count": null,
   "id": "3c99192b",
   "metadata": {},
   "outputs": [],
   "source": [
    "len(set(df_step_1['stwd_eng']))"
   ]
  },
  {
   "cell_type": "code",
   "execution_count": null,
   "id": "8d482952",
   "metadata": {},
   "outputs": [],
   "source": []
  },
  {
   "cell_type": "code",
   "execution_count": null,
   "id": "ac6f575a",
   "metadata": {},
   "outputs": [],
   "source": []
  },
  {
   "cell_type": "code",
   "execution_count": null,
   "id": "321f7799",
   "metadata": {},
   "outputs": [],
   "source": [
    "df_step_1"
   ]
  },
  {
   "cell_type": "code",
   "execution_count": null,
   "id": "9730439a",
   "metadata": {},
   "outputs": [],
   "source": [
    "index = [1055, 1056, 1057, 445, 432, 724, 878, 959, 1011, 934, 781, 454, 239]"
   ]
  },
  {
   "cell_type": "code",
   "execution_count": null,
   "id": "dd64caa7",
   "metadata": {},
   "outputs": [],
   "source": []
  },
  {
   "cell_type": "code",
   "execution_count": null,
   "id": "3c5e8ed2",
   "metadata": {},
   "outputs": [],
   "source": [
    "stwd_total.loc[(stwd_total['stwd_eng'] == 'NUM') & (stwd_total['stwd_kor'] != ''), 'stwd_kor'].values[0]"
   ]
  },
  {
   "cell_type": "code",
   "execution_count": null,
   "id": "a5720da1",
   "metadata": {},
   "outputs": [],
   "source": [
    "df_step_1.loc[(df_step_1['stwd_eng'] == 'NUM') & (df_step_1['stwd_kor'] != ''), 'stwd_kor'].values[0]"
   ]
  },
  {
   "cell_type": "code",
   "execution_count": null,
   "id": "6d1f415d",
   "metadata": {},
   "outputs": [],
   "source": [
    "# 널 제외 한글단어를 표준화된 풀데이터(df_step_1)를 다시검색하여 영문명 자동 기입 : 없는 것은 수동기입 필요\n",
    "for i in range(tmp_df_step_1.shape[0]):\n",
    "    isna_chk = tmp_df_step_1['stwd_kor'].isna()[i]\n",
    "    if isna_chk:\n",
    "#         tmp_df_step_1.loc[i, 'stwd_kor'] = stwd_total.loc[(stwd_total['stwd_eng'] == 'NUM') & (stwd_total['stwd_kor'] != ''), 'stwd_kor'].values[0]\n",
    "        tmp_df_step_1.loc[i, 'stwd_kor'] = df_step_1.loc[(df_step_1['stwd_eng'] == 'NUM') & (df_step_1['stwd_kor'] != ''), 'stwd_kor'].values[0]\n",
    "\n",
    "    \n",
    "# df_step_1_list = ['index', 'stwd_kor', 'num_kor', 'stwd_eng', 'num_eng']\n",
    "# tmp_df_step_1 = tmp_df_step_1[df_step_1_list]\n",
    "# print(tmp_df_step_1.shape)\n",
    "# tmp_df_step_1.head()\n",
    "std_chk_eng\n",
    "\n",
    "# 순서\n",
    "tmp_df_step_1 = tmp_df_step_1.sort_values(['stwd_eng'])\n",
    "tmp_df_step_1.to_excel(output_path+\"chk_eng\" + \".xlsx\")\n",
    "\n",
    "print(tmp_df_step_1.shape)\n",
    "tmp_df_step_1"
   ]
  },
  {
   "cell_type": "code",
   "execution_count": null,
   "id": "7dbcaa7e",
   "metadata": {},
   "outputs": [],
   "source": []
  },
  {
   "cell_type": "code",
   "execution_count": null,
   "id": "a534589c",
   "metadata": {},
   "outputs": [],
   "source": [
    "null_cnt = 0\n",
    "if null_cnt > 0:\n",
    "    print(\"빈칸이 있습니다\")\n",
    "### ㅅ수정 후 재업로드 하여 null count\n",
    "# ''개수가 1 이상일 경우 일경우 되묻지 않고 안내만\n",
    "# ''개수가 0일경우 되묻지 않고 안내만\n"
   ]
  },
  {
   "cell_type": "code",
   "execution_count": null,
   "id": "70488887",
   "metadata": {},
   "outputs": [],
   "source": [
    "stwd_total.loc[stwd_total['index'] == 781, 'stwd_kor'].values"
   ]
  },
  {
   "cell_type": "code",
   "execution_count": null,
   "id": "25421cfb",
   "metadata": {},
   "outputs": [],
   "source": [
    "index = [1055, 1056, 1057, 445, 432, 724, 878, 959, 1011, 934, 781, 454, 239]\n",
    "for i in range(len(index)):\n",
    "    a = stwd_total.loc[stwd_total['index'] == index[i], 'stwd_kor']\n",
    "    print(a)\n",
    "    \n",
    "a"
   ]
  },
  {
   "cell_type": "code",
   "execution_count": null,
   "id": "7b619df4",
   "metadata": {},
   "outputs": [],
   "source": []
  },
  {
   "cell_type": "code",
   "execution_count": null,
   "id": "55e21987",
   "metadata": {},
   "outputs": [],
   "source": [
    "df_step_1.loc[(df_step_1['stwd_eng'] == 'NUM') & (df_step_1['stwd_kor'] != ''), 'stwd_kor'].values[0]"
   ]
  },
  {
   "cell_type": "code",
   "execution_count": null,
   "id": "63021993",
   "metadata": {},
   "outputs": [],
   "source": [
    "stwd_total.loc[stwd_total['stwd_eng'] == 'HAKJUM', 'stwd_kor'].values[0]"
   ]
  },
  {
   "cell_type": "code",
   "execution_count": null,
   "id": "86f4e832",
   "metadata": {},
   "outputs": [],
   "source": []
  },
  {
   "cell_type": "code",
   "execution_count": null,
   "id": "09eb7ae7",
   "metadata": {},
   "outputs": [],
   "source": [
    "# 한국어가 null값이면 자동 영문명 자동 기입\n"
   ]
  },
  {
   "cell_type": "code",
   "execution_count": null,
   "id": "bbd4e944",
   "metadata": {},
   "outputs": [],
   "source": []
  },
  {
   "cell_type": "code",
   "execution_count": null,
   "id": "e4dfd702",
   "metadata": {},
   "outputs": [],
   "source": []
  },
  {
   "cell_type": "code",
   "execution_count": null,
   "id": "009256a1",
   "metadata": {},
   "outputs": [],
   "source": [
    "tmp_df_step_1"
   ]
  },
  {
   "cell_type": "code",
   "execution_count": null,
   "id": "1d99ae8f",
   "metadata": {},
   "outputs": [],
   "source": [
    "tmp_df_step_1"
   ]
  },
  {
   "cell_type": "code",
   "execution_count": null,
   "id": "461d83cf",
   "metadata": {},
   "outputs": [],
   "source": [
    "\n",
    "\n",
    "\n",
    "\n",
    "\n",
    "\n",
    "\n",
    "print(df_step_1.shape)\n",
    "df_step_1.head()"
   ]
  },
  {
   "cell_type": "code",
   "execution_count": null,
   "id": "ece7eadb",
   "metadata": {},
   "outputs": [],
   "source": [
    "std_chk"
   ]
  },
  {
   "cell_type": "code",
   "execution_count": null,
   "id": "d6540f0a",
   "metadata": {},
   "outputs": [],
   "source": [
    "std_chk"
   ]
  },
  {
   "cell_type": "code",
   "execution_count": null,
   "id": "64cf8e23",
   "metadata": {},
   "outputs": [],
   "source": [
    "\n",
    "\n",
    "\n",
    "a.to_excel(output_path + \"dfsfd.xlsx\")\n",
    "# dup_cnt_eng\n",
    "\n",
    "#     dupl_list_eng = input_split_eng[\"stwd_eng{}\".format(i)].to_list().count(input_split_eng[\"stwd_eng{}\".format(i)][j])\n",
    "#     globals()[\"dupl_list_eng{}\".format(i)].append(dupl_list_eng)\n",
    "\n",
    "        \n",
    "# for i in range(eng_firts_cnt):\n",
    "#     globals()[\"dupl_list_eng{}\".format(i)] = pd.concat([pd.DataFrame(globals()[\"dupl_list_eng{}\".format(i)])], axis = 0)\n",
    "#     globals()[\"dupl_list_eng{}\".format(i)].columns = [\"dupl_list_eng{}\".format(i)]"
   ]
  },
  {
   "cell_type": "code",
   "execution_count": null,
   "id": "aabf3c5e",
   "metadata": {},
   "outputs": [],
   "source": [
    "df_step_1['stwd_eng'].to_list().count(df_step_1.loc[0, 'stwd_eng'])"
   ]
  },
  {
   "cell_type": "code",
   "execution_count": null,
   "id": "ab38501d",
   "metadata": {},
   "outputs": [],
   "source": []
  },
  {
   "cell_type": "code",
   "execution_count": null,
   "id": "1f07c26e",
   "metadata": {},
   "outputs": [],
   "source": [
    "dupl_list_eng0['dupl_list_eng0'].to_list().count(1)"
   ]
  },
  {
   "cell_type": "code",
   "execution_count": null,
   "id": "0a3792d5",
   "metadata": {},
   "outputs": [],
   "source": [
    "tmp_df_step_1.shape[0]"
   ]
  },
  {
   "cell_type": "code",
   "execution_count": null,
   "id": "b5640142",
   "metadata": {},
   "outputs": [],
   "source": [
    "# 중복 지우기 위해\n"
   ]
  },
  {
   "cell_type": "code",
   "execution_count": null,
   "id": "336cd199",
   "metadata": {},
   "outputs": [],
   "source": [
    "# 널 채우기 위해\n",
    "tmp_df_step_1[stwd_kor]"
   ]
  },
  {
   "cell_type": "code",
   "execution_count": null,
   "id": "32475c11",
   "metadata": {},
   "outputs": [],
   "source": []
  },
  {
   "cell_type": "code",
   "execution_count": null,
   "id": "7f92563b",
   "metadata": {},
   "outputs": [],
   "source": [
    "df_step_1.shape"
   ]
  },
  {
   "cell_type": "code",
   "execution_count": null,
   "id": "8e2d03e6",
   "metadata": {},
   "outputs": [],
   "source": [
    "df_step_1.to_excel(input_path+\"111.xlsx\")\n",
    "std_chk.to_excel(input_path+\"112.xlsx\")"
   ]
  },
  {
   "cell_type": "code",
   "execution_count": null,
   "id": "f9e2c0e9",
   "metadata": {},
   "outputs": [],
   "source": [
    "# public_stwd_cnt =public_stwd.shape[0]\n",
    "# df_step_1_cnt = df_step_1.shape[0]\n",
    "\n",
    "# for i in range(df_step_1_cnt):\n",
    "#     for j in range(public_stwd_cnt):\n",
    "#         if df_step_1.iloc[i,1] == public_stwd.iloc[j,1]: #[i, 0]\n",
    "#             # 영문명 수정\n",
    "#             df_step_1.iloc[i,3] = public_stwd.iloc[j,2]\n",
    "#         else:\n",
    "#             a = 1\n",
    "# #             df_step_1.iloc[i,1] = \"그대로\"+df_step_1.iloc[i,1]"
   ]
  },
  {
   "cell_type": "code",
   "execution_count": null,
   "id": "99e9380e",
   "metadata": {},
   "outputs": [],
   "source": [
    "# 파일 저장 묻기\n",
    "# now = dt.datetime.now().strftime('%y%m%d_%H%M%S')    \n",
    "\n",
    "if yes_or_no('파일을 저장하시겠습니까?'):\n",
    "    file_name = 'stwd_total_manu1' + \"_\" + str(dt.datetime.now().strftime('%y%m%d_%H%M%S') + \".xlsx\")\n",
    "    print('[엑셀 파일을 생성하였습니다]: ' + file_name )\n",
    "else:\n",
    "    print('[검토한 후 다시 업로드 해주세요]')\n",
    "stwd_total.head()"
   ]
  },
  {
   "cell_type": "markdown",
   "id": "f3a52494",
   "metadata": {},
   "source": [
    "# 중복제거 로직"
   ]
  },
  {
   "cell_type": "code",
   "execution_count": null,
   "id": "f9b9b99d",
   "metadata": {},
   "outputs": [],
   "source": [
    "## 중복 제거 > \n",
    "1. 한개라도 값이 있는 경우 모두 추가\n",
    "2. 영문 unique 기준 영문 중복 검정 (이미 한글 중복검정 돼 있음: 표준데이터와 병합하기 때문에..) \n",
    "/ 중복 여부 검사\n",
    "3. 한글 unique 기준 한글 중복 검정 \n",
    "/ 중복 여부 검사\n",
    "4. ID 기준\n",
    "- 수기수정 2부터~ n회 반복 / 중복 여부 검사 \n",
    "=> 모든 중복 제거 , 빈값 넣기, 잘못된값 수정\n",
    "5. 사전 최종 검사 및 업로드\n",
    "- n회 반복 -\n",
    "\n"
   ]
  },
  {
   "cell_type": "code",
   "execution_count": null,
   "id": "d3cf31bc",
   "metadata": {},
   "outputs": [],
   "source": []
  },
  {
   "cell_type": "code",
   "execution_count": null,
   "id": "6700adc5",
   "metadata": {},
   "outputs": [],
   "source": []
  },
  {
   "cell_type": "code",
   "execution_count": null,
   "id": "6ab40b6e",
   "metadata": {},
   "outputs": [],
   "source": [
    "# 중복제거 후 다시 합쳐서 검사(1안)\n",
    "\n",
    "# 한글 중복제거\n",
    "col_stwd_kor = ['stwd_kor', 'num_kor']\n",
    "unique_kor = stwd_total['stwd_kor'].drop_duplicates()\n",
    "stwd_kor_unique = stwd_total.loc[unique_kor.index][col_stwd_kor]\n",
    "print(\"한글명중복제거:\"+ str(stwd_kor_unique.shape))\n",
    "# stwd_kor_unique\n",
    "\n",
    "# 영문 중복제거\n",
    "col_stwd_eng = ['stwd_eng', 'num_eng']\n",
    "unique_eng = stwd_total['stwd_eng'].drop_duplicates()\n",
    "stwd_eng_unique = stwd_total.loc[unique_eng.index][col_stwd_eng]\n",
    "print(\"영문명중복제거:\"+ str(stwd_eng_unique.shape))\n",
    "# stwd_eng_unique.tail(100)\n",
    "\n",
    "# 한글+영문 일렬 세우기\n",
    "df_step_1 = pd.DataFrame(stwd_total['index'])\n",
    "df_step_1 = df_step_1.merge(\n",
    "    stwd_kor_unique,\n",
    "    left_index = True,\n",
    "    right_index = True,\n",
    "    how = 'left'\n",
    ").merge(\n",
    "    stwd_eng_unique,\n",
    "    left_index = True,\n",
    "    right_index = True,\n",
    "    how = 'left'\n",
    ")\n",
    "print(df_step_1.shape)\n",
    "df_step_1\n",
    "\n",
    "### 값이 한개라도 있을 경우 카운트 ###\n",
    "\n",
    "total_cnt = len(df_step_1)\n",
    "null_list = []\n",
    "for i in range(total_cnt):    \n",
    "    # row 기준 널 체크(값이 한개라도 있을 경우 포함)\n",
    "    if df_step_1.iloc[i].notna().sum() > 1:\n",
    "        null_list.append(i)\n",
    "\n",
    "df_step_1 = df_step_1.loc[null_list]\n",
    "\n",
    "df_step_1 = df_step_1.merge(\n",
    "    input_test,\n",
    "    left_on = 'index',\n",
    "    right_on = 'No',\n",
    "    how = 'left'\n",
    ")\n",
    "\n",
    "df_step_1.to_excel(input_path + \"df_step_1\" + str(dt.datetime.now().strftime('%y%m%d_%H%M%S')) + \".xlsx\")\n",
    "print(df_step_1.shape)\n",
    "df_step_1"
   ]
  },
  {
   "cell_type": "code",
   "execution_count": null,
   "id": "7d6e0dae",
   "metadata": {},
   "outputs": [],
   "source": []
  },
  {
   "cell_type": "code",
   "execution_count": null,
   "id": "6456693e",
   "metadata": {},
   "outputs": [],
   "source": []
  },
  {
   "cell_type": "code",
   "execution_count": null,
   "id": "5d61c162",
   "metadata": {},
   "outputs": [],
   "source": []
  },
  {
   "cell_type": "code",
   "execution_count": null,
   "id": "d41cd16e",
   "metadata": {},
   "outputs": [],
   "source": []
  },
  {
   "cell_type": "markdown",
   "id": "b6be6e40",
   "metadata": {},
   "source": [
    "# 여기서부터 다시"
   ]
  },
  {
   "cell_type": "code",
   "execution_count": null,
   "id": "20ae8924",
   "metadata": {},
   "outputs": [],
   "source": []
  },
  {
   "cell_type": "code",
   "execution_count": null,
   "id": "da821ce8",
   "metadata": {},
   "outputs": [],
   "source": [
    "# 중복 제거 다시 묻기\n",
    "# now = dt.datetime.now().strftime('%y%m%d_%H%M%S')    \n",
    "chk_unique()\n",
    "if yes_or_no('파일을 업로드하여 중복검사를 재실행 하시겠습니까?'):\n",
    "    \n",
    "    \n",
    "    ## 엑셀 READ한 후 중복검사 다시!\n",
    "#     sheet_name = \"수정이력_220925\"\n",
    "    df_step_1 = pd.read_excel(input_path, sheet_name=sheet_name, header=0)\n",
    "    df_step_1\n",
    "    \n",
    "    file_name = 'df_step_1_re' + \"_\" + str(dt.datetime.now().strftime('%y%m%d_%H%M%S') + \".xlsx\")\n",
    "    \n",
    "    chk_unique()\n",
    "    \n",
    "    df_step_1.to_excel(df_step_1, input_path + \"df_step_1\" + \".xlsx\")\n",
    "    print('[엑셀 파일을 생성하였습니다]: ' + file_name )\n",
    "else:\n",
    "    print('[진행하겠습니다]')\n",
    "# df_step_1_re.head()"
   ]
  },
  {
   "cell_type": "code",
   "execution_count": null,
   "id": "1e6d898a",
   "metadata": {},
   "outputs": [],
   "source": []
  },
  {
   "cell_type": "code",
   "execution_count": null,
   "id": "6ee8c8c5",
   "metadata": {},
   "outputs": [],
   "source": []
  },
  {
   "cell_type": "code",
   "execution_count": null,
   "id": "246d8129",
   "metadata": {},
   "outputs": [],
   "source": []
  },
  {
   "cell_type": "code",
   "execution_count": null,
   "id": "a146dcbe",
   "metadata": {},
   "outputs": [],
   "source": []
  },
  {
   "cell_type": "code",
   "execution_count": null,
   "id": "30cc1160",
   "metadata": {},
   "outputs": [],
   "source": [
    "df_step_1.loc[24].notna()"
   ]
  },
  {
   "cell_type": "code",
   "execution_count": null,
   "id": "26c140cc",
   "metadata": {},
   "outputs": [],
   "source": [
    "tmp_col = ['stwd_kor', 'num_kor', 'stwd_eng', 'num_eng']\n",
    "notna_list = []\n",
    "df_step_1 = df_step_1[tmp_col]\n",
    "for i in range(len(df_step_1TT)):\n",
    "    # 하나라도 값이 있다면 False, 모두 null일경우 True\n",
    "    if df_step_1.loc[i].isna().all() == False:\n",
    "        notna_list.append(i)\n",
    "notna_list\n",
    "df_step_1 = df_step_1.loc[notna_list]\n",
    "print(df_step_1.shape)\n",
    "df_step_1"
   ]
  },
  {
   "cell_type": "code",
   "execution_count": null,
   "id": "c039420e",
   "metadata": {},
   "outputs": [],
   "source": []
  },
  {
   "cell_type": "code",
   "execution_count": null,
   "id": "dee96ca1",
   "metadata": {},
   "outputs": [],
   "source": [
    "# df_step_1 = df_step_1[['index', 'stwd_kor', 'stwd_eng', 'num_kor', 'num_eng']]\n",
    "\n",
    "# # unique 뽑기 & null 값 제거\n",
    "df_step_uniq = df_step_1.dropna(axis = 0)\n",
    "df_step_uniq\n",
    "# df_step_uniq = df_step_uniq.sort_values(['stwd_kor', 'stwd_eng'])\n",
    "# print(df_step_uniq.shape)\n",
    "\n",
    "# df_step_uniq = df_step_uniq.merge(input_test, left_on='index', right_on='No', how='left')\n",
    "# print(df_step_uniq.shape)\n",
    "\n",
    "# df_step_uniq.tail(500)"
   ]
  },
  {
   "cell_type": "code",
   "execution_count": null,
   "id": "9f41374b",
   "metadata": {},
   "outputs": [],
   "source": [
    "df_step_1.dropna(axis = 0).isna()"
   ]
  },
  {
   "cell_type": "code",
   "execution_count": null,
   "id": "9a2fccc3",
   "metadata": {},
   "outputs": [],
   "source": [
    "df_step_1TT = df_step_1[]"
   ]
  },
  {
   "cell_type": "code",
   "execution_count": null,
   "id": "2425a9f6",
   "metadata": {},
   "outputs": [],
   "source": []
  },
  {
   "cell_type": "code",
   "execution_count": null,
   "id": "6aaeb05b",
   "metadata": {},
   "outputs": [],
   "source": [
    "df_step_1.shape"
   ]
  },
  {
   "cell_type": "code",
   "execution_count": null,
   "id": "fa6de55b",
   "metadata": {},
   "outputs": [],
   "source": [
    "stwd_total_cnt"
   ]
  },
  {
   "cell_type": "code",
   "execution_count": null,
   "id": "681b32c3",
   "metadata": {},
   "outputs": [],
   "source": [
    "df_step_1TT.loc[100].isna().all()"
   ]
  },
  {
   "cell_type": "code",
   "execution_count": null,
   "id": "d1e65a8c",
   "metadata": {},
   "outputs": [],
   "source": [
    "df_step_1TT"
   ]
  },
  {
   "cell_type": "code",
   "execution_count": null,
   "id": "5ce1de4e",
   "metadata": {},
   "outputs": [],
   "source": [
    "df_step_1TT"
   ]
  },
  {
   "cell_type": "code",
   "execution_count": null,
   "id": "e1d4592f",
   "metadata": {},
   "outputs": [],
   "source": []
  },
  {
   "cell_type": "code",
   "execution_count": null,
   "id": "b9148ccf",
   "metadata": {},
   "outputs": [],
   "source": []
  },
  {
   "cell_type": "code",
   "execution_count": null,
   "id": "9f82b8a8",
   "metadata": {},
   "outputs": [],
   "source": [
    "len(notna_list)"
   ]
  },
  {
   "cell_type": "code",
   "execution_count": null,
   "id": "3776be76",
   "metadata": {},
   "outputs": [],
   "source": [
    "df_step_1TT.loc[13639].isna().all()"
   ]
  },
  {
   "cell_type": "code",
   "execution_count": null,
   "id": "b6f2fddf",
   "metadata": {},
   "outputs": [],
   "source": [
    "df_step_1[df_step_1.notna()]"
   ]
  },
  {
   "cell_type": "code",
   "execution_count": null,
   "id": "6671ada8",
   "metadata": {},
   "outputs": [],
   "source": []
  },
  {
   "cell_type": "code",
   "execution_count": null,
   "id": "6dc9d65b",
   "metadata": {},
   "outputs": [],
   "source": [
    "# 중복제거 후 다시 합쳐서 검사(1안)\n",
    "\n",
    "# 한글 중복제거\n",
    "col_stwd_kor = ['stwd_kor', 'num_kor']\n",
    "unique_kor = stwd_total['stwd_kor'].drop_duplicates()\n",
    "stwd_kor_unique = stwd_total.loc[unique_kor.index][col_stwd_kor]\n",
    "print(\"한글명중복제거:\"+ str(stwd_kor_unique.shape))\n",
    "# stwd_kor_unique\n",
    "\n",
    "# 영문 중복제거\n",
    "col_stwd_eng = ['stwd_eng', 'num_eng']\n",
    "unique_eng = stwd_total['stwd_eng'].drop_duplicates()\n",
    "stwd_eng_unique = stwd_total.loc[unique_eng.index][col_stwd_eng]\n",
    "print(\"영문명중복제거:\"+ str(stwd_eng_unique.shape))\n",
    "# stwd_eng_unique.tail(100)\n",
    "\n",
    "# 한글+영문 일렬 세우기\n",
    "df_step_1 = pd.DataFrame(stwd_total['index'])\n",
    "df_step_1 = df_step_1.merge(\n",
    "    stwd_kor_unique,\n",
    "    left_index = True,\n",
    "    right_index = True,\n",
    "    how = 'left'\n",
    ").merge(\n",
    "    stwd_eng_unique,\n",
    "    left_index = True,\n",
    "    right_index = True,\n",
    "    how = 'left'\n",
    ")\n",
    "# df_step_1 = df_step_1[['index', 'stwd_kor', 'stwd_eng', 'num_kor', 'num_eng']]\n",
    "\n",
    "# # unique 뽑기 & null 값 제거\n",
    "df_step_uniq = df_step_1.dropna(axis = 0)\n",
    "df_step_uniq\n",
    "# df_step_uniq = df_step_uniq.sort_values(['stwd_kor', 'stwd_eng'])\n",
    "# print(df_step_uniq.shape)\n",
    "\n",
    "# df_step_uniq = df_step_uniq.merge(input_test, left_on='index', right_on='No', how='left')\n",
    "# print(df_step_uniq.shape)\n",
    "\n",
    "# df_step_uniq.tail(500)"
   ]
  },
  {
   "cell_type": "code",
   "execution_count": null,
   "id": "b14e6c1f",
   "metadata": {},
   "outputs": [],
   "source": [
    "df_step_1.dropna(axis = 0)"
   ]
  },
  {
   "cell_type": "code",
   "execution_count": null,
   "id": "ccb18d22",
   "metadata": {},
   "outputs": [],
   "source": [
    "print(df_step_uniq.shape)\n",
    "print(df_step_uniq.shape)\n",
    "print(df_step_1.shape)"
   ]
  },
  {
   "cell_type": "code",
   "execution_count": null,
   "id": "e6af191d",
   "metadata": {},
   "outputs": [],
   "source": []
  },
  {
   "cell_type": "code",
   "execution_count": null,
   "id": "6acd4d6e",
   "metadata": {},
   "outputs": [],
   "source": []
  },
  {
   "cell_type": "code",
   "execution_count": null,
   "id": "d2f6ac72",
   "metadata": {},
   "outputs": [],
   "source": [
    "df_step_uniq.to_excel(input_path + \"220928.xlsx\")"
   ]
  },
  {
   "cell_type": "code",
   "execution_count": null,
   "id": "8cd96e74",
   "metadata": {},
   "outputs": [],
   "source": [
    "## 파일 생성 -> 중복 없어질때까지 n회 반복"
   ]
  },
  {
   "cell_type": "markdown",
   "id": "cd4db270",
   "metadata": {},
   "source": [
    "## step1.1. 끝\n",
    "일렬 나열 및 단순 중복 제거"
   ]
  },
  {
   "cell_type": "markdown",
   "id": "66809815",
   "metadata": {},
   "source": [
    "## step1.2. 시작\n",
    "스텝 1.2. 는 중복제거 한 파일을 ID를 기준으로 다시 중복제거 한 후, 재점검하여, 아닌 것 같은 경우는 초기 input 파일(원본)처럼 만듦"
   ]
  },
  {
   "cell_type": "code",
   "execution_count": null,
   "id": "39b2954a",
   "metadata": {},
   "outputs": [],
   "source": []
  },
  {
   "cell_type": "code",
   "execution_count": null,
   "id": "3754c2c0",
   "metadata": {},
   "outputs": [],
   "source": []
  },
  {
   "cell_type": "code",
   "execution_count": null,
   "id": "bfd9f913",
   "metadata": {},
   "outputs": [],
   "source": [
    "stwd_total"
   ]
  },
  {
   "cell_type": "code",
   "execution_count": null,
   "id": "097f6187",
   "metadata": {},
   "outputs": [],
   "source": []
  },
  {
   "cell_type": "code",
   "execution_count": null,
   "id": "d864b543",
   "metadata": {},
   "outputs": [],
   "source": []
  },
  {
   "cell_type": "code",
   "execution_count": null,
   "id": "fbf839ca",
   "metadata": {},
   "outputs": [],
   "source": []
  },
  {
   "cell_type": "code",
   "execution_count": null,
   "id": "4e3d0193",
   "metadata": {},
   "outputs": [],
   "source": [
    "kor_emti_chk()"
   ]
  },
  {
   "cell_type": "code",
   "execution_count": null,
   "id": "ff01eae0",
   "metadata": {},
   "outputs": [],
   "source": []
  },
  {
   "cell_type": "code",
   "execution_count": null,
   "id": "a0aa57b1",
   "metadata": {},
   "outputs": [],
   "source": [
    "df_lower_kor "
   ]
  },
  {
   "cell_type": "code",
   "execution_count": null,
   "id": "52547d2d",
   "metadata": {},
   "outputs": [],
   "source": [
    "pd.to_numeric(df_step_raw1['id_uniq_chk{}'.format(i)])"
   ]
  },
  {
   "cell_type": "code",
   "execution_count": null,
   "id": "40663324",
   "metadata": {},
   "outputs": [],
   "source": []
  },
  {
   "cell_type": "code",
   "execution_count": null,
   "id": "9e84f504",
   "metadata": {},
   "outputs": [],
   "source": [
    "# stwd_kor_unique = stwd_total.iloc[stwd_kor_unique.index]\n",
    "# stwd_eng_unique = stwd_total.iloc[stwd_eng_unique.index]\n",
    "stwd_eng_unique"
   ]
  },
  {
   "cell_type": "code",
   "execution_count": null,
   "id": "ec6f6142",
   "metadata": {},
   "outputs": [],
   "source": [
    "stwd_total['stwd_eng'][7289]"
   ]
  },
  {
   "cell_type": "code",
   "execution_count": null,
   "id": "e7a3303e",
   "metadata": {},
   "outputs": [],
   "source": [
    "stwd_total['stwd_eng'].drop_duplicates()"
   ]
  },
  {
   "cell_type": "code",
   "execution_count": null,
   "id": "a7992617",
   "metadata": {},
   "outputs": [],
   "source": [
    "# id 유니크 체크\n",
    "# id 컬럼 만들기\n",
    "stwd_total['id'] = stwd_total['stwd_kor'] + stwd_total['stwd_eng']\n",
    "\n",
    "# uniq 항목 체크하기\n",
    "stwd_unique_list = stwd_total['id'].drop_duplicates()\n",
    "stwd_unique = stwd_total.loc[stwd_unique_list.index]\n",
    "stwd_total['uniq_chk'] = ''\n",
    "stwd_total.loc[stwd_unique_list.index, 'uniq_chk'] = 1\n",
    "stwd_total"
   ]
  },
  {
   "cell_type": "code",
   "execution_count": null,
   "id": "dbff5edd",
   "metadata": {},
   "outputs": [],
   "source": [
    "# 컬럼수만큼 테이블 만들고, 유니크 체그(한글명 id로만)\n",
    "df_step_raw1 = df_index\n",
    "for i in range(col_cnt):\n",
    "    globals()['stwd_kor_uinq{}'.format(i)] = stwd_total[stwd_total['num_kor'] == 'num_kor{}'.format(i)]\n",
    "    kor_list = ['index', 'stwd_kor', 'num_kor', 'dupl_list_kor', 'uniq_chk', 'id']\n",
    "    globals()['stwd_kor_uinq{}'.format(i)] = globals()['stwd_kor_uinq{}'.format(i)][kor_list]\n",
    "    globals()['stwd_kor_uinq{}'.format(i)].columns = [\n",
    "        'index', \n",
    "        'stwd_kor{}'.format(i), \n",
    "        'num_kor{}'.format(i), \n",
    "        'dupl_list_kor{}'.format(i),\n",
    "        'id_uniq_chk{}'.format(i),\n",
    "        'id{}'.format(i)\n",
    "    ]\n",
    "    globals()['stwd_eng_uinq{}'.format(i)] = stwd_total[stwd_total['num_eng'] == 'num_eng{}'.format(i)]\n",
    "    eng_list = ['index', 'stwd_eng', 'num_eng', 'dupl_list_eng']\n",
    "    globals()['stwd_eng_uinq{}'.format(i)] = globals()['stwd_eng_uinq{}'.format(i)][eng_list]\n",
    "    globals()['stwd_eng_uinq{}'.format(i)].columns = [\n",
    "        'index', \n",
    "        'stwd_eng{}'.format(i), \n",
    "        'num_eng{}'.format(i), \n",
    "        'dupl_list_eng{}'.format(i)\n",
    "    ]\n",
    "    # 한글,영문 통합하여 원본데이터 형태로\n",
    "    df_step_raw1 = df_step_raw1.merge(\n",
    "        globals()['stwd_kor_uinq{}'.format(i)], \n",
    "        on = 'index',\n",
    "        how = 'left'\n",
    "    ).merge(\n",
    "        globals()['stwd_eng_uinq{}'.format(i)], \n",
    "        on ='index',\n",
    "        how = 'left'\n",
    "    )\n",
    "    \n",
    "# 각 row의 unique(id) 반복 횟수 적기 \n",
    "id_uniq_chk_sum = 0\n",
    "for i in range(col_cnt):\n",
    "    globals()['id_uniq_chk{}'.format(i)] = pd.to_numeric(df_step_raw1['id_uniq_chk{}'.format(i)])\n",
    "    id_uniq_chk_sum = id_uniq_chk_sum + globals()['id_uniq_chk{}'.format(i)].fillna(0)\n",
    "id_uniq_chk_sum = pd.DataFrame(id_uniq_chk_sum, columns = ['id_uniq_chk_sum'])\n",
    "\n",
    "# 계산값 df에 추가하기\n",
    "df_step_raw1 = df_step_raw1.merge(\n",
    "    id_uniq_chk_sum,\n",
    "    left_index = True,\n",
    "    right_index = True,\n",
    "    how = 'left'\n",
    ")\n",
    "\n",
    "df_step_raw1"
   ]
  },
  {
   "cell_type": "code",
   "execution_count": null,
   "id": "0aede77d",
   "metadata": {},
   "outputs": [],
   "source": []
  },
  {
   "cell_type": "code",
   "execution_count": null,
   "id": "6d18a85e",
   "metadata": {},
   "outputs": [],
   "source": [
    "df_step_raw1[tmp_col_list]"
   ]
  },
  {
   "cell_type": "code",
   "execution_count": null,
   "id": "15ce2790",
   "metadata": {},
   "outputs": [],
   "source": [
    "# null 제거\n",
    "df_step_1 = df_step_raw1[df_step_raw1['stwd_kor0'].notna()]\n",
    "\n",
    "# 빈칸 제거\n",
    "df_step_1 = df_step_1.loc[df_step_1['stwd_kor0'] != \"\"]\n",
    "\n",
    "# 필요 컬럼 추리기\n",
    "tmp_col_list = ['index', 'id_uniq_chk_sum']\n",
    "for i in range(col_cnt):\n",
    "    tmp_col_list.append('stwd_kor{}'.format(i))\n",
    "    tmp_col_list.append('stwd_eng{}'.format(i))\n",
    "    tmp_col_list.append('id_uniq_chk{}'.format(i))\n",
    "    tmp_col_list.append('id{}'.format(i))\n",
    "df_step_1 = df_step_1[tmp_col_list]\n",
    "\n",
    "# row의 id 반복 횟수 적기(1 이상) \n",
    "df_step_1 = df_step_1.loc[df_step_1['id_uniq_chk_sum'] >= 1]\n",
    "\n",
    "# 순서 정리\n",
    "df_step_1 = df_step_1.sort_values(['stwd_kor0', 'stwd_eng0'])\n",
    "\n",
    "print('카운트_전 :'+ str(df_step_raw1.shape))\n",
    "print('카운트_후 :'+ str(df_step_1.shape))\n",
    "# df_step_1.to_excel(input_path + \"1step안_완.xlsx\")\n",
    "df_step_1.to_excel(input_path + \"1step안_완Real.xlsx\")\n",
    "df_step_1.head(500)"
   ]
  },
  {
   "cell_type": "code",
   "execution_count": null,
   "id": "a5a2922b",
   "metadata": {},
   "outputs": [],
   "source": []
  },
  {
   "cell_type": "code",
   "execution_count": null,
   "id": "56db1599",
   "metadata": {},
   "outputs": [],
   "source": [
    "\n",
    "# 계산값 df에 추가하기\n",
    "df_step_1 = df_step_1.merge(\n",
    "    id_uniq_chk_sum,\n",
    "    left_index = True,\n",
    "    right_index = True,\n",
    "    how = 'left'\n",
    ")\n",
    "df_step_1"
   ]
  },
  {
   "cell_type": "code",
   "execution_count": null,
   "id": "a2b649ea",
   "metadata": {},
   "outputs": [],
   "source": []
  },
  {
   "cell_type": "code",
   "execution_count": null,
   "id": "c3da33b8",
   "metadata": {},
   "outputs": [],
   "source": []
  },
  {
   "cell_type": "code",
   "execution_count": null,
   "id": "a9beec13",
   "metadata": {},
   "outputs": [],
   "source": [
    "# 그냥 다시 합치기(한/영)\n",
    "df_exam_raw1 = df_index\n",
    "\n",
    "for i in range(col_cnt):\n",
    "    globals()['stwd_kor_uni{}'.format(i)] = stwd_total[stwd_total['num_kor'] == 'num_kor{}'.format(i)]\n",
    "    kor_list = ['index', 'stwd_kor', 'num_kor', 'dupl_list_kor']\n",
    "    globals()['stwd_kor_uni{}'.format(i)] = globals()['stwd_kor_uni{}'.format(i)][kor_list]\n",
    "    globals()['stwd_kor_uni{}'.format(i)].columns = [\n",
    "        'index', 'stwd_kor{}'.format(i), \n",
    "        'num_kor{}'.format(i), \n",
    "        'dupl_list_kor{}'.format(i) \n",
    "    ]\n",
    "    globals()['stwd_eng_uni{}'.format(i)] = stwd_total[stwd_total['num_eng'] == 'num_eng{}'.format(i)]\n",
    "    eng_list = ['index', 'stwd_eng', 'num_eng', 'dupl_list_eng']\n",
    "    globals()['stwd_eng_uni{}'.format(i)] = globals()['stwd_eng_uni{}'.format(i)][eng_list]\n",
    "    globals()['stwd_eng_uni{}'.format(i)].columns = [\n",
    "        'index', 'stwd_eng{}'.format(i), \n",
    "        'num_eng{}'.format(i), \n",
    "        'dupl_list_eng{}'.format(i) \n",
    "    ]\n",
    "    df_exam_raw1 = df_exam_raw1.merge(\n",
    "        globals()['stwd_kor_uni{}'.format(i)], \n",
    "        on = 'index',\n",
    "        how = 'left'\n",
    "    ).merge(\n",
    "        globals()['stwd_eng_uni{}'.format(i)], \n",
    "        on ='index',\n",
    "        how = 'left'\n",
    "    )\n",
    "    \n",
    "\n",
    "df_exam_raw1"
   ]
  },
  {
   "cell_type": "code",
   "execution_count": null,
   "id": "4112a2ad",
   "metadata": {},
   "outputs": [],
   "source": []
  },
  {
   "cell_type": "code",
   "execution_count": null,
   "id": "17c01f82",
   "metadata": {},
   "outputs": [],
   "source": [
    "\n",
    "#     log = stwd_kor_unique[stwd_kor_unique['num_kor'] == 'num_kor{}'.format(i)]\n",
    "#     print('===========================================================================')\n",
    "#     print(log)\n",
    "    df_exam_raw1 = df_exam_raw1.merge(\n",
    "        globals()['stwd_kor_uni{}'.format(i)], \n",
    "        on = 'index',\n",
    "        how = 'left'\n",
    "    ).merge(\n",
    "        globals()['stwd_eng_uni{}'.format(i)], \n",
    "        on ='index',\n",
    "        how = 'left'\n",
    "    )\n",
    "\n",
    "df_exam_1 = df_exam_raw1.sort_values(['index', 'stwd_kor0'])\n",
    "print(df_exam_1.shape)\n",
    "df_exam_raw1.tail(50)\n",
    "# df_exam_raw1.head(500)"
   ]
  },
  {
   "cell_type": "code",
   "execution_count": null,
   "id": "a2a156e2",
   "metadata": {},
   "outputs": [],
   "source": [
    "stwd_unique_list.index"
   ]
  },
  {
   "cell_type": "code",
   "execution_count": null,
   "id": "36b91289",
   "metadata": {},
   "outputs": [],
   "source": [
    "# (일렬)id 유니크 만 탐색\n",
    "stwd_unique_list = stwd_total['id'].drop_duplicates()\n",
    "stwd_unique = stwd_total.loc[stwd_unique_list.index]\n",
    "a = stwd_total.iloc[stwd_unique_list.index]\n",
    "a\n"
   ]
  },
  {
   "cell_type": "code",
   "execution_count": null,
   "id": "8b868ac7",
   "metadata": {},
   "outputs": [],
   "source": [
    "stwd_unique"
   ]
  },
  {
   "cell_type": "code",
   "execution_count": null,
   "id": "2c458820",
   "metadata": {},
   "outputs": [],
   "source": [
    "# 우선 그대로 원복하고, index list 만들어서 조회만..?\n",
    "stwd_total['id'] = stwd_total['stwd_kor'] + stwd_total['stwd_eng']\n",
    "stwd_unique_list = stwd_total['id'].drop_duplicates()\n",
    "stwd_unique = stwd_total.loc[stwd_unique_list.index]\n",
    "print(stwd_unique.shape)\n",
    "stwd_unique\n",
    "stwd_kor_unique = stwd_unique[['index', 'stwd_kor', 'num_kor', 'dupl_list_kor']]\n",
    "stwd_eng_unique = stwd_unique[['index', 'stwd_eng', 'num_eng', 'dupl_list_eng']]\n",
    "stwd_kor_unique"
   ]
  },
  {
   "cell_type": "code",
   "execution_count": null,
   "id": "d7a27b41",
   "metadata": {},
   "outputs": [],
   "source": []
  },
  {
   "cell_type": "code",
   "execution_count": null,
   "id": "c6a726a5",
   "metadata": {},
   "outputs": [],
   "source": [
    "# 다시 합치기(한/영)\n",
    "df_exam_raw1 = a\n",
    "\n",
    "for i in range(col_cnt):\n",
    "    globals()['stwd_kor_uni{}'.format(i)] = stwd_kor_unique[stwd_kor_unique['num_kor'] == 'num_kor{}'.format(i)]\n",
    "    globals()['stwd_kor_uni{}'.format(i)].columns = [\n",
    "        'index', 'stwd_kor{}'.format(i), \n",
    "        'num_kor{}'.format(i), \n",
    "        'dupl_list_kor{}'.format(i) \n",
    "    ]\n",
    "    globals()['stwd_eng_uni{}'.format(i)] = stwd_eng_unique[stwd_eng_unique['num_eng'] == 'num_eng{}'.format(i)]\n",
    "    globals()['stwd_eng_uni{}'.format(i)].columns = [\n",
    "        'index', 'stwd_eng{}'.format(i), \n",
    "        'num_eng{}'.format(i), \n",
    "        'dupl_list_eng{}'.format(i) \n",
    "    ]\n",
    "#     log = stwd_kor_unique[stwd_kor_unique['num_kor'] == 'num_kor{}'.format(i)]\n",
    "#     print('===========================================================================')\n",
    "#     print(log)\n",
    "    df_exam_raw1 = df_exam_raw1.merge(\n",
    "        globals()['stwd_kor_uni{}'.format(i)], \n",
    "        on = 'index',\n",
    "        how = 'left'\n",
    "    ).merge(\n",
    "        globals()['stwd_eng_uni{}'.format(i)], \n",
    "        on ='index',\n",
    "        how = 'left'\n",
    "    )\n",
    "\n",
    "df_exam_1 = df_exam_raw1.sort_values(['index', 'stwd_kor0'])\n",
    "print(df_exam_1.shape)\n",
    "df_exam_raw1.tail(50)\n",
    "# df_exam_raw1.head(500)"
   ]
  },
  {
   "cell_type": "code",
   "execution_count": null,
   "id": "0f73058e",
   "metadata": {},
   "outputs": [],
   "source": [
    "a.to_excel(input_path + \"3안.xlsx\")"
   ]
  },
  {
   "cell_type": "code",
   "execution_count": null,
   "id": "12359923",
   "metadata": {},
   "outputs": [],
   "source": []
  },
  {
   "cell_type": "code",
   "execution_count": null,
   "id": "a231654b",
   "metadata": {},
   "outputs": [],
   "source": []
  },
  {
   "cell_type": "code",
   "execution_count": null,
   "id": "a5e7541f",
   "metadata": {},
   "outputs": [],
   "source": []
  },
  {
   "cell_type": "code",
   "execution_count": null,
   "id": "a0d54e9b",
   "metadata": {
    "scrolled": true
   },
   "outputs": [],
   "source": [
    "# [1안] 중복제거(새로운 id 셍상)\n",
    "stwd_total['id'] = stwd_total['stwd_kor'] + stwd_total['stwd_eng']\n",
    "stwd_unique_list = stwd_total['id'].drop_duplicates()\n",
    "stwd_unique = stwd_total.loc[stwd_unique_list.index]\n",
    "print(stwd_unique.shape)\n",
    "stwd_unique\n",
    "stwd_kor_unique = stwd_unique[['index', 'stwd_kor', 'num_kor', 'dupl_list_kor']]\n",
    "stwd_eng_unique = stwd_unique[['index', 'stwd_eng', 'num_eng', 'dupl_list_eng']]\n",
    "stwd_kor_unique"
   ]
  },
  {
   "cell_type": "code",
   "execution_count": null,
   "id": "d3e629a8",
   "metadata": {
    "scrolled": false
   },
   "outputs": [],
   "source": [
    "# 다시 합치기(한/영)\n",
    "df_exam_raw1 = df_index\n",
    "\n",
    "for i in range(col_cnt):\n",
    "    globals()['stwd_kor_uni{}'.format(i)] = stwd_kor_unique[stwd_kor_unique['num_kor'] == 'num_kor{}'.format(i)]\n",
    "    globals()['stwd_kor_uni{}'.format(i)].columns = [\n",
    "        'index', 'stwd_kor{}'.format(i), \n",
    "        'num_kor{}'.format(i), \n",
    "        'dupl_list_kor{}'.format(i) \n",
    "    ]\n",
    "    globals()['stwd_eng_uni{}'.format(i)] = stwd_eng_unique[stwd_eng_unique['num_eng'] == 'num_eng{}'.format(i)]\n",
    "    globals()['stwd_eng_uni{}'.format(i)].columns = [\n",
    "        'index', 'stwd_eng{}'.format(i), \n",
    "        'num_eng{}'.format(i), \n",
    "        'dupl_list_eng{}'.format(i) \n",
    "    ]\n",
    "#     log = stwd_kor_unique[stwd_kor_unique['num_kor'] == 'num_kor{}'.format(i)]\n",
    "#     print('===========================================================================')\n",
    "#     print(log)\n",
    "    df_exam_raw1 = df_exam_raw1.merge(\n",
    "        globals()['stwd_kor_uni{}'.format(i)], \n",
    "        on = 'index',\n",
    "        how = 'left'\n",
    "    ).merge(\n",
    "        globals()['stwd_eng_uni{}'.format(i)], \n",
    "        on ='index',\n",
    "        how = 'left'\n",
    "    )\n",
    "\n",
    "df_exam_1 = df_exam_raw1.sort_values(['index', 'stwd_kor0'])\n",
    "print(df_exam_1.shape)\n",
    "df_exam_raw1.tail(50)\n",
    "# df_exam_raw1.head(500)"
   ]
  },
  {
   "cell_type": "code",
   "execution_count": null,
   "id": "828fef32",
   "metadata": {},
   "outputs": [],
   "source": []
  },
  {
   "cell_type": "code",
   "execution_count": null,
   "id": "8445d69e",
   "metadata": {},
   "outputs": [],
   "source": [
    "avg_avg_kor\n"
   ]
  },
  {
   "cell_type": "code",
   "execution_count": null,
   "id": "5e35d467",
   "metadata": {},
   "outputs": [],
   "source": []
  },
  {
   "cell_type": "markdown",
   "id": "2b033ab9",
   "metadata": {},
   "source": [
    "# sdfsㄹ\n"
   ]
  },
  {
   "cell_type": "code",
   "execution_count": null,
   "id": "77321473",
   "metadata": {},
   "outputs": [],
   "source": [
    "total_cnt = avg_avg_kor\n",
    "null_list = []\n",
    "for i in range(total_cnt):    \n",
    "    # row 기준 널 체크(값이 한개라도 있을 경우 포함)\n",
    "    if df_exam_1.iloc[i].notna().sum() > 1:\n",
    "        null_list.append(i)\n",
    "        \n",
    "#         print(i)\n",
    "df_exam_1 = df_exam_1.loc[null_list]\n",
    "df_exam_1.to_excel(input_path + \"1안.xlsx\")\n",
    "df_exam_1\n"
   ]
  },
  {
   "cell_type": "code",
   "execution_count": null,
   "id": "f68d8c8b",
   "metadata": {},
   "outputs": [],
   "source": [
    "# df_id = pd.DataFrame(stwd_total['id'])\n",
    "# df_exam_1 = df_exam_1.merge(df_id, left_index=True, right_index=True, how='left').tail()"
   ]
  },
  {
   "cell_type": "code",
   "execution_count": null,
   "id": "daefc588",
   "metadata": {},
   "outputs": [],
   "source": [
    "# # null 제거\n",
    "# df_exam_1 = df_exam_raw1[df_exam_raw1['stwd_kor0'].notna()]\n",
    "\n",
    "# # 빈칸 제거\n",
    "# df_exam_1 = df_exam_1.loc[df_exam_1['stwd_kor0'] != \"\"]\n",
    "\n",
    "# 필요 컬럼 추리기\n",
    "tmp_col_list = ['index']\n",
    "for i in range(col_cnt):\n",
    "    tmp_col_list.append('stwd_kor{}'.format(i))\n",
    "    tmp_col_list.append('stwd_eng{}'.format(i))\n",
    "tmp_col_list\n",
    "\n",
    "df_exam_1 = df_exam_1[tmp_col_list]\n",
    "# df_exam_1 = pd.concat([df_exam_1, df_id] ,axis=1)\n",
    "# id_unique_list = df_id['id'].drop_duplicates()\n",
    "# df_exam_1 = df_exam_1.loc[id_unique_list.index]\n",
    "print('2안과 카운트 비교:'+ str(df_exam_1.shape))\n",
    "df_exam_1.to_excel(input_path + \"1안.xlsx\")\n",
    "df_exam_1.head()\n",
    "\n"
   ]
  },
  {
   "cell_type": "code",
   "execution_count": null,
   "id": "361d1e20",
   "metadata": {},
   "outputs": [],
   "source": []
  },
  {
   "cell_type": "code",
   "execution_count": null,
   "id": "35c40f36",
   "metadata": {},
   "outputs": [],
   "source": []
  },
  {
   "cell_type": "code",
   "execution_count": null,
   "id": "72387d57",
   "metadata": {},
   "outputs": [],
   "source": []
  },
  {
   "cell_type": "code",
   "execution_count": null,
   "id": "fb11bd03",
   "metadata": {},
   "outputs": [],
   "source": [
    "re.sub('[A-Z0-9가-힣+]', '', stwd_total['stwd_kor'][i])"
   ]
  },
  {
   "cell_type": "code",
   "execution_count": null,
   "id": "3c73ffb7",
   "metadata": {},
   "outputs": [],
   "source": [
    "# 2안: 각각 중복제거 후 다시 합쳐서 검사\n",
    "# 한글 중복제거\n",
    "col_stwd_kor = ['index', 'stwd_kor', 'num_kor', 'dupl_list_kor']\n",
    "unique_kor = stwd_total['stwd_kor'].drop_duplicates()\n",
    "stwd_kor_unique = stwd_total.loc[unique_kor.index][col_stwd_kor]\n",
    "print(stwd_kor_unique.shape)\n",
    "stwd_kor_unique"
   ]
  },
  {
   "cell_type": "markdown",
   "id": "f2d1c868",
   "metadata": {},
   "source": [
    "# 참고"
   ]
  },
  {
   "cell_type": "code",
   "execution_count": null,
   "id": "51d8d259",
   "metadata": {},
   "outputs": [],
   "source": [
    "# 2안: 각각 중복제거 후 다시 합쳐서 검사\n",
    "# 한글 중복제거\n",
    "col_stwd_kor = ['index', 'stwd_kor', 'num_kor', 'dupl_list_kor']\n",
    "unique_kor = stwd_total['stwd_kor'].drop_duplicates()\n",
    "stwd_kor_unique = stwd_total.loc[unique_kor.index][col_stwd_kor]\n",
    "print(stwd_kor_unique.shape)\n",
    "stwd_kor_unique\n",
    "\n",
    "# 영문 중복제거\n",
    "col_stwd_eng = ['index', 'stwd_eng', 'num_eng', 'dupl_list_eng']\n",
    "unique_eng = stwd_total['stwd_eng'].drop_duplicates()\n",
    "stwd_eng_unique = stwd_total.loc[unique_eng.index][col_stwd_eng]\n",
    "print(stwd_eng_unique.shape)\n",
    "stwd_eng_unique\n",
    "\n",
    "# 다시 합치기(한/영)\n",
    "df_exam_raw1 = df_index\n",
    "\n",
    "for i in range(col_cnt):\n",
    "    globals()['stwd_kor_uni{}'.format(i)] = stwd_kor_unique[stwd_kor_unique['num_kor'] == 'num_kor{}'.format(i)]\n",
    "    globals()['stwd_kor_uni{}'.format(i)].columns = [\n",
    "        'index', 'stwd_kor{}'.format(i), \n",
    "        'num_kor{}'.format(i), \n",
    "        'dupl_list_kor{}'.format(i) \n",
    "    ]\n",
    "    globals()['stwd_eng_uni{}'.format(i)] = stwd_eng_unique[stwd_eng_unique['num_eng'] == 'num_eng{}'.format(i)]\n",
    "    globals()['stwd_eng_uni{}'.format(i)].columns = [\n",
    "        'index', 'stwd_eng{}'.format(i), \n",
    "        'num_eng{}'.format(i), \n",
    "        'dupl_list_eng{}'.format(i) \n",
    "    ]\n",
    "#     log = stwd_kor_unique[stwd_kor_unique['num_kor'] == 'num_kor{}'.format(i)]\n",
    "#     print('===========================================================================')\n",
    "#     print(log)\n",
    "    df_exam_raw1 = df_exam_raw1.merge(\n",
    "        globals()['stwd_kor_uni{}'.format(i)], \n",
    "        on = 'index',\n",
    "        how = 'left'\n",
    "    ).merge(\n",
    "        globals()['stwd_eng_uni{}'.format(i)], \n",
    "        on ='index',\n",
    "        how = 'left'\n",
    "    )\n",
    "\n",
    "print(df_exam_raw1.shape)\n",
    "df_exam_raw1.head()\n",
    "\n",
    "# null 제거\n",
    "df_exam_1 = df_exam_1[df_exam_1.notna()]\n",
    "\n",
    "# 빈칸 제거\n",
    "df_exam_1 = df_exam_1.loc[df_exam_1['stwd_kor0'] != \"\"]\n",
    "\n",
    "# 필요 컬럼 추리기\n",
    "tmp_col_list = ['index']\n",
    "for i in range(col_cnt):\n",
    "    tmp_col_list.append('stwd_kor{}'.format(i))\n",
    "    tmp_col_list.append('stwd_eng{}'.format(i))\n",
    "tmp_col_list\n",
    "\n",
    "df_exam_1 = df_exam_1[tmp_col_list]\n",
    "print('1안과 카운트 비교:'+ str(df_exam_1.shape))\n",
    "df_exam_1.to_excel(input_path + \"2안.xlsx\")\n",
    "df_exam_1.head()\n",
    "\n",
    "# 널값 카운트\n",
    "e = std_chk.loc[4, 'stwd_eng']\n",
    "# type(e)\n",
    "type(e) and pd.isna(e)\n",
    "\n",
    "pd.notna(e)"
   ]
  },
  {
   "cell_type": "code",
   "execution_count": null,
   "id": "175ff40d",
   "metadata": {},
   "outputs": [],
   "source": []
  },
  {
   "cell_type": "code",
   "execution_count": null,
   "id": "b2407c04",
   "metadata": {},
   "outputs": [],
   "source": []
  },
  {
   "cell_type": "code",
   "execution_count": null,
   "id": "552810d7",
   "metadata": {},
   "outputs": [],
   "source": []
  },
  {
   "cell_type": "code",
   "execution_count": null,
   "id": "0fa1294d",
   "metadata": {},
   "outputs": [],
   "source": [
    "## df_exam_1 와 원본 붙이기!!"
   ]
  },
  {
   "cell_type": "code",
   "execution_count": null,
   "id": "b6e8bb28",
   "metadata": {},
   "outputs": [],
   "source": [
    "unique_kor"
   ]
  },
  {
   "cell_type": "code",
   "execution_count": null,
   "id": "e200a674",
   "metadata": {},
   "outputs": [],
   "source": []
  },
  {
   "cell_type": "code",
   "execution_count": null,
   "id": "ccd8a75d",
   "metadata": {},
   "outputs": [],
   "source": []
  },
  {
   "cell_type": "code",
   "execution_count": null,
   "id": "fcfbd7b1",
   "metadata": {},
   "outputs": [],
   "source": []
  },
  {
   "cell_type": "code",
   "execution_count": null,
   "id": "9ebf412f",
   "metadata": {},
   "outputs": [],
   "source": []
  },
  {
   "cell_type": "code",
   "execution_count": null,
   "id": "1c879196",
   "metadata": {},
   "outputs": [],
   "source": []
  },
  {
   "cell_type": "code",
   "execution_count": null,
   "id": "c68d68d1",
   "metadata": {},
   "outputs": [],
   "source": [
    "df_exam_1.to_excel(input_path + \"df_exam_1.xlsx\")\n",
    "df_exam_1.to_excel(input_path + \"df_exam_1.xlsx\")\n",
    "stwd_total.to_excel(input_path + \"stwd_total.xlsx\")"
   ]
  },
  {
   "cell_type": "code",
   "execution_count": null,
   "id": "4cea1088",
   "metadata": {},
   "outputs": [],
   "source": [
    "STOP!!!!!!!!!!"
   ]
  },
  {
   "cell_type": "code",
   "execution_count": null,
   "id": "b293300e",
   "metadata": {},
   "outputs": [],
   "source": []
  },
  {
   "cell_type": "code",
   "execution_count": null,
   "id": "42b323eb",
   "metadata": {},
   "outputs": [],
   "source": [
    "stwd_total"
   ]
  },
  {
   "cell_type": "code",
   "execution_count": null,
   "id": "def9230d",
   "metadata": {},
   "outputs": [],
   "source": [
    "# 1차 검토\n",
    "# 유니크(한 * 영) 데이터 뽑아 엑셀 생성\n",
    "# 수정후 total 데이터 뽑아 엑셀 생성\n"
   ]
  },
  {
   "cell_type": "code",
   "execution_count": null,
   "id": "cfa8f546",
   "metadata": {},
   "outputs": [],
   "source": [
    "stwd_total_kor_unique"
   ]
  },
  {
   "cell_type": "code",
   "execution_count": null,
   "id": "ea4601dc",
   "metadata": {},
   "outputs": [],
   "source": [
    "stwd_total_kor_unique[stwd_total_kor_unique['num_kor'] == 'num_kor{}'.format(i)]"
   ]
  },
  {
   "cell_type": "code",
   "execution_count": null,
   "id": "6c9d4377",
   "metadata": {},
   "outputs": [],
   "source": [
    "tt = stwd_total_kor_unique[stwd_total_kor_unique['num_kor'] == 'num_kor{}'.format(0)]\n",
    "tt['stwd_kor']\n",
    "tt"
   ]
  },
  {
   "cell_type": "code",
   "execution_count": null,
   "id": "429ba1a2",
   "metadata": {},
   "outputs": [],
   "source": [
    "for i in range(kor_firts_cnt):\n",
    "#     a = pd.DataFrame()\n",
    "    globals()['stwd_kor_uni{}'.format(i)] = stwd_total_kor_unique[stwd_total_kor_unique['num_kor'] == 'num_kor{}'.format(i)]\n",
    "    print(i)"
   ]
  },
  {
   "cell_type": "code",
   "execution_count": null,
   "id": "097d6d1a",
   "metadata": {},
   "outputs": [],
   "source": [
    "ba = df_index.merge(globals()['stwd_kor_uni{}'.format(0)], left_on = 'index', right_on = 'index', how = 'left')\n",
    "ba"
   ]
  },
  {
   "cell_type": "code",
   "execution_count": null,
   "id": "f213cbba",
   "metadata": {},
   "outputs": [],
   "source": [
    "# 다시 합치기\n",
    "df_index_tmp = df_index\n",
    "\n",
    "for i in range(col_cnt):\n",
    "    a = stwd_total_kor_unique[stwd_total_kor_unique['num_kor'] == 'num_kor{}'.format(i)]\n",
    "    globals()['stwd_kor_uni{}'.format(i)] = stwd_total_kor_unique[stwd_total_kor_unique['num_kor'] == 'num_kor{}'.format(i)]\n",
    "    globals()['stwd_kor_uni{}'.format(i)].columns = ['index', 'stwd_kor{}'.format(i), 'num_kor{}'.format(i), 'dupl_list_kor{}'.format(i)]\n",
    "#     tmp['num_kor{}'.format(i)] = a['stwd_kor']\n",
    "    aa = a.merge(globals()['stwd_kor_uni{}'.format(i)], left_on = 'index', right_on = 'index', how = 'left')\n",
    "    print('===========================================================================')\n",
    "    print(a)\n",
    "    df_index_tmp = df_index_tmp.merge(\n",
    "        globals()['stwd_kor_uni{}'.format(i)], \n",
    "        left_on ='index',\n",
    "        right_on = 'index',\n",
    "        how = 'left'\n",
    "    )\n",
    "\n",
    "\n",
    "df_index_tmp "
   ]
  },
  {
   "cell_type": "code",
   "execution_count": null,
   "id": "fa031699",
   "metadata": {},
   "outputs": [],
   "source": [
    "df_index_tmp"
   ]
  },
  {
   "cell_type": "code",
   "execution_count": null,
   "id": "4b5850e3",
   "metadata": {
    "scrolled": true
   },
   "outputs": [],
   "source": [
    "df_index_tmp[df_index_tmp['stwd_kor{}'.format(0)].isna()]"
   ]
  },
  {
   "cell_type": "code",
   "execution_count": null,
   "id": "47c56bbb",
   "metadata": {},
   "outputs": [],
   "source": [
    "# null제거\n",
    "for i in range(col_cnt):\n",
    "    df_index_tmp['stwd_kor{}'.format(i)] = df_index_tmp['stwd_kor{}'.format(i)].fillna(\"\")\n",
    "    df_index_tmp['num_kor{}'.format(i)] = df_index_tmp['num_kor{}'.format(i)].fillna(\"\")\n",
    "    df_index_tmp['dupl_list_kor{}'.format(i)] = df_index_tmp['dupl_list_kor{}'.format(i)].fillna(\"\")"
   ]
  },
  {
   "cell_type": "code",
   "execution_count": null,
   "id": "9fd13aae",
   "metadata": {},
   "outputs": [],
   "source": [
    "    \n",
    "# null값 수정\n",
    "for i in range(col_cnt):\n",
    "    df_index_tmp['stwd_kor{}'.format(i)] = df_index_tmp['stwd_kor{}'.format(i)].fillna(\"\")\n",
    "    df_index_tmp['num_kor{}'.format(i)] = df_index_tmp['num_kor{}'.format(i)].fillna(\"\")\n",
    "    df_index_tmp['dupl_list_kor{}'.format(i)] = df_index_tmp['dupl_list_kor{}'.format(i)].fillna(\"\")"
   ]
  },
  {
   "cell_type": "code",
   "execution_count": null,
   "id": "de641306",
   "metadata": {},
   "outputs": [],
   "source": [
    "df_index_tmp.iloc[:,30]"
   ]
  },
  {
   "cell_type": "code",
   "execution_count": null,
   "id": "aa4adb36",
   "metadata": {},
   "outputs": [],
   "source": [
    "df_index_tmp['stwd_kor{}'.format(1)].fillna(\"\")"
   ]
  },
  {
   "cell_type": "code",
   "execution_count": null,
   "id": "be1d27ee",
   "metadata": {},
   "outputs": [],
   "source": [
    "\n",
    "    \n",
    "    \n",
    "    \n",
    "    \n",
    "#     input_split_kor[\"num_kor{}\".format(i)] = \"num_kor{}\".format(i)\n",
    "#     globals()[\"stwd_kor{}\".format(i)] = pd.concat(\n",
    "#             [\n",
    "#             df_index.fillna(\"\"), \n",
    "#             pd.DataFrame(input_split_kor[\"stwd_kor{}\".format(i)]).fillna(\"\"),\n",
    "#             pd.DataFrame(input_split_kor[\"num_kor{}\".format(i)]).fillna(\"\"),\n",
    "#             globals()[\"dupl_list_kor{}\".format(i)].fillna(\"\")\n",
    "#             ], "
   ]
  },
  {
   "cell_type": "code",
   "execution_count": null,
   "id": "73adb23c",
   "metadata": {},
   "outputs": [],
   "source": [
    "df_index_tmp = df_index\n",
    "df_index_tmp "
   ]
  },
  {
   "cell_type": "code",
   "execution_count": null,
   "id": "1cf5599c",
   "metadata": {},
   "outputs": [],
   "source": [
    "for i in range(kor_firts_cnt):\n",
    "    a = stwd_total_kor_unique[stwd_total_kor_unique['num_kor'] == 'num_kor{}'.format(i)]\n",
    "    globals()['stwd_kor_uni{}'.format(i)] = stwd_total_kor_unique[stwd_total_kor_unique['num_kor'] == 'num_kor{}'.format(i)]\n",
    "    globals()['stwd_kor_uni{}'.format(i)].columns = ['index', 'stwd_kor{}'.format(i), 'num_kor{}'.format(i), 'dupl_list_kor{}'.format(i)]\n",
    "#     tmp['num_kor{}'.format(i)] = a['stwd_kor']\n",
    "    aa = a.merge(globals()['stwd_kor_uni{}'.format(i)], left_on = 'index', right_on = 'index', how = 'left')\n",
    "    print('===========================================================================')\n",
    "    print(a)\n",
    "    df_index_tmp = df_index_tmp.merge(\n",
    "        globals()['stwd_kor_uni{}'.format(i)], \n",
    "        left_on ='index',\n",
    "        right_on = 'index',\n",
    "        how = 'left'\n",
    "    )\n",
    "df_index_tmp"
   ]
  },
  {
   "cell_type": "code",
   "execution_count": null,
   "id": "22690954",
   "metadata": {},
   "outputs": [],
   "source": [
    "df_index_tmp.columns"
   ]
  },
  {
   "cell_type": "code",
   "execution_count": null,
   "id": "fea5ae8a",
   "metadata": {},
   "outputs": [],
   "source": [
    "tmp = pd.DataFrame()\n",
    "for i in range(kor_firts_cnt):\n",
    "#     a = pd.DataFrame()\n",
    "    a = stwd_total_kor_unique[stwd_total_kor_unique['num_kor'] == 'num_kor{}'.format(i)]\n",
    "    globals()['stwd_kor_uni{}'.format(i)] = stwd_total_kor_unique[stwd_total_kor_unique['num_kor'] == 'num_kor{}'.format(i)]\n",
    "#     tmp['num_kor{}'.format(i)] = a['stwd_kor']\n",
    "    tmp = df_index.merge(\n",
    "        globals()['stwd_kor_uni{}'.format(i)], \n",
    "        left_on ='index',\n",
    "        right_on = 'index',\n",
    "        how = 'left'\n",
    "    )\n",
    "    print(i)\n",
    "    print('===========================================================================')\n",
    "    print(tmp)\n",
    "tmp"
   ]
  },
  {
   "cell_type": "code",
   "execution_count": null,
   "id": "e5790588",
   "metadata": {},
   "outputs": [],
   "source": [
    "stwd_total_kor_unique[stwd_total_kor_unique['num_kor'] == 'num_kor0']"
   ]
  },
  {
   "cell_type": "code",
   "execution_count": null,
   "id": "fe50c666",
   "metadata": {},
   "outputs": [],
   "source": [
    "stwd_total_kor_unique.loc[stwd_total_kor_unique['num_kor'] == 'num_kor0', 'num_kor']"
   ]
  },
  {
   "cell_type": "code",
   "execution_count": null,
   "id": "33d19b91",
   "metadata": {},
   "outputs": [],
   "source": []
  },
  {
   "cell_type": "code",
   "execution_count": null,
   "id": "df56f545",
   "metadata": {},
   "outputs": [],
   "source": [
    "unique_stwd_kor['stwd_kor'].drop_duplicates()"
   ]
  },
  {
   "cell_type": "code",
   "execution_count": null,
   "id": "fe87e1f8",
   "metadata": {},
   "outputs": [],
   "source": [
    "pd.DataFrame(unique_stwd_kor['stwd_kor'].drop_duplicates())"
   ]
  },
  {
   "cell_type": "code",
   "execution_count": null,
   "id": "faf29220",
   "metadata": {},
   "outputs": [],
   "source": []
  },
  {
   "cell_type": "code",
   "execution_count": null,
   "id": "ce06d9f5",
   "metadata": {},
   "outputs": [],
   "source": []
  },
  {
   "cell_type": "code",
   "execution_count": null,
   "id": "3dbc50be",
   "metadata": {},
   "outputs": [],
   "source": [
    "# 특수기호 검사 : 한, 영\n",
    "# 소문자 검사 : 한, 영\n",
    "# 스페이스 제거 : 언제나\n",
    "input_test['용어명 분리'] = input_test['용어명 분리'].str.replace(\" \", \"\")"
   ]
  },
  {
   "cell_type": "code",
   "execution_count": null,
   "id": "ceebbf93",
   "metadata": {},
   "outputs": [],
   "source": []
  },
  {
   "cell_type": "code",
   "execution_count": null,
   "id": "95bc0090",
   "metadata": {},
   "outputs": [],
   "source": []
  },
  {
   "cell_type": "code",
   "execution_count": null,
   "id": "636fd968",
   "metadata": {},
   "outputs": [],
   "source": []
  },
  {
   "cell_type": "code",
   "execution_count": null,
   "id": "35f049b4",
   "metadata": {},
   "outputs": [],
   "source": []
  },
  {
   "cell_type": "code",
   "execution_count": null,
   "id": "b209151e",
   "metadata": {},
   "outputs": [],
   "source": []
  },
  {
   "cell_type": "code",
   "execution_count": null,
   "id": "373117fa",
   "metadata": {},
   "outputs": [],
   "source": []
  },
  {
   "cell_type": "markdown",
   "id": "a8ee9061",
   "metadata": {},
   "source": [
    "# 참고"
   ]
  },
  {
   "cell_type": "code",
   "execution_count": null,
   "id": "56913c4f",
   "metadata": {},
   "outputs": [],
   "source": [
    "############ num_kor(n) / num_eng(n) 기준으로 테이블 분리\n",
    "############ index 기준으로 left join하여 원상복구"
   ]
  },
  {
   "cell_type": "code",
   "execution_count": null,
   "id": "67bbdd23",
   "metadata": {},
   "outputs": [],
   "source": [
    "############## 이거 참고\n",
    "# db 조건 조회\n",
    "print(len(stwd_eng7.loc[stwd_eng7['stwd_eng7'] != \"\", 'stwd_eng7']))\n",
    "# 특수기호 제거\n",
    "# for i in range(len(input_test['영문약어명'])):\n",
    "#     tmp = input_test['영문약어명'][i].translate(str.maketrans('', '', string.punctuation))\n",
    "#     print(tmp)\n",
    "print(string.punctuation)"
   ]
  },
  {
   "cell_type": "code",
   "execution_count": null,
   "id": "21b17f8f",
   "metadata": {},
   "outputs": [],
   "source": [
    "# # 특수문자 제거\n",
    "# for i in range(len(input_test['영문약어명'])):\n",
    "#     tmp = input_test['영문약어명'][i].translate(str.maketrans('', '', string.punctuation))\n",
    "#     i += i\n",
    "#     print(tmp)\n",
    "# i"
   ]
  },
  {
   "cell_type": "code",
   "execution_count": null,
   "id": "c65db2d3",
   "metadata": {},
   "outputs": [],
   "source": [
    "# # -*- coding: utf-8 -*-\n",
    "# import sys\n",
    "# import re\n",
    "\n",
    "# def isHangul(text):\n",
    "#     #Check the Python Version\n",
    "#     pyVer3 =  sys.version_info >= (3, 0)\n",
    "\n",
    "#     if pyVer3 : # for Ver 3 or later\n",
    "#         encText = text\n",
    "#     else: # for Ver 2.x\n",
    "#         if type(text) is not unicode:\n",
    "#             encText = text.decode('utf-8')\n",
    "#         else:\n",
    "#             encText = text\n",
    "\n",
    "#     hanCount = len(re.findall(u'[\\u3130-\\u318F\\uAC00-\\uD7A3]+', encText))\n",
    "#     return hanCount > 0\n",
    "\n",
    "# 한글 영문 추리기1\n",
    "# if __name__ == '__main__':\n",
    "#     han = '한글'\n",
    "#     han2 = u'한글'\n",
    "#     input = 'English1234'  #utf-8\n",
    "#     input2 = u'English1234' #unicode\n",
    "#     #(major_ver, minor_ver) = (sys.version_info).split(',')\n",
    "#     print(han + \" is \" + str(isHangul(han)))\n",
    "#     print(han2 + \" is \" + str(isHangul(han2)))\n",
    "#     print(input + \" is \" + str(isHangul(input)))\n",
    "#     print(input2 + \" is \" + str(isHangul(input2)))\n",
    "\n",
    "# 한글 영문 추리기2\n",
    "# i = 23\n",
    "# print(stwd_total['stwd_eng'][i])\n",
    "# print(re.findall(u'[\\u3130-\\u318F\\uAC00-\\uD7A3]+', stwd_total['stwd_eng'][i]))\n",
    "# print(re.findall('[A-Za-z]', stwd_total['stwd_eng'][i]))"
   ]
  },
  {
   "cell_type": "code",
   "execution_count": null,
   "id": "4c613095",
   "metadata": {},
   "outputs": [],
   "source": [
    "# # 영문명에 한글명 포함되었는가 탐색\\\n",
    "        \n",
    "# # 한글 영어 최종 검색\n",
    "# print('[자동 처리 시작합니다]')\n",
    "# chk_list = []\n",
    "# stwd_total['stwd_cor_kor'] = ''\n",
    "# for i in range(len(stwd_total)):\n",
    "#     cor_kor = re.findall('[A-Z0-9가-힣+]', stwd_total['stwd_kor'][i])\n",
    "#     chk_kor = len(cor_kor) == len(list(stwd_total['stwd_kor'][i]))\n",
    "   \n",
    "#     if bool(chk_kor) == False:\n",
    "#         print(\"-----------------------------------------------------------------|\")\n",
    "#         print('index: ' + str(i))\n",
    "#         print(stwd_total['stwd_kor'][i] + \" -> \" + str(''.join(cor_kor)))\n",
    "#         chk_list.append(i)\n",
    "#     stwd_total['stwd_cor_kor'] = re.sub('[A-Z0-9가-힣+]', '', stwd_total['stwd_kor'][i])\n",
    "\n",
    "    \n",
    "# #     stwd_total.loc[i,'stwd_kor_chk'] = cor_kor\n",
    "# stwd_total_manu1 = stwd_total.iloc[chk_list]\n",
    "# print('[자동 처리 완료하였습니다]')\n",
    "# print(\"chk_list: \"+ str(len(chk_list)))\n",
    "# stwd_total_manu1\n",
    "\n",
    "# # 특수기호 제거\n",
    "\n",
    "# for i in range(stwd_total_cnt):\n",
    "#     stwd_total.loc[i, 'stwd_kor'] =  stwd_total['stwd_kor'][i].translate(str.maketrans('', '', string.punctuation))\n",
    "# #     stwd_total['stwd_kor'][i] = stwd_total['stwd_kor'][i].translate(str.maketrans('', '', string.punctuation)) # 안됨!!!\n",
    "#     cnt += i\n",
    "# print('[test] 적용 후: ' + str(stwd_total.loc[0, 'stwd_kor']))"
   ]
  },
  {
   "cell_type": "code",
   "execution_count": null,
   "id": "383bae0a",
   "metadata": {},
   "outputs": [],
   "source": [
    "# #####################################################################\n",
    "# # 한글 소문자 탐색 \n",
    "# test = 'test'\n",
    "# stwd_total.loc[2, 'stwd_kor'] = stwd_total.loc[2, 'stwd_kor'] + test\n",
    "# print('[test] 적용 전(가짜): ' + stwd_total.loc[2, 'stwd_kor'])\n",
    "# df_lower_kor = pd.DataFrame(columns = stwd_total.columns)\n",
    "# for i in range(stwd_total_cnt):\n",
    "#     if stwd_total['stwd_kor'][i].islower():\n",
    "#         tmp = pd.DataFrame(stwd_total.iloc[i,:]).transpose()\n",
    "#         df_lower_kor = pd.concat([df_lower_kor, tmp], axis=0)\n",
    "# stwd_total['stwd_kor_old'] = stwd_total['stwd_kor']\n",
    "# stwd_total['stwd_kor'] = stwd_total['stwd_kor'].str.upper()\n",
    "\n",
    "# # 적용 후 결과값\n",
    "# print('[test] 적용 후(대문자): ' + stwd_total.loc[2, 'stwd_kor'])\n",
    "# stwd_total.loc[2, 'stwd_kor'] = stwd_total.loc[2, 'stwd_kor'].strip(test.upper())\n",
    "# print('[test] 복구: 개시')\n",
    "# print('변경된 값: ' + str(len(df_lower_kor)) + '개')\n",
    "# stwd_total.head()\n",
    "\n",
    "# # 영문 소문자 탐색 \n",
    "# print('[test] 적용 전(소문자): ' + stwd_total.loc[2, 'stwd_eng'])\n",
    "# df_lower_eng = pd.DataFrame(columns = stwd_total.columns)\n",
    "# for i in range(stwd_total_cnt):\n",
    "#     if stwd_total['stwd_eng'][i].islower():\n",
    "#         tmp = pd.DataFrame(stwd_total.iloc[i,:]).transpose()\n",
    "#         df_lower_eng = pd.concat([df_lower_eng, tmp], axis=0)\n",
    "# stwd_total['stwd_eng_old'] = stwd_total['stwd_eng']\n",
    "# stwd_total['stwd_eng'] = stwd_total['stwd_eng'].str.upper()\n",
    "\n",
    "# # 적용 후 결과값\n",
    "# print('[test] 적용 후(대문자): ' + stwd_total.loc[2, 'stwd_eng'])\n",
    "# print('변경된 값: ' + str(len(df_lower_eng)) + '개')\n",
    "# stwd_total.head()"
   ]
  },
  {
   "cell_type": "code",
   "execution_count": null,
   "id": "48df0b69",
   "metadata": {},
   "outputs": [],
   "source": []
  },
  {
   "cell_type": "code",
   "execution_count": null,
   "id": "a5d4c2c7",
   "metadata": {},
   "outputs": [],
   "source": []
  },
  {
   "cell_type": "code",
   "execution_count": null,
   "id": "c2fbef91",
   "metadata": {},
   "outputs": [],
   "source": []
  },
  {
   "cell_type": "code",
   "execution_count": null,
   "id": "2b2092be",
   "metadata": {},
   "outputs": [],
   "source": []
  },
  {
   "cell_type": "code",
   "execution_count": null,
   "id": "0ca54755",
   "metadata": {},
   "outputs": [],
   "source": [
    "# left join\n",
    "for i in range(name_cnt):\n",
    "    globals()['stwd_total{}'.format(i)] = pd.merge(\n",
    "        globals()['stwd_kor{}'.format(i)],\n",
    "        globals()['stwd_eng{}'.format(i)],\n",
    "        on = 'index',\n",
    "        how = 'left'\n",
    "    )\n",
    "\n",
    "# 카운트 일치 여부 점검\n",
    "index_cnt = len(df_index['index'])\n",
    "if index_cnt != len(stwd_total0):\n",
    "    print(\"index 와 joined_date count불일치\")\n",
    "else:\n",
    "    print(\"count 일치\")\n",
    "stwd_total5"
   ]
  },
  {
   "cell_type": "code",
   "execution_count": null,
   "id": "b70b271d",
   "metadata": {},
   "outputs": [],
   "source": []
  },
  {
   "cell_type": "code",
   "execution_count": null,
   "id": "be7c10e9",
   "metadata": {},
   "outputs": [],
   "source": []
  },
  {
   "cell_type": "code",
   "execution_count": null,
   "id": "e76a4a32",
   "metadata": {},
   "outputs": [],
   "source": []
  },
  {
   "cell_type": "code",
   "execution_count": null,
   "id": "9665cb4c",
   "metadata": {},
   "outputs": [],
   "source": []
  },
  {
   "cell_type": "code",
   "execution_count": null,
   "id": "8c42ff45",
   "metadata": {},
   "outputs": [],
   "source": [
    "# merge\n",
    "for i in range(name_cnt):\n",
    "    globals()['stwd_total{}'.format(i)] = pd.concat(\n",
    "        [\n",
    "        globals()['stwd_kor{}'.format(i)],\n",
    "        globals()['stwd_eng{}'.format(i)]\n",
    "        ],\n",
    "        axis = 1        \n",
    "    )\n",
    "    print(i)\n",
    "# print(name_cnt)\n",
    "# print(name_cnt_diff_list)\n",
    "\n",
    "\n",
    "stwd_total1"
   ]
  },
  {
   "cell_type": "code",
   "execution_count": null,
   "id": "7cdbdaf2",
   "metadata": {},
   "outputs": [],
   "source": []
  },
  {
   "cell_type": "code",
   "execution_count": null,
   "id": "a5afb9dd",
   "metadata": {},
   "outputs": [],
   "source": []
  },
  {
   "cell_type": "code",
   "execution_count": null,
   "id": "71c988e5",
   "metadata": {},
   "outputs": [],
   "source": []
  },
  {
   "cell_type": "code",
   "execution_count": null,
   "id": "8ce65cf3",
   "metadata": {},
   "outputs": [],
   "source": []
  },
  {
   "cell_type": "code",
   "execution_count": null,
   "id": "bfce36ca",
   "metadata": {},
   "outputs": [],
   "source": [
    "for i in list(set(range(name_cnt)) - set(range(name_cnt_diff))):\n",
    "    print(i)\n"
   ]
  },
  {
   "cell_type": "code",
   "execution_count": null,
   "id": "01724074",
   "metadata": {},
   "outputs": [],
   "source": [
    "list(set(range(name_cnt_kor)) - set(range(name_cnt_eng)))"
   ]
  },
  {
   "cell_type": "code",
   "execution_count": null,
   "id": "8bd9c72e",
   "metadata": {},
   "outputs": [],
   "source": [
    "input_split_eng"
   ]
  },
  {
   "cell_type": "code",
   "execution_count": null,
   "id": "eae97030",
   "metadata": {},
   "outputs": [],
   "source": [
    "input_split_eng['stwd_eng6'] = None\n",
    "input_split_eng['stwd_eng6']"
   ]
  },
  {
   "cell_type": "code",
   "execution_count": null,
   "id": "3c9e415a",
   "metadata": {},
   "outputs": [],
   "source": [
    "input_split_eng['stwd_eng6']"
   ]
  },
  {
   "cell_type": "code",
   "execution_count": null,
   "id": "cf86aa8a",
   "metadata": {},
   "outputs": [],
   "source": [
    "# 한글/영문 컬럼 수 비교하기\n",
    "name_cnt_kor = len(name_list_kor)\n",
    "name_cnt_eng = len(name_list_eng)\n",
    "\n",
    "if name_cnt_kor == name_cnt_eng:\n",
    "    name_cnt = name_cnt_kor\n",
    "    name_cnt_diff_list = None\n",
    "elif name_cnt_kor > name_cnt_eng:\n",
    "    name_cnt = name_cnt_eng\n",
    "    name_cnt_diff_list = list(set(range(name_cnt_kor)) - set(range(name_cnt_eng)))\n",
    "    for i in name_cnt_diff_list:\n",
    "        input_split_eng['stwd_eng{}'.format(i)] = None\n",
    "        input_split_eng['num_eng{}'.format(i)] = None\n",
    "        globals()['stwd_eng{}'.format(i)] = pd.concat(\n",
    "            [\n",
    "                df_index,\n",
    "                pd.DataFrame(input_split_eng['stwd_eng{}'.format(i)]),\n",
    "                pd.DataFrame(input_split_eng[\"num_eng{}\".format(i)])\n",
    "            ],\n",
    "            axis = 1\n",
    "        )\n",
    "        \n",
    "        \n",
    "        \n",
    "elif name_cnt_kor < name_cnt_eng:\n",
    "    name_cnt = name_cnt_kor\n",
    "    name_cnt_diff_list = list(set(range(name_cnt_eng)) - set(range(name_cnt_kor)))\n",
    "    for i in name_cnt_diff_list:\n",
    "        input_split_kor['stwd_kor{}'.format(i)] = None\n",
    "        input_split_kor['num_kor{}'.format(i)] = None\n",
    "        globals()['stwd_kor{}'.format(i)] = pd.concat(\n",
    "            [\n",
    "                df_index,\n",
    "                pd.DataFrame(input_split_kor['stwd_kor{}'.format(i)]),\n",
    "                pd.DataFrame(input_split_kor[\"num_kor{}\".format(i)])\n",
    "            ],\n",
    "            axis = 1\n",
    "        )\n",
    "        \n",
    "\n",
    "stwd_eng7\n"
   ]
  },
  {
   "cell_type": "code",
   "execution_count": null,
   "id": "03271dd5",
   "metadata": {},
   "outputs": [],
   "source": [
    "stwd_eng6"
   ]
  },
  {
   "cell_type": "code",
   "execution_count": null,
   "id": "eee55fcd",
   "metadata": {},
   "outputs": [],
   "source": [
    "# 한글/영문 컬럼 수 비교하기\n",
    "name_cnt_kor = len(name_list)\n",
    "name_cnt_eng = len(name_list_eng)\n",
    "\n",
    "if name_cnt_kor == name_cnt_eng:\n",
    "    name_cnt = name_cnt_kor\n",
    "    name_cnt_diff_list = None\n",
    "elif name_cnt_kor > name_cnt_eng:\n",
    "    name_cnt = name_cnt_eng\n",
    "    name_cnt_diff_list = list(set(range(name_cnt_kor)) - set(range(name_cnt_eng)))\n",
    "    for i in name_cnt_diff_list:\n",
    "        globals()['stwd_eng{}'.format(i)] = None\n",
    "elif name_cnt_kor < name_cnt_eng:\n",
    "    name_cnt = name_cnt\n",
    "    name_cnt_diff_list = list(set(range(name_cnt_eng)) - set(range(name_cnt_kor)))\n",
    "    \n",
    "    \n",
    "\n",
    "    \n",
    "    \n",
    "for i in range(name_cnt):\n",
    "    globals()['stwd_total{}'.format(i)] = pd.concat(\n",
    "        [\n",
    "        globals()['stwd{}'.format(i)],\n",
    "        globals()['stwd_eng{}'.format(i)]\n",
    "        ],\n",
    "        axis = 1        \n",
    "    )\n",
    "    print(i)\n",
    "# print(name_cnt)\n",
    "# print(name_cnt_diff_list)"
   ]
  },
  {
   "cell_type": "code",
   "execution_count": null,
   "id": "f9979475",
   "metadata": {
    "scrolled": true
   },
   "outputs": [],
   "source": [
    "# 리스트 - 리스트\n",
    "list1 = [1,2]\n",
    "list2 = [1,2,3]\n",
    "list(set(list2) - set(list1))\n",
    "list(set(list1) - set(list2))\n",
    "list(set(list1).difference(set(list2)))\n",
    "list(set(range(10)) - set(range(2)))"
   ]
  },
  {
   "cell_type": "code",
   "execution_count": null,
   "id": "f36d01ae",
   "metadata": {},
   "outputs": [],
   "source": [
    "list(set(range(10)) - set(range(2)))"
   ]
  },
  {
   "cell_type": "code",
   "execution_count": null,
   "id": "1cb7b1be",
   "metadata": {},
   "outputs": [],
   "source": [
    "list(set(range(2)) - set(range(10)))"
   ]
  },
  {
   "cell_type": "code",
   "execution_count": null,
   "id": "19672885",
   "metadata": {},
   "outputs": [],
   "source": []
  },
  {
   "cell_type": "code",
   "execution_count": null,
   "id": "88a77a79",
   "metadata": {},
   "outputs": [],
   "source": []
  },
  {
   "cell_type": "code",
   "execution_count": null,
   "id": "a72e5ca8",
   "metadata": {},
   "outputs": [],
   "source": []
  },
  {
   "cell_type": "code",
   "execution_count": null,
   "id": "b0ef7e0a",
   "metadata": {},
   "outputs": [],
   "source": [
    "# 용어명 분리\n",
    "input_test['용어명 분리'] = input_test['용어명 분리'].str.replace(\" \", \"\")\n",
    "input_split = pd.DataFrame(input_test['용어명 분리'].str.split('_').tolist())\n",
    "name_list = []\n",
    "for i in range(len(input_split.columns)):\n",
    "    name_list.append(\"stwd{}\".format(i))\n",
    "print(name_list)\n",
    "# 컬럼명 만들기\n",
    "input_split = pd.DataFrame(input_test['용어명 분리'].str.split('_').tolist(), columns = name_list)\n",
    "# 인덱스 컬럼 추가\n",
    "df_index = pd.DataFrame(input_test['No'])\n",
    "df_index.columns = ['index']\n",
    "input_split= pd.concat([input_split, df_index], axis = 1)\n",
    "print(input_split.shape)\n",
    "input_split.head(5)"
   ]
  },
  {
   "cell_type": "code",
   "execution_count": null,
   "id": "67005077",
   "metadata": {},
   "outputs": [],
   "source": [
    "# 영문명 분리\n",
    "input_test['영문약어명'] = input_test['영문약어명'].str.replace(\" \", \"\")\n",
    "input_split_eng = pd.DataFrame(input_test['영문약어명'].str.split('_').tolist())\n",
    "name_list_eng = []\n",
    "for i in range(len(input_split_eng.columns)):\n",
    "    name_list_eng.append(\"stwd_eng{}\".format(i))\n",
    "print(name_list_eng)\n",
    "# 컬럼명 만들기\n",
    "input_split_eng = pd.DataFrame(input_test['영문약어명'].str.split('_').tolist(), columns = name_list_eng)\n",
    "# 인덱스 컬럼 추가\n",
    "# df_index = pd.DataFrame(input_test['No'])\n",
    "# df_index.columns = ['index']\n",
    "# input_split_eng= pd.concat([input_split_eng, df_index], axis = 1)\n",
    "print(input_split_eng.shape)\n",
    "input_split_eng.head(5)"
   ]
  },
  {
   "cell_type": "code",
   "execution_count": null,
   "id": "fcd75f26",
   "metadata": {},
   "outputs": [],
   "source": [
    "name_list = []\n",
    "for i in range(len(input_split_eng.columns)):\n",
    "    name_list_eng.append(\"stwd_eng{}\".format(i))"
   ]
  },
  {
   "cell_type": "code",
   "execution_count": null,
   "id": "c7aa71b5",
   "metadata": {},
   "outputs": [],
   "source": [
    "if len(name_list) == len(name_list_eng):\n",
    "    name_list_cnt = len(name_list)\n",
    "elif len(name_list) > len(name_list_eng):\n",
    "    name_list_cnt = len(name_list)\n",
    "elif len(name_list) < len(name_list_eng):\n",
    "    name_list_cnt = len(name_list_eng)\n",
    "    \n",
    "for i in range(name_list_cnt):\n",
    "    print(i)"
   ]
  },
  {
   "cell_type": "code",
   "execution_count": null,
   "id": "f925d077",
   "metadata": {},
   "outputs": [],
   "source": []
  },
  {
   "cell_type": "code",
   "execution_count": null,
   "id": "1789702b",
   "metadata": {},
   "outputs": [],
   "source": []
  },
  {
   "cell_type": "code",
   "execution_count": null,
   "id": "aad3c40c",
   "metadata": {},
   "outputs": [],
   "source": []
  },
  {
   "cell_type": "code",
   "execution_count": null,
   "id": "528a7e6f",
   "metadata": {},
   "outputs": [],
   "source": []
  },
  {
   "cell_type": "code",
   "execution_count": null,
   "id": "4b302682",
   "metadata": {},
   "outputs": [],
   "source": []
  },
  {
   "cell_type": "code",
   "execution_count": null,
   "id": "1d25f5db",
   "metadata": {},
   "outputs": [],
   "source": [
    "if len(name_list) == len(name_list_eng):\n",
    "    print(1)\n",
    "elif len(name_list) > len(name_list_eng):\n",
    "    print(2)    \n",
    "elif len(name_list) < len(name_list_eng):\n",
    "    print(3)"
   ]
  },
  {
   "cell_type": "code",
   "execution_count": null,
   "id": "1f4d71d5",
   "metadata": {},
   "outputs": [],
   "source": [
    "len(name_list_eng)"
   ]
  },
  {
   "cell_type": "code",
   "execution_count": null,
   "id": "717a24e4",
   "metadata": {},
   "outputs": [],
   "source": [
    "len(name_list)"
   ]
  },
  {
   "cell_type": "code",
   "execution_count": null,
   "id": "6f532858",
   "metadata": {},
   "outputs": [],
   "source": []
  },
  {
   "cell_type": "code",
   "execution_count": null,
   "id": "a610a2ce",
   "metadata": {},
   "outputs": [],
   "source": []
  },
  {
   "cell_type": "code",
   "execution_count": null,
   "id": "3b24e884",
   "metadata": {},
   "outputs": [],
   "source": []
  },
  {
   "cell_type": "code",
   "execution_count": null,
   "id": "a03325fa",
   "metadata": {},
   "outputs": [],
   "source": []
  },
  {
   "cell_type": "code",
   "execution_count": null,
   "id": "ada39004",
   "metadata": {},
   "outputs": [],
   "source": [
    "# 용어명 분리\n",
    "input_test['용어명 분리'] = input_test['용어명 분리'].str.replace(\" \", \"\")\n",
    "input_split = pd.DataFrame(input_test['용어명 분리'].str.split('_').tolist())\n",
    "name_list = []\n",
    "for i in range(len(input_split.columns)):\n",
    "    name_list.append(\"stwd{}\".format(i))\n",
    "print(name_list)\n",
    "# 컬럼명 만들기\n",
    "input_split = pd.DataFrame(input_test['용어명 분리'].str.split('_').tolist(), columns = name_list)\n",
    "print(input_split.shape)\n",
    "input_split.head(5)"
   ]
  },
  {
   "cell_type": "code",
   "execution_count": null,
   "id": "a097dc53",
   "metadata": {},
   "outputs": [],
   "source": [
    "# 단어별 개수 세기(네이밍 컬럼)\n",
    "dupl_list = []\n",
    "dupl_cnt = []\n",
    "for i in range(len(input_split.columns)):\n",
    "    globals()[\"dupl_list{}\".format(i)] = []\n",
    "    for j in range(len(input_split[\"stwd{}\".format(i)])):\n",
    "        dupl_cnt = input_split[\"stwd{}\".format(i)].to_list().count(input_split[\"stwd{}\".format(i)][j])\n",
    "        globals()[\"dupl_list{}\".format(i)].append(dupl_cnt)\n",
    "# df_dupl 힌즐 세우기\n",
    "df_dupl = pd.DataFrame()\n",
    "for i in range(len(input_split.columns)):\n",
    "    globals()[\"dupl_list{}\".format(i)]\n",
    "    df_dupl = pd.concat([df_dupl, pd.DataFrame(globals()[\"dupl_list{}\".format(i)])], axis = 0)\n",
    "df_dupl.columns = ['dupl']\n",
    "df_dupl"
   ]
  },
  {
   "cell_type": "code",
   "execution_count": null,
   "id": "0f87aa2a",
   "metadata": {},
   "outputs": [],
   "source": [
    "# df_index 한줄 세우기\n",
    "# df_index = pd.DataFrame(input_test['No'])\n",
    "df_index = pd.DataFrame()\n",
    "for i in range(len(input_split.columns)):\n",
    "#     globals()[\"df_index{}\".format(i)] = pd.DataFrame(input_test['No'])\n",
    "    df_index = pd.concat([df_index, pd.DataFrame(input_test['No'])])\n",
    "df_index.columns = ['index']\n",
    "df_index"
   ]
  },
  {
   "cell_type": "code",
   "execution_count": null,
   "id": "b840f19f",
   "metadata": {},
   "outputs": [],
   "source": [
    "# df_stwd 힌즐 세우기\n",
    "df_stwd = pd.DataFrame()\n",
    "for i in range(len(input_split.columns)):\n",
    "    globals()[\"df_stwd{}\".format(i)] = input_split[\"stwd{}\".format(i)]\n",
    "    df_stwd = pd.concat([df_stwd, globals()[\"df_stwd{}\".format(i)]])\n",
    "df_stwd.columns = ['stwd']\n",
    "df_stwd"
   ]
  },
  {
   "cell_type": "code",
   "execution_count": null,
   "id": "c251d8c1",
   "metadata": {},
   "outputs": [],
   "source": [
    "# df_chk\n",
    "df_chk = pd.concat([df_stwd, df_index], axis=1).reset_index() # 인덱스 초기화\n",
    "df_chk = df_chk[['stwd', 'index']]\n",
    "print(df_chk.shape)\n",
    "df_chk.tail(5)"
   ]
  },
  {
   "cell_type": "code",
   "execution_count": null,
   "id": "93a577f5",
   "metadata": {},
   "outputs": [],
   "source": [
    "### 한글 단어 분리"
   ]
  },
  {
   "cell_type": "code",
   "execution_count": null,
   "id": "543edf6f",
   "metadata": {},
   "outputs": [],
   "source": []
  },
  {
   "cell_type": "code",
   "execution_count": null,
   "id": "c414196e",
   "metadata": {},
   "outputs": [],
   "source": []
  },
  {
   "cell_type": "code",
   "execution_count": null,
   "id": "61dae374",
   "metadata": {},
   "outputs": [],
   "source": []
  },
  {
   "cell_type": "code",
   "execution_count": null,
   "id": "589597f8",
   "metadata": {},
   "outputs": [],
   "source": [
    "# 영문명 분리\n",
    "input_test['영문약어명'] = input_test['영문약어명'].str.replace(\" \", \"\")\n",
    "input_split_eng = pd.DataFrame(input_test['영문약어명'].str.split('_').tolist())\n",
    "name_list = []\n",
    "for i in range(len(input_split_eng.columns)):\n",
    "    name_list.append(\"stwd_eng{}\".format(i))\n",
    "print(name_list)\n",
    "# 컬럼명 만들기\n",
    "input_split_eng = pd.DataFrame(input_test['영문약어명'].str.split('_').tolist(), columns = name_list)\n",
    "print(input_split_eng.shape)\n",
    "input_split_eng.head(5)"
   ]
  },
  {
   "cell_type": "code",
   "execution_count": null,
   "id": "59da8e01",
   "metadata": {},
   "outputs": [],
   "source": [
    "# df_index 한줄 세우기\n",
    "df_index_eng = pd.DataFrame()\n",
    "for i in range(len(input_split_eng.columns)):\n",
    "    df_index_eng = pd.concat([df_index_eng, pd.DataFrame(input_test['No'])])\n",
    "df_index_eng.columns = ['index']\n",
    "df_index_eng"
   ]
  },
  {
   "cell_type": "code",
   "execution_count": null,
   "id": "cb612222",
   "metadata": {},
   "outputs": [],
   "source": [
    "# df_stwd_eng 힌즐 세우기\n",
    "df_stwd_eng = pd.DataFrame()\n",
    "for i in range(len(input_split_eng.columns)):\n",
    "    globals()[\"df_stwd_eng{}\".format(i)] = input_split_eng[\"stwd_eng{}\".format(i)]\n",
    "    df_stwd_eng = pd.concat([df_stwd_eng, globals()[\"df_stwd_eng{}\".format(i)]])\n",
    "df_stwd_eng.columns = ['stwd_eng']\n",
    "df_stwd_eng"
   ]
  },
  {
   "cell_type": "code",
   "execution_count": null,
   "id": "7a996ef4",
   "metadata": {},
   "outputs": [],
   "source": [
    "# df_chk_eng\n",
    "df_chk_eng = pd.concat([df_stwd_eng, df_index_eng], axis=1).reset_index() # 인덱스 초기화\n",
    "df_chk_eng = df_chk_eng[['stwd_eng', 'index']]\n",
    "print(df_chk_eng.shape)\n",
    "df_chk_eng.tail(5)"
   ]
  },
  {
   "cell_type": "code",
   "execution_count": null,
   "id": "00275015",
   "metadata": {},
   "outputs": [],
   "source": [
    "### 영문 단어 분리"
   ]
  },
  {
   "cell_type": "code",
   "execution_count": null,
   "id": "27250157",
   "metadata": {},
   "outputs": [],
   "source": []
  },
  {
   "cell_type": "code",
   "execution_count": null,
   "id": "f367521d",
   "metadata": {},
   "outputs": [],
   "source": []
  },
  {
   "cell_type": "code",
   "execution_count": null,
   "id": "bb81321d",
   "metadata": {},
   "outputs": [],
   "source": []
  },
  {
   "cell_type": "code",
   "execution_count": null,
   "id": "2dbf3a55",
   "metadata": {},
   "outputs": [],
   "source": [
    "df_chk.merge(df_chk_eng, on='index' "
   ]
  },
  {
   "cell_type": "code",
   "execution_count": null,
   "id": "fb17a24b",
   "metadata": {},
   "outputs": [],
   "source": []
  },
  {
   "cell_type": "code",
   "execution_count": null,
   "id": "35f06fbd",
   "metadata": {},
   "outputs": [],
   "source": []
  },
  {
   "cell_type": "code",
   "execution_count": null,
   "id": "0d8202f3",
   "metadata": {},
   "outputs": [],
   "source": []
  },
  {
   "cell_type": "code",
   "execution_count": null,
   "id": "442f5b96",
   "metadata": {},
   "outputs": [],
   "source": []
  },
  {
   "cell_type": "code",
   "execution_count": null,
   "id": "112b25c9",
   "metadata": {},
   "outputs": [],
   "source": []
  },
  {
   "cell_type": "code",
   "execution_count": null,
   "id": "43ad27ae",
   "metadata": {},
   "outputs": [],
   "source": []
  },
  {
   "cell_type": "code",
   "execution_count": null,
   "id": "bfe10db6",
   "metadata": {},
   "outputs": [],
   "source": []
  },
  {
   "cell_type": "code",
   "execution_count": null,
   "id": "d057f85e",
   "metadata": {},
   "outputs": [],
   "source": [
    "# df_chk_uni\n",
    "df_chk_uni = df_chk[df_chk['stwd'].duplicated()==False].reset_index()\n",
    "df_chk_uni = df_chk_uni[['stwd', 'index']]\n",
    "df_chk_uni.tail(5)"
   ]
  },
  {
   "cell_type": "code",
   "execution_count": null,
   "id": "1bfd600d",
   "metadata": {},
   "outputs": [],
   "source": [
    "# unique 단어 개수 세기\n",
    "dupl_list = []\n",
    "dupl_cnt = []\n",
    "for i in range(len(df_chk_uni[\"stwd\"])):\n",
    "    dupl_cnt = df_chk_uni[\"stwd\"].to_list().count(df_chk_uni[\"stwd\"][i])\n",
    "    dupl_list.append(dupl_cnt)\n",
    "\n",
    "len(dupl_list)"
   ]
  },
  {
   "cell_type": "code",
   "execution_count": null,
   "id": "58b3cc80",
   "metadata": {},
   "outputs": [],
   "source": [
    "# 횟수 병합\n",
    "df_chk_uni = pd.concat([df_chk_uni, pd.DataFrame(dupl_list)], axis = 1)\n",
    "df_chk_uni.columns = ['stwd', 'index', 'dupl_cnt']\n",
    "print(df_chk_uni[df_chk_uni['dupl_cnt'] != 1])\n",
    "print(df_chk_uni[df_chk_uni['dupl_cnt'] == None])\n",
    "df_chk_uni.tail(5)"
   ]
  },
  {
   "cell_type": "code",
   "execution_count": null,
   "id": "68bf6f24",
   "metadata": {
    "scrolled": true
   },
   "outputs": [],
   "source": [
    "# 점검 , 변환\n",
    "# ab['dupl_cnt'].info()\n",
    "# ab['dupl_cnt'].astype(int)"
   ]
  },
  {
   "cell_type": "code",
   "execution_count": null,
   "id": "104679e9",
   "metadata": {},
   "outputs": [],
   "source": []
  },
  {
   "cell_type": "code",
   "execution_count": null,
   "id": "e2316492",
   "metadata": {},
   "outputs": [],
   "source": [
    "# df_chk_uni\n",
    "df_chk_dupl = df_chk[df_chk['stwd'].duplicated()].reset_index()\n",
    "df_chk_dupl = df_chk_dupl[['stwd', 'index']]\n",
    "df_chk_dupl.tail(5)"
   ]
  },
  {
   "cell_type": "code",
   "execution_count": null,
   "id": "6be2730f",
   "metadata": {},
   "outputs": [],
   "source": [
    "# dupl 단어 개수 세기\n",
    "dupl_list = []\n",
    "dupl_cnt = []\n",
    "for i in range(len(df_chk_dupl[\"stwd\"])):\n",
    "    dupl_cnt = df_chk_dupl[\"stwd\"].to_list().count(df_chk_dupl[\"stwd\"][i])\n",
    "    dupl_list.append(dupl_cnt)\n",
    "\n",
    "len(dupl_list)"
   ]
  },
  {
   "cell_type": "code",
   "execution_count": null,
   "id": "12f0510a",
   "metadata": {},
   "outputs": [],
   "source": [
    "# 횟수 병합\n",
    "df_chk_dupl = pd.concat([df_chk_dupl, pd.DataFrame(dupl_list)], axis = 1)\n",
    "df_chk_dupl.columns = ['stwd', 'index', 'dupl_cnt']\n",
    "print(df_chk_dupl[df_chk_dupl['dupl_cnt'] == 1])\n",
    "print(df_chk_dupl[df_chk_dupl['dupl_cnt'] == None])\n",
    "df_chk_dupl.tail(5)"
   ]
  },
  {
   "cell_type": "code",
   "execution_count": null,
   "id": "d0e3ca3a",
   "metadata": {},
   "outputs": [],
   "source": [
    "df_chk_dupl[df_chk_dupl['stwd'] == '매수']"
   ]
  },
  {
   "cell_type": "code",
   "execution_count": null,
   "id": "2610e35d",
   "metadata": {},
   "outputs": [],
   "source": [
    "cc = df_chk_dupl.merge(input_test, left_on = 'index', right_on = 'No', how='left')\n",
    "cc = cc[cc['stwd'].duplicated()==False]\n",
    "print(cc.shape)\n",
    "cc.head(3)"
   ]
  },
  {
   "cell_type": "code",
   "execution_count": null,
   "id": "7fc9f1b7",
   "metadata": {},
   "outputs": [],
   "source": [
    "df_chk_dupl.to_excel(input_path+\"dsfadas.xlsx\")"
   ]
  },
  {
   "cell_type": "code",
   "execution_count": null,
   "id": "6b8822d2",
   "metadata": {},
   "outputs": [],
   "source": [
    "cc = df_chk_dupl['stwd'].drop_duplicates()\n",
    "(cc.shape)\n",
    "cc"
   ]
  },
  {
   "cell_type": "code",
   "execution_count": null,
   "id": "8d33dac8",
   "metadata": {},
   "outputs": [],
   "source": [
    "cc.to_excel(input_path+\"cccccccccccc.xlsx\")"
   ]
  },
  {
   "cell_type": "code",
   "execution_count": null,
   "id": "47970b0d",
   "metadata": {},
   "outputs": [],
   "source": []
  },
  {
   "cell_type": "code",
   "execution_count": null,
   "id": "9f430c0a",
   "metadata": {},
   "outputs": [],
   "source": [
    "df_chk_dupl['stwd'].drop_duplicates()"
   ]
  },
  {
   "cell_type": "code",
   "execution_count": null,
   "id": "c0950dbd",
   "metadata": {},
   "outputs": [],
   "source": [
    "ccc = df_chk_dupl.merge(input_test, left_on = 'index', right_on = 'No', how='left')\n",
    "ccc = ccc[ccc['stwd'].duplicated()]\n",
    "print(ccc.shape)\n",
    "ccc.head(3)"
   ]
  },
  {
   "cell_type": "code",
   "execution_count": null,
   "id": "4769f8c0",
   "metadata": {},
   "outputs": [],
   "source": [
    "ccc.to_excel(input_path+\"cccccccccc3cc.xlsx\")"
   ]
  },
  {
   "cell_type": "code",
   "execution_count": null,
   "id": "7cd44379",
   "metadata": {},
   "outputs": [],
   "source": []
  },
  {
   "cell_type": "code",
   "execution_count": null,
   "id": "182bdc3c",
   "metadata": {},
   "outputs": [],
   "source": []
  },
  {
   "cell_type": "code",
   "execution_count": null,
   "id": "6cbf0ed4",
   "metadata": {},
   "outputs": [],
   "source": []
  },
  {
   "cell_type": "code",
   "execution_count": null,
   "id": "463df8f6",
   "metadata": {},
   "outputs": [],
   "source": [
    "a[a['stwd'].duplicated()]"
   ]
  },
  {
   "cell_type": "code",
   "execution_count": null,
   "id": "49f20dfa",
   "metadata": {},
   "outputs": [],
   "source": [
    "a[pd.DataFrame(a['stwd']).duplicated(keep='first')]"
   ]
  },
  {
   "cell_type": "code",
   "execution_count": null,
   "id": "6781b448",
   "metadata": {},
   "outputs": [],
   "source": [
    "a['stwd'].drop_duplicates()"
   ]
  },
  {
   "cell_type": "code",
   "execution_count": null,
   "id": "b98f0aaf",
   "metadata": {},
   "outputs": [],
   "source": []
  },
  {
   "cell_type": "code",
   "execution_count": null,
   "id": "0c1a9c28",
   "metadata": {},
   "outputs": [],
   "source": []
  },
  {
   "cell_type": "code",
   "execution_count": null,
   "id": "b421f8ef",
   "metadata": {},
   "outputs": [],
   "source": [
    "a = pd.concat([df_stwd, df_dupl, df_index], axis=1)\n",
    "a"
   ]
  },
  {
   "cell_type": "code",
   "execution_count": null,
   "id": "925b5771",
   "metadata": {},
   "outputs": [],
   "source": [
    "tOK = a.loc[a['dupl'] == 1]\n",
    "# tOK['stwd'].dropna()\n",
    "tOK[tOK['stwd'] == '검토']\n",
    "tOK\n",
    "tNO = a.loc[a['dupl'] > 1]\n",
    "# tNO['stwd'].dropna()\n",
    "tNO[tNO['stwd'] == '검토']\n",
    "tNO"
   ]
  },
  {
   "cell_type": "code",
   "execution_count": null,
   "id": "efb71ae7",
   "metadata": {},
   "outputs": [],
   "source": [
    "tOK['stwd'].drop_duplicates()"
   ]
  },
  {
   "cell_type": "code",
   "execution_count": null,
   "id": "8a33762e",
   "metadata": {},
   "outputs": [],
   "source": [
    "print(368 + 412)\n",
    "tNO['stwd'].drop_duplicates()"
   ]
  },
  {
   "cell_type": "code",
   "execution_count": null,
   "id": "fd65362b",
   "metadata": {
    "scrolled": true
   },
   "outputs": [],
   "source": [
    "a['stwd'].drop_duplicates()"
   ]
  },
  {
   "cell_type": "code",
   "execution_count": null,
   "id": "fb84ff62",
   "metadata": {},
   "outputs": [],
   "source": [
    "t2['stwd'].drop_duplicates()"
   ]
  },
  {
   "cell_type": "code",
   "execution_count": null,
   "id": "88797ea0",
   "metadata": {},
   "outputs": [],
   "source": [
    "a.to_excel(input_path+\"\\\\dfdf.xlsx\")"
   ]
  },
  {
   "cell_type": "code",
   "execution_count": null,
   "id": "8ee6d1e0",
   "metadata": {},
   "outputs": [],
   "source": [
    "tOK.to_excel(input_path+\"\\\\dfdfOK.xlsx\")"
   ]
  },
  {
   "cell_type": "code",
   "execution_count": null,
   "id": "0db879e0",
   "metadata": {},
   "outputs": [],
   "source": [
    "tNO.to_excel(input_path+\"\\\\dfdfNO.xlsx\")"
   ]
  },
  {
   "cell_type": "code",
   "execution_count": null,
   "id": "af332237",
   "metadata": {},
   "outputs": [],
   "source": [
    "tNO['stwd'].drop_duplicates().to_excel(input_path+\"\\\\dfdfNO_DUP.xlsx\")"
   ]
  },
  {
   "cell_type": "code",
   "execution_count": null,
   "id": "40e35b42",
   "metadata": {},
   "outputs": [],
   "source": []
  },
  {
   "cell_type": "code",
   "execution_count": null,
   "id": "4aa30759",
   "metadata": {},
   "outputs": [],
   "source": [
    "t2['stwd'].drop_duplicates().tail(30)"
   ]
  },
  {
   "cell_type": "code",
   "execution_count": null,
   "id": "5faf30e0",
   "metadata": {},
   "outputs": [],
   "source": [
    "# t2 = a[a['stwd'].duplicated(keep='first')]\n",
    "t2 = a[a['stwd'].duplicated(False)]\n",
    "t2[t2['stwd'] == '검토']\n",
    "# t2['stwd'].dropna()\n",
    "t2"
   ]
  },
  {
   "cell_type": "code",
   "execution_count": null,
   "id": "1a630736",
   "metadata": {},
   "outputs": [],
   "source": [
    "t2.drop_"
   ]
  },
  {
   "cell_type": "code",
   "execution_count": null,
   "id": "4c52244a",
   "metadata": {},
   "outputs": [],
   "source": [
    "a[a['stwd'] == '검토']"
   ]
  },
  {
   "cell_type": "code",
   "execution_count": null,
   "id": "dcea8c74",
   "metadata": {},
   "outputs": [],
   "source": [
    "a.head(20)"
   ]
  },
  {
   "cell_type": "code",
   "execution_count": null,
   "id": "66b021a3",
   "metadata": {},
   "outputs": [],
   "source": [
    "a['stwd'].duplicated(keep='first').head(20)\n",
    "# t#['stwd'].dropna()\n",
    "# t3[t3['stwd'] == '검토']"
   ]
  },
  {
   "cell_type": "code",
   "execution_count": null,
   "id": "2577c1d3",
   "metadata": {},
   "outputs": [],
   "source": []
  },
  {
   "cell_type": "code",
   "execution_count": null,
   "id": "0c00ceba",
   "metadata": {},
   "outputs": [],
   "source": []
  },
  {
   "cell_type": "code",
   "execution_count": null,
   "id": "94aec878",
   "metadata": {},
   "outputs": [],
   "source": [
    "# # concat 을 위한 DataFame 묶기 (o 시리즈여야 한곳에 정렬됨! 데이터 프레임 안됨)\n",
    "# for i in range(len(input_split.columns)):\n",
    "#     globals()[\"df_stwd{}\".format(i)] = [\"duple_list{}\".format(i)]\n",
    "# df_stwd0"
   ]
  },
  {
   "cell_type": "code",
   "execution_count": null,
   "id": "35deaae8",
   "metadata": {},
   "outputs": [],
   "source": [
    "# concat 을 위한 DataFame 묶기 (o 시리즈여야 한곳에 정렬됨! 데이터 프레임 안됨)\n",
    "for i in range(len(input_split.columns)):\n",
    "    globals()[\"df_stwd{}\".format(i)] = input_split[\"stwd{}\".format(i)]\n",
    "df_stwd0"
   ]
  },
  {
   "cell_type": "code",
   "execution_count": null,
   "id": "d2ff198e",
   "metadata": {},
   "outputs": [],
   "source": [
    "# df_index 묶기\n",
    "for i in range(len(input_split.columns)):\n",
    "    globals()[\"df_index{}\".format(i)] = input_split[\"stwd{}\".format(i)]\n",
    "df_stwd0"
   ]
  },
  {
   "cell_type": "code",
   "execution_count": null,
   "id": "fe0068b1",
   "metadata": {},
   "outputs": [],
   "source": []
  },
  {
   "cell_type": "code",
   "execution_count": null,
   "id": "72996384",
   "metadata": {},
   "outputs": [],
   "source": [
    "df_stwd = pd.concat([df_stwd, df_index], axis=1)\n",
    "df_stwd"
   ]
  },
  {
   "cell_type": "code",
   "execution_count": null,
   "id": "608049fe",
   "metadata": {},
   "outputs": [],
   "source": []
  },
  {
   "cell_type": "code",
   "execution_count": null,
   "id": "d3b553a3",
   "metadata": {},
   "outputs": [],
   "source": [
    "pd.concat([input_split, pd.DataFrame(input_test['No'])], axis=1)\n"
   ]
  },
  {
   "cell_type": "code",
   "execution_count": null,
   "id": "0f51a99e",
   "metadata": {},
   "outputs": [],
   "source": []
  },
  {
   "cell_type": "code",
   "execution_count": null,
   "id": "3be3e509",
   "metadata": {},
   "outputs": [],
   "source": []
  },
  {
   "cell_type": "code",
   "execution_count": null,
   "id": "7770e4aa",
   "metadata": {},
   "outputs": [],
   "source": []
  },
  {
   "cell_type": "code",
   "execution_count": null,
   "id": "cc5ed91a",
   "metadata": {},
   "outputs": [],
   "source": []
  },
  {
   "cell_type": "code",
   "execution_count": null,
   "id": "496c2118",
   "metadata": {},
   "outputs": [],
   "source": []
  },
  {
   "cell_type": "code",
   "execution_count": null,
   "id": "7849bf0e",
   "metadata": {},
   "outputs": [],
   "source": []
  },
  {
   "cell_type": "code",
   "execution_count": null,
   "id": "cc5507cf",
   "metadata": {},
   "outputs": [],
   "source": [
    "# df_stwd.tail(500)"
   ]
  },
  {
   "cell_type": "code",
   "execution_count": null,
   "id": "9ae8a0c3",
   "metadata": {},
   "outputs": [],
   "source": [
    "list = []\n",
    "for i in range(len(input_split.columns)):\n",
    "    df = pd.concat([globals()[\"df_stwd{}\".format(i)]])\n",
    "df"
   ]
  },
  {
   "cell_type": "code",
   "execution_count": null,
   "id": "cc8b5781",
   "metadata": {},
   "outputs": [],
   "source": [
    "df = pd.DataFrame()\n",
    "for i in range(len(input_split.columns)):\n",
    "    df = pd.concat([df, globals()[\"df_stwd_df{}\".format(i)]])\n",
    "df "
   ]
  },
  {
   "cell_type": "code",
   "execution_count": null,
   "id": "97e0543c",
   "metadata": {
    "scrolled": true
   },
   "outputs": [],
   "source": [
    "df"
   ]
  },
  {
   "cell_type": "code",
   "execution_count": null,
   "id": "fc30f450",
   "metadata": {},
   "outputs": [],
   "source": []
  },
  {
   "cell_type": "code",
   "execution_count": null,
   "id": "2460ead1",
   "metadata": {},
   "outputs": [],
   "source": [
    "df_dupl_cnt = pd.DataFrame()\n",
    "for in in range(len(input_split.coulmns):\n",
    "    df_dupl_cnt = pd.concat([df, globals()[\"df{}\".format(i)]])"
   ]
  },
  {
   "cell_type": "code",
   "execution_count": null,
   "id": "91576c41",
   "metadata": {},
   "outputs": [],
   "source": [
    "dupl_list0"
   ]
  },
  {
   "cell_type": "code",
   "execution_count": null,
   "id": "b9f63933",
   "metadata": {},
   "outputs": [],
   "source": [
    "# 컬럼 재정렬\n",
    "list = []\n",
    "for i in range(len(input_split.columns)):\n",
    "    input_split.loc[:,\"dupl_cnt{}\".format(i)] = globals()[\"dupl_list{}\".format(i)]\n",
    "    list.append(\"stwd{}\".format(i))\n",
    "    list.append(\"dupl_cnt{}\".format(i))\n",
    "input_split = input_split[list]\n",
    "input_split"
   ]
  },
  {
   "cell_type": "code",
   "execution_count": null,
   "id": "b52efc91",
   "metadata": {},
   "outputs": [],
   "source": []
  },
  {
   "cell_type": "code",
   "execution_count": null,
   "id": "e819fc8a",
   "metadata": {},
   "outputs": [],
   "source": [
    "df_stwd = pd.DataFrame()\n",
    "for i in range(len(input_split.columns)):\n",
    "    df_stwd = pd.concat([df, globals()[\"df{}\".format(i)]])\n",
    "df_stwd "
   ]
  },
  {
   "cell_type": "code",
   "execution_count": null,
   "id": "7e6fd991",
   "metadata": {},
   "outputs": [],
   "source": [
    "pd.DataFrame"
   ]
  },
  {
   "cell_type": "code",
   "execution_count": null,
   "id": "4b98a9bb",
   "metadata": {},
   "outputs": [],
   "source": [
    "type(input_split[\"stwd{}\".format(0)])"
   ]
  },
  {
   "cell_type": "code",
   "execution_count": null,
   "id": "e4822690",
   "metadata": {},
   "outputs": [],
   "source": [
    "a = pd.Series\n",
    "a"
   ]
  },
  {
   "cell_type": "code",
   "execution_count": null,
   "id": "bfe543e3",
   "metadata": {},
   "outputs": [],
   "source": [
    "a"
   ]
  },
  {
   "cell_type": "code",
   "execution_count": null,
   "id": "dd06d499",
   "metadata": {},
   "outputs": [],
   "source": [
    "for i in range(len(input_split.columns)):\n",
    "    globals()[\"df{}\".format(i)] = input_split[\"stwd{}\".format(i)]\n",
    "    list.append('df{}'.format(i))\n",
    "list"
   ]
  },
  {
   "cell_type": "code",
   "execution_count": null,
   "id": "fab9735f",
   "metadata": {},
   "outputs": [],
   "source": [
    "df = pd.DataFrame()\n",
    "for i in range(len(input_split.columns)):\n",
    "    globals()[\"df{}\".format(i)] = pd.DataFrame(input_split[\"stwd{}\".format(i)])\n",
    "#     list.append('df{}'.format(i))\n",
    "# list"
   ]
  },
  {
   "cell_type": "code",
   "execution_count": null,
   "id": "88fa8370",
   "metadata": {},
   "outputs": [],
   "source": [
    "list = []\n",
    "for i in range(len(input_split.columns)):\n",
    "    list.append(\"df{}\".format(i))\n",
    "list"
   ]
  },
  {
   "cell_type": "code",
   "execution_count": null,
   "id": "e175bb1c",
   "metadata": {},
   "outputs": [],
   "source": [
    "df = pd.DataFrame()\n",
    "for i in range(len(input_split.columns)):\n",
    "    df = pd.concat([df, globals()[\"df{}\".format(i)]])\n",
    "df"
   ]
  },
  {
   "cell_type": "code",
   "execution_count": null,
   "id": "83500be6",
   "metadata": {},
   "outputs": [],
   "source": [
    "concat([df0, df0,df0,df0,df0,df0,df0,df0,])"
   ]
  },
  {
   "cell_type": "code",
   "execution_count": null,
   "id": "8a313874",
   "metadata": {},
   "outputs": [],
   "source": [
    "list = \",\".join(list)\n",
    "list\n",
    "list[5]"
   ]
  },
  {
   "cell_type": "code",
   "execution_count": null,
   "id": "773bf279",
   "metadata": {},
   "outputs": [],
   "source": [
    "\",\".join(list[0])"
   ]
  },
  {
   "cell_type": "code",
   "execution_count": null,
   "id": "8dc0ed4e",
   "metadata": {},
   "outputs": [],
   "source": [
    "df = pd.DataFrame()\n",
    "for i in range(len(input_split.columns)):\n",
    "    ccc = pd.concat(df, \",\".join(list[i]))\n",
    "df = pd.DataFrame()\n",
    "df = pd.concat([df, df0])"
   ]
  },
  {
   "cell_type": "code",
   "execution_count": null,
   "id": "80600070",
   "metadata": {},
   "outputs": [],
   "source": [
    "df = pd.DataFrame()\n",
    "df = pd.concat([df, df0])"
   ]
  },
  {
   "cell_type": "code",
   "execution_count": null,
   "id": "55f6a376",
   "metadata": {},
   "outputs": [],
   "source": [
    "\",\".join(list)"
   ]
  },
  {
   "cell_type": "code",
   "execution_count": null,
   "id": "b97fa6f4",
   "metadata": {},
   "outputs": [],
   "source": [
    "list = \",\".join(list)\n",
    "list"
   ]
  },
  {
   "cell_type": "code",
   "execution_count": null,
   "id": "a80b6aba",
   "metadata": {
    "scrolled": true
   },
   "outputs": [],
   "source": [
    "list"
   ]
  },
  {
   "cell_type": "code",
   "execution_count": null,
   "id": "6589265f",
   "metadata": {},
   "outputs": [],
   "source": [
    "df0"
   ]
  },
  {
   "cell_type": "code",
   "execution_count": null,
   "id": "d8e8345b",
   "metadata": {},
   "outputs": [],
   "source": [
    "list = [df0, df1, df2, df3, df4, df5]\n",
    "pd.concat(list)"
   ]
  },
  {
   "cell_type": "code",
   "execution_count": null,
   "id": "647ed26f",
   "metadata": {},
   "outputs": [],
   "source": [
    "pd.concat([df0, df1, df2, df3, df4, df5])\n"
   ]
  },
  {
   "cell_type": "code",
   "execution_count": null,
   "id": "837dc04f",
   "metadata": {},
   "outputs": [],
   "source": [
    "input_split"
   ]
  },
  {
   "cell_type": "code",
   "execution_count": null,
   "id": "03d58a40",
   "metadata": {},
   "outputs": [],
   "source": [
    "stwd_list"
   ]
  },
  {
   "cell_type": "code",
   "execution_count": null,
   "id": "3668e4bc",
   "metadata": {},
   "outputs": [],
   "source": [
    "stwd_list = input_split.columns.to_list()\n",
    "for i in range(len(input_split.columns)):\n",
    "    duplicated = pd.concat(stwd_list, ignore_index=True)"
   ]
  },
  {
   "cell_type": "code",
   "execution_count": null,
   "id": "4cb50448",
   "metadata": {},
   "outputs": [],
   "source": [
    "stwd_list = input_split.columns.to_list()\n",
    "pd.concat(pd.DataFrame(input_split[stwd_list]), ignore_index = True)"
   ]
  },
  {
   "cell_type": "code",
   "execution_count": null,
   "id": "a2e93dc0",
   "metadata": {},
   "outputs": [],
   "source": [
    "list = []\n",
    "for i in range(len(input_split.columns)):\n",
    "    globals()[\"df{}\".format(i)] = input_split[\"stwd{}\".format(i)]\n",
    "    list.append(globals()[\"df{}\".format(i)])"
   ]
  },
  {
   "cell_type": "code",
   "execution_count": null,
   "id": "ff7df825",
   "metadata": {},
   "outputs": [],
   "source": []
  },
  {
   "cell_type": "code",
   "execution_count": null,
   "id": "5d6782eb",
   "metadata": {},
   "outputs": [],
   "source": [
    "pd.DataFrame(list)"
   ]
  },
  {
   "cell_type": "code",
   "execution_count": null,
   "id": "5547a2ca",
   "metadata": {},
   "outputs": [],
   "source": [
    "pd.DataFrame(input_split[\"stwd1\"])"
   ]
  },
  {
   "cell_type": "code",
   "execution_count": null,
   "id": "3e3fff99",
   "metadata": {},
   "outputs": [],
   "source": [
    "input_split[\"stwd0\"]"
   ]
  },
  {
   "cell_type": "code",
   "execution_count": null,
   "id": "07c55841",
   "metadata": {},
   "outputs": [],
   "source": []
  },
  {
   "cell_type": "code",
   "execution_count": null,
   "id": "442fdcbd",
   "metadata": {
    "scrolled": true
   },
   "outputs": [],
   "source": [
    "pd.concat(pd.DataFrame(input_split[\"stwd0\"]), pd.DataFrame(input_split[\"stwd1\"]))"
   ]
  },
  {
   "cell_type": "code",
   "execution_count": null,
   "id": "31a45f1b",
   "metadata": {},
   "outputs": [],
   "source": [
    "df0\n",
    "list"
   ]
  },
  {
   "cell_type": "code",
   "execution_count": null,
   "id": "ea662360",
   "metadata": {
    "scrolled": true
   },
   "outputs": [],
   "source": [
    "globals(\"df0\")"
   ]
  },
  {
   "cell_type": "code",
   "execution_count": null,
   "id": "024c2607",
   "metadata": {},
   "outputs": [],
   "source": [
    "pd.concat([df0, df1])"
   ]
  },
  {
   "cell_type": "code",
   "execution_count": null,
   "id": "3920e10d",
   "metadata": {},
   "outputs": [],
   "source": [
    "pd.concat([df0, df1])"
   ]
  },
  {
   "cell_type": "code",
   "execution_count": null,
   "id": "cb948f72",
   "metadata": {},
   "outputs": [],
   "source": [
    "for i in range(len(input_split.columns)):\n",
    "#     pd.concat(globllist[i])\n",
    "    print(list[i])"
   ]
  },
  {
   "cell_type": "code",
   "execution_count": null,
   "id": "9bab55d2",
   "metadata": {},
   "outputs": [],
   "source": [
    "for i in range(len(input_split.columns)):\n",
    "#     pd.concat([\"df{}\".format(i)])\n",
    "#     pd.concat(\"df{}\".format(i))\n",
    "    pd.concat(list)  \n",
    "#     print(\"df{}\".format(i))"
   ]
  },
  {
   "cell_type": "code",
   "execution_count": null,
   "id": "45d56fb6",
   "metadata": {},
   "outputs": [],
   "source": [
    "for i in range(len(input_split.columns)):\n",
    "    print(\"df{}\".format(i))"
   ]
  },
  {
   "cell_type": "code",
   "execution_count": null,
   "id": "e2c9fe61",
   "metadata": {},
   "outputs": [],
   "source": [
    "for i in range(len(input_split.columns)):\n",
    "    globals()[\"df{}\".format(i)] = pd.DataFrame(globals()[\"df{}\".format(i)])"
   ]
  },
  {
   "cell_type": "code",
   "execution_count": null,
   "id": "26489d3d",
   "metadata": {},
   "outputs": [],
   "source": [
    "list = []\n",
    "for i in range(len(input_split.columns)):\n",
    "    list.append(\"df{}\".format(i))"
   ]
  },
  {
   "cell_type": "code",
   "execution_count": null,
   "id": "3ac64a12",
   "metadata": {},
   "outputs": [],
   "source": [
    "df1"
   ]
  },
  {
   "cell_type": "code",
   "execution_count": null,
   "id": "c9a0ada8",
   "metadata": {},
   "outputs": [],
   "source": [
    "pd.concat(list, axis=1 )\n",
    "#           ignore_index=True)"
   ]
  },
  {
   "cell_type": "code",
   "execution_count": null,
   "id": "3adfa816",
   "metadata": {},
   "outputs": [],
   "source": [
    "for i in range(len(input_split.columns)):\n",
    "    pd.concat(globals()[\"df{}\".format(i)])"
   ]
  },
  {
   "cell_type": "code",
   "execution_count": null,
   "id": "a0d0f63c",
   "metadata": {},
   "outputs": [],
   "source": [
    "pd.concat([df0, df1])"
   ]
  },
  {
   "cell_type": "code",
   "execution_count": null,
   "id": "ac16efac",
   "metadata": {},
   "outputs": [],
   "source": [
    "stwd_list = input_split.columns.to_list()\n",
    "for i in range(len(input_split.columns)):\n",
    "    pd.concat(pd.DataFrame(input_split[\"stwd{}\".format(i)]))\n",
    "list"
   ]
  },
  {
   "cell_type": "code",
   "execution_count": null,
   "id": "bea32136",
   "metadata": {},
   "outputs": [],
   "source": [
    "input_split[\"stwd0\"]"
   ]
  },
  {
   "cell_type": "code",
   "execution_count": null,
   "id": "6cc7866b",
   "metadata": {},
   "outputs": [],
   "source": [
    "pd.DataFrame(input_split[\"stwd{}\".format(0)])"
   ]
  },
  {
   "cell_type": "code",
   "execution_count": null,
   "id": "923ccb0b",
   "metadata": {},
   "outputs": [],
   "source": [
    "cc = pd.DataFrame(input_split[\"stwd{}\".format(i)])"
   ]
  },
  {
   "cell_type": "code",
   "execution_count": null,
   "id": "916b5cf0",
   "metadata": {},
   "outputs": [],
   "source": []
  },
  {
   "cell_type": "code",
   "execution_count": null,
   "id": "c8ead777",
   "metadata": {
    "scrolled": true
   },
   "outputs": [],
   "source": [
    "aa = pd.DataFrame\n",
    "for i in range(len(input_split.columns)):\n",
    "    aa = aa.append(cc)\n",
    "aa"
   ]
  },
  {
   "cell_type": "code",
   "execution_count": null,
   "id": "1ea66886",
   "metadata": {},
   "outputs": [],
   "source": [
    "for i in range(len(input_split.columns)):\n",
    "    a = pd.concat([input_split[list[i]]])\n",
    "a"
   ]
  },
  {
   "cell_type": "code",
   "execution_count": null,
   "id": "3113a0d4",
   "metadata": {},
   "outputs": [],
   "source": [
    "a"
   ]
  },
  {
   "cell_type": "code",
   "execution_count": null,
   "id": "eb271906",
   "metadata": {},
   "outputs": [],
   "source": []
  },
  {
   "cell_type": "code",
   "execution_count": null,
   "id": "e6b0d35b",
   "metadata": {},
   "outputs": [],
   "source": [
    "pd.concat(list)"
   ]
  },
  {
   "cell_type": "code",
   "execution_count": null,
   "id": "804c8fa0",
   "metadata": {},
   "outputs": [],
   "source": [
    "for i in range(len(input_split.columns)):\n",
    "    pd.concat([globals[\"input_split{}\".format(i)]])"
   ]
  },
  {
   "cell_type": "code",
   "execution_count": null,
   "id": "7957142c",
   "metadata": {},
   "outputs": [],
   "source": [
    "# 컬럼 재정렬\n",
    "list = []\n",
    "for i in range(len(input_split.columns)):\n",
    "    input_split.loc[:,\"dupl_cnt{}\".format(i)] = globals()[\"dupl_list{}\".format(i)]\n",
    "    list.append(\"stwd{}\".format(i))\n",
    "    list.append(\"dupl_cnt{}\".format(i))\n",
    "input_split = input_split[list]\n",
    "input_split"
   ]
  },
  {
   "cell_type": "code",
   "execution_count": null,
   "id": "c97736db",
   "metadata": {},
   "outputs": [],
   "source": [
    "input_split.columns"
   ]
  },
  {
   "cell_type": "code",
   "execution_count": null,
   "id": "974b5a1a",
   "metadata": {},
   "outputs": [],
   "source": [
    "for i in range(int(len(input_split.columns)/2)):\n",
    "    aaa= pd.concat([\"stwd{}\".format(i)])\n",
    "aaa"
   ]
  },
  {
   "cell_type": "code",
   "execution_count": null,
   "id": "33de7494",
   "metadata": {},
   "outputs": [],
   "source": []
  },
  {
   "cell_type": "code",
   "execution_count": null,
   "id": "2c3ed6bf",
   "metadata": {},
   "outputs": [],
   "source": []
  },
  {
   "cell_type": "code",
   "execution_count": null,
   "id": "f873f008",
   "metadata": {},
   "outputs": [],
   "source": []
  },
  {
   "cell_type": "code",
   "execution_count": null,
   "id": "c9196615",
   "metadata": {},
   "outputs": [],
   "source": []
  },
  {
   "cell_type": "code",
   "execution_count": null,
   "id": "9af0e08d",
   "metadata": {},
   "outputs": [],
   "source": [
    "input_split[0]"
   ]
  },
  {
   "cell_type": "code",
   "execution_count": null,
   "id": "3fadcb82",
   "metadata": {},
   "outputs": [],
   "source": [
    "input_split[0]"
   ]
  },
  {
   "cell_type": "code",
   "execution_count": null,
   "id": "fd5db8a9",
   "metadata": {},
   "outputs": [],
   "source": [
    "input_split[0].count(\"가입\")"
   ]
  },
  {
   "cell_type": "code",
   "execution_count": null,
   "id": "b2b10bc7",
   "metadata": {},
   "outputs": [],
   "source": [
    "dupl_list =[]\n",
    "dupl_list"
   ]
  },
  {
   "cell_type": "code",
   "execution_count": null,
   "id": "d425058f",
   "metadata": {},
   "outputs": [],
   "source": [
    "len(input_split.columns)"
   ]
  },
  {
   "cell_type": "code",
   "execution_count": null,
   "id": "af34102e",
   "metadata": {},
   "outputs": [],
   "source": [
    "input_split[0].to_list().count(input_split[0][11])"
   ]
  },
  {
   "cell_type": "code",
   "execution_count": null,
   "id": "fa5f155e",
   "metadata": {},
   "outputs": [],
   "source": [
    "globals()[\"stwd{}\".format(i)]"
   ]
  },
  {
   "cell_type": "code",
   "execution_count": null,
   "id": "acaa5c9e",
   "metadata": {},
   "outputs": [],
   "source": [
    "for i in range(len(input_split.columns)):\n",
    "    globals()[\"dupl_list{}\".format(i)] = []"
   ]
  },
  {
   "cell_type": "code",
   "execution_count": null,
   "id": "18901ac8",
   "metadata": {},
   "outputs": [],
   "source": [
    "input_split[0].to_list().count(input_split[0][3])"
   ]
  },
  {
   "cell_type": "code",
   "execution_count": null,
   "id": "14614776",
   "metadata": {},
   "outputs": [],
   "source": [
    "# 성공\n",
    "dupl_list = []\n",
    "dupl_cnt = []\n",
    "\n",
    "\n",
    "for i in range(len(input_split.columns)):\n",
    "    globals()[\"dupl_list{}\".format(i)] = []\n",
    "    for j in range(len(input_split[i])):\n",
    "        dupl_cnt = input_split[i].to_list().count(input_split[i][j])\n",
    "        globals()[\"dupl_list{}\".format(i)].append(dupl_cnt)\n",
    "#         print(dupl_cnt)\n",
    "#         print(\"dupl_list{}\".format(i))\n",
    "\n",
    "\n"
   ]
  },
  {
   "cell_type": "code",
   "execution_count": null,
   "id": "5d428c5f",
   "metadata": {},
   "outputs": [],
   "source": [
    "for i in range(len(input_split.columns)):\n",
    "    input_split.loc[:,\"dupl_cnt{}\".format(i)] = globals()[\"dupl_list{}\".format(i)]"
   ]
  },
  {
   "cell_type": "code",
   "execution_count": null,
   "id": "e235a39a",
   "metadata": {},
   "outputs": [],
   "source": [
    "input_split[\"dupl_cnt0\"]"
   ]
  },
  {
   "cell_type": "code",
   "execution_count": null,
   "id": "6f643169",
   "metadata": {
    "scrolled": true
   },
   "outputs": [],
   "source": [
    "# input_split\n",
    "input_split[input_split[\"dupl_cnt0\"] >= 2][[\"dupl_cnt0\",\"dupl_cnt1\",0]]"
   ]
  },
  {
   "cell_type": "code",
   "execution_count": null,
   "id": "47bd4882",
   "metadata": {},
   "outputs": [],
   "source": [
    "input_split.loc[:,\"dupl_cnt1\"] = dupl_list1"
   ]
  },
  {
   "cell_type": "code",
   "execution_count": null,
   "id": "238bedcc",
   "metadata": {},
   "outputs": [],
   "source": [
    "input_split"
   ]
  },
  {
   "cell_type": "code",
   "execution_count": null,
   "id": "2142b75a",
   "metadata": {},
   "outputs": [],
   "source": [
    "for i in range(len(input_split.columns)):\n",
    "    print(globals()[\"dupl_list{}\".format(i)])"
   ]
  },
  {
   "cell_type": "code",
   "execution_count": null,
   "id": "ac6381c5",
   "metadata": {},
   "outputs": [],
   "source": [
    "a= input_split.assign(dd =  dupl_list3)\n",
    "# df.insert(3,\"city\",['Lahore','Dehli','New York'],True)\n",
    "a"
   ]
  },
  {
   "cell_type": "code",
   "execution_count": null,
   "id": "215609cb",
   "metadata": {},
   "outputs": [],
   "source": [
    "input_split.insert(8,\"dd\",dupl_list3,True)\n",
    "input_split"
   ]
  },
  {
   "cell_type": "code",
   "execution_count": null,
   "id": "42490fc8",
   "metadata": {},
   "outputs": [],
   "source": [
    "input_split[2].to_list().count('역')"
   ]
  },
  {
   "cell_type": "code",
   "execution_count": null,
   "id": "4a583c15",
   "metadata": {},
   "outputs": [],
   "source": [
    "input_split[0].to_list()"
   ]
  },
  {
   "cell_type": "code",
   "execution_count": null,
   "id": "48bfa151",
   "metadata": {},
   "outputs": [],
   "source": [
    "dupl_list3"
   ]
  },
  {
   "cell_type": "code",
   "execution_count": null,
   "id": "5487fca9",
   "metadata": {},
   "outputs": [],
   "source": [
    "input_split.insert(8,\"dd\",dupl_list3,True)"
   ]
  },
  {
   "cell_type": "code",
   "execution_count": null,
   "id": "7a4f068b",
   "metadata": {},
   "outputs": [],
   "source": [
    "input_split"
   ]
  },
  {
   "cell_type": "code",
   "execution_count": null,
   "id": "5dec4778",
   "metadata": {},
   "outputs": [],
   "source": [
    "pd.DataFrame(input_split[3].to_list(), dupl_list3)"
   ]
  },
  {
   "cell_type": "code",
   "execution_count": null,
   "id": "915af976",
   "metadata": {},
   "outputs": [],
   "source": [
    "print(len(dupl_list))\n",
    "dupl_list"
   ]
  },
  {
   "cell_type": "code",
   "execution_count": null,
   "id": "7023c5a8",
   "metadata": {},
   "outputs": [],
   "source": [
    "# type(input_split[0])\n",
    "input_split[0].to_list().count('가입')"
   ]
  },
  {
   "cell_type": "code",
   "execution_count": null,
   "id": "40738712",
   "metadata": {},
   "outputs": [],
   "source": [
    "# 성공\n",
    "b = []\n",
    "for i in range(len(input_split[0])):\n",
    "    a = 0\n",
    "    for j in input_split[0]:\n",
    "        b.append(a)\n",
    "        if input_split[0][i] == j:\n",
    "            a += 1\n",
    "            print(input_split[0][i] +\"&&\"+j+\"_중복\")\n",
    "           \n",
    "            print(a)\n"
   ]
  },
  {
   "cell_type": "code",
   "execution_count": null,
   "id": "72c7d908",
   "metadata": {},
   "outputs": [],
   "source": [
    "len(b)"
   ]
  },
  {
   "cell_type": "code",
   "execution_count": null,
   "id": "5d07e83e",
   "metadata": {},
   "outputs": [],
   "source": [
    "# 성공\n",
    "a = 0\n",
    "for i in range(len(input_split[0])):\n",
    "    for j in input_split[0]:\n",
    "        if input_split[0][i] == j:\n",
    "            print(input_split[0][i] +\"&&\"+j+\"_중복\")\n",
    "            a += 1\n",
    "            print(a)\n"
   ]
  },
  {
   "cell_type": "code",
   "execution_count": null,
   "id": "cd277202",
   "metadata": {},
   "outputs": [],
   "source": [
    "# 성공\n",
    "a =0\n",
    "for i in input_split[0]:\n",
    "    for j in input_split[0].unique():#중복 \n",
    "        if i == j:\n",
    "            print(i +\"&&\"+j+\"_중복\")\n",
    "            a += 1\n",
    "            print(a)\n",
    "#         else:\n",
    "#             print(i+j)\n",
    "    \n",
    "    \n",
    "    \n",
    "#     if i == '가입':\n",
    "#         print(i+\"_성공\")\n",
    "#     else:\n",
    "#         print(i)"
   ]
  },
  {
   "cell_type": "code",
   "execution_count": null,
   "id": "144647c7",
   "metadata": {},
   "outputs": [],
   "source": [
    "for i in input_split[0]:\n",
    "    if i == '가입':\n",
    "        print(i+\"_성공\")\n",
    "    else:\n",
    "        print(i)"
   ]
  },
  {
   "cell_type": "code",
   "execution_count": null,
   "id": "1d3cdefa",
   "metadata": {},
   "outputs": [],
   "source": [
    "input_split[0].str == \"가입\""
   ]
  },
  {
   "cell_type": "code",
   "execution_count": null,
   "id": "03fa17ca",
   "metadata": {},
   "outputs": [],
   "source": [
    "for i in a\n",
    "    input_split[0] == i\n",
    "    "
   ]
  },
  {
   "cell_type": "code",
   "execution_count": null,
   "id": "491d8060",
   "metadata": {},
   "outputs": [],
   "source": [
    "input_split[0]"
   ]
  },
  {
   "cell_type": "code",
   "execution_count": null,
   "id": "d6421893",
   "metadata": {},
   "outputs": [],
   "source": [
    "a = input_split[0].unique()\n",
    "a"
   ]
  },
  {
   "cell_type": "code",
   "execution_count": null,
   "id": "5a8d02e6",
   "metadata": {},
   "outputs": [],
   "source": []
  },
  {
   "cell_type": "code",
   "execution_count": null,
   "id": "5749d0f8",
   "metadata": {},
   "outputs": [],
   "source": [
    "len(input_split.columns)"
   ]
  },
  {
   "cell_type": "code",
   "execution_count": null,
   "id": "35a6c0b7",
   "metadata": {},
   "outputs": [],
   "source": [
    "input_processing = pd.concat([input_split, input_test])\n",
    "print(input_processing.columns)\n",
    "input_processing.head(5)"
   ]
  },
  {
   "cell_type": "code",
   "execution_count": null,
   "id": "7709aae1",
   "metadata": {},
   "outputs": [],
   "source": [
    "input_process[\"No\"]"
   ]
  },
  {
   "cell_type": "code",
   "execution_count": null,
   "id": "82cc3883",
   "metadata": {},
   "outputs": [],
   "source": []
  },
  {
   "cell_type": "code",
   "execution_count": null,
   "id": "c52dcbfa",
   "metadata": {},
   "outputs": [],
   "source": []
  },
  {
   "cell_type": "code",
   "execution_count": null,
   "id": "d9e4d4fb",
   "metadata": {},
   "outputs": [],
   "source": []
  },
  {
   "cell_type": "code",
   "execution_count": null,
   "id": "a33dcfa9",
   "metadata": {},
   "outputs": [],
   "source": []
  },
  {
   "cell_type": "code",
   "execution_count": null,
   "id": "2b694275",
   "metadata": {},
   "outputs": [],
   "source": [
    "# stwd1 = input_test['용어명 분리'].str.split(\"_\").map(lambda row : row[10])\n",
    "# # stwd1"
   ]
  },
  {
   "cell_type": "code",
   "execution_count": null,
   "id": "cb8df18a",
   "metadata": {},
   "outputs": [],
   "source": [
    "aa = pd.DataFrame(input_test['용어명 분리'].str.split('_').tolist(), columns = ['a' ,'b', 'c', 'd','a' ,'b', 'c', 'd'])\n",
    "aa"
   ]
  },
  {
   "cell_type": "code",
   "execution_count": null,
   "id": "2a02b3a3",
   "metadata": {},
   "outputs": [],
   "source": [
    "aaa = pd.DataFrame(input_test['용어명 분리'].str.split('_').tolist())\n",
    "aaa"
   ]
  },
  {
   "cell_type": "code",
   "execution_count": null,
   "id": "6132fbfe",
   "metadata": {},
   "outputs": [],
   "source": [
    "aaa[1]"
   ]
  },
  {
   "cell_type": "code",
   "execution_count": null,
   "id": "250c0d08",
   "metadata": {},
   "outputs": [],
   "source": [
    "aaa.columns"
   ]
  },
  {
   "cell_type": "code",
   "execution_count": null,
   "id": "da8bd2eb",
   "metadata": {},
   "outputs": [],
   "source": [
    "aa['a']"
   ]
  },
  {
   "cell_type": "code",
   "execution_count": null,
   "id": "c69b6251",
   "metadata": {},
   "outputs": [],
   "source": [
    "aa.columns"
   ]
  },
  {
   "cell_type": "code",
   "execution_count": null,
   "id": "8524b421",
   "metadata": {},
   "outputs": [],
   "source": [
    "for i in range(len()):\n",
    "    aa = pd.DataFrame(input_test['용어명 분리'].str.split('_').tolist(), columns = globals()[\"stwd{}\".format(i)])\n",
    "    aa"
   ]
  },
  {
   "cell_type": "code",
   "execution_count": null,
   "id": "7ee11a53",
   "metadata": {},
   "outputs": [],
   "source": [
    "\n",
    "try:    \n",
    "    for i in range(10):\n",
    "         globals()[\"stwd{}\".format(i)] = pd.DataFrame({\"stwd{}\".format(i) : []})\n",
    "except:\n",
    "    pass\n",
    "# print(stwd0)\n",
    "\n",
    "    \n",
    "        \n",
    "    \n",
    "# pd.DataFrame({\"stwd0\" : []})\n",
    "        "
   ]
  },
  {
   "cell_type": "code",
   "execution_count": null,
   "id": "eccb697e",
   "metadata": {
    "scrolled": true
   },
   "outputs": [],
   "source": [
    "print(input_test['용어명 분리'].str.split('_', maxsplit=1))"
   ]
  },
  {
   "cell_type": "code",
   "execution_count": null,
   "id": "56363465",
   "metadata": {},
   "outputs": [],
   "source": [
    "# try:\n",
    "for i in range(10):\n",
    "    globals()[\"stwd{}\".format(i)] = input_test['용어명 분리'].str.split('_').map(lambda row : row[i])"
   ]
  },
  {
   "cell_type": "markdown",
   "id": "5d56996b",
   "metadata": {},
   "source": [
    "input_test['용어명 분리'].str.split('_').map(lambda row : row[0])"
   ]
  },
  {
   "cell_type": "code",
   "execution_count": null,
   "id": "6ec59b68",
   "metadata": {},
   "outputs": [],
   "source": [
    "pd.DataFrame(input_test['용어명 분리'].str.split('_'))\n"
   ]
  },
  {
   "cell_type": "code",
   "execution_count": null,
   "id": "628c5c72",
   "metadata": {},
   "outputs": [],
   "source": [
    "input_test['용어명 분리'].str.split('_').tolist() "
   ]
  },
  {
   "cell_type": "code",
   "execution_count": null,
   "id": "3c1ab14d",
   "metadata": {},
   "outputs": [],
   "source": [
    "aa = pd.DataFrame(input_test['용어명 분리'].str.split('_').tolist(), columns = ['a' ,'b', 'c', 'd','a' ,'b', 'c', 'd'])\n",
    "aa"
   ]
  },
  {
   "cell_type": "code",
   "execution_count": null,
   "id": "ea1f87c4",
   "metadata": {},
   "outputs": [],
   "source": [
    "input_test['용어명 분리'].str.split('_').map(lambda x:x[-1])\n"
   ]
  },
  {
   "cell_type": "code",
   "execution_count": null,
   "id": "d712553e",
   "metadata": {},
   "outputs": [],
   "source": [
    "a= pd.DataFrame(input_test['용어명 분리'].str.split('_'))\n",
    "a"
   ]
  },
  {
   "cell_type": "code",
   "execution_count": null,
   "id": "adfe8cf1",
   "metadata": {},
   "outputs": [],
   "source": [
    "a.str.get(0)"
   ]
  },
  {
   "cell_type": "code",
   "execution_count": null,
   "id": "a3a05b96",
   "metadata": {
    "scrolled": true
   },
   "outputs": [],
   "source": [
    "input_test['용어명 분리'].str.split('_')[0][0]\n"
   ]
  },
  {
   "cell_type": "code",
   "execution_count": null,
   "id": "c752a627",
   "metadata": {
    "scrolled": true
   },
   "outputs": [],
   "source": [
    "input_test['용어명 분리'].str.split('_').map(lambda row : row[-1])"
   ]
  },
  {
   "cell_type": "code",
   "execution_count": null,
   "id": "aa0ea214",
   "metadata": {},
   "outputs": [],
   "source": [
    "stwd"
   ]
  },
  {
   "cell_type": "code",
   "execution_count": null,
   "id": "82c145b0",
   "metadata": {},
   "outputs": [],
   "source": [
    "stwd2"
   ]
  },
  {
   "cell_type": "code",
   "execution_count": null,
   "id": "8a75a347",
   "metadata": {},
   "outputs": [],
   "source": [
    "# i = [0, 1, 2, 3, 4, 5, 6, 7, 8, 9]\n",
    "    \n",
    "#     globals()[\"stwd{}\".format(i)] = input_test['용어명 분리'].str.split('_', maxsplit = -1).map(lambda row : row[i])\n",
    "\n",
    "# stwd0\n",
    "# stwd1\n",
    "\n",
    "# stwd0 = input_test['용어명 분리'].str.split(\"_\").map(lambda row : ''.join(row[0]))\n",
    "# stwd1 = input_test['용어명 분리'].str.split(\"_\").map(lambda row : ''.join(row[1]))\n",
    "# stwd2 = input_test['용어명 분리'].str.split(\"_\").map(lambda row : ''.join(row[1]))\n",
    "# stwd3 = input_test['용어명 분리'].str.split(\"_\").map(lambda row : ''.join(row[1]))\n",
    "# stwd4 = input_test['용어명 분리'].str.split(\"_\").map(lambda row : ''.join(row[1]))\n",
    "# stwd5 = input_test['용어명 분리'].str.split(\"_\").map(lambda row : ''.join(row[1]))\n",
    "# stwd6 = input_test['용어명 분리'].str.split(\"_\").map(lambda row : ''.join(row[1]))\n",
    "# stwd7 = input_test['용어명 분리'].str.split(\"_\").map(lambda row : ''.join(row[1]))\n",
    "# stwd8 = input_test['용어명 분리'].str.split(\"_\").map(lambda row : ''.join(row[1]))\n",
    "# stwd9 = input_test['용어명 분리'].str.split(\"_\").map(lambda row : ''.join(row[1]))\n",
    "try:\n",
    "    stwd10 = input_test['용어명 분리'].str.split(\"_\").map(lambda row : ''.join(row[10]))\n",
    "except:\n",
    "    pass\n"
   ]
  },
  {
   "cell_type": "code",
   "execution_count": null,
   "id": "aec584af",
   "metadata": {},
   "outputs": [],
   "source": [
    "# i = [0, 1, 2, 3, 4, 5, 6, 7, 8, 9]\n",
    "num = 10\n",
    "for i in range(10):\n",
    "#     if input_test['용어명 분리'].str.split(\"_\").map(lambda row : row[i]) \n",
    "    \n",
    "    globals()[\"stwd{}\".format(i)] = input_test['용어명 분리'].str.split('_', maxsplit = -1).map(lambda row : row[i])\n",
    "\n",
    "stwd0\n",
    "# stwd1\n",
    "\n",
    "\n",
    "# stwd1 = input_test['용어명 분리'].str.split(\"_\").map(lambda row : ''.join(row[1]))\n",
    "# stwd1 = input_test['용어명 분리'].str.split(\"_\").map(lambda row : ''.join(row[1]))\n",
    "# stwd1 = input_test['용어명 분리'].str.split(\"_\").map(lambda row : ''.join(row[1]))\n",
    "# stwd1 = input_test['용어명 분리'].str.split(\"_\").map(lambda row : ''.join(row[1]))\n",
    "# stwd1 = input_test['용어명 분리'].str.split(\"_\").map(lambda row : ''.join(row[1]))\n",
    "# stwd1 = input_test['용어명 분리'].str.split(\"_\").map(lambda row : ''.join(row[1]))\n",
    "# stwd1 = input_test['용어명 분리'].str.split(\"_\").map(lambda row : ''.join(row[1]))\n",
    "# stwd1 = input_test['용어명 분리'].str.split(\"_\").map(lambda row : ''.join(row[1]))\n",
    "# stwd1 = input_test['용어명 분리'].str.split(\"_\").map(lambda row : ''.join(row[1]))\n",
    "# stwd1 = input_test['용어명 분리'].str.split(\"_\").map(lambda row : ''.join(row[1]))\n"
   ]
  },
  {
   "cell_type": "code",
   "execution_count": null,
   "id": "965d39f7",
   "metadata": {},
   "outputs": [],
   "source": [
    "stwd1"
   ]
  },
  {
   "cell_type": "code",
   "execution_count": null,
   "id": "e860cbc6",
   "metadata": {},
   "outputs": [],
   "source": []
  },
  {
   "cell_type": "code",
   "execution_count": null,
   "id": "8092a1ee",
   "metadata": {},
   "outputs": [],
   "source": []
  },
  {
   "cell_type": "code",
   "execution_count": null,
   "id": "1ecb7757",
   "metadata": {},
   "outputs": [],
   "source": []
  },
  {
   "cell_type": "code",
   "execution_count": null,
   "id": "33475aa8",
   "metadata": {},
   "outputs": [],
   "source": [
    "input_f = os.path.join(os.getcwd(), \"input\")\n",
    "print(input_f)\n",
    "# pd.read_excel(input_f+\"test.xlsx\", sheet_name=\"input_test\", header=0)\n",
    "sheet_name = \"input_test\"\n",
    "pd.read_excel(\"C:/test.xlsx\", sheet_name=sheet_name, header=0)\n",
    "\n",
    "# current_path = os.path.dirname(input_f)\n",
    "# input_f = os.path.join(current_path, \"input\")\n",
    "print()\n",
    "# current_path = os.path.dirname()\n",
    "# print(current_path)\n",
    "print(os.getcwd())"
   ]
  },
  {
   "cell_type": "code",
   "execution_count": null,
   "id": "1a457eec",
   "metadata": {},
   "outputs": [],
   "source": [
    "print(os.getcwd())\n",
    "# print(sys.argv[0])\n",
    "print(os.path.dirname(os.path.realpath('__file__')))"
   ]
  },
  {
   "cell_type": "code",
   "execution_count": null,
   "id": "12145820",
   "metadata": {},
   "outputs": [],
   "source": [
    "def a(b, *values):\n",
    "    a = [*values]\n",
    "    print(b)\n",
    "    print(a)\n",
    "a(\"dfd\",1,2,3,5)\n",
    "\n",
    "[*range(len(input_meta_col))]"
   ]
  },
  {
   "cell_type": "code",
   "execution_count": null,
   "id": "faa5afba",
   "metadata": {},
   "outputs": [],
   "source": [
    "# 스페이스 제거 함수\n",
    "def rmv_spce(data, opt, *col):\n",
    "    if opt == 'all': \n",
    "        for i in data.columns:\n",
    "            data[i] = data[i].str.replace(\" \", \"\")\n",
    "            print(str(i) + \":\\t 스페이스 제거 성공\")\n",
    "    elif opt == 'col':\n",
    "        # 함수 가변인자는 스트링(가나다라)이 아니라 튜플(가.나.다.라)이므로 스트링으로 join 시켜줘야 한다!!!@\n",
    "        col = ''.join(col)\n",
    "        data[col] = data[col].str.replace(\" \", \"\")\n",
    "        print(col + \":\\t 스페이스 제거 성공\")\n",
    "        print(type(col))"
   ]
  },
  {
   "cell_type": "code",
   "execution_count": null,
   "id": "a78dd668",
   "metadata": {},
   "outputs": [],
   "source": [
    "# null/입력 값 검색 로직\n",
    "\n",
    "def nll_chk(data):\n",
    "    cnt_chk = len(data)\n",
    "\n",
    "    chk_nll_list = []\n",
    "    chk_nll_cnt_list = []\n",
    "    # null값 체크(개수 파악)\n",
    "    for i,j in zip(range(len(data.columns)), data.columns):\n",
    "        indv_cnt = data.loc[data[j] != '', j]\n",
    "        if len(data[j]) != len(indv_cnt):\n",
    "            print(j + \": \" + str(len(indv_cnt)))\n",
    "            chk_nll_list.append(j)\n",
    "            chk_nll_cnt_list.append(len(indv_cnt) - cnt_chk)\n",
    "    print(\"================================\")\n",
    "    if len(chk_nll_list) == 0:\n",
    "        print(\"모든 값이 입력되었습니다.\")\n",
    "    elif len(chk_nll_list) > 1 :\n",
    "        print(\"null이 포함된 컬럼이 탐지되었습니다.\")\n",
    "        print(chk_nll_list)\n",
    "        print(\"================================\")\n",
    "\n",
    "    globals()[\"cnt_chk_out\"] = pd.DataFrame(zip(chk_nll_list, chk_nll_cnt_list), columns = [\"NULL포함컬럼명\", \"NULL개수\"])\n",
    "    print(cnt_chk_out)\n",
    "    \n",
    "    print(\"================================\")\n",
    "    print(\"null 인덱스를 임시 보관합니다.\")\n",
    "    print(\"================================\")\n",
    "    nll_chk_row = cnt_chk_out.iloc[:,0].to_list()\n",
    "    for i, j in zip(range(len(nll_chk_row)), nll_chk_row):\n",
    "        globals()[\"null_{}\".format(i)] = data.loc[data[j] == '', j].index\n",
    "        print(\"널인덱스보관_\" + str(j) + \"(변수명) -> null_{}\".format(i))\n",
    "        \n",
    "# 스페이스 제거 함수\n",
    "def rmv_spce(data, opt, *col):\n",
    "    if opt == 'all': \n",
    "        for i in data.columns:\n",
    "            data[i] = data[i].str.replace(\" \", \"\")\n",
    "            print(str(i) + \":\\t 스페이스 제거 성공\")\n",
    "    elif opt == 'col':\n",
    "        # 함수 가변인자는 스트링(가나다라)이 아니라 튜플(가.나.다.라)이므로 스트링으로 join 시켜줘야 한다!!!@\n",
    "        col = ''.join(col)\n",
    "        data[col] = data[col].str.replace(\" \", \"\")\n",
    "        print(col + \":\\t 스페이스 제거 성공\")\n",
    "#         print(type(col))\n",
    "\n",
    "# 불필요 컬럼 빼기 - 이름으로 빼기\n",
    "def brief_col(data, excpt_col_list, name):\n",
    "    col_list = data.columns\n",
    "    selected_col_list = [x for x in col_list if x not in excpt_col_list]\n",
    "    print(selected_col_list)\n",
    "    globals()[\"{}\".format(name)] = data[selected_col_list]\n",
    "    \n",
    "# 불필요 컬럼 빼기 - 순서로 빼기 \n",
    "# tmp_col_list = [5,6,7,8]\n",
    "# tmp_tbl_list = [2,3,4,5]\n",
    "def brief_col_num(data, excpt_col_list, name):\n",
    "    col_list = data.columns\n",
    "    col_list_num = [*range(len(col_list))]\n",
    "    selected_col_list_num = [x for x in col_list_num if x not in excpt_col_list]\n",
    "    selected_col = col_list[selected_col_list_num]\n",
    "    print(selected_col)\n",
    "    globals()[\"{}\".format(name)] = data[selected_col]\n",
    "\n",
    "# 컬럼명(순서) 선택 및 변경\n",
    "def cor_col(data, select_col, modify_col, name):\n",
    "    # 컬럼명(순서) 선택\n",
    "    globals()[\"{}\".format(name)] = data[select_col]\n",
    "    # 컬렴명 변경\n",
    "    globals()[\"{}\".format(name)].columns = modify_col\n",
    "    \n",
    "# null 공백처리 함수\n",
    "def nll_to_blnk(data, opt, *col):\n",
    "    if opt == 'all':\n",
    "        print(\"[모든 컬럼 Null 공백 처리]\")\n",
    "        for i in data.columns:\n",
    "            data[i] = data[i].fillna(\"\")\n",
    "            print(str(i) + \":\\t Null 공백 처리 성공\")\n",
    "    elif opt == 'col':\n",
    "        # 함수 가변인자는 스트링(가나다라)이 아니라 튜플(가.나.다.라)이므로 스트링으로 join 시켜줘야 한다!!!@\n",
    "        col = ''.join(col)\n",
    "        data[col] = data[col].fillna(\"\")\n",
    "        print(col + \":\\t  공백 처리 성공\")\n",
    "\n",
    "# 컬럼 개수 비교\n",
    "def cmpar(data, col1, col2):\n",
    "    crtr_1 = len(data[col1].unique()) - 1\n",
    "    crtr_2 = len(data[col2].unique()) - 1\n",
    "    if crtr_1 == crtr_2:\n",
    "        print('[정상] 용어명과 분리된용어명의 수가 같습니다.= ' + str(crtr_1) + \" vs \" + str(crtr_2))\n",
    "    else:\n",
    "        print('[오류] 용어명과 분리된용어명의 수가 다릅니다.= ' + str(crtr_1) + \" vs \" + str(crtr_2))\n",
    "        \n",
    "# 공백 null처리 함수\n",
    "def blank_to_nll(data, opt, *col):\n",
    "    if opt == 'all':\n",
    "        print(\"[모든 컬럼 공백 Null 처리]\")\n",
    "        for i in data.columns:\n",
    "            data.loc[data[i] == '', i] = None\n",
    "            print(str(i) + \":\\t Null 처리 성공\")\n",
    "    elif opt == 'col':\n",
    "        # 함수 가변인자는 스트링(가나다라)이 아니라 튜플(가.나.다.라)이므로 스트링으로 join 시켜줘야 한다!!!@\n",
    "        col = ''.join(col)\n",
    "        data.loc[data[col] == '', col] = None\n",
    "        print(col + \":\\t  Null 처리 성공\")\n",
    "        \n",
    "def row_nll_rmv(data, name):\n",
    "    ### 값이 한개라도 있을 경우만 카운트 ###\n",
    "\n",
    "    data_cnt = len(data)\n",
    "    notna_list = []\n",
    "    for i in range(data_cnt):    \n",
    "        # row 기준 널 체크(값이 한개라도 있을 경우 포함)\n",
    "        if data.iloc[i].notna().sum() > 1:\n",
    "            notna_list.append(i)\n",
    "    globals()[\"{}\".format(name)] = globals()[\"{}\".format(data)].loc[notna_list]\n",
    "    print(notna_list)\n",
    "    print(data.shape)"
   ]
  },
  {
   "cell_type": "code",
   "execution_count": null,
   "id": "73417fff",
   "metadata": {},
   "outputs": [],
   "source": []
  },
  {
   "cell_type": "code",
   "execution_count": null,
   "id": "f9b571bb",
   "metadata": {},
   "outputs": [],
   "source": []
  }
 ],
 "metadata": {
  "kernelspec": {
   "display_name": "Python 3 (ipykernel)",
   "language": "python",
   "name": "python3"
  },
  "language_info": {
   "codemirror_mode": {
    "name": "ipython",
    "version": 3
   },
   "file_extension": ".py",
   "mimetype": "text/x-python",
   "name": "python",
   "nbconvert_exporter": "python",
   "pygments_lexer": "ipython3",
   "version": "3.9.12"
  }
 },
 "nbformat": 4,
 "nbformat_minor": 5
}
