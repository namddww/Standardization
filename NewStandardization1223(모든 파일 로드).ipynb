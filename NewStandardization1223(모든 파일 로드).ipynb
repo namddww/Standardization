{
 "cells": [
  {
   "cell_type": "code",
   "execution_count": 2,
   "id": "8c4a26d3",
   "metadata": {},
   "outputs": [],
   "source": [
    "import pandas as pd\n",
    "import numpy as np\n",
    "import os\n",
    "import string\n",
    "import sys\n",
    "import re\n",
    "import datetime as dt\n",
    "import import_ipynb\n",
    "#변수명 추출\n",
    "from varname import nameof\n",
    "#os정렬\n",
    "import natsort\n",
    "from tqdm import tqdm\n",
    "# from standard_func import *\n",
    "# import standard_func_py as sf\n",
    "# now = dt.datetime.now().strftime('%y%m%d_%H%M%S')\n",
    "pd.set_option('display.max_rows', 500)\n",
    "pd.set_option('display.max_columns', 500)\n",
    "\n",
    "# 진행 여부 함수\n",
    "def yes_or_no(question):\n",
    "    while \"the answer is invalid\":\n",
    "        reply = str(input(question+' (y/n): ')).lower().strip()\n",
    "        if reply[0] == 'y':\n",
    "            return True\n",
    "        if reply[0] == 'n':\n",
    "            return False\n",
    "        else:\n",
    "            print(\"실패: 'y' 혹은 'n' 를 입력해 주세요\")"
   ]
  },
  {
   "cell_type": "markdown",
   "id": "6723f5c4",
   "metadata": {},
   "source": [
    "### 함수"
   ]
  },
  {
   "cell_type": "code",
   "execution_count": 3,
   "id": "7ef7ebd3",
   "metadata": {},
   "outputs": [],
   "source": [
    "# blnk/검색 로직\n",
    "\n",
    "def blnk_chk(data):\n",
    "    cnt_chk = len(data)\n",
    "\n",
    "    chk_nll_list = []\n",
    "    chk_nll_cnt_list = []\n",
    "    # null값 체크(개수 파악)\n",
    "    for i,j in zip(range(len(data.columns)), data.columns):\n",
    "        indv_cnt = data.loc[data[j] != '', j]\n",
    "        if len(data[j]) != len(indv_cnt):\n",
    "            print(j + \": \" + str(len(indv_cnt)))\n",
    "            chk_nll_list.append(j)\n",
    "            chk_nll_cnt_list.append(len(indv_cnt) - cnt_chk)\n",
    "    print(\"================================\")\n",
    "    if len(chk_nll_list) == 0:\n",
    "        print(\"모든 값이 입력되었습니다.\")\n",
    "    elif len(chk_nll_list) > 1 :\n",
    "        print(\"blnk(null)이 포함된 컬럼이 탐지되었습니다.\")\n",
    "        print(chk_nll_list)\n",
    "        print(\"================================\")\n",
    "\n",
    "    globals()[\"cnt_chk_out\"] = pd.DataFrame(zip(chk_nll_list, chk_nll_cnt_list), columns = [\"NULL포함컬럼명\", \"NULL개수\"])\n",
    "    print(cnt_chk_out)\n",
    "    \n",
    "    print(\"================================\")\n",
    "    print(\"null 인덱스를 임시 보관합니다.\")\n",
    "    print(\"================================\")\n",
    "    nll_chk_row = cnt_chk_out.iloc[:,0].to_list()\n",
    "    for i, j in zip(range(len(nll_chk_row)), nll_chk_row):\n",
    "        globals()[\"null_{}\".format(i)] = data.loc[data[j] == '', j].index\n",
    "        print(\"널인덱스보관_\" + str(j) + \"(변수명) -> null_{}\".format(i))\n",
    "        \n",
    "# 스페이스 제거 함수\n",
    "def rmv_spce(data, opt, *col):\n",
    "    if opt == 'all': \n",
    "        for i in data.columns:\n",
    "            data[i] = data[i].str.replace(\" \", \"\")\n",
    "            print(str(i) + \":\\t 스페이스 제거 성공\")\n",
    "    elif opt == 'col':\n",
    "        # 함수 가변인자는 스트링(가나다라)이 아니라 튜플(가.나.다.라)이므로 스트링으로 join 시켜줘야 한다!!!@\n",
    "        col = ''.join(col)\n",
    "        data[col] = data[col].str.replace(\" \", \"\")\n",
    "        print(col + \":\\t 스페이스 제거 성공\")\n",
    "#         print(type(col))\n",
    "\n",
    "# 불필요 컬럼 빼기 - 이름으로 빼기\n",
    "def brief_col(data, excpt_col_list, name):\n",
    "    col_list = data.columns\n",
    "    selected_col_list = [x for x in col_list if x not in excpt_col_list]\n",
    "    print(selected_col_list)\n",
    "    globals()[\"{}\".format(name)] = data[selected_col_list]\n",
    "    \n",
    "# 불필요 컬럼 빼기 - 순서로 빼기 \n",
    "# tmp_col_list = [5,6,7,8]\n",
    "# tmp_tbl_list = [2,3,4,5]\n",
    "def brief_col_num(data, excpt_col_list, name):\n",
    "    col_list = data.columns\n",
    "    col_list_num = [*range(len(col_list))]\n",
    "    selected_col_list_num = [x for x in col_list_num if x not in excpt_col_list]\n",
    "    selected_col = col_list[selected_col_list_num]\n",
    "    print(selected_col)\n",
    "    globals()[\"{}\".format(name)] = data[selected_col]\n",
    "\n",
    "# 컬럼명(순서) 선택 및 변경\n",
    "def cor_col(data, select_col, modify_col, name):\n",
    "    # 컬럼명(순서) 선택\n",
    "    globals()[\"{}\".format(name)] = data[select_col]\n",
    "    # 컬렴명 변경\n",
    "    globals()[\"{}\".format(name)].columns = modify_col\n",
    "    \n",
    "# null 공백처리 함수\n",
    "def nll_to_blnk(data, opt, *col):\n",
    "    if opt == 'all':\n",
    "        print(\"[모든 컬럼 Null 공백 처리]\")\n",
    "        for i in data.columns:\n",
    "            data[i] = data[i].fillna(\"\")\n",
    "            print(str(i) + \":\\t Null 공백 처리 성공\")\n",
    "    elif opt == 'col':\n",
    "        # 함수 가변인자는 스트링(가나다라)이 아니라 튜플(가.나.다.라)이므로 스트링으로 join 시켜줘야 한다!!!@\n",
    "        col = ''.join(col)\n",
    "        data[col] = data[col].fillna(\"\")\n",
    "        print(col + \":\\t  공백 처리 성공\")\n",
    "\n",
    "# 컬럼 고유값 수 비교\n",
    "def cmpar(data, col1, col2):\n",
    "    crtr_1 = len(data[col1].unique()) - 1\n",
    "    crtr_2 = len(data[col2].unique()) - 1\n",
    "    if crtr_1 == crtr_2:\n",
    "        print('[정상] 용어명과 분리된용어명의 고유값 수가 같습니다.= ' + str(crtr_1) + \" vs \" + str(crtr_2))\n",
    "    else:\n",
    "        print('[오류] 용어명과 분리된용어명의 고유값 수가 다릅니다.= ' + str(crtr_1) + \" vs \" + str(crtr_2))\n",
    "        \n",
    "# 공백 null처리 함수\n",
    "def blank_to_nll(data, opt, *col):\n",
    "    if opt == 'all':\n",
    "        print(\"[모든 컬럼 공백 Null 처리]\")\n",
    "        for i in data.columns:\n",
    "            data.loc[data[i] == '', i] = None\n",
    "            print(str(i) + \":\\t Null 처리 성공\")\n",
    "    elif opt == 'col':\n",
    "        # 함수 가변인자는 스트링(가나다라)이 아니라 튜플(가.나.다.라)이므로 스트링으로 join 시켜줘야 한다!!!@\n",
    "        col = ''.join(col)\n",
    "        data.loc[data[col] == '', col] = None\n",
    "        print(col + \":\\t  Null 처리 성공\")\n",
    "        \n",
    "def row_nll_rmv(data, name):\n",
    "    ### 값이 한개라도 있을 경우만 카운트 ###\n",
    "\n",
    "    data_cnt = len(data)\n",
    "    notna_list = []\n",
    "    for i in range(data_cnt):    \n",
    "        # row 기준 널 체크(값이 한개라도 있을 경우 포함)\n",
    "        if data.iloc[i].notna().sum() > 1:\n",
    "            notna_list.append(i)\n",
    "    globals()[\"{}\".format(name)] = globals()[\"{}\".format(data)].loc[notna_list]\n",
    "    print(notna_list)\n",
    "    print(data.shape)\n",
    "    \n",
    "# blank row 삭제\n",
    "def blnk_row_rmv(data, opt, *col):\n",
    "    if opt == 'all':\n",
    "        data_cnt = len(data)\n",
    "        notna_list = []\n",
    "        for i in range(data_cnt):\n",
    "            if (data.iloc[i,:] != '').sum() > 1:\n",
    "                notna_list.append(i)\n",
    "        globals()[\"blnk_rmv_all\".format(col)] = data.iloc[notna_list]\n",
    "        print(globals()[\"blnk_rmv_all\".format(col)].shape)\n",
    "        print(\"OUT: blnk_rmv_all, blnk_rmv_{}\")\n",
    "    elif opt == 'col':\n",
    "        data_cnt = len(data)\n",
    "        notna_list = []\n",
    "        col = ''.join(col)\n",
    "        for i in range(data_cnt):\n",
    "            if (data.loc[i,col] != ''):\n",
    "                notna_list.append(i)\n",
    "        globals()[\"blnk_rmv_{}\".format(col)] = data.iloc[notna_list].copy()\n",
    "        print(globals()[\"blnk_rmv_{}\".format(col)].shape)\n",
    "        print(\"OUT: blnk_rmv_all, blnk_rmv_{}\")"
   ]
  },
  {
   "cell_type": "code",
   "execution_count": 4,
   "id": "acaddac9",
   "metadata": {},
   "outputs": [],
   "source": [
    "# 파이썬 로드후 파일 실행\n",
    "def read_grip_file(data, path, file_name):\n",
    "    os.system(path + file_name + \".xlsx\")\n",
    "    globals()[file_name] = pd.read_excel(path + file_name + \".xlsx\", index_col = 0, na_filter=False)\n",
    "\n",
    "\n",
    "# 파이썬 로드 및 파일 저장 및 파일 실행\n",
    "def save_grip_file(data, path, file_name):\n",
    "    print('예) path + \"\\\\metadata\\\\\" + folder + \"\\\\01 abnormal_words_correct\", \"abnormal_words_correct\"')\n",
    "    globals()[file_name] = data\n",
    "    data.to_excel(path + file_name + \".xlsx\")\n",
    "    os.system(path + file_name + \".xlsx\")"
   ]
  },
  {
   "cell_type": "markdown",
   "id": "99abf27b",
   "metadata": {},
   "source": [
    "### 추가 1) 메타데이터 띄움처리 전 중복 제거..\n",
    "### 추가 2) 한글명 notnull vs null 분리하여 notnull만 관리(null: 파일 생성 및 기입 요청)\n",
    "### 추가 3.1) 한글 용어 점검 기능: 한글명+영문명+숫자조합 가능), 그외 모두 제거\n",
    "### 추가 3.2) 한글 단어 점검 기능: 한글명(숫자조합 가능), 영문명만(숫자조합 가능) 그외 모두 제거\n",
    "### 추가 4) 테이블기준 상세항목 정의하기.. "
   ]
  },
  {
   "cell_type": "code",
   "execution_count": 5,
   "id": "e296f769",
   "metadata": {},
   "outputs": [],
   "source": [
    "# 1.전체 데이터 로드"
   ]
  },
  {
   "cell_type": "code",
   "execution_count": 6,
   "id": "49c9f4f5",
   "metadata": {},
   "outputs": [
    {
     "data": {
      "text/plain": [
       "'C:\\\\Users\\\\namdd\\\\OneDrive\\\\Data\\\\Standardization'"
      ]
     },
     "execution_count": 6,
     "metadata": {},
     "output_type": "execute_result"
    }
   ],
   "source": [
    "# 경로 및 파일명 설정\n",
    "path = os.path.join(os.getcwd())\n",
    "path"
   ]
  },
  {
   "cell_type": "code",
   "execution_count": 7,
   "id": "98f6de9a",
   "metadata": {},
   "outputs": [
    {
     "data": {
      "text/plain": [
       "'30_광역철도수입관리시스템'"
      ]
     },
     "execution_count": 7,
     "metadata": {},
     "output_type": "execute_result"
    }
   ],
   "source": [
    "# 시스템 리스트업\n",
    "folder_list = pd.read_excel(path + \"\\\\metadata\\\\철도공사-업무별-시스템 담당자_표준화용.xlsx\", header=1, sheet_name=\"표준화대상_데이터관리\")['폴더관리1']\n",
    "folder_list = folder_list.map(lambda x : x.split('md ')[-1])\n",
    "# folder_list = folder_list[folder_list != \"00_\"].reset_index(drop=True)\n",
    "folder_list = list(folder_list.unique())\n",
    "folder = folder_list[29]\n",
    "folder"
   ]
  },
  {
   "cell_type": "code",
   "execution_count": null,
   "id": "cc4e4d7a",
   "metadata": {},
   "outputs": [],
   "source": [
    "# 모든 테이블 로드\n",
    "for i in folder_list:\n",
    "    print(i)\n",
    "    globals()[\"data_{}\".format(i)] = pd.read_csv(path + \"\\\\metadata\\\\\" + i + \"\\\\METADATA_UTF8.csv\", na_filter = False)\n",
    "#     globals()[\"data_{}\".format(i)] = pd.DataFrame()"
   ]
  },
  {
   "cell_type": "markdown",
   "id": "2cf96c79",
   "metadata": {},
   "source": [
    "### 예제)data_30_광역철도수입관리시스템"
   ]
  },
  {
   "cell_type": "code",
   "execution_count": null,
   "id": "e92a3738",
   "metadata": {},
   "outputs": [],
   "source": [
    "input_meta = data_30_광역철도수입관리시스템\n",
    "\n",
    "# 데이터 소수점 전처리\n",
    "input_meta.loc[input_meta['DATA_PRECISION'] != ''] \n",
    "input_meta.loc[input_meta['DATA_PRECISION'] != '', 'DATA_LENGTH'] =  input_meta['DATA_PRECISION']\n",
    "# 컬럼명 정리\n",
    "col_list = ['관리부서코드', '관리부서명', '시스템명', '물리DB명', 'TABLE_NAME', 'COMMENTS',\n",
    "       'COLUMN_NAME', '컬럼물리명FullName', 'COMMENTS.1', '컬럼설명', '표준도메인그룹명',\n",
    "       '도메인분류명', 'DATA_TYPE', 'DATA_LENGTH', 'DATA_SCALE']\n",
    "input_meta = input_meta[col_list]\n",
    "smpl_col = [\"관리부서코드*\", \"관리부서명*\", \"시스템명*\", \"물리DB명*\", \"테이블물리명*\", \"테이블한글명*\", \"컬럼물리명*\", \"컬럼물리명FullName\",\n",
    " \"컬럼한글명*\", \"컬럼설명\", \"표준도메인그룹명*\", \"도메인분류명*\", \"데이터타입*\", \"데이터길이*\", \"소수점자리\"]\n",
    "input_meta.columns = smpl_col\n",
    "input_meta = input_meta.fillna('')\n",
    "input_meta.head()"
   ]
  },
  {
   "cell_type": "code",
   "execution_count": null,
   "id": "8c70f57a",
   "metadata": {},
   "outputs": [],
   "source": [
    "# 2.중복제거 후 형태이상단어 검색"
   ]
  },
  {
   "cell_type": "code",
   "execution_count": null,
   "id": "f33cf6a4",
   "metadata": {},
   "outputs": [],
   "source": [
    "input_meta.groupby('컬럼한글명*').head(1)"
   ]
  },
  {
   "cell_type": "code",
   "execution_count": null,
   "id": "950e1b38",
   "metadata": {},
   "outputs": [],
   "source": []
  }
 ],
 "metadata": {
  "kernelspec": {
   "display_name": "Python 3 (ipykernel)",
   "language": "python",
   "name": "python3"
  },
  "language_info": {
   "codemirror_mode": {
    "name": "ipython",
    "version": 3
   },
   "file_extension": ".py",
   "mimetype": "text/x-python",
   "name": "python",
   "nbconvert_exporter": "python",
   "pygments_lexer": "ipython3",
   "version": "3.9.12"
  }
 },
 "nbformat": 4,
 "nbformat_minor": 5
}
