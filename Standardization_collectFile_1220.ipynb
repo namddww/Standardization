{
 "cells": [
  {
   "cell_type": "code",
   "execution_count": 1,
   "id": "8c4a26d3",
   "metadata": {},
   "outputs": [],
   "source": [
    "import pandas as pd\n",
    "import numpy as np\n",
    "import os\n",
    "import string\n",
    "import sys\n",
    "import re\n",
    "import datetime as dt\n",
    "import import_ipynb\n",
    "#변수명 추출\n",
    "from varname import nameof\n",
    "#os정렬\n",
    "import natsort\n",
    "from tqdm import tqdm\n",
    "# from standard_func import *\n",
    "# import standard_func_py as sf\n",
    "# now = dt.datetime.now().strftime('%y%m%d_%H%M%S')\n",
    "pd.set_option('display.max_rows', 500)\n",
    "pd.set_option('display.max_columns', 500)\n",
    "\n",
    "# 진행 여부 함수\n",
    "def yes_or_no(question):\n",
    "    while \"the answer is invalid\":\n",
    "        reply = str(input(question+' (y/n): ')).lower().strip()\n",
    "        if reply[0] == 'y':\n",
    "            return True\n",
    "        if reply[0] == 'n':\n",
    "            return False\n",
    "        else:\n",
    "            print(\"실패: 'y' 혹은 'n' 를 입력해 주세요\")\n",
    "            \n",
    "# blnk/검색 로직\n",
    "\n",
    "def blnk_chk(data):\n",
    "    cnt_chk = len(data)\n",
    "\n",
    "    chk_nll_list = []\n",
    "    chk_nll_cnt_list = []\n",
    "    # null값 체크(개수 파악)\n",
    "    for i,j in zip(range(len(data.columns)), data.columns):\n",
    "        indv_cnt = data.loc[data[j] != '', j]\n",
    "        if len(data[j]) != len(indv_cnt):\n",
    "            print(j + \": \" + str(len(indv_cnt)))\n",
    "            chk_nll_list.append(j)\n",
    "            chk_nll_cnt_list.append(len(indv_cnt) - cnt_chk)\n",
    "    print(\"================================\")\n",
    "    if len(chk_nll_list) == 0:\n",
    "        print(\"모든 값이 입력되었습니다.\")\n",
    "    elif len(chk_nll_list) > 1 :\n",
    "        print(\"blnk(null)이 포함된 컬럼이 탐지되었습니다.\")\n",
    "        print(chk_nll_list)\n",
    "        print(\"================================\")\n",
    "\n",
    "    globals()[\"cnt_chk_out\"] = pd.DataFrame(zip(chk_nll_list, chk_nll_cnt_list), columns = [\"NULL포함컬럼명\", \"NULL개수\"])\n",
    "    print(cnt_chk_out)\n",
    "    \n",
    "    print(\"================================\")\n",
    "    print(\"null 인덱스를 임시 보관합니다.\")\n",
    "    print(\"================================\")\n",
    "    nll_chk_row = cnt_chk_out.iloc[:,0].to_list()\n",
    "    for i, j in zip(range(len(nll_chk_row)), nll_chk_row):\n",
    "        globals()[\"null_{}\".format(i)] = data.loc[data[j] == '', j].index\n",
    "        print(\"널인덱스보관_\" + str(j) + \"(변수명) -> null_{}\".format(i))\n",
    "        \n",
    "# 스페이스 제거 함수\n",
    "def rmv_spce(data, opt, *col):\n",
    "    if opt == 'all': \n",
    "        for i in data.columns:\n",
    "            data[i] = data[i].str.replace(\" \", \"\")\n",
    "            print(str(i) + \":\\t 스페이스 제거 성공\")\n",
    "    elif opt == 'col':\n",
    "        # 함수 가변인자는 스트링(가나다라)이 아니라 튜플(가.나.다.라)이므로 스트링으로 join 시켜줘야 한다!!!@\n",
    "        col = ''.join(col)\n",
    "        data[col] = data[col].str.replace(\" \", \"\")\n",
    "        print(col + \":\\t 스페이스 제거 성공\")\n",
    "#         print(type(col))\n",
    "\n",
    "# 불필요 컬럼 빼기 - 이름으로 빼기\n",
    "def brief_col(data, excpt_col_list, name):\n",
    "    col_list = data.columns\n",
    "    selected_col_list = [x for x in col_list if x not in excpt_col_list]\n",
    "    print(selected_col_list)\n",
    "    globals()[\"{}\".format(name)] = data[selected_col_list]\n",
    "    \n",
    "# 불필요 컬럼 빼기 - 순서로 빼기 \n",
    "# tmp_col_list = [5,6,7,8]\n",
    "# tmp_tbl_list = [2,3,4,5]\n",
    "def brief_col_num(data, excpt_col_list, name):\n",
    "    col_list = data.columns\n",
    "    col_list_num = [*range(len(col_list))]\n",
    "    selected_col_list_num = [x for x in col_list_num if x not in excpt_col_list]\n",
    "    selected_col = col_list[selected_col_list_num]\n",
    "    print(selected_col)\n",
    "    globals()[\"{}\".format(name)] = data[selected_col]\n",
    "\n",
    "# 컬럼명(순서) 선택 및 변경\n",
    "def cor_col(data, select_col, modify_col, name):\n",
    "    # 컬럼명(순서) 선택\n",
    "    globals()[\"{}\".format(name)] = data[select_col]\n",
    "    # 컬렴명 변경\n",
    "    globals()[\"{}\".format(name)].columns = modify_col\n",
    "    \n",
    "# null 공백처리 함수\n",
    "def nll_to_blnk(data, opt, *col):\n",
    "    if opt == 'all':\n",
    "        print(\"[모든 컬럼 Null 공백 처리]\")\n",
    "        for i in data.columns:\n",
    "            data[i] = data[i].fillna(\"\")\n",
    "            print(str(i) + \":\\t Null 공백 처리 성공\")\n",
    "    elif opt == 'col':\n",
    "        # 함수 가변인자는 스트링(가나다라)이 아니라 튜플(가.나.다.라)이므로 스트링으로 join 시켜줘야 한다!!!@\n",
    "        col = ''.join(col)\n",
    "        data[col] = data[col].fillna(\"\")\n",
    "        print(col + \":\\t  공백 처리 성공\")\n",
    "\n",
    "# 컬럼 고유값 수 비교\n",
    "def cmpar(data, col1, col2):\n",
    "    crtr_1 = len(data[col1].unique()) - 1\n",
    "    crtr_2 = len(data[col2].unique()) - 1\n",
    "    if crtr_1 == crtr_2:\n",
    "        print('[정상] 용어명과 분리된용어명의 고유값 수가 같습니다.= ' + str(crtr_1) + \" vs \" + str(crtr_2))\n",
    "    else:\n",
    "        print('[오류] 용어명과 분리된용어명의 고유값 수가 다릅니다.= ' + str(crtr_1) + \" vs \" + str(crtr_2))\n",
    "        \n",
    "# 공백 null처리 함수\n",
    "def blank_to_nll(data, opt, *col):\n",
    "    if opt == 'all':\n",
    "        print(\"[모든 컬럼 공백 Null 처리]\")\n",
    "        for i in data.columns:\n",
    "            data.loc[data[i] == '', i] = None\n",
    "            print(str(i) + \":\\t Null 처리 성공\")\n",
    "    elif opt == 'col':\n",
    "        # 함수 가변인자는 스트링(가나다라)이 아니라 튜플(가.나.다.라)이므로 스트링으로 join 시켜줘야 한다!!!@\n",
    "        col = ''.join(col)\n",
    "        data.loc[data[col] == '', col] = None\n",
    "        print(col + \":\\t  Null 처리 성공\")\n",
    "        \n",
    "def row_nll_rmv(data, name):\n",
    "    ### 값이 한개라도 있을 경우만 카운트 ###\n",
    "\n",
    "    data_cnt = len(data)\n",
    "    notna_list = []\n",
    "    for i in range(data_cnt):    \n",
    "        # row 기준 널 체크(값이 한개라도 있을 경우 포함)\n",
    "        if data.iloc[i].notna().sum() > 1:\n",
    "            notna_list.append(i)\n",
    "    globals()[\"{}\".format(name)] = globals()[\"{}\".format(data)].loc[notna_list]\n",
    "    print(notna_list)\n",
    "    print(data.shape)\n",
    "    \n",
    "# blank row 삭제\n",
    "def blnk_row_rmv(data, opt, *col):\n",
    "    if opt == 'all':\n",
    "        data_cnt = len(data)\n",
    "        notna_list = []\n",
    "        for i in range(data_cnt):\n",
    "            if (data.iloc[i,:] != '').sum() > 1:\n",
    "                notna_list.append(i)\n",
    "        globals()[\"blnk_rmv_all\".format(col)] = data.iloc[notna_list]\n",
    "        print(globals()[\"blnk_rmv_all\".format(col)].shape)\n",
    "        print(\"OUT: blnk_rmv_all, blnk_rmv_{}\")\n",
    "    elif opt == 'col':\n",
    "        data_cnt = len(data)\n",
    "        notna_list = []\n",
    "        col = ''.join(col)\n",
    "        for i in range(data_cnt):\n",
    "            if (data.loc[i,col] != ''):\n",
    "                notna_list.append(i)\n",
    "        globals()[\"blnk_rmv_{}\".format(col)] = data.iloc[notna_list].copy()\n",
    "        print(globals()[\"blnk_rmv_{}\".format(col)].shape)\n",
    "        print(\"OUT: blnk_rmv_all, blnk_rmv_{}\")\n",
    "        \n",
    "# 파이썬 로드후 파일 실행\n",
    "def read_grip_file(data, path, file_name):\n",
    "    os.system(path + file_name + \".xlsx\")\n",
    "    globals()[file_name] = pd.read_excel(path + file_name + \".xlsx\", index_col = 0, na_filter=False)\n",
    "\n",
    "\n",
    "# 파이썬 로드 및 파일 저장 및 파일 실행\n",
    "def save_grip_file(data, path, file_name):\n",
    "    print('예) path + \"\\\\metadata\\\\\" + folder + \"\\\\01 abnormal_words_correct\", \"abnormal_words_correct\"')\n",
    "    globals()[file_name] = data\n",
    "    data.to_excel(path + file_name + \".xlsx\")\n",
    "    os.system(path + file_name + \".xlsx\")"
   ]
  },
  {
   "cell_type": "markdown",
   "id": "84195849",
   "metadata": {},
   "source": [
    "## 1. 전체데이터 로드"
   ]
  },
  {
   "cell_type": "code",
   "execution_count": 2,
   "id": "49c9f4f5",
   "metadata": {},
   "outputs": [
    {
     "data": {
      "text/plain": [
       "'30_광역철도수입관리시스템'"
      ]
     },
     "execution_count": 2,
     "metadata": {},
     "output_type": "execute_result"
    }
   ],
   "source": [
    "# 경로 및 파일명 설정\n",
    "path = os.path.join(os.getcwd())\n",
    "folder_list = pd.read_excel(path + \"\\\\metadata\\\\철도공사-업무별-시스템 담당자 _표준화용.xlsx\")['폴더관리1']\n",
    "folder_list = folder_list.map(lambda x : x.split('md ')[-1])\n",
    "# folder_list = folder_list[folder_list != \"00_\"].reset_index(drop=True)\n",
    "folder_list = list(folder_list.unique())\n",
    "folder = folder_list[29]\n",
    "folder"
   ]
  },
  {
   "cell_type": "code",
   "execution_count": 12,
   "id": "d9e68c4f",
   "metadata": {},
   "outputs": [
    {
     "name": "stdout",
     "output_type": "stream",
     "text": [
      "01_XROIS\n",
      "02_홍보실적관리\n",
      "03_한국철도TV\n",
      "04_한국철도사보\n",
      "05_투자사업관리\n",
      "06_사옥관리\n",
      "07_당직관리\n",
      "08_정보공개시스템\n",
      "09_인사커뮤니케이션\n",
      "10_고충처리\n",
      "11_복지공감방\n",
      "12_코레일텔\n",
      "13_철도상생플랫폼\n",
      "14_물류정보시스템\n",
      "15_업무용차량예약\n",
      "16_법무관리시스템\n",
      "17_역운영시스템\n",
      "18_표준방송시스템\n",
      "19_승무원홈페이지\n",
      "20_예약발매시스템\n",
      "21_영업관리시스템\n",
      "22_수익관리시스템\n",
      "23_고객센터안내시스템\n",
      "24_IRIS\n",
      "25_TOPS\n",
      "26_열차운전안내장치\n",
      "27_운행정보자동분석시스템\n",
      "28_부산진CY운영시스템\n",
      "29_철도물류정보시스템\n",
      "30_광역철도수입관리시스템\n",
      "31_광역정보센터시스템\n",
      "32_RCM시스템\n",
      "33_기지운용시스템\n",
      "34_TIDS\n",
      "35_CCTV영상정보관리\n",
      "36_건설관리\n",
      "37_KTX고장코드무선전송\n",
      "38_사회공헌포털\n",
      "39_노트북예약\n",
      "40_국제철도정보시스템\n",
      "41_(신)학사관리시스템\n",
      "42_적성검사\n",
      "43_연구개발시스템\n"
     ]
    }
   ],
   "source": [
    "# 모든데이터 로드\n",
    "for i in folder_list:\n",
    "    print(i)\n",
    "    globals()[\"data_{}\".format(i)] = pd.read_csv(path + \"\\\\metadata\\\\\" + i + \"\\\\METADATA_UTF8.csv\", na_filter = False)\n",
    "#     globals()[\"data_{}\".format(i)] = pd.DataFrame()"
   ]
  },
  {
   "cell_type": "code",
   "execution_count": 14,
   "id": "7c28413c",
   "metadata": {},
   "outputs": [
    {
     "data": {
      "text/html": [
       "<div>\n",
       "<style scoped>\n",
       "    .dataframe tbody tr th:only-of-type {\n",
       "        vertical-align: middle;\n",
       "    }\n",
       "\n",
       "    .dataframe tbody tr th {\n",
       "        vertical-align: top;\n",
       "    }\n",
       "\n",
       "    .dataframe thead th {\n",
       "        text-align: right;\n",
       "    }\n",
       "</style>\n",
       "<table border=\"1\" class=\"dataframe\">\n",
       "  <thead>\n",
       "    <tr style=\"text-align: right;\">\n",
       "      <th></th>\n",
       "      <th>관리부서코드</th>\n",
       "      <th>관리부서명</th>\n",
       "      <th>시스템명</th>\n",
       "      <th>물리DB명</th>\n",
       "      <th>TABLE_NAME</th>\n",
       "      <th>COMMENTS</th>\n",
       "      <th>COLUMN_NAME</th>\n",
       "      <th>컬럼물리명FullName</th>\n",
       "      <th>COMMENTS.1</th>\n",
       "      <th>컬럼설명</th>\n",
       "      <th>표준도메인그룹명</th>\n",
       "      <th>도메인분류명</th>\n",
       "      <th>DATA_TYPE</th>\n",
       "      <th>DATA_LENGTH</th>\n",
       "      <th>DATA_PRECISION</th>\n",
       "      <th>DATA_SCALE</th>\n",
       "    </tr>\n",
       "  </thead>\n",
       "  <tbody>\n",
       "    <tr>\n",
       "      <th>0</th>\n",
       "      <td></td>\n",
       "      <td>광역철도본부</td>\n",
       "      <td>KOTRIS</td>\n",
       "      <td>US_K</td>\n",
       "      <td>AAM_ADJUST_PMT</td>\n",
       "      <td>역무_이동정산기 정산지불내역</td>\n",
       "      <td>SC_DUTY_DT</td>\n",
       "      <td></td>\n",
       "      <td>업무일자</td>\n",
       "      <td>업무일자</td>\n",
       "      <td></td>\n",
       "      <td></td>\n",
       "      <td>VARCHAR2</td>\n",
       "      <td>8</td>\n",
       "      <td></td>\n",
       "      <td></td>\n",
       "    </tr>\n",
       "    <tr>\n",
       "      <th>1</th>\n",
       "      <td></td>\n",
       "      <td>광역철도본부</td>\n",
       "      <td>KOTRIS</td>\n",
       "      <td>US_K</td>\n",
       "      <td>AAM_ADJUST_PMT</td>\n",
       "      <td>역무_이동정산기 정산지불내역</td>\n",
       "      <td>SC_SETTM_DTIME</td>\n",
       "      <td></td>\n",
       "      <td>정산일시</td>\n",
       "      <td>정산일시</td>\n",
       "      <td></td>\n",
       "      <td></td>\n",
       "      <td>VARCHAR2</td>\n",
       "      <td>14</td>\n",
       "      <td></td>\n",
       "      <td></td>\n",
       "    </tr>\n",
       "    <tr>\n",
       "      <th>2</th>\n",
       "      <td></td>\n",
       "      <td>광역철도본부</td>\n",
       "      <td>KOTRIS</td>\n",
       "      <td>US_K</td>\n",
       "      <td>AAM_ADJUST_PMT</td>\n",
       "      <td>역무_이동정산기 정산지불내역</td>\n",
       "      <td>SC_EXTN_STA_NO</td>\n",
       "      <td></td>\n",
       "      <td>외부역번호</td>\n",
       "      <td>외부역번호</td>\n",
       "      <td></td>\n",
       "      <td></td>\n",
       "      <td>NUMBER</td>\n",
       "      <td>22</td>\n",
       "      <td>4</td>\n",
       "      <td>0</td>\n",
       "    </tr>\n",
       "    <tr>\n",
       "      <th>3</th>\n",
       "      <td></td>\n",
       "      <td>광역철도본부</td>\n",
       "      <td>KOTRIS</td>\n",
       "      <td>US_K</td>\n",
       "      <td>AAM_ADJUST_PMT</td>\n",
       "      <td>역무_이동정산기 정산지불내역</td>\n",
       "      <td>SC_DEV_NO</td>\n",
       "      <td></td>\n",
       "      <td>장비번호</td>\n",
       "      <td>장비번호</td>\n",
       "      <td></td>\n",
       "      <td></td>\n",
       "      <td>NUMBER</td>\n",
       "      <td>22</td>\n",
       "      <td>3</td>\n",
       "      <td>0</td>\n",
       "    </tr>\n",
       "    <tr>\n",
       "      <th>4</th>\n",
       "      <td></td>\n",
       "      <td>광역철도본부</td>\n",
       "      <td>KOTRIS</td>\n",
       "      <td>US_K</td>\n",
       "      <td>AAM_ADJUST_PMT</td>\n",
       "      <td>역무_이동정산기 정산지불내역</td>\n",
       "      <td>SC_DEV_CLASS_CD</td>\n",
       "      <td></td>\n",
       "      <td>장비구분코드</td>\n",
       "      <td>장비구분코드</td>\n",
       "      <td></td>\n",
       "      <td></td>\n",
       "      <td>VARCHAR2</td>\n",
       "      <td>3</td>\n",
       "      <td></td>\n",
       "      <td></td>\n",
       "    </tr>\n",
       "    <tr>\n",
       "      <th>...</th>\n",
       "      <td>...</td>\n",
       "      <td>...</td>\n",
       "      <td>...</td>\n",
       "      <td>...</td>\n",
       "      <td>...</td>\n",
       "      <td>...</td>\n",
       "      <td>...</td>\n",
       "      <td>...</td>\n",
       "      <td>...</td>\n",
       "      <td>...</td>\n",
       "      <td>...</td>\n",
       "      <td>...</td>\n",
       "      <td>...</td>\n",
       "      <td>...</td>\n",
       "      <td>...</td>\n",
       "      <td>...</td>\n",
       "    </tr>\n",
       "    <tr>\n",
       "      <th>5568</th>\n",
       "      <td></td>\n",
       "      <td>광역철도본부</td>\n",
       "      <td>KOTRIS</td>\n",
       "      <td>US_K</td>\n",
       "      <td>VW_TT_KSR021</td>\n",
       "      <td></td>\n",
       "      <td>STN_CD3</td>\n",
       "      <td></td>\n",
       "      <td></td>\n",
       "      <td></td>\n",
       "      <td></td>\n",
       "      <td></td>\n",
       "      <td>VARCHAR2</td>\n",
       "      <td>4</td>\n",
       "      <td></td>\n",
       "      <td></td>\n",
       "    </tr>\n",
       "    <tr>\n",
       "      <th>5569</th>\n",
       "      <td></td>\n",
       "      <td>광역철도본부</td>\n",
       "      <td>KOTRIS</td>\n",
       "      <td>US_K</td>\n",
       "      <td>VW_TT_KSR021</td>\n",
       "      <td></td>\n",
       "      <td>TM_MIN</td>\n",
       "      <td></td>\n",
       "      <td></td>\n",
       "      <td></td>\n",
       "      <td></td>\n",
       "      <td></td>\n",
       "      <td>NUMBER</td>\n",
       "      <td>22</td>\n",
       "      <td></td>\n",
       "      <td></td>\n",
       "    </tr>\n",
       "    <tr>\n",
       "      <th>5570</th>\n",
       "      <td></td>\n",
       "      <td>광역철도본부</td>\n",
       "      <td>KOTRIS</td>\n",
       "      <td>US_K</td>\n",
       "      <td>VW_TT_KSR021</td>\n",
       "      <td></td>\n",
       "      <td>DATA_TYPE</td>\n",
       "      <td></td>\n",
       "      <td></td>\n",
       "      <td></td>\n",
       "      <td></td>\n",
       "      <td></td>\n",
       "      <td>CHAR</td>\n",
       "      <td>1</td>\n",
       "      <td></td>\n",
       "      <td></td>\n",
       "    </tr>\n",
       "    <tr>\n",
       "      <th>5571</th>\n",
       "      <td></td>\n",
       "      <td>광역철도본부</td>\n",
       "      <td>KOTRIS</td>\n",
       "      <td>US_K</td>\n",
       "      <td>VW_TT_KSR021</td>\n",
       "      <td></td>\n",
       "      <td>UPWN_DV_CD</td>\n",
       "      <td></td>\n",
       "      <td></td>\n",
       "      <td></td>\n",
       "      <td></td>\n",
       "      <td></td>\n",
       "      <td>CHAR</td>\n",
       "      <td>1</td>\n",
       "      <td></td>\n",
       "      <td></td>\n",
       "    </tr>\n",
       "    <tr>\n",
       "      <th>5572</th>\n",
       "      <td></td>\n",
       "      <td>광역철도본부</td>\n",
       "      <td>KOTRIS</td>\n",
       "      <td>US_K</td>\n",
       "      <td>VW_TT_KSR021</td>\n",
       "      <td></td>\n",
       "      <td>IN_CNT</td>\n",
       "      <td></td>\n",
       "      <td></td>\n",
       "      <td></td>\n",
       "      <td></td>\n",
       "      <td></td>\n",
       "      <td>NUMBER</td>\n",
       "      <td>22</td>\n",
       "      <td></td>\n",
       "      <td></td>\n",
       "    </tr>\n",
       "  </tbody>\n",
       "</table>\n",
       "<p>5573 rows × 16 columns</p>\n",
       "</div>"
      ],
      "text/plain": [
       "     관리부서코드   관리부서명    시스템명 물리DB명      TABLE_NAME         COMMENTS  \\\n",
       "0            광역철도본부  KOTRIS  US_K  AAM_ADJUST_PMT  역무_이동정산기 정산지불내역   \n",
       "1            광역철도본부  KOTRIS  US_K  AAM_ADJUST_PMT  역무_이동정산기 정산지불내역   \n",
       "2            광역철도본부  KOTRIS  US_K  AAM_ADJUST_PMT  역무_이동정산기 정산지불내역   \n",
       "3            광역철도본부  KOTRIS  US_K  AAM_ADJUST_PMT  역무_이동정산기 정산지불내역   \n",
       "4            광역철도본부  KOTRIS  US_K  AAM_ADJUST_PMT  역무_이동정산기 정산지불내역   \n",
       "...     ...     ...     ...   ...             ...              ...   \n",
       "5568         광역철도본부  KOTRIS  US_K    VW_TT_KSR021                    \n",
       "5569         광역철도본부  KOTRIS  US_K    VW_TT_KSR021                    \n",
       "5570         광역철도본부  KOTRIS  US_K    VW_TT_KSR021                    \n",
       "5571         광역철도본부  KOTRIS  US_K    VW_TT_KSR021                    \n",
       "5572         광역철도본부  KOTRIS  US_K    VW_TT_KSR021                    \n",
       "\n",
       "          COLUMN_NAME 컬럼물리명FullName COMMENTS.1    컬럼설명 표준도메인그룹명 도메인분류명  \\\n",
       "0          SC_DUTY_DT                     업무일자    업무일자                   \n",
       "1      SC_SETTM_DTIME                     정산일시    정산일시                   \n",
       "2      SC_EXTN_STA_NO                    외부역번호   외부역번호                   \n",
       "3           SC_DEV_NO                     장비번호    장비번호                   \n",
       "4     SC_DEV_CLASS_CD                   장비구분코드  장비구분코드                   \n",
       "...               ...           ...        ...     ...      ...    ...   \n",
       "5568          STN_CD3                                                    \n",
       "5569           TM_MIN                                                    \n",
       "5570        DATA_TYPE                                                    \n",
       "5571       UPWN_DV_CD                                                    \n",
       "5572           IN_CNT                                                    \n",
       "\n",
       "     DATA_TYPE  DATA_LENGTH DATA_PRECISION DATA_SCALE  \n",
       "0     VARCHAR2            8                            \n",
       "1     VARCHAR2           14                            \n",
       "2       NUMBER           22              4          0  \n",
       "3       NUMBER           22              3          0  \n",
       "4     VARCHAR2            3                            \n",
       "...        ...          ...            ...        ...  \n",
       "5568  VARCHAR2            4                            \n",
       "5569    NUMBER           22                            \n",
       "5570      CHAR            1                            \n",
       "5571      CHAR            1                            \n",
       "5572    NUMBER           22                            \n",
       "\n",
       "[5573 rows x 16 columns]"
      ]
     },
     "execution_count": 14,
     "metadata": {},
     "output_type": "execute_result"
    }
   ],
   "source": [
    "data_30_광역철도수입관리시스템"
   ]
  },
  {
   "cell_type": "code",
   "execution_count": null,
   "id": "7436e076",
   "metadata": {},
   "outputs": [],
   "source": [
    "folder_list"
   ]
  },
  {
   "cell_type": "code",
   "execution_count": null,
   "id": "cc4e4d7a",
   "metadata": {},
   "outputs": [],
   "source": [
    "folder = folder_list[10]\n",
    "folder"
   ]
  },
  {
   "cell_type": "code",
   "execution_count": null,
   "id": "a43c18de",
   "metadata": {},
   "outputs": [],
   "source": [
    "# 모든테이블 union"
   ]
  },
  {
   "cell_type": "code",
   "execution_count": null,
   "id": "9f75d350",
   "metadata": {},
   "outputs": [],
   "source": [
    "path"
   ]
  },
  {
   "cell_type": "code",
   "execution_count": null,
   "id": "39d70ca6",
   "metadata": {
    "scrolled": true
   },
   "outputs": [],
   "source": []
  },
  {
   "cell_type": "markdown",
   "id": "e7f191ec",
   "metadata": {},
   "source": [
    "### 30_광역철도수입관리시스템"
   ]
  },
  {
   "cell_type": "code",
   "execution_count": 15,
   "id": "ae6bcf4f",
   "metadata": {},
   "outputs": [
    {
     "data": {
      "text/html": [
       "<div>\n",
       "<style scoped>\n",
       "    .dataframe tbody tr th:only-of-type {\n",
       "        vertical-align: middle;\n",
       "    }\n",
       "\n",
       "    .dataframe tbody tr th {\n",
       "        vertical-align: top;\n",
       "    }\n",
       "\n",
       "    .dataframe thead th {\n",
       "        text-align: right;\n",
       "    }\n",
       "</style>\n",
       "<table border=\"1\" class=\"dataframe\">\n",
       "  <thead>\n",
       "    <tr style=\"text-align: right;\">\n",
       "      <th></th>\n",
       "      <th>관리부서코드</th>\n",
       "      <th>관리부서명</th>\n",
       "      <th>시스템명</th>\n",
       "      <th>물리DB명</th>\n",
       "      <th>TABLE_NAME</th>\n",
       "      <th>COMMENTS</th>\n",
       "      <th>COLUMN_NAME</th>\n",
       "      <th>컬럼물리명FullName</th>\n",
       "      <th>COMMENTS.1</th>\n",
       "      <th>컬럼설명</th>\n",
       "      <th>표준도메인그룹명</th>\n",
       "      <th>도메인분류명</th>\n",
       "      <th>DATA_TYPE</th>\n",
       "      <th>DATA_LENGTH</th>\n",
       "      <th>DATA_PRECISION</th>\n",
       "      <th>DATA_SCALE</th>\n",
       "    </tr>\n",
       "  </thead>\n",
       "  <tbody>\n",
       "    <tr>\n",
       "      <th>0</th>\n",
       "      <td></td>\n",
       "      <td>광역철도본부</td>\n",
       "      <td>KOTRIS</td>\n",
       "      <td>US_K</td>\n",
       "      <td>AAM_ADJUST_PMT</td>\n",
       "      <td>역무_이동정산기 정산지불내역</td>\n",
       "      <td>SC_DUTY_DT</td>\n",
       "      <td></td>\n",
       "      <td>업무일자</td>\n",
       "      <td>업무일자</td>\n",
       "      <td></td>\n",
       "      <td></td>\n",
       "      <td>VARCHAR2</td>\n",
       "      <td>8</td>\n",
       "      <td></td>\n",
       "      <td></td>\n",
       "    </tr>\n",
       "    <tr>\n",
       "      <th>1</th>\n",
       "      <td></td>\n",
       "      <td>광역철도본부</td>\n",
       "      <td>KOTRIS</td>\n",
       "      <td>US_K</td>\n",
       "      <td>AAM_ADJUST_PMT</td>\n",
       "      <td>역무_이동정산기 정산지불내역</td>\n",
       "      <td>SC_SETTM_DTIME</td>\n",
       "      <td></td>\n",
       "      <td>정산일시</td>\n",
       "      <td>정산일시</td>\n",
       "      <td></td>\n",
       "      <td></td>\n",
       "      <td>VARCHAR2</td>\n",
       "      <td>14</td>\n",
       "      <td></td>\n",
       "      <td></td>\n",
       "    </tr>\n",
       "    <tr>\n",
       "      <th>2</th>\n",
       "      <td></td>\n",
       "      <td>광역철도본부</td>\n",
       "      <td>KOTRIS</td>\n",
       "      <td>US_K</td>\n",
       "      <td>AAM_ADJUST_PMT</td>\n",
       "      <td>역무_이동정산기 정산지불내역</td>\n",
       "      <td>SC_EXTN_STA_NO</td>\n",
       "      <td></td>\n",
       "      <td>외부역번호</td>\n",
       "      <td>외부역번호</td>\n",
       "      <td></td>\n",
       "      <td></td>\n",
       "      <td>NUMBER</td>\n",
       "      <td>22</td>\n",
       "      <td>4</td>\n",
       "      <td>0</td>\n",
       "    </tr>\n",
       "    <tr>\n",
       "      <th>3</th>\n",
       "      <td></td>\n",
       "      <td>광역철도본부</td>\n",
       "      <td>KOTRIS</td>\n",
       "      <td>US_K</td>\n",
       "      <td>AAM_ADJUST_PMT</td>\n",
       "      <td>역무_이동정산기 정산지불내역</td>\n",
       "      <td>SC_DEV_NO</td>\n",
       "      <td></td>\n",
       "      <td>장비번호</td>\n",
       "      <td>장비번호</td>\n",
       "      <td></td>\n",
       "      <td></td>\n",
       "      <td>NUMBER</td>\n",
       "      <td>22</td>\n",
       "      <td>3</td>\n",
       "      <td>0</td>\n",
       "    </tr>\n",
       "    <tr>\n",
       "      <th>4</th>\n",
       "      <td></td>\n",
       "      <td>광역철도본부</td>\n",
       "      <td>KOTRIS</td>\n",
       "      <td>US_K</td>\n",
       "      <td>AAM_ADJUST_PMT</td>\n",
       "      <td>역무_이동정산기 정산지불내역</td>\n",
       "      <td>SC_DEV_CLASS_CD</td>\n",
       "      <td></td>\n",
       "      <td>장비구분코드</td>\n",
       "      <td>장비구분코드</td>\n",
       "      <td></td>\n",
       "      <td></td>\n",
       "      <td>VARCHAR2</td>\n",
       "      <td>3</td>\n",
       "      <td></td>\n",
       "      <td></td>\n",
       "    </tr>\n",
       "  </tbody>\n",
       "</table>\n",
       "</div>"
      ],
      "text/plain": [
       "  관리부서코드   관리부서명    시스템명 물리DB명      TABLE_NAME         COMMENTS  \\\n",
       "0         광역철도본부  KOTRIS  US_K  AAM_ADJUST_PMT  역무_이동정산기 정산지불내역   \n",
       "1         광역철도본부  KOTRIS  US_K  AAM_ADJUST_PMT  역무_이동정산기 정산지불내역   \n",
       "2         광역철도본부  KOTRIS  US_K  AAM_ADJUST_PMT  역무_이동정산기 정산지불내역   \n",
       "3         광역철도본부  KOTRIS  US_K  AAM_ADJUST_PMT  역무_이동정산기 정산지불내역   \n",
       "4         광역철도본부  KOTRIS  US_K  AAM_ADJUST_PMT  역무_이동정산기 정산지불내역   \n",
       "\n",
       "       COLUMN_NAME 컬럼물리명FullName COMMENTS.1    컬럼설명 표준도메인그룹명 도메인분류명 DATA_TYPE  \\\n",
       "0       SC_DUTY_DT                     업무일자    업무일자                  VARCHAR2   \n",
       "1   SC_SETTM_DTIME                     정산일시    정산일시                  VARCHAR2   \n",
       "2   SC_EXTN_STA_NO                    외부역번호   외부역번호                    NUMBER   \n",
       "3        SC_DEV_NO                     장비번호    장비번호                    NUMBER   \n",
       "4  SC_DEV_CLASS_CD                   장비구분코드  장비구분코드                  VARCHAR2   \n",
       "\n",
       "   DATA_LENGTH DATA_PRECISION DATA_SCALE  \n",
       "0            8                            \n",
       "1           14                            \n",
       "2           22              4          0  \n",
       "3           22              3          0  \n",
       "4            3                            "
      ]
     },
     "execution_count": 15,
     "metadata": {},
     "output_type": "execute_result"
    }
   ],
   "source": [
    "data_30_광역철도수입관리시스템.head()"
   ]
  },
  {
   "cell_type": "code",
   "execution_count": null,
   "id": "2d899e3b",
   "metadata": {},
   "outputs": [],
   "source": [
    "data_31_광역정보센터시스템"
   ]
  },
  {
   "cell_type": "code",
   "execution_count": 9,
   "id": "89cd41b7",
   "metadata": {},
   "outputs": [
    {
     "data": {
      "text/html": [
       "<div>\n",
       "<style scoped>\n",
       "    .dataframe tbody tr th:only-of-type {\n",
       "        vertical-align: middle;\n",
       "    }\n",
       "\n",
       "    .dataframe tbody tr th {\n",
       "        vertical-align: top;\n",
       "    }\n",
       "\n",
       "    .dataframe thead th {\n",
       "        text-align: right;\n",
       "    }\n",
       "</style>\n",
       "<table border=\"1\" class=\"dataframe\">\n",
       "  <thead>\n",
       "    <tr style=\"text-align: right;\">\n",
       "      <th></th>\n",
       "      <th>관리부서코드</th>\n",
       "      <th>관리부서명</th>\n",
       "      <th>시스템명</th>\n",
       "      <th>물리DB명</th>\n",
       "      <th>TABLE_NAME</th>\n",
       "      <th>COMMENTS</th>\n",
       "      <th>COLUMN_NAME</th>\n",
       "      <th>컬럼물리명FullName</th>\n",
       "      <th>COMMENTS.1</th>\n",
       "      <th>컬럼설명</th>\n",
       "      <th>표준도메인그룹명</th>\n",
       "      <th>도메인분류명</th>\n",
       "      <th>DATA_TYPE</th>\n",
       "      <th>DATA_LENGTH</th>\n",
       "      <th>DATA_SCALE</th>\n",
       "    </tr>\n",
       "  </thead>\n",
       "  <tbody>\n",
       "    <tr>\n",
       "      <th>0</th>\n",
       "      <td></td>\n",
       "      <td>광역철도본부</td>\n",
       "      <td>KOTRIS</td>\n",
       "      <td>US_K</td>\n",
       "      <td>AAM_ADJUST_PMT</td>\n",
       "      <td>역무_이동정산기 정산지불내역</td>\n",
       "      <td>SC_DUTY_DT</td>\n",
       "      <td></td>\n",
       "      <td>업무일자</td>\n",
       "      <td>업무일자</td>\n",
       "      <td></td>\n",
       "      <td></td>\n",
       "      <td>VARCHAR2</td>\n",
       "      <td>8</td>\n",
       "      <td></td>\n",
       "    </tr>\n",
       "    <tr>\n",
       "      <th>1</th>\n",
       "      <td></td>\n",
       "      <td>광역철도본부</td>\n",
       "      <td>KOTRIS</td>\n",
       "      <td>US_K</td>\n",
       "      <td>AAM_ADJUST_PMT</td>\n",
       "      <td>역무_이동정산기 정산지불내역</td>\n",
       "      <td>SC_SETTM_DTIME</td>\n",
       "      <td></td>\n",
       "      <td>정산일시</td>\n",
       "      <td>정산일시</td>\n",
       "      <td></td>\n",
       "      <td></td>\n",
       "      <td>VARCHAR2</td>\n",
       "      <td>14</td>\n",
       "      <td></td>\n",
       "    </tr>\n",
       "    <tr>\n",
       "      <th>2</th>\n",
       "      <td></td>\n",
       "      <td>광역철도본부</td>\n",
       "      <td>KOTRIS</td>\n",
       "      <td>US_K</td>\n",
       "      <td>AAM_ADJUST_PMT</td>\n",
       "      <td>역무_이동정산기 정산지불내역</td>\n",
       "      <td>SC_EXTN_STA_NO</td>\n",
       "      <td></td>\n",
       "      <td>외부역번호</td>\n",
       "      <td>외부역번호</td>\n",
       "      <td></td>\n",
       "      <td></td>\n",
       "      <td>NUMBER</td>\n",
       "      <td>4</td>\n",
       "      <td>0</td>\n",
       "    </tr>\n",
       "    <tr>\n",
       "      <th>3</th>\n",
       "      <td></td>\n",
       "      <td>광역철도본부</td>\n",
       "      <td>KOTRIS</td>\n",
       "      <td>US_K</td>\n",
       "      <td>AAM_ADJUST_PMT</td>\n",
       "      <td>역무_이동정산기 정산지불내역</td>\n",
       "      <td>SC_DEV_NO</td>\n",
       "      <td></td>\n",
       "      <td>장비번호</td>\n",
       "      <td>장비번호</td>\n",
       "      <td></td>\n",
       "      <td></td>\n",
       "      <td>NUMBER</td>\n",
       "      <td>3</td>\n",
       "      <td>0</td>\n",
       "    </tr>\n",
       "    <tr>\n",
       "      <th>4</th>\n",
       "      <td></td>\n",
       "      <td>광역철도본부</td>\n",
       "      <td>KOTRIS</td>\n",
       "      <td>US_K</td>\n",
       "      <td>AAM_ADJUST_PMT</td>\n",
       "      <td>역무_이동정산기 정산지불내역</td>\n",
       "      <td>SC_DEV_CLASS_CD</td>\n",
       "      <td></td>\n",
       "      <td>장비구분코드</td>\n",
       "      <td>장비구분코드</td>\n",
       "      <td></td>\n",
       "      <td></td>\n",
       "      <td>VARCHAR2</td>\n",
       "      <td>3</td>\n",
       "      <td></td>\n",
       "    </tr>\n",
       "  </tbody>\n",
       "</table>\n",
       "</div>"
      ],
      "text/plain": [
       "  관리부서코드   관리부서명    시스템명 물리DB명      TABLE_NAME         COMMENTS  \\\n",
       "0         광역철도본부  KOTRIS  US_K  AAM_ADJUST_PMT  역무_이동정산기 정산지불내역   \n",
       "1         광역철도본부  KOTRIS  US_K  AAM_ADJUST_PMT  역무_이동정산기 정산지불내역   \n",
       "2         광역철도본부  KOTRIS  US_K  AAM_ADJUST_PMT  역무_이동정산기 정산지불내역   \n",
       "3         광역철도본부  KOTRIS  US_K  AAM_ADJUST_PMT  역무_이동정산기 정산지불내역   \n",
       "4         광역철도본부  KOTRIS  US_K  AAM_ADJUST_PMT  역무_이동정산기 정산지불내역   \n",
       "\n",
       "       COLUMN_NAME 컬럼물리명FullName COMMENTS.1    컬럼설명 표준도메인그룹명 도메인분류명 DATA_TYPE  \\\n",
       "0       SC_DUTY_DT                     업무일자    업무일자                  VARCHAR2   \n",
       "1   SC_SETTM_DTIME                     정산일시    정산일시                  VARCHAR2   \n",
       "2   SC_EXTN_STA_NO                    외부역번호   외부역번호                    NUMBER   \n",
       "3        SC_DEV_NO                     장비번호    장비번호                    NUMBER   \n",
       "4  SC_DEV_CLASS_CD                   장비구분코드  장비구분코드                  VARCHAR2   \n",
       "\n",
       "  DATA_LENGTH DATA_SCALE  \n",
       "0           8             \n",
       "1          14             \n",
       "2           4          0  \n",
       "3           3          0  \n",
       "4           3             "
      ]
     },
     "execution_count": 9,
     "metadata": {},
     "output_type": "execute_result"
    }
   ],
   "source": [
    "data_30_광역철도수입관리시스템.head()"
   ]
  },
  {
   "cell_type": "code",
   "execution_count": 16,
   "id": "f90498a1",
   "metadata": {},
   "outputs": [
    {
     "data": {
      "text/plain": [
       "0        \n",
       "1        \n",
       "2       4\n",
       "3       3\n",
       "4        \n",
       "       ..\n",
       "5568     \n",
       "5569     \n",
       "5570     \n",
       "5571     \n",
       "5572     \n",
       "Name: DATA_PRECISION, Length: 5573, dtype: object"
      ]
     },
     "execution_count": 16,
     "metadata": {},
     "output_type": "execute_result"
    }
   ],
   "source": [
    "data_30_광역철도수입관리시스템['DATA_PRECISION']"
   ]
  },
  {
   "cell_type": "code",
   "execution_count": 17,
   "id": "b699e4a6",
   "metadata": {},
   "outputs": [
    {
     "data": {
      "text/html": [
       "<div>\n",
       "<style scoped>\n",
       "    .dataframe tbody tr th:only-of-type {\n",
       "        vertical-align: middle;\n",
       "    }\n",
       "\n",
       "    .dataframe tbody tr th {\n",
       "        vertical-align: top;\n",
       "    }\n",
       "\n",
       "    .dataframe thead th {\n",
       "        text-align: right;\n",
       "    }\n",
       "</style>\n",
       "<table border=\"1\" class=\"dataframe\">\n",
       "  <thead>\n",
       "    <tr style=\"text-align: right;\">\n",
       "      <th></th>\n",
       "      <th>관리부서코드</th>\n",
       "      <th>관리부서명</th>\n",
       "      <th>시스템명</th>\n",
       "      <th>물리DB명</th>\n",
       "      <th>TABLE_NAME</th>\n",
       "      <th>COMMENTS</th>\n",
       "      <th>COLUMN_NAME</th>\n",
       "      <th>컬럼물리명FullName</th>\n",
       "      <th>COMMENTS.1</th>\n",
       "      <th>컬럼설명</th>\n",
       "      <th>표준도메인그룹명</th>\n",
       "      <th>도메인분류명</th>\n",
       "      <th>DATA_TYPE</th>\n",
       "      <th>DATA_LENGTH</th>\n",
       "      <th>DATA_SCALE</th>\n",
       "    </tr>\n",
       "  </thead>\n",
       "  <tbody>\n",
       "    <tr>\n",
       "      <th>0</th>\n",
       "      <td></td>\n",
       "      <td>광역철도본부</td>\n",
       "      <td>KOTRIS</td>\n",
       "      <td>US_K</td>\n",
       "      <td>AAM_ADJUST_PMT</td>\n",
       "      <td>역무_이동정산기 정산지불내역</td>\n",
       "      <td>SC_DUTY_DT</td>\n",
       "      <td></td>\n",
       "      <td>업무일자</td>\n",
       "      <td>업무일자</td>\n",
       "      <td></td>\n",
       "      <td></td>\n",
       "      <td>VARCHAR2</td>\n",
       "      <td>8</td>\n",
       "      <td></td>\n",
       "    </tr>\n",
       "    <tr>\n",
       "      <th>1</th>\n",
       "      <td></td>\n",
       "      <td>광역철도본부</td>\n",
       "      <td>KOTRIS</td>\n",
       "      <td>US_K</td>\n",
       "      <td>AAM_ADJUST_PMT</td>\n",
       "      <td>역무_이동정산기 정산지불내역</td>\n",
       "      <td>SC_SETTM_DTIME</td>\n",
       "      <td></td>\n",
       "      <td>정산일시</td>\n",
       "      <td>정산일시</td>\n",
       "      <td></td>\n",
       "      <td></td>\n",
       "      <td>VARCHAR2</td>\n",
       "      <td>14</td>\n",
       "      <td></td>\n",
       "    </tr>\n",
       "    <tr>\n",
       "      <th>2</th>\n",
       "      <td></td>\n",
       "      <td>광역철도본부</td>\n",
       "      <td>KOTRIS</td>\n",
       "      <td>US_K</td>\n",
       "      <td>AAM_ADJUST_PMT</td>\n",
       "      <td>역무_이동정산기 정산지불내역</td>\n",
       "      <td>SC_EXTN_STA_NO</td>\n",
       "      <td></td>\n",
       "      <td>외부역번호</td>\n",
       "      <td>외부역번호</td>\n",
       "      <td></td>\n",
       "      <td></td>\n",
       "      <td>NUMBER</td>\n",
       "      <td>4</td>\n",
       "      <td>0</td>\n",
       "    </tr>\n",
       "    <tr>\n",
       "      <th>3</th>\n",
       "      <td></td>\n",
       "      <td>광역철도본부</td>\n",
       "      <td>KOTRIS</td>\n",
       "      <td>US_K</td>\n",
       "      <td>AAM_ADJUST_PMT</td>\n",
       "      <td>역무_이동정산기 정산지불내역</td>\n",
       "      <td>SC_DEV_NO</td>\n",
       "      <td></td>\n",
       "      <td>장비번호</td>\n",
       "      <td>장비번호</td>\n",
       "      <td></td>\n",
       "      <td></td>\n",
       "      <td>NUMBER</td>\n",
       "      <td>3</td>\n",
       "      <td>0</td>\n",
       "    </tr>\n",
       "    <tr>\n",
       "      <th>4</th>\n",
       "      <td></td>\n",
       "      <td>광역철도본부</td>\n",
       "      <td>KOTRIS</td>\n",
       "      <td>US_K</td>\n",
       "      <td>AAM_ADJUST_PMT</td>\n",
       "      <td>역무_이동정산기 정산지불내역</td>\n",
       "      <td>SC_DEV_CLASS_CD</td>\n",
       "      <td></td>\n",
       "      <td>장비구분코드</td>\n",
       "      <td>장비구분코드</td>\n",
       "      <td></td>\n",
       "      <td></td>\n",
       "      <td>VARCHAR2</td>\n",
       "      <td>3</td>\n",
       "      <td></td>\n",
       "    </tr>\n",
       "  </tbody>\n",
       "</table>\n",
       "</div>"
      ],
      "text/plain": [
       "  관리부서코드   관리부서명    시스템명 물리DB명      TABLE_NAME         COMMENTS  \\\n",
       "0         광역철도본부  KOTRIS  US_K  AAM_ADJUST_PMT  역무_이동정산기 정산지불내역   \n",
       "1         광역철도본부  KOTRIS  US_K  AAM_ADJUST_PMT  역무_이동정산기 정산지불내역   \n",
       "2         광역철도본부  KOTRIS  US_K  AAM_ADJUST_PMT  역무_이동정산기 정산지불내역   \n",
       "3         광역철도본부  KOTRIS  US_K  AAM_ADJUST_PMT  역무_이동정산기 정산지불내역   \n",
       "4         광역철도본부  KOTRIS  US_K  AAM_ADJUST_PMT  역무_이동정산기 정산지불내역   \n",
       "\n",
       "       COLUMN_NAME 컬럼물리명FullName COMMENTS.1    컬럼설명 표준도메인그룹명 도메인분류명 DATA_TYPE  \\\n",
       "0       SC_DUTY_DT                     업무일자    업무일자                  VARCHAR2   \n",
       "1   SC_SETTM_DTIME                     정산일시    정산일시                  VARCHAR2   \n",
       "2   SC_EXTN_STA_NO                    외부역번호   외부역번호                    NUMBER   \n",
       "3        SC_DEV_NO                     장비번호    장비번호                    NUMBER   \n",
       "4  SC_DEV_CLASS_CD                   장비구분코드  장비구분코드                  VARCHAR2   \n",
       "\n",
       "  DATA_LENGTH DATA_SCALE  \n",
       "0           8             \n",
       "1          14             \n",
       "2           4          0  \n",
       "3           3          0  \n",
       "4           3             "
      ]
     },
     "execution_count": 17,
     "metadata": {},
     "output_type": "execute_result"
    }
   ],
   "source": [
    "# 데이터 소수점 전처리\n",
    "data_30_광역철도수입관리시스템.loc[data_30_광역철도수입관리시스템['DATA_PRECISION'] != ''] \n",
    "data_30_광역철도수입관리시스템.loc[data_30_광역철도수입관리시스템['DATA_PRECISION'] != '', 'DATA_LENGTH'] =  data_30_광역철도수입관리시스템['DATA_PRECISION']\n",
    "# 컬럼명 정리\n",
    "col_list = ['관리부서코드', '관리부서명', '시스템명', '물리DB명', 'TABLE_NAME', 'COMMENTS',\n",
    "       'COLUMN_NAME', '컬럼물리명FullName', 'COMMENTS.1', '컬럼설명', '표준도메인그룹명',\n",
    "       '도메인분류명', 'DATA_TYPE', 'DATA_LENGTH', 'DATA_SCALE']\n",
    "data_30_광역철도수입관리시스템 = data_30_광역철도수입관리시스템[col_list]\n",
    "# data_30_광역철도수입관리시스템.columns = smpl_col\n",
    "data_30_광역철도수입관리시스템.head()"
   ]
  },
  {
   "cell_type": "code",
   "execution_count": null,
   "id": "5e773622",
   "metadata": {},
   "outputs": [],
   "source": [
    "smpl_col = [] # 정의해야!!! 샘플데이터 가지고!!"
   ]
  },
  {
   "cell_type": "code",
   "execution_count": null,
   "id": "2019f4e0",
   "metadata": {},
   "outputs": [],
   "source": [
    "for i in zip(range(len(folder_list)), folder_list):\n",
    "    print(i)\n",
    "#     print(j)"
   ]
  },
  {
   "cell_type": "code",
   "execution_count": null,
   "id": "15302fee",
   "metadata": {},
   "outputs": [],
   "source": [
    "for i in folder_list:\n",
    "    lead\n",
    "    print(i)"
   ]
  },
  {
   "cell_type": "code",
   "execution_count": null,
   "id": "e92a3738",
   "metadata": {},
   "outputs": [],
   "source": []
  },
  {
   "cell_type": "code",
   "execution_count": null,
   "id": "8c70f57a",
   "metadata": {},
   "outputs": [],
   "source": [
    "# 2.중복제거 후 형태이상단어 검색"
   ]
  },
  {
   "cell_type": "code",
   "execution_count": null,
   "id": "f33cf6a4",
   "metadata": {},
   "outputs": [],
   "source": []
  },
  {
   "cell_type": "markdown",
   "id": "fb7c76f3",
   "metadata": {},
   "source": [
    "# 형태이상 단어 탐색"
   ]
  },
  {
   "cell_type": "code",
   "execution_count": null,
   "id": "02be7b60",
   "metadata": {},
   "outputs": [],
   "source": [
    "# 경로 및 파일명 설정\n",
    "path = os.path.join(os.getcwd())\n",
    "folder_list = pd.read_excel(path + \"\\\\metadata\\\\폴더명.xlsx\")['폴더명']\n",
    "folder = folder_list[10]\n",
    "folder"
   ]
  },
  {
   "cell_type": "code",
   "execution_count": null,
   "id": "2c30d199",
   "metadata": {
    "scrolled": true
   },
   "outputs": [],
   "source": [
    "# 파일 불러오기\n",
    "data_name = \"METADATA_UTF8.csv\"\n",
    "sheet_name = \"\"\n",
    "input_meta = pd.read_csv(path + \"\\\\metadata\\\\\" + folder + \"\\\\\" + data_name, na_filter=False)\n",
    "print(input_meta.shape)\n",
    "input_meta.head(5)"
   ]
  },
  {
   "cell_type": "markdown",
   "id": "52fd9198",
   "metadata": {},
   "source": [
    "### 시스템마다 전처리 로직"
   ]
  },
  {
   "cell_type": "code",
   "execution_count": null,
   "id": "25fbac9b",
   "metadata": {},
   "outputs": [],
   "source": [
    "# 데이터 소수점 전처리\n",
    "input_meta.loc[input_meta['DATA_PRECISION'] != ''] \n",
    "input_meta.loc[input_meta['DATA_PRECISION'] != '', 'DATA_LENGTH'] =  input_meta['DATA_PRECISION']\n",
    "# 컬럼명 정리\n",
    "col_list = ['관리부서코드', '관리부서명', '시스템명', '물리DB명', 'TABLE_NAME', 'COMMENTS',\n",
    "       'COLUMN_NAME', '컬럼물리명FullName', 'COMMENTS.1', '컬럼설명', '표준도메인그룹명',\n",
    "       '도메인분류명', 'DATA_TYPE', 'DATA_LENGTH', 'DATA_SCALE']\n",
    "input_meta = input_meta[col_list]\n",
    "input_meta.columns = smpl_col\n",
    "input_meta.head()"
   ]
  },
  {
   "cell_type": "code",
   "execution_count": null,
   "id": "e7d92b09",
   "metadata": {},
   "outputs": [],
   "source": [
    "input_meta"
   ]
  },
  {
   "cell_type": "code",
   "execution_count": null,
   "id": "c297e44f",
   "metadata": {},
   "outputs": [],
   "source": [
    "'aaa'.islower()"
   ]
  },
  {
   "cell_type": "code",
   "execution_count": null,
   "id": "93a169cd",
   "metadata": {},
   "outputs": [],
   "source": [
    "'Aaa'.islower() == False"
   ]
  },
  {
   "cell_type": "code",
   "execution_count": null,
   "id": "79e54e59",
   "metadata": {},
   "outputs": [],
   "source": [
    "'Aaa'.islower()"
   ]
  },
  {
   "cell_type": "code",
   "execution_count": null,
   "id": "2ad6179c",
   "metadata": {},
   "outputs": [],
   "source": [
    "'aa-_a'.islower()"
   ]
  },
  {
   "cell_type": "code",
   "execution_count": null,
   "id": "424a87a7",
   "metadata": {},
   "outputs": [],
   "source": [
    "'Aaa'.isupper()"
   ]
  },
  {
   "cell_type": "code",
   "execution_count": null,
   "id": "6945b1f2",
   "metadata": {},
   "outputs": [],
   "source": [
    "'가나다'.isupper()"
   ]
  },
  {
   "cell_type": "code",
   "execution_count": null,
   "id": "e9d47176",
   "metadata": {},
   "outputs": [],
   "source": [
    "'가a나'.isalpha()"
   ]
  },
  {
   "cell_type": "code",
   "execution_count": null,
   "id": "53b2b4de",
   "metadata": {},
   "outputs": [],
   "source": [
    "'Aaa'.isalpha()"
   ]
  },
  {
   "cell_type": "code",
   "execution_count": null,
   "id": "5e52e1eb",
   "metadata": {},
   "outputs": [],
   "source": [
    "'가나다aAa'.isalpha()"
   ]
  },
  {
   "cell_type": "code",
   "execution_count": null,
   "id": "a77e9926",
   "metadata": {},
   "outputs": [],
   "source": [
    "'가나다aAa'.islower()"
   ]
  },
  {
   "cell_type": "code",
   "execution_count": null,
   "id": "b1c898ee",
   "metadata": {},
   "outputs": [],
   "source": [
    "'가나다aAa'.isupper()"
   ]
  },
  {
   "cell_type": "code",
   "execution_count": null,
   "id": "9446cf18",
   "metadata": {},
   "outputs": [],
   "source": [
    "input_meta.loc[0, 'stwd_kor'].islower()"
   ]
  },
  {
   "cell_type": "code",
   "execution_count": null,
   "id": "982b6c71",
   "metadata": {},
   "outputs": [],
   "source": [
    "''.join(re.findall('[A-Z0-9가-힣_+]', input_meta.loc[0, '컬럼한글명*']))"
   ]
  },
  {
   "cell_type": "code",
   "execution_count": null,
   "id": "c5a89f38",
   "metadata": {},
   "outputs": [],
   "source": [
    "input_meta.loc[0, '컬럼한글명*']"
   ]
  },
  {
   "cell_type": "code",
   "execution_count": null,
   "id": "24972834",
   "metadata": {},
   "outputs": [],
   "source": []
  },
  {
   "cell_type": "code",
   "execution_count": null,
   "id": "43caea6c",
   "metadata": {},
   "outputs": [],
   "source": [
    "### 변경 now- 이거야!<단순화>\n",
    "def wd_emoti_rmv(data, col, var, kor_chk_list):\n",
    "    if var == 'kor':\n",
    "        # 한글명에 영문 소문자 탐색\n",
    "        data['stwd_kor'] = data[col]\n",
    "        globals()[\"{}\".format(kor_chk_list)] = []\n",
    "        for i in tqdm(range(len(data))):\n",
    "            \n",
    "            # 대문자 변경\n",
    "            data.loc[i, 'stwd_kor'] = data.loc[i, 'stwd_kor'].upper()\n",
    "            # 영문 대문자, 숫자, 한글만 체크\n",
    "            cor_kor = re.findall('[A-Z0-9가-힣_+]', data.loc[i, 'stwd_kor'])\n",
    "#             print(\"-----------------------------영문대문자, 숫자, 한글만 허용----------------------------|\")\n",
    "            print('index: ' + str(i))\n",
    "            print(data.loc[i, 'stwd_kor'] + \" -> \" + str(''.join(cor_kor)))\n",
    "\n",
    "            # 영문대문자, 숫자, 한글 외 자동 삭제\n",
    "            data.loc[i, 'stwd_kor'] = ''.join(cor_kor)\n",
    "            \n",
    "        # 변경 리스트 저장\n",
    "        globals()[\"{}\".format(kor_chk_list)] = data[data['컬럼한글명*'] != data['stwd_kor']].index\n",
    "        cnt = len(data[data['컬럼한글명*'] != data['stwd_kor']].index)\n",
    "        \n",
    "        # 적용 후 결과값\n",
    "        print(\"====================================한글명 검토====================================|\")\n",
    "        print(kor_chk_list)\n",
    "        print(\"자동 처리: \"+ str(cnt))\n",
    "        print('[자동 처리 완료하였습니다]')"
   ]
  },
  {
   "cell_type": "code",
   "execution_count": null,
   "id": "2f9bd17d",
   "metadata": {},
   "outputs": [],
   "source": [
    "wd_emoti_rmv(input_meta, \"컬럼한글명*\", 'kor', 'chk_kor_list')"
   ]
  },
  {
   "cell_type": "markdown",
   "id": "db8a6679",
   "metadata": {},
   "source": [
    "### 한글명 미입력 처리 제외 안하고 그냥 가기"
   ]
  },
  {
   "cell_type": "code",
   "execution_count": null,
   "id": "7f2bae35",
   "metadata": {},
   "outputs": [],
   "source": [
    "# input_meta = input_meta[input_meta['테이블한글명*'] != '']\n",
    "print(input_meta.shape)\n",
    "input_meta.head()"
   ]
  },
  {
   "cell_type": "markdown",
   "id": "37a196a4",
   "metadata": {},
   "source": [
    "### 중복제거후 수정"
   ]
  },
  {
   "cell_type": "code",
   "execution_count": null,
   "id": "f8a461d2",
   "metadata": {},
   "outputs": [],
   "source": [
    "len(input_meta.groupby(['stwd_kor']).head(1)['stwd_kor'])"
   ]
  },
  {
   "cell_type": "code",
   "execution_count": null,
   "id": "61cf8d63",
   "metadata": {},
   "outputs": [],
   "source": [
    "input_meta['stwd_spce'] = input_meta['stwd_kor']\n",
    "input_meta.head()"
   ]
  },
  {
   "cell_type": "code",
   "execution_count": null,
   "id": "65ce2833",
   "metadata": {},
   "outputs": [],
   "source": [
    "input_meta.groupby(['stwd_kor']).head(1)[['stwd_kor', 'stwd_spce']]"
   ]
  },
  {
   "cell_type": "code",
   "execution_count": null,
   "id": "b9e5eab0",
   "metadata": {},
   "outputs": [],
   "source": []
  },
  {
   "cell_type": "code",
   "execution_count": null,
   "id": "edb510c5",
   "metadata": {},
   "outputs": [],
   "source": [
    "# read & load\n",
    "\n",
    "# 파이썬 로드후 파일 실행\n",
    "def read_grip_file(data, path, file_name):\n",
    "    os.system(path + file_name + \".xlsx\")\n",
    "    globals()[file_name] = pd.read_excel(path + file_name + \".xlsx\", index_col = 0, na_filter=False)\n",
    "\n",
    "\n",
    "# 파이썬 로드 및 파일 저장 및 파일 실행\n",
    "def save_grip_file(data, path, file_name):\n",
    "    print('예) path + \"\\\\metadata\\\\\" + folder + \"\\\\01 abnormal_words_correct\", \"abnormal_words_correct\"')\n",
    "    globals()[file_name] = data\n",
    "    data.to_excel(path + file_name + \".xlsx\")\n",
    "    os.system(path + file_name + \".xlsx\")"
   ]
  },
  {
   "cell_type": "code",
   "execution_count": null,
   "id": "268163a5",
   "metadata": {},
   "outputs": [],
   "source": [
    "input_meta['테이블한글명*'].unique()"
   ]
  },
  {
   "cell_type": "code",
   "execution_count": null,
   "id": "e6c5b212",
   "metadata": {},
   "outputs": [],
   "source": [
    "input_meta['stwd_kor'].unique()"
   ]
  },
  {
   "cell_type": "code",
   "execution_count": null,
   "id": "e1c0a324",
   "metadata": {},
   "outputs": [],
   "source": [
    "save_grip_file(input_meta.loc[chk_kor_list], )"
   ]
  },
  {
   "cell_type": "code",
   "execution_count": null,
   "id": "f7415780",
   "metadata": {},
   "outputs": [],
   "source": [
    "print(len(input_meta.loc[chk_kor_list]))\n",
    "input_meta.loc[chk_kor_list]"
   ]
  },
  {
   "cell_type": "code",
   "execution_count": null,
   "id": "63f6ec89",
   "metadata": {},
   "outputs": [],
   "source": []
  },
  {
   "cell_type": "markdown",
   "id": "195bb507",
   "metadata": {},
   "source": [
    "### 한글명 null 없애기(수기로)"
   ]
  },
  {
   "cell_type": "code",
   "execution_count": null,
   "id": "7adb9cb3",
   "metadata": {},
   "outputs": [],
   "source": [
    "def emoti_rmv(data, col, var):\n",
    "    if var == 'kor':\n",
    "        # 한글명에 영문 소문자 탐색\n",
    "        data['stwd_kor'] = data[col]\n",
    "        df_lower_kor = pd.DataFrame(columns = data.columns)   \n",
    "        data['kor_lower'] = ''\n",
    "        data['kor_ec'] = ''\n",
    "        kor_chk_list = []\n",
    "        for i in range(len(data)):\n",
    "            # 영문 소문자 체크 및 기록\n",
    "            if data.loc[i, 'stwd_kor'].islower():\n",
    "                tmp = pd.DataFrame(data.iloc[i,:]).transpose()\n",
    "                df_lower_kor = pd.concat([df_lower_kor, tmp], axis=0)\n",
    "                print(\"----------------------영문 소문자 체크 및 기록--------------------|\")\n",
    "                print('index: ' + str(i))\n",
    "                print(data.loc[i, 'stwd_kor'] + \" -> \" + str(data.loc[i, 'stwd_kor'].upper()))\n",
    "                kor_chk_list.append(i)\n",
    "\n",
    "                # 영문 변경 이력 저장\n",
    "                data.loc[i, 'kor_lower'] = data.loc[i, 'stwd_kor']      \n",
    "\n",
    "                # 영문 대문자 변경\n",
    "                data.loc[i, 'stwd_kor'] = data.loc[i, 'stwd_kor'].upper()\n",
    "\n",
    "            # 영문 대문자, 숫자, 한글만 체크\n",
    "            cor_kor = re.findall('[A-Z0-9가-힣_+]', data.loc[i, 'stwd_kor'])\n",
    "            chk_kor = len(cor_kor) == len(list(data.loc[i, 'stwd_kor']))\n",
    "\n",
    "            if bool(chk_kor) == False:\n",
    "                print(\"-----------------------------특수기호제거----------------------------|\")\n",
    "                print('index: ' + str(i))\n",
    "                print(data.loc[i, 'stwd_kor'] + \" -> \" + str(''.join(cor_kor)))\n",
    "                kor_chk_list.append(i)\n",
    "\n",
    "            # 영문대문자, 숫자, 한글 외 변경 이력 저장\n",
    "            data.loc[i, 'kor_ec'] = re.sub('[A-Z0-9가-힣+]', '', data.loc[i, 'stwd_kor'])        \n",
    "\n",
    "            # 영문대문자, 숫자, 한글 외 자동 삭제\n",
    "            data.loc[i, 'stwd_kor'] = ''.join(cor_kor)\n",
    "\n",
    "        # 변경 이력 저장\n",
    "        data['kor_cor_hist'] = \"\"\n",
    "        data['kor_cor_hist'] = data['kor_lower'] + data['kor_ec']\n",
    "\n",
    "        # 적용 후 결과값\n",
    "        print(\"====================================한글명 검토====================================|\")\n",
    "        print('소문자 처리: ' + str(len(df_lower_kor)) + '개')\n",
    "        data_kor_chk_1 = data.iloc[kor_chk_list]\n",
    "        print(\"나머지 제거: \"+ str(len(kor_chk_list)))\n",
    "        print('[자동 처리 완료하였습니다]')"
   ]
  },
  {
   "cell_type": "code",
   "execution_count": null,
   "id": "b634c1ee",
   "metadata": {},
   "outputs": [],
   "source": []
  },
  {
   "cell_type": "code",
   "execution_count": null,
   "id": "8bfc8b59",
   "metadata": {},
   "outputs": [],
   "source": []
  },
  {
   "cell_type": "code",
   "execution_count": null,
   "id": "2694f994",
   "metadata": {},
   "outputs": [],
   "source": []
  },
  {
   "cell_type": "code",
   "execution_count": null,
   "id": "63c88be5",
   "metadata": {},
   "outputs": [],
   "source": []
  },
  {
   "cell_type": "code",
   "execution_count": null,
   "id": "3169a36f",
   "metadata": {},
   "outputs": [],
   "source": [
    "# 표준용어 구분자 변환 점검\n",
    "print(len('가 나 다'.split(\" \")))\n",
    "'가 나 다'.split(\" \")"
   ]
  },
  {
   "cell_type": "code",
   "execution_count": null,
   "id": "b1985d74",
   "metadata": {},
   "outputs": [],
   "source": [
    "'가 나 다'.count(\" \")"
   ]
  },
  {
   "cell_type": "markdown",
   "id": "91af4817",
   "metadata": {},
   "source": [
    "# 한글명은 notNull이어야 함\n",
    "\n",
    "작업내용:\n",
    "1. 중복제거(unique): 작업 효율성 제고\n",
    "2. 개수 매칭 -> (모든 값 채우기)\n",
    "3. 순서 매칭: ID 부여, 한글/영문\n",
    "4. 재조립( 한글명 기준)"
   ]
  },
  {
   "cell_type": "code",
   "execution_count": null,
   "id": "913adbb6",
   "metadata": {},
   "outputs": [],
   "source": [
    "\n",
    "테이블 한글명 + 컬럼 한글명 한줄 생성\n",
    "도메인 한글명 - > 도메인명 생성"
   ]
  },
  {
   "cell_type": "markdown",
   "id": "de8aded9",
   "metadata": {},
   "source": [
    "# 용어분리"
   ]
  },
  {
   "cell_type": "code",
   "execution_count": null,
   "id": "e60efc33",
   "metadata": {},
   "outputs": [],
   "source": [
    "# 파일 불러오기\n",
    "data_name = \"input_test_KORAIL\"\n",
    "sheet_name = \"테이블컬럼 입력항목 통계조사\"\n",
    "input_path = os.path.join(os.getcwd(), \"input\\\\\")\n",
    "output_path = os.path.join(os.getcwd(), \"output\\\\\")\n",
    "input_meta = pd.read_excel(input_path + data_name +\".xlsx\", sheet_name=sheet_name, header=0, na_filter=False)"
   ]
  },
  {
   "cell_type": "code",
   "execution_count": null,
   "id": "1bae4d6c",
   "metadata": {},
   "outputs": [],
   "source": [
    "# 테이블 따로(명명규칙)\n",
    "input_meta['분리된테이블한글명'] = input_meta['테이블한글명*']\n",
    "\n",
    "# 컬럼 따로(명명규칙)\n",
    "input_meta['분리된컬럼한글명'] = input_meta['컬럼한글명*']"
   ]
  },
  {
   "cell_type": "markdown",
   "id": "e69af6d2",
   "metadata": {},
   "source": [
    "# 컬럼명부터"
   ]
  },
  {
   "cell_type": "code",
   "execution_count": null,
   "id": "6d357bc2",
   "metadata": {},
   "outputs": [],
   "source": [
    "input_meta_sepa_col = pd.DataFrame(input_meta['분리된컬럼한글명'])\n",
    "input_meta_sepa_col"
   ]
  },
  {
   "cell_type": "code",
   "execution_count": null,
   "id": "b67ea4e2",
   "metadata": {},
   "outputs": [],
   "source": [
    "input_meta_sepa_col_unq = input_meta_sepa_col['분리된컬럼한글명'].unique()\n",
    "input_meta_sepa_col_unq"
   ]
  },
  {
   "cell_type": "code",
   "execution_count": null,
   "id": "599fec08",
   "metadata": {},
   "outputs": [],
   "source": [
    "zip(input_meta_sepa_col_unq, input_meta_sepa_col_unq)"
   ]
  },
  {
   "cell_type": "code",
   "execution_count": null,
   "id": "02b5d686",
   "metadata": {},
   "outputs": [],
   "source": [
    "a = pd.DataFrame(zip(input_meta_sepa_col_unq,input_meta_sepa_col_unq), columns = ['원본', '구분자입력'])\n",
    "a\n"
   ]
  },
  {
   "cell_type": "code",
   "execution_count": null,
   "id": "0bd4fcdf",
   "metadata": {},
   "outputs": [],
   "source": [
    "input_meta_sepa_col"
   ]
  },
  {
   "cell_type": "code",
   "execution_count": null,
   "id": "feb1f6a0",
   "metadata": {},
   "outputs": [],
   "source": [
    "input_meta_sepa_col.merge(on=a, how='left', left_on='분리된컬럼한글명', right_on='원본')"
   ]
  },
  {
   "cell_type": "code",
   "execution_count": null,
   "id": "578c7392",
   "metadata": {},
   "outputs": [],
   "source": [
    "pd.DataFrame([input_meta_sepa_col_unq, input_meta_sepa_col_unq])"
   ]
  },
  {
   "cell_type": "code",
   "execution_count": null,
   "id": "3ae7d19c",
   "metadata": {},
   "outputs": [],
   "source": [
    "pd.DataFrame(zip(input_meta_sepa_tbl_uniq, input_meta_sepa_tbl_uniq), columns = ['원본', '구분자입력'])"
   ]
  },
  {
   "cell_type": "code",
   "execution_count": null,
   "id": "330e9cb1",
   "metadata": {},
   "outputs": [],
   "source": [
    "pd.DataFrame([input_meta_sepa_tbl_uniq, input_meta_sepa_tbl_uniq])"
   ]
  },
  {
   "cell_type": "code",
   "execution_count": null,
   "id": "d4e3007a",
   "metadata": {},
   "outputs": [],
   "source": [
    "input_meta_sepa_tbl"
   ]
  },
  {
   "cell_type": "code",
   "execution_count": null,
   "id": "c89bc23a",
   "metadata": {},
   "outputs": [],
   "source": [
    "input_meta_sepa_tbl.iloc[:,0]"
   ]
  },
  {
   "cell_type": "code",
   "execution_count": null,
   "id": "62de5607",
   "metadata": {},
   "outputs": [],
   "source": [
    "pd.DataFrame(columns = input_meta_sepa_tbl.columns)"
   ]
  },
  {
   "cell_type": "code",
   "execution_count": null,
   "id": "8c635024",
   "metadata": {},
   "outputs": [],
   "source": [
    "input_meta_sepa_tbl = input_meta_sepa_tbl.fillna('')"
   ]
  },
  {
   "cell_type": "code",
   "execution_count": null,
   "id": "d3990f7d",
   "metadata": {},
   "outputs": [],
   "source": [
    "emoti_rmv(input_meta_sepa_tbl, '분리된테이블한글명', 'kor')"
   ]
  },
  {
   "cell_type": "code",
   "execution_count": null,
   "id": "7105606a",
   "metadata": {},
   "outputs": [],
   "source": [
    "input_meta_sepa_tbl['stwd_kor'] = input_meta_sepa_tbl['분리된테이블한글명']\n",
    "input_meta_sepa_tbl['stwd_kor']"
   ]
  },
  {
   "cell_type": "code",
   "execution_count": null,
   "id": "26e93074",
   "metadata": {},
   "outputs": [],
   "source": [
    "def emoti_rmv(data, col, var):\n",
    "    if var == 'kor':\n",
    "        # 한글명에 영문 소문자 탐색\n",
    "        data['stwd_kor'] = data[col]\n",
    "        df_lower_kor = pd.DataFrame(columns = data.columns)   \n",
    "        data['kor_lower'] = ''\n",
    "        data['kor_ec'] = ''\n",
    "        kor_chk_list = []\n",
    "        for i in range(len(data)):\n",
    "            # 영문 소문자 체크 및 기록\n",
    "            if data.loc[i, 'stwd_kor'].islower():\n",
    "                tmp = pd.DataFrame(data.iloc[i,:]).transpose()\n",
    "                df_lower_kor = pd.concat([df_lower_kor, tmp], axis=0)\n",
    "                print(\"----------------------영문 소문자 체크 및 기록--------------------|\")\n",
    "                print('index: ' + str(i))\n",
    "                print(data.loc[i, 'stwd_kor'] + \" -> \" + str(data.loc[i, 'stwd_kor'].upper()))\n",
    "                kor_chk_list.append(i)\n",
    "\n",
    "                # 영문 변경 이력 저장\n",
    "                data.loc[i, 'kor_lower'] = data.loc[i, 'stwd_kor']      \n",
    "\n",
    "                # 영문 대문자 변경\n",
    "                data.loc[i, 'stwd_kor'] = data.loc[i, 'stwd_kor'].upper()\n",
    "\n",
    "            # 영문 대문자, 숫자, 한글만 체크\n",
    "            cor_kor = re.findall('[A-Z0-9가-힣_+]', data.loc[i, 'stwd_kor'])\n",
    "            chk_kor = len(cor_kor) == len(list(data.loc[i, 'stwd_kor']))\n",
    "\n",
    "            if bool(chk_kor) == False:\n",
    "                print(\"-----------------------------특수기호제거----------------------------|\")\n",
    "                print('index: ' + str(i))\n",
    "                print(data.loc[i, 'stwd_kor'] + \" -> \" + str(''.join(cor_kor)))\n",
    "                kor_chk_list.append(i)\n",
    "\n",
    "            # 영문대문자, 숫자, 한글 외 변경 이력 저장\n",
    "            data.loc[i, 'kor_ec'] = re.sub('[A-Z0-9가-힣+]', '', data.loc[i, 'stwd_kor'])        \n",
    "\n",
    "            # 영문대문자, 숫자, 한글 외 자동 삭제\n",
    "            data.loc[i, 'stwd_kor'] = ''.join(cor_kor)\n",
    "\n",
    "        # 변경 이력 저장\n",
    "        data['kor_cor_hist'] = \"\"\n",
    "        data['kor_cor_hist'] = data['kor_lower'] + data['kor_ec']\n",
    "\n",
    "        # 적용 후 결과값\n",
    "        print(\"====================================한글명 검토====================================|\")\n",
    "        print('소문자 처리: ' + str(len(df_lower_kor)) + '개')\n",
    "        data_kor_chk_1 = data.iloc[kor_chk_list]\n",
    "        print(\"나머지 제거: \"+ str(len(kor_chk_list)))\n",
    "        print('[자동 처리 완료하였습니다]')"
   ]
  },
  {
   "cell_type": "code",
   "execution_count": null,
   "id": "9bbf3225",
   "metadata": {},
   "outputs": [],
   "source": []
  },
  {
   "cell_type": "code",
   "execution_count": null,
   "id": "4acb4650",
   "metadata": {},
   "outputs": [],
   "source": [
    "globals()[\"{}\".format(nameof(stwd_total))] = rw_data\n",
    "def emoti_chk(var):\n",
    "    if var == 'kor':\n",
    "        # 한글명에 영문 소문자 탐색\n",
    "        stwd_total = globals()['stwd_total']\n",
    "        df_lower_kor = pd.DataFrame(columns = stwd_total.columns)        \n",
    "        stwd_total['kor_lower'] = ''\n",
    "        stwd_total['kor_ec'] = ''\n",
    "        kor_chk_list = []\n",
    "        for i in range(len(stwd_total)):\n",
    "        #     특수기호 제거\n",
    "        #     stwd_total.loc[i, 'stwd_kor'] =  stwd_total.loc[i, 'stwd_kor'].translate(str.maketrans('', '', string.punctuation))\n",
    "\n",
    "            # 영문 소문자 체크 및 기록\n",
    "            if stwd_total.loc[i, 'stwd_kor'].islower():\n",
    "                tmp = pd.DataFrame(stwd_total.iloc[i,:]).transpose()\n",
    "                df_lower_kor = pd.concat([df_lower_kor, tmp], axis=0)\n",
    "                print(\"----------------------영문 소문자 체크 및 기록--------------------|\")\n",
    "                print('index: ' + str(i))\n",
    "                print(stwd_total.loc[i, 'stwd_kor'] + \" -> \" + str(stwd_total.loc[i, 'stwd_kor'].upper()))\n",
    "                kor_chk_list.append(i)\n",
    "\n",
    "                # 영문 변경 이력 저장\n",
    "                stwd_total.loc[i, 'kor_lower'] = stwd_total.loc[i, 'stwd_kor']      \n",
    "\n",
    "                # 영문 대문자 변경\n",
    "                stwd_total.loc[i, 'stwd_kor'] = stwd_total.loc[i, 'stwd_kor'].upper()\n",
    "\n",
    "            # 영문 대문자, 숫자, 한글만 체크\n",
    "            cor_kor = re.findall('[A-Z0-9가-힣+]', stwd_total.loc[i, 'stwd_kor'])\n",
    "            chk_kor = len(cor_kor) == len(list(stwd_total.loc[i, 'stwd_kor']))\n",
    "\n",
    "            if bool(chk_kor) == False:\n",
    "                print(\"-----------------------------특수기호제거----------------------------|\")\n",
    "                print('index: ' + str(i))\n",
    "                print(stwd_total.loc[i, 'stwd_kor'] + \" -> \" + str(''.join(cor_kor)))\n",
    "                kor_chk_list.append(i)\n",
    "\n",
    "            # 영문대문자, 숫자, 한글 외 변경 이력 저장\n",
    "            stwd_total.loc[i, 'kor_ec'] = re.sub('[A-Z0-9가-힣+]', '', stwd_total.loc[i, 'stwd_kor'])        \n",
    "\n",
    "            # 영문대문자, 숫자, 한글 외 자동 삭제\n",
    "            stwd_total.loc[i, 'stwd_kor'] = ''.join(cor_kor)\n",
    "\n",
    "        # 변경 이력 저장\n",
    "        stwd_total['kor_cor_hist'] = \"\"\n",
    "        stwd_total['kor_cor_hist'] = stwd_total['kor_lower'] + stwd_total['kor_ec']\n",
    "\n",
    "        # 적용 후 결과값\n",
    "        print(\"====================================한글명 검토====================================|\")\n",
    "        print('소문자 처리: ' + str(len(df_lower_kor)) + '개')\n",
    "        stwd_total_kor_chk_1 = stwd_total.iloc[kor_chk_list]\n",
    "        print(\"나머지 제거: \"+ str(len(kor_chk_list)))\n",
    "        print('[자동 처리 완료하였습니다]')\n",
    "\n",
    "    elif var == 'eng':\n",
    "        # 영문명에 영문 소문자 탐색\n",
    "        stwd_total = globals()['stwd_total']\n",
    "        df_lower_eng = pd.DataFrame(columns = stwd_total.columns)        \n",
    "        stwd_total['eng_lower'] = ''\n",
    "        stwd_total['eng_ec'] = ''\n",
    "        eng_chk_list = []\n",
    "        for i in range(len(stwd_total)):\n",
    "\n",
    "            # 영문 소문자 체크 및 기록\n",
    "            if stwd_total.loc[i, 'stwd_eng'].islower():\n",
    "                tmp = pd.DataFrame(stwd_total.iloc[i,:]).transpose()\n",
    "                df_lower_eng = pd.concat([df_lower_eng, tmp], axis=0)\n",
    "                print(\"----------------------영문 소문자 체크 및 기록--------------------|\")\n",
    "                print('index: ' + str(i))\n",
    "                print(stwd_total.loc[i, 'stwd_eng'] + \" -> \" + str(stwd_total.loc[i, 'stwd_eng'].upper()))\n",
    "                eng_chk_list.append(i)\n",
    "\n",
    "                # 영문 변경 이력 저장\n",
    "                stwd_total.loc[i, 'eng_lower'] = stwd_total.loc[i, 'stwd_eng']      \n",
    "\n",
    "                # 영문 대문자 변경\n",
    "                stwd_total.loc[i, 'stwd_eng'] = stwd_total.loc[i, 'stwd_eng'].upper()\n",
    "\n",
    "            # 영문 대문자, 숫자, 한글만 체크\n",
    "            cor_eng = re.findall('[A-Z0-9+]', stwd_total.loc[i, 'stwd_eng'])\n",
    "            chk_eng = len(cor_eng) == len(list(stwd_total.loc[i, 'stwd_eng']))\n",
    "\n",
    "            if bool(chk_eng) == False:\n",
    "                print(\"-----------------------------특수기호제거----------------------------|\")\n",
    "                print('index: ' + str(i))\n",
    "                print(stwd_total.loc[i, 'stwd_eng'] + \" -> \" + str(''.join(cor_eng)))\n",
    "                eng_chk_list.append(i)\n",
    "\n",
    "            # 영문대문자, 숫자 외 변경 이력 저장\n",
    "            stwd_total.loc[i, 'eng_ec'] = re.sub('[A-Z0-9+]', '', stwd_total.loc[i, 'stwd_eng'])        \n",
    "\n",
    "            # 영문대문자, 숫자 외 자동 삭제\n",
    "            stwd_total.loc[i, 'stwd_eng'] = ''.join(cor_eng)\n",
    "\n",
    "        # 변경 이력 저장\n",
    "        stwd_total['eng_cor_hist'] = ''\n",
    "        stwd_total['eng_cor_hist'] = stwd_total['eng_lower'] + stwd_total['eng_ec']\n",
    "\n",
    "        # 적용 후 결과값\n",
    "        print(\"====================================영문명 검토====================================|\")\n",
    "        print('소문자 처리: ' + str(len(df_lower_eng)) + '개')\n",
    "        stwd_total_eng_chk_1 = stwd_total.iloc[eng_chk_list]\n",
    "        print(\"나머지 제거: \"+ str(len(eng_chk_list)))\n",
    "        print('[자동 처리 완료하였습니다]')\n",
    "        \n",
    "    else:\n",
    "        print(\"잘못된 입력입니다( 'kor' / 'eng' )\")"
   ]
  },
  {
   "cell_type": "code",
   "execution_count": null,
   "id": "02559198",
   "metadata": {},
   "outputs": [],
   "source": [
    "def emoti_rmv(data, col, var):\n",
    "    if var == 'kor':\n",
    "        # 한글명에 영문 소문자 탐색\n",
    "        data['stwd_kor'] = data[col]\n",
    "        df_lower_kor = pd.DataFrame(columns = data.columns)   \n",
    "        data['kor_lower'] = ''\n",
    "        data['kor_ec'] = ''\n",
    "        kor_chk_list = []\n",
    "        \n",
    "        for i in range(len(data)):\n",
    "            # 영문 소문자 체크 및 기록\n",
    "            if data.loc[i, 'stwd_kor'].islower():\n",
    "                tmp = pd.DataFrame(data.iloc[i,:]).transpose()\n",
    "                df_lower_kor = pd.concat([df_lower_kor, tmp], axis=0)\n",
    "                print(\"----------------------영문 소문자 체크 및 기록--------------------|\")\n",
    "                print('index: ' + str(i))\n",
    "                print(data.loc[i, 'stwd_kor'] + \" -> \" + str(data.loc[i, 'stwd_kor'].upper()))\n",
    "                kor_chk_list.append(i)\n",
    "\n",
    "                # 영문 변경 이력 저장\n",
    "                data.loc[i, 'kor_lower'] = data.loc[i, 'stwd_kor']      \n",
    "\n",
    "                # 영문 대문자 변경\n",
    "                data.loc[i, 'stwd_kor'] = data.loc[i, 'stwd_kor'].upper()\n",
    "\n",
    "            # 영문 대문자, 숫자, 한글만 체크\n",
    "            cor_kor = re.findall('[A-Z0-9가-힣+]', data.loc[i, 'stwd_kor'])\n",
    "            chk_kor = len(cor_kor) == len(list(data.loc[i, 'stwd_kor']))\n",
    "\n",
    "            if bool(chk_kor) == False:\n",
    "                print(\"-----------------------------특수기호제거----------------------------|\")\n",
    "                print('index: ' + str(i))\n",
    "                print(data.loc[i, 'stwd_kor'] + \" -> \" + str(''.join(cor_kor)))\n",
    "                kor_chk_list.append(i)\n",
    "\n",
    "            # 영문대문자, 숫자, 한글 외 변경 이력 저장\n",
    "            data.loc[i, 'kor_ec'] = re.sub('[A-Z0-9가-힣+]', '', data.loc[i, 'stwd_kor'])        \n",
    "\n",
    "            # 영문대문자, 숫자, 한글 외 자동 삭제\n",
    "            data.loc[i, 'stwd_kor'] = ''.join(cor_kor)\n",
    "\n",
    "        # 변경 이력 저장\n",
    "        data['kor_cor_hist'] = \"\"\n",
    "        data['kor_cor_hist'] = data['kor_lower'] + data['kor_ec']\n",
    "\n",
    "        # 적용 후 결과값\n",
    "        print(\"====================================한글명 검토====================================|\")\n",
    "        print('소문자 처리: ' + str(len(df_lower_kor)) + '개')\n",
    "        data_kor_chk_1 = data.iloc[kor_chk_list]\n",
    "        print(\"나머지 제거: \"+ str(len(kor_chk_list)))\n",
    "        print('[자동 처리 완료하였습니다]')\n",
    "        \n",
    "\n",
    "        print(data)\n",
    "        print(1)"
   ]
  },
  {
   "cell_type": "code",
   "execution_count": null,
   "id": "181936b5",
   "metadata": {},
   "outputs": [],
   "source": []
  },
  {
   "cell_type": "code",
   "execution_count": null,
   "id": "631ce329",
   "metadata": {},
   "outputs": [],
   "source": [
    "globals()[\"{}\".format(nameof(stwd_total))] = rw_data\n",
    "def emoti_chk(var):\n",
    "    if var == 'kor':\n",
    "        # 한글명에 영문 소문자 탐색\n",
    "        stwd_total = globals()['stwd_total']\n",
    "        df_lower_kor = pd.DataFrame(columns = stwd_total.columns)        \n",
    "        stwd_total['kor_lower'] = ''\n",
    "        stwd_total['kor_ec'] = ''\n",
    "        kor_chk_list = []\n",
    "        for i in range(len(stwd_total)):\n",
    "        #     특수기호 제거\n",
    "        #     stwd_total.loc[i, 'stwd_kor'] =  stwd_total.loc[i, 'stwd_kor'].translate(str.maketrans('', '', string.punctuation))\n",
    "\n",
    "            # 영문 소문자 체크 및 기록\n",
    "            if stwd_total.loc[i, 'stwd_kor'].islower():\n",
    "                tmp = pd.DataFrame(stwd_total.iloc[i,:]).transpose()\n",
    "                df_lower_kor = pd.concat([df_lower_kor, tmp], axis=0)\n",
    "                print(\"----------------------영문 소문자 체크 및 기록--------------------|\")\n",
    "                print('index: ' + str(i))\n",
    "                print(stwd_total.loc[i, 'stwd_kor'] + \" -> \" + str(stwd_total.loc[i, 'stwd_kor'].upper()))\n",
    "                kor_chk_list.append(i)\n",
    "\n",
    "                # 영문 변경 이력 저장\n",
    "                stwd_total.loc[i, 'kor_lower'] = stwd_total.loc[i, 'stwd_kor']      \n",
    "\n",
    "                # 영문 대문자 변경\n",
    "                stwd_total.loc[i, 'stwd_kor'] = stwd_total.loc[i, 'stwd_kor'].upper()\n",
    "\n",
    "            # 영문 대문자, 숫자, 한글만 체크\n",
    "            cor_kor = re.findall('[A-Z0-9가-힣+]', stwd_total.loc[i, 'stwd_kor'])\n",
    "            chk_kor = len(cor_kor) == len(list(stwd_total.loc[i, 'stwd_kor']))\n",
    "\n",
    "            if bool(chk_kor) == False:\n",
    "                print(\"-----------------------------특수기호제거----------------------------|\")\n",
    "                print('index: ' + str(i))\n",
    "                print(stwd_total.loc[i, 'stwd_kor'] + \" -> \" + str(''.join(cor_kor)))\n",
    "                kor_chk_list.append(i)\n",
    "\n",
    "            # 영문대문자, 숫자, 한글 외 변경 이력 저장\n",
    "            stwd_total.loc[i, 'kor_ec'] = re.sub('[A-Z0-9가-힣+]', '', stwd_total.loc[i, 'stwd_kor'])        \n",
    "\n",
    "            # 영문대문자, 숫자, 한글 외 자동 삭제\n",
    "            stwd_total.loc[i, 'stwd_kor'] = ''.join(cor_kor)\n",
    "\n",
    "        # 변경 이력 저장\n",
    "        stwd_total['kor_cor_hist'] = \"\"\n",
    "        stwd_total['kor_cor_hist'] = stwd_total['kor_lower'] + stwd_total['kor_ec']\n",
    "\n",
    "        # 적용 후 결과값\n",
    "        print(\"====================================한글명 검토====================================|\")\n",
    "        print('소문자 처리: ' + str(len(df_lower_kor)) + '개')\n",
    "        stwd_total_kor_chk_1 = stwd_total.iloc[kor_chk_list]\n",
    "        print(\"나머지 제거: \"+ str(len(kor_chk_list)))\n",
    "        print('[자동 처리 완료하였습니다]')\n",
    "\n",
    "    elif var == 'eng':\n",
    "        # 영문명에 영문 소문자 탐색\n",
    "        stwd_total = globals()['stwd_total']\n",
    "        df_lower_eng = pd.DataFrame(columns = stwd_total.columns)        \n",
    "        stwd_total['eng_lower'] = ''\n",
    "        stwd_total['eng_ec'] = ''\n",
    "        eng_chk_list = []\n",
    "        for i in range(len(stwd_total)):\n",
    "\n",
    "            # 영문 소문자 체크 및 기록\n",
    "            if stwd_total.loc[i, 'stwd_eng'].islower():\n",
    "                tmp = pd.DataFrame(stwd_total.iloc[i,:]).transpose()\n",
    "                df_lower_eng = pd.concat([df_lower_eng, tmp], axis=0)\n",
    "                print(\"----------------------영문 소문자 체크 및 기록--------------------|\")\n",
    "                print('index: ' + str(i))\n",
    "                print(stwd_total.loc[i, 'stwd_eng'] + \" -> \" + str(stwd_total.loc[i, 'stwd_eng'].upper()))\n",
    "                eng_chk_list.append(i)\n",
    "\n",
    "                # 영문 변경 이력 저장\n",
    "                stwd_total.loc[i, 'eng_lower'] = stwd_total.loc[i, 'stwd_eng']      \n",
    "\n",
    "                # 영문 대문자 변경\n",
    "                stwd_total.loc[i, 'stwd_eng'] = stwd_total.loc[i, 'stwd_eng'].upper()\n",
    "\n",
    "            # 영문 대문자, 숫자, 한글만 체크\n",
    "            cor_eng = re.findall('[A-Z0-9+]', stwd_total.loc[i, 'stwd_eng'])\n",
    "            chk_eng = len(cor_eng) == len(list(stwd_total.loc[i, 'stwd_eng']))\n",
    "\n",
    "            if bool(chk_eng) == False:\n",
    "                print(\"-----------------------------특수기호제거----------------------------|\")\n",
    "                print('index: ' + str(i))\n",
    "                print(stwd_total.loc[i, 'stwd_eng'] + \" -> \" + str(''.join(cor_eng)))\n",
    "                eng_chk_list.append(i)\n",
    "\n",
    "            # 영문대문자, 숫자 외 변경 이력 저장\n",
    "            stwd_total.loc[i, 'eng_ec'] = re.sub('[A-Z0-9+]', '', stwd_total.loc[i, 'stwd_eng'])        \n",
    "\n",
    "            # 영문대문자, 숫자 외 자동 삭제\n",
    "            stwd_total.loc[i, 'stwd_eng'] = ''.join(cor_eng)\n",
    "\n",
    "        # 변경 이력 저장\n",
    "        stwd_total['eng_cor_hist'] = ''\n",
    "        stwd_total['eng_cor_hist'] = stwd_total['eng_lower'] + stwd_total['eng_ec']\n",
    "\n",
    "        # 적용 후 결과값\n",
    "        print(\"====================================영문명 검토====================================|\")\n",
    "        print('소문자 처리: ' + str(len(df_lower_eng)) + '개')\n",
    "        stwd_total_eng_chk_1 = stwd_total.iloc[eng_chk_list]\n",
    "        print(\"나머지 제거: \"+ str(len(eng_chk_list)))\n",
    "        print('[자동 처리 완료하였습니다]')\n",
    "        \n",
    "    else:\n",
    "        print(\"잘못된 입력입니다( 'kor' / 'eng' )\")"
   ]
  },
  {
   "cell_type": "code",
   "execution_count": null,
   "id": "5eca18c6",
   "metadata": {},
   "outputs": [],
   "source": []
  },
  {
   "cell_type": "code",
   "execution_count": null,
   "id": "d4e3b0c0",
   "metadata": {},
   "outputs": [],
   "source": []
  },
  {
   "cell_type": "code",
   "execution_count": null,
   "id": "68291220",
   "metadata": {},
   "outputs": [],
   "source": [
    "# # 파일 불러오기\n",
    "# sheet_name = \"테이블컬럼정의서\"\n",
    "# input_path = os.path.join(os.getcwd(), \"input\\\\\")\n",
    "# output_path = os.path.join(os.getcwd(), \"output\\\\\")\n",
    "# input_meta = pd.read_excel(input_path+\"표준화 INPUT 정의서.xlsx\", sheet_name=sheet_name, header=0, na_filter=False)\n",
    "\n",
    "# # null string \"\"로 변환\n",
    "# for i in range(len(input_meta.columns)):\n",
    "#     input_meta[input_meta.columns[i]] = input_meta[input_meta.columns[i]].fillna(\"\")\n",
    "# input_meta['기관ID'] = input_meta['물리DB명*'] + \"_\" + input_meta['관리부서명*']\n",
    "# print(input_meta.shape)\n",
    "# input_meta.head(5)"
   ]
  },
  {
   "cell_type": "code",
   "execution_count": null,
   "id": "8b4486de",
   "metadata": {},
   "outputs": [],
   "source": [
    "input_meta"
   ]
  },
  {
   "cell_type": "markdown",
   "id": "61d591ec",
   "metadata": {},
   "source": [
    "### 값 검색 로직"
   ]
  },
  {
   "cell_type": "code",
   "execution_count": null,
   "id": "42bf6164",
   "metadata": {},
   "outputs": [],
   "source": [
    "# 널 체크\n",
    "blnk_chk(input_meta)"
   ]
  },
  {
   "cell_type": "code",
   "execution_count": null,
   "id": "e4e04472",
   "metadata": {},
   "outputs": [],
   "source": [
    "input_meta_tbl"
   ]
  },
  {
   "cell_type": "code",
   "execution_count": null,
   "id": "041cb233",
   "metadata": {},
   "outputs": [],
   "source": [
    "len(input_meta_tbl.columns)"
   ]
  },
  {
   "cell_type": "code",
   "execution_count": null,
   "id": "8149f534",
   "metadata": {
    "scrolled": true
   },
   "outputs": [],
   "source": [
    "# 테이블 유니크 선벌(그룹바이)\n",
    "input_meta_tbl = input_meta.groupby(['테이블물리명*', '테이블한글명*']).head(1)\n",
    "# 불필요 값 없애기\n",
    "\n",
    "for i in range(6,14):\n",
    "    input_meta_tbl.iloc[:,i] = ''\n",
    "input_meta_tbl"
   ]
  },
  {
   "cell_type": "code",
   "execution_count": null,
   "id": "d3bb32bc",
   "metadata": {},
   "outputs": [],
   "source": [
    "# 불필요 컬럼 빼기\n",
    "excpt_col = ['컬럼물리명*', '컬럼영문약어명*', '컬럼한글명*', '분리된컬럼한글명*']\n",
    "excpt_tbl = ['테이블물리명*', '테이블영문약어명*', '테이블한글명*', '분리된테이블한글명*']\n",
    "\n",
    "# 컬럼명 추림\n",
    "brief_col(input_meta_tbl, excpt_col, 'pick_tbl')\n",
    "brief_col(input_meta, excpt_tbl, 'pick_col')\n",
    "\n",
    "# 용어명 컬럼 추가\n",
    "pick_tbl['용어명'] = pick_tbl['테이블한글명*']\n",
    "pick_col['용어명'] = pick_col['컬럼한글명*']\n",
    "pick_tbl"
   ]
  },
  {
   "cell_type": "code",
   "execution_count": null,
   "id": "c0353e34",
   "metadata": {},
   "outputs": [],
   "source": [
    "# 컬럼명 변경\n",
    "modify_col = ['물리DB명*', '관리부서명*', '테이블물리명*', '영문약어명', '테이블한글명*', '용어명 분리', \n",
    "              '표준도메인 그룹명*', '도메인분류명', '데이터타입*', '데이터길이*', '기관ID', '용어명']\n",
    "cor_col(pick_tbl, pick_tbl.columns, modify_col, 'pick_tbl')\n",
    "modify_col = ['물리DB명*', '관리부서명*', '컬럼물리명*', '영문약어명', '컬럼한글명*', '용어명 분리', \n",
    "              '표준도메인 그룹명*', '도메인분류명', '데이터타입*', '데이터길이*', '기관ID', '용어명']\n",
    "cor_col(pick_col, pick_col.columns, modify_col, 'pick_col')\n",
    "\n",
    "# TBL/COL 기록\n",
    "pick_col[\"TBL/COL\"] = \"COL\"\n",
    "pick_tbl[\"TBL/COL\"] = \"TBL\""
   ]
  },
  {
   "cell_type": "code",
   "execution_count": null,
   "id": "51be6cef",
   "metadata": {},
   "outputs": [],
   "source": [
    "# null 제거 및 컬럼(순서) 선택\n",
    "pick_total = pd.concat([pick_col, pick_tbl]).fillna(\"\")\n",
    "pick_total_col = ['물리DB명*', '관리부서명*',  '테이블물리명*', '테이블한글명*', '컬럼물리명*', '컬럼한글명*', \n",
    "                  '용어명', '용어명 분리', '영문약어명', \n",
    "                  '표준도메인 그룹명*', '도메인분류명', '데이터타입*', '데이터길이*', '기관ID', 'TBL/COL']\n",
    "cor_col(pick_total, pick_total_col, pick_total_col, 'pick_total')\n",
    "# 인덱스 초기화\n",
    "pick_total = pick_total.reset_index(drop=True)\n",
    "print(pick_total.shape)\n",
    "pick_total.head()"
   ]
  },
  {
   "cell_type": "markdown",
   "id": "81f6df24",
   "metadata": {},
   "source": [
    "#### . 파일 불러오기"
   ]
  },
  {
   "cell_type": "code",
   "execution_count": null,
   "id": "e06b9d94",
   "metadata": {},
   "outputs": [],
   "source": [
    "# # 파일 불러오기\n",
    "# # test_emoti_dup_korDup\n",
    "# sheet_name = \"input_test\"\n",
    "# input_path = os.path.join(os.getcwd(), \"input\\\\\")\n",
    "# output_path = os.path.join(os.getcwd(), \"output\\\\\")\n",
    "# # input_test = pd.read_excel(input_path+\"test_emoti_dup_korDup.xlsx\", sheet_name=sheet_name, header=0)\n",
    "# input_test = pd.read_excel(input_path+\"test_final.xlsx\", sheet_name=sheet_name, header=0)\n",
    "# # test_final.xlsx\n",
    "# # null 제거\n",
    "# for i in range(len(input_test.columns)):\n",
    "#     input_test[input_test.columns[i]] = input_test[input_test.columns[i]].fillna(\"\")\n",
    "# print(input_test.shape)\n",
    "# input_test.head(5)"
   ]
  },
  {
   "cell_type": "markdown",
   "id": "0f2ede36",
   "metadata": {},
   "source": [
    "### 추가 1) 메타데이터 띄움처리 전 중복 제거..\n",
    "### 추가 2) 한글명 notnull vs null 분리하여 notnull만 관리(null: 파일 생성 및 기입 요청)\n",
    "### 추가 3.1) 한글 용어 점검 기능: 한글명+영문명+숫자조합 가능), 그외 모두 제거\n",
    "### 추가 3.2) 한글 단어 점검 기능: 한글명(숫자조합 가능), 영문명만(숫자조합 가능) 그외 모두 제거\n",
    "### 추가 4) 테이블기준 상세항목 정의하기.. "
   ]
  },
  {
   "cell_type": "markdown",
   "id": "72962e36",
   "metadata": {},
   "source": [
    "# 2. 용어 분리"
   ]
  },
  {
   "cell_type": "markdown",
   "id": "6eaf6e0d",
   "metadata": {},
   "source": [
    "### 용어명 변경"
   ]
  },
  {
   "cell_type": "code",
   "execution_count": null,
   "id": "bd866a38",
   "metadata": {},
   "outputs": [],
   "source": [
    "input_meta_spce = pick_total.copy()\n",
    "input_meta_spce['영문약어명'] = ''\n",
    "input_meta_spce['용어명 분리'] = ''\n",
    "input_meta_spce.head()"
   ]
  },
  {
   "cell_type": "code",
   "execution_count": null,
   "id": "0f66b915",
   "metadata": {},
   "outputs": [],
   "source": [
    "rmv_spce(input_meta_spce, 'col', '용어명')\n",
    "rmv_spce(input_meta_spce, 'col', '영문약어명')\n",
    "rmv_spce(input_meta_spce, 'col', '용어명 분리')"
   ]
  },
  {
   "cell_type": "code",
   "execution_count": null,
   "id": "0a753dca",
   "metadata": {},
   "outputs": [],
   "source": [
    "컬럼한글명 유니크!! - 용어명이 KEY값임\n",
    "out 후 적용\n",
    "수정 후 적용 - 한글명기준(인덱스 무시)\n",
    "중복 검사\n",
    "1. 컬럼한글명 유니크 수 == 컬럼한글명&&분리된컬럼한글명 유니크 수\n",
    "# ->단어 변환 후 검사 노!!!!!!!!! 여기서는 1차 분리임!!!!!!!!!\n",
    "\n",
    "검사?"
   ]
  },
  {
   "cell_type": "markdown",
   "id": "d4bfef48",
   "metadata": {},
   "source": [
    "### 컬럼한글명 유니크 생성"
   ]
  },
  {
   "cell_type": "code",
   "execution_count": null,
   "id": "cdbd529d",
   "metadata": {},
   "outputs": [],
   "source": [
    "input_meta_dict = input_meta_spce.groupby('용어명').head(1)[['용어명','용어명 분리', '영문약어명', 'TBL/COL']].reset_index(drop=True)\n",
    "print(input_meta_dict.shape)\n",
    "input_meta_dict.head()"
   ]
  },
  {
   "cell_type": "code",
   "execution_count": null,
   "id": "9a3abe45",
   "metadata": {},
   "outputs": [],
   "source": [
    "# 저장\n",
    "input_meta_dict.to_excel(output_path + 'input_meta_space.xlsx')"
   ]
  },
  {
   "cell_type": "code",
   "execution_count": null,
   "id": "32a47703",
   "metadata": {},
   "outputs": [],
   "source": [
    "input_meta_dict = pd.read_excel(output_path + 'input_meta_space.xlsx', header=0, index_col=0, na_filter=False)\n",
    "print(input_meta_dict.shape)\n",
    "input_meta_dict.head()"
   ]
  },
  {
   "cell_type": "code",
   "execution_count": null,
   "id": "7666c435",
   "metadata": {},
   "outputs": [],
   "source": [
    "cmpar(input_meta_dict, '용어명', '용어명 분리')\n",
    "cmpar(input_meta_dict, '용어명', '영문약어명')"
   ]
  },
  {
   "cell_type": "markdown",
   "id": "10060a52",
   "metadata": {},
   "source": [
    "# 분리 시작"
   ]
  },
  {
   "cell_type": "code",
   "execution_count": null,
   "id": "a4bc9771",
   "metadata": {},
   "outputs": [],
   "source": [
    "# 인터페이스 No\n",
    "input_test = pick_total.copy()\n",
    "input_test['No'] = [*range(len(input_test))]\n",
    "input_test.columns"
   ]
  },
  {
   "cell_type": "code",
   "execution_count": null,
   "id": "5332d4f0",
   "metadata": {},
   "outputs": [],
   "source": [
    "# 인덱스 DF 초기화\n",
    "df_index = pd.DataFrame(input_test['No'])\n",
    "df_index.columns = ['index']"
   ]
  },
  {
   "cell_type": "code",
   "execution_count": null,
   "id": "07149992",
   "metadata": {},
   "outputs": [],
   "source": [
    "# 용어명 분리\n",
    "\n",
    "# 용어명 분리\n",
    "input_split_kor = pd.DataFrame(input_test['용어명 분리'].str.split('_').tolist()).fillna(\"\")\n",
    "\n",
    "# 영문명 없을 경우 대비하여 cnt 집계\n",
    "kor_firts_cnt = len(input_split_kor.columns)\n",
    "\n",
    "# 컬럼명 입력\n",
    "col_list_kor = []\n",
    "for i in range(len(input_split_kor.columns)):\n",
    "    col_list_kor.append(\"stwd_kor{}\".format(i))\n",
    "input_split_kor.columns = col_list_kor\n",
    "\n",
    "# 한글 개수 세기\n",
    "dupl_list_kor = []\n",
    "dupl_cnt_kor = []\n",
    "for i in range(kor_firts_cnt):\n",
    "    globals()[\"dupl_list_kor{}\".format(i)] = []\n",
    "    for j in range(len(input_split_kor[\"stwd_kor{}\".format(i)])):\n",
    "        dupl_list_kor = input_split_kor[\"stwd_kor{}\".format(i)].to_list().count(input_split_kor[\"stwd_kor{}\".format(i)][j])\n",
    "        globals()[\"dupl_list_kor{}\".format(i)].append(dupl_list_kor)\n",
    "for i in range(kor_firts_cnt):\n",
    "    globals()[\"dupl_list_kor{}\".format(i)] = pd.concat([pd.DataFrame(globals()[\"dupl_list_kor{}\".format(i)])], axis = 0)\n",
    "    globals()[\"dupl_list_kor{}\".format(i)].columns = [\"dupl_list_kor{}\".format(i)]\n",
    "    \n",
    "# 컬럼명,index, 단어위치 추가\n",
    "for i in range(len(input_split_kor.columns)):\n",
    "    input_split_kor[\"num_kor{}\".format(i)] = \"num_kor{}\".format(i)\n",
    "    globals()[\"stwd_kor{}\".format(i)] = pd.concat(\n",
    "            [\n",
    "            df_index.fillna(\"\"), \n",
    "            pd.DataFrame(input_split_kor[\"stwd_kor{}\".format(i)]).fillna(\"\"),\n",
    "            pd.DataFrame(input_split_kor[\"num_kor{}\".format(i)]).fillna(\"\"),\n",
    "            globals()[\"dupl_list_kor{}\".format(i)].fillna(\"\")\n",
    "            ], \n",
    "            axis=1)\n",
    "print(col_list_kor)\n",
    "print(kor_firts_cnt)\n",
    "# stwd_kor9\n",
    "# dupl_list_kor0"
   ]
  },
  {
   "cell_type": "code",
   "execution_count": null,
   "id": "74a82e1d",
   "metadata": {},
   "outputs": [],
   "source": [
    "# 영문명 분리\n",
    "\n",
    "# 영문명이 하나라도 입력돼 있을 경우\n",
    "if len(input_test['영문약어명']) > 0:\n",
    "    print(\"영문명 컬럼 수 1개 이상:\"+str((input_test['영문약어명']==\"\").sum()))\n",
    "\n",
    "    # 영문명 분리\n",
    "    input_split_eng = pd.DataFrame(input_test['영문약어명'].str.split('_').tolist()).fillna(\"\")\n",
    "    \n",
    "    # 영문명 컬럼 수\n",
    "    eng_firts_cnt = len(input_split_eng.columns)\n",
    "    \n",
    "    # 컬럼명 입력\n",
    "    col_list_eng = []\n",
    "    for i in range(len(input_split_eng.columns)):\n",
    "        col_list_eng.append(\"stwd_eng{}\".format(i))\n",
    "    input_split_eng.columns = col_list_eng\n",
    "    \n",
    "    # 영문 개수 세기\n",
    "    dupl_list_eng = []\n",
    "    dupl_cnt_eng = []\n",
    "    for i in range(eng_firts_cnt):\n",
    "        globals()[\"dupl_list_eng{}\".format(i)] = []\n",
    "        for j in range(len(input_split_eng[\"stwd_eng{}\".format(i)])):\n",
    "            dupl_list_eng = input_split_eng[\"stwd_eng{}\".format(i)].to_list().count(input_split_eng[\"stwd_eng{}\".format(i)][j])\n",
    "            globals()[\"dupl_list_eng{}\".format(i)].append(dupl_list_eng)\n",
    "    for i in range(eng_firts_cnt):\n",
    "        globals()[\"dupl_list_eng{}\".format(i)] = pd.concat([pd.DataFrame(globals()[\"dupl_list_eng{}\".format(i)])], axis = 0)\n",
    "        globals()[\"dupl_list_eng{}\".format(i)].columns = [\"dupl_list_eng{}\".format(i)]\n",
    "        \n",
    "    # 컬럼명,index, 단어위치 추가\n",
    "    for i in range(eng_firts_cnt):\n",
    "        input_split_eng[\"num_eng{}\".format(i)] = \"num_eng{}\".format(i)\n",
    "        globals()[\"stwd_eng{}\".format(i)] = pd.concat(\n",
    "                [\n",
    "                df_index.fillna(\"\"), \n",
    "                pd.DataFrame(input_split_eng[\"stwd_eng{}\".format(i)].fillna(\"\")),\n",
    "                pd.DataFrame(input_split_eng[\"num_eng{}\".format(i)].fillna(\"\")),\n",
    "                globals()[\"dupl_list_eng{}\".format(i)].fillna(\"\")\n",
    "                ], \n",
    "                axis=1)\n",
    "        \n",
    "# 영문명이 없을 경우\n",
    "elif len(input_test['영문약어명']) == 0:\n",
    "    print(\"영문명 컬럼 수 0개:\"+str((input_test['영문약어명']==\"\").sum()))\n",
    "    \n",
    "    col_list_eng = []\n",
    "    for i in range(kor_firts_cnt):\n",
    "        globals()[\"stwd_eng{}\".format(i)] = pd.DataFrame(columns = [\"stwd_eng{}\".format(i)])\n",
    "        globals()[\"num_eng{}\".format(i)] = pd.DataFrame(columns = [\"num_eng{}\".format(i)])\n",
    "        globals()[\"dupl_list_eng{}\".format(i)] = pd.DataFrame(columns = [\"dupl_list_eng{}\".format(i)])\n",
    "        globals()[\"stwd_eng{}\".format(i)] = pd.concat(\n",
    "            [\n",
    "                df_index.fillna(\"\"), \n",
    "                globals()[\"stwd_eng{}\".format(i)].fillna(\"\"),\n",
    "                globals()[\"num_eng{}\".format(i)].fillna(\"\"),\n",
    "                globals()[\"dupl_list_eng{}\".format(i)].fillna(\"\"),\n",
    "            ]\n",
    "            , axis = 1\n",
    "        )\n",
    "        globals()[\"stwd_eng{}\".format(i)][\"num_eng{}\".format(i)] = \"num_eng{}\".format(i)\n",
    "        globals()[\"stwd_eng{}\".format(i)][\"dupl_list_eng{}\".format(i)] = len(globals()[\"stwd_eng{}\".format(i)])\n",
    "        col_list_eng.append(\"stwd_eng{}\".format(i))\n",
    "        \n",
    "else:\n",
    "    print(\"한글컬럼, 영문커럼 예외 사항\")\n",
    "\n",
    "# 컬럼수 일치 점검\n",
    "col_cnt_kor = len(col_list_kor)\n",
    "col_cnt_eng = len(col_list_eng)\n",
    "if len(col_list_kor) == len(col_list_eng):\n",
    "    print(\"한글컬럼수와 영문컬럼수 일치\")\n",
    "    print(\"kor:\" + str(col_cnt_kor) + \" vs eng:\" + str(col_cnt_eng))\n",
    "else:\n",
    "    print(\"한글컬럼수와 영문컬럼수 불일치\")\n",
    "    print(\"kor:\" + str(col_cnt_kor) + \" vs eng:\" + str(col_cnt_eng))                                                       \n",
    "print(col_list_eng)\n",
    "stwd_eng0"
   ]
  },
  {
   "cell_type": "code",
   "execution_count": null,
   "id": "854a4c73",
   "metadata": {},
   "outputs": [],
   "source": [
    "# 한글/영문 컬럼 수 일치시키기\n",
    "\n",
    "# 한글컬럼과 영문컬럼 수 일치할 경우\n",
    "if col_cnt_kor == col_cnt_eng:\n",
    "    col_cnt = col_cnt_kor\n",
    "    col_cnt_diff_list = None\n",
    "    col_cnt_diff = None\n",
    "    print('한글컬럼과 영문컬럼 수 일치')\n",
    "    print(\"kor:\" + str(col_cnt_kor) + \" vs eng:\" + str(col_cnt_eng))\n",
    "    print(\"컬럼수 일치작업 후:\" + str(col_cnt))  \n",
    "    \n",
    "# 한글컬럼이 더 많을 경우\n",
    "elif col_cnt_kor > col_cnt_eng:\n",
    "    col_cnt = col_cnt_kor\n",
    "    col_cnt_diff_list = list(set(range(col_cnt_kor)) - set(range(col_cnt_eng)))\n",
    "    col_cnt_diff = len(col_cnt_diff_list)\n",
    "    for i in col_cnt_diff_list:\n",
    "        input_split_eng['stwd_eng{}'.format(i)] = None\n",
    "        input_split_eng['num_eng{}'.format(i)] = None\n",
    "        input_split_eng['dupl_list_eng{}'.format(i)] = None\n",
    "        globals()['stwd_eng{}'.format(i)] = pd.concat(\n",
    "            [\n",
    "                df_index,\n",
    "                pd.DataFrame(input_split_eng['stwd_eng{}'.format(i)].fillna(\"\")),\n",
    "                pd.DataFrame(input_split_eng[\"num_eng{}\".format(i)].fillna(\"\")),\n",
    "                pd.DataFrame(input_split_eng[\"dupl_list_eng{}\".format(i)].fillna(\"\"))\n",
    "            ],\n",
    "            axis = 1\n",
    "        )\n",
    "    print('한글컬럼이 더 많은 싱태')\n",
    "    print(\"kor:\" + str(col_cnt_kor) + \" vs eng:\" + str(col_cnt_eng))\n",
    "    print(\"컬럼수 일치작업 후:\" + str(col_cnt))  \n",
    "\n",
    "# 영문컬럼이 더 많을 경우\n",
    "elif col_cnt_kor < col_cnt_eng:\n",
    "    col_cnt = col_cnt_eng\n",
    "    col_cnt_diff_list = list(set(range(col_cnt_eng)) - set(range(col_cnt_kor)))\n",
    "    col_cnt_diff = len(col_cnt_diff_list)\n",
    "    for i in col_cnt_diff_list:\n",
    "        input_split_kor['stwd_kor{}'.format(i)] = None\n",
    "        input_split_kor['num_kor{}'.format(i)] = None\n",
    "        input_split_eng['dupl_list_kor{}'.format(i)] = None\n",
    "        globals()['stwd_kor{}'.format(i)] = pd.concat(\n",
    "            [\n",
    "                df_index,\n",
    "                pd.DataFrame(input_split_kor['stwd_kor{}'.format(i)].fillna(\"\")),\n",
    "                pd.DataFrame(input_split_kor[\"num_kor{}\".format(i)].fillna(\"\")).\n",
    "                pd.DataFrame(input_split_eng[\"dupl_list_kor{}\".format(i)].fillna(\"\"))\n",
    "            ],\n",
    "            axis = 1\n",
    "        )\n",
    "    print('영문컬럼이 더 많은 싱태')       \n",
    "    print(\"kor:\" + str(col_cnt_kor) + \" vs eng:\" + str(col_cnt_eng))\n",
    "    print(\"컬럼수 일치작업 후:\" + str(col_cnt))  \n",
    "stwd_eng3"
   ]
  },
  {
   "cell_type": "code",
   "execution_count": null,
   "id": "28047c00",
   "metadata": {},
   "outputs": [],
   "source": [
    "# n x m 정사각형 DafaFrame 점검\n",
    "for i in range(col_cnt_kor):\n",
    "    for j in range(len(globals()[\"stwd_kor{}\".format(i)])):\n",
    "        cnt = (j + 1)\n",
    "    avg = np.mean(cnt)\n",
    "avg_avg_kor = round(np.mean(avg), 2)\n",
    "for i in range(col_cnt_eng):\n",
    "    for j in range(len(globals()[\"stwd_kor{}\".format(i)])):\n",
    "        cnt = (j + 1)\n",
    "    avg = np.mean(cnt)\n",
    "avg_avg_eng = round(np.mean(avg), 2)\n",
    "stwd_total_cnt = int(avg_avg_eng)\n",
    "if avg_avg_kor == avg_avg_eng:\n",
    "    print(\"한글 영문 row수 일치: 평균=\" + str((avg_avg_kor + avg_avg_eng)/2))\n",
    "    print(\"한글평균:\" + str(avg_avg_kor) + \", 영문평균:\" + str(avg_avg_eng) + \", 최종count:\" + str(stwd_total_cnt))\n",
    "else:\n",
    "    yes_or_no(\"한글명과 영문명의 row count가 일치하지 않습니다. 계속 진행하시겠습니까?\")\n",
    "    print(\"한글 영문 row수 불일치: 평균\" + str((avg_avg_kor + avg_avg_eng)/2))\n",
    "    print(\"한글평균:\" + str(avg_avg_kor) + \", 영문평균:\" + str(avg_avg_eng) + \", 최종count:\" + str(stwd_total_cnt))"
   ]
  },
  {
   "cell_type": "code",
   "execution_count": null,
   "id": "fad007a8",
   "metadata": {},
   "outputs": [],
   "source": [
    "# 중복검사를 위한 left join\n",
    "for i in range(col_cnt):\n",
    "    globals()['stwd_total{}'.format(i)] = pd.merge(\n",
    "        globals()['stwd_kor{}'.format(i)],\n",
    "        globals()['stwd_eng{}'.format(i)],\n",
    "        on = 'index',\n",
    "        how = 'left'\n",
    "    )\n",
    "print(col_cnt)\n",
    "# stwd_total9"
   ]
  },
  {
   "cell_type": "code",
   "execution_count": null,
   "id": "0d99cfca",
   "metadata": {},
   "outputs": [],
   "source": [
    "# 일렬 세우기\n",
    "\n",
    "# unique_stwd 초기화 \n",
    "stwd_total = pd.DataFrame()\n",
    "\n",
    "## 컬럼명 바꾸고  concat\n",
    "for i in range(col_cnt):\n",
    "    globals()[\"stwd_total{}\".format(i)].columns = [\n",
    "        'index', 'stwd_kor', 'num_kor', 'dupl_list_kor', 'stwd_eng','num_eng', 'dupl_list_eng'\n",
    "    ]\n",
    "    stwd_total = pd.concat([stwd_total, globals()[\"stwd_total{}\".format(i)]], axis = 0, ignore_index = True)\n",
    "print(stwd_total.shape)\n",
    "stwd_total"
   ]
  },
  {
   "cell_type": "code",
   "execution_count": null,
   "id": "07efba6f",
   "metadata": {},
   "outputs": [],
   "source": [
    "nll_chk(stwd_total)"
   ]
  },
  {
   "cell_type": "markdown",
   "id": "7c2efbd8",
   "metadata": {},
   "source": [
    "# 3. 이상값 수정"
   ]
  },
  {
   "cell_type": "markdown",
   "id": "01751d87",
   "metadata": {},
   "source": [
    "### 3.1. 한글명에 한글과 영문대문자, 숫자 이외 표시 및 삭제 로직"
   ]
  },
  {
   "cell_type": "code",
   "execution_count": null,
   "id": "eb7d0f6d",
   "metadata": {},
   "outputs": [],
   "source": [
    "def emoti_chk(var):\n",
    "    if var == 'kor':\n",
    "        # 한글명에 영문 소문자 탐색\n",
    "        stwd_total = globals()['stwd_total']\n",
    "        df_lower_kor = pd.DataFrame(columns = stwd_total.columns)        \n",
    "        stwd_total['kor_lower'] = ''\n",
    "        stwd_total['kor_ec'] = ''\n",
    "        kor_chk_list = []\n",
    "        for i in range(len(stwd_total)):\n",
    "\n",
    "        #     특수기호 제거\n",
    "        #     stwd_total.loc[i, 'stwd_kor'] =  stwd_total.loc[i, 'stwd_kor'].translate(str.maketrans('', '', string.punctuation))\n",
    "\n",
    "            # 영문 소문자 체크 및 기록\n",
    "            if stwd_total.loc[i, 'stwd_kor'].islower():\n",
    "                tmp = pd.DataFrame(stwd_total.iloc[i,:]).transpose()\n",
    "                df_lower_kor = pd.concat([df_lower_kor, tmp], axis=0)\n",
    "                print(\"----------------------영문 소문자 체크 및 기록--------------------|\")\n",
    "                print('index: ' + str(i))\n",
    "                print(stwd_total.loc[i, 'stwd_kor'] + \" -> \" + str(stwd_total.loc[i, 'stwd_kor'].upper()))\n",
    "                kor_chk_list.append(i)\n",
    "\n",
    "                # 영문 변경 이력 저장\n",
    "                stwd_total.loc[i, 'kor_lower'] = stwd_total.loc[i, 'stwd_kor']      \n",
    "\n",
    "                # 영문 대문자 변경\n",
    "                stwd_total.loc[i, 'stwd_kor'] = stwd_total.loc[i, 'stwd_kor'].upper()\n",
    "\n",
    "            # 영문 대문자, 숫자, 한글만 체크\n",
    "            cor_kor = re.findall('[A-Z0-9가-힣+]', stwd_total.loc[i, 'stwd_kor'])\n",
    "            chk_kor = len(cor_kor) == len(list(stwd_total.loc[i, 'stwd_kor']))\n",
    "\n",
    "            if bool(chk_kor) == False:\n",
    "                print(\"-----------------------------특수기호제거----------------------------|\")\n",
    "                print('index: ' + str(i))\n",
    "                print(stwd_total.loc[i, 'stwd_kor'] + \" -> \" + str(''.join(cor_kor)))\n",
    "                kor_chk_list.append(i)\n",
    "\n",
    "            # 영문대문자, 숫자, 한글 외 변경 이력 저장\n",
    "            stwd_total.loc[i, 'kor_ec'] = re.sub('[A-Z0-9가-힣+]', '', stwd_total.loc[i, 'stwd_kor'])        \n",
    "\n",
    "            # 영문대문자, 숫자, 한글 외 자동 삭제\n",
    "            stwd_total.loc[i, 'stwd_kor'] = ''.join(cor_kor)\n",
    "\n",
    "        # 변경 이력 저장\n",
    "        stwd_total['kor_cor_hist'] = \"\"\n",
    "        stwd_total['kor_cor_hist'] = stwd_total['kor_lower'] + stwd_total['kor_ec']\n",
    "\n",
    "        # 적용 후 결과값\n",
    "        print(\"====================================한글명 검토====================================|\")\n",
    "        print('소문자 처리: ' + str(len(df_lower_kor)) + '개')\n",
    "        stwd_total_kor_chk_1 = stwd_total.iloc[kor_chk_list]\n",
    "        print(\"나머지 제거: \"+ str(len(kor_chk_list)))\n",
    "        print('[자동 처리 완료하였습니다]')\n",
    "\n",
    "    elif var == 'eng':\n",
    "        # 영문명에 영문 소문자 탐색\n",
    "        stwd_total = globals()['stwd_total']\n",
    "        df_lower_eng = pd.DataFrame(columns = stwd_total.columns)        \n",
    "        stwd_total['eng_lower'] = ''\n",
    "        stwd_total['eng_ec'] = ''\n",
    "        eng_chk_list = []\n",
    "        for i in range(len(stwd_total)):\n",
    "\n",
    "            # 영문 소문자 체크 및 기록\n",
    "            if stwd_total.loc[i, 'stwd_eng'].islower():\n",
    "                tmp = pd.DataFrame(stwd_total.iloc[i,:]).transpose()\n",
    "                df_lower_eng = pd.concat([df_lower_eng, tmp], axis=0)\n",
    "                print(\"----------------------영문 소문자 체크 및 기록--------------------|\")\n",
    "                print('index: ' + str(i))\n",
    "                print(stwd_total.loc[i, 'stwd_eng'] + \" -> \" + str(stwd_total.loc[i, 'stwd_eng'].upper()))\n",
    "                eng_chk_list.append(i)\n",
    "\n",
    "                # 영문 변경 이력 저장\n",
    "                stwd_total.loc[i, 'eng_lower'] = stwd_total.loc[i, 'stwd_eng']      \n",
    "\n",
    "                # 영문 대문자 변경\n",
    "                stwd_total.loc[i, 'stwd_eng'] = stwd_total.loc[i, 'stwd_eng'].upper()\n",
    "\n",
    "            # 영문 대문자, 숫자, 한글만 체크\n",
    "            cor_eng = re.findall('[A-Z0-9+]', stwd_total.loc[i, 'stwd_eng'])\n",
    "            chk_eng = len(cor_eng) == len(list(stwd_total.loc[i, 'stwd_eng']))\n",
    "\n",
    "            if bool(chk_eng) == False:\n",
    "                print(\"-----------------------------특수기호제거----------------------------|\")\n",
    "                print('index: ' + str(i))\n",
    "                print(stwd_total.loc[i, 'stwd_eng'] + \" -> \" + str(''.join(cor_eng)))\n",
    "                eng_chk_list.append(i)\n",
    "\n",
    "            # 영문대문자, 숫자 외 변경 이력 저장\n",
    "            stwd_total.loc[i, 'eng_ec'] = re.sub('[A-Z0-9+]', '', stwd_total.loc[i, 'stwd_eng'])        \n",
    "\n",
    "            # 영문대문자, 숫자 외 자동 삭제\n",
    "            stwd_total.loc[i, 'stwd_eng'] = ''.join(cor_eng)\n",
    "\n",
    "        # 변경 이력 저장\n",
    "        stwd_total['eng_cor_hist'] = ''\n",
    "        stwd_total['eng_cor_hist'] = stwd_total['eng_lower'] + stwd_total['eng_ec']\n",
    "\n",
    "        # 적용 후 결과값\n",
    "        print(\"====================================영문명 검토====================================|\")\n",
    "        print('소문자 처리: ' + str(len(df_lower_eng)) + '개')\n",
    "        stwd_total_eng_chk_1 = stwd_total.iloc[eng_chk_list]\n",
    "        print(\"나머지 제거: \"+ str(len(eng_chk_list)))\n",
    "        print('[자동 처리 완료하였습니다]')\n",
    "        \n",
    "    else:\n",
    "        print(\"잘못된 입력입니다( 'kor' / 'eng' )\")"
   ]
  },
  {
   "cell_type": "code",
   "execution_count": null,
   "id": "74b66756",
   "metadata": {},
   "outputs": [],
   "source": [
    "# 데이터 검토\n",
    "ans = yes_or_no(\"데이터 검토를 실행 하시겠습니까?\")\n",
    "if ans == True:\n",
    "    emoti_chk('kor')\n",
    "    emoti_chk('eng')\n",
    "elif ans == False:\n",
    "    print(\"계속 진행하겠습니다\")"
   ]
  },
  {
   "cell_type": "markdown",
   "id": "92641bf1",
   "metadata": {},
   "source": [
    "### 3.2. 특수문자 제거 참고"
   ]
  },
  {
   "cell_type": "code",
   "execution_count": null,
   "id": "e45dbbad",
   "metadata": {},
   "outputs": [],
   "source": [
    "# 변경 체크 로직\n",
    "\n",
    "s1 = '고구마acAB1!$%@! 32'\n",
    "s2 = '깎ㅉ니'\n",
    "s3 = \"RR깍찌니12\"\n",
    "s4 = \"123깍찌니aS\"\n",
    "print(\"------------------------------------------------------\")\n",
    "print(re.findall('[A-Z0-9가-힣+]', s1))\n",
    "print(str(len(re.findall('[A-Z0-9가-힣+]', s1))) + \" vs \" + str(len(list(s1))))\n",
    "print(len(re.findall('[A-Z0-9가-힣+]', s1)) == len(list(s1)))\n",
    "print(\"------------------------------------------------------\")\n",
    "print(re.findall('[A-Z0-9가-힣+]', s2))\n",
    "print(str(len(re.findall('[A-Z0-9가-힣+]', s2))) + \" vs \" + str(len(list(s2))))\n",
    "print(len(re.findall('[A-Z0-9가-힣+]', s2)) == len(list(s2)))\n",
    "print(\"------------------------------------------------------\")\n",
    "print(re.findall('[A-Z0-9가-힣+]', s3))\n",
    "print(str(len(re.findall('[A-Z0-9가-힣+]', s3))) + \" vs \" + str(len(list(s3))))\n",
    "print(len(re.findall('[A-Z0-9가-힣+]', s3)) == len(list(s3)))\n",
    "print(\"------------------------------------------------------\")\n",
    "print(re.findall('[A-Z0-9가-힣+]', s4))\n",
    "print(str(len(re.findall('[A-Z0-9가-힣+]', s4))) + \" vs \" + str(len(list(s4))))\n",
    "print(len(re.findall('[A-Z0-9가-힣+]', s4)) == len(list(s4)))\n",
    "print(\"------------------------------------------------------\")"
   ]
  },
  {
   "cell_type": "code",
   "execution_count": null,
   "id": "49e5fe39",
   "metadata": {},
   "outputs": [],
   "source": [
    "path_dict = 'C:/Users/namdd/OneDrive/Data/Standardization/dict'\n",
    "dict_insp = pd.read_csv(path_dict + '/dict_total/' + 'dict_insp.csv', index_col=0, na_filter = False)\n",
    "print(dict_insp.shape)\n",
    "dict_insp"
   ]
  },
  {
   "cell_type": "code",
   "execution_count": null,
   "id": "303bcc52",
   "metadata": {},
   "outputs": [],
   "source": [
    "dict_list = dict_insp.iloc[:,0]\n",
    "dict_list"
   ]
  },
  {
   "cell_type": "code",
   "execution_count": null,
   "id": "f072a992",
   "metadata": {},
   "outputs": [],
   "source": [
    "dict_insp[dict_insp['어휘'] == '등급']"
   ]
  },
  {
   "cell_type": "code",
   "execution_count": null,
   "id": "f344e99a",
   "metadata": {},
   "outputs": [],
   "source": [
    "path_dict = 'C:/Users/namdd/OneDrive/Data/Standardization/dict'\n",
    "dict_insp_oneMore = pd.read_csv(path_dict + '/dict_total/' + 'dict_expn_oneMore.csv', index_col=0, na_filter=False)\n",
    "print(dict_insp_oneMore.shape)\n",
    "dict_insp_oneMore"
   ]
  },
  {
   "cell_type": "code",
   "execution_count": null,
   "id": "23137f90",
   "metadata": {},
   "outputs": [],
   "source": [
    "dict_insp[dict_insp['어휘'] =='라']"
   ]
  },
  {
   "cell_type": "markdown",
   "id": "7d37bd35",
   "metadata": {},
   "source": [
    "# 국어사전과 ISIN 비교"
   ]
  },
  {
   "cell_type": "markdown",
   "id": "a406d0e4",
   "metadata": {},
   "source": [
    "# 사전에 없는 단어 목록 분리"
   ]
  },
  {
   "cell_type": "code",
   "execution_count": null,
   "id": "17515049",
   "metadata": {},
   "outputs": [],
   "source": [
    "# 사전에 있는 단어 목록\n",
    "dict_is = stwd_total[stwd_total['stwd_kor'].isin(dict_insp['어휘'])]\n",
    "dict_is"
   ]
  },
  {
   "cell_type": "code",
   "execution_count": null,
   "id": "ae95a6e5",
   "metadata": {},
   "outputs": [],
   "source": [
    "# 사전에 없는 단어 목록\n",
    "dict_nan = stwd_total[stwd_total['stwd_kor'].isin(dict_insp['어휘']) == False]\n",
    "dict_nan"
   ]
  },
  {
   "cell_type": "code",
   "execution_count": null,
   "id": "07f58783",
   "metadata": {},
   "outputs": [],
   "source": [
    "dict_nan_unq = pd.DataFrame(dict_nan['stwd_kor'].unique(), columns = ['bf_stwd_kor'])\n",
    "dict_nan_unq['af_stwd_kor'] = ''\n",
    "dict_nan_unq"
   ]
  },
  {
   "cell_type": "code",
   "execution_count": null,
   "id": "7817f526",
   "metadata": {},
   "outputs": [],
   "source": [
    "# dict_isin 초기화\n",
    "def dict_isin_init(data):\n",
    "    data['dict_chk'] = 'N'\n",
    "    data['notin_wrn'] = ''\n",
    "    print('dict_chk 컬럼이 초기화 되었습니다.')\n",
    "\n",
    "dict_isin_init(dict_nan_unq)\n",
    "dict_nan_unq"
   ]
  },
  {
   "cell_type": "markdown",
   "id": "a73befcd",
   "metadata": {},
   "source": [
    "# 저장"
   ]
  },
  {
   "cell_type": "code",
   "execution_count": null,
   "id": "cb675ace",
   "metadata": {},
   "outputs": [],
   "source": [
    "# 저장\n",
    "dict_nan_unq.to_excel(output_path + \"dict_nan_unq.xlsx\")"
   ]
  },
  {
   "cell_type": "markdown",
   "id": "d3dcd46c",
   "metadata": {},
   "source": [
    "# 파이썬 로드, 파일열기 및 수기수정"
   ]
  },
  {
   "cell_type": "code",
   "execution_count": null,
   "id": "13c9c9b4",
   "metadata": {},
   "outputs": [],
   "source": [
    "# 파이썬 로드후 파일로드\n",
    "def read_grip_file(data, path, file_name):\n",
    "    os.system(path + file_name + \".xlsx\")\n",
    "    globals()[file_name] = pd.read_excel(path + file_name + \".xlsx\", index_col = 0, na_filter=False)"
   ]
  },
  {
   "cell_type": "code",
   "execution_count": null,
   "id": "07f930ee",
   "metadata": {},
   "outputs": [],
   "source": [
    "# 파이썬 로드 및 파일 저장 및 파일 실행\n",
    "def save_grip_file(data, path, file_name):\n",
    "    globals()[file_name] = data\n",
    "    data.to_excel(path + file_name + \".xlsx\")\n",
    "    os.system(path + file_name + \".xlsx\")"
   ]
  },
  {
   "cell_type": "code",
   "execution_count": null,
   "id": "47e88e49",
   "metadata": {},
   "outputs": [],
   "source": [
    "# 로드 및 파일실행\n",
    "read_grip_file(dict_nan_unq, output_path, \"dict_nan_unq\")\n",
    "dict_nan_unq"
   ]
  },
  {
   "cell_type": "markdown",
   "id": "df26eb8e",
   "metadata": {},
   "source": [
    "1. dict_chk = 'Y'\n",
    "2. af_stwd_kor = isin(사전List)\n",
    "3. ''"
   ]
  },
  {
   "cell_type": "code",
   "execution_count": null,
   "id": "d58886d5",
   "metadata": {},
   "outputs": [],
   "source": [
    "# 가입뿅 테스트\n",
    "dict_nan_unq.loc[dict_nan_unq['af_stwd_kor'] == '가입', 'af_stwd_kor'] = '가입뿅'\n",
    "dict_nan_unq"
   ]
  },
  {
   "cell_type": "markdown",
   "id": "c1b1b802",
   "metadata": {},
   "source": [
    "# (수기수정 완료했다면) 로드 후=점검~~~~~~~~"
   ]
  },
  {
   "cell_type": "code",
   "execution_count": null,
   "id": "4024a507",
   "metadata": {},
   "outputs": [],
   "source": [
    "def chk_dict_isin(data, c_list):\n",
    "    chk_Y = data.loc[data['dict_chk']=='Y', 'dict_chk']\n",
    "    chk_N = data.loc[data['dict_chk']=='N', 'dict_chk']\n",
    "    # 모두 dict_chk(Y) 일 경우통과\n",
    "    if chk_Y.count() == data['dict_chk'].count():\n",
    "        print(\"모두 수정되었습니다 \"+'dict_chk'+\" count(Y): \" + str(chk_Y.count()))\n",
    "         # 모두 notin_wrn(Y) 일 경우통과\n",
    "        chk_notin_wrn = data.loc[~data['af_stwd_kor'].isin(c_list), 'notin_wrn'] \n",
    "        data['notin_wrn'] = ''\n",
    "        if len(chk_notin_wrn) > 0:\n",
    "            data.loc[~data['af_stwd_kor'].isin(c_list), 'notin_wrn'] = 'Y'\n",
    "            print(\"[경고] 사전에 등록되어 있지 않은 단어가 존재합니다\")\n",
    "            print(data.loc[data['notin_wrn'] == 'Y', 'af_stwd_kor'])\n",
    "        else:\n",
    "            print(\"모든 단어가 사전에 등록되어 있습니다.\")\n",
    "    # dict_chk(N) 이 한개라도 있을 경우 반려\n",
    "    elif chk_N.count() > 0:\n",
    "        print(\"[경고] 아직 수정하지 않은 데이터가 있습니다 \"+'dict_chk'+\" count(N): \" + str(chk_N.count()))"
   ]
  },
  {
   "cell_type": "code",
   "execution_count": null,
   "id": "71c11231",
   "metadata": {},
   "outputs": [],
   "source": [
    "# 가입뿅 테스트\n",
    "dict_nan_unq.loc[dict_nan_unq['af_stwd_kor'] == '가입뿅', 'af_stwd_kor'] = '가입'\n",
    "dict_nan_unq"
   ]
  },
  {
   "cell_type": "code",
   "execution_count": null,
   "id": "c8098b9b",
   "metadata": {
    "scrolled": true
   },
   "outputs": [],
   "source": [
    "chk_dict_isin(dict_nan_unq, dict_list)\n",
    "dict_nan_unq"
   ]
  },
  {
   "cell_type": "code",
   "execution_count": null,
   "id": "c96f4adf",
   "metadata": {},
   "outputs": [],
   "source": [
    "# 로드, 저장 및 파일 실행\n",
    "save_grip_file(dict_nan_unq, output_path, \"dict_nan_unq\")"
   ]
  },
  {
   "cell_type": "markdown",
   "id": "5e7c629a",
   "metadata": {},
   "source": [
    "# 사전에 대입~ bf_stwd 를 af_stwd로"
   ]
  },
  {
   "cell_type": "code",
   "execution_count": null,
   "id": "d8fa7bb7",
   "metadata": {},
   "outputs": [],
   "source": [
    "# dict_nan에서 사전단어 수정 후 stwd 적용\n",
    "before = dict_nan_unq['bf_stwd_kor']\n",
    "after = dict_nan_unq['af_stwd_kor']\n",
    "\n",
    "for i, j in zip(before, after):\n",
    "    dict_nan.loc[dict_nan['stwd_kor'] == i, 'stwd_kor'] = j\n",
    "dict_nan"
   ]
  },
  {
   "cell_type": "markdown",
   "id": "9f86135f",
   "metadata": {},
   "source": [
    "# ISIN 점검"
   ]
  },
  {
   "cell_type": "code",
   "execution_count": null,
   "id": "50e96a61",
   "metadata": {},
   "outputs": [],
   "source": [
    "# 사전 등록 점검(리스트 필요)\n",
    "def dict_word_isin(data, c_list, col_name):\n",
    "    # ''(공란) 제거\n",
    "    data = data[data[col_name] != '']\n",
    "    if (data[col_name].isin(c_list)==False).sum() == 0:\n",
    "        print(\"모든 단어가 사전에 등록되어 있습니다.\")"
   ]
  },
  {
   "cell_type": "code",
   "execution_count": null,
   "id": "b2b33ed8",
   "metadata": {},
   "outputs": [],
   "source": [
    "dict_word_isin(dict_nan, dict_list, 'stwd_kor')"
   ]
  },
  {
   "cell_type": "code",
   "execution_count": null,
   "id": "31a8ef8d",
   "metadata": {},
   "outputs": [],
   "source": [
    "dict_nan[(dict_nan['stwd_kor'].isin(dict_list)==False)]"
   ]
  },
  {
   "cell_type": "code",
   "execution_count": null,
   "id": "0b78515b",
   "metadata": {},
   "outputs": [],
   "source": [
    "dict_nan['stwd_kor'].unique()"
   ]
  },
  {
   "cell_type": "code",
   "execution_count": null,
   "id": "a503cd21",
   "metadata": {},
   "outputs": [],
   "source": [
    "dict_nan[dict_nan['stwd_kor'].isin(dict_list)]"
   ]
  },
  {
   "cell_type": "code",
   "execution_count": null,
   "id": "1a6f1809",
   "metadata": {},
   "outputs": [],
   "source": [
    "dict_list[dict_list == '가입']"
   ]
  },
  {
   "cell_type": "code",
   "execution_count": null,
   "id": "db4d6979",
   "metadata": {},
   "outputs": [],
   "source": [
    "from varname import nameof"
   ]
  },
  {
   "cell_type": "code",
   "execution_count": null,
   "id": "a9634fb5",
   "metadata": {},
   "outputs": [],
   "source": [
    "nameof(stwd_total)"
   ]
  },
  {
   "cell_type": "code",
   "execution_count": null,
   "id": "195ad4f7",
   "metadata": {},
   "outputs": [],
   "source": [
    "def chk_mrg_idx(data1, data2, cp_data):\n",
    "    rw_data = pd.concat([data1, data2]).sort_index()\n",
    "    cnt = (cp_data.index == rw_data.index).sum()\n",
    "    cnt_incs = (cp_data.index != rw_data.index).sum()\n",
    "    # merge 전 index 목록과 다른것 비교\n",
    "    if cnt_incs == 0:\n",
    "        print(\"merge 전/후의 index가 같습니다. count:\"+str(cnt))\n",
    "        globals()[\"{}\".format(nameof(stwd_total))] = rw_data\n",
    "        print(\"수정 내용을 적용하였습니다 (변수명:\"+ nameof(stwd_total) + \")\")\n",
    "    elif cnt_incs > 0:\n",
    "        print(\"merge 전/후의 index가 다릅니다.count:\"+str(cnt))\n"
   ]
  },
  {
   "cell_type": "code",
   "execution_count": null,
   "id": "f54bd34c",
   "metadata": {},
   "outputs": [],
   "source": [
    "chk_mrg_idx(dict_is, dict_nan, stwd_total)"
   ]
  },
  {
   "cell_type": "code",
   "execution_count": null,
   "id": "10c570ca",
   "metadata": {},
   "outputs": [],
   "source": [
    "stwd_total"
   ]
  },
  {
   "cell_type": "code",
   "execution_count": null,
   "id": "3e7657c8",
   "metadata": {},
   "outputs": [],
   "source": []
  },
  {
   "cell_type": "code",
   "execution_count": null,
   "id": "26526ff4",
   "metadata": {},
   "outputs": [],
   "source": []
  },
  {
   "cell_type": "markdown",
   "id": "e6aa0569",
   "metadata": {},
   "source": [
    "# 재로드~"
   ]
  },
  {
   "cell_type": "code",
   "execution_count": null,
   "id": "e3f37600",
   "metadata": {},
   "outputs": [],
   "source": [
    "dict_nan_unq.to_excel(output_path + \"dict_nan_unq.xlsx\")"
   ]
  },
  {
   "cell_type": "code",
   "execution_count": null,
   "id": "01645cd5",
   "metadata": {},
   "outputs": [],
   "source": []
  },
  {
   "cell_type": "code",
   "execution_count": null,
   "id": "dfe60e3f",
   "metadata": {},
   "outputs": [],
   "source": []
  },
  {
   "cell_type": "code",
   "execution_count": null,
   "id": "2dc36463",
   "metadata": {},
   "outputs": [],
   "source": [
    "dict_nan_unq = dict_nan['stwd_kor'].unique()\n",
    "dict_nan_unq"
   ]
  },
  {
   "cell_type": "code",
   "execution_count": null,
   "id": "54f54458",
   "metadata": {},
   "outputs": [],
   "source": []
  },
  {
   "cell_type": "code",
   "execution_count": null,
   "id": "acb81ec1",
   "metadata": {},
   "outputs": [],
   "source": []
  },
  {
   "cell_type": "code",
   "execution_count": null,
   "id": "a45a30f4",
   "metadata": {},
   "outputs": [],
   "source": []
  },
  {
   "cell_type": "code",
   "execution_count": null,
   "id": "0432d31b",
   "metadata": {},
   "outputs": [],
   "source": []
  },
  {
   "cell_type": "code",
   "execution_count": null,
   "id": "0bdf1a03",
   "metadata": {},
   "outputs": [],
   "source": [
    "# 사전에 있는 단어 검색\n",
    "\n",
    "stwd_total[stwd_total['stwd_kor'].isin(dict_insp['어휘'])]"
   ]
  },
  {
   "cell_type": "code",
   "execution_count": null,
   "id": "7b71d988",
   "metadata": {},
   "outputs": [],
   "source": []
  },
  {
   "cell_type": "code",
   "execution_count": null,
   "id": "c1242764",
   "metadata": {},
   "outputs": [],
   "source": [
    "a = pd.concat([\n",
    "stwd_total[stwd_total['stwd_kor'].isin(dict_insp['어휘']) == False],stwd_total[stwd_total['stwd_kor'].isin(dict_insp['어휘'])]\n",
    "]).sort_index()\n",
    "a"
   ]
  },
  {
   "cell_type": "code",
   "execution_count": null,
   "id": "39e37c7b",
   "metadata": {},
   "outputs": [],
   "source": [
    "(stwd_total['stwd_kor'] == a['stwd_kor']).sum()"
   ]
  },
  {
   "cell_type": "code",
   "execution_count": null,
   "id": "d91184cb",
   "metadata": {},
   "outputs": [],
   "source": [
    "# 사전에 없는 단어 검색\n",
    "def isin_dict(data, cpr_data, data_col, cpr_data)\n",
    "    data[data[data_col].isin(cpr_data[cpr_data]) == False]"
   ]
  },
  {
   "cell_type": "code",
   "execution_count": null,
   "id": "f1f3b8bc",
   "metadata": {},
   "outputs": [],
   "source": []
  },
  {
   "cell_type": "code",
   "execution_count": null,
   "id": "924c1e5d",
   "metadata": {},
   "outputs": [],
   "source": []
  },
  {
   "cell_type": "code",
   "execution_count": null,
   "id": "9a59b8a4",
   "metadata": {},
   "outputs": [],
   "source": [
    "path_dict = 'C:/Users/namdd/OneDrive/Data/Standardization/dict'\n",
    "test = pd.read_csv(path_dict + '/dict_total/' + 'dict_expn_dup.csv', index_col=0)\n",
    "test = test[test['어휘'].notna()]\n",
    "print(test.shape)\n",
    "test"
   ]
  },
  {
   "cell_type": "code",
   "execution_count": null,
   "id": "ffc5d428",
   "metadata": {},
   "outputs": [],
   "source": [
    "dict_insp_oneMore.loc[dict_insp_oneMore['어휘'] == '개설']"
   ]
  },
  {
   "cell_type": "code",
   "execution_count": null,
   "id": "5ee5b8de",
   "metadata": {},
   "outputs": [],
   "source": [
    "test.loc[test['어휘'] == '개설']"
   ]
  },
  {
   "cell_type": "code",
   "execution_count": null,
   "id": "6a3d8182",
   "metadata": {},
   "outputs": [],
   "source": [
    "stwd_total[stwd_total['stwd_kor'].isin(test['어휘'])]"
   ]
  },
  {
   "cell_type": "code",
   "execution_count": null,
   "id": "96a35150",
   "metadata": {},
   "outputs": [],
   "source": [
    "stwd_total[stwd_total['stwd_kor'].isin(dict_insp_list)==False]"
   ]
  },
  {
   "cell_type": "code",
   "execution_count": null,
   "id": "742175e2",
   "metadata": {},
   "outputs": [],
   "source": []
  },
  {
   "cell_type": "code",
   "execution_count": null,
   "id": "321329a8",
   "metadata": {},
   "outputs": [],
   "source": []
  },
  {
   "cell_type": "code",
   "execution_count": null,
   "id": "03006ac9",
   "metadata": {},
   "outputs": [],
   "source": [
    "for i in tqdm(dict_insp_list):\n",
    "    print(i)"
   ]
  },
  {
   "cell_type": "code",
   "execution_count": null,
   "id": "5cd22a9e",
   "metadata": {},
   "outputs": [],
   "source": [
    "stwd_total"
   ]
  },
  {
   "cell_type": "code",
   "execution_count": null,
   "id": "e6a79e51",
   "metadata": {},
   "outputs": [],
   "source": []
  },
  {
   "cell_type": "code",
   "execution_count": null,
   "id": "8b615af4",
   "metadata": {},
   "outputs": [],
   "source": []
  },
  {
   "cell_type": "code",
   "execution_count": null,
   "id": "d81d6f80",
   "metadata": {},
   "outputs": [],
   "source": [
    "nll_to_blnk(stwd_total, 'all')"
   ]
  },
  {
   "cell_type": "code",
   "execution_count": null,
   "id": "4cf233e4",
   "metadata": {},
   "outputs": [],
   "source": []
  },
  {
   "cell_type": "code",
   "execution_count": null,
   "id": "5399fccf",
   "metadata": {},
   "outputs": [],
   "source": []
  },
  {
   "cell_type": "code",
   "execution_count": null,
   "id": "96d095f6",
   "metadata": {},
   "outputs": [],
   "source": []
  },
  {
   "cell_type": "code",
   "execution_count": null,
   "id": "fd698d9c",
   "metadata": {},
   "outputs": [],
   "source": []
  },
  {
   "cell_type": "markdown",
   "id": "3450a75f",
   "metadata": {},
   "source": [
    "# 4. 공통 표준 우선 적용"
   ]
  },
  {
   "cell_type": "code",
   "execution_count": null,
   "id": "be37f6cd",
   "metadata": {},
   "outputs": [],
   "source": [
    "nll_to_blnk(stwd_total, 'all')"
   ]
  },
  {
   "cell_type": "code",
   "execution_count": null,
   "id": "8dd4bf9b",
   "metadata": {},
   "outputs": [],
   "source": [
    "def pub_stnd(data):\n",
    "    if yes_or_no(\"영문 약어명을 공통 표준으로 통일 하시겠습니까?\"):\n",
    "\n",
    "        # 표준 파일 불러오기\n",
    "        sheet_name = \"공통표준단어\"\n",
    "        input_path = os.path.join(os.getcwd(), \"input\\\\\")\n",
    "        public_stwd = pd.read_excel(input_path + \"공공데이터 공통표준용어(2021.12월).xlsx\"\n",
    "                                    , sheet_name=sheet_name\n",
    "                                    , header=0\n",
    "                                    , index_col=\"NO\")\n",
    "        public_stwd = public_stwd[['공통표준단어명', '공통표준단어영문약어명']]\n",
    "\n",
    "        # 표준 영문명 자동 기입(널 제외)\n",
    "\n",
    "        # 표준 단어명 기준 left join (영문명이 null이면 비표준, notnull이면 표준)\n",
    "        std_chk = data.merge(public_stwd, left_on = 'stwd_kor', right_on = '공통표준단어명', how = 'left')\n",
    "        for i in range(std_chk.shape[0]):\n",
    "\n",
    "            # joined DF의 영문명이 있을 경우 표준으로 대신 기입 \n",
    "            notna_chk = std_chk['stwd_eng'].notna()[i]\n",
    "            if notna_chk:\n",
    "                std_chk.loc[i, 'stwd_eng'] = std_chk.loc[i, '공통표준단어영문약어명']\n",
    "\n",
    "        std_chk_list = ['index', 'stwd_kor', 'num_kor', 'stwd_eng', 'num_eng']\n",
    "        globals()[\"std_chk\"] = std_chk[std_chk_list]\n",
    "\n",
    "        print('한글명을 기준으로 공통(행안부) 표준을 우선 적용합니다.')\n",
    "        print(std_chk.shape)\n",
    "        print('OUT: std_chk')\n",
    "#         print(std_chk.head())\n",
    "    else:\n",
    "        print('공통(행안부) 표준을 우선 적용하지 않고 표준화를 진행합니다.')    "
   ]
  },
  {
   "cell_type": "code",
   "execution_count": null,
   "id": "1d2e0766",
   "metadata": {},
   "outputs": [],
   "source": [
    "pub_stnd(stwd_total)\n",
    "std_chk.tail()"
   ]
  },
  {
   "cell_type": "code",
   "execution_count": null,
   "id": "84a6ba08",
   "metadata": {},
   "outputs": [],
   "source": []
  },
  {
   "cell_type": "code",
   "execution_count": null,
   "id": "bdca6f48",
   "metadata": {},
   "outputs": [],
   "source": []
  },
  {
   "cell_type": "code",
   "execution_count": null,
   "id": "18ef82a8",
   "metadata": {},
   "outputs": [],
   "source": [
    "pub_stnd(row_blnk_stwd_kor)"
   ]
  },
  {
   "cell_type": "code",
   "execution_count": null,
   "id": "4d4da7d1",
   "metadata": {},
   "outputs": [],
   "source": []
  },
  {
   "cell_type": "code",
   "execution_count": null,
   "id": "1a763c63",
   "metadata": {},
   "outputs": [],
   "source": [
    "pub_stnd(stwd_total)\n",
    "std_chk.tail()"
   ]
  },
  {
   "cell_type": "code",
   "execution_count": null,
   "id": "08a5ab14",
   "metadata": {},
   "outputs": [],
   "source": [
    "std_chk.to_excel(input_path + 'aa.xlsx')"
   ]
  },
  {
   "cell_type": "code",
   "execution_count": null,
   "id": "f2df39ed",
   "metadata": {},
   "outputs": [],
   "source": [
    "# if yes_or_no(\"영문 약어명을 공통 표준으로 통일 하시겠습니까?\"):\n",
    "\n",
    "#     # 표준 파일 불러오기\n",
    "#     sheet_name = \"공통표준단어\"\n",
    "#     input_path = os.path.join(os.getcwd(), \"input\\\\\")\n",
    "#     public_stwd = pd.read_excel(input_path + \"공공데이터 공통표준용어(2021.12월).xlsx\", sheet_name=sheet_name, header=0)\n",
    "#     public_stwd = public_stwd[['NO', '공통표준단어명', '공통표준단어영문약어명']]\n",
    "\n",
    "#     # 표준 영문명 자동 기입(널 제외)\n",
    "\n",
    "#     # 표준 단어명 기준 left join (영문명이 null이면 비표준, notnull이면 표준)\n",
    "#     std_chk = stwd_total.merge(public_stwd, left_on = 'stwd_kor', right_on = '공통표준단어명', how = 'left')\n",
    "#     for i in range(std_chk.shape[0]):\n",
    "        \n",
    "#         # joined DF의 영문명이 있을 경우 표준으로 대신 기입 \n",
    "#         notna_chk = std_chk['stwd_eng'].notna()[i]\n",
    "#         if notna_chk:\n",
    "#             std_chk.loc[i, 'stwd_eng'] = std_chk.loc[i, '공통표준단어영문약어명']\n",
    "\n",
    "#     std_chk_list = ['index', 'stwd_kor', 'num_kor', 'stwd_eng', 'num_eng']\n",
    "#     std_chk = std_chk[std_chk_list]\n",
    "    \n",
    "#     print('한글명을 기준으로 공통(행안부) 표준을 우선 적용합니다.')\n",
    "# else:\n",
    "#     print('공통(행안부) 표준을 우선 적용하지 않고 표준화를 진행합니다.')\n",
    "    \n",
    "# print(std_chk.shape)\n",
    "# std_chk.tail()\n",
    "# std_chk.head()"
   ]
  },
  {
   "cell_type": "markdown",
   "id": "7dd65a0c",
   "metadata": {},
   "source": [
    "# 5. 한/영  중복제거 및 통합"
   ]
  },
  {
   "cell_type": "code",
   "execution_count": null,
   "id": "e451945b",
   "metadata": {},
   "outputs": [],
   "source": [
    "# 한글명 중복 검사: 수기 수정 후 최대 unique 값 카운트\n",
    "def find_unique_eng(df):\n",
    "    \n",
    "    kor_input_cnt = sum(df_step_1['stwd_kor'].notna())\n",
    "    kor_unique_cnt = len(set(df_step_1['stwd_kor']))\n",
    "    eng_input_cnt = sum(df_step_1['stwd_eng'].notna())\n",
    "    eng_unque_cnt = len(set(df_step_1['stwd_eng']))\n",
    "    \n",
    "    print(\"==중복값 비교==\")\n",
    "    # (한)미입력값 개수\n",
    "    print('(한)     not null   개수: ' + str(kor_input_cnt))\n",
    "    # (한)unique 값 개수\n",
    "    print(\"(한)''포함 unique값 개수: \" + str(kor_unique_cnt)) \n",
    "    # (영)미입력값 개수\n",
    "    print('(영)     not null   개수: ' + str(eng_input_cnt))\n",
    "    # (영)unique 값 개수\n",
    "    print(\"(영)''포함 unique값 개수: \" + str(eng_unque_cnt)) \n",
    "    \n",
    "    if (kor_input_cnt == eng_input_cnt) and (kor_unique_cnt == eng_unque_cnt):\n",
    "        print('\"한글명과 영문명의 unique 개수가 같습니다.\"')\n",
    "    else:\n",
    "        print('\"한글명과 영문명의 unique 개수가 다릅니다.\"')"
   ]
  },
  {
   "cell_type": "code",
   "execution_count": null,
   "id": "5aca5697",
   "metadata": {},
   "outputs": [],
   "source": [
    "def chk_unique(data):\n",
    "    global df_step_1   \n",
    "    df_step_1 = data\n",
    "    # 중복제거 후 다시 합쳐서 검사(1안)\n",
    "\n",
    "    # 한글 중복제거\n",
    "    col_stwd_kor = ['stwd_kor', 'num_kor']\n",
    "    unique_kor = df_step_1['stwd_kor'].drop_duplicates()\n",
    "    stwd_kor_unique = df_step_1.loc[unique_kor.index][col_stwd_kor]\n",
    "    print(\"한글명중복제거:\"+ str(stwd_kor_unique.shape))\n",
    "    # stwd_kor_unique\n",
    "\n",
    "    # 영문 중복제거\n",
    "    col_stwd_eng = ['stwd_eng', 'num_eng']\n",
    "    unique_eng = df_step_1['stwd_eng'].drop_duplicates()\n",
    "    stwd_eng_unique = df_step_1.loc[unique_eng.index][col_stwd_eng]\n",
    "    print(\"영문명중복제거:\"+ str(stwd_eng_unique.shape))\n",
    "    # stwd_eng_unique.tail(100)\n",
    "\n",
    "    # 한글+영문 일렬 세우기\n",
    "    df_step_1 = pd.DataFrame(stwd_total['index'])\n",
    "    df_step_1 = df_step_1.merge(\n",
    "        stwd_kor_unique,\n",
    "        left_index = True,\n",
    "        right_index = True,\n",
    "        how = 'left'\n",
    "    ).merge(\n",
    "        stwd_eng_unique,\n",
    "        left_index = True,\n",
    "        right_index = True,\n",
    "        how = 'left'\n",
    "    )\n",
    "    print(df_step_1.shape)\n",
    "    df_step_1\n",
    "\n",
    "    df_step_1.to_excel(input_path + \"df_step_1\" + str(dt.datetime.now().strftime('%y%m%d_%H%M%S')) + \".xlsx\")\n",
    "    print(df_step_1.shape)\n",
    "    df_step_1\n",
    "    print(\"OUT: df_step_1\")\n",
    "    \n",
    "chk_unique(std_chk)\n",
    "find_unique_eng(df_step_1)\n",
    "df_step_1"
   ]
  },
  {
   "cell_type": "code",
   "execution_count": null,
   "id": "6c155082",
   "metadata": {},
   "outputs": [],
   "source": [
    "nll_to_blnk(df_step_1, 'all')\n",
    "df_step_1"
   ]
  },
  {
   "cell_type": "code",
   "execution_count": null,
   "id": "4e8f420b",
   "metadata": {},
   "outputs": [],
   "source": [
    "blnk_row_rmv(df_step_1, 'col', 'stwd_kor')\n",
    "blnk_rmv_stwd_kor.tail()"
   ]
  },
  {
   "cell_type": "code",
   "execution_count": null,
   "id": "a18ab013",
   "metadata": {},
   "outputs": [],
   "source": [
    "blnk_rmv_stwd_kor.to_excel(output_path + \"blnk_rmv_stwd_kor.xlsx\")"
   ]
  },
  {
   "cell_type": "code",
   "execution_count": null,
   "id": "6a6bb933",
   "metadata": {},
   "outputs": [],
   "source": []
  },
  {
   "cell_type": "code",
   "execution_count": null,
   "id": "b8cf7373",
   "metadata": {},
   "outputs": [],
   "source": []
  },
  {
   "cell_type": "code",
   "execution_count": null,
   "id": "dd8ccfb8",
   "metadata": {},
   "outputs": [],
   "source": [
    "df_step_1"
   ]
  },
  {
   "cell_type": "code",
   "execution_count": null,
   "id": "a20535b6",
   "metadata": {},
   "outputs": [],
   "source": [
    "data"
   ]
  },
  {
   "cell_type": "code",
   "execution_count": null,
   "id": "506b5287",
   "metadata": {},
   "outputs": [],
   "source": [
    "data.iloc[i]"
   ]
  },
  {
   "cell_type": "code",
   "execution_count": null,
   "id": "5ca0ea77",
   "metadata": {},
   "outputs": [],
   "source": [
    "data = df_step_1\n",
    "data_cnt = len(data)\n",
    "notna_list = []\n",
    "for i in range(data_cnt):    \n",
    "    # row 기준 널 체크(값이 한개라도 있을 경우 포함)\n",
    "    if data.iloc[i].notna().sum() > 1:\n",
    "        notna_list.append(i)\n",
    "        notna_list"
   ]
  },
  {
   "cell_type": "code",
   "execution_count": null,
   "id": "c87ff1d4",
   "metadata": {},
   "outputs": [],
   "source": [
    "row_nll_rmv(df_step_1, 'df_step_1')"
   ]
  },
  {
   "cell_type": "code",
   "execution_count": null,
   "id": "056e9d92",
   "metadata": {},
   "outputs": [],
   "source": [
    "df_step_1"
   ]
  },
  {
   "cell_type": "markdown",
   "id": "b74a25c5",
   "metadata": {},
   "source": [
    "# * 한글/영문 단어수 매칭"
   ]
  },
  {
   "cell_type": "markdown",
   "id": "ab910728",
   "metadata": {},
   "source": [
    "## 6. 자동수정, 파일 업로드 점검"
   ]
  },
  {
   "cell_type": "markdown",
   "id": "8f00aa35",
   "metadata": {},
   "source": [
    "### 6.1.수기 수정값 표시(! y/n)"
   ]
  },
  {
   "cell_type": "code",
   "execution_count": null,
   "id": "c667092a",
   "metadata": {},
   "outputs": [],
   "source": [
    "### 값이 한개라도 있을 경우만 카운트 ###\n",
    "\n",
    "df_step_1_cnt = len(df_step_1)\n",
    "notna_list = []\n",
    "for i in range(df_step_1_cnt):    \n",
    "    # row 기준 널 체크(값이 한개라도 있을 경우 포함)\n",
    "    if df_step_1.iloc[i].notna().sum() > 1:\n",
    "        notna_list.append(i)\n",
    "\n",
    "df_step_1 = df_step_1.loc[notna_list]\n",
    "print(df_step_1.shape)\n",
    "\n",
    "# 원래 표준과 병합(수기 수정을 위해)\n",
    "df_step_1 = df_step_1.merge(\n",
    "    input_test,\n",
    "    left_on = 'index',\n",
    "    right_on = 'No',\n",
    "    how = 'left'\n",
    ")\n",
    "\n",
    "# 영문 개수 세기\n",
    "dup_list_eng = []\n",
    "dup_cnt_eng = []\n",
    "for i in range(df_step_1.shape[0]):\n",
    "    dup_list_eng = df_step_1['stwd_eng'].to_list().count(df_step_1.loc[i, 'stwd_eng'])\n",
    "    dup_cnt_eng.append(dup_list_eng)\n",
    "df_step_1 = pd.concat([df_step_1, pd.DataFrame(dup_cnt_eng, columns = {\"eng_cnt\"})], axis = 1)\n",
    "\n",
    "# 컬럼 추리기\n",
    "df_step_1_list = ['index', 'stwd_eng', 'stwd_kor', '영문약어명', '용어명 분리', 'eng_cnt']\n",
    "df_step_1 = df_step_1[df_step_1_list]\n",
    "\n",
    "# 비교군 저장\n",
    "df_step_1_chk = df_step_1.copy()\n",
    "df_step_1.head()\n",
    "\n",
    "# 2차\n",
    "# 널 제외 한글단어를 표준화된 풀데이터(df_step_1)를 다시검색하여 영문명 자동 기입 : 없는 것은 수동기입 필요 \n",
    "\n",
    "# 영문 null 값 '' 채우기\n",
    "df_step_1['stwd_eng'] = df_step_1['stwd_eng'].fillna(\"\")\n",
    "\n",
    "df_step_1['eng_cor_yn'] = \"\"\n",
    "for i in range(df_step_1.shape[0]):\n",
    "    blnk_chk = df_step_1.loc[i, 'stwd_eng'] == ''\n",
    "    if blnk_chk :\n",
    "        df_step_1.loc[i, 'stwd_eng'] = '!' + '_'.join(set(stwd_total.loc[(stwd_total['stwd_kor'] == df_step_1.loc[i, 'stwd_kor']), 'stwd_eng'].to_list()))\n",
    "        df_step_1.loc[i, 'eng_cor_yn'] = 'n'\n",
    "\n",
    "df_step_1_chk = df_step_1.copy()\n",
    "        \n",
    "# 순서\n",
    "df_step_1_xlsx = df_step_1.sort_values(['stwd_eng'])\n",
    "df_step_1_xlsx = df_step_1_xlsx[df_step_1_xlsx['eng_cor_yn'] == 'n']\n",
    "df_step_1_xlsx.to_excel(output_path+\"chk_eng\" + \".xlsx\")\n",
    "\n",
    "# # 파일 실행 하지 않음\n",
    "# os.system(output_path + \"chk_eng.xlsx\")\n",
    "\n",
    "print(df_step_1_xlsx.shape)\n",
    "df_step_1_xlsx.head()"
   ]
  },
  {
   "cell_type": "markdown",
   "id": "58c2fce4",
   "metadata": {},
   "source": [
    "### 6.2. 수정 후 재업로드(한글): 개발 미정"
   ]
  },
  {
   "cell_type": "markdown",
   "id": "94a2dfe2",
   "metadata": {},
   "source": [
    "### 6.3. 수정 후 재업로드(영문)"
   ]
  },
  {
   "cell_type": "markdown",
   "id": "1adeddf3",
   "metadata": {},
   "source": [
    "#### 6.3. 영문수정 > re_load 만 탐색할 수 있도록 코드 간략화 필요(지금은 시간상 그냥 개발)"
   ]
  },
  {
   "cell_type": "markdown",
   "id": "8c4b81ea",
   "metadata": {},
   "source": [
    "#### 6.3.1. 자동수정 후 재업로드(영문)"
   ]
  },
  {
   "cell_type": "code",
   "execution_count": null,
   "id": "831294a0",
   "metadata": {
    "scrolled": true
   },
   "outputs": [],
   "source": [
    "# 최초 1회 수정 후 재업로드\n",
    "\n",
    "# 수기 수정된 데이터\n",
    "######## 가짜, 추후(chk_eng)로 수정 ########\n",
    "re_load = pd.read_excel(output_path + 'chk_eng.xlsx', index_col='Unnamed: 0')\n",
    "\n",
    "# 주소값 덮어쓰지 않게 따로 복사하기\n",
    "df_step_1_cor = df_step_1.copy()\n",
    "\n",
    "# 모두null일 경우(=전부기입된경우), 그냥 진행, 그렇지 않을 경우 수정된 값 적용 후 진행ㅇ\n",
    "# Index 병합, 수기수정 대입, 그 외 null 지정\n",
    "if re_load['stwd_eng'].isna().all():\n",
    "    print(\"검수 통과\")\n",
    "else: \n",
    "    df_step_1_cor['stwd_eng'] =  re_load['stwd_eng']\n",
    "    print(\"수기 수정 다시\")\n",
    "    \n",
    "# 나머지 null 값은 본래 데이터(df_step_1) 값으로 채워넣기\n",
    "for i in range(df_step_1_cor.shape[0]):\n",
    "    if pd.isna(df_step_1_cor.loc[i, 'stwd_eng']):\n",
    "        df_step_1_cor.loc[i, 'stwd_eng'] = df_step_1.loc[i, 'stwd_eng']\n",
    "        df_step_1_cor.loc[i, 'eng_cor_yn'] = 'y'\n",
    "\n",
    "    if df_step_1_cor.loc[i, 'eng_cor_yn'] == 'n':\n",
    "        if df_step_1_cor.loc[i, 'stwd_eng'] != df_step_1_chk.loc[i, 'stwd_eng']:\n",
    "            df_step_1_cor.loc[i, 'eng_cor_yn'] = 'y'\n",
    "        elif df_step_1_cor.loc[i, 'stwd_eng'] == df_step_1_chk.loc[i, 'stwd_eng']:\n",
    "            df_step_1_cor.loc[i, 'eng_cor_yn'] = 'n'\n",
    "\n",
    "# 특수문자, 빈칸, null 점검\n",
    "tmp_list = []\n",
    "for i in range(df_step_1_cor.shape[0]):\n",
    "    if len(re.findall('[^A-Z0-9+]', df_step_1_cor.loc[i, 'stwd_eng'])):\n",
    "        tmp_list.append(i)\n",
    "    elif df_step_1_cor.loc[i, 'stwd_eng'] == '':\n",
    "        tmp_list.append(i)\n",
    "    elif pd.isna(df_step_1_cor.loc[i, 'stwd_eng']):\n",
    "        tmp_list.append(i)\n",
    "\n",
    "# 특수문자 'n'으로\n",
    "df_step_1_cor.loc[tmp_list, 'eng_cor_yn'] = 'n'\n",
    "\n",
    "# 전체 파일 저장\n",
    "df_step_1_cor.to_excel(output_path + \"df_step_1_cor.xlsx\")\n",
    "\n",
    "# 영문 점검 파일 저장    \n",
    "chk_eng = df_step_1_cor.loc[df_step_1_cor['eng_cor_yn'] == 'n']\n",
    "chk_eng.to_excel(output_path + \"chk_eng.xlsx\")\n",
    "\n",
    "# 파일 실행\n",
    "os.system(output_path + \"chk_eng.xlsx\")\n",
    "\n",
    "print(df_step_1_cor.shape)\n",
    "df_step_1_cor.head()"
   ]
  },
  {
   "cell_type": "markdown",
   "id": "b69b3d43",
   "metadata": {},
   "source": [
    "#### 6.3.2. 수기수정 후 재업로드(영문)"
   ]
  },
  {
   "cell_type": "code",
   "execution_count": null,
   "id": "e42f15c8",
   "metadata": {},
   "outputs": [],
   "source": [
    "# 주소값 덮어쓰지 않게 따로 복사하기\n",
    "df_step_1_cor_tmp = df_step_1_cor.copy()\n",
    "# 2회 이상부터\n",
    "\n",
    "def repeat_eng():\n",
    "    global df_step_1_cor_tmp\n",
    "    global chk_eng\n",
    "    global tmp_list_eng\n",
    "#     global re_load\n",
    "\n",
    "    # 수기 수정 후 다시 업로드: na_filter=False\n",
    "    re_load = pd.read_excel(output_path + 'chk_eng.xlsx', index_col='Unnamed: 0', na_filter=False)\n",
    "    \n",
    "    # Index 병합, 수기수정 대입, 그 외 ''null'' 지정\n",
    "    for i in re_load.index:\n",
    "        df_step_1_cor_tmp.loc[i, 'stwd_eng'] =  re_load.loc[i, 'stwd_eng']\n",
    "    \n",
    "    # 나머지 null 값은 본래 데이터(df_step_1) 값으로 채워넣기\n",
    "    for i in range(df_step_1_cor_tmp.shape[0]):\n",
    "        if df_step_1_cor_tmp.loc[i, 'eng_cor_yn'] == 'n':\n",
    "            if df_step_1_cor_tmp.loc[i, 'stwd_eng'] != df_step_1_chk.loc[i, 'stwd_eng']:\n",
    "                df_step_1_cor_tmp.loc[i, 'eng_cor_yn'] = 'y'\n",
    "            elif df_step_1_cor_tmp.loc[i, 'stwd_eng'] == df_step_1_chk.loc[i, 'stwd_eng']:\n",
    "                df_step_1_cor_tmp.loc[i, 'eng_cor_yn'] = 'n'\n",
    "                \n",
    "        if pd.isna(df_step_1_cor_tmp.loc[i, 'stwd_eng']):\n",
    "            df_step_1_cor_tmp.loc[i, 'stwd_eng'] = df_step_1_cor.loc[i, 'stwd_eng']\n",
    "            df_step_1_cor_tmp.loc[i, 'eng_cor_yn'] = 'y'\n",
    "\n",
    "    # 특수문자, 빈칸, 소문자, 한글, null 점검\n",
    "    tmp_list_eng = []\n",
    "    for i in range(df_step_1_cor_tmp.shape[0]):\n",
    "        if len(re.findall('[^A-Z0-9+]', df_step_1_cor_tmp.loc[i, 'stwd_eng'])):\n",
    "            tmp_list_eng.append(i)\n",
    "        elif df_step_1_cor_tmp.loc[i, 'stwd_eng'] == '':\n",
    "            tmp_list_eng.append(i)\n",
    "        elif pd.isna(df_step_1_cor_tmp.loc[i, 'stwd_eng']):\n",
    "            tmp_list_eng.append(i)\n",
    "\n",
    "    # 특수문자 'n'으로\n",
    "    df_step_1_cor_tmp.loc[tmp_list_eng, 'eng_cor_yn'] = 'n'\n",
    "\n",
    "    # 파일 실행\n",
    "    os.system(output_path + \"chk_eng.xlsx\")\n",
    "\n",
    "    # 파일 저장\n",
    "    chk_eng = df_step_1_cor_tmp.loc[df_step_1_cor_tmp['eng_cor_yn'] == 'n']\n",
    "    df_step_1_cor_tmp.to_excel(output_path + \"df_step_1_cor.xlsx\")\n",
    "    chk_eng.to_excel(output_path + \"chk_eng.xlsx\")"
   ]
  },
  {
   "cell_type": "markdown",
   "id": "3ad6783f",
   "metadata": {},
   "source": [
    "#### 6.3.3. 재업로드 반복 실행"
   ]
  },
  {
   "cell_type": "code",
   "execution_count": null,
   "id": "41b54a28",
   "metadata": {},
   "outputs": [],
   "source": [
    "# 한글명, 영문명이 모두 ''값일 경우, 수정 완료\n",
    "if (chk_eng[['stwd_kor', 'stwd_eng']] == '').all().all():\n",
    "    print('\"영문 수정 완료\"' + \" (빈칸 수:\" + str(sum(df_step_1_cor_tmp['stwd_eng'] == '')) + \")\")\n",
    "    repeat_eng()\n",
    "    os.system(output_path + \"df_step_1_cor.xlsx\")\n",
    "else:\n",
    "    if yes_or_no(\"영문명 수정이 필요합니다. 반복 점검하시겠습니까?\"):\n",
    "        repeat_eng()\n",
    "    else:\n",
    "        os.system(output_path + \"chk_eng.xlsx\")    "
   ]
  },
  {
   "cell_type": "code",
   "execution_count": null,
   "id": "5e0be04c",
   "metadata": {},
   "outputs": [],
   "source": [
    "# 함수화 (추후에)\n",
    "\n",
    "# def repeat_eng():\n",
    "#     global df_step_1_cor_tmp\n",
    "#     global chk_eng\n",
    "#     global tmp_list_eng"
   ]
  },
  {
   "cell_type": "code",
   "execution_count": null,
   "id": "2e53c72f",
   "metadata": {},
   "outputs": [],
   "source": [
    "# #다시 검사(한글 1회차)\n",
    "\n",
    "# df_step_1_cor = df_step_1_cor_tmp.copy()\n",
    "\n",
    "# df_step_1_cor['kor_cor_yn'] = 'n'\n",
    "\n",
    "# # 한글 검사\n",
    "# tmp_list=[]\n",
    "# for i in range(df_step_1_cor.shape[0]):\n",
    "#     # 영어가 들어갔따\n",
    "#     if (len(re.findall('[a-zA-Z+]', df_step_1_cor.loc[i, 'stwd_kor'])) >= 1):\n",
    "#         tmp_list.append(i)\n",
    "#         print(i)\n",
    "# che_kor = df_step_1_cor.loc[tmp_list]\n",
    "# che_kor.to_excel(output_path + \"chk_kor.xlsx\")\n",
    "\n",
    "# # 수기 수정 후 다시 업로드: na_filter=False\n",
    "# re_load = pd.read_excel(output_path + 'chk_kor.xlsx', index_col='Unnamed: 0', na_filter=False)\n",
    "\n",
    "# os.system(output_path + \"chk_kor.xlsx\")\n",
    "\n",
    "# re_load"
   ]
  },
  {
   "cell_type": "code",
   "execution_count": null,
   "id": "ee8acb7a",
   "metadata": {},
   "outputs": [],
   "source": [
    "#다시 검사(한글 1회차)\n",
    "\n",
    "df_step_1_cor = df_step_1_cor_tmp.copy()\n",
    "\n",
    "# kor_cor_yn 초기값 'n' 설정\n",
    "df_step_1_cor['kor_cor_yn'] = ''\n",
    "\n",
    "# 한글 검사\n",
    "tmp_list=[]\n",
    "\n",
    "for i in range(df_step_1_cor.shape[0]):\n",
    "    cdtn_eng = len(re.findall('[a-zA-Z+]', df_step_1_cor.loc[i, 'stwd_kor'])) >= 1 # 영문이 한자라도 있을 시\n",
    "    cdtn_kor = len(re.findall('[가-힣+]', df_step_1_cor.loc[i, 'stwd_kor'])) >= 1 # 한글이 한자라도 있을 시\n",
    "    cdtn_eng_lower = len(re.findall('[a-z+]', df_step_1_cor.loc[i, 'stwd_kor'])) >= 1\n",
    "    # 한글과 영문이 섞인 경우만: 대문자만 들어갈 경우 허용\n",
    "    if cdtn_eng & cdtn_kor:\n",
    "        tmp_list.append(i)\n",
    "        print(i)\n",
    "    # 소문자가 들어간 경우만\n",
    "    elif cdtn_eng_lower:\n",
    "        tmp_list.append(i)\n",
    "        print(i)\n",
    "\n",
    "df_step_1_cor.loc[tmp_list, 'kor_cor_yn'] = 'n'\n",
    "chk_kor = df_step_1_cor.loc[tmp_list]\n",
    "chk_kor.to_excel(output_path + \"chk_kor.xlsx\")\n",
    "\n",
    "# 수기 수정 후 다시 업로드: na_filter=False\n",
    "re_load = pd.read_excel(output_path + 'chk_kor.xlsx', index_col='Unnamed: 0', na_filter=False)\n",
    "\n",
    "os.system(output_path + \"chk_kor.xlsx\")\n",
    "\n",
    "re_load"
   ]
  },
  {
   "cell_type": "code",
   "execution_count": null,
   "id": "028013a9",
   "metadata": {},
   "outputs": [],
   "source": [
    "#     # 한글 검사\n",
    "#     tmp_list=[]\n",
    "#     for i in range(df_step_1_cor.shape[0]):\n",
    "#         cdtn_eng = len(re.findall('[a-zA-Z+]', df_step_1_cor.loc[i, 'stwd_kor'])) >= 1\n",
    "#         cdtn_kor = len(re.findall('[가-힣+]', df_step_1_cor.loc[i, 'stwd_kor'])) >= 1\n",
    "#         cdtn_eng_lower = len(re.findall('[a-z+]', df_step_1_cor.loc[i, 'stwd_kor'])) >= 1\n",
    "#         # 영문 대문자만 들어간 경우 허용\n",
    "#         if cdtn_eng:\n",
    "#             tmp_list.append(i)\n",
    "#             print(i)\n",
    "#         # 한글 단어만 들어간 경우 허용\n",
    "#         elif cdtn_kor:\n",
    "#             tmp_list.append(i)\n",
    "#             print(i)\n",
    "#     # 올바르게 적용된 내용 'y'로\n",
    "#     df_step_1_cor_tmp.loc[tmp_list_kor, 'kor_cor_yn'] = 'y'"
   ]
  },
  {
   "cell_type": "markdown",
   "id": "e3a16937",
   "metadata": {},
   "source": [
    "# 다시다시... y n 바꾸는거 안됨.."
   ]
  },
  {
   "cell_type": "code",
   "execution_count": null,
   "id": "06622b5f",
   "metadata": {},
   "outputs": [],
   "source": [
    "#다시 검사(한글 n회차)\n",
    "\n",
    "def repeat_kor():\n",
    "    global df_step_1_cor\n",
    "    global chk_kor\n",
    "    global tmp_list_kor\n",
    "\n",
    "    # 수기 수정 후 다시 업로드: na_filter=False\n",
    "    re_load = pd.read_excel(output_path + 'chk_kor.xlsx', index_col='Unnamed: 0', na_filter=False)\n",
    "    re_load\n",
    "\n",
    "    # 엑셀 수정내용 적용\n",
    "    for i in range(df_step_1_cor.shape[0]):\n",
    "        for j in re_load.index:\n",
    "            if df_step_1_cor.index.to_list()[i] == j:\n",
    "                df_step_1_cor.loc[i, 'stwd_kor'] = re_load.loc[j, 'stwd_kor']\n",
    "\n",
    "    # 비교하기위한 복사\n",
    "    df_step_1_cor_tmp = df_step_1_cor.copy()\n",
    "\n",
    "    # 그외 null 값은 이전 데이터(df_step_1_cor) 값으로 채워넣기\n",
    "    for i in range(df_step_1_cor_tmp.shape[0]):\n",
    "        if df_step_1_cor_tmp.loc[i, 'kor_cor_yn'] == 'n':\n",
    "            # 이전 데이터와 비교하여 바뀐값 'y' 입력\n",
    "            if df_step_1_cor_tmp.loc[i, 'stwd_kor'] != df_step_1_cor.loc[i, 'stwd_kor']:\n",
    "                df_step_1_cor_tmp.loc[i, 'kor_cor_yn'] = 'y'\n",
    "            # 이전 데이터와 비교하여 바뀌지 않은 값 'n' 입력\n",
    "            elif df_step_1_cor_tmp.loc[i, 'stwd_kor'] == df_step_1_cor.loc[i, 'stwd_kor']:\n",
    "                df_step_1_cor_tmp.loc[i, 'kor_cor_yn'] = 'n'\n",
    "        \n",
    "        # null일경우 '' 입력\n",
    "        if pd.isna(df_step_1_cor_tmp.loc[i, 'stwd_kor']):\n",
    "            df_step_1_cor_tmp.loc[i, 'kor_cor_yn'] = ''\n",
    "\n",
    "    # 특수문자, 빈칸, 소문자, 한글, null 점검\n",
    "    tmp_list_kor = []\n",
    "    for i in range(df_step_1_cor_tmp.shape[0]):\n",
    "        \n",
    "        # 수정필요(n)사항 중에서..\n",
    "        if df_step_1_cor_tmp.loc[i, 'kor_cor_yn'] == 'n':\n",
    "            cdtn_eng_len = re.findall('[a-zA-Z+]', df_step_1_cor.loc[i, 'stwd_kor'])\n",
    "            cdtn_kor_len = re.findall('[가-힣+]', df_step_1_cor.loc[i, 'stwd_kor'])\n",
    "            # 한글만 한자 이상\n",
    "            if cdtn_eng == 0 & cdtn_kor >= 1:\n",
    "                df_step_1_cor_tmp.loc[i, 'kor_cor_yn'] = 'y'\n",
    "                print(i)\n",
    "            # 영문만 한자 이상\n",
    "            elif cdtn_eng >= 1 & cdtn_kor == 0:\n",
    "                df_step_1_cor_tmp.loc[i, 'kor_cor_yn'] = 'y'\n",
    "                print(i)\n",
    "            \n",
    "        # 소문자가 들어간 경우만\n",
    "        elif cdtn_eng_lower:\n",
    "            tmp_list_kor.append(i)\n",
    "            print(i)\n",
    "            \n",
    "        # 허용값이 아닌 개수 1개 이상\n",
    "        elif len(re.findall('[^가-힣A-z0-9+]', df_step_1_cor_tmp.loc[i, 'stwd_kor'])): \n",
    "            tmp_list_kor.append(i)\n",
    "        elif df_step_1_cor_tmp.loc[i, 'stwd_kor'] == '':\n",
    "            tmp_list_kor.append(i)\n",
    "        elif pd.isna(df_step_1_cor_tmp.loc[i, 'stwd_kor']):\n",
    "            tmp_list_kor.append(i)\n",
    "\n",
    "    # 특수문자 'n'으로\n",
    "    df_step_1_cor_tmp.loc[tmp_list_kor, 'kor_cor_yn'] = 'n'\n",
    "        \n",
    "    chk_kor = df_step_1_cor_tmp.loc[df_step_1_cor_tmp['kor_cor_yn'] == 'n']\n",
    "    chk_kor.to_excel(output_path + \"chk_kor.xlsx\")\n",
    "    \n",
    "    df_step_1_cor = df_step_1_cor_tmp\n",
    "    df_step_1_cor.to_excel(output_path + \"df_step_1_cor.xlsx\")\n",
    "    \n",
    "    os.system(output_path + \"chk_kor.xlsx\")"
   ]
  },
  {
   "cell_type": "code",
   "execution_count": null,
   "id": "abc09453",
   "metadata": {},
   "outputs": [],
   "source": [
    "repeat_kor()"
   ]
  },
  {
   "cell_type": "code",
   "execution_count": null,
   "id": "dea8eaa6",
   "metadata": {},
   "outputs": [],
   "source": [
    "df_step_1_cor"
   ]
  },
  {
   "cell_type": "code",
   "execution_count": null,
   "id": "8d880f2d",
   "metadata": {},
   "outputs": [],
   "source": [
    "df_step_1_cor_tmp"
   ]
  },
  {
   "cell_type": "code",
   "execution_count": null,
   "id": "28c4ea03",
   "metadata": {},
   "outputs": [],
   "source": [
    "# 동작 안됨\n",
    "# 한글명, 영문명이 모두 ''값일 경우, 수정 완료\n",
    "if (chk_kor[['stwd_kor', 'stwd_eng']] == '').all().all():\n",
    "    print('\"한글 수정 완료\"' + \" (빈칸 수:\" + str(sum(df_step_1_cor['stwd_kor'] == '')) + \")\")\n",
    "    repeat_kor()\n",
    "    os.system(output_path + \"df_step_1_cor.xlsx\")\n",
    "else:\n",
    "    if yes_or_no(\"한글명 수정이 필요합니다. 반복 점검하시겠습니까?\"):\n",
    "        repeat_kor()\n",
    "    else:\n",
    "        os.system(output_path + \"chk_kor.xlsx\")    "
   ]
  },
  {
   "cell_type": "code",
   "execution_count": null,
   "id": "91c98553",
   "metadata": {},
   "outputs": [],
   "source": [
    "df_step_1_cor_tmp"
   ]
  },
  {
   "cell_type": "code",
   "execution_count": null,
   "id": "dfc0a654",
   "metadata": {},
   "outputs": [],
   "source": [
    "# 영문 중복 검사\n",
    "if sum(df_step_1_cor['stwd_eng'].duplicated(keep=False)) > 1: # keep=False: 중복중 하나만 유지하지 않고 중복인 경우 모두 체크한다\n",
    "    print(\"영문명 중복을 탐지하였습니다.\")\n",
    "    \n",
    "    \n",
    "    #코드 작성\n",
    "    \n",
    "# 한글 중복 검사\n",
    "elif sum(df_step_1_cor['stwd_kor'].duplicated(keep=False)) > 1:\n",
    "    print(\"한글명 중복을 탐지하였습니다.\")\n",
    "    \n",
    "    \n",
    "    #코드 작성\n",
    "    \n",
    "else:\n",
    "    print(\"단어 중복을 모두 확인하였습니다.\")\n",
    "    \n",
    "#     #코드 작성(적용)\n",
    "#     df_step_1_cor = df_step_1_cor_tmp\n",
    "#     df_step_1_cor.to_excel(output_path +\"df_step_1_cor.xlsx\")\n",
    "    \n",
    "#     print(\"무의미한 값('')을 삭제하였습니다.\")\n",
    "#     df_space = df_step_1_cor_dup.loc[(df_step_1_cor_dup['stwd_eng'] == '') | (df_step_1_cor_dup['stwd_kor'] == '')]\n",
    "#     n_space_list = list(set(df_step_1_cor_dup.index) - set(df_space.index))\n",
    "#     df_step_1_cor = df_step_1_cor.loc[n_space_list]\n",
    "#     df_step_1_cor.to_excel(output_path + \"df_step_1_cor.xlsx\")\n",
    "    \n",
    "#     print(\"단어 사전을 완성하였습니다.\")\n",
    "    os.system(output_path + \"df_step_1_cor.xlsx\")"
   ]
  },
  {
   "cell_type": "code",
   "execution_count": null,
   "id": "9404f958",
   "metadata": {},
   "outputs": [],
   "source": [
    "df_step_1_cor_kor_dup = df_step_1_cor[df_step_1_cor['stwd_kor'].duplicated(keep=False)]\n",
    "df_step_1_cor_kor_dup.to_excel(output_path + \"df_step_1_cor_kor_dup.xlsx\")\n",
    "df_step_1_cor_kor_dup"
   ]
  },
  {
   "cell_type": "code",
   "execution_count": null,
   "id": "71b183f0",
   "metadata": {},
   "outputs": [],
   "source": []
  },
  {
   "cell_type": "code",
   "execution_count": null,
   "id": "964b6f43",
   "metadata": {},
   "outputs": [],
   "source": []
  },
  {
   "cell_type": "code",
   "execution_count": null,
   "id": "6a181e74",
   "metadata": {},
   "outputs": [],
   "source": [
    "\n",
    "# 영문 중복 검사\n",
    "if sum(df_step_1_cor['stwd_eng'].duplicated(keep=False)) > 1: # keep=False: 중복중 하나만 유지하지 않고 중복인 경우 모두 체크한다\n",
    "    print(\"영문명 중복을 탐지하였습니다.\")\n",
    "    \n",
    "    \n",
    "    #코드 작성\n",
    "    \n",
    "# 한글 중복 검사\n",
    "elif sum(df_step_1_cor['stwd_kor'].duplicated(keep=False)) > 1:\n",
    "    print(\"한글명 중복을 탐지하였습니다.\")\n",
    "    \n",
    "    \n",
    "    \n",
    "    #코드 작성\n",
    "    \n",
    "else:\n",
    "    \n",
    "    \n",
    "    print(\"단어 중복을 모두 확인하였습니다.\")\n",
    "    print(\"무의미한 값('')을 삭제하였습니다.\")\n",
    "    df_space = df_step_1_cor.loc[(df_step_1_cor['stwd_eng'] == '') | (df_step_1_cor['stwd_kor'] == '')]\n",
    "    n_space_list = list(set(df_step_1_cor.index) - set(df_space.index))\n",
    "    df_step_1_cor = df_step_1_cor.loc[n_space_list]\n",
    "    df_step_1_cor.to_excel(output_path + \"df_step_1_cor.xlsx\")\n",
    "    print(\"단어 사전을 완성하였습니다.\")\n",
    "    os.system(output_path + \"df_step_1_cor.xlsx\")"
   ]
  },
  {
   "cell_type": "code",
   "execution_count": null,
   "id": "53a36bcf",
   "metadata": {},
   "outputs": [],
   "source": [
    "df_step_1_cor_dup = df_step_1_cor[df_step_1_cor['stwd_kor'].duplicated(keep=False)]\n",
    "df_step_1_cor_dup.to_excel(output_path + \"df_step_1_cor_dup.xlsx\")\n",
    "df_step_1_cor_dup"
   ]
  },
  {
   "cell_type": "code",
   "execution_count": null,
   "id": "2f29a83b",
   "metadata": {},
   "outputs": [],
   "source": [
    "df_step_1_cor_dup = pd.read_excel(output_path + \"df_step_1_cor_dup.xlsx\")\n",
    "# df_step_1_cor_dup.to_excel(output_path + \"df_step_1_cor_dup.xlsx\")\n",
    "df_step_1_cor_dup"
   ]
  },
  {
   "cell_type": "code",
   "execution_count": null,
   "id": "31684460",
   "metadata": {},
   "outputs": [],
   "source": [
    "df_step_1_cor_dup['stwd_kor'].duplicated(keep=False)"
   ]
  },
  {
   "cell_type": "code",
   "execution_count": null,
   "id": "ec2a37e1",
   "metadata": {},
   "outputs": [],
   "source": []
  },
  {
   "cell_type": "code",
   "execution_count": null,
   "id": "70db709a",
   "metadata": {},
   "outputs": [],
   "source": [
    "# 엑셀 수정내용 적용\n",
    "for i in range(df_step_1_cor.shape[0]):\n",
    "    for j in df_step_1_cor_dup.index:\n",
    "        if df_step_1_cor.index.to_list()[i] == j:\n",
    "            df_step_1_cor.loc[i, 'stwd_kor'] = df_step_1_cor_dup.loc[j, 'stwd_kor']"
   ]
  },
  {
   "cell_type": "code",
   "execution_count": null,
   "id": "0bcdac27",
   "metadata": {},
   "outputs": [],
   "source": [
    "df_step_1_cor"
   ]
  },
  {
   "cell_type": "code",
   "execution_count": null,
   "id": "af42086a",
   "metadata": {},
   "outputs": [],
   "source": [
    "df_step_1_cor_dup.index"
   ]
  },
  {
   "cell_type": "code",
   "execution_count": null,
   "id": "987b99e6",
   "metadata": {},
   "outputs": [],
   "source": [
    "sum(df_step_1_cor['stwd_eng'].duplicated(keep=False)) > 1"
   ]
  },
  {
   "cell_type": "code",
   "execution_count": null,
   "id": "0a60984f",
   "metadata": {},
   "outputs": [],
   "source": [
    "sum(df_step_1_cor['stwd_kor'].duplicated(keep=False)) > 1"
   ]
  },
  {
   "cell_type": "code",
   "execution_count": null,
   "id": "823629c5",
   "metadata": {},
   "outputs": [],
   "source": [
    "df_step_1_cor.loc[df_step_1_cor['stwd_kor'].duplicated(keep=False)]"
   ]
  },
  {
   "cell_type": "code",
   "execution_count": null,
   "id": "56dab1b6",
   "metadata": {},
   "outputs": [],
   "source": [
    "[단어]\n",
    "[v]한글명이상 검사 (예: 영문 대문자)\n",
    "[v]한글 하나,영문 하나\n",
    "\n",
    "\n",
    "[]다시, 한글 영어 중복검사\n",
    "[]단어 순서 검사\n",
    "\n",
    "[]스페이스 제거하여 완전 사전?\n",
    "\n",
    "<용어>\n",
    "[]단어 개수 검사 (가A ID 생성 후 일치화)\n",
    "\n"
   ]
  },
  {
   "cell_type": "code",
   "execution_count": null,
   "id": "95dda939",
   "metadata": {},
   "outputs": [],
   "source": []
  },
  {
   "cell_type": "code",
   "execution_count": null,
   "id": "82f70957",
   "metadata": {},
   "outputs": [],
   "source": [
    "os.system(output_path + \"df_step_1_cor.xlsx\")"
   ]
  },
  {
   "cell_type": "code",
   "execution_count": null,
   "id": "4d646bd0",
   "metadata": {},
   "outputs": [],
   "source": [
    "stwd_kor"
   ]
  },
  {
   "cell_type": "code",
   "execution_count": null,
   "id": "5e484ed3",
   "metadata": {},
   "outputs": [],
   "source": [
    "            \n",
    "        # 한국어 점검\n",
    "        if len(re.findall('[^A-Z0-9가-힣+]', df_step_1_cor_tmp.loc[i, 'stwd_kor'])):\n",
    "            tmp_list_eng.append(i)\n",
    "        elif df_step_1_cor_tmp.loc[i, 'stwd_kor'] == '':\n",
    "            tmp_list_eng.append(i)\n",
    "        elif pd.isna(df_step_1_cor_tmp.loc[i, 'stwd_kor']):\n",
    "            tmp_list_eng.append(i)"
   ]
  },
  {
   "cell_type": "code",
   "execution_count": null,
   "id": "5dc2bc6b",
   "metadata": {},
   "outputs": [],
   "source": []
  },
  {
   "cell_type": "code",
   "execution_count": null,
   "id": "96407469",
   "metadata": {},
   "outputs": [],
   "source": [
    "def eng_blnk_chk():\n",
    "    global chk_eng\n",
    "    global df_step_1_cor_tmp\n",
    "    \n",
    "    # count 점검: 빈칸은 한개만 허용함\n",
    "    cnt_chk = sum(df_step_1_cor_tmp.loc[tmp_list, 'stwd_eng'] == '')\n",
    "    if cnt_chk == 1:\n",
    "        print(\"빈칸 허용치와 일치: \" + str(cnt_chk))\n",
    "        if sum(chk_eng.loc[chk_eng['eng_cor_yn'] == 'n', 'stwd_eng'] !=  '') == 0:\n",
    "            print('\"영문 수정 완료\"')\n",
    "        else:\n",
    "            print('추가 수정 필요')\n",
    "    elif cnt_chk < 1:\n",
    "        print(\"빈칸이 허용치보다 적음: \" + str(cnt_chk))\n",
    "    elif cnt_chk >= 2:\n",
    "        print(\"빈칸이 허용치보다 많음: \" + str(cnt_chk))"
   ]
  },
  {
   "cell_type": "code",
   "execution_count": null,
   "id": "6d06f9c0",
   "metadata": {},
   "outputs": [],
   "source": [
    "여기에 의존하면 안돼.."
   ]
  },
  {
   "cell_type": "code",
   "execution_count": null,
   "id": "8d4c8be8",
   "metadata": {},
   "outputs": [],
   "source": [
    "# '' == 1개, 'n' 중에서 ''가 하나도 없을 경우 작업 종료 \n",
    "condition_1 = sum(df_step_1_cor_tmp.loc[tmp_list, 'stwd_eng'] == '') == 1\n",
    "# condition_2 = sum(chk_eng.loc[chk_eng['eng_cor_yn'] == 'n', 'stwd_eng'] !=  '') == 0\n",
    "condition_2 = sum(chk_eng.loc[chk_eng['eng_cor_yn'] == 'n', 'stwd_eng'] == '') == 1\n",
    "if condition_1 and condition_2:\n",
    "    print(\"더 이상 진행할 수 없습니다.\")\n",
    "    os.system(output_path + \"chk_eng.xlsx\")\n",
    "    os.system(output_path + \"df_step_1_cor.xlsx\")\n",
    "else:\n",
    "    if yes_or_no(\"반복 점검하시겠습니까?\"):\n",
    "        repeat_eng()\n",
    "        eng_blnk_chk()\n",
    "    else:\n",
    "        os.system(output_path + \"chk_eng.xlsx\")"
   ]
  },
  {
   "cell_type": "code",
   "execution_count": null,
   "id": "4cd2503b",
   "metadata": {},
   "outputs": [],
   "source": [
    "df_step_1 = df_step_1_cor_tmp[df_step_1_cor_tmp['stwd_eng'].notna()]\n",
    "df_step_1 = df_step_1_cor_tmp[df_step_1_cor_tmp['stwd_eng'] != '']"
   ]
  },
  {
   "cell_type": "code",
   "execution_count": null,
   "id": "74169056",
   "metadata": {},
   "outputs": [],
   "source": [
    "# count 확인\n",
    "find_unique_eng(df_step_1)"
   ]
  },
  {
   "cell_type": "code",
   "execution_count": null,
   "id": "cc22e524",
   "metadata": {},
   "outputs": [],
   "source": []
  },
  {
   "cell_type": "code",
   "execution_count": null,
   "id": "3a19dc88",
   "metadata": {},
   "outputs": [],
   "source": []
  },
  {
   "cell_type": "code",
   "execution_count": null,
   "id": "c21b41ce",
   "metadata": {},
   "outputs": [],
   "source": []
  },
  {
   "cell_type": "code",
   "execution_count": null,
   "id": "8b3372b0",
   "metadata": {},
   "outputs": [],
   "source": [
    "# count 확인\n",
    "\n",
    "if sum(df_step_1_cor_tmp['stwd_eng'].str.contains('!', '_')) == 0:\n",
    "    print('영문명을 모두 수정하였습니다 !_수: '+ str(sum(df_step_1_cor_tmp['stwd_eng'].str.contains('!', '_'))))\n",
    "    print(df_step_1_cor_tmp.shape)\n",
    "else:\n",
    "    print('아직 수정하지 않은 영문명이 남아있습니다 !_수: '+ str(sum(df_step_1_cor_tmp['stwd_eng'].str.contains('!', '_'))))    \n",
    "    print(df_step_1_cor_tmp.shape)\n",
    "    \n",
    "# 두 카운트가 같아아 최종 표준화 점검 완료 1:1 대응\n",
    "if len(set(df_step_1['stwd_kor'])) == len(set(df_step_1['stwd_eng'])):\n",
    "    print('영문명과 한글명의 고유개수가 일치합니다')\n",
    "print(\"영문명: \" + str(len(set(df_step_1['stwd_eng']))))\n",
    "print(\"한글명: \" + str(len(set(df_step_1['stwd_kor']))))"
   ]
  },
  {
   "cell_type": "code",
   "execution_count": null,
   "id": "9b0e6094",
   "metadata": {},
   "outputs": [],
   "source": [
    "print('_'.join(stwd_total.loc[stwd_total['index'] == 1055, 'stwd_kor'].to_list()))\n",
    "stwd_total.loc[stwd_total['index'] == 1055, 'stwd_kor']"
   ]
  },
  {
   "cell_type": "code",
   "execution_count": null,
   "id": "924eee09",
   "metadata": {},
   "outputs": [],
   "source": [
    "df_step_1['stwd_kor'].isna()[i]"
   ]
  },
  {
   "cell_type": "code",
   "execution_count": null,
   "id": "5966aae6",
   "metadata": {},
   "outputs": [],
   "source": [
    "df_step_1.to_excel(output_path+\"chk_eng\" + \".xlsx\")"
   ]
  },
  {
   "cell_type": "code",
   "execution_count": null,
   "id": "3c99192b",
   "metadata": {},
   "outputs": [],
   "source": [
    "len(set(df_step_1['stwd_eng']))"
   ]
  },
  {
   "cell_type": "code",
   "execution_count": null,
   "id": "8d482952",
   "metadata": {},
   "outputs": [],
   "source": []
  },
  {
   "cell_type": "code",
   "execution_count": null,
   "id": "ac6f575a",
   "metadata": {},
   "outputs": [],
   "source": []
  },
  {
   "cell_type": "code",
   "execution_count": null,
   "id": "321f7799",
   "metadata": {},
   "outputs": [],
   "source": [
    "df_step_1"
   ]
  },
  {
   "cell_type": "code",
   "execution_count": null,
   "id": "9730439a",
   "metadata": {},
   "outputs": [],
   "source": [
    "index = [1055, 1056, 1057, 445, 432, 724, 878, 959, 1011, 934, 781, 454, 239]"
   ]
  },
  {
   "cell_type": "code",
   "execution_count": null,
   "id": "dd64caa7",
   "metadata": {},
   "outputs": [],
   "source": []
  },
  {
   "cell_type": "code",
   "execution_count": null,
   "id": "3c5e8ed2",
   "metadata": {},
   "outputs": [],
   "source": [
    "stwd_total.loc[(stwd_total['stwd_eng'] == 'NUM') & (stwd_total['stwd_kor'] != ''), 'stwd_kor'].values[0]"
   ]
  },
  {
   "cell_type": "code",
   "execution_count": null,
   "id": "a5720da1",
   "metadata": {},
   "outputs": [],
   "source": [
    "df_step_1.loc[(df_step_1['stwd_eng'] == 'NUM') & (df_step_1['stwd_kor'] != ''), 'stwd_kor'].values[0]"
   ]
  },
  {
   "cell_type": "code",
   "execution_count": null,
   "id": "6d1f415d",
   "metadata": {},
   "outputs": [],
   "source": [
    "# 널 제외 한글단어를 표준화된 풀데이터(df_step_1)를 다시검색하여 영문명 자동 기입 : 없는 것은 수동기입 필요\n",
    "for i in range(tmp_df_step_1.shape[0]):\n",
    "    isna_chk = tmp_df_step_1['stwd_kor'].isna()[i]\n",
    "    if isna_chk:\n",
    "#         tmp_df_step_1.loc[i, 'stwd_kor'] = stwd_total.loc[(stwd_total['stwd_eng'] == 'NUM') & (stwd_total['stwd_kor'] != ''), 'stwd_kor'].values[0]\n",
    "        tmp_df_step_1.loc[i, 'stwd_kor'] = df_step_1.loc[(df_step_1['stwd_eng'] == 'NUM') & (df_step_1['stwd_kor'] != ''), 'stwd_kor'].values[0]\n",
    "\n",
    "    \n",
    "# df_step_1_list = ['index', 'stwd_kor', 'num_kor', 'stwd_eng', 'num_eng']\n",
    "# tmp_df_step_1 = tmp_df_step_1[df_step_1_list]\n",
    "# print(tmp_df_step_1.shape)\n",
    "# tmp_df_step_1.head()\n",
    "std_chk_eng\n",
    "\n",
    "# 순서\n",
    "tmp_df_step_1 = tmp_df_step_1.sort_values(['stwd_eng'])\n",
    "tmp_df_step_1.to_excel(output_path+\"chk_eng\" + \".xlsx\")\n",
    "\n",
    "print(tmp_df_step_1.shape)\n",
    "tmp_df_step_1"
   ]
  },
  {
   "cell_type": "code",
   "execution_count": null,
   "id": "7dbcaa7e",
   "metadata": {},
   "outputs": [],
   "source": []
  },
  {
   "cell_type": "code",
   "execution_count": null,
   "id": "a534589c",
   "metadata": {},
   "outputs": [],
   "source": [
    "null_cnt = 0\n",
    "if null_cnt > 0:\n",
    "    print(\"빈칸이 있습니다\")\n",
    "### ㅅ수정 후 재업로드 하여 null count\n",
    "# ''개수가 1 이상일 경우 일경우 되묻지 않고 안내만\n",
    "# ''개수가 0일경우 되묻지 않고 안내만\n"
   ]
  },
  {
   "cell_type": "code",
   "execution_count": null,
   "id": "70488887",
   "metadata": {},
   "outputs": [],
   "source": [
    "stwd_total.loc[stwd_total['index'] == 781, 'stwd_kor'].values"
   ]
  },
  {
   "cell_type": "code",
   "execution_count": null,
   "id": "25421cfb",
   "metadata": {},
   "outputs": [],
   "source": [
    "index = [1055, 1056, 1057, 445, 432, 724, 878, 959, 1011, 934, 781, 454, 239]\n",
    "for i in range(len(index)):\n",
    "    a = stwd_total.loc[stwd_total['index'] == index[i], 'stwd_kor']\n",
    "    print(a)\n",
    "    \n",
    "a"
   ]
  },
  {
   "cell_type": "code",
   "execution_count": null,
   "id": "7b619df4",
   "metadata": {},
   "outputs": [],
   "source": []
  },
  {
   "cell_type": "code",
   "execution_count": null,
   "id": "55e21987",
   "metadata": {},
   "outputs": [],
   "source": [
    "df_step_1.loc[(df_step_1['stwd_eng'] == 'NUM') & (df_step_1['stwd_kor'] != ''), 'stwd_kor'].values[0]"
   ]
  },
  {
   "cell_type": "code",
   "execution_count": null,
   "id": "63021993",
   "metadata": {},
   "outputs": [],
   "source": [
    "stwd_total.loc[stwd_total['stwd_eng'] == 'HAKJUM', 'stwd_kor'].values[0]"
   ]
  },
  {
   "cell_type": "code",
   "execution_count": null,
   "id": "86f4e832",
   "metadata": {},
   "outputs": [],
   "source": []
  },
  {
   "cell_type": "code",
   "execution_count": null,
   "id": "09eb7ae7",
   "metadata": {},
   "outputs": [],
   "source": [
    "# 한국어가 null값이면 자동 영문명 자동 기입\n"
   ]
  },
  {
   "cell_type": "code",
   "execution_count": null,
   "id": "bbd4e944",
   "metadata": {},
   "outputs": [],
   "source": []
  },
  {
   "cell_type": "code",
   "execution_count": null,
   "id": "e4dfd702",
   "metadata": {},
   "outputs": [],
   "source": []
  },
  {
   "cell_type": "code",
   "execution_count": null,
   "id": "009256a1",
   "metadata": {},
   "outputs": [],
   "source": [
    "tmp_df_step_1"
   ]
  },
  {
   "cell_type": "code",
   "execution_count": null,
   "id": "1d99ae8f",
   "metadata": {},
   "outputs": [],
   "source": [
    "tmp_df_step_1"
   ]
  },
  {
   "cell_type": "code",
   "execution_count": null,
   "id": "461d83cf",
   "metadata": {},
   "outputs": [],
   "source": [
    "\n",
    "\n",
    "\n",
    "\n",
    "\n",
    "\n",
    "\n",
    "print(df_step_1.shape)\n",
    "df_step_1.head()"
   ]
  },
  {
   "cell_type": "code",
   "execution_count": null,
   "id": "ece7eadb",
   "metadata": {},
   "outputs": [],
   "source": [
    "std_chk"
   ]
  },
  {
   "cell_type": "code",
   "execution_count": null,
   "id": "d6540f0a",
   "metadata": {},
   "outputs": [],
   "source": [
    "std_chk"
   ]
  },
  {
   "cell_type": "code",
   "execution_count": null,
   "id": "64cf8e23",
   "metadata": {},
   "outputs": [],
   "source": [
    "\n",
    "\n",
    "\n",
    "a.to_excel(output_path + \"dfsfd.xlsx\")\n",
    "# dup_cnt_eng\n",
    "\n",
    "#     dupl_list_eng = input_split_eng[\"stwd_eng{}\".format(i)].to_list().count(input_split_eng[\"stwd_eng{}\".format(i)][j])\n",
    "#     globals()[\"dupl_list_eng{}\".format(i)].append(dupl_list_eng)\n",
    "\n",
    "        \n",
    "# for i in range(eng_firts_cnt):\n",
    "#     globals()[\"dupl_list_eng{}\".format(i)] = pd.concat([pd.DataFrame(globals()[\"dupl_list_eng{}\".format(i)])], axis = 0)\n",
    "#     globals()[\"dupl_list_eng{}\".format(i)].columns = [\"dupl_list_eng{}\".format(i)]"
   ]
  },
  {
   "cell_type": "code",
   "execution_count": null,
   "id": "aabf3c5e",
   "metadata": {},
   "outputs": [],
   "source": [
    "df_step_1['stwd_eng'].to_list().count(df_step_1.loc[0, 'stwd_eng'])"
   ]
  },
  {
   "cell_type": "code",
   "execution_count": null,
   "id": "ab38501d",
   "metadata": {},
   "outputs": [],
   "source": []
  },
  {
   "cell_type": "code",
   "execution_count": null,
   "id": "1f07c26e",
   "metadata": {},
   "outputs": [],
   "source": [
    "dupl_list_eng0['dupl_list_eng0'].to_list().count(1)"
   ]
  },
  {
   "cell_type": "code",
   "execution_count": null,
   "id": "0a3792d5",
   "metadata": {},
   "outputs": [],
   "source": [
    "tmp_df_step_1.shape[0]"
   ]
  },
  {
   "cell_type": "code",
   "execution_count": null,
   "id": "b5640142",
   "metadata": {},
   "outputs": [],
   "source": [
    "# 중복 지우기 위해\n"
   ]
  },
  {
   "cell_type": "code",
   "execution_count": null,
   "id": "336cd199",
   "metadata": {},
   "outputs": [],
   "source": [
    "# 널 채우기 위해\n",
    "tmp_df_step_1[stwd_kor]"
   ]
  },
  {
   "cell_type": "code",
   "execution_count": null,
   "id": "32475c11",
   "metadata": {},
   "outputs": [],
   "source": []
  },
  {
   "cell_type": "code",
   "execution_count": null,
   "id": "7f92563b",
   "metadata": {},
   "outputs": [],
   "source": [
    "df_step_1.shape"
   ]
  },
  {
   "cell_type": "code",
   "execution_count": null,
   "id": "8e2d03e6",
   "metadata": {},
   "outputs": [],
   "source": [
    "df_step_1.to_excel(input_path+\"111.xlsx\")\n",
    "std_chk.to_excel(input_path+\"112.xlsx\")"
   ]
  },
  {
   "cell_type": "code",
   "execution_count": null,
   "id": "f9e2c0e9",
   "metadata": {},
   "outputs": [],
   "source": [
    "# public_stwd_cnt =public_stwd.shape[0]\n",
    "# df_step_1_cnt = df_step_1.shape[0]\n",
    "\n",
    "# for i in range(df_step_1_cnt):\n",
    "#     for j in range(public_stwd_cnt):\n",
    "#         if df_step_1.iloc[i,1] == public_stwd.iloc[j,1]: #[i, 0]\n",
    "#             # 영문명 수정\n",
    "#             df_step_1.iloc[i,3] = public_stwd.iloc[j,2]\n",
    "#         else:\n",
    "#             a = 1\n",
    "# #             df_step_1.iloc[i,1] = \"그대로\"+df_step_1.iloc[i,1]"
   ]
  },
  {
   "cell_type": "code",
   "execution_count": null,
   "id": "99e9380e",
   "metadata": {},
   "outputs": [],
   "source": [
    "# 파일 저장 묻기\n",
    "# now = dt.datetime.now().strftime('%y%m%d_%H%M%S')    \n",
    "\n",
    "if yes_or_no('파일을 저장하시겠습니까?'):\n",
    "    file_name = 'stwd_total_manu1' + \"_\" + str(dt.datetime.now().strftime('%y%m%d_%H%M%S') + \".xlsx\")\n",
    "    print('[엑셀 파일을 생성하였습니다]: ' + file_name )\n",
    "else:\n",
    "    print('[검토한 후 다시 업로드 해주세요]')\n",
    "stwd_total.head()"
   ]
  }
 ],
 "metadata": {
  "kernelspec": {
   "display_name": "Python 3 (ipykernel)",
   "language": "python",
   "name": "python3"
  },
  "language_info": {
   "codemirror_mode": {
    "name": "ipython",
    "version": 3
   },
   "file_extension": ".py",
   "mimetype": "text/x-python",
   "name": "python",
   "nbconvert_exporter": "python",
   "pygments_lexer": "ipython3",
   "version": "3.9.12"
  }
 },
 "nbformat": 4,
 "nbformat_minor": 5
}
